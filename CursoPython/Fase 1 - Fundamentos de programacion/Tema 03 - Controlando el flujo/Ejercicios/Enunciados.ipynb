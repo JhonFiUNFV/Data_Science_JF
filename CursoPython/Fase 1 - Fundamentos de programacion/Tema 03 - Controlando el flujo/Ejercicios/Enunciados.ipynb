{
 "cells": [
  {
   "cell_type": "markdown",
   "metadata": {},
   "source": [
    "# Tema 03: Control de flujo (Enunciados)\n",
    "*Nota: Estos ejercicios son optativos para hacer al final de la unidad y están pensados para apoyar tu aprendizaje*."
   ]
  },
  {
   "cell_type": "markdown",
   "metadata": {},
   "source": [
    "**1) Realiza un programa que lea dos números por teclado y permita elegir entre 3 opciones en un menú:** \n",
    "* Mostrar una suma de los dos números\n",
    "* Mostrar una resta de los dos números (el primero menos el segundo)\n",
    "* Mostrar una multiplicación de los dos números\n",
    "* En caso de no introducir una opción válida, el programa informará de que no es correcta."
   ]
  },
  {
   "cell_type": "code",
   "execution_count": 1,
   "metadata": {},
   "outputs": [
    {
     "name": "stdout",
     "output_type": "stream",
     "text": [
      "Introduce el primer número: 12\n",
      "Introduce el segundo número: 6\n",
      "¿Qué quieres hacer? Escribe una opción \n",
      "    1) Sumar\n",
      "    2) Restar\n",
      "    3) Multiplicación\n",
      "    4) Salir\n",
      "1\n",
      "El resultado de la suma de 12 + 6 es: 18\n",
      "¿Qué quieres hacer? Escribe una opción \n",
      "    1) Sumar\n",
      "    2) Restar\n",
      "    3) Multiplicación\n",
      "    4) Salir\n",
      "2\n",
      "El resultado de la resta de 12 - 6 es: 6\n",
      "¿Qué quieres hacer? Escribe una opción \n",
      "    1) Sumar\n",
      "    2) Restar\n",
      "    3) Multiplicación\n",
      "    4) Salir\n",
      "3\n",
      "El resultado de la multiplicación de 12 x 6 es: 72\n",
      "¿Qué quieres hacer? Escribe una opción \n",
      "    1) Sumar\n",
      "    2) Restar\n",
      "    3) Multiplicación\n",
      "    4) Salir\n",
      "4\n",
      "Muchas gracias\n"
     ]
    }
   ],
   "source": [
    "# Completa el ejercicio aquí\n",
    "n1 = int(input(\"Introduce el primer número: \"))\n",
    "n2 = int(input(\"Introduce el segundo número: \"))\n",
    "while(True):\n",
    "    print(\"\"\"¿Qué quieres hacer? Escribe una opción \n",
    "    1) Sumar\n",
    "    2) Restar\n",
    "    3) Multiplicación\n",
    "    4) Salir\"\"\")\n",
    "    opcion = input()\n",
    "    if opcion == '1':\n",
    "        print(\"El resultado de la suma de\" ,n1, \"+\" ,n2, \"es:\", n1 + n2)\n",
    "    elif opcion == '2':\n",
    "        print(\"El resultado de la resta de\" ,n1, \"-\" ,n2, \"es:\", n1 - n2)\n",
    "    elif opcion == '3':\n",
    "        print(\"El resultado de la multiplicación de\" ,n1, \"x\" ,n2, \"es:\", n1 * n2)\n",
    "    elif opcion == '4':\n",
    "        print(\"Muchas gracias\")   \n",
    "        break\n",
    "    else:\n",
    "        print(\"Comando desconocido, vuelva a intentarlo\")"
   ]
  },
  {
   "cell_type": "markdown",
   "metadata": {},
   "source": [
    "**2) Realiza un programa que lea un número impar por teclado. Si el usuario no introduce un número impar, debe repetise el proceso hasta que lo introduzca correctamente.**"
   ]
  },
  {
   "cell_type": "code",
   "execution_count": 3,
   "metadata": {},
   "outputs": [
    {
     "name": "stdout",
     "output_type": "stream",
     "text": [
      "Introduce el numero impar: 2\n",
      "Introduce el numero impar: 3\n"
     ]
    }
   ],
   "source": [
    "# Completa el ejercicio aquí\n",
    "numero = 0\n",
    "while numero % 2  == 0:\n",
    "    numero = int(input(\"Introduce el numero impar: \"))"
   ]
  },
  {
   "cell_type": "markdown",
   "metadata": {},
   "source": [
    "**3) Realiza un programa que sume todos los números enteros pares desde el 0 hasta el 100:**\n",
    "\n",
    "*Sugerencia: Puedes utilizar la funciones sum() y range() para hacerlo más fácil. El tercer parámetro en la función range(inicio, fin, salto) indica un salto de números, pruébalo.*"
   ]
  },
  {
   "cell_type": "code",
   "execution_count": 9,
   "metadata": {},
   "outputs": [
    {
     "name": "stdout",
     "output_type": "stream",
     "text": [
      "1050\n"
     ]
    }
   ],
   "source": [
    "# Completa el ejercicio aquí\n",
    "num = 0\n",
    "suma = 0\n",
    "while num <= 100:\n",
    "    if num % 5  == 0 :\n",
    "        suma += num\n",
    "    num += 1\n",
    "print(suma)\n"
   ]
  },
  {
   "cell_type": "code",
   "execution_count": 13,
   "metadata": {},
   "outputs": [
    {
     "data": {
      "text/plain": [
       "2500"
      ]
     },
     "execution_count": 13,
     "metadata": {},
     "output_type": "execute_result"
    }
   ],
   "source": [
    "sum(range(1,101,2))"
   ]
  },
  {
   "cell_type": "code",
   "execution_count": 14,
   "metadata": {},
   "outputs": [
    {
     "data": {
      "text/plain": [
       "[1,\n",
       " 3,\n",
       " 5,\n",
       " 7,\n",
       " 9,\n",
       " 11,\n",
       " 13,\n",
       " 15,\n",
       " 17,\n",
       " 19,\n",
       " 21,\n",
       " 23,\n",
       " 25,\n",
       " 27,\n",
       " 29,\n",
       " 31,\n",
       " 33,\n",
       " 35,\n",
       " 37,\n",
       " 39,\n",
       " 41,\n",
       " 43,\n",
       " 45,\n",
       " 47,\n",
       " 49,\n",
       " 51,\n",
       " 53,\n",
       " 55,\n",
       " 57,\n",
       " 59,\n",
       " 61,\n",
       " 63,\n",
       " 65,\n",
       " 67,\n",
       " 69,\n",
       " 71,\n",
       " 73,\n",
       " 75,\n",
       " 77,\n",
       " 79,\n",
       " 81,\n",
       " 83,\n",
       " 85,\n",
       " 87,\n",
       " 89,\n",
       " 91,\n",
       " 93,\n",
       " 95,\n",
       " 97,\n",
       " 99]"
      ]
     },
     "execution_count": 14,
     "metadata": {},
     "output_type": "execute_result"
    }
   ],
   "source": [
    "list(range(1,101,2))"
   ]
  },
  {
   "cell_type": "markdown",
   "metadata": {},
   "source": [
    "**4) Realiza un programa que pida al usuario cuantos números quiere introducir. Luego lee todos los números y realiza una media aritmética:**\n"
   ]
  },
  {
   "cell_type": "code",
   "execution_count": 15,
   "metadata": {},
   "outputs": [
    {
     "name": "stdout",
     "output_type": "stream",
     "text": [
      "¿Cuantos números quieres intoducir? 3\n",
      "Introduce un número: 1\n",
      "Introduce un número: 2\n",
      "Introduce un número: 3\n",
      "Se han introducido 3 se suma 6.0 y la media 2.0\n"
     ]
    }
   ],
   "source": [
    "# Completa el ejercicio aquí\n",
    "repeticion = int(input(\"¿Cuantos números quieres intoducir? \"))\n",
    "suma = 0\n",
    "\n",
    "for r in range(repeticion):\n",
    "    suma += float(input(\"Introduce un número: \"))\n",
    "print(\"Se han introducido\", repeticion, \"se suma\", suma, \"y la media\", suma/repeticion)"
   ]
  },
  {
   "cell_type": "markdown",
   "metadata": {},
   "source": [
    "**5) Realiza un programa que pida al usuario un número entero del 0 al 9, y que mientras el número no sea correcto se repita el proceso. Luego debe comprobar si el número se encuentra en la lista de números y notificarlo:**\n",
    "\n",
    "*Consejo: La sintaxis \"valor in lista\" permite comprobar fácilmente si un valor se encuentra en una lista (devuelve True o False)*"
   ]
  },
  {
   "cell_type": "code",
   "execution_count": 17,
   "metadata": {},
   "outputs": [
    {
     "name": "stdout",
     "output_type": "stream",
     "text": [
      "Escribe un numero de 0 a 9: 10\n",
      "Escribe un numero de 0 a 9: 12\n",
      "Escribe un numero de 0 a 9: 2\n",
      "El numero 2 no se encuentra en la lista [1, 3, 6, 9]\n"
     ]
    }
   ],
   "source": [
    "# Completa el ejercicio aquí\n",
    "numeros = [1, 3, 6, 9]\n",
    "\n",
    "while True:\n",
    "    numero = int(input(\"Escribe un numero de 0 a 9: \"))\n",
    "    if numero >= 0 and numero <=9:\n",
    "        break\n",
    "if numero in numeros:\n",
    "    print(\"El numero\", numero, \"se encuentra en la lista\", numeros)\n",
    "else:\n",
    "    print(\"El numero\", numero, \"no se encuentra en la lista\", numeros)"
   ]
  },
  {
   "cell_type": "markdown",
   "metadata": {},
   "source": [
    "**6) Utilizando la función range() y la conversión a listas genera las siguientes listas dinámicamente:**\n",
    "* Todos los números del 0 al 10 [0, 1, 2, ..., 10]\n",
    "* Todos los números del -10 al 0 [-10, -9, -8, ..., 0]\n",
    "* Todos los números pares del 0 al 20 [0, 2, 4, ..., 20]\n",
    "* Todos los números impares entre -20 y 0 [-19, -17, -15, ..., -1]\n",
    "* Todos los números múltiples de 5 del 0 al 50 [0, 5, 10, ..., 50]\n",
    "\n",
    "*Pista: Utiliza el tercer parámetro de la función range(inicio, fin, salto).*"
   ]
  },
  {
   "cell_type": "code",
   "execution_count": 20,
   "metadata": {},
   "outputs": [
    {
     "name": "stdout",
     "output_type": "stream",
     "text": [
      "Introduce el primero: -10\n",
      "Introduce el segundo: 0\n",
      "cuanto en cuanto: 1\n"
     ]
    },
    {
     "data": {
      "text/plain": [
       "[-10, -9, -8, -7, -6, -5, -4, -3, -2, -1, 0]"
      ]
     },
     "execution_count": 20,
     "metadata": {},
     "output_type": "execute_result"
    }
   ],
   "source": [
    "# Completa el ejercicio\n",
    "a = int(input(\"Introduce el primero: \"))\n",
    "b = int(input(\"Introduce el segundo: \"))\n",
    "c = int(input(\"cuanto en cuanto: \"))\n",
    "list(range(a,b+1,c))"
   ]
  },
  {
   "cell_type": "markdown",
   "metadata": {},
   "source": [
    "**7) Dadas dos listas, debes generar una tercera con todos los elementos que se repitan en ellas, pero no debe repetise ningún elemento en la nueva lista:**"
   ]
  },
  {
   "cell_type": "code",
   "execution_count": 21,
   "metadata": {},
   "outputs": [
    {
     "name": "stdout",
     "output_type": "stream",
     "text": [
      "['h', 'o', 'l', 'a', ' ', 'u', 'n']\n"
     ]
    }
   ],
   "source": [
    "# Completa el ejercicio aquí\n",
    "lista_1 = [\"h\",'o','l','a',' ', 'm','u','n','d','o']\n",
    "lista_2 = [\"h\",'o','l','a',' ', 'l','u','n','a']\n",
    "\n",
    "lista_3 = []\n",
    "\n",
    "for letra in lista_1:\n",
    "    if letra in lista_2 and letra not in lista_3:\n",
    "        lista_3.append(letra)\n",
    "\n",
    "print(lista_3)"
   ]
  }
 ],
 "metadata": {
  "anaconda-cloud": {},
  "kernelspec": {
   "display_name": "Python 3",
   "language": "python",
   "name": "python3"
  },
  "language_info": {
   "codemirror_mode": {
    "name": "ipython",
    "version": 3
   },
   "file_extension": ".py",
   "mimetype": "text/x-python",
   "name": "python",
   "nbconvert_exporter": "python",
   "pygments_lexer": "ipython3",
   "version": "3.7.3"
  }
 },
 "nbformat": 4,
 "nbformat_minor": 1
}
