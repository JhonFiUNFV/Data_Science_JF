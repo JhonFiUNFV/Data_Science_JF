{
 "cells": [
  {
   "cell_type": "markdown",
   "id": "386dcb57",
   "metadata": {},
   "source": [
    "# Método K-means"
   ]
  },
  {
   "cell_type": "code",
   "execution_count": 2,
   "id": "8e8f36b5",
   "metadata": {},
   "outputs": [],
   "source": [
    "import numpy as np"
   ]
  },
  {
   "cell_type": "code",
   "execution_count": 3,
   "id": "4b9f927b",
   "metadata": {},
   "outputs": [
    {
     "data": {
      "text/plain": [
       "array([[0.63934265, 0.10380953, 0.15624001],\n",
       "       [0.72206973, 0.98360224, 0.75511776],\n",
       "       [0.12475379, 0.33843645, 0.29584029],\n",
       "       [0.69704418, 0.35221643, 0.76584084],\n",
       "       [0.66717128, 0.05719224, 0.3397617 ],\n",
       "       [0.70826986, 0.0905674 , 0.20040256],\n",
       "       [0.19067169, 0.22909311, 0.96819628],\n",
       "       [0.86525945, 0.50251953, 0.77865784],\n",
       "       [0.61813536, 0.04590004, 0.80818176],\n",
       "       [0.58162125, 0.35888036, 0.20626558],\n",
       "       [0.11860728, 0.09702462, 0.73975901],\n",
       "       [0.11152728, 0.5393985 , 0.33283158],\n",
       "       [0.97831203, 0.5644253 , 0.21736224],\n",
       "       [0.88469251, 0.9350174 , 0.08738095],\n",
       "       [0.47534979, 0.45450088, 0.71518283],\n",
       "       [0.14198432, 0.39097901, 0.2660271 ],\n",
       "       [0.38156478, 0.84374341, 0.64521058],\n",
       "       [0.75453411, 0.11914266, 0.5798797 ],\n",
       "       [0.32008058, 0.38158179, 0.18140683],\n",
       "       [0.80522251, 0.90320756, 0.40422162],\n",
       "       [0.70033323, 0.10024004, 0.96915664],\n",
       "       [0.51456021, 0.94981261, 0.90639016],\n",
       "       [0.96252098, 0.67891924, 0.01480806],\n",
       "       [0.37549023, 0.54787144, 0.3265828 ],\n",
       "       [0.74004292, 0.5188994 , 0.60369815],\n",
       "       [0.21821072, 0.53375236, 0.52240874],\n",
       "       [0.35173707, 0.6564868 , 0.47164413],\n",
       "       [0.65637816, 0.42658451, 0.35082863],\n",
       "       [0.51089482, 0.43109826, 0.78723063],\n",
       "       [0.62688745, 0.41186947, 0.7598377 ]])"
      ]
     },
     "execution_count": 3,
     "metadata": {},
     "output_type": "execute_result"
    }
   ],
   "source": [
    "data = np.random.random(90).reshape(30,3)\n",
    "data"
   ]
  },
  {
   "cell_type": "code",
   "execution_count": 7,
   "id": "35fe7855",
   "metadata": {},
   "outputs": [
    {
     "data": {
      "text/plain": [
       "array([[0.86525945, 0.50251953, 0.77865784],\n",
       "       [0.88469251, 0.9350174 , 0.08738095]])"
      ]
     },
     "execution_count": 7,
     "metadata": {},
     "output_type": "execute_result"
    }
   ],
   "source": [
    "c1 = np.random.choice(range(len(data)))\n",
    "c2 = np.random.choice(range(len(data)))\n",
    "clust_centers = np.vstack([data[c1], data[c2]])\n",
    "clust_centers"
   ]
  },
  {
   "cell_type": "code",
   "execution_count": 8,
   "id": "3cadb687",
   "metadata": {},
   "outputs": [],
   "source": [
    "from scipy.cluster.vq import vq"
   ]
  },
  {
   "cell_type": "code",
   "execution_count": 9,
   "id": "a0693cc2",
   "metadata": {},
   "outputs": [
    {
     "data": {
      "text/plain": [
       "(array([0, 0, 0, 0, 0, 0, 0, 0, 0, 0, 0, 0, 1, 1, 0, 0, 0, 0, 1, 1, 0, 0,\n",
       "        1, 0, 0, 0, 0, 0, 0, 0]),\n",
       " array([0.77292433, 0.5024918 , 0.89910215, 0.22594618, 0.655885  ,\n",
       "        0.72713785, 0.75216718, 0.        , 0.52004166, 0.65476387,\n",
       "        0.85054612, 0.87648919, 0.40373042, 0.        , 0.39795026,\n",
       "        0.89350908, 0.60679687, 0.44581462, 0.79618997, 0.32820017,\n",
       "        0.47467804, 0.58256039, 0.27732718, 0.66805877, 0.21577389,\n",
       "        0.69664277, 0.61779331, 0.48211549, 0.36159201, 0.25572024]))"
      ]
     },
     "execution_count": 9,
     "metadata": {},
     "output_type": "execute_result"
    }
   ],
   "source": [
    "vq(data, clust_centers)"
   ]
  },
  {
   "cell_type": "code",
   "execution_count": 10,
   "id": "63f13363",
   "metadata": {},
   "outputs": [],
   "source": [
    "from scipy.cluster.vq import kmeans"
   ]
  },
  {
   "cell_type": "code",
   "execution_count": 11,
   "id": "5c35c555",
   "metadata": {},
   "outputs": [
    {
     "data": {
      "text/plain": [
       "(array([[0.4836181 , 0.37926403, 0.54709848],\n",
       "        [0.87056355, 0.81303435, 0.29577813]]),\n",
       " 0.38520838727055434)"
      ]
     },
     "execution_count": 11,
     "metadata": {},
     "output_type": "execute_result"
    }
   ],
   "source": [
    "kmeans(data, clust_centers)"
   ]
  },
  {
   "cell_type": "code",
   "execution_count": 12,
   "id": "9e042abb",
   "metadata": {},
   "outputs": [
    {
     "data": {
      "text/plain": [
       "(array([[0.56542536, 0.43140448, 0.77016714],\n",
       "        [0.5329572 , 0.46919437, 0.2733758 ]]),\n",
       " 0.36297666497006176)"
      ]
     },
     "execution_count": 12,
     "metadata": {},
     "output_type": "execute_result"
    }
   ],
   "source": [
    "kmeans(data, 2)"
   ]
  },
  {
   "cell_type": "code",
   "execution_count": null,
   "id": "0db9ec6f",
   "metadata": {},
   "outputs": [],
   "source": []
  },
  {
   "cell_type": "code",
   "execution_count": null,
   "id": "bf18733d",
   "metadata": {},
   "outputs": [],
   "source": []
  },
  {
   "cell_type": "code",
   "execution_count": null,
   "id": "6bcad4d1",
   "metadata": {},
   "outputs": [],
   "source": []
  },
  {
   "cell_type": "code",
   "execution_count": null,
   "id": "988618da",
   "metadata": {},
   "outputs": [],
   "source": []
  },
  {
   "cell_type": "code",
   "execution_count": null,
   "id": "7aa06c9e",
   "metadata": {},
   "outputs": [],
   "source": []
  },
  {
   "cell_type": "code",
   "execution_count": null,
   "id": "f62ccd47",
   "metadata": {},
   "outputs": [],
   "source": []
  },
  {
   "cell_type": "code",
   "execution_count": null,
   "id": "39bdd9c3",
   "metadata": {},
   "outputs": [],
   "source": []
  },
  {
   "cell_type": "code",
   "execution_count": null,
   "id": "639084d5",
   "metadata": {},
   "outputs": [],
   "source": []
  },
  {
   "cell_type": "code",
   "execution_count": null,
   "id": "bbdd38ea",
   "metadata": {},
   "outputs": [],
   "source": []
  },
  {
   "cell_type": "code",
   "execution_count": null,
   "id": "994dd19c",
   "metadata": {},
   "outputs": [],
   "source": []
  },
  {
   "cell_type": "code",
   "execution_count": null,
   "id": "22e88e7e",
   "metadata": {},
   "outputs": [],
   "source": []
  },
  {
   "cell_type": "code",
   "execution_count": null,
   "id": "1728e479",
   "metadata": {},
   "outputs": [],
   "source": []
  },
  {
   "cell_type": "code",
   "execution_count": null,
   "id": "43304314",
   "metadata": {},
   "outputs": [],
   "source": []
  },
  {
   "cell_type": "code",
   "execution_count": null,
   "id": "768429fc",
   "metadata": {},
   "outputs": [],
   "source": []
  },
  {
   "cell_type": "code",
   "execution_count": null,
   "id": "d1332d02",
   "metadata": {},
   "outputs": [],
   "source": []
  },
  {
   "cell_type": "code",
   "execution_count": null,
   "id": "ba7d9980",
   "metadata": {},
   "outputs": [],
   "source": []
  },
  {
   "cell_type": "code",
   "execution_count": null,
   "id": "0a97a926",
   "metadata": {},
   "outputs": [],
   "source": []
  },
  {
   "cell_type": "code",
   "execution_count": null,
   "id": "0c686f14",
   "metadata": {},
   "outputs": [],
   "source": []
  },
  {
   "cell_type": "code",
   "execution_count": null,
   "id": "41ea73b4",
   "metadata": {},
   "outputs": [],
   "source": []
  },
  {
   "cell_type": "code",
   "execution_count": null,
   "id": "feedd0f0",
   "metadata": {},
   "outputs": [],
   "source": []
  },
  {
   "cell_type": "code",
   "execution_count": null,
   "id": "dbe047c4",
   "metadata": {},
   "outputs": [],
   "source": []
  },
  {
   "cell_type": "code",
   "execution_count": null,
   "id": "b34fa36f",
   "metadata": {},
   "outputs": [],
   "source": []
  },
  {
   "cell_type": "code",
   "execution_count": null,
   "id": "402ca194",
   "metadata": {},
   "outputs": [],
   "source": []
  },
  {
   "cell_type": "code",
   "execution_count": null,
   "id": "12755ceb",
   "metadata": {},
   "outputs": [],
   "source": []
  },
  {
   "cell_type": "code",
   "execution_count": null,
   "id": "62158a88",
   "metadata": {},
   "outputs": [],
   "source": []
  }
 ],
 "metadata": {
  "kernelspec": {
   "display_name": "Python 3",
   "language": "python",
   "name": "python3"
  },
  "language_info": {
   "codemirror_mode": {
    "name": "ipython",
    "version": 3
   },
   "file_extension": ".py",
   "mimetype": "text/x-python",
   "name": "python",
   "nbconvert_exporter": "python",
   "pygments_lexer": "ipython3",
   "version": "3.8.8"
  }
 },
 "nbformat": 4,
 "nbformat_minor": 5
}
