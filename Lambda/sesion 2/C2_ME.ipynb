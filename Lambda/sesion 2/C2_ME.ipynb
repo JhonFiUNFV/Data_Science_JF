{
 "cells": [
  {
   "cell_type": "markdown",
   "metadata": {},
   "source": [
    "# Clase 2: Notebook"
   ]
  },
  {
   "cell_type": "markdown",
   "metadata": {},
   "source": [
    "### Subir bases de datos"
   ]
  },
  {
   "cell_type": "code",
   "execution_count": 3,
   "metadata": {},
   "outputs": [],
   "source": [
    "# \\---> /\n",
    "ruta = \"C:/Users/Jhon/OneDrive - Universidad Nacional Federico Villareal/PHYTON/Lambda/sesion 1/\""
   ]
  },
  {
   "cell_type": "code",
   "execution_count": 5,
   "metadata": {},
   "outputs": [],
   "source": [
    "# subir un csv\n",
    "# Paquetes.modulos.submodulos.métodos()\n",
    "# método = función"
   ]
  },
  {
   "cell_type": "code",
   "execution_count": 4,
   "metadata": {},
   "outputs": [],
   "source": [
    "import pandas as pd"
   ]
  },
  {
   "cell_type": "code",
   "execution_count": 6,
   "metadata": {},
   "outputs": [
    {
     "name": "stdout",
     "output_type": "stream",
     "text": [
      "Help on function read_csv in module pandas.io.parsers:\n",
      "\n",
      "read_csv(filepath_or_buffer: Union[str, pathlib.Path, IO[~AnyStr]], sep=',', delimiter=None, header='infer', names=None, index_col=None, usecols=None, squeeze=False, prefix=None, mangle_dupe_cols=True, dtype=None, engine=None, converters=None, true_values=None, false_values=None, skipinitialspace=False, skiprows=None, skipfooter=0, nrows=None, na_values=None, keep_default_na=True, na_filter=True, verbose=False, skip_blank_lines=True, parse_dates=False, infer_datetime_format=False, keep_date_col=False, date_parser=None, dayfirst=False, cache_dates=True, iterator=False, chunksize=None, compression='infer', thousands=None, decimal: str = '.', lineterminator=None, quotechar='\"', quoting=0, doublequote=True, escapechar=None, comment=None, encoding=None, dialect=None, error_bad_lines=True, warn_bad_lines=True, delim_whitespace=False, low_memory=True, memory_map=False, float_precision=None)\n",
      "    Read a comma-separated values (csv) file into DataFrame.\n",
      "    \n",
      "    Also supports optionally iterating or breaking of the file\n",
      "    into chunks.\n",
      "    \n",
      "    Additional help can be found in the online docs for\n",
      "    `IO Tools <https://pandas.pydata.org/pandas-docs/stable/user_guide/io.html>`_.\n",
      "    \n",
      "    Parameters\n",
      "    ----------\n",
      "    filepath_or_buffer : str, path object or file-like object\n",
      "        Any valid string path is acceptable. The string could be a URL. Valid\n",
      "        URL schemes include http, ftp, s3, and file. For file URLs, a host is\n",
      "        expected. A local file could be: file://localhost/path/to/table.csv.\n",
      "    \n",
      "        If you want to pass in a path object, pandas accepts any ``os.PathLike``.\n",
      "    \n",
      "        By file-like object, we refer to objects with a ``read()`` method, such as\n",
      "        a file handler (e.g. via builtin ``open`` function) or ``StringIO``.\n",
      "    sep : str, default ','\n",
      "        Delimiter to use. If sep is None, the C engine cannot automatically detect\n",
      "        the separator, but the Python parsing engine can, meaning the latter will\n",
      "        be used and automatically detect the separator by Python's builtin sniffer\n",
      "        tool, ``csv.Sniffer``. In addition, separators longer than 1 character and\n",
      "        different from ``'\\s+'`` will be interpreted as regular expressions and\n",
      "        will also force the use of the Python parsing engine. Note that regex\n",
      "        delimiters are prone to ignoring quoted data. Regex example: ``'\\r\\t'``.\n",
      "    delimiter : str, default ``None``\n",
      "        Alias for sep.\n",
      "    header : int, list of int, default 'infer'\n",
      "        Row number(s) to use as the column names, and the start of the\n",
      "        data.  Default behavior is to infer the column names: if no names\n",
      "        are passed the behavior is identical to ``header=0`` and column\n",
      "        names are inferred from the first line of the file, if column\n",
      "        names are passed explicitly then the behavior is identical to\n",
      "        ``header=None``. Explicitly pass ``header=0`` to be able to\n",
      "        replace existing names. The header can be a list of integers that\n",
      "        specify row locations for a multi-index on the columns\n",
      "        e.g. [0,1,3]. Intervening rows that are not specified will be\n",
      "        skipped (e.g. 2 in this example is skipped). Note that this\n",
      "        parameter ignores commented lines and empty lines if\n",
      "        ``skip_blank_lines=True``, so ``header=0`` denotes the first line of\n",
      "        data rather than the first line of the file.\n",
      "    names : array-like, optional\n",
      "        List of column names to use. If the file contains a header row,\n",
      "        then you should explicitly pass ``header=0`` to override the column names.\n",
      "        Duplicates in this list are not allowed.\n",
      "    index_col : int, str, sequence of int / str, or False, default ``None``\n",
      "      Column(s) to use as the row labels of the ``DataFrame``, either given as\n",
      "      string name or column index. If a sequence of int / str is given, a\n",
      "      MultiIndex is used.\n",
      "    \n",
      "      Note: ``index_col=False`` can be used to force pandas to *not* use the first\n",
      "      column as the index, e.g. when you have a malformed file with delimiters at\n",
      "      the end of each line.\n",
      "    usecols : list-like or callable, optional\n",
      "        Return a subset of the columns. If list-like, all elements must either\n",
      "        be positional (i.e. integer indices into the document columns) or strings\n",
      "        that correspond to column names provided either by the user in `names` or\n",
      "        inferred from the document header row(s). For example, a valid list-like\n",
      "        `usecols` parameter would be ``[0, 1, 2]`` or ``['foo', 'bar', 'baz']``.\n",
      "        Element order is ignored, so ``usecols=[0, 1]`` is the same as ``[1, 0]``.\n",
      "        To instantiate a DataFrame from ``data`` with element order preserved use\n",
      "        ``pd.read_csv(data, usecols=['foo', 'bar'])[['foo', 'bar']]`` for columns\n",
      "        in ``['foo', 'bar']`` order or\n",
      "        ``pd.read_csv(data, usecols=['foo', 'bar'])[['bar', 'foo']]``\n",
      "        for ``['bar', 'foo']`` order.\n",
      "    \n",
      "        If callable, the callable function will be evaluated against the column\n",
      "        names, returning names where the callable function evaluates to True. An\n",
      "        example of a valid callable argument would be ``lambda x: x.upper() in\n",
      "        ['AAA', 'BBB', 'DDD']``. Using this parameter results in much faster\n",
      "        parsing time and lower memory usage.\n",
      "    squeeze : bool, default False\n",
      "        If the parsed data only contains one column then return a Series.\n",
      "    prefix : str, optional\n",
      "        Prefix to add to column numbers when no header, e.g. 'X' for X0, X1, ...\n",
      "    mangle_dupe_cols : bool, default True\n",
      "        Duplicate columns will be specified as 'X', 'X.1', ...'X.N', rather than\n",
      "        'X'...'X'. Passing in False will cause data to be overwritten if there\n",
      "        are duplicate names in the columns.\n",
      "    dtype : Type name or dict of column -> type, optional\n",
      "        Data type for data or columns. E.g. {'a': np.float64, 'b': np.int32,\n",
      "        'c': 'Int64'}\n",
      "        Use `str` or `object` together with suitable `na_values` settings\n",
      "        to preserve and not interpret dtype.\n",
      "        If converters are specified, they will be applied INSTEAD\n",
      "        of dtype conversion.\n",
      "    engine : {'c', 'python'}, optional\n",
      "        Parser engine to use. The C engine is faster while the python engine is\n",
      "        currently more feature-complete.\n",
      "    converters : dict, optional\n",
      "        Dict of functions for converting values in certain columns. Keys can either\n",
      "        be integers or column labels.\n",
      "    true_values : list, optional\n",
      "        Values to consider as True.\n",
      "    false_values : list, optional\n",
      "        Values to consider as False.\n",
      "    skipinitialspace : bool, default False\n",
      "        Skip spaces after delimiter.\n",
      "    skiprows : list-like, int or callable, optional\n",
      "        Line numbers to skip (0-indexed) or number of lines to skip (int)\n",
      "        at the start of the file.\n",
      "    \n",
      "        If callable, the callable function will be evaluated against the row\n",
      "        indices, returning True if the row should be skipped and False otherwise.\n",
      "        An example of a valid callable argument would be ``lambda x: x in [0, 2]``.\n",
      "    skipfooter : int, default 0\n",
      "        Number of lines at bottom of file to skip (Unsupported with engine='c').\n",
      "    nrows : int, optional\n",
      "        Number of rows of file to read. Useful for reading pieces of large files.\n",
      "    na_values : scalar, str, list-like, or dict, optional\n",
      "        Additional strings to recognize as NA/NaN. If dict passed, specific\n",
      "        per-column NA values.  By default the following values are interpreted as\n",
      "        NaN: '', '#N/A', '#N/A N/A', '#NA', '-1.#IND', '-1.#QNAN', '-NaN', '-nan',\n",
      "        '1.#IND', '1.#QNAN', '<NA>', 'N/A', 'NA', 'NULL', 'NaN', 'n/a',\n",
      "        'nan', 'null'.\n",
      "    keep_default_na : bool, default True\n",
      "        Whether or not to include the default NaN values when parsing the data.\n",
      "        Depending on whether `na_values` is passed in, the behavior is as follows:\n",
      "    \n",
      "        * If `keep_default_na` is True, and `na_values` are specified, `na_values`\n",
      "          is appended to the default NaN values used for parsing.\n",
      "        * If `keep_default_na` is True, and `na_values` are not specified, only\n",
      "          the default NaN values are used for parsing.\n",
      "        * If `keep_default_na` is False, and `na_values` are specified, only\n",
      "          the NaN values specified `na_values` are used for parsing.\n",
      "        * If `keep_default_na` is False, and `na_values` are not specified, no\n",
      "          strings will be parsed as NaN.\n",
      "    \n",
      "        Note that if `na_filter` is passed in as False, the `keep_default_na` and\n",
      "        `na_values` parameters will be ignored.\n",
      "    na_filter : bool, default True\n",
      "        Detect missing value markers (empty strings and the value of na_values). In\n",
      "        data without any NAs, passing na_filter=False can improve the performance\n",
      "        of reading a large file.\n",
      "    verbose : bool, default False\n",
      "        Indicate number of NA values placed in non-numeric columns.\n",
      "    skip_blank_lines : bool, default True\n",
      "        If True, skip over blank lines rather than interpreting as NaN values.\n",
      "    parse_dates : bool or list of int or names or list of lists or dict, default False\n",
      "        The behavior is as follows:\n",
      "    \n",
      "        * boolean. If True -> try parsing the index.\n",
      "        * list of int or names. e.g. If [1, 2, 3] -> try parsing columns 1, 2, 3\n",
      "          each as a separate date column.\n",
      "        * list of lists. e.g.  If [[1, 3]] -> combine columns 1 and 3 and parse as\n",
      "          a single date column.\n",
      "        * dict, e.g. {'foo' : [1, 3]} -> parse columns 1, 3 as date and call\n",
      "          result 'foo'\n",
      "    \n",
      "        If a column or index cannot be represented as an array of datetimes,\n",
      "        say because of an unparseable value or a mixture of timezones, the column\n",
      "        or index will be returned unaltered as an object data type. For\n",
      "        non-standard datetime parsing, use ``pd.to_datetime`` after\n",
      "        ``pd.read_csv``. To parse an index or column with a mixture of timezones,\n",
      "        specify ``date_parser`` to be a partially-applied\n",
      "        :func:`pandas.to_datetime` with ``utc=True``. See\n",
      "        :ref:`io.csv.mixed_timezones` for more.\n",
      "    \n",
      "        Note: A fast-path exists for iso8601-formatted dates.\n",
      "    infer_datetime_format : bool, default False\n",
      "        If True and `parse_dates` is enabled, pandas will attempt to infer the\n",
      "        format of the datetime strings in the columns, and if it can be inferred,\n",
      "        switch to a faster method of parsing them. In some cases this can increase\n",
      "        the parsing speed by 5-10x.\n",
      "    keep_date_col : bool, default False\n",
      "        If True and `parse_dates` specifies combining multiple columns then\n",
      "        keep the original columns.\n",
      "    date_parser : function, optional\n",
      "        Function to use for converting a sequence of string columns to an array of\n",
      "        datetime instances. The default uses ``dateutil.parser.parser`` to do the\n",
      "        conversion. Pandas will try to call `date_parser` in three different ways,\n",
      "        advancing to the next if an exception occurs: 1) Pass one or more arrays\n",
      "        (as defined by `parse_dates`) as arguments; 2) concatenate (row-wise) the\n",
      "        string values from the columns defined by `parse_dates` into a single array\n",
      "        and pass that; and 3) call `date_parser` once for each row using one or\n",
      "        more strings (corresponding to the columns defined by `parse_dates`) as\n",
      "        arguments.\n",
      "    dayfirst : bool, default False\n",
      "        DD/MM format dates, international and European format.\n",
      "    cache_dates : bool, default True\n",
      "        If True, use a cache of unique, converted dates to apply the datetime\n",
      "        conversion. May produce significant speed-up when parsing duplicate\n",
      "        date strings, especially ones with timezone offsets.\n",
      "    \n",
      "        .. versionadded:: 0.25.0\n",
      "    iterator : bool, default False\n",
      "        Return TextFileReader object for iteration or getting chunks with\n",
      "        ``get_chunk()``.\n",
      "    chunksize : int, optional\n",
      "        Return TextFileReader object for iteration.\n",
      "        See the `IO Tools docs\n",
      "        <https://pandas.pydata.org/pandas-docs/stable/io.html#io-chunking>`_\n",
      "        for more information on ``iterator`` and ``chunksize``.\n",
      "    compression : {'infer', 'gzip', 'bz2', 'zip', 'xz', None}, default 'infer'\n",
      "        For on-the-fly decompression of on-disk data. If 'infer' and\n",
      "        `filepath_or_buffer` is path-like, then detect compression from the\n",
      "        following extensions: '.gz', '.bz2', '.zip', or '.xz' (otherwise no\n",
      "        decompression). If using 'zip', the ZIP file must contain only one data\n",
      "        file to be read in. Set to None for no decompression.\n",
      "    thousands : str, optional\n",
      "        Thousands separator.\n",
      "    decimal : str, default '.'\n",
      "        Character to recognize as decimal point (e.g. use ',' for European data).\n",
      "    lineterminator : str (length 1), optional\n",
      "        Character to break file into lines. Only valid with C parser.\n",
      "    quotechar : str (length 1), optional\n",
      "        The character used to denote the start and end of a quoted item. Quoted\n",
      "        items can include the delimiter and it will be ignored.\n",
      "    quoting : int or csv.QUOTE_* instance, default 0\n",
      "        Control field quoting behavior per ``csv.QUOTE_*`` constants. Use one of\n",
      "        QUOTE_MINIMAL (0), QUOTE_ALL (1), QUOTE_NONNUMERIC (2) or QUOTE_NONE (3).\n",
      "    doublequote : bool, default ``True``\n",
      "       When quotechar is specified and quoting is not ``QUOTE_NONE``, indicate\n",
      "       whether or not to interpret two consecutive quotechar elements INSIDE a\n",
      "       field as a single ``quotechar`` element.\n",
      "    escapechar : str (length 1), optional\n",
      "        One-character string used to escape other characters.\n",
      "    comment : str, optional\n",
      "        Indicates remainder of line should not be parsed. If found at the beginning\n",
      "        of a line, the line will be ignored altogether. This parameter must be a\n",
      "        single character. Like empty lines (as long as ``skip_blank_lines=True``),\n",
      "        fully commented lines are ignored by the parameter `header` but not by\n",
      "        `skiprows`. For example, if ``comment='#'``, parsing\n",
      "        ``#empty\\na,b,c\\n1,2,3`` with ``header=0`` will result in 'a,b,c' being\n",
      "        treated as the header.\n",
      "    encoding : str, optional\n",
      "        Encoding to use for UTF when reading/writing (ex. 'utf-8'). `List of Python\n",
      "        standard encodings\n",
      "        <https://docs.python.org/3/library/codecs.html#standard-encodings>`_ .\n",
      "    dialect : str or csv.Dialect, optional\n",
      "        If provided, this parameter will override values (default or not) for the\n",
      "        following parameters: `delimiter`, `doublequote`, `escapechar`,\n",
      "        `skipinitialspace`, `quotechar`, and `quoting`. If it is necessary to\n",
      "        override values, a ParserWarning will be issued. See csv.Dialect\n",
      "        documentation for more details.\n",
      "    error_bad_lines : bool, default True\n",
      "        Lines with too many fields (e.g. a csv line with too many commas) will by\n",
      "        default cause an exception to be raised, and no DataFrame will be returned.\n",
      "        If False, then these \"bad lines\" will dropped from the DataFrame that is\n",
      "        returned.\n",
      "    warn_bad_lines : bool, default True\n",
      "        If error_bad_lines is False, and warn_bad_lines is True, a warning for each\n",
      "        \"bad line\" will be output.\n",
      "    delim_whitespace : bool, default False\n",
      "        Specifies whether or not whitespace (e.g. ``' '`` or ``'    '``) will be\n",
      "        used as the sep. Equivalent to setting ``sep='\\s+'``. If this option\n",
      "        is set to True, nothing should be passed in for the ``delimiter``\n",
      "        parameter.\n",
      "    low_memory : bool, default True\n",
      "        Internally process the file in chunks, resulting in lower memory use\n",
      "        while parsing, but possibly mixed type inference.  To ensure no mixed\n",
      "        types either set False, or specify the type with the `dtype` parameter.\n",
      "        Note that the entire file is read into a single DataFrame regardless,\n",
      "        use the `chunksize` or `iterator` parameter to return the data in chunks.\n",
      "        (Only valid with C parser).\n",
      "    memory_map : bool, default False\n",
      "        If a filepath is provided for `filepath_or_buffer`, map the file object\n",
      "        directly onto memory and access the data directly from there. Using this\n",
      "        option can improve performance because there is no longer any I/O overhead.\n",
      "    float_precision : str, optional\n",
      "        Specifies which converter the C engine should use for floating-point\n",
      "        values. The options are `None` for the ordinary converter,\n",
      "        `high` for the high-precision converter, and `round_trip` for the\n",
      "        round-trip converter.\n",
      "    \n",
      "    Returns\n",
      "    -------\n",
      "    DataFrame or TextParser\n",
      "        A comma-separated values (csv) file is returned as two-dimensional\n",
      "        data structure with labeled axes.\n",
      "    \n",
      "    See Also\n",
      "    --------\n",
      "    to_csv : Write DataFrame to a comma-separated values (csv) file.\n",
      "    read_csv : Read a comma-separated values (csv) file into DataFrame.\n",
      "    read_fwf : Read a table of fixed-width formatted lines into DataFrame.\n",
      "    \n",
      "    Examples\n",
      "    --------\n",
      "    >>> pd.read_csv('data.csv')  # doctest: +SKIP\n",
      "\n"
     ]
    }
   ],
   "source": [
    "help(pd.read_csv)"
   ]
  },
  {
   "cell_type": "code",
   "execution_count": 7,
   "metadata": {},
   "outputs": [
    {
     "data": {
      "text/html": [
       "<div>\n",
       "<style scoped>\n",
       "    .dataframe tbody tr th:only-of-type {\n",
       "        vertical-align: middle;\n",
       "    }\n",
       "\n",
       "    .dataframe tbody tr th {\n",
       "        vertical-align: top;\n",
       "    }\n",
       "\n",
       "    .dataframe thead th {\n",
       "        text-align: right;\n",
       "    }\n",
       "</style>\n",
       "<table border=\"1\" class=\"dataframe\">\n",
       "  <thead>\n",
       "    <tr style=\"text-align: right;\">\n",
       "      <th></th>\n",
       "      <th>Date</th>\n",
       "      <th>Open</th>\n",
       "      <th>High</th>\n",
       "      <th>Low</th>\n",
       "      <th>Close</th>\n",
       "      <th>Adj Close</th>\n",
       "      <th>Volume</th>\n",
       "    </tr>\n",
       "  </thead>\n",
       "  <tbody>\n",
       "    <tr>\n",
       "      <th>0</th>\n",
       "      <td>2007-12-31</td>\n",
       "      <td>28.500000</td>\n",
       "      <td>28.642857</td>\n",
       "      <td>28.250000</td>\n",
       "      <td>28.297142</td>\n",
       "      <td>25.366503</td>\n",
       "      <td>134833300</td>\n",
       "    </tr>\n",
       "    <tr>\n",
       "      <th>1</th>\n",
       "      <td>2008-01-02</td>\n",
       "      <td>28.467142</td>\n",
       "      <td>28.608572</td>\n",
       "      <td>27.507143</td>\n",
       "      <td>27.834286</td>\n",
       "      <td>24.951582</td>\n",
       "      <td>269794700</td>\n",
       "    </tr>\n",
       "    <tr>\n",
       "      <th>2</th>\n",
       "      <td>2008-01-03</td>\n",
       "      <td>27.915714</td>\n",
       "      <td>28.198572</td>\n",
       "      <td>27.527143</td>\n",
       "      <td>27.847143</td>\n",
       "      <td>24.963108</td>\n",
       "      <td>210516600</td>\n",
       "    </tr>\n",
       "    <tr>\n",
       "      <th>3</th>\n",
       "      <td>2008-01-04</td>\n",
       "      <td>27.350000</td>\n",
       "      <td>27.571428</td>\n",
       "      <td>25.555714</td>\n",
       "      <td>25.721428</td>\n",
       "      <td>23.057547</td>\n",
       "      <td>363958000</td>\n",
       "    </tr>\n",
       "    <tr>\n",
       "      <th>4</th>\n",
       "      <td>2008-01-07</td>\n",
       "      <td>25.892857</td>\n",
       "      <td>26.228571</td>\n",
       "      <td>24.318571</td>\n",
       "      <td>25.377142</td>\n",
       "      <td>22.748917</td>\n",
       "      <td>518048300</td>\n",
       "    </tr>\n",
       "    <tr>\n",
       "      <th>...</th>\n",
       "      <td>...</td>\n",
       "      <td>...</td>\n",
       "      <td>...</td>\n",
       "      <td>...</td>\n",
       "      <td>...</td>\n",
       "      <td>...</td>\n",
       "      <td>...</td>\n",
       "    </tr>\n",
       "    <tr>\n",
       "      <th>2514</th>\n",
       "      <td>2017-12-22</td>\n",
       "      <td>174.679993</td>\n",
       "      <td>175.419998</td>\n",
       "      <td>174.500000</td>\n",
       "      <td>175.009995</td>\n",
       "      <td>175.009995</td>\n",
       "      <td>16349400</td>\n",
       "    </tr>\n",
       "    <tr>\n",
       "      <th>2515</th>\n",
       "      <td>2017-12-26</td>\n",
       "      <td>170.800003</td>\n",
       "      <td>171.470001</td>\n",
       "      <td>169.679993</td>\n",
       "      <td>170.570007</td>\n",
       "      <td>170.570007</td>\n",
       "      <td>33185500</td>\n",
       "    </tr>\n",
       "    <tr>\n",
       "      <th>2516</th>\n",
       "      <td>2017-12-27</td>\n",
       "      <td>170.100006</td>\n",
       "      <td>170.779999</td>\n",
       "      <td>169.710007</td>\n",
       "      <td>170.600006</td>\n",
       "      <td>170.600006</td>\n",
       "      <td>21498200</td>\n",
       "    </tr>\n",
       "    <tr>\n",
       "      <th>2517</th>\n",
       "      <td>2017-12-28</td>\n",
       "      <td>171.000000</td>\n",
       "      <td>171.850006</td>\n",
       "      <td>170.479996</td>\n",
       "      <td>171.080002</td>\n",
       "      <td>171.080002</td>\n",
       "      <td>16480200</td>\n",
       "    </tr>\n",
       "    <tr>\n",
       "      <th>2518</th>\n",
       "      <td>2017-12-29</td>\n",
       "      <td>170.520004</td>\n",
       "      <td>170.589996</td>\n",
       "      <td>169.220001</td>\n",
       "      <td>169.229996</td>\n",
       "      <td>169.229996</td>\n",
       "      <td>25999900</td>\n",
       "    </tr>\n",
       "  </tbody>\n",
       "</table>\n",
       "<p>2519 rows × 7 columns</p>\n",
       "</div>"
      ],
      "text/plain": [
       "            Date        Open        High         Low       Close   Adj Close  \\\n",
       "0     2007-12-31   28.500000   28.642857   28.250000   28.297142   25.366503   \n",
       "1     2008-01-02   28.467142   28.608572   27.507143   27.834286   24.951582   \n",
       "2     2008-01-03   27.915714   28.198572   27.527143   27.847143   24.963108   \n",
       "3     2008-01-04   27.350000   27.571428   25.555714   25.721428   23.057547   \n",
       "4     2008-01-07   25.892857   26.228571   24.318571   25.377142   22.748917   \n",
       "...          ...         ...         ...         ...         ...         ...   \n",
       "2514  2017-12-22  174.679993  175.419998  174.500000  175.009995  175.009995   \n",
       "2515  2017-12-26  170.800003  171.470001  169.679993  170.570007  170.570007   \n",
       "2516  2017-12-27  170.100006  170.779999  169.710007  170.600006  170.600006   \n",
       "2517  2017-12-28  171.000000  171.850006  170.479996  171.080002  171.080002   \n",
       "2518  2017-12-29  170.520004  170.589996  169.220001  169.229996  169.229996   \n",
       "\n",
       "         Volume  \n",
       "0     134833300  \n",
       "1     269794700  \n",
       "2     210516600  \n",
       "3     363958000  \n",
       "4     518048300  \n",
       "...         ...  \n",
       "2514   16349400  \n",
       "2515   33185500  \n",
       "2516   21498200  \n",
       "2517   16480200  \n",
       "2518   25999900  \n",
       "\n",
       "[2519 rows x 7 columns]"
      ]
     },
     "execution_count": 7,
     "metadata": {},
     "output_type": "execute_result"
    }
   ],
   "source": [
    "aapl = pd.read_csv(ruta + \"AAPL.csv\"); aapl"
   ]
  },
  {
   "cell_type": "code",
   "execution_count": 9,
   "metadata": {},
   "outputs": [
    {
     "data": {
      "text/html": [
       "<div>\n",
       "<style scoped>\n",
       "    .dataframe tbody tr th:only-of-type {\n",
       "        vertical-align: middle;\n",
       "    }\n",
       "\n",
       "    .dataframe tbody tr th {\n",
       "        vertical-align: top;\n",
       "    }\n",
       "\n",
       "    .dataframe thead th {\n",
       "        text-align: right;\n",
       "    }\n",
       "</style>\n",
       "<table border=\"1\" class=\"dataframe\">\n",
       "  <thead>\n",
       "    <tr style=\"text-align: right;\">\n",
       "      <th></th>\n",
       "      <th>aÑo</th>\n",
       "      <th>mes</th>\n",
       "      <th>nconglome</th>\n",
       "      <th>conglome</th>\n",
       "      <th>vivienda</th>\n",
       "      <th>hogar</th>\n",
       "      <th>ubigeo</th>\n",
       "      <th>dominio</th>\n",
       "      <th>estrato</th>\n",
       "      <th>percepho</th>\n",
       "      <th>...</th>\n",
       "      <th>gashog24</th>\n",
       "      <th>gashog26</th>\n",
       "      <th>gashog25</th>\n",
       "      <th>gashog2d</th>\n",
       "      <th>estrsocial</th>\n",
       "      <th>ld</th>\n",
       "      <th>linpe</th>\n",
       "      <th>linea</th>\n",
       "      <th>pobreza</th>\n",
       "      <th>factor07</th>\n",
       "    </tr>\n",
       "  </thead>\n",
       "  <tbody>\n",
       "    <tr>\n",
       "      <th>0</th>\n",
       "      <td>2019</td>\n",
       "      <td>01</td>\n",
       "      <td>007076</td>\n",
       "      <td>005009</td>\n",
       "      <td>041</td>\n",
       "      <td>11</td>\n",
       "      <td>010101</td>\n",
       "      <td>sierra norte</td>\n",
       "      <td>de 20,000 a 49,999 habitantes</td>\n",
       "      <td>2</td>\n",
       "      <td>...</td>\n",
       "      <td>22231.878906</td>\n",
       "      <td>23015.384766</td>\n",
       "      <td>23149.517578</td>\n",
       "      <td>22366.013672</td>\n",
       "      <td>e</td>\n",
       "      <td>0.815806</td>\n",
       "      <td>171.688263</td>\n",
       "      <td>302.621338</td>\n",
       "      <td>no pobre</td>\n",
       "      <td>94.218208</td>\n",
       "    </tr>\n",
       "    <tr>\n",
       "      <th>1</th>\n",
       "      <td>2019</td>\n",
       "      <td>01</td>\n",
       "      <td>007076</td>\n",
       "      <td>005009</td>\n",
       "      <td>056</td>\n",
       "      <td>11</td>\n",
       "      <td>010101</td>\n",
       "      <td>sierra norte</td>\n",
       "      <td>de 20,000 a 49,999 habitantes</td>\n",
       "      <td>3</td>\n",
       "      <td>...</td>\n",
       "      <td>15891.502930</td>\n",
       "      <td>16446.982422</td>\n",
       "      <td>16698.673828</td>\n",
       "      <td>16102.574219</td>\n",
       "      <td>e</td>\n",
       "      <td>0.815806</td>\n",
       "      <td>171.688263</td>\n",
       "      <td>302.621338</td>\n",
       "      <td>no pobre</td>\n",
       "      <td>94.218208</td>\n",
       "    </tr>\n",
       "    <tr>\n",
       "      <th>2</th>\n",
       "      <td>2019</td>\n",
       "      <td>01</td>\n",
       "      <td>007076</td>\n",
       "      <td>005009</td>\n",
       "      <td>084</td>\n",
       "      <td>11</td>\n",
       "      <td>010101</td>\n",
       "      <td>sierra norte</td>\n",
       "      <td>de 20,000 a 49,999 habitantes</td>\n",
       "      <td>1</td>\n",
       "      <td>...</td>\n",
       "      <td>16096.603516</td>\n",
       "      <td>16096.603516</td>\n",
       "      <td>16407.246094</td>\n",
       "      <td>16407.246094</td>\n",
       "      <td>e</td>\n",
       "      <td>0.815806</td>\n",
       "      <td>171.688263</td>\n",
       "      <td>302.621338</td>\n",
       "      <td>no pobre</td>\n",
       "      <td>94.218208</td>\n",
       "    </tr>\n",
       "    <tr>\n",
       "      <th>3</th>\n",
       "      <td>2019</td>\n",
       "      <td>01</td>\n",
       "      <td>007076</td>\n",
       "      <td>005009</td>\n",
       "      <td>098</td>\n",
       "      <td>11</td>\n",
       "      <td>010101</td>\n",
       "      <td>sierra norte</td>\n",
       "      <td>de 20,000 a 49,999 habitantes</td>\n",
       "      <td>3</td>\n",
       "      <td>...</td>\n",
       "      <td>23300.148438</td>\n",
       "      <td>23588.042969</td>\n",
       "      <td>23652.033203</td>\n",
       "      <td>23364.138672</td>\n",
       "      <td>e</td>\n",
       "      <td>0.815806</td>\n",
       "      <td>171.688263</td>\n",
       "      <td>302.621338</td>\n",
       "      <td>no pobre</td>\n",
       "      <td>94.218208</td>\n",
       "    </tr>\n",
       "    <tr>\n",
       "      <th>4</th>\n",
       "      <td>2019</td>\n",
       "      <td>01</td>\n",
       "      <td>007089</td>\n",
       "      <td>005015</td>\n",
       "      <td>018</td>\n",
       "      <td>11</td>\n",
       "      <td>010101</td>\n",
       "      <td>sierra norte</td>\n",
       "      <td>de 20,000 a 49,999 habitantes</td>\n",
       "      <td>3</td>\n",
       "      <td>...</td>\n",
       "      <td>44742.539062</td>\n",
       "      <td>44951.917969</td>\n",
       "      <td>45412.714844</td>\n",
       "      <td>45203.335938</td>\n",
       "      <td>d</td>\n",
       "      <td>0.815806</td>\n",
       "      <td>171.688263</td>\n",
       "      <td>302.621338</td>\n",
       "      <td>no pobre</td>\n",
       "      <td>71.583305</td>\n",
       "    </tr>\n",
       "    <tr>\n",
       "      <th>...</th>\n",
       "      <td>...</td>\n",
       "      <td>...</td>\n",
       "      <td>...</td>\n",
       "      <td>...</td>\n",
       "      <td>...</td>\n",
       "      <td>...</td>\n",
       "      <td>...</td>\n",
       "      <td>...</td>\n",
       "      <td>...</td>\n",
       "      <td>...</td>\n",
       "      <td>...</td>\n",
       "      <td>...</td>\n",
       "      <td>...</td>\n",
       "      <td>...</td>\n",
       "      <td>...</td>\n",
       "      <td>...</td>\n",
       "      <td>...</td>\n",
       "      <td>...</td>\n",
       "      <td>...</td>\n",
       "      <td>...</td>\n",
       "      <td>...</td>\n",
       "    </tr>\n",
       "    <tr>\n",
       "      <th>34560</th>\n",
       "      <td>2019</td>\n",
       "      <td>12</td>\n",
       "      <td>043948</td>\n",
       "      <td>011350</td>\n",
       "      <td>022</td>\n",
       "      <td>11</td>\n",
       "      <td>180101</td>\n",
       "      <td>costa sur</td>\n",
       "      <td>de 50,000 a 99,999 habitantes</td>\n",
       "      <td>2</td>\n",
       "      <td>...</td>\n",
       "      <td>36245.558594</td>\n",
       "      <td>36245.558594</td>\n",
       "      <td>37693.914062</td>\n",
       "      <td>37693.914062</td>\n",
       "      <td>e</td>\n",
       "      <td>0.854033</td>\n",
       "      <td>174.192673</td>\n",
       "      <td>345.210449</td>\n",
       "      <td>no pobre</td>\n",
       "      <td>80.257660</td>\n",
       "    </tr>\n",
       "    <tr>\n",
       "      <th>34561</th>\n",
       "      <td>2019</td>\n",
       "      <td>12</td>\n",
       "      <td>043948</td>\n",
       "      <td>011350</td>\n",
       "      <td>059</td>\n",
       "      <td>11</td>\n",
       "      <td>180101</td>\n",
       "      <td>costa sur</td>\n",
       "      <td>de 50,000 a 99,999 habitantes</td>\n",
       "      <td>2</td>\n",
       "      <td>...</td>\n",
       "      <td>23393.140625</td>\n",
       "      <td>22892.896484</td>\n",
       "      <td>23570.281250</td>\n",
       "      <td>23070.037109</td>\n",
       "      <td>e</td>\n",
       "      <td>0.854033</td>\n",
       "      <td>174.192673</td>\n",
       "      <td>345.210449</td>\n",
       "      <td>no pobre</td>\n",
       "      <td>80.257660</td>\n",
       "    </tr>\n",
       "    <tr>\n",
       "      <th>34562</th>\n",
       "      <td>2019</td>\n",
       "      <td>12</td>\n",
       "      <td>043948</td>\n",
       "      <td>011350</td>\n",
       "      <td>078</td>\n",
       "      <td>11</td>\n",
       "      <td>180101</td>\n",
       "      <td>costa sur</td>\n",
       "      <td>de 50,000 a 99,999 habitantes</td>\n",
       "      <td>1</td>\n",
       "      <td>...</td>\n",
       "      <td>17501.556641</td>\n",
       "      <td>19399.974609</td>\n",
       "      <td>19563.822266</td>\n",
       "      <td>17665.404297</td>\n",
       "      <td>e</td>\n",
       "      <td>0.854033</td>\n",
       "      <td>174.192673</td>\n",
       "      <td>345.210449</td>\n",
       "      <td>no pobre</td>\n",
       "      <td>80.257660</td>\n",
       "    </tr>\n",
       "    <tr>\n",
       "      <th>34563</th>\n",
       "      <td>2019</td>\n",
       "      <td>12</td>\n",
       "      <td>043948</td>\n",
       "      <td>011350</td>\n",
       "      <td>097</td>\n",
       "      <td>11</td>\n",
       "      <td>180101</td>\n",
       "      <td>costa sur</td>\n",
       "      <td>de 50,000 a 99,999 habitantes</td>\n",
       "      <td>1</td>\n",
       "      <td>...</td>\n",
       "      <td>19168.097656</td>\n",
       "      <td>19168.097656</td>\n",
       "      <td>19194.562500</td>\n",
       "      <td>19194.562500</td>\n",
       "      <td>e</td>\n",
       "      <td>0.854033</td>\n",
       "      <td>174.192673</td>\n",
       "      <td>345.210449</td>\n",
       "      <td>pobre no extremo</td>\n",
       "      <td>80.257660</td>\n",
       "    </tr>\n",
       "    <tr>\n",
       "      <th>34564</th>\n",
       "      <td>2019</td>\n",
       "      <td>12</td>\n",
       "      <td>043948</td>\n",
       "      <td>011350</td>\n",
       "      <td>116</td>\n",
       "      <td>11</td>\n",
       "      <td>180101</td>\n",
       "      <td>costa sur</td>\n",
       "      <td>de 50,000 a 99,999 habitantes</td>\n",
       "      <td>2</td>\n",
       "      <td>...</td>\n",
       "      <td>20189.916016</td>\n",
       "      <td>20189.916016</td>\n",
       "      <td>20285.361328</td>\n",
       "      <td>20285.361328</td>\n",
       "      <td>e</td>\n",
       "      <td>0.854033</td>\n",
       "      <td>174.192673</td>\n",
       "      <td>345.210449</td>\n",
       "      <td>no pobre</td>\n",
       "      <td>80.257660</td>\n",
       "    </tr>\n",
       "  </tbody>\n",
       "</table>\n",
       "<p>34565 rows × 158 columns</p>\n",
       "</div>"
      ],
      "text/plain": [
       "        aÑo mes nconglome conglome vivienda hogar  ubigeo       dominio  \\\n",
       "0      2019  01    007076   005009      041    11  010101  sierra norte   \n",
       "1      2019  01    007076   005009      056    11  010101  sierra norte   \n",
       "2      2019  01    007076   005009      084    11  010101  sierra norte   \n",
       "3      2019  01    007076   005009      098    11  010101  sierra norte   \n",
       "4      2019  01    007089   005015      018    11  010101  sierra norte   \n",
       "...     ...  ..       ...      ...      ...   ...     ...           ...   \n",
       "34560  2019  12    043948   011350      022    11  180101     costa sur   \n",
       "34561  2019  12    043948   011350      059    11  180101     costa sur   \n",
       "34562  2019  12    043948   011350      078    11  180101     costa sur   \n",
       "34563  2019  12    043948   011350      097    11  180101     costa sur   \n",
       "34564  2019  12    043948   011350      116    11  180101     costa sur   \n",
       "\n",
       "                             estrato  percepho  ...      gashog24  \\\n",
       "0      de 20,000 a 49,999 habitantes         2  ...  22231.878906   \n",
       "1      de 20,000 a 49,999 habitantes         3  ...  15891.502930   \n",
       "2      de 20,000 a 49,999 habitantes         1  ...  16096.603516   \n",
       "3      de 20,000 a 49,999 habitantes         3  ...  23300.148438   \n",
       "4      de 20,000 a 49,999 habitantes         3  ...  44742.539062   \n",
       "...                              ...       ...  ...           ...   \n",
       "34560  de 50,000 a 99,999 habitantes         2  ...  36245.558594   \n",
       "34561  de 50,000 a 99,999 habitantes         2  ...  23393.140625   \n",
       "34562  de 50,000 a 99,999 habitantes         1  ...  17501.556641   \n",
       "34563  de 50,000 a 99,999 habitantes         1  ...  19168.097656   \n",
       "34564  de 50,000 a 99,999 habitantes         2  ...  20189.916016   \n",
       "\n",
       "           gashog26      gashog25      gashog2d  estrsocial        ld  \\\n",
       "0      23015.384766  23149.517578  22366.013672           e  0.815806   \n",
       "1      16446.982422  16698.673828  16102.574219           e  0.815806   \n",
       "2      16096.603516  16407.246094  16407.246094           e  0.815806   \n",
       "3      23588.042969  23652.033203  23364.138672           e  0.815806   \n",
       "4      44951.917969  45412.714844  45203.335938           d  0.815806   \n",
       "...             ...           ...           ...         ...       ...   \n",
       "34560  36245.558594  37693.914062  37693.914062           e  0.854033   \n",
       "34561  22892.896484  23570.281250  23070.037109           e  0.854033   \n",
       "34562  19399.974609  19563.822266  17665.404297           e  0.854033   \n",
       "34563  19168.097656  19194.562500  19194.562500           e  0.854033   \n",
       "34564  20189.916016  20285.361328  20285.361328           e  0.854033   \n",
       "\n",
       "            linpe       linea           pobreza   factor07  \n",
       "0      171.688263  302.621338          no pobre  94.218208  \n",
       "1      171.688263  302.621338          no pobre  94.218208  \n",
       "2      171.688263  302.621338          no pobre  94.218208  \n",
       "3      171.688263  302.621338          no pobre  94.218208  \n",
       "4      171.688263  302.621338          no pobre  71.583305  \n",
       "...           ...         ...               ...        ...  \n",
       "34560  174.192673  345.210449          no pobre  80.257660  \n",
       "34561  174.192673  345.210449          no pobre  80.257660  \n",
       "34562  174.192673  345.210449          no pobre  80.257660  \n",
       "34563  174.192673  345.210449  pobre no extremo  80.257660  \n",
       "34564  174.192673  345.210449          no pobre  80.257660  \n",
       "\n",
       "[34565 rows x 158 columns]"
      ]
     },
     "execution_count": 9,
     "metadata": {},
     "output_type": "execute_result"
    }
   ],
   "source": [
    "sumaria = pd.read_stata(ruta + \"687-Modulo34/sumaria-2019.dta\")\n",
    "sumaria"
   ]
  },
  {
   "cell_type": "code",
   "execution_count": 10,
   "metadata": {},
   "outputs": [
    {
     "data": {
      "text/html": [
       "<div>\n",
       "<style scoped>\n",
       "    .dataframe tbody tr th:only-of-type {\n",
       "        vertical-align: middle;\n",
       "    }\n",
       "\n",
       "    .dataframe tbody tr th {\n",
       "        vertical-align: top;\n",
       "    }\n",
       "\n",
       "    .dataframe thead th {\n",
       "        text-align: right;\n",
       "    }\n",
       "</style>\n",
       "<table border=\"1\" class=\"dataframe\">\n",
       "  <thead>\n",
       "    <tr style=\"text-align: right;\">\n",
       "      <th></th>\n",
       "      <th>id</th>\n",
       "      <th>Name</th>\n",
       "      <th>Email</th>\n",
       "      <th>Major</th>\n",
       "      <th>year</th>\n",
       "    </tr>\n",
       "  </thead>\n",
       "  <tbody>\n",
       "    <tr>\n",
       "      <th>0</th>\n",
       "      <td>1044</td>\n",
       "      <td>Fran Morton</td>\n",
       "      <td>fran.m@quama.edu</td>\n",
       "      <td>Statistics</td>\n",
       "      <td>2015</td>\n",
       "    </tr>\n",
       "    <tr>\n",
       "      <th>1</th>\n",
       "      <td>1035</td>\n",
       "      <td>Kato Mullins</td>\n",
       "      <td>tempor@giat.com</td>\n",
       "      <td>Marketing</td>\n",
       "      <td>2014</td>\n",
       "    </tr>\n",
       "    <tr>\n",
       "      <th>2</th>\n",
       "      <td>1046</td>\n",
       "      <td>Jordan Keller</td>\n",
       "      <td>Cum@gmail.com</td>\n",
       "      <td>Chemistry</td>\n",
       "      <td>2014</td>\n",
       "    </tr>\n",
       "    <tr>\n",
       "      <th>3</th>\n",
       "      <td>1084</td>\n",
       "      <td>Macey Simpson</td>\n",
       "      <td>eu@famesacturpis.com</td>\n",
       "      <td>Finance</td>\n",
       "      <td>2016</td>\n",
       "    </tr>\n",
       "    <tr>\n",
       "      <th>4</th>\n",
       "      <td>1010</td>\n",
       "      <td>Deanna Ortega</td>\n",
       "      <td>Dea.Ortega@velit.ca</td>\n",
       "      <td>Chemistry</td>\n",
       "      <td>2016</td>\n",
       "    </tr>\n",
       "    <tr>\n",
       "      <th>5</th>\n",
       "      <td>1096</td>\n",
       "      <td>Joe Eaton</td>\n",
       "      <td>je@euismod.org</td>\n",
       "      <td>MIS</td>\n",
       "      <td>2014</td>\n",
       "    </tr>\n",
       "    <tr>\n",
       "      <th>6</th>\n",
       "      <td>1051</td>\n",
       "      <td>Yoko Washington</td>\n",
       "      <td>yoko@yahoo.co.uk</td>\n",
       "      <td>Marketing</td>\n",
       "      <td>2017</td>\n",
       "    </tr>\n",
       "    <tr>\n",
       "      <th>7</th>\n",
       "      <td>1074</td>\n",
       "      <td>Ebony Farrell</td>\n",
       "      <td>efarrella@gravid.com</td>\n",
       "      <td>Chemistry</td>\n",
       "      <td>2017</td>\n",
       "    </tr>\n",
       "    <tr>\n",
       "      <th>8</th>\n",
       "      <td>1034</td>\n",
       "      <td>Quinn Delacruz</td>\n",
       "      <td>Delacruz@shu.edu</td>\n",
       "      <td>Marketing</td>\n",
       "      <td>2017</td>\n",
       "    </tr>\n",
       "    <tr>\n",
       "      <th>9</th>\n",
       "      <td>1028</td>\n",
       "      <td>Magee Humphrey</td>\n",
       "      <td>mageehump@gmail.com</td>\n",
       "      <td>Physics</td>\n",
       "      <td>2016</td>\n",
       "    </tr>\n",
       "    <tr>\n",
       "      <th>10</th>\n",
       "      <td>1003</td>\n",
       "      <td>Kaitlin Cooper</td>\n",
       "      <td>kcooper@hotmail.com</td>\n",
       "      <td>Accounting</td>\n",
       "      <td>2014</td>\n",
       "    </tr>\n",
       "    <tr>\n",
       "      <th>11</th>\n",
       "      <td>1021</td>\n",
       "      <td>Carson Roy</td>\n",
       "      <td>croy@yahoo.com</td>\n",
       "      <td>History</td>\n",
       "      <td>2017</td>\n",
       "    </tr>\n",
       "  </tbody>\n",
       "</table>\n",
       "</div>"
      ],
      "text/plain": [
       "      id             Name                 Email       Major  year\n",
       "0   1044      Fran Morton      fran.m@quama.edu  Statistics  2015\n",
       "1   1035     Kato Mullins       tempor@giat.com   Marketing  2014\n",
       "2   1046    Jordan Keller         Cum@gmail.com   Chemistry  2014\n",
       "3   1084    Macey Simpson  eu@famesacturpis.com     Finance  2016\n",
       "4   1010    Deanna Ortega   Dea.Ortega@velit.ca   Chemistry  2016\n",
       "5   1096        Joe Eaton        je@euismod.org         MIS  2014\n",
       "6   1051  Yoko Washington      yoko@yahoo.co.uk   Marketing  2017\n",
       "7   1074    Ebony Farrell  efarrella@gravid.com   Chemistry  2017\n",
       "8   1034   Quinn Delacruz      Delacruz@shu.edu   Marketing  2017\n",
       "9   1028   Magee Humphrey   mageehump@gmail.com     Physics  2016\n",
       "10  1003   Kaitlin Cooper   kcooper@hotmail.com  Accounting  2014\n",
       "11  1021       Carson Roy        croy@yahoo.com     History  2017"
      ]
     },
     "execution_count": 10,
     "metadata": {},
     "output_type": "execute_result"
    }
   ],
   "source": [
    "students = pd.read_json(ruta + \"students.json\")\n",
    "students"
   ]
  },
  {
   "cell_type": "code",
   "execution_count": 11,
   "metadata": {},
   "outputs": [],
   "source": [
    "url = \"https://estadisticas.bcrp.gob.pe/estadisticas/series/diarias/resultados/PD04719XD/html\""
   ]
  },
  {
   "cell_type": "code",
   "execution_count": 15,
   "metadata": {},
   "outputs": [
    {
     "data": {
      "text/plain": [
       "[                                                   0  \\\n",
       " 0  Consulta de SeriesPor CategoríaPor FrecuenciaP...   \n",
       " \n",
       "                                                    1  \n",
       " 0  Desde:  Hasta:  Bonos del Tesoro EE.UU. - 10 a...  ,\n",
       "         Fecha  \\\n",
       " 0     14Ene97   \n",
       " 1     15Ene97   \n",
       " 2     16Ene97   \n",
       " 3     17Ene97   \n",
       " 4     20Ene97   \n",
       " ...       ...   \n",
       " 6248  25Dic20   \n",
       " 6249  28Dic20   \n",
       " 6250  29Dic20   \n",
       " 6251  30Dic20   \n",
       " 6252  31Dic20   \n",
       " \n",
       "      Tasas de interés internacionales - Bonos del Tesoro EE.UU. - 10 años (%)  \n",
       " 0                                                   6.5                        \n",
       " 1                                                   6.5                        \n",
       " 2                                                   6.6                        \n",
       " 3                                                   6.5                        \n",
       " 4                                                   6.5                        \n",
       " ...                                                 ...                        \n",
       " 6248                                               n.d.                        \n",
       " 6249                                                0.9                        \n",
       " 6250                                                0.9                        \n",
       " 6251                                                0.9                        \n",
       " 6252                                                0.9                        \n",
       " \n",
       " [6253 rows x 2 columns]]"
      ]
     },
     "execution_count": 15,
     "metadata": {},
     "output_type": "execute_result"
    }
   ],
   "source": [
    "tbond10y = pd.read_html(url)\n",
    "tbond10y"
   ]
  },
  {
   "cell_type": "code",
   "execution_count": 16,
   "metadata": {},
   "outputs": [
    {
     "data": {
      "text/html": [
       "<div>\n",
       "<style scoped>\n",
       "    .dataframe tbody tr th:only-of-type {\n",
       "        vertical-align: middle;\n",
       "    }\n",
       "\n",
       "    .dataframe tbody tr th {\n",
       "        vertical-align: top;\n",
       "    }\n",
       "\n",
       "    .dataframe thead th {\n",
       "        text-align: right;\n",
       "    }\n",
       "</style>\n",
       "<table border=\"1\" class=\"dataframe\">\n",
       "  <thead>\n",
       "    <tr style=\"text-align: right;\">\n",
       "      <th></th>\n",
       "      <th>Fecha</th>\n",
       "      <th>Tasas de interés internacionales - Bonos del Tesoro EE.UU. - 10 años (%)</th>\n",
       "    </tr>\n",
       "  </thead>\n",
       "  <tbody>\n",
       "    <tr>\n",
       "      <th>0</th>\n",
       "      <td>14Ene97</td>\n",
       "      <td>6.5</td>\n",
       "    </tr>\n",
       "    <tr>\n",
       "      <th>1</th>\n",
       "      <td>15Ene97</td>\n",
       "      <td>6.5</td>\n",
       "    </tr>\n",
       "    <tr>\n",
       "      <th>2</th>\n",
       "      <td>16Ene97</td>\n",
       "      <td>6.6</td>\n",
       "    </tr>\n",
       "    <tr>\n",
       "      <th>3</th>\n",
       "      <td>17Ene97</td>\n",
       "      <td>6.5</td>\n",
       "    </tr>\n",
       "    <tr>\n",
       "      <th>4</th>\n",
       "      <td>20Ene97</td>\n",
       "      <td>6.5</td>\n",
       "    </tr>\n",
       "    <tr>\n",
       "      <th>...</th>\n",
       "      <td>...</td>\n",
       "      <td>...</td>\n",
       "    </tr>\n",
       "    <tr>\n",
       "      <th>6248</th>\n",
       "      <td>25Dic20</td>\n",
       "      <td>n.d.</td>\n",
       "    </tr>\n",
       "    <tr>\n",
       "      <th>6249</th>\n",
       "      <td>28Dic20</td>\n",
       "      <td>0.9</td>\n",
       "    </tr>\n",
       "    <tr>\n",
       "      <th>6250</th>\n",
       "      <td>29Dic20</td>\n",
       "      <td>0.9</td>\n",
       "    </tr>\n",
       "    <tr>\n",
       "      <th>6251</th>\n",
       "      <td>30Dic20</td>\n",
       "      <td>0.9</td>\n",
       "    </tr>\n",
       "    <tr>\n",
       "      <th>6252</th>\n",
       "      <td>31Dic20</td>\n",
       "      <td>0.9</td>\n",
       "    </tr>\n",
       "  </tbody>\n",
       "</table>\n",
       "<p>6253 rows × 2 columns</p>\n",
       "</div>"
      ],
      "text/plain": [
       "        Fecha  \\\n",
       "0     14Ene97   \n",
       "1     15Ene97   \n",
       "2     16Ene97   \n",
       "3     17Ene97   \n",
       "4     20Ene97   \n",
       "...       ...   \n",
       "6248  25Dic20   \n",
       "6249  28Dic20   \n",
       "6250  29Dic20   \n",
       "6251  30Dic20   \n",
       "6252  31Dic20   \n",
       "\n",
       "     Tasas de interés internacionales - Bonos del Tesoro EE.UU. - 10 años (%)  \n",
       "0                                                   6.5                        \n",
       "1                                                   6.5                        \n",
       "2                                                   6.6                        \n",
       "3                                                   6.5                        \n",
       "4                                                   6.5                        \n",
       "...                                                 ...                        \n",
       "6248                                               n.d.                        \n",
       "6249                                                0.9                        \n",
       "6250                                                0.9                        \n",
       "6251                                                0.9                        \n",
       "6252                                                0.9                        \n",
       "\n",
       "[6253 rows x 2 columns]"
      ]
     },
     "execution_count": 16,
     "metadata": {},
     "output_type": "execute_result"
    }
   ],
   "source": [
    "tbond10y[1]"
   ]
  },
  {
   "cell_type": "code",
   "execution_count": 20,
   "metadata": {},
   "outputs": [
    {
     "ename": "PyreadstatError",
     "evalue": "File C:/Users/Jhon/OneDrive - Universidad Nacional Federico Villareal/PHYTON/Lambda/sesion 1/687-Modulo34/sumaria-2019.sav does not exist!",
     "output_type": "error",
     "traceback": [
      "\u001b[1;31m---------------------------------------------------------------------------\u001b[0m",
      "\u001b[1;31mPyreadstatError\u001b[0m                           Traceback (most recent call last)",
      "\u001b[1;32m<ipython-input-20-7a20a9244385>\u001b[0m in \u001b[0;36m<module>\u001b[1;34m\u001b[0m\n\u001b[0;32m      1\u001b[0m \u001b[1;31m# Case sensity\u001b[0m\u001b[1;33m\u001b[0m\u001b[1;33m\u001b[0m\u001b[1;33m\u001b[0m\u001b[0m\n\u001b[1;32m----> 2\u001b[1;33m \u001b[0msumaria_spss\u001b[0m \u001b[1;33m=\u001b[0m \u001b[0mpd\u001b[0m\u001b[1;33m.\u001b[0m\u001b[0mread_spss\u001b[0m\u001b[1;33m(\u001b[0m\u001b[0mruta\u001b[0m \u001b[1;33m+\u001b[0m \u001b[1;34m\"687-Modulo34/sumaria-2019.sav\"\u001b[0m\u001b[1;33m)\u001b[0m\u001b[1;33m\u001b[0m\u001b[1;33m\u001b[0m\u001b[0m\n\u001b[0m\u001b[0;32m      3\u001b[0m \u001b[0msumaria_spss\u001b[0m\u001b[1;33m\u001b[0m\u001b[1;33m\u001b[0m\u001b[0m\n",
      "\u001b[1;32m~\\anaconda3\\lib\\site-packages\\pandas\\io\\spss.py\u001b[0m in \u001b[0;36mread_spss\u001b[1;34m(path, usecols, convert_categoricals)\u001b[0m\n\u001b[0;32m     40\u001b[0m             \u001b[0musecols\u001b[0m \u001b[1;33m=\u001b[0m \u001b[0mlist\u001b[0m\u001b[1;33m(\u001b[0m\u001b[0musecols\u001b[0m\u001b[1;33m)\u001b[0m  \u001b[1;31m# pyreadstat requires a list\u001b[0m\u001b[1;33m\u001b[0m\u001b[1;33m\u001b[0m\u001b[0m\n\u001b[0;32m     41\u001b[0m \u001b[1;33m\u001b[0m\u001b[0m\n\u001b[1;32m---> 42\u001b[1;33m     df, _ = pyreadstat.read_sav(\n\u001b[0m\u001b[0;32m     43\u001b[0m         \u001b[0mpath\u001b[0m\u001b[1;33m,\u001b[0m \u001b[0musecols\u001b[0m\u001b[1;33m=\u001b[0m\u001b[0musecols\u001b[0m\u001b[1;33m,\u001b[0m \u001b[0mapply_value_formats\u001b[0m\u001b[1;33m=\u001b[0m\u001b[0mconvert_categoricals\u001b[0m\u001b[1;33m\u001b[0m\u001b[1;33m\u001b[0m\u001b[0m\n\u001b[0;32m     44\u001b[0m     )\n",
      "\u001b[1;32mpyreadstat\\pyreadstat.pyx\u001b[0m in \u001b[0;36mpyreadstat.pyreadstat.read_sav\u001b[1;34m()\u001b[0m\n",
      "\u001b[1;32mpyreadstat\\_readstat_parser.pyx\u001b[0m in \u001b[0;36mpyreadstat._readstat_parser.run_conversion\u001b[1;34m()\u001b[0m\n",
      "\u001b[1;31mPyreadstatError\u001b[0m: File C:/Users/Jhon/OneDrive - Universidad Nacional Federico Villareal/PHYTON/Lambda/sesion 1/687-Modulo34/sumaria-2019.sav does not exist!"
     ]
    }
   ],
   "source": [
    "# Case sensity \n",
    "sumaria_spss = pd.read_spss(ruta + \"687-Modulo34/sumaria-2019.sav\") \n",
    "sumaria_spss"
   ]
  },
  {
   "cell_type": "code",
   "execution_count": 30,
   "metadata": {},
   "outputs": [],
   "source": [
    "from dbfread import DBF"
   ]
  },
  {
   "cell_type": "code",
   "execution_count": 31,
   "metadata": {},
   "outputs": [],
   "source": [
    "airport = DBF(ruta + \"airports.dbf\")"
   ]
  },
  {
   "cell_type": "markdown",
   "metadata": {},
   "source": [
    "### Algebra lineal"
   ]
  },
  {
   "cell_type": "code",
   "execution_count": 32,
   "metadata": {},
   "outputs": [],
   "source": [
    "import numpy as np"
   ]
  },
  {
   "cell_type": "code",
   "execution_count": 33,
   "metadata": {},
   "outputs": [
    {
     "data": {
      "text/plain": [
       "array([ 1,  3,  5,  7,  8, 12])"
      ]
     },
     "execution_count": 33,
     "metadata": {},
     "output_type": "execute_result"
    }
   ],
   "source": [
    "a1 = np.array([1,3,5,7,8,12]); a1"
   ]
  },
  {
   "cell_type": "code",
   "execution_count": 35,
   "metadata": {},
   "outputs": [
    {
     "data": {
      "text/plain": [
       "array([[ 1,  3,  5,  7,  8, 12],\n",
       "       [ 1,  3,  5,  7,  8, 12],\n",
       "       [ 1,  3,  5,  7,  8, 12]])"
      ]
     },
     "execution_count": 35,
     "metadata": {},
     "output_type": "execute_result"
    }
   ],
   "source": [
    "a2 = np.array([[1,3,5,7,8,12],[1,3,5,7,8,12],[1,3,5,7,8,12]]); a2"
   ]
  },
  {
   "cell_type": "code",
   "execution_count": 36,
   "metadata": {},
   "outputs": [
    {
     "data": {
      "text/plain": [
       "matrix([[ 1,  3,  5,  7,  8, 12],\n",
       "        [ 1,  3,  5,  7,  8, 12],\n",
       "        [ 1,  3,  5,  7,  8, 12]])"
      ]
     },
     "execution_count": 36,
     "metadata": {},
     "output_type": "execute_result"
    }
   ],
   "source": [
    "m1 = np.matrix([[1,3,5,7,8,12],[1,3,5,7,8,12],[1,3,5,7,8,12]]); m1"
   ]
  },
  {
   "cell_type": "code",
   "execution_count": 40,
   "metadata": {},
   "outputs": [
    {
     "data": {
      "text/plain": [
       "array([[ 1.5311953 , -0.23333336, -0.10676005, -0.82958931, -0.20542767,\n",
       "         0.3559693 ,  1.01245175, -1.98286915, -0.05719797, -0.72457863]])"
      ]
     },
     "execution_count": 40,
     "metadata": {},
     "output_type": "execute_result"
    }
   ],
   "source": [
    "# paquete.modulo.metodo\n",
    "s1 = np.random.randn(1,10); s1\n",
    "s1"
   ]
  },
  {
   "cell_type": "code",
   "execution_count": 41,
   "metadata": {},
   "outputs": [
    {
     "data": {
      "text/plain": [
       "array([ 0.24876256, -1.74486946, -0.433322  , -0.879228  ,  1.18794293,\n",
       "        0.60648462,  0.1875346 ,  0.27439771,  1.89359642,  0.12565164])"
      ]
     },
     "execution_count": 41,
     "metadata": {},
     "output_type": "execute_result"
    }
   ],
   "source": [
    "s2 = np.random.randn(10)\n",
    "s2"
   ]
  },
  {
   "cell_type": "code",
   "execution_count": 42,
   "metadata": {},
   "outputs": [],
   "source": [
    "# Matrices\n",
    "A = np.matrix([[1,2,6],[2,6,7],[6,8,9]])"
   ]
  },
  {
   "cell_type": "code",
   "execution_count": 43,
   "metadata": {},
   "outputs": [],
   "source": [
    "# import numpy as np\n",
    "# from numpy import linalg\n",
    "# from numpy import linalg as la"
   ]
  },
  {
   "cell_type": "code",
   "execution_count": 44,
   "metadata": {},
   "outputs": [
    {
     "data": {
      "text/plain": [
       "-74.00000000000003"
      ]
     },
     "execution_count": 44,
     "metadata": {},
     "output_type": "execute_result"
    }
   ],
   "source": [
    "np.linalg.det(A)"
   ]
  },
  {
   "cell_type": "code",
   "execution_count": 45,
   "metadata": {},
   "outputs": [],
   "source": [
    "from numpy import linalg"
   ]
  },
  {
   "cell_type": "code",
   "execution_count": 46,
   "metadata": {},
   "outputs": [
    {
     "data": {
      "text/plain": [
       "-74.00000000000003"
      ]
     },
     "execution_count": 46,
     "metadata": {},
     "output_type": "execute_result"
    }
   ],
   "source": [
    "linalg.det(A)"
   ]
  },
  {
   "cell_type": "code",
   "execution_count": 47,
   "metadata": {},
   "outputs": [],
   "source": [
    "from numpy import linalg as la"
   ]
  },
  {
   "cell_type": "code",
   "execution_count": 48,
   "metadata": {},
   "outputs": [
    {
     "data": {
      "text/plain": [
       "-74.00000000000003"
      ]
     },
     "execution_count": 48,
     "metadata": {},
     "output_type": "execute_result"
    }
   ],
   "source": [
    "la.det(A)"
   ]
  },
  {
   "cell_type": "code",
   "execution_count": 49,
   "metadata": {},
   "outputs": [
    {
     "data": {
      "text/plain": [
       "matrix([[ 0.02702703, -0.40540541,  0.2972973 ],\n",
       "        [-0.32432432,  0.36486486, -0.06756757],\n",
       "        [ 0.27027027, -0.05405405, -0.02702703]])"
      ]
     },
     "execution_count": 49,
     "metadata": {},
     "output_type": "execute_result"
    }
   ],
   "source": [
    "la.inv(A)"
   ]
  },
  {
   "cell_type": "code",
   "execution_count": 50,
   "metadata": {},
   "outputs": [
    {
     "data": {
      "text/plain": [
       "(array([17.3126619 , -2.82545487,  1.51279297]),\n",
       " matrix([[-0.34841847, -0.76079411,  0.60937882],\n",
       "         [-0.53698845, -0.28863588, -0.73510516],\n",
       "         [-0.76827597,  0.58127588,  0.29711591]]))"
      ]
     },
     "execution_count": 50,
     "metadata": {},
     "output_type": "execute_result"
    }
   ],
   "source": [
    "x, y = la.eig(A)\n",
    "x, y"
   ]
  },
  {
   "cell_type": "code",
   "execution_count": 51,
   "metadata": {},
   "outputs": [],
   "source": [
    "B = np.matrix([[1,2,3],[4,5,6],[7,8,9]])"
   ]
  },
  {
   "cell_type": "code",
   "execution_count": 52,
   "metadata": {},
   "outputs": [
    {
     "data": {
      "text/plain": [
       "(matrix([[1, 2, 6],\n",
       "         [2, 6, 7],\n",
       "         [6, 8, 9]]),\n",
       " matrix([[1, 2, 3],\n",
       "         [4, 5, 6],\n",
       "         [7, 8, 9]]))"
      ]
     },
     "execution_count": 52,
     "metadata": {},
     "output_type": "execute_result"
    }
   ],
   "source": [
    "A, B"
   ]
  },
  {
   "cell_type": "code",
   "execution_count": 53,
   "metadata": {},
   "outputs": [
    {
     "data": {
      "text/plain": [
       "matrix([[ 51,  60,  69],\n",
       "        [ 75,  90, 105],\n",
       "        [101, 124, 147]])"
      ]
     },
     "execution_count": 53,
     "metadata": {},
     "output_type": "execute_result"
    }
   ],
   "source": [
    "A@B"
   ]
  },
  {
   "cell_type": "code",
   "execution_count": 54,
   "metadata": {},
   "outputs": [],
   "source": [
    "D = np.matrix([[2,-1,-2],[4,5,6],[7,-8,9]])"
   ]
  },
  {
   "cell_type": "code",
   "execution_count": 55,
   "metadata": {},
   "outputs": [],
   "source": [
    "import scipy.linalg as la"
   ]
  },
  {
   "cell_type": "code",
   "execution_count": 57,
   "metadata": {},
   "outputs": [],
   "source": [
    "m1 = la.lu(D)"
   ]
  },
  {
   "cell_type": "code",
   "execution_count": 58,
   "metadata": {},
   "outputs": [
    {
     "data": {
      "text/plain": [
       "(array([[0., 0., 1.],\n",
       "        [0., 1., 0.],\n",
       "        [1., 0., 0.]]),\n",
       " array([[1.        , 0.        , 0.        ],\n",
       "        [0.57142857, 1.        , 0.        ],\n",
       "        [0.28571429, 0.13432836, 1.        ]]),\n",
       " array([[ 7.        , -8.        ,  9.        ],\n",
       "        [ 0.        ,  9.57142857,  0.85714286],\n",
       "        [ 0.        ,  0.        , -4.68656716]]))"
      ]
     },
     "execution_count": 58,
     "metadata": {},
     "output_type": "execute_result"
    }
   ],
   "source": [
    "m1"
   ]
  },
  {
   "cell_type": "code",
   "execution_count": 59,
   "metadata": {},
   "outputs": [
    {
     "data": {
      "text/plain": [
       "(array([[-0.24077171, -0.01220665, -0.97050501],\n",
       "        [-0.48154341, -0.86667212,  0.13036635],\n",
       "        [-0.84270097,  0.49872882,  0.20279209]]),\n",
       " array([[-8.30662386,  4.57466242, -9.99202581],\n",
       "        [ 0.        , -8.31098452, -0.68705999],\n",
       "        [ 0.        ,  0.        ,  4.54833693]]))"
      ]
     },
     "execution_count": 59,
     "metadata": {},
     "output_type": "execute_result"
    }
   ],
   "source": [
    "m2 = la.qr(D)\n",
    "m2"
   ]
  },
  {
   "cell_type": "code",
   "execution_count": null,
   "metadata": {},
   "outputs": [],
   "source": []
  },
  {
   "cell_type": "code",
   "execution_count": null,
   "metadata": {},
   "outputs": [],
   "source": []
  },
  {
   "cell_type": "code",
   "execution_count": null,
   "metadata": {},
   "outputs": [],
   "source": []
  },
  {
   "cell_type": "markdown",
   "metadata": {},
   "source": [
    "### Cálculo"
   ]
  },
  {
   "cell_type": "code",
   "execution_count": null,
   "metadata": {},
   "outputs": [],
   "source": []
  },
  {
   "cell_type": "code",
   "execution_count": null,
   "metadata": {},
   "outputs": [],
   "source": []
  },
  {
   "cell_type": "code",
   "execution_count": null,
   "metadata": {},
   "outputs": [],
   "source": []
  },
  {
   "cell_type": "code",
   "execution_count": null,
   "metadata": {},
   "outputs": [],
   "source": []
  },
  {
   "cell_type": "code",
   "execution_count": null,
   "metadata": {},
   "outputs": [],
   "source": []
  },
  {
   "cell_type": "code",
   "execution_count": null,
   "metadata": {},
   "outputs": [],
   "source": []
  }
 ],
 "metadata": {
  "kernelspec": {
   "display_name": "Python 3",
   "language": "python",
   "name": "python3"
  },
  "language_info": {
   "codemirror_mode": {
    "name": "ipython",
    "version": 3
   },
   "file_extension": ".py",
   "mimetype": "text/x-python",
   "name": "python",
   "nbconvert_exporter": "python",
   "pygments_lexer": "ipython3",
   "version": "3.8.3"
  }
 },
 "nbformat": 4,
 "nbformat_minor": 4
}
