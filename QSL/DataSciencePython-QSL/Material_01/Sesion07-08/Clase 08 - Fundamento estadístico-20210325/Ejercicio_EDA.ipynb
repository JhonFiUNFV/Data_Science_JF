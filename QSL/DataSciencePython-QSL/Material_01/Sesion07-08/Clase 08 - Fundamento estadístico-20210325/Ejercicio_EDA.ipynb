{
 "cells": [
  {
   "cell_type": "markdown",
   "metadata": {},
   "source": [
    "# Ejemplo de EDA: Análisis Exploratorio de Datos"
   ]
  },
  {
   "cell_type": "code",
   "execution_count": 1,
   "metadata": {
    "ExecuteTime": {
     "end_time": "2019-12-08T22:02:37.412568Z",
     "start_time": "2019-12-08T22:02:37.407961Z"
    }
   },
   "outputs": [],
   "source": [
    "import pandas as pd\n",
    "import numpy as np\n",
    "import matplotlib.pyplot as plt\n",
    "import statsmodels.api as sm\n"
   ]
  },
  {
   "cell_type": "markdown",
   "metadata": {},
   "source": [
    "## Carga de archivo csv desde una URL"
   ]
  },
  {
   "cell_type": "code",
   "execution_count": 2,
   "metadata": {
    "ExecuteTime": {
     "end_time": "2019-12-08T22:02:38.571087Z",
     "start_time": "2019-12-08T22:02:37.416370Z"
    }
   },
   "outputs": [
    {
     "data": {
      "text/html": [
       "<div>\n",
       "<style scoped>\n",
       "    .dataframe tbody tr th:only-of-type {\n",
       "        vertical-align: middle;\n",
       "    }\n",
       "\n",
       "    .dataframe tbody tr th {\n",
       "        vertical-align: top;\n",
       "    }\n",
       "\n",
       "    .dataframe thead th {\n",
       "        text-align: right;\n",
       "    }\n",
       "</style>\n",
       "<table border=\"1\" class=\"dataframe\">\n",
       "  <thead>\n",
       "    <tr style=\"text-align: right;\">\n",
       "      <th></th>\n",
       "      <th>alpha_2</th>\n",
       "      <th>alpha_3</th>\n",
       "      <th>area</th>\n",
       "      <th>capital</th>\n",
       "      <th>continent</th>\n",
       "      <th>currency_code</th>\n",
       "      <th>currency_name</th>\n",
       "      <th>eqivalent_fips_code</th>\n",
       "      <th>fips</th>\n",
       "      <th>geoname_id</th>\n",
       "      <th>languages</th>\n",
       "      <th>name</th>\n",
       "      <th>neighbours</th>\n",
       "      <th>numeric</th>\n",
       "      <th>phone</th>\n",
       "      <th>population</th>\n",
       "      <th>postal_code_format</th>\n",
       "      <th>postal_code_regex</th>\n",
       "      <th>tld</th>\n",
       "    </tr>\n",
       "  </thead>\n",
       "  <tbody>\n",
       "    <tr>\n",
       "      <th>0</th>\n",
       "      <td>AD</td>\n",
       "      <td>AND</td>\n",
       "      <td>468.0</td>\n",
       "      <td>Andorra la Vella</td>\n",
       "      <td>EU</td>\n",
       "      <td>EUR</td>\n",
       "      <td>Euro</td>\n",
       "      <td>NaN</td>\n",
       "      <td>AN</td>\n",
       "      <td>3041565</td>\n",
       "      <td>ca</td>\n",
       "      <td>Andorra</td>\n",
       "      <td>ES,FR</td>\n",
       "      <td>20</td>\n",
       "      <td>376</td>\n",
       "      <td>84000</td>\n",
       "      <td>AD###</td>\n",
       "      <td>^(?:AD)*(\\d{3})$</td>\n",
       "      <td>.ad</td>\n",
       "    </tr>\n",
       "    <tr>\n",
       "      <th>1</th>\n",
       "      <td>AE</td>\n",
       "      <td>ARE</td>\n",
       "      <td>82880.0</td>\n",
       "      <td>Abu Dhabi</td>\n",
       "      <td>AS</td>\n",
       "      <td>AED</td>\n",
       "      <td>Dirham</td>\n",
       "      <td>NaN</td>\n",
       "      <td>AE</td>\n",
       "      <td>290557</td>\n",
       "      <td>ar-AE,fa,en,hi,ur</td>\n",
       "      <td>United Arab Emirates</td>\n",
       "      <td>SA,OM</td>\n",
       "      <td>784</td>\n",
       "      <td>971</td>\n",
       "      <td>4975593</td>\n",
       "      <td>NaN</td>\n",
       "      <td>NaN</td>\n",
       "      <td>.ae</td>\n",
       "    </tr>\n",
       "    <tr>\n",
       "      <th>2</th>\n",
       "      <td>AF</td>\n",
       "      <td>AFG</td>\n",
       "      <td>647500.0</td>\n",
       "      <td>Kabul</td>\n",
       "      <td>AS</td>\n",
       "      <td>AFN</td>\n",
       "      <td>Afghani</td>\n",
       "      <td>NaN</td>\n",
       "      <td>AF</td>\n",
       "      <td>1149361</td>\n",
       "      <td>fa-AF,ps,uz-AF,tk</td>\n",
       "      <td>Afghanistan</td>\n",
       "      <td>TM,CN,IR,TJ,PK,UZ</td>\n",
       "      <td>4</td>\n",
       "      <td>93</td>\n",
       "      <td>29121286</td>\n",
       "      <td>NaN</td>\n",
       "      <td>NaN</td>\n",
       "      <td>.af</td>\n",
       "    </tr>\n",
       "    <tr>\n",
       "      <th>3</th>\n",
       "      <td>AG</td>\n",
       "      <td>ATG</td>\n",
       "      <td>443.0</td>\n",
       "      <td>St. John's</td>\n",
       "      <td>NaN</td>\n",
       "      <td>XCD</td>\n",
       "      <td>Dollar</td>\n",
       "      <td>NaN</td>\n",
       "      <td>AC</td>\n",
       "      <td>3576396</td>\n",
       "      <td>en-AG</td>\n",
       "      <td>Antigua and Barbuda</td>\n",
       "      <td>NaN</td>\n",
       "      <td>28</td>\n",
       "      <td>+1-268</td>\n",
       "      <td>86754</td>\n",
       "      <td>NaN</td>\n",
       "      <td>NaN</td>\n",
       "      <td>.ag</td>\n",
       "    </tr>\n",
       "    <tr>\n",
       "      <th>4</th>\n",
       "      <td>AI</td>\n",
       "      <td>AIA</td>\n",
       "      <td>102.0</td>\n",
       "      <td>The Valley</td>\n",
       "      <td>NaN</td>\n",
       "      <td>XCD</td>\n",
       "      <td>Dollar</td>\n",
       "      <td>NaN</td>\n",
       "      <td>AV</td>\n",
       "      <td>3573511</td>\n",
       "      <td>en-AI</td>\n",
       "      <td>Anguilla</td>\n",
       "      <td>NaN</td>\n",
       "      <td>660</td>\n",
       "      <td>+1-264</td>\n",
       "      <td>13254</td>\n",
       "      <td>NaN</td>\n",
       "      <td>NaN</td>\n",
       "      <td>.ai</td>\n",
       "    </tr>\n",
       "  </tbody>\n",
       "</table>\n",
       "</div>"
      ],
      "text/plain": [
       "  alpha_2 alpha_3      area           capital continent currency_code  \\\n",
       "0      AD     AND     468.0  Andorra la Vella        EU           EUR   \n",
       "1      AE     ARE   82880.0         Abu Dhabi        AS           AED   \n",
       "2      AF     AFG  647500.0             Kabul        AS           AFN   \n",
       "3      AG     ATG     443.0        St. John's       NaN           XCD   \n",
       "4      AI     AIA     102.0        The Valley       NaN           XCD   \n",
       "\n",
       "  currency_name eqivalent_fips_code fips  geoname_id          languages  \\\n",
       "0          Euro                 NaN   AN     3041565                 ca   \n",
       "1        Dirham                 NaN   AE      290557  ar-AE,fa,en,hi,ur   \n",
       "2       Afghani                 NaN   AF     1149361  fa-AF,ps,uz-AF,tk   \n",
       "3        Dollar                 NaN   AC     3576396              en-AG   \n",
       "4        Dollar                 NaN   AV     3573511              en-AI   \n",
       "\n",
       "                   name         neighbours  numeric   phone  population  \\\n",
       "0               Andorra              ES,FR       20     376       84000   \n",
       "1  United Arab Emirates              SA,OM      784     971     4975593   \n",
       "2           Afghanistan  TM,CN,IR,TJ,PK,UZ        4      93    29121286   \n",
       "3   Antigua and Barbuda                NaN       28  +1-268       86754   \n",
       "4              Anguilla                NaN      660  +1-264       13254   \n",
       "\n",
       "  postal_code_format postal_code_regex  tld  \n",
       "0              AD###  ^(?:AD)*(\\d{3})$  .ad  \n",
       "1                NaN               NaN  .ae  \n",
       "2                NaN               NaN  .af  \n",
       "3                NaN               NaN  .ag  \n",
       "4                NaN               NaN  .ai  "
      ]
     },
     "execution_count": 2,
     "metadata": {},
     "output_type": "execute_result"
    }
   ],
   "source": [
    "url = 'https://raw.githubusercontent.com/lorey/list-of-countries/master/csv/countries.csv'\n",
    "df = pd.read_csv(url, sep=\";\") #index_col=0\n",
    "df.head(5)"
   ]
  },
  {
   "cell_type": "markdown",
   "metadata": {},
   "source": [
    "## Conocer información básica"
   ]
  },
  {
   "cell_type": "code",
   "execution_count": 3,
   "metadata": {
    "ExecuteTime": {
     "end_time": "2019-12-08T23:09:35.570049Z",
     "start_time": "2019-12-08T23:09:35.562245Z"
    }
   },
   "outputs": [
    {
     "name": "stdout",
     "output_type": "stream",
     "text": [
      "Cantidad de Filas y columnas: (252, 19)\n",
      "Nombre columnas: ['alpha_2' 'alpha_3' 'area' 'capital' 'continent' 'currency_code'\n",
      " 'currency_name' 'eqivalent_fips_code' 'fips' 'geoname_id' 'languages'\n",
      " 'name' 'neighbours' 'numeric' 'phone' 'population' 'postal_code_format'\n",
      " 'postal_code_regex' 'tld']\n"
     ]
    }
   ],
   "source": [
    "print('Cantidad de Filas y columnas:',df.shape)\n",
    "print('Nombre columnas:',df.columns.values)"
   ]
  },
  {
   "cell_type": "code",
   "execution_count": 4,
   "metadata": {
    "ExecuteTime": {
     "end_time": "2019-12-08T22:02:38.606905Z",
     "start_time": "2019-12-08T22:02:38.587047Z"
    }
   },
   "outputs": [
    {
     "name": "stdout",
     "output_type": "stream",
     "text": [
      "<class 'pandas.core.frame.DataFrame'>\n",
      "RangeIndex: 252 entries, 0 to 251\n",
      "Data columns (total 19 columns):\n",
      " #   Column               Non-Null Count  Dtype  \n",
      "---  ------               --------------  -----  \n",
      " 0   alpha_2              251 non-null    object \n",
      " 1   alpha_3              252 non-null    object \n",
      " 2   area                 252 non-null    float64\n",
      " 3   capital              246 non-null    object \n",
      " 4   continent            210 non-null    object \n",
      " 5   currency_code        251 non-null    object \n",
      " 6   currency_name        251 non-null    object \n",
      " 7   eqivalent_fips_code  1 non-null      object \n",
      " 8   fips                 249 non-null    object \n",
      " 9   geoname_id           252 non-null    int64  \n",
      " 10  languages            249 non-null    object \n",
      " 11  name                 252 non-null    object \n",
      " 12  neighbours           165 non-null    object \n",
      " 13  numeric              252 non-null    int64  \n",
      " 14  phone                247 non-null    object \n",
      " 15  population           252 non-null    int64  \n",
      " 16  postal_code_format   154 non-null    object \n",
      " 17  postal_code_regex    152 non-null    object \n",
      " 18  tld                  250 non-null    object \n",
      "dtypes: float64(1), int64(3), object(15)\n",
      "memory usage: 37.5+ KB\n"
     ]
    }
   ],
   "source": [
    "df.info()"
   ]
  },
  {
   "cell_type": "code",
   "execution_count": 5,
   "metadata": {
    "ExecuteTime": {
     "end_time": "2019-12-08T22:02:38.666169Z",
     "start_time": "2019-12-08T22:02:38.613732Z"
    }
   },
   "outputs": [
    {
     "data": {
      "text/html": [
       "<div>\n",
       "<style scoped>\n",
       "    .dataframe tbody tr th:only-of-type {\n",
       "        vertical-align: middle;\n",
       "    }\n",
       "\n",
       "    .dataframe tbody tr th {\n",
       "        vertical-align: top;\n",
       "    }\n",
       "\n",
       "    .dataframe thead th {\n",
       "        text-align: right;\n",
       "    }\n",
       "</style>\n",
       "<table border=\"1\" class=\"dataframe\">\n",
       "  <thead>\n",
       "    <tr style=\"text-align: right;\">\n",
       "      <th></th>\n",
       "      <th>area</th>\n",
       "      <th>geoname_id</th>\n",
       "      <th>numeric</th>\n",
       "      <th>population</th>\n",
       "    </tr>\n",
       "  </thead>\n",
       "  <tbody>\n",
       "    <tr>\n",
       "      <th>count</th>\n",
       "      <td>2.520000e+02</td>\n",
       "      <td>2.520000e+02</td>\n",
       "      <td>252.000000</td>\n",
       "      <td>2.520000e+02</td>\n",
       "    </tr>\n",
       "    <tr>\n",
       "      <th>mean</th>\n",
       "      <td>5.952879e+05</td>\n",
       "      <td>2.427870e+06</td>\n",
       "      <td>434.309524</td>\n",
       "      <td>2.727679e+07</td>\n",
       "    </tr>\n",
       "    <tr>\n",
       "      <th>std</th>\n",
       "      <td>1.904818e+06</td>\n",
       "      <td>1.632093e+06</td>\n",
       "      <td>254.663139</td>\n",
       "      <td>1.164127e+08</td>\n",
       "    </tr>\n",
       "    <tr>\n",
       "      <th>min</th>\n",
       "      <td>0.000000e+00</td>\n",
       "      <td>4.951800e+04</td>\n",
       "      <td>0.000000</td>\n",
       "      <td>0.000000e+00</td>\n",
       "    </tr>\n",
       "    <tr>\n",
       "      <th>25%</th>\n",
       "      <td>1.098000e+03</td>\n",
       "      <td>1.163774e+06</td>\n",
       "      <td>217.000000</td>\n",
       "      <td>1.879528e+05</td>\n",
       "    </tr>\n",
       "    <tr>\n",
       "      <th>50%</th>\n",
       "      <td>6.489450e+04</td>\n",
       "      <td>2.367967e+06</td>\n",
       "      <td>436.000000</td>\n",
       "      <td>4.268583e+06</td>\n",
       "    </tr>\n",
       "    <tr>\n",
       "      <th>75%</th>\n",
       "      <td>3.622245e+05</td>\n",
       "      <td>3.478296e+06</td>\n",
       "      <td>652.500000</td>\n",
       "      <td>1.536688e+07</td>\n",
       "    </tr>\n",
       "    <tr>\n",
       "      <th>max</th>\n",
       "      <td>1.710000e+07</td>\n",
       "      <td>8.505033e+06</td>\n",
       "      <td>894.000000</td>\n",
       "      <td>1.330044e+09</td>\n",
       "    </tr>\n",
       "  </tbody>\n",
       "</table>\n",
       "</div>"
      ],
      "text/plain": [
       "               area    geoname_id     numeric    population\n",
       "count  2.520000e+02  2.520000e+02  252.000000  2.520000e+02\n",
       "mean   5.952879e+05  2.427870e+06  434.309524  2.727679e+07\n",
       "std    1.904818e+06  1.632093e+06  254.663139  1.164127e+08\n",
       "min    0.000000e+00  4.951800e+04    0.000000  0.000000e+00\n",
       "25%    1.098000e+03  1.163774e+06  217.000000  1.879528e+05\n",
       "50%    6.489450e+04  2.367967e+06  436.000000  4.268583e+06\n",
       "75%    3.622245e+05  3.478296e+06  652.500000  1.536688e+07\n",
       "max    1.710000e+07  8.505033e+06  894.000000  1.330044e+09"
      ]
     },
     "execution_count": 5,
     "metadata": {},
     "output_type": "execute_result"
    }
   ],
   "source": [
    "df.describe()"
   ]
  },
  {
   "cell_type": "markdown",
   "metadata": {},
   "source": [
    "## Matriz de Correlación"
   ]
  },
  {
   "cell_type": "code",
   "execution_count": 6,
   "metadata": {
    "ExecuteTime": {
     "end_time": "2019-12-08T22:08:56.919335Z",
     "start_time": "2019-12-08T22:08:49.847520Z"
    }
   },
   "outputs": [
    {
     "data": {
      "image/png": "[encoded data removed]",
      "text/plain": [
       "<Figure size 432x288 with 2 Axes>"
      ]
     },
     "metadata": {
      "needs_background": "light"
     },
     "output_type": "display_data"
    }
   ],
   "source": [
    "corr = df.set_index('alpha_3').corr()\n",
    "sm.graphics.plot_corr(corr, xnames=list(corr.columns))\n",
    "plt.show()"
   ]
  },
  {
   "cell_type": "markdown",
   "metadata": {},
   "source": [
    "## Cargar una segunda fuente de datos"
   ]
  },
  {
   "cell_type": "code",
   "execution_count": 8,
   "metadata": {
    "ExecuteTime": {
     "end_time": "2019-12-08T22:02:39.201638Z",
     "start_time": "2019-12-08T22:02:38.669191Z"
    }
   },
   "outputs": [
    {
     "name": "stdout",
     "output_type": "stream",
     "text": [
      "       country  year  population\n",
      "0  Afghanistan  1952     8425333\n",
      "1  Afghanistan  1957     9240934\n",
      "2  Afghanistan  1962    10267083\n",
      "3  Afghanistan  1967    11537966\n",
      "4  Afghanistan  1972    13079460\n",
      "5  Afghanistan  1977    14880372\n",
      "6  Afghanistan  1982    12881816\n",
      "7  Afghanistan  1987    13867957\n",
      "8  Afghanistan  1992    16317921\n",
      "9  Afghanistan  1997    22227415\n"
     ]
    }
   ],
   "source": [
    "url = 'https://raw.githubusercontent.com/DrueStaples/Population_Growth/master/countries.csv'\n",
    "df_pop = pd.read_csv(url)\n",
    "print(df_pop.head(10))"
   ]
  },
  {
   "cell_type": "code",
   "execution_count": 9,
   "metadata": {},
   "outputs": [
    {
     "data": {
      "text/plain": [
       "(1704, 3)"
      ]
     },
     "execution_count": 9,
     "metadata": {},
     "output_type": "execute_result"
    }
   ],
   "source": [
    "df_pop.shape"
   ]
  },
  {
   "cell_type": "markdown",
   "metadata": {},
   "source": [
    "### Aqui vemos la población año tras año de España"
   ]
  },
  {
   "cell_type": "code",
   "execution_count": 10,
   "metadata": {
    "ExecuteTime": {
     "end_time": "2019-12-08T22:02:39.223694Z",
     "start_time": "2019-12-08T22:02:39.204902Z"
    }
   },
   "outputs": [
    {
     "data": {
      "text/html": [
       "<div>\n",
       "<style scoped>\n",
       "    .dataframe tbody tr th:only-of-type {\n",
       "        vertical-align: middle;\n",
       "    }\n",
       "\n",
       "    .dataframe tbody tr th {\n",
       "        vertical-align: top;\n",
       "    }\n",
       "\n",
       "    .dataframe thead th {\n",
       "        text-align: right;\n",
       "    }\n",
       "</style>\n",
       "<table border=\"1\" class=\"dataframe\">\n",
       "  <thead>\n",
       "    <tr style=\"text-align: right;\">\n",
       "      <th></th>\n",
       "      <th>country</th>\n",
       "      <th>year</th>\n",
       "      <th>population</th>\n",
       "    </tr>\n",
       "  </thead>\n",
       "  <tbody>\n",
       "    <tr>\n",
       "      <th>1416</th>\n",
       "      <td>Spain</td>\n",
       "      <td>1952</td>\n",
       "      <td>28549870</td>\n",
       "    </tr>\n",
       "    <tr>\n",
       "      <th>1417</th>\n",
       "      <td>Spain</td>\n",
       "      <td>1957</td>\n",
       "      <td>29841614</td>\n",
       "    </tr>\n",
       "    <tr>\n",
       "      <th>1418</th>\n",
       "      <td>Spain</td>\n",
       "      <td>1962</td>\n",
       "      <td>31158061</td>\n",
       "    </tr>\n",
       "    <tr>\n",
       "      <th>1419</th>\n",
       "      <td>Spain</td>\n",
       "      <td>1967</td>\n",
       "      <td>32850275</td>\n",
       "    </tr>\n",
       "    <tr>\n",
       "      <th>1420</th>\n",
       "      <td>Spain</td>\n",
       "      <td>1972</td>\n",
       "      <td>34513161</td>\n",
       "    </tr>\n",
       "  </tbody>\n",
       "</table>\n",
       "</div>"
      ],
      "text/plain": [
       "     country  year  population\n",
       "1416   Spain  1952    28549870\n",
       "1417   Spain  1957    29841614\n",
       "1418   Spain  1962    31158061\n",
       "1419   Spain  1967    32850275\n",
       "1420   Spain  1972    34513161"
      ]
     },
     "execution_count": 10,
     "metadata": {},
     "output_type": "execute_result"
    }
   ],
   "source": [
    "df_pop_es = df_pop[df_pop[\"country\"] == 'Spain' ]\n",
    "df_pop_es.head()"
   ]
  },
  {
   "cell_type": "code",
   "execution_count": 22,
   "metadata": {
    "scrolled": true
   },
   "outputs": [
    {
     "data": {
      "text/html": [
       "<div>\n",
       "<style scoped>\n",
       "    .dataframe tbody tr th:only-of-type {\n",
       "        vertical-align: middle;\n",
       "    }\n",
       "\n",
       "    .dataframe tbody tr th {\n",
       "        vertical-align: top;\n",
       "    }\n",
       "\n",
       "    .dataframe thead th {\n",
       "        text-align: right;\n",
       "    }\n",
       "</style>\n",
       "<table border=\"1\" class=\"dataframe\">\n",
       "  <thead>\n",
       "    <tr style=\"text-align: right;\">\n",
       "      <th></th>\n",
       "      <th>country</th>\n",
       "      <th>year</th>\n",
       "      <th>population</th>\n",
       "    </tr>\n",
       "  </thead>\n",
       "  <tbody>\n",
       "    <tr>\n",
       "      <th>1200</th>\n",
       "      <td>Peru</td>\n",
       "      <td>1952</td>\n",
       "      <td>8025700</td>\n",
       "    </tr>\n",
       "    <tr>\n",
       "      <th>1201</th>\n",
       "      <td>Peru</td>\n",
       "      <td>1957</td>\n",
       "      <td>9146100</td>\n",
       "    </tr>\n",
       "    <tr>\n",
       "      <th>1202</th>\n",
       "      <td>Peru</td>\n",
       "      <td>1962</td>\n",
       "      <td>10516500</td>\n",
       "    </tr>\n",
       "    <tr>\n",
       "      <th>1203</th>\n",
       "      <td>Peru</td>\n",
       "      <td>1967</td>\n",
       "      <td>12132200</td>\n",
       "    </tr>\n",
       "    <tr>\n",
       "      <th>1204</th>\n",
       "      <td>Peru</td>\n",
       "      <td>1972</td>\n",
       "      <td>13954700</td>\n",
       "    </tr>\n",
       "    <tr>\n",
       "      <th>1205</th>\n",
       "      <td>Peru</td>\n",
       "      <td>1977</td>\n",
       "      <td>15990099</td>\n",
       "    </tr>\n",
       "    <tr>\n",
       "      <th>1206</th>\n",
       "      <td>Peru</td>\n",
       "      <td>1982</td>\n",
       "      <td>18125129</td>\n",
       "    </tr>\n",
       "    <tr>\n",
       "      <th>1207</th>\n",
       "      <td>Peru</td>\n",
       "      <td>1987</td>\n",
       "      <td>20195924</td>\n",
       "    </tr>\n",
       "    <tr>\n",
       "      <th>1208</th>\n",
       "      <td>Peru</td>\n",
       "      <td>1992</td>\n",
       "      <td>22430449</td>\n",
       "    </tr>\n",
       "    <tr>\n",
       "      <th>1209</th>\n",
       "      <td>Peru</td>\n",
       "      <td>1997</td>\n",
       "      <td>24748122</td>\n",
       "    </tr>\n",
       "    <tr>\n",
       "      <th>1210</th>\n",
       "      <td>Peru</td>\n",
       "      <td>2002</td>\n",
       "      <td>26769436</td>\n",
       "    </tr>\n",
       "    <tr>\n",
       "      <th>1211</th>\n",
       "      <td>Peru</td>\n",
       "      <td>2007</td>\n",
       "      <td>28674757</td>\n",
       "    </tr>\n",
       "  </tbody>\n",
       "</table>\n",
       "</div>"
      ],
      "text/plain": [
       "     country  year  population\n",
       "1200    Peru  1952     8025700\n",
       "1201    Peru  1957     9146100\n",
       "1202    Peru  1962    10516500\n",
       "1203    Peru  1967    12132200\n",
       "1204    Peru  1972    13954700\n",
       "1205    Peru  1977    15990099\n",
       "1206    Peru  1982    18125129\n",
       "1207    Peru  1987    20195924\n",
       "1208    Peru  1992    22430449\n",
       "1209    Peru  1997    24748122\n",
       "1210    Peru  2002    26769436\n",
       "1211    Peru  2007    28674757"
      ]
     },
     "execution_count": 22,
     "metadata": {},
     "output_type": "execute_result"
    }
   ],
   "source": [
    "df_pop[df_pop[\"country\"] == 'Peru' ]"
   ]
  },
  {
   "cell_type": "code",
   "execution_count": 23,
   "metadata": {},
   "outputs": [],
   "source": [
    "df_pop_pe = df_pop[df_pop[\"country\"] == 'Peru' ]"
   ]
  },
  {
   "cell_type": "code",
   "execution_count": 11,
   "metadata": {
    "ExecuteTime": {
     "end_time": "2019-12-08T22:02:39.242255Z",
     "start_time": "2019-12-08T22:02:39.233781Z"
    }
   },
   "outputs": [
    {
     "data": {
      "text/plain": [
       "(12, 3)"
      ]
     },
     "execution_count": 11,
     "metadata": {},
     "output_type": "execute_result"
    }
   ],
   "source": [
    "df_pop_es.shape"
   ]
  },
  {
   "cell_type": "markdown",
   "metadata": {},
   "source": [
    "## Visualicemos datos"
   ]
  },
  {
   "cell_type": "code",
   "execution_count": 15,
   "metadata": {
    "ExecuteTime": {
     "end_time": "2019-12-08T22:02:39.496444Z",
     "start_time": "2019-12-08T22:02:39.249756Z"
    }
   },
   "outputs": [
    {
     "data": {
      "text/plain": [
       "<AxesSubplot:>"
      ]
     },
     "execution_count": 15,
     "metadata": {},
     "output_type": "execute_result"
    },
    {
     "data": {
      "image/png": "[encoded data removed]",
      "text/plain": [
       "<Figure size 432x288 with 1 Axes>"
      ]
     },
     "metadata": {
      "needs_background": "light"
     },
     "output_type": "display_data"
    }
   ],
   "source": [
    "df_pop_es.drop(['country'],axis=1)['population'].plot(kind='bar')"
   ]
  },
  {
   "cell_type": "code",
   "execution_count": 16,
   "metadata": {
    "ExecuteTime": {
     "end_time": "2019-12-08T22:02:39.520411Z",
     "start_time": "2019-12-08T22:02:39.499275Z"
    }
   },
   "outputs": [
    {
     "data": {
      "text/html": [
       "<div>\n",
       "<style scoped>\n",
       "    .dataframe tbody tr th:only-of-type {\n",
       "        vertical-align: middle;\n",
       "    }\n",
       "\n",
       "    .dataframe tbody tr th {\n",
       "        vertical-align: top;\n",
       "    }\n",
       "\n",
       "    .dataframe thead th {\n",
       "        text-align: right;\n",
       "    }\n",
       "</style>\n",
       "<table border=\"1\" class=\"dataframe\">\n",
       "  <thead>\n",
       "    <tr style=\"text-align: right;\">\n",
       "      <th></th>\n",
       "      <th>country</th>\n",
       "      <th>year</th>\n",
       "      <th>population</th>\n",
       "    </tr>\n",
       "  </thead>\n",
       "  <tbody>\n",
       "    <tr>\n",
       "      <th>48</th>\n",
       "      <td>Argentina</td>\n",
       "      <td>1952</td>\n",
       "      <td>17876956</td>\n",
       "    </tr>\n",
       "    <tr>\n",
       "      <th>49</th>\n",
       "      <td>Argentina</td>\n",
       "      <td>1957</td>\n",
       "      <td>19610538</td>\n",
       "    </tr>\n",
       "    <tr>\n",
       "      <th>50</th>\n",
       "      <td>Argentina</td>\n",
       "      <td>1962</td>\n",
       "      <td>21283783</td>\n",
       "    </tr>\n",
       "    <tr>\n",
       "      <th>51</th>\n",
       "      <td>Argentina</td>\n",
       "      <td>1967</td>\n",
       "      <td>22934225</td>\n",
       "    </tr>\n",
       "    <tr>\n",
       "      <th>52</th>\n",
       "      <td>Argentina</td>\n",
       "      <td>1972</td>\n",
       "      <td>24779799</td>\n",
       "    </tr>\n",
       "  </tbody>\n",
       "</table>\n",
       "</div>"
      ],
      "text/plain": [
       "      country  year  population\n",
       "48  Argentina  1952    17876956\n",
       "49  Argentina  1957    19610538\n",
       "50  Argentina  1962    21283783\n",
       "51  Argentina  1967    22934225\n",
       "52  Argentina  1972    24779799"
      ]
     },
     "execution_count": 16,
     "metadata": {},
     "output_type": "execute_result"
    }
   ],
   "source": [
    "df_pop_ar = df_pop[(df_pop[\"country\"] == 'Argentina')]\n",
    "df_pop_ar.head()"
   ]
  },
  {
   "cell_type": "code",
   "execution_count": 17,
   "metadata": {
    "ExecuteTime": {
     "end_time": "2019-12-08T22:02:39.549547Z",
     "start_time": "2019-12-08T22:02:39.523476Z"
    }
   },
   "outputs": [
    {
     "data": {
      "text/plain": [
       "(12, 3)"
      ]
     },
     "execution_count": 17,
     "metadata": {},
     "output_type": "execute_result"
    }
   ],
   "source": [
    "df_pop_ar.shape"
   ]
  },
  {
   "cell_type": "code",
   "execution_count": 18,
   "metadata": {
    "ExecuteTime": {
     "end_time": "2019-12-08T22:02:39.807622Z",
     "start_time": "2019-12-08T22:02:39.552783Z"
    }
   },
   "outputs": [
    {
     "data": {
      "text/plain": [
       "<AxesSubplot:xlabel='year'>"
      ]
     },
     "execution_count": 18,
     "metadata": {},
     "output_type": "execute_result"
    },
    {
     "data": {
      "image/png": "[encoded data removed]",
      "text/plain": [
       "<Figure size 432x288 with 1 Axes>"
      ]
     },
     "metadata": {
      "needs_background": "light"
     },
     "output_type": "display_data"
    }
   ],
   "source": [
    "df_pop_ar.set_index('year').plot(kind='bar')"
   ]
  },
  {
   "cell_type": "markdown",
   "metadata": {},
   "source": [
    "## Comparativa entre 2 países"
   ]
  },
  {
   "cell_type": "code",
   "execution_count": 20,
   "metadata": {},
   "outputs": [
    {
     "data": {
      "text/plain": [
       "array([1952, 1957, 1962, 1967, 1972, 1977, 1982, 1987, 1992, 1997, 2002,\n",
       "       2007], dtype=int64)"
      ]
     },
     "execution_count": 20,
     "metadata": {},
     "output_type": "execute_result"
    }
   ],
   "source": [
    "df_pop_es['year'].unique()"
   ]
  },
  {
   "cell_type": "code",
   "execution_count": 26,
   "metadata": {
    "ExecuteTime": {
     "end_time": "2019-12-08T22:02:40.139905Z",
     "start_time": "2019-12-08T22:02:39.810381Z"
    }
   },
   "outputs": [
    {
     "data": {
      "text/plain": [
       "<AxesSubplot:>"
      ]
     },
     "execution_count": 26,
     "metadata": {},
     "output_type": "execute_result"
    },
    {
     "data": {
      "image/png": "[encoded data removed]",
      "text/plain": [
       "<Figure size 432x288 with 1 Axes>"
      ]
     },
     "metadata": {
      "needs_background": "light"
     },
     "output_type": "display_data"
    }
   ],
   "source": [
    "anios = df_pop_pe['year'].unique()\n",
    "pop_ar = df_pop_ar['population'].values\n",
    "pop_pe = df_pop_pe['population'].values\n",
    "\n",
    "df_plot = pd.DataFrame({'Argentina': pop_ar,\n",
    "                    'Peru': pop_pe}, \n",
    "                       index=anios)\n",
    "df_plot.plot(kind='bar')"
   ]
  },
  {
   "cell_type": "markdown",
   "metadata": {},
   "source": [
    "# Filtremos paises hispano-hablantes"
   ]
  },
  {
   "cell_type": "code",
   "execution_count": 29,
   "metadata": {},
   "outputs": [
    {
     "data": {
      "text/plain": [
       "0                                        ca\n",
       "1                         ar-AE,fa,en,hi,ur\n",
       "2                         fa-AF,ps,uz-AF,tk\n",
       "3                                     en-AG\n",
       "4                                     en-AI\n",
       "                       ...                 \n",
       "247    zu,xh,af,nso,en-ZA,tn,st,ts,ss,ve,nr\n",
       "248            en-ZM,bem,loz,lun,lue,ny,toi\n",
       "249                          en-ZW,sn,nr,nd\n",
       "250                             cu,hu,sq,sr\n",
       "251                             nl-AN,en,es\n",
       "Name: languages, Length: 252, dtype: object"
      ]
     },
     "execution_count": 29,
     "metadata": {},
     "output_type": "execute_result"
    }
   ],
   "source": [
    "df[\"languages\"]"
   ]
  },
  {
   "cell_type": "code",
   "execution_count": 42,
   "metadata": {
    "ExecuteTime": {
     "end_time": "2019-12-08T22:02:40.199235Z",
     "start_time": "2019-12-08T22:02:40.142691Z"
    }
   },
   "outputs": [
    {
     "data": {
      "text/html": [
       "<div>\n",
       "<style scoped>\n",
       "    .dataframe tbody tr th:only-of-type {\n",
       "        vertical-align: middle;\n",
       "    }\n",
       "\n",
       "    .dataframe tbody tr th {\n",
       "        vertical-align: top;\n",
       "    }\n",
       "\n",
       "    .dataframe thead th {\n",
       "        text-align: right;\n",
       "    }\n",
       "</style>\n",
       "<table border=\"1\" class=\"dataframe\">\n",
       "  <thead>\n",
       "    <tr style=\"text-align: right;\">\n",
       "      <th></th>\n",
       "      <th>alpha_2</th>\n",
       "      <th>alpha_3</th>\n",
       "      <th>area</th>\n",
       "      <th>capital</th>\n",
       "      <th>continent</th>\n",
       "      <th>currency_code</th>\n",
       "      <th>currency_name</th>\n",
       "      <th>eqivalent_fips_code</th>\n",
       "      <th>fips</th>\n",
       "      <th>geoname_id</th>\n",
       "      <th>languages</th>\n",
       "      <th>name</th>\n",
       "      <th>neighbours</th>\n",
       "      <th>numeric</th>\n",
       "      <th>phone</th>\n",
       "      <th>population</th>\n",
       "      <th>postal_code_format</th>\n",
       "      <th>postal_code_regex</th>\n",
       "      <th>tld</th>\n",
       "    </tr>\n",
       "  </thead>\n",
       "  <tbody>\n",
       "    <tr>\n",
       "      <th>9</th>\n",
       "      <td>AR</td>\n",
       "      <td>ARG</td>\n",
       "      <td>2766890.0</td>\n",
       "      <td>Buenos Aires</td>\n",
       "      <td>SA</td>\n",
       "      <td>ARS</td>\n",
       "      <td>Peso</td>\n",
       "      <td></td>\n",
       "      <td>AR</td>\n",
       "      <td>3865483</td>\n",
       "      <td>es-AR,en,it,de,fr,gn</td>\n",
       "      <td>Argentina</td>\n",
       "      <td>CL,BO,UY,PY,BR</td>\n",
       "      <td>32</td>\n",
       "      <td>54</td>\n",
       "      <td>41343201</td>\n",
       "      <td>@####@@@</td>\n",
       "      <td>^[A-Z]?\\d{4}[A-Z]{0,3}$</td>\n",
       "      <td>.ar</td>\n",
       "    </tr>\n",
       "    <tr>\n",
       "      <th>19</th>\n",
       "      <td>BE</td>\n",
       "      <td>BEL</td>\n",
       "      <td>30510.0</td>\n",
       "      <td>Brussels</td>\n",
       "      <td>EU</td>\n",
       "      <td>EUR</td>\n",
       "      <td>Euro</td>\n",
       "      <td></td>\n",
       "      <td>BE</td>\n",
       "      <td>2802361</td>\n",
       "      <td>nl-BE,fr-BE,de-BE</td>\n",
       "      <td>Belgium</td>\n",
       "      <td>DE,NL,LU,FR</td>\n",
       "      <td>56</td>\n",
       "      <td>32</td>\n",
       "      <td>10403000</td>\n",
       "      <td>####</td>\n",
       "      <td>^(\\d{4})$</td>\n",
       "      <td>.be</td>\n",
       "    </tr>\n",
       "    <tr>\n",
       "      <th>20</th>\n",
       "      <td>BF</td>\n",
       "      <td>BFA</td>\n",
       "      <td>274200.0</td>\n",
       "      <td>Ouagadougou</td>\n",
       "      <td>AF</td>\n",
       "      <td>XOF</td>\n",
       "      <td>Franc</td>\n",
       "      <td></td>\n",
       "      <td>UV</td>\n",
       "      <td>2361809</td>\n",
       "      <td>fr-BF</td>\n",
       "      <td>Burkina Faso</td>\n",
       "      <td>NE,BJ,GH,CI,TG,ML</td>\n",
       "      <td>854</td>\n",
       "      <td>226</td>\n",
       "      <td>16241811</td>\n",
       "      <td></td>\n",
       "      <td></td>\n",
       "      <td>.bf</td>\n",
       "    </tr>\n",
       "    <tr>\n",
       "      <th>23</th>\n",
       "      <td>BI</td>\n",
       "      <td>BDI</td>\n",
       "      <td>27830.0</td>\n",
       "      <td>Bujumbura</td>\n",
       "      <td>AF</td>\n",
       "      <td>BIF</td>\n",
       "      <td>Franc</td>\n",
       "      <td></td>\n",
       "      <td>BY</td>\n",
       "      <td>433561</td>\n",
       "      <td>fr-BI,rn</td>\n",
       "      <td>Burundi</td>\n",
       "      <td>TZ,CD,RW</td>\n",
       "      <td>108</td>\n",
       "      <td>257</td>\n",
       "      <td>9863117</td>\n",
       "      <td></td>\n",
       "      <td></td>\n",
       "      <td>.bi</td>\n",
       "    </tr>\n",
       "    <tr>\n",
       "      <th>24</th>\n",
       "      <td>BJ</td>\n",
       "      <td>BEN</td>\n",
       "      <td>112620.0</td>\n",
       "      <td>Porto-Novo</td>\n",
       "      <td>AF</td>\n",
       "      <td>XOF</td>\n",
       "      <td>Franc</td>\n",
       "      <td></td>\n",
       "      <td>BN</td>\n",
       "      <td>2395170</td>\n",
       "      <td>fr-BJ</td>\n",
       "      <td>Benin</td>\n",
       "      <td>NE,TG,BF,NG</td>\n",
       "      <td>204</td>\n",
       "      <td>229</td>\n",
       "      <td>9056010</td>\n",
       "      <td></td>\n",
       "      <td></td>\n",
       "      <td>.bj</td>\n",
       "    </tr>\n",
       "    <tr>\n",
       "      <th>...</th>\n",
       "      <td>...</td>\n",
       "      <td>...</td>\n",
       "      <td>...</td>\n",
       "      <td>...</td>\n",
       "      <td>...</td>\n",
       "      <td>...</td>\n",
       "      <td>...</td>\n",
       "      <td>...</td>\n",
       "      <td>...</td>\n",
       "      <td>...</td>\n",
       "      <td>...</td>\n",
       "      <td>...</td>\n",
       "      <td>...</td>\n",
       "      <td>...</td>\n",
       "      <td>...</td>\n",
       "      <td>...</td>\n",
       "      <td>...</td>\n",
       "      <td>...</td>\n",
       "      <td>...</td>\n",
       "    </tr>\n",
       "    <tr>\n",
       "      <th>237</th>\n",
       "      <td>VC</td>\n",
       "      <td>VCT</td>\n",
       "      <td>389.0</td>\n",
       "      <td>Kingstown</td>\n",
       "      <td></td>\n",
       "      <td>XCD</td>\n",
       "      <td>Dollar</td>\n",
       "      <td></td>\n",
       "      <td>VC</td>\n",
       "      <td>3577815</td>\n",
       "      <td>en-VC,fr</td>\n",
       "      <td>Saint Vincent and the Grenadines</td>\n",
       "      <td></td>\n",
       "      <td>670</td>\n",
       "      <td>+1-784</td>\n",
       "      <td>104217</td>\n",
       "      <td></td>\n",
       "      <td></td>\n",
       "      <td>.vc</td>\n",
       "    </tr>\n",
       "    <tr>\n",
       "      <th>241</th>\n",
       "      <td>VN</td>\n",
       "      <td>VNM</td>\n",
       "      <td>329560.0</td>\n",
       "      <td>Hanoi</td>\n",
       "      <td>AS</td>\n",
       "      <td>VND</td>\n",
       "      <td>Dong</td>\n",
       "      <td></td>\n",
       "      <td>VM</td>\n",
       "      <td>1562822</td>\n",
       "      <td>vi,en,fr,zh,km</td>\n",
       "      <td>Vietnam</td>\n",
       "      <td>CN,LA,KH</td>\n",
       "      <td>704</td>\n",
       "      <td>84</td>\n",
       "      <td>89571130</td>\n",
       "      <td>######</td>\n",
       "      <td>^(\\d{6})$</td>\n",
       "      <td>.vn</td>\n",
       "    </tr>\n",
       "    <tr>\n",
       "      <th>242</th>\n",
       "      <td>VU</td>\n",
       "      <td>VUT</td>\n",
       "      <td>12200.0</td>\n",
       "      <td>Port Vila</td>\n",
       "      <td>OC</td>\n",
       "      <td>VUV</td>\n",
       "      <td>Vatu</td>\n",
       "      <td></td>\n",
       "      <td>NH</td>\n",
       "      <td>2134431</td>\n",
       "      <td>bi,en-VU,fr-VU</td>\n",
       "      <td>Vanuatu</td>\n",
       "      <td></td>\n",
       "      <td>548</td>\n",
       "      <td>678</td>\n",
       "      <td>221552</td>\n",
       "      <td></td>\n",
       "      <td></td>\n",
       "      <td>.vu</td>\n",
       "    </tr>\n",
       "    <tr>\n",
       "      <th>243</th>\n",
       "      <td>WF</td>\n",
       "      <td>WLF</td>\n",
       "      <td>274.0</td>\n",
       "      <td>Mata Utu</td>\n",
       "      <td>OC</td>\n",
       "      <td>XPF</td>\n",
       "      <td>Franc</td>\n",
       "      <td></td>\n",
       "      <td>WF</td>\n",
       "      <td>4034749</td>\n",
       "      <td>wls,fud,fr-WF</td>\n",
       "      <td>Wallis and Futuna</td>\n",
       "      <td></td>\n",
       "      <td>876</td>\n",
       "      <td>681</td>\n",
       "      <td>16025</td>\n",
       "      <td>#####</td>\n",
       "      <td>^(986\\d{2})$</td>\n",
       "      <td>.wf</td>\n",
       "    </tr>\n",
       "    <tr>\n",
       "      <th>246</th>\n",
       "      <td>YT</td>\n",
       "      <td>MYT</td>\n",
       "      <td>374.0</td>\n",
       "      <td>Mamoudzou</td>\n",
       "      <td>AF</td>\n",
       "      <td>EUR</td>\n",
       "      <td>Euro</td>\n",
       "      <td></td>\n",
       "      <td>MF</td>\n",
       "      <td>1024031</td>\n",
       "      <td>fr-YT</td>\n",
       "      <td>Mayotte</td>\n",
       "      <td></td>\n",
       "      <td>175</td>\n",
       "      <td>262</td>\n",
       "      <td>159042</td>\n",
       "      <td>#####</td>\n",
       "      <td>^(\\d{5})$</td>\n",
       "      <td>.yt</td>\n",
       "    </tr>\n",
       "  </tbody>\n",
       "</table>\n",
       "<p>61 rows × 19 columns</p>\n",
       "</div>"
      ],
      "text/plain": [
       "    alpha_2 alpha_3       area       capital continent currency_code  \\\n",
       "9        AR     ARG  2766890.0  Buenos Aires        SA           ARS   \n",
       "19       BE     BEL    30510.0      Brussels        EU           EUR   \n",
       "20       BF     BFA   274200.0   Ouagadougou        AF           XOF   \n",
       "23       BI     BDI    27830.0     Bujumbura        AF           BIF   \n",
       "24       BJ     BEN   112620.0    Porto-Novo        AF           XOF   \n",
       "..      ...     ...        ...           ...       ...           ...   \n",
       "237      VC     VCT      389.0     Kingstown                     XCD   \n",
       "241      VN     VNM   329560.0         Hanoi        AS           VND   \n",
       "242      VU     VUT    12200.0     Port Vila        OC           VUV   \n",
       "243      WF     WLF      274.0      Mata Utu        OC           XPF   \n",
       "246      YT     MYT      374.0     Mamoudzou        AF           EUR   \n",
       "\n",
       "    currency_name eqivalent_fips_code fips  geoname_id             languages  \\\n",
       "9            Peso                       AR     3865483  es-AR,en,it,de,fr,gn   \n",
       "19           Euro                       BE     2802361     nl-BE,fr-BE,de-BE   \n",
       "20          Franc                       UV     2361809                 fr-BF   \n",
       "23          Franc                       BY      433561              fr-BI,rn   \n",
       "24          Franc                       BN     2395170                 fr-BJ   \n",
       "..            ...                 ...  ...         ...                   ...   \n",
       "237        Dollar                       VC     3577815              en-VC,fr   \n",
       "241          Dong                       VM     1562822        vi,en,fr,zh,km   \n",
       "242          Vatu                       NH     2134431        bi,en-VU,fr-VU   \n",
       "243         Franc                       WF     4034749         wls,fud,fr-WF   \n",
       "246          Euro                       MF     1024031                 fr-YT   \n",
       "\n",
       "                                 name         neighbours  numeric   phone  \\\n",
       "9                           Argentina     CL,BO,UY,PY,BR       32      54   \n",
       "19                            Belgium        DE,NL,LU,FR       56      32   \n",
       "20                       Burkina Faso  NE,BJ,GH,CI,TG,ML      854     226   \n",
       "23                            Burundi           TZ,CD,RW      108     257   \n",
       "24                              Benin        NE,TG,BF,NG      204     229   \n",
       "..                                ...                ...      ...     ...   \n",
       "237  Saint Vincent and the Grenadines                         670  +1-784   \n",
       "241                           Vietnam           CN,LA,KH      704      84   \n",
       "242                           Vanuatu                         548     678   \n",
       "243                 Wallis and Futuna                         876     681   \n",
       "246                           Mayotte                         175     262   \n",
       "\n",
       "     population postal_code_format        postal_code_regex  tld  \n",
       "9      41343201           @####@@@  ^[A-Z]?\\d{4}[A-Z]{0,3}$  .ar  \n",
       "19     10403000               ####                ^(\\d{4})$  .be  \n",
       "20     16241811                                              .bf  \n",
       "23      9863117                                              .bi  \n",
       "24      9056010                                              .bj  \n",
       "..          ...                ...                      ...  ...  \n",
       "237      104217                                              .vc  \n",
       "241    89571130             ######                ^(\\d{6})$  .vn  \n",
       "242      221552                                              .vu  \n",
       "243       16025              #####             ^(986\\d{2})$  .wf  \n",
       "246      159042              #####                ^(\\d{5})$  .yt  \n",
       "\n",
       "[61 rows x 19 columns]"
      ]
     },
     "execution_count": 42,
     "metadata": {},
     "output_type": "execute_result"
    }
   ],
   "source": [
    "df_frances = df.replace(np.nan, '', regex=True)\n",
    "df_frances = df_frances[ df_frances['languages'].str.contains('fr') ]\n",
    "df_frances"
   ]
  },
  {
   "cell_type": "code",
   "execution_count": 43,
   "metadata": {
    "ExecuteTime": {
     "end_time": "2019-12-08T22:02:40.210324Z",
     "start_time": "2019-12-08T22:02:40.202616Z"
    }
   },
   "outputs": [
    {
     "data": {
      "text/plain": [
       "(61, 19)"
      ]
     },
     "execution_count": 43,
     "metadata": {},
     "output_type": "execute_result"
    }
   ],
   "source": [
    "df_frances.shape"
   ]
  },
  {
   "cell_type": "markdown",
   "metadata": {},
   "source": [
    "## Visualicemos por población"
   ]
  },
  {
   "cell_type": "code",
   "execution_count": 44,
   "metadata": {
    "ExecuteTime": {
     "end_time": "2019-12-08T22:02:40.806679Z",
     "start_time": "2019-12-08T22:02:40.213973Z"
    }
   },
   "outputs": [
    {
     "data": {
      "text/plain": [
       "<AxesSubplot:xlabel='alpha_3'>"
      ]
     },
     "execution_count": 44,
     "metadata": {},
     "output_type": "execute_result"
    },
    {
     "data": {
      "image/png": "[encoded data removed]",
      "text/plain": [
       "<Figure size 1440x720 with 1 Axes>"
      ]
     },
     "metadata": {
      "needs_background": "light"
     },
     "output_type": "display_data"
    }
   ],
   "source": [
    "df_frances.set_index('alpha_3')[['population','area']].plot(kind='bar',rot=65,figsize=(20,10))"
   ]
  },
  {
   "cell_type": "markdown",
   "metadata": {},
   "source": [
    "## Detección de Outliers"
   ]
  },
  {
   "cell_type": "code",
   "execution_count": 45,
   "metadata": {
    "ExecuteTime": {
     "end_time": "2019-12-08T22:02:55.543787Z",
     "start_time": "2019-12-08T22:02:55.521193Z"
    }
   },
   "outputs": [
    {
     "name": "stdout",
     "output_type": "stream",
     "text": [
      "-270660794.4214015\n",
      "351057261.2410736\n"
     ]
    },
    {
     "data": {
      "text/plain": [
       "['IND']"
      ]
     },
     "execution_count": 45,
     "metadata": {},
     "output_type": "execute_result"
    }
   ],
   "source": [
    "anomalies = []\n",
    "\n",
    "# Funcion ejemplo para detección de outliers\n",
    "def find_anomalies(data):\n",
    "    # Set upper and lower limit to 2 standard deviation\n",
    "    data_std = data.std()\n",
    "    data_mean = data.mean()\n",
    "    anomaly_cut_off = data_std * 2\n",
    "    lower_limit  = data_mean - anomaly_cut_off \n",
    "    upper_limit = data_mean + anomaly_cut_off\n",
    "    print(lower_limit.iloc[0])\n",
    "    print(upper_limit.iloc[0])\n",
    "\n",
    "    # Generate outliers\n",
    "    for index, row in data.iterrows():\n",
    "        outlier = row # # obtener primer columna\n",
    "        # print(outlier)\n",
    "        if (outlier.iloc[0] > upper_limit.iloc[0]) or (outlier.iloc[0] < lower_limit.iloc[0]):\n",
    "            anomalies.append(index)\n",
    "    return anomalies\n",
    "\n",
    "find_anomalies(df_frances.set_index('alpha_3')[['population']])"
   ]
  },
  {
   "cell_type": "code",
   "execution_count": 46,
   "metadata": {
    "ExecuteTime": {
     "end_time": "2019-12-08T22:03:21.432811Z",
     "start_time": "2019-12-08T22:03:21.427535Z"
    }
   },
   "outputs": [],
   "source": [
    "# Quitemos BRA y USA por ser outlies y volvamos a graficar:\n",
    "df_frances.drop([30,233], inplace=True)"
   ]
  },
  {
   "cell_type": "code",
   "execution_count": 47,
   "metadata": {
    "ExecuteTime": {
     "end_time": "2019-12-08T22:03:22.946923Z",
     "start_time": "2019-12-08T22:03:22.477307Z"
    }
   },
   "outputs": [
    {
     "data": {
      "text/plain": [
       "<AxesSubplot:xlabel='alpha_3'>"
      ]
     },
     "execution_count": 47,
     "metadata": {},
     "output_type": "execute_result"
    },
    {
     "data": {
      "image/png": "[encoded data removed]",
      "text/plain": [
       "<Figure size 1440x720 with 1 Axes>"
      ]
     },
     "metadata": {
      "needs_background": "light"
     },
     "output_type": "display_data"
    }
   ],
   "source": [
    "df_frances.set_index('alpha_3')[['population','area']].plot(kind='bar',rot=65,figsize=(20,10))"
   ]
  },
  {
   "cell_type": "markdown",
   "metadata": {},
   "source": [
    "## Graficamos ordenando por tamaño Población"
   ]
  },
  {
   "cell_type": "code",
   "execution_count": 48,
   "metadata": {
    "ExecuteTime": {
     "end_time": "2019-12-08T22:03:26.045129Z",
     "start_time": "2019-12-08T22:03:25.515844Z"
    }
   },
   "outputs": [
    {
     "data": {
      "text/plain": [
       "<AxesSubplot:xlabel='alpha_3'>"
      ]
     },
     "execution_count": 48,
     "metadata": {},
     "output_type": "execute_result"
    },
    {
     "data": {
      "image/png": "[encoded data removed]",
      "text/plain": [
       "<Figure size 1440x720 with 1 Axes>"
      ]
     },
     "metadata": {
      "needs_background": "light"
     },
     "output_type": "display_data"
    }
   ],
   "source": [
    "df_frances.set_index('alpha_3')[['population','area']].sort_values([\"population\"]).plot(kind='bar',rot=65,figsize=(20,10))"
   ]
  },
  {
   "cell_type": "markdown",
   "metadata": {},
   "source": [
    "## Visualización por Área"
   ]
  },
  {
   "cell_type": "code",
   "execution_count": 49,
   "metadata": {
    "ExecuteTime": {
     "end_time": "2019-12-08T22:03:28.127698Z",
     "start_time": "2019-12-08T22:03:27.680006Z"
    }
   },
   "outputs": [
    {
     "ename": "SyntaxError",
     "evalue": "invalid syntax (<ipython-input-49-d426f713e4be>, line 1)",
     "output_type": "error",
     "traceback": [
      "\u001b[1;36m  File \u001b[1;32m\"<ipython-input-49-d426f713e4be>\"\u001b[1;36m, line \u001b[1;32m1\u001b[0m\n\u001b[1;33m    4df_frances.set_index('alpha_3')[['area']].sort_values([\"area\"]).plot(kind='bar',rot=65,figsize=(20,10))\u001b[0m\n\u001b[1;37m     ^\u001b[0m\n\u001b[1;31mSyntaxError\u001b[0m\u001b[1;31m:\u001b[0m invalid syntax\n"
     ]
    }
   ],
   "source": [
    "4df_frances.set_index('alpha_3')[['area']].sort_values([\"area\"]).plot(kind='bar',rot=65,figsize=(20,10))"
   ]
  },
  {
   "cell_type": "code",
   "execution_count": 50,
   "metadata": {
    "ExecuteTime": {
     "end_time": "2019-12-08T22:36:50.772742Z",
     "start_time": "2019-12-08T22:36:50.738258Z"
    }
   },
   "outputs": [
    {
     "data": {
      "text/html": [
       "<div>\n",
       "<style scoped>\n",
       "    .dataframe tbody tr th:only-of-type {\n",
       "        vertical-align: middle;\n",
       "    }\n",
       "\n",
       "    .dataframe tbody tr th {\n",
       "        vertical-align: top;\n",
       "    }\n",
       "\n",
       "    .dataframe thead th {\n",
       "        text-align: right;\n",
       "    }\n",
       "</style>\n",
       "<table border=\"1\" class=\"dataframe\">\n",
       "  <thead>\n",
       "    <tr style=\"text-align: right;\">\n",
       "      <th></th>\n",
       "      <th>alpha_2</th>\n",
       "      <th>area</th>\n",
       "      <th>capital</th>\n",
       "      <th>continent</th>\n",
       "      <th>currency_code</th>\n",
       "      <th>currency_name</th>\n",
       "      <th>eqivalent_fips_code</th>\n",
       "      <th>fips</th>\n",
       "      <th>geoname_id</th>\n",
       "      <th>languages</th>\n",
       "      <th>name</th>\n",
       "      <th>neighbours</th>\n",
       "      <th>numeric</th>\n",
       "      <th>phone</th>\n",
       "      <th>population</th>\n",
       "      <th>postal_code_format</th>\n",
       "      <th>postal_code_regex</th>\n",
       "      <th>tld</th>\n",
       "    </tr>\n",
       "    <tr>\n",
       "      <th>alpha_3</th>\n",
       "      <th></th>\n",
       "      <th></th>\n",
       "      <th></th>\n",
       "      <th></th>\n",
       "      <th></th>\n",
       "      <th></th>\n",
       "      <th></th>\n",
       "      <th></th>\n",
       "      <th></th>\n",
       "      <th></th>\n",
       "      <th></th>\n",
       "      <th></th>\n",
       "      <th></th>\n",
       "      <th></th>\n",
       "      <th></th>\n",
       "      <th></th>\n",
       "      <th></th>\n",
       "      <th></th>\n",
       "    </tr>\n",
       "  </thead>\n",
       "  <tbody>\n",
       "    <tr>\n",
       "      <th>ARG</th>\n",
       "      <td>AR</td>\n",
       "      <td>2766890.0</td>\n",
       "      <td>Buenos Aires</td>\n",
       "      <td>SA</td>\n",
       "      <td>ARS</td>\n",
       "      <td>Peso</td>\n",
       "      <td></td>\n",
       "      <td>AR</td>\n",
       "      <td>3865483</td>\n",
       "      <td>es-AR,en,it,de,fr,gn</td>\n",
       "      <td>Argentina</td>\n",
       "      <td>CL,BO,UY,PY,BR</td>\n",
       "      <td>32</td>\n",
       "      <td>54</td>\n",
       "      <td>41343201</td>\n",
       "      <td>@####@@@</td>\n",
       "      <td>^[A-Z]?\\d{4}[A-Z]{0,3}$</td>\n",
       "      <td>.ar</td>\n",
       "    </tr>\n",
       "    <tr>\n",
       "      <th>BFA</th>\n",
       "      <td>BF</td>\n",
       "      <td>274200.0</td>\n",
       "      <td>Ouagadougou</td>\n",
       "      <td>AF</td>\n",
       "      <td>XOF</td>\n",
       "      <td>Franc</td>\n",
       "      <td></td>\n",
       "      <td>UV</td>\n",
       "      <td>2361809</td>\n",
       "      <td>fr-BF</td>\n",
       "      <td>Burkina Faso</td>\n",
       "      <td>NE,BJ,GH,CI,TG,ML</td>\n",
       "      <td>854</td>\n",
       "      <td>226</td>\n",
       "      <td>16241811</td>\n",
       "      <td></td>\n",
       "      <td></td>\n",
       "      <td>.bf</td>\n",
       "    </tr>\n",
       "    <tr>\n",
       "      <th>BEN</th>\n",
       "      <td>BJ</td>\n",
       "      <td>112620.0</td>\n",
       "      <td>Porto-Novo</td>\n",
       "      <td>AF</td>\n",
       "      <td>XOF</td>\n",
       "      <td>Franc</td>\n",
       "      <td></td>\n",
       "      <td>BN</td>\n",
       "      <td>2395170</td>\n",
       "      <td>fr-BJ</td>\n",
       "      <td>Benin</td>\n",
       "      <td>NE,TG,BF,NG</td>\n",
       "      <td>204</td>\n",
       "      <td>229</td>\n",
       "      <td>9056010</td>\n",
       "      <td></td>\n",
       "      <td></td>\n",
       "      <td>.bj</td>\n",
       "    </tr>\n",
       "    <tr>\n",
       "      <th>CAN</th>\n",
       "      <td>CA</td>\n",
       "      <td>9984670.0</td>\n",
       "      <td>Ottawa</td>\n",
       "      <td></td>\n",
       "      <td>CAD</td>\n",
       "      <td>Dollar</td>\n",
       "      <td></td>\n",
       "      <td>CA</td>\n",
       "      <td>6251999</td>\n",
       "      <td>en-CA,fr-CA,iu</td>\n",
       "      <td>Canada</td>\n",
       "      <td>US</td>\n",
       "      <td>124</td>\n",
       "      <td>1</td>\n",
       "      <td>33679000</td>\n",
       "      <td>@#@ #@#</td>\n",
       "      <td>^([ABCEGHJKLMNPRSTVXY]\\d[ABCEGHJKLMNPRSTVWXYZ]...</td>\n",
       "      <td>.ca</td>\n",
       "    </tr>\n",
       "    <tr>\n",
       "      <th>COD</th>\n",
       "      <td>CD</td>\n",
       "      <td>2345410.0</td>\n",
       "      <td>Kinshasa</td>\n",
       "      <td>AF</td>\n",
       "      <td>CDF</td>\n",
       "      <td>Franc</td>\n",
       "      <td></td>\n",
       "      <td>CG</td>\n",
       "      <td>203312</td>\n",
       "      <td>fr-CD,ln,kg</td>\n",
       "      <td>Democratic Republic of the Congo</td>\n",
       "      <td>TZ,CF,SS,RW,ZM,BI,UG,CG,AO</td>\n",
       "      <td>180</td>\n",
       "      <td>243</td>\n",
       "      <td>70916439</td>\n",
       "      <td></td>\n",
       "      <td></td>\n",
       "      <td>.cd</td>\n",
       "    </tr>\n",
       "    <tr>\n",
       "      <th>CAF</th>\n",
       "      <td>CF</td>\n",
       "      <td>622984.0</td>\n",
       "      <td>Bangui</td>\n",
       "      <td>AF</td>\n",
       "      <td>XAF</td>\n",
       "      <td>Franc</td>\n",
       "      <td></td>\n",
       "      <td>CT</td>\n",
       "      <td>239880</td>\n",
       "      <td>fr-CF,sg,ln,kg</td>\n",
       "      <td>Central African Republic</td>\n",
       "      <td>TD,SD,CD,SS,CM,CG</td>\n",
       "      <td>140</td>\n",
       "      <td>236</td>\n",
       "      <td>4844927</td>\n",
       "      <td></td>\n",
       "      <td></td>\n",
       "      <td>.cf</td>\n",
       "    </tr>\n",
       "    <tr>\n",
       "      <th>COG</th>\n",
       "      <td>CG</td>\n",
       "      <td>342000.0</td>\n",
       "      <td>Brazzaville</td>\n",
       "      <td>AF</td>\n",
       "      <td>XAF</td>\n",
       "      <td>Franc</td>\n",
       "      <td></td>\n",
       "      <td>CF</td>\n",
       "      <td>2260494</td>\n",
       "      <td>fr-CG,kg,ln-CG</td>\n",
       "      <td>Republic of the Congo</td>\n",
       "      <td>CF,GA,CD,CM,AO</td>\n",
       "      <td>178</td>\n",
       "      <td>242</td>\n",
       "      <td>3039126</td>\n",
       "      <td></td>\n",
       "      <td></td>\n",
       "      <td>.cg</td>\n",
       "    </tr>\n",
       "    <tr>\n",
       "      <th>CIV</th>\n",
       "      <td>CI</td>\n",
       "      <td>322460.0</td>\n",
       "      <td>Yamoussoukro</td>\n",
       "      <td>AF</td>\n",
       "      <td>XOF</td>\n",
       "      <td>Franc</td>\n",
       "      <td></td>\n",
       "      <td>IV</td>\n",
       "      <td>2287781</td>\n",
       "      <td>fr-CI</td>\n",
       "      <td>Ivory Coast</td>\n",
       "      <td>LR,GH,GN,BF,ML</td>\n",
       "      <td>384</td>\n",
       "      <td>225</td>\n",
       "      <td>21058798</td>\n",
       "      <td></td>\n",
       "      <td></td>\n",
       "      <td>.ci</td>\n",
       "    </tr>\n",
       "    <tr>\n",
       "      <th>CMR</th>\n",
       "      <td>CM</td>\n",
       "      <td>475440.0</td>\n",
       "      <td>Yaounde</td>\n",
       "      <td>AF</td>\n",
       "      <td>XAF</td>\n",
       "      <td>Franc</td>\n",
       "      <td></td>\n",
       "      <td>CM</td>\n",
       "      <td>2233387</td>\n",
       "      <td>en-CM,fr-CM</td>\n",
       "      <td>Cameroon</td>\n",
       "      <td>TD,CF,GA,GQ,CG,NG</td>\n",
       "      <td>120</td>\n",
       "      <td>237</td>\n",
       "      <td>19294149</td>\n",
       "      <td></td>\n",
       "      <td></td>\n",
       "      <td>.cm</td>\n",
       "    </tr>\n",
       "    <tr>\n",
       "      <th>EGY</th>\n",
       "      <td>EG</td>\n",
       "      <td>1001450.0</td>\n",
       "      <td>Cairo</td>\n",
       "      <td>AF</td>\n",
       "      <td>EGP</td>\n",
       "      <td>Pound</td>\n",
       "      <td></td>\n",
       "      <td>EG</td>\n",
       "      <td>357994</td>\n",
       "      <td>ar-EG,en,fr</td>\n",
       "      <td>Egypt</td>\n",
       "      <td>LY,SD,IL,PS</td>\n",
       "      <td>818</td>\n",
       "      <td>20</td>\n",
       "      <td>80471869</td>\n",
       "      <td>#####</td>\n",
       "      <td>^(\\d{5})$</td>\n",
       "      <td>.eg</td>\n",
       "    </tr>\n",
       "    <tr>\n",
       "      <th>FRA</th>\n",
       "      <td>FR</td>\n",
       "      <td>547030.0</td>\n",
       "      <td>Paris</td>\n",
       "      <td>EU</td>\n",
       "      <td>EUR</td>\n",
       "      <td>Euro</td>\n",
       "      <td></td>\n",
       "      <td>FR</td>\n",
       "      <td>3017382</td>\n",
       "      <td>fr-FR,frp,br,co,ca,eu,oc</td>\n",
       "      <td>France</td>\n",
       "      <td>CH,DE,BE,LU,IT,AD,MC,ES</td>\n",
       "      <td>250</td>\n",
       "      <td>33</td>\n",
       "      <td>64768389</td>\n",
       "      <td>#####</td>\n",
       "      <td>^(\\d{5})$</td>\n",
       "      <td>.fr</td>\n",
       "    </tr>\n",
       "    <tr>\n",
       "      <th>GAB</th>\n",
       "      <td>GA</td>\n",
       "      <td>267667.0</td>\n",
       "      <td>Libreville</td>\n",
       "      <td>AF</td>\n",
       "      <td>XAF</td>\n",
       "      <td>Franc</td>\n",
       "      <td></td>\n",
       "      <td>GB</td>\n",
       "      <td>2400553</td>\n",
       "      <td>fr-GA</td>\n",
       "      <td>Gabon</td>\n",
       "      <td>CM,GQ,CG</td>\n",
       "      <td>266</td>\n",
       "      <td>241</td>\n",
       "      <td>1545255</td>\n",
       "      <td></td>\n",
       "      <td></td>\n",
       "      <td>.ga</td>\n",
       "    </tr>\n",
       "    <tr>\n",
       "      <th>GIN</th>\n",
       "      <td>GN</td>\n",
       "      <td>245857.0</td>\n",
       "      <td>Conakry</td>\n",
       "      <td>AF</td>\n",
       "      <td>GNF</td>\n",
       "      <td>Franc</td>\n",
       "      <td></td>\n",
       "      <td>GV</td>\n",
       "      <td>2420477</td>\n",
       "      <td>fr-GN</td>\n",
       "      <td>Guinea</td>\n",
       "      <td>LR,SN,SL,CI,GW,ML</td>\n",
       "      <td>324</td>\n",
       "      <td>224</td>\n",
       "      <td>10324025</td>\n",
       "      <td></td>\n",
       "      <td></td>\n",
       "      <td>.gn</td>\n",
       "    </tr>\n",
       "    <tr>\n",
       "      <th>GRC</th>\n",
       "      <td>GR</td>\n",
       "      <td>131940.0</td>\n",
       "      <td>Athens</td>\n",
       "      <td>EU</td>\n",
       "      <td>EUR</td>\n",
       "      <td>Euro</td>\n",
       "      <td></td>\n",
       "      <td>GR</td>\n",
       "      <td>390903</td>\n",
       "      <td>el-GR,en,fr</td>\n",
       "      <td>Greece</td>\n",
       "      <td>AL,MK,TR,BG</td>\n",
       "      <td>300</td>\n",
       "      <td>30</td>\n",
       "      <td>11000000</td>\n",
       "      <td>### ##</td>\n",
       "      <td>^(\\d{5})$</td>\n",
       "      <td>.gr</td>\n",
       "    </tr>\n",
       "    <tr>\n",
       "      <th>IND</th>\n",
       "      <td>IN</td>\n",
       "      <td>3287590.0</td>\n",
       "      <td>New Delhi</td>\n",
       "      <td>AS</td>\n",
       "      <td>INR</td>\n",
       "      <td>Rupee</td>\n",
       "      <td></td>\n",
       "      <td>IN</td>\n",
       "      <td>1269750</td>\n",
       "      <td>en-IN,hi,bn,te,mr,ta,ur,gu,kn,ml,or,pa,as,bh,s...</td>\n",
       "      <td>India</td>\n",
       "      <td>CN,NP,MM,BT,PK,BD</td>\n",
       "      <td>356</td>\n",
       "      <td>91</td>\n",
       "      <td>1173108018</td>\n",
       "      <td>######</td>\n",
       "      <td>^(\\d{6})$</td>\n",
       "      <td>.in</td>\n",
       "    </tr>\n",
       "    <tr>\n",
       "      <th>ITA</th>\n",
       "      <td>IT</td>\n",
       "      <td>301230.0</td>\n",
       "      <td>Rome</td>\n",
       "      <td>EU</td>\n",
       "      <td>EUR</td>\n",
       "      <td>Euro</td>\n",
       "      <td></td>\n",
       "      <td>IT</td>\n",
       "      <td>3175395</td>\n",
       "      <td>it-IT,de-IT,fr-IT,sc,ca,co,sl</td>\n",
       "      <td>Italy</td>\n",
       "      <td>CH,VA,SI,SM,FR,AT</td>\n",
       "      <td>380</td>\n",
       "      <td>39</td>\n",
       "      <td>60340328</td>\n",
       "      <td>#####</td>\n",
       "      <td>^(\\d{5})$</td>\n",
       "      <td>.it</td>\n",
       "    </tr>\n",
       "    <tr>\n",
       "      <th>KHM</th>\n",
       "      <td>KH</td>\n",
       "      <td>181040.0</td>\n",
       "      <td>Phnom Penh</td>\n",
       "      <td>AS</td>\n",
       "      <td>KHR</td>\n",
       "      <td>Riels</td>\n",
       "      <td></td>\n",
       "      <td>CB</td>\n",
       "      <td>1831722</td>\n",
       "      <td>km,fr,en</td>\n",
       "      <td>Cambodia</td>\n",
       "      <td>LA,TH,VN</td>\n",
       "      <td>116</td>\n",
       "      <td>855</td>\n",
       "      <td>14453680</td>\n",
       "      <td>#####</td>\n",
       "      <td>^(\\d{5})$</td>\n",
       "      <td>.kh</td>\n",
       "    </tr>\n",
       "    <tr>\n",
       "      <th>LAO</th>\n",
       "      <td>LA</td>\n",
       "      <td>236800.0</td>\n",
       "      <td>Vientiane</td>\n",
       "      <td>AS</td>\n",
       "      <td>LAK</td>\n",
       "      <td>Kip</td>\n",
       "      <td></td>\n",
       "      <td>LA</td>\n",
       "      <td>1655842</td>\n",
       "      <td>lo,fr,en</td>\n",
       "      <td>Laos</td>\n",
       "      <td>CN,MM,KH,TH,VN</td>\n",
       "      <td>418</td>\n",
       "      <td>856</td>\n",
       "      <td>6368162</td>\n",
       "      <td>#####</td>\n",
       "      <td>^(\\d{5})$</td>\n",
       "      <td>.la</td>\n",
       "    </tr>\n",
       "    <tr>\n",
       "      <th>MAR</th>\n",
       "      <td>MA</td>\n",
       "      <td>446550.0</td>\n",
       "      <td>Rabat</td>\n",
       "      <td>AF</td>\n",
       "      <td>MAD</td>\n",
       "      <td>Dirham</td>\n",
       "      <td></td>\n",
       "      <td>MO</td>\n",
       "      <td>2542007</td>\n",
       "      <td>ar-MA,fr</td>\n",
       "      <td>Morocco</td>\n",
       "      <td>DZ,EH,ES</td>\n",
       "      <td>504</td>\n",
       "      <td>212</td>\n",
       "      <td>31627428</td>\n",
       "      <td>#####</td>\n",
       "      <td>^(\\d{5})$</td>\n",
       "      <td>.ma</td>\n",
       "    </tr>\n",
       "    <tr>\n",
       "      <th>MDG</th>\n",
       "      <td>MG</td>\n",
       "      <td>587040.0</td>\n",
       "      <td>Antananarivo</td>\n",
       "      <td>AF</td>\n",
       "      <td>MGA</td>\n",
       "      <td>Ariary</td>\n",
       "      <td></td>\n",
       "      <td>MA</td>\n",
       "      <td>1062947</td>\n",
       "      <td>fr-MG,mg</td>\n",
       "      <td>Madagascar</td>\n",
       "      <td></td>\n",
       "      <td>450</td>\n",
       "      <td>261</td>\n",
       "      <td>21281844</td>\n",
       "      <td>###</td>\n",
       "      <td>^(\\d{3})$</td>\n",
       "      <td>.mg</td>\n",
       "    </tr>\n",
       "    <tr>\n",
       "      <th>MLI</th>\n",
       "      <td>ML</td>\n",
       "      <td>1240000.0</td>\n",
       "      <td>Bamako</td>\n",
       "      <td>AF</td>\n",
       "      <td>XOF</td>\n",
       "      <td>Franc</td>\n",
       "      <td></td>\n",
       "      <td>ML</td>\n",
       "      <td>2453866</td>\n",
       "      <td>fr-ML,bm</td>\n",
       "      <td>Mali</td>\n",
       "      <td>SN,NE,DZ,CI,GN,MR,BF</td>\n",
       "      <td>466</td>\n",
       "      <td>223</td>\n",
       "      <td>13796354</td>\n",
       "      <td></td>\n",
       "      <td></td>\n",
       "      <td>.ml</td>\n",
       "    </tr>\n",
       "    <tr>\n",
       "      <th>MRT</th>\n",
       "      <td>MR</td>\n",
       "      <td>1030700.0</td>\n",
       "      <td>Nouakchott</td>\n",
       "      <td>AF</td>\n",
       "      <td>MRO</td>\n",
       "      <td>Ouguiya</td>\n",
       "      <td></td>\n",
       "      <td>MR</td>\n",
       "      <td>2378080</td>\n",
       "      <td>ar-MR,fuc,snk,fr,mey,wo</td>\n",
       "      <td>Mauritania</td>\n",
       "      <td>SN,DZ,EH,ML</td>\n",
       "      <td>478</td>\n",
       "      <td>222</td>\n",
       "      <td>3205060</td>\n",
       "      <td></td>\n",
       "      <td></td>\n",
       "      <td>.mr</td>\n",
       "    </tr>\n",
       "    <tr>\n",
       "      <th>NER</th>\n",
       "      <td>NE</td>\n",
       "      <td>1267000.0</td>\n",
       "      <td>Niamey</td>\n",
       "      <td>AF</td>\n",
       "      <td>XOF</td>\n",
       "      <td>Franc</td>\n",
       "      <td></td>\n",
       "      <td>NG</td>\n",
       "      <td>2440476</td>\n",
       "      <td>fr-NE,ha,kr,dje</td>\n",
       "      <td>Niger</td>\n",
       "      <td>TD,BJ,DZ,LY,BF,NG,ML</td>\n",
       "      <td>562</td>\n",
       "      <td>227</td>\n",
       "      <td>15878271</td>\n",
       "      <td>####</td>\n",
       "      <td>^(\\d{4})$</td>\n",
       "      <td>.ne</td>\n",
       "    </tr>\n",
       "    <tr>\n",
       "      <th>SEN</th>\n",
       "      <td>SN</td>\n",
       "      <td>196190.0</td>\n",
       "      <td>Dakar</td>\n",
       "      <td>AF</td>\n",
       "      <td>XOF</td>\n",
       "      <td>Franc</td>\n",
       "      <td></td>\n",
       "      <td>SG</td>\n",
       "      <td>2245662</td>\n",
       "      <td>fr-SN,wo,fuc,mnk</td>\n",
       "      <td>Senegal</td>\n",
       "      <td>GN,MR,GW,GM,ML</td>\n",
       "      <td>686</td>\n",
       "      <td>221</td>\n",
       "      <td>12323252</td>\n",
       "      <td>#####</td>\n",
       "      <td>^(\\d{5})$</td>\n",
       "      <td>.sn</td>\n",
       "    </tr>\n",
       "    <tr>\n",
       "      <th>SYR</th>\n",
       "      <td>SY</td>\n",
       "      <td>185180.0</td>\n",
       "      <td>Damascus</td>\n",
       "      <td>AS</td>\n",
       "      <td>SYP</td>\n",
       "      <td>Pound</td>\n",
       "      <td></td>\n",
       "      <td>SY</td>\n",
       "      <td>163843</td>\n",
       "      <td>ar-SY,ku,hy,arc,fr,en</td>\n",
       "      <td>Syria</td>\n",
       "      <td>IQ,JO,IL,TR,LB</td>\n",
       "      <td>760</td>\n",
       "      <td>963</td>\n",
       "      <td>22198110</td>\n",
       "      <td></td>\n",
       "      <td></td>\n",
       "      <td>.sy</td>\n",
       "    </tr>\n",
       "    <tr>\n",
       "      <th>TCD</th>\n",
       "      <td>TD</td>\n",
       "      <td>1284000.0</td>\n",
       "      <td>N'Djamena</td>\n",
       "      <td>AF</td>\n",
       "      <td>XAF</td>\n",
       "      <td>Franc</td>\n",
       "      <td></td>\n",
       "      <td>CD</td>\n",
       "      <td>2434508</td>\n",
       "      <td>fr-TD,ar-TD,sre</td>\n",
       "      <td>Chad</td>\n",
       "      <td>NE,LY,CF,SD,CM,NG</td>\n",
       "      <td>148</td>\n",
       "      <td>235</td>\n",
       "      <td>10543464</td>\n",
       "      <td></td>\n",
       "      <td></td>\n",
       "      <td>.td</td>\n",
       "    </tr>\n",
       "    <tr>\n",
       "      <th>TUN</th>\n",
       "      <td>TN</td>\n",
       "      <td>163610.0</td>\n",
       "      <td>Tunis</td>\n",
       "      <td>AF</td>\n",
       "      <td>TND</td>\n",
       "      <td>Dinar</td>\n",
       "      <td></td>\n",
       "      <td>TS</td>\n",
       "      <td>2464461</td>\n",
       "      <td>ar-TN,fr</td>\n",
       "      <td>Tunisia</td>\n",
       "      <td>DZ,LY</td>\n",
       "      <td>788</td>\n",
       "      <td>216</td>\n",
       "      <td>10589025</td>\n",
       "      <td>####</td>\n",
       "      <td>^(\\d{4})$</td>\n",
       "      <td>.tn</td>\n",
       "    </tr>\n",
       "    <tr>\n",
       "      <th>VNM</th>\n",
       "      <td>VN</td>\n",
       "      <td>329560.0</td>\n",
       "      <td>Hanoi</td>\n",
       "      <td>AS</td>\n",
       "      <td>VND</td>\n",
       "      <td>Dong</td>\n",
       "      <td></td>\n",
       "      <td>VM</td>\n",
       "      <td>1562822</td>\n",
       "      <td>vi,en,fr,zh,km</td>\n",
       "      <td>Vietnam</td>\n",
       "      <td>CN,LA,KH</td>\n",
       "      <td>704</td>\n",
       "      <td>84</td>\n",
       "      <td>89571130</td>\n",
       "      <td>######</td>\n",
       "      <td>^(\\d{6})$</td>\n",
       "      <td>.vn</td>\n",
       "    </tr>\n",
       "  </tbody>\n",
       "</table>\n",
       "</div>"
      ],
      "text/plain": [
       "        alpha_2       area       capital continent currency_code  \\\n",
       "alpha_3                                                            \n",
       "ARG          AR  2766890.0  Buenos Aires        SA           ARS   \n",
       "BFA          BF   274200.0   Ouagadougou        AF           XOF   \n",
       "BEN          BJ   112620.0    Porto-Novo        AF           XOF   \n",
       "CAN          CA  9984670.0        Ottawa                     CAD   \n",
       "COD          CD  2345410.0      Kinshasa        AF           CDF   \n",
       "CAF          CF   622984.0        Bangui        AF           XAF   \n",
       "COG          CG   342000.0   Brazzaville        AF           XAF   \n",
       "CIV          CI   322460.0  Yamoussoukro        AF           XOF   \n",
       "CMR          CM   475440.0       Yaounde        AF           XAF   \n",
       "EGY          EG  1001450.0         Cairo        AF           EGP   \n",
       "FRA          FR   547030.0         Paris        EU           EUR   \n",
       "GAB          GA   267667.0    Libreville        AF           XAF   \n",
       "GIN          GN   245857.0       Conakry        AF           GNF   \n",
       "GRC          GR   131940.0        Athens        EU           EUR   \n",
       "IND          IN  3287590.0     New Delhi        AS           INR   \n",
       "ITA          IT   301230.0          Rome        EU           EUR   \n",
       "KHM          KH   181040.0    Phnom Penh        AS           KHR   \n",
       "LAO          LA   236800.0     Vientiane        AS           LAK   \n",
       "MAR          MA   446550.0         Rabat        AF           MAD   \n",
       "MDG          MG   587040.0  Antananarivo        AF           MGA   \n",
       "MLI          ML  1240000.0        Bamako        AF           XOF   \n",
       "MRT          MR  1030700.0    Nouakchott        AF           MRO   \n",
       "NER          NE  1267000.0        Niamey        AF           XOF   \n",
       "SEN          SN   196190.0         Dakar        AF           XOF   \n",
       "SYR          SY   185180.0      Damascus        AS           SYP   \n",
       "TCD          TD  1284000.0     N'Djamena        AF           XAF   \n",
       "TUN          TN   163610.0         Tunis        AF           TND   \n",
       "VNM          VN   329560.0         Hanoi        AS           VND   \n",
       "\n",
       "        currency_name eqivalent_fips_code fips  geoname_id  \\\n",
       "alpha_3                                                      \n",
       "ARG              Peso                       AR     3865483   \n",
       "BFA             Franc                       UV     2361809   \n",
       "BEN             Franc                       BN     2395170   \n",
       "CAN            Dollar                       CA     6251999   \n",
       "COD             Franc                       CG      203312   \n",
       "CAF             Franc                       CT      239880   \n",
       "COG             Franc                       CF     2260494   \n",
       "CIV             Franc                       IV     2287781   \n",
       "CMR             Franc                       CM     2233387   \n",
       "EGY             Pound                       EG      357994   \n",
       "FRA              Euro                       FR     3017382   \n",
       "GAB             Franc                       GB     2400553   \n",
       "GIN             Franc                       GV     2420477   \n",
       "GRC              Euro                       GR      390903   \n",
       "IND             Rupee                       IN     1269750   \n",
       "ITA              Euro                       IT     3175395   \n",
       "KHM             Riels                       CB     1831722   \n",
       "LAO               Kip                       LA     1655842   \n",
       "MAR            Dirham                       MO     2542007   \n",
       "MDG            Ariary                       MA     1062947   \n",
       "MLI             Franc                       ML     2453866   \n",
       "MRT           Ouguiya                       MR     2378080   \n",
       "NER             Franc                       NG     2440476   \n",
       "SEN             Franc                       SG     2245662   \n",
       "SYR             Pound                       SY      163843   \n",
       "TCD             Franc                       CD     2434508   \n",
       "TUN             Dinar                       TS     2464461   \n",
       "VNM              Dong                       VM     1562822   \n",
       "\n",
       "                                                 languages  \\\n",
       "alpha_3                                                      \n",
       "ARG                                   es-AR,en,it,de,fr,gn   \n",
       "BFA                                                  fr-BF   \n",
       "BEN                                                  fr-BJ   \n",
       "CAN                                         en-CA,fr-CA,iu   \n",
       "COD                                            fr-CD,ln,kg   \n",
       "CAF                                         fr-CF,sg,ln,kg   \n",
       "COG                                         fr-CG,kg,ln-CG   \n",
       "CIV                                                  fr-CI   \n",
       "CMR                                            en-CM,fr-CM   \n",
       "EGY                                            ar-EG,en,fr   \n",
       "FRA                               fr-FR,frp,br,co,ca,eu,oc   \n",
       "GAB                                                  fr-GA   \n",
       "GIN                                                  fr-GN   \n",
       "GRC                                            el-GR,en,fr   \n",
       "IND      en-IN,hi,bn,te,mr,ta,ur,gu,kn,ml,or,pa,as,bh,s...   \n",
       "ITA                          it-IT,de-IT,fr-IT,sc,ca,co,sl   \n",
       "KHM                                               km,fr,en   \n",
       "LAO                                               lo,fr,en   \n",
       "MAR                                               ar-MA,fr   \n",
       "MDG                                               fr-MG,mg   \n",
       "MLI                                               fr-ML,bm   \n",
       "MRT                                ar-MR,fuc,snk,fr,mey,wo   \n",
       "NER                                        fr-NE,ha,kr,dje   \n",
       "SEN                                       fr-SN,wo,fuc,mnk   \n",
       "SYR                                  ar-SY,ku,hy,arc,fr,en   \n",
       "TCD                                        fr-TD,ar-TD,sre   \n",
       "TUN                                               ar-TN,fr   \n",
       "VNM                                         vi,en,fr,zh,km   \n",
       "\n",
       "                                     name                  neighbours  \\\n",
       "alpha_3                                                                 \n",
       "ARG                             Argentina              CL,BO,UY,PY,BR   \n",
       "BFA                          Burkina Faso           NE,BJ,GH,CI,TG,ML   \n",
       "BEN                                 Benin                 NE,TG,BF,NG   \n",
       "CAN                                Canada                          US   \n",
       "COD      Democratic Republic of the Congo  TZ,CF,SS,RW,ZM,BI,UG,CG,AO   \n",
       "CAF              Central African Republic           TD,SD,CD,SS,CM,CG   \n",
       "COG                 Republic of the Congo              CF,GA,CD,CM,AO   \n",
       "CIV                           Ivory Coast              LR,GH,GN,BF,ML   \n",
       "CMR                              Cameroon           TD,CF,GA,GQ,CG,NG   \n",
       "EGY                                 Egypt                 LY,SD,IL,PS   \n",
       "FRA                                France     CH,DE,BE,LU,IT,AD,MC,ES   \n",
       "GAB                                 Gabon                    CM,GQ,CG   \n",
       "GIN                                Guinea           LR,SN,SL,CI,GW,ML   \n",
       "GRC                                Greece                 AL,MK,TR,BG   \n",
       "IND                                 India           CN,NP,MM,BT,PK,BD   \n",
       "ITA                                 Italy           CH,VA,SI,SM,FR,AT   \n",
       "KHM                              Cambodia                    LA,TH,VN   \n",
       "LAO                                  Laos              CN,MM,KH,TH,VN   \n",
       "MAR                               Morocco                    DZ,EH,ES   \n",
       "MDG                            Madagascar                               \n",
       "MLI                                  Mali        SN,NE,DZ,CI,GN,MR,BF   \n",
       "MRT                            Mauritania                 SN,DZ,EH,ML   \n",
       "NER                                 Niger        TD,BJ,DZ,LY,BF,NG,ML   \n",
       "SEN                               Senegal              GN,MR,GW,GM,ML   \n",
       "SYR                                 Syria              IQ,JO,IL,TR,LB   \n",
       "TCD                                  Chad           NE,LY,CF,SD,CM,NG   \n",
       "TUN                               Tunisia                       DZ,LY   \n",
       "VNM                               Vietnam                    CN,LA,KH   \n",
       "\n",
       "         numeric phone  population postal_code_format  \\\n",
       "alpha_3                                                 \n",
       "ARG           32    54    41343201           @####@@@   \n",
       "BFA          854   226    16241811                      \n",
       "BEN          204   229     9056010                      \n",
       "CAN          124     1    33679000            @#@ #@#   \n",
       "COD          180   243    70916439                      \n",
       "CAF          140   236     4844927                      \n",
       "COG          178   242     3039126                      \n",
       "CIV          384   225    21058798                      \n",
       "CMR          120   237    19294149                      \n",
       "EGY          818    20    80471869              #####   \n",
       "FRA          250    33    64768389              #####   \n",
       "GAB          266   241     1545255                      \n",
       "GIN          324   224    10324025                      \n",
       "GRC          300    30    11000000             ### ##   \n",
       "IND          356    91  1173108018             ######   \n",
       "ITA          380    39    60340328              #####   \n",
       "KHM          116   855    14453680              #####   \n",
       "LAO          418   856     6368162              #####   \n",
       "MAR          504   212    31627428              #####   \n",
       "MDG          450   261    21281844                ###   \n",
       "MLI          466   223    13796354                      \n",
       "MRT          478   222     3205060                      \n",
       "NER          562   227    15878271               ####   \n",
       "SEN          686   221    12323252              #####   \n",
       "SYR          760   963    22198110                      \n",
       "TCD          148   235    10543464                      \n",
       "TUN          788   216    10589025               ####   \n",
       "VNM          704    84    89571130             ######   \n",
       "\n",
       "                                         postal_code_regex  tld  \n",
       "alpha_3                                                          \n",
       "ARG                                ^[A-Z]?\\d{4}[A-Z]{0,3}$  .ar  \n",
       "BFA                                                         .bf  \n",
       "BEN                                                         .bj  \n",
       "CAN      ^([ABCEGHJKLMNPRSTVXY]\\d[ABCEGHJKLMNPRSTVWXYZ]...  .ca  \n",
       "COD                                                         .cd  \n",
       "CAF                                                         .cf  \n",
       "COG                                                         .cg  \n",
       "CIV                                                         .ci  \n",
       "CMR                                                         .cm  \n",
       "EGY                                              ^(\\d{5})$  .eg  \n",
       "FRA                                              ^(\\d{5})$  .fr  \n",
       "GAB                                                         .ga  \n",
       "GIN                                                         .gn  \n",
       "GRC                                              ^(\\d{5})$  .gr  \n",
       "IND                                              ^(\\d{6})$  .in  \n",
       "ITA                                              ^(\\d{5})$  .it  \n",
       "KHM                                              ^(\\d{5})$  .kh  \n",
       "LAO                                              ^(\\d{5})$  .la  \n",
       "MAR                                              ^(\\d{5})$  .ma  \n",
       "MDG                                              ^(\\d{3})$  .mg  \n",
       "MLI                                                         .ml  \n",
       "MRT                                                         .mr  \n",
       "NER                                              ^(\\d{4})$  .ne  \n",
       "SEN                                              ^(\\d{5})$  .sn  \n",
       "SYR                                                         .sy  \n",
       "TCD                                                         .td  \n",
       "TUN                                              ^(\\d{4})$  .tn  \n",
       "VNM                                              ^(\\d{6})$  .vn  "
      ]
     },
     "execution_count": 50,
     "metadata": {},
     "output_type": "execute_result"
    }
   ],
   "source": [
    "# En este caso, podriamos quitar por \"lo bajo\", area menor a 110.000 km2:\n",
    "df_2 = df_frances.set_index('alpha_3')\n",
    "df_2 = df_2[df_2['area'] > 110000]\n",
    "df_2"
   ]
  },
  {
   "cell_type": "code",
   "execution_count": 51,
   "metadata": {
    "ExecuteTime": {
     "end_time": "2019-12-08T22:36:55.622303Z",
     "start_time": "2019-12-08T22:36:55.227650Z"
    }
   },
   "outputs": [
    {
     "data": {
      "text/plain": [
       "<AxesSubplot:xlabel='alpha_3'>"
      ]
     },
     "execution_count": 51,
     "metadata": {},
     "output_type": "execute_result"
    },
    {
     "data": {
      "image/png": "[encoded data removed]",
      "text/plain": [
       "<Figure size 1440x720 with 1 Axes>"
      ]
     },
     "metadata": {
      "needs_background": "light"
     },
     "output_type": "display_data"
    }
   ],
   "source": [
    "df_2[['area']].sort_values([\"area\"]).plot(kind='bar',rot=65,figsize=(20,10))"
   ]
  },
  {
   "cell_type": "code",
   "execution_count": null,
   "metadata": {},
   "outputs": [],
   "source": []
  }
 ],
 "metadata": {
  "kernelspec": {
   "display_name": "Python 3",
   "language": "python",
   "name": "python3"
  },
  "language_info": {
   "codemirror_mode": {
    "name": "ipython",
    "version": 3
   },
   "file_extension": ".py",
   "mimetype": "text/x-python",
   "name": "python",
   "nbconvert_exporter": "python",
   "pygments_lexer": "ipython3",
   "version": "3.8.5"
  }
 },
 "nbformat": 4,
 "nbformat_minor": 2
}
