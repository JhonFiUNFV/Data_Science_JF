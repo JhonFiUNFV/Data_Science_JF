{
 "cells": [
  {
   "cell_type": "markdown",
   "metadata": {},
   "source": [
    "\n",
    "# Tratamiento de variables\n",
    "##  El tratamiento de las variables categóricas - Reg Lineal\n"
   ]
  },
  {
   "cell_type": "code",
   "execution_count": null,
   "metadata": {},
   "outputs": [],
   "source": [
    "import pandas as pd\n",
    "import numpy as np\n",
    "from sklearn.linear_model import LinearRegression"
   ]
  },
  {
   "cell_type": "code",
   "execution_count": null,
   "metadata": {},
   "outputs": [],
   "source": [
    "df = pd.read_csv(\"datasets/ecom-expense/Ecom Expense.csv\")"
   ]
  },
  {
   "cell_type": "code",
   "execution_count": null,
   "metadata": {},
   "outputs": [],
   "source": [
    "df.head()"
   ]
  },
  {
   "cell_type": "code",
   "execution_count": null,
   "metadata": {},
   "outputs": [],
   "source": [
    "dummy_gender = pd.get_dummies(df[\"Gender\"], prefix = \"Gender\")\n",
    "dummy_city_tier = pd.get_dummies(df[\"City Tier\"], prefix = \"City\")"
   ]
  },
  {
   "cell_type": "code",
   "execution_count": null,
   "metadata": {},
   "outputs": [],
   "source": [
    "dummy_gender.head()"
   ]
  },
  {
   "cell_type": "code",
   "execution_count": null,
   "metadata": {},
   "outputs": [],
   "source": [
    "dummy_city_tier.head()"
   ]
  },
  {
   "cell_type": "code",
   "execution_count": null,
   "metadata": {},
   "outputs": [],
   "source": [
    "column_names = df.columns.values.tolist()\n",
    "column_names"
   ]
  },
  {
   "cell_type": "code",
   "execution_count": null,
   "metadata": {},
   "outputs": [],
   "source": [
    "df_new = df[column_names].join(dummy_gender)\n",
    "column_names = df_new.columns.values.tolist()\n",
    "df_new.head()"
   ]
  },
  {
   "cell_type": "code",
   "execution_count": null,
   "metadata": {},
   "outputs": [],
   "source": [
    "df_new = df_new[column_names].join(dummy_city_tier)\n",
    "df_new.head()"
   ]
  },
  {
   "cell_type": "code",
   "execution_count": null,
   "metadata": {},
   "outputs": [],
   "source": [
    "feature_cols = [\"Monthly Income\", \"Transaction Time\", \n",
    "                \"Gender_Female\", \"Gender_Male\", \n",
    "                \"City_Tier 1\", \"City_Tier 2\", \"City_Tier 3\",\n",
    "                \"Record\"]"
   ]
  },
  {
   "cell_type": "code",
   "execution_count": null,
   "metadata": {},
   "outputs": [],
   "source": [
    "X = df_new[feature_cols]\n",
    "Y = df_new[\"Total Spend\"]"
   ]
  },
  {
   "cell_type": "code",
   "execution_count": null,
   "metadata": {},
   "outputs": [],
   "source": [
    "lm = LinearRegression()\n",
    "lm.fit(X,Y)"
   ]
  },
  {
   "cell_type": "code",
   "execution_count": null,
   "metadata": {},
   "outputs": [],
   "source": [
    "print(lm.intercept_)\n",
    "print(lm.coef_)"
   ]
  },
  {
   "cell_type": "code",
   "execution_count": null,
   "metadata": {},
   "outputs": [],
   "source": [
    "list(zip(feature_cols, lm.coef_))"
   ]
  },
  {
   "cell_type": "code",
   "execution_count": null,
   "metadata": {},
   "outputs": [],
   "source": [
    "lm.score(X,Y)"
   ]
  },
  {
   "cell_type": "markdown",
   "metadata": {},
   "source": [
    "El modelo puede ser escrito como:\n",
    "* Total_Spend = -79.41713030137362 + 'Monthly Income'* 0.14753898049205738 + 'Transaction Time'* 0.15494612549589545+'Gender_Female'* -131.02501325554567 + 'Gender_Male'* 131.0250132555456+'City_Tier 1'* 76.76432601049527 + 'City_Tier 2'* 55.138974309232474 + 'City_Tier 3'* -131.9033003197278+'Record'* 772.2334457445648\n",
    "    * Si es hombre y vive en CT1: Total_Spend = 128.37220896466724 + 'Monthly Income'* 0.14753898049205738 + 'Transaction Time'* 0.15494612549589545+'Record'* 772.2334457445648\n",
    "    * Si es hombre y vive en CT2: Total_Spend = 106.74685726340445 + 'Monthly Income'* 0.14753898049205738 + 'Transaction Time'* 0.15494612549589545 +'Record'* 772.2334457445648\n",
    "    * Si es hombre y vive en CT3: Total_Spend = -80.29541736555583 + 'Monthly Income'* 0.14753898049205738 + 'Transaction Time'* 0.15494612549589545+'Record'* 772.2334457445648\n",
    "    * Si es mujer y vive en CT1: Total_Spend = -79.41713030137362 + 'Monthly Income'* 0.14753898049205738 + 'Transaction Time'* 0.15494612549589545 - 131.0250132555456+ 76.76432601049527 +'Record'* 772.2334457445648\n",
    "    * Si es mujer y vive en CT2: Total_Spend = -79.41713030137362 + 'Monthly Income'* 0.14753898049205738 + 'Transaction Time'* 0.15494612549589545 - 131.0250132555456+ 55.138974309232474  +'Record'* 772.2334457445648\n",
    "    * Si es mujer y vive en CT3: Total_Spend = -79.41713030137362 + 'Monthly Income'* 0.14753898049205738 + 'Transaction Time'* 0.15494612549589545 - 131.0250132555456-131.9033003197278 +'Record'* 772.2334457445648"
   ]
  },
  {
   "cell_type": "code",
   "execution_count": null,
   "metadata": {},
   "outputs": [],
   "source": [
    " -79.41713030137362 + 131.0250132555456-131.9033003197278"
   ]
  },
  {
   "cell_type": "code",
   "execution_count": null,
   "metadata": {},
   "outputs": [],
   "source": [
    "df_new[\"prediction\"] = -79.41713030137362 + df_new['Monthly Income']*0.14753898049205738 + df_new['Transaction Time']* 0.15494612549589545+ df_new['Gender_Female'] * (-131.02501325554567) + df_new['Gender_Male'] * 131.0250132555456+ df_new['City_Tier 1']* 76.76432601049527 +  df_new['City_Tier 2']* 55.138974309232474 + df_new['City_Tier 3']* (-131.9033003197278)+ df_new['Record']* 772.2334457445648"
   ]
  },
  {
   "cell_type": "code",
   "execution_count": null,
   "metadata": {},
   "outputs": [],
   "source": [
    "df_new.head()"
   ]
  },
  {
   "cell_type": "code",
   "execution_count": null,
   "metadata": {},
   "outputs": [],
   "source": [
    "SSD = np.sum((df_new[\"prediction\"] - df_new[\"Total Spend\"])**2)"
   ]
  },
  {
   "cell_type": "code",
   "execution_count": null,
   "metadata": {},
   "outputs": [],
   "source": [
    "SSD"
   ]
  },
  {
   "cell_type": "code",
   "execution_count": null,
   "metadata": {},
   "outputs": [],
   "source": [
    "SSD/(len(df_new)-len(feature_cols)-1)"
   ]
  },
  {
   "cell_type": "code",
   "execution_count": null,
   "metadata": {},
   "outputs": [],
   "source": [
    "RSE = np.sqrt(SSD/(len(df_new)-len(feature_cols)-1))"
   ]
  },
  {
   "cell_type": "code",
   "execution_count": null,
   "metadata": {},
   "outputs": [],
   "source": [
    "RSE"
   ]
  },
  {
   "cell_type": "code",
   "execution_count": null,
   "metadata": {},
   "outputs": [],
   "source": [
    "sales_mean=np.mean(df_new[\"Total Spend\"])"
   ]
  },
  {
   "cell_type": "code",
   "execution_count": null,
   "metadata": {},
   "outputs": [],
   "source": [
    "sales_mean"
   ]
  },
  {
   "cell_type": "code",
   "execution_count": null,
   "metadata": {},
   "outputs": [],
   "source": [
    "error = RSE/sales_mean"
   ]
  },
  {
   "cell_type": "code",
   "execution_count": null,
   "metadata": {},
   "outputs": [],
   "source": [
    "error*100"
   ]
  },
  {
   "cell_type": "markdown",
   "metadata": {},
   "source": [
    "## Eliminar variables dummy redundantes"
   ]
  },
  {
   "cell_type": "code",
   "execution_count": null,
   "metadata": {},
   "outputs": [],
   "source": [
    "dummy_gender = pd.get_dummies(df[\"Gender\"], prefix=\"Gender\").iloc[:,1:]\n",
    "dummy_gender.head()"
   ]
  },
  {
   "cell_type": "code",
   "execution_count": null,
   "metadata": {},
   "outputs": [],
   "source": [
    "dummy_city_tier = pd.get_dummies(df[\"City Tier\"], prefix=\"City\").iloc[:,1:]\n",
    "dummy_city_tier.head()"
   ]
  },
  {
   "cell_type": "code",
   "execution_count": null,
   "metadata": {},
   "outputs": [],
   "source": [
    "column_names = df.columns.values.tolist()\n",
    "df_new = df[column_names].join(dummy_gender)\n",
    "column_names = df_new.columns.values.tolist()\n",
    "df_new = df_new[column_names].join(dummy_city_tier)\n",
    "df_new.head()"
   ]
  },
  {
   "cell_type": "code",
   "execution_count": null,
   "metadata": {},
   "outputs": [],
   "source": [
    "feature_cols = [\"Monthly Income\", \"Transaction Time\", \"Gender_Male\", \"City_Tier 2\", \"City_Tier 3\", \"Record\"]\n",
    "X = df_new[feature_cols]\n",
    "Y = df_new[\"Total Spend\"]\n",
    "lm = LinearRegression()\n",
    "lm.fit(X,Y)"
   ]
  },
  {
   "cell_type": "code",
   "execution_count": null,
   "metadata": {},
   "outputs": [],
   "source": [
    "print(lm.intercept_)"
   ]
  },
  {
   "cell_type": "code",
   "execution_count": null,
   "metadata": {},
   "outputs": [],
   "source": [
    "list(zip(feature_cols, lm.coef_))"
   ]
  },
  {
   "cell_type": "code",
   "execution_count": null,
   "metadata": {},
   "outputs": [],
   "source": [
    "lm.score(X,Y)"
   ]
  },
  {
   "cell_type": "markdown",
   "metadata": {},
   "source": [
    "Coeficientes con todas las variables en el modelo\n",
    "* ('Monthly Income', 0.14753898049205738),\n",
    "* ('Transaction Time', 0.15494612549589545),\n",
    "* ('Gender_Female', -131.02501325554567),\n",
    "* ('Gender_Male', 131.0250132555456),\n",
    "* ('City_Tier 1', 76.76432601049527),\n",
    "* ('City_Tier 2', 55.138974309232474),\n",
    "* ('City_Tier 3', -131.9033003197278),\n",
    "* ('Record', 772.2334457445648)\n",
    " \n",
    " Coeficientes tras enmascarar las variables dummy pertinentes\n",
    "* 'Monthly Income', 0.14753898049205744),\n",
    "* ('Transaction Time', 0.15494612549589631),\n",
    "* ('Gender_Male', 262.05002651109595),\n",
    "* ('City_Tier 2', -21.62535170126296),\n",
    "* ('City_Tier 3', -208.66762633022324),\n",
    "* ('Record', 772.2334457445635)]\n",
    "\n",
    "Los cambios se reflejan en\n",
    "* Gender_Male: \n",
    "    * antes -> 131.02, \n",
    "    * después -> 262.05 = ( 131.02 - (-131.02))\n",
    "* Gender_Female: \n",
    "    * antes -> -131.02,\n",
    "    * después -> 0\n",
    "* CT1: \n",
    "    * antes -> 76.76,\n",
    "    * después -> 0\n",
    "* CT2: \n",
    "    * antes -> 55.13, \n",
    "    * después -> -21.62 = (55.13 - 76.76)\n",
    "* CT3: \n",
    "    * antes -> -131.90, \n",
    "    * después -> -208.66 = (-131.90 - 76.76)"
   ]
  },
  {
   "cell_type": "markdown",
   "metadata": {},
   "source": [
    "# Transformación de variables para conseguir una relación no lineal"
   ]
  },
  {
   "cell_type": "code",
   "execution_count": null,
   "metadata": {},
   "outputs": [],
   "source": [
    "import pandas as pd"
   ]
  },
  {
   "cell_type": "code",
   "execution_count": null,
   "metadata": {},
   "outputs": [],
   "source": [
    "data_auto = pd.read_csv(\"datasets/auto/auto-mpg.csv\")\n",
    "data_auto.head()"
   ]
  },
  {
   "cell_type": "code",
   "execution_count": null,
   "metadata": {},
   "outputs": [],
   "source": [
    "data_auto.shape"
   ]
  },
  {
   "cell_type": "code",
   "execution_count": null,
   "metadata": {},
   "outputs": [],
   "source": [
    "import matplotlib.pyplot as plt"
   ]
  },
  {
   "cell_type": "code",
   "execution_count": null,
   "metadata": {},
   "outputs": [],
   "source": [
    "%matplotlib inline\n",
    "data_auto[\"mpg\"] = data_auto[\"mpg\"].dropna()\n",
    "data_auto[\"horsepower\"] = data_auto[\"horsepower\"].dropna()\n",
    "plt.plot(data_auto[\"horsepower\"], data_auto[\"mpg\"], \"ro\")\n",
    "plt.xlabel(\"Caballos de Potencia\")\n",
    "plt.ylabel(\"Consumo (millas por galeón)\")\n",
    "plt.title(\"CV vs MPG\")"
   ]
  },
  {
   "cell_type": "markdown",
   "metadata": {},
   "source": [
    "### Modelo de regresión lineal\n",
    "* mpg = a + b * horsepower"
   ]
  },
  {
   "cell_type": "code",
   "execution_count": null,
   "metadata": {},
   "outputs": [],
   "source": [
    "X = data_auto[\"horsepower\"].fillna(data_auto[\"horsepower\"].mean())\n",
    "Y = data_auto[\"mpg\"].fillna(data_auto[\"mpg\"].mean())\n",
    "X_data = X[:,np.newaxis]"
   ]
  },
  {
   "cell_type": "code",
   "execution_count": null,
   "metadata": {},
   "outputs": [],
   "source": [
    "lm = LinearRegression()\n",
    "lm.fit(X_data,Y)"
   ]
  },
  {
   "cell_type": "code",
   "execution_count": null,
   "metadata": {},
   "outputs": [],
   "source": [
    "type(X)"
   ]
  },
  {
   "cell_type": "code",
   "execution_count": null,
   "metadata": {},
   "outputs": [],
   "source": [
    "type(X_data)"
   ]
  },
  {
   "cell_type": "code",
   "execution_count": null,
   "metadata": {},
   "outputs": [],
   "source": [
    "%matplotlib inline\n",
    "plt.plot(X,Y, \"ro\")\n",
    "plt.plot(X, lm.predict(X_data), color=\"blue\")"
   ]
  },
  {
   "cell_type": "code",
   "execution_count": null,
   "metadata": {},
   "outputs": [],
   "source": [
    "lm.score(X_data, Y)"
   ]
  },
  {
   "cell_type": "code",
   "execution_count": null,
   "metadata": {},
   "outputs": [],
   "source": [
    "SSD = np.sum((Y - lm.predict(X_data))**2)\n",
    "RSE = np.sqrt(SSD/(len(X_data)-1))\n",
    "y_mean = np.mean(Y)\n",
    "error = RSE/y_mean\n",
    "SSD, RSE, y_mean, error*100"
   ]
  },
  {
   "cell_type": "markdown",
   "metadata": {},
   "source": [
    "### Modelo de regresión cuadrático\n",
    "* mpg = a + b * horsepower^2 "
   ]
  },
  {
   "cell_type": "code",
   "execution_count": null,
   "metadata": {},
   "outputs": [],
   "source": [
    "X_data = X**2\n",
    "X_data = X_data[:,np.newaxis]"
   ]
  },
  {
   "cell_type": "code",
   "execution_count": null,
   "metadata": {},
   "outputs": [],
   "source": [
    "lm = LinearRegression()\n",
    "lm.fit(X_data, Y)"
   ]
  },
  {
   "cell_type": "code",
   "execution_count": null,
   "metadata": {},
   "outputs": [],
   "source": [
    "lm.score(X_data, Y)"
   ]
  },
  {
   "cell_type": "code",
   "execution_count": null,
   "metadata": {},
   "outputs": [],
   "source": [
    "SSD = np.sum((Y - lm.predict(X_data))**2)\n",
    "RSE = np.sqrt(SSD/(len(X_data)-1))\n",
    "y_mean = np.mean(Y)\n",
    "error = RSE/y_mean\n",
    "SSD, RSE, y_mean, error*100"
   ]
  },
  {
   "cell_type": "markdown",
   "metadata": {},
   "source": [
    "### Modelo de regresión  lineal y cuadrático\n",
    "* mpg = a + b * horsepower + c * horsepower^2"
   ]
  },
  {
   "cell_type": "code",
   "execution_count": null,
   "metadata": {},
   "outputs": [],
   "source": [
    "from sklearn.preprocessing import PolynomialFeatures\n",
    "from sklearn import linear_model"
   ]
  },
  {
   "cell_type": "code",
   "execution_count": null,
   "metadata": {},
   "outputs": [],
   "source": [
    "poly = PolynomialFeatures(degree=2)"
   ]
  },
  {
   "cell_type": "code",
   "execution_count": null,
   "metadata": {},
   "outputs": [],
   "source": [
    "X_data = poly.fit_transform(X[:,np.newaxis])"
   ]
  },
  {
   "cell_type": "code",
   "execution_count": null,
   "metadata": {},
   "outputs": [],
   "source": [
    "lm = linear_model.LinearRegression()\n",
    "lm.fit(X_data, Y)"
   ]
  },
  {
   "cell_type": "code",
   "execution_count": null,
   "metadata": {},
   "outputs": [],
   "source": [
    "lm.score(X_data, Y)"
   ]
  },
  {
   "cell_type": "code",
   "execution_count": null,
   "metadata": {},
   "outputs": [],
   "source": [
    "lm.intercept_"
   ]
  },
  {
   "cell_type": "code",
   "execution_count": null,
   "metadata": {},
   "outputs": [],
   "source": [
    "lm.coef_"
   ]
  },
  {
   "cell_type": "markdown",
   "metadata": {},
   "source": [
    "mpg = 55.026 -0.434 * hp + 0.00112615 * hp^2"
   ]
  },
  {
   "cell_type": "code",
   "execution_count": null,
   "metadata": {},
   "outputs": [],
   "source": [
    "for d in range(2,12):\n",
    "    poly = PolynomialFeatures(degree=d)\n",
    "    X_data = poly.fit_transform(X[:,np.newaxis])\n",
    "    lm = linear_model.LinearRegression()\n",
    "    lm.fit(X_data, Y)\n",
    "    print(\"Regresión de grado \"+str(d))\n",
    "    print(\"R2:\" +str(lm.score(X_data, Y)))\n",
    "    print(lm.intercept_)\n",
    "    print(lm.coef_)\n",
    "    regresion_validation(X_data, Y, lm.predict(X_data))"
   ]
  },
  {
   "cell_type": "code",
   "execution_count": null,
   "metadata": {},
   "outputs": [],
   "source": [
    "def regresion_validation(X_data, Y, Y_pred):\n",
    "    SSD = np.sum((Y - Y_pred)**2)\n",
    "    RSE = np.sqrt(SSD/(len(X_data)-1))\n",
    "    y_mean = np.mean(Y)\n",
    "    error = RSE/y_mean\n",
    "    print(\"SSD: \"+str(SSD)+\", RSE: \" +str(RSE) + \", Y_mean: \" +str(y_mean) +\", error: \" + str(error*100)+ \"%\")"
   ]
  },
  {
   "cell_type": "code",
   "execution_count": null,
   "metadata": {},
   "outputs": [],
   "source": [
    "print(regresion_validation(X_data, Y, lm.predict(X_data)))"
   ]
  },
  {
   "cell_type": "markdown",
   "metadata": {},
   "source": [
    "# El problema de los outliers"
   ]
  },
  {
   "cell_type": "code",
   "execution_count": null,
   "metadata": {},
   "outputs": [],
   "source": [
    "plt.plot(data_auto[\"displacement\"], data_auto[\"mpg\"], \"ro\")"
   ]
  },
  {
   "cell_type": "code",
   "execution_count": null,
   "metadata": {},
   "outputs": [],
   "source": [
    "X = data_auto[\"displacement\"].fillna(data_auto[\"displacement\"].mean())\n",
    "X = X[:,np.newaxis]\n",
    "Y = data_auto[\"mpg\"].fillna(data_auto[\"mpg\"].mean())\n",
    "\n",
    "lm = LinearRegression()\n",
    "lm.fit(X, Y)"
   ]
  },
  {
   "cell_type": "code",
   "execution_count": null,
   "metadata": {},
   "outputs": [],
   "source": [
    "lm.score(X,Y)"
   ]
  },
  {
   "cell_type": "code",
   "execution_count": null,
   "metadata": {},
   "outputs": [],
   "source": [
    "%matplotlib inline\n",
    "plt.plot(X,Y, \"ro\")\n",
    "plt.plot(X, lm.predict(X), color=\"blue\")"
   ]
  },
  {
   "cell_type": "code",
   "execution_count": null,
   "metadata": {},
   "outputs": [],
   "source": [
    "data_auto[(data_auto[\"displacement\"]>250)&(data_auto[\"mpg\"]>35)]"
   ]
  },
  {
   "cell_type": "code",
   "execution_count": null,
   "metadata": {},
   "outputs": [],
   "source": [
    "data_auto[(data_auto[\"displacement\"]>300)&(data_auto[\"mpg\"]>20)]"
   ]
  },
  {
   "cell_type": "code",
   "execution_count": null,
   "metadata": {},
   "outputs": [],
   "source": [
    "data_auto_clean = data_auto.drop([395, 258, 305, 372])"
   ]
  },
  {
   "cell_type": "code",
   "execution_count": null,
   "metadata": {},
   "outputs": [],
   "source": [
    "X = data_auto_clean[\"displacement\"].fillna(data_auto_clean[\"displacement\"].mean())\n",
    "X = X[:,np.newaxis]\n",
    "Y = data_auto_clean[\"mpg\"].fillna(data_auto_clean[\"mpg\"].mean())\n",
    "\n",
    "lm = LinearRegression()\n",
    "lm.fit(X, Y)"
   ]
  },
  {
   "cell_type": "code",
   "execution_count": null,
   "metadata": {},
   "outputs": [],
   "source": [
    "lm.score(X,Y)"
   ]
  },
  {
   "cell_type": "code",
   "execution_count": null,
   "metadata": {},
   "outputs": [],
   "source": [
    "%matplotlib inline\n",
    "plt.plot(X,Y, \"ro\")\n",
    "plt.plot(X, lm.predict(X), color=\"blue\")"
   ]
  },
  {
   "cell_type": "code",
   "execution_count": null,
   "metadata": {},
   "outputs": [],
   "source": []
  }
 ],
 "metadata": {
  "kernelspec": {
   "display_name": "Python 3",
   "language": "python",
   "name": "python3"
  },
  "language_info": {
   "codemirror_mode": {
    "name": "ipython",
    "version": 3
   },
   "file_extension": ".py",
   "mimetype": "text/x-python",
   "name": "python",
   "nbconvert_exporter": "python",
   "pygments_lexer": "ipython3",
   "version": "3.8.5"
  }
 },
 "nbformat": 4,
 "nbformat_minor": 2
}
