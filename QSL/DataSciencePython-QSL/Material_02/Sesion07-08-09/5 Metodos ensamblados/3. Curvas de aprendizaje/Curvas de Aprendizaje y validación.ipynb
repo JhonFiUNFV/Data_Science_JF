{
 "cells": [
  {
   "cell_type": "markdown",
   "metadata": {},
   "source": [
    "***\n",
    "____\n",
    "![revit](https://i.ibb.co/bQ3dB8C/curso-revit.png)\n",
    "\n",
    "***\n",
    "***\n",
    "\n",
    "\n",
    "# Clase 07"
   ]
  },
  {
   "cell_type": "markdown",
   "metadata": {},
   "source": [
    "## Curvas de aprendizaje y validación\n",
    "\n",
    "En esta sección vamos a ver 2 métodos gráficos muy útiles a la hora de validar modelos, los llamados **Curvas de Aprendizaje (learning curves)** y ** Curvas de Validación (validation curves)**"
   ]
  },
  {
   "cell_type": "code",
   "execution_count": 2,
   "metadata": {},
   "outputs": [],
   "source": [
    "import pandas as pd\n",
    "import numpy as np\n",
    "import matplotlib\n",
    "import matplotlib.pyplot as plt\n",
    "%matplotlib inline\n",
    "matplotlib.rcParams[\"figure.figsize\"] = [8, 8]"
   ]
  },
  {
   "cell_type": "markdown",
   "metadata": {},
   "source": [
    "#### Importamos datos\n",
    "\n",
    "Para esta lección, vamos a usar el dataset **[Wine Quality Dataset](https://archive.ics.uci.edu/ml/datasets/Wine+Quality)**, que contiene información sobre mas de 4000 vinos Portugueses (de la variedad *Vinho Verde*), y siendo la variable objetivo la puntuación del vino (asignada por expertos). Vamos a usar una versión modificada (uniendo vinos tintos y blancos en un solo dataset"
   ]
  },
  {
   "cell_type": "code",
   "execution_count": 3,
   "metadata": {},
   "outputs": [],
   "source": [
    "vino = pd.read_csv(\"data/vino.csv\")"
   ]
  },
  {
   "cell_type": "code",
   "execution_count": 4,
   "metadata": {},
   "outputs": [
    {
     "data": {
      "text/plain": [
       "(6497, 14)"
      ]
     },
     "execution_count": 4,
     "metadata": {},
     "output_type": "execute_result"
    }
   ],
   "source": [
    "vino.shape"
   ]
  },
  {
   "cell_type": "code",
   "execution_count": 4,
   "metadata": {},
   "outputs": [
    {
     "data": {
      "text/html": [
       "<div>\n",
       "<style>\n",
       "    .dataframe thead tr:only-child th {\n",
       "        text-align: right;\n",
       "    }\n",
       "\n",
       "    .dataframe thead th {\n",
       "        text-align: left;\n",
       "    }\n",
       "\n",
       "    .dataframe tbody tr th {\n",
       "        vertical-align: top;\n",
       "    }\n",
       "</style>\n",
       "<table border=\"1\" class=\"dataframe\">\n",
       "  <thead>\n",
       "    <tr style=\"text-align: right;\">\n",
       "      <th></th>\n",
       "      <th>pct_alcohol</th>\n",
       "      <th>cloruros</th>\n",
       "      <th>acido_citrico</th>\n",
       "      <th>densidad</th>\n",
       "      <th>acidez_fija</th>\n",
       "      <th>dioxido_azufre_libre</th>\n",
       "      <th>PH</th>\n",
       "      <th>puntuacion</th>\n",
       "      <th>azucar_residual</th>\n",
       "      <th>sulfitos</th>\n",
       "      <th>dioxido_azufre_total</th>\n",
       "      <th>vino_blanco</th>\n",
       "      <th>vino_tinto</th>\n",
       "      <th>acidez_volatil</th>\n",
       "    </tr>\n",
       "  </thead>\n",
       "  <tbody>\n",
       "    <tr>\n",
       "      <th>0</th>\n",
       "      <td>9.4</td>\n",
       "      <td>0.076</td>\n",
       "      <td>0.00</td>\n",
       "      <td>0.9978</td>\n",
       "      <td>7.4</td>\n",
       "      <td>11.0</td>\n",
       "      <td>3.51</td>\n",
       "      <td>5</td>\n",
       "      <td>1.9</td>\n",
       "      <td>0.56</td>\n",
       "      <td>34.0</td>\n",
       "      <td>0</td>\n",
       "      <td>1</td>\n",
       "      <td>0.70</td>\n",
       "    </tr>\n",
       "    <tr>\n",
       "      <th>1</th>\n",
       "      <td>9.8</td>\n",
       "      <td>0.098</td>\n",
       "      <td>0.00</td>\n",
       "      <td>0.9968</td>\n",
       "      <td>7.8</td>\n",
       "      <td>25.0</td>\n",
       "      <td>3.20</td>\n",
       "      <td>5</td>\n",
       "      <td>2.6</td>\n",
       "      <td>0.68</td>\n",
       "      <td>67.0</td>\n",
       "      <td>0</td>\n",
       "      <td>1</td>\n",
       "      <td>0.88</td>\n",
       "    </tr>\n",
       "    <tr>\n",
       "      <th>2</th>\n",
       "      <td>9.8</td>\n",
       "      <td>0.092</td>\n",
       "      <td>0.04</td>\n",
       "      <td>0.9970</td>\n",
       "      <td>7.8</td>\n",
       "      <td>15.0</td>\n",
       "      <td>3.26</td>\n",
       "      <td>5</td>\n",
       "      <td>2.3</td>\n",
       "      <td>0.65</td>\n",
       "      <td>54.0</td>\n",
       "      <td>0</td>\n",
       "      <td>1</td>\n",
       "      <td>0.76</td>\n",
       "    </tr>\n",
       "    <tr>\n",
       "      <th>3</th>\n",
       "      <td>9.8</td>\n",
       "      <td>0.075</td>\n",
       "      <td>0.56</td>\n",
       "      <td>0.9980</td>\n",
       "      <td>11.2</td>\n",
       "      <td>17.0</td>\n",
       "      <td>3.16</td>\n",
       "      <td>6</td>\n",
       "      <td>1.9</td>\n",
       "      <td>0.58</td>\n",
       "      <td>60.0</td>\n",
       "      <td>0</td>\n",
       "      <td>1</td>\n",
       "      <td>0.28</td>\n",
       "    </tr>\n",
       "    <tr>\n",
       "      <th>4</th>\n",
       "      <td>9.4</td>\n",
       "      <td>0.076</td>\n",
       "      <td>0.00</td>\n",
       "      <td>0.9978</td>\n",
       "      <td>7.4</td>\n",
       "      <td>11.0</td>\n",
       "      <td>3.51</td>\n",
       "      <td>5</td>\n",
       "      <td>1.9</td>\n",
       "      <td>0.56</td>\n",
       "      <td>34.0</td>\n",
       "      <td>0</td>\n",
       "      <td>1</td>\n",
       "      <td>0.70</td>\n",
       "    </tr>\n",
       "  </tbody>\n",
       "</table>\n",
       "</div>"
      ],
      "text/plain": [
       "   pct_alcohol  cloruros  acido_citrico  densidad  acidez_fija  \\\n",
       "0          9.4     0.076           0.00    0.9978          7.4   \n",
       "1          9.8     0.098           0.00    0.9968          7.8   \n",
       "2          9.8     0.092           0.04    0.9970          7.8   \n",
       "3          9.8     0.075           0.56    0.9980         11.2   \n",
       "4          9.4     0.076           0.00    0.9978          7.4   \n",
       "\n",
       "   dioxido_azufre_libre    PH  puntuacion  azucar_residual  sulfitos  \\\n",
       "0                  11.0  3.51           5              1.9      0.56   \n",
       "1                  25.0  3.20           5              2.6      0.68   \n",
       "2                  15.0  3.26           5              2.3      0.65   \n",
       "3                  17.0  3.16           6              1.9      0.58   \n",
       "4                  11.0  3.51           5              1.9      0.56   \n",
       "\n",
       "   dioxido_azufre_total  vino_blanco  vino_tinto  acidez_volatil  \n",
       "0                  34.0            0           1            0.70  \n",
       "1                  67.0            0           1            0.88  \n",
       "2                  54.0            0           1            0.76  \n",
       "3                  60.0            0           1            0.28  \n",
       "4                  34.0            0           1            0.70  "
      ]
     },
     "execution_count": 4,
     "metadata": {},
     "output_type": "execute_result"
    }
   ],
   "source": [
    "vino.head()"
   ]
  },
  {
   "cell_type": "code",
   "execution_count": 5,
   "metadata": {},
   "outputs": [],
   "source": [
    "variables_indep = [\"acidez_fija\", \"acidez_volatil\", \"acido_citrico\", \"azucar_residual\",\n",
    "                   \"cloruros\", \"dioxido_azufre_libre\", \"dioxido_azufre_total\", \"densidad\",\n",
    "                   \"PH\", \"sulfitos\", \"pct_alcohol\", \"vino_blanco\", \"vino_tinto\"]\n",
    "variable_dep = \"puntuacion\"\n",
    "\n",
    "vino_X = vino[variables_indep]\n",
    "vino_y = vino[variable_dep]"
   ]
  },
  {
   "cell_type": "markdown",
   "metadata": {},
   "source": [
    "### Curvas de aprendizaje (Learning Curves)"
   ]
  },
  {
   "cell_type": "markdown",
   "metadata": {},
   "source": [
    "las Curvas de Aprendizaje muestran el score (puntuación) del estimador tanto al estimar en los datos de entrenamiento como en validación cruzada, y muestran las variaciones de dichas puntuaciones al incrementar el tamaño de los datos de entrenamiento.  Ésto ayuda a ver si nuestro modelo se podría beneficiar de la obtención de más datos de entrenamiento (por que todavia tiene capacidad de \"aprender\" más) o si por el contrario, la complejidad del modelo no permite aprender más sin importar cuantos datos adicionales usemos para entrenar."
   ]
  },
  {
   "cell_type": "markdown",
   "metadata": {},
   "source": [
    "Por ejemplo, vamos a ver las curvas de aprendizaje para dos estimadores, Random Forest (bosques aleatorios) y AdaBoost."
   ]
  },
  {
   "cell_type": "code",
   "execution_count": 6,
   "metadata": {},
   "outputs": [],
   "source": [
    "from sklearn.model_selection import learning_curve\n",
    "\n",
    "from sklearn.ensemble import RandomForestRegressor, AdaBoostRegressor"
   ]
  },
  {
   "cell_type": "code",
   "execution_count": 7,
   "metadata": {},
   "outputs": [],
   "source": [
    "estimador_rf = RandomForestRegressor()\n",
    "estimador_ab = AdaBoostRegressor()"
   ]
  },
  {
   "cell_type": "code",
   "execution_count": 8,
   "metadata": {},
   "outputs": [],
   "source": [
    "learning_curve??"
   ]
  },
  {
   "cell_type": "markdown",
   "metadata": {},
   "source": [
    "La función `learning_curve` tiene un parámetro `train_size` que indica en que puntos queremos partir el dataset de entrenamiento para evaluar el estimador, Soporta ó enteros, que representarian tamaños concretos, (por ejemplo, calcular puntos de la curva para 100, 1000 y 10000 muestras), o decimales, que representarian porcentajes del tamaño total del dataset (por ejemplo, calcular puntuación del modelo para el 10% , el 50% y el 100% del dataset)."
   ]
  },
  {
   "cell_type": "markdown",
   "metadata": {},
   "source": [
    "En concreto nosotros calcularemos 10 puntos distribuidos de forma uniforme sobre el total de dataset."
   ]
  },
  {
   "cell_type": "code",
   "execution_count": 9,
   "metadata": {},
   "outputs": [
    {
     "data": {
      "text/plain": [
       "array([0.01, 0.12, 0.23, 0.34, 0.45, 0.56, 0.67, 0.78, 0.89, 1.  ])"
      ]
     },
     "execution_count": 9,
     "metadata": {},
     "output_type": "execute_result"
    }
   ],
   "source": [
    "np.linspace(0.01,1., 10)"
   ]
  },
  {
   "cell_type": "markdown",
   "metadata": {},
   "source": [
    "En cuanto a la función de pérdidas, dado que es un problema de regresión pódemos usar el Error Cuadrático Medio (MSE). En scikit-learn el MSE se puede usar en todos aquellos casos donde se puede usar el parámetro `scoring`, y se llama `neg_mean_squared_error`. Se proporciona por defecto con un signo negativo."
   ]
  },
  {
   "cell_type": "code",
   "execution_count": 10,
   "metadata": {},
   "outputs": [],
   "source": [
    "train_sizes, train_scores, test_scores = learning_curve(\n",
    "        estimador_ab, vino_X, vino_y, cv=5, n_jobs=-1, scoring=\"neg_mean_squared_error\",\n",
    "        train_sizes=np.linspace(0.01,1., 10))"
   ]
  },
  {
   "cell_type": "markdown",
   "metadata": {},
   "source": [
    "La funcion `learning_curve` devuelve 3 arrays, uno con los distintos tamaños del dataset que se han evaluado, otro con el score de entrenamiento y otro con el score de los datos de validacion cruzada (hemos usado 5 validaciones al especificar `cv=5`, por lo tanto para cada valor de train_sizes obtendremos 10 puntuaciones de test y de train."
   ]
  },
  {
   "cell_type": "code",
   "execution_count": 11,
   "metadata": {},
   "outputs": [
    {
     "data": {
      "text/plain": [
       "array([  51,  623, 1195, 1766, 2338, 2910, 3481, 4053, 4625, 5197])"
      ]
     },
     "execution_count": 11,
     "metadata": {},
     "output_type": "execute_result"
    }
   ],
   "source": [
    "train_sizes"
   ]
  },
  {
   "cell_type": "code",
   "execution_count": 12,
   "metadata": {},
   "outputs": [
    {
     "data": {
      "text/plain": [
       "array([[-0.00396631, -0.04743412, -0.02239967, -0.02957151, -0.04025599],\n",
       "       [-0.36585532, -0.32060644, -0.32803337, -0.31732866, -0.32386992],\n",
       "       [-0.47821435, -0.3313534 , -0.33537826, -0.34302169, -0.33426748],\n",
       "       [-0.54638324, -0.4422353 , -0.36981943, -0.36444756, -0.35423732],\n",
       "       [-0.54614012, -0.47650559, -0.42919025, -0.4210892 , -0.41897162],\n",
       "       [-0.53937813, -0.48296406, -0.47467111, -0.48658419, -0.49471984],\n",
       "       [-0.53810584, -0.51665919, -0.49434083, -0.50160549, -0.49780508],\n",
       "       [-0.54445149, -0.51013374, -0.50728917, -0.52114622, -0.50806188],\n",
       "       [-0.53142573, -0.51114975, -0.50132873, -0.51519935, -0.51256835],\n",
       "       [-0.5236636 , -0.49486983, -0.50259611, -0.49330569, -0.51352944]])"
      ]
     },
     "execution_count": 12,
     "metadata": {},
     "output_type": "execute_result"
    }
   ],
   "source": [
    "train_scores"
   ]
  },
  {
   "cell_type": "code",
   "execution_count": 13,
   "metadata": {},
   "outputs": [
    {
     "data": {
      "text/plain": [
       "(10, 5)"
      ]
     },
     "execution_count": 13,
     "metadata": {},
     "output_type": "execute_result"
    }
   ],
   "source": [
    "train_scores.shape"
   ]
  },
  {
   "cell_type": "code",
   "execution_count": 14,
   "metadata": {},
   "outputs": [
    {
     "data": {
      "text/plain": [
       "(10, 5)"
      ]
     },
     "execution_count": 14,
     "metadata": {},
     "output_type": "execute_result"
    }
   ],
   "source": [
    "test_scores.shape"
   ]
  },
  {
   "cell_type": "code",
   "execution_count": 15,
   "metadata": {},
   "outputs": [
    {
     "data": {
      "text/plain": [
       "array([  51,  623, 1195, 1766, 2338, 2910, 3481, 4053, 4625, 5197])"
      ]
     },
     "execution_count": 15,
     "metadata": {},
     "output_type": "execute_result"
    }
   ],
   "source": [
    "train_sizes"
   ]
  },
  {
   "cell_type": "code",
   "execution_count": 16,
   "metadata": {},
   "outputs": [
    {
     "data": {
      "text/plain": [
       "(6497, 13)"
      ]
     },
     "execution_count": 16,
     "metadata": {},
     "output_type": "execute_result"
    }
   ],
   "source": [
    "vino_X.shape"
   ]
  },
  {
   "cell_type": "code",
   "execution_count": 17,
   "metadata": {},
   "outputs": [
    {
     "data": {
      "text/plain": [
       "array([  51,  623, 1195, 1766, 2338, 2910, 3481, 4053, 4625, 5197])"
      ]
     },
     "execution_count": 17,
     "metadata": {},
     "output_type": "execute_result"
    }
   ],
   "source": [
    "train_sizes"
   ]
  },
  {
   "cell_type": "code",
   "execution_count": 18,
   "metadata": {},
   "outputs": [
    {
     "data": {
      "image/png": "[encoded data removed]",
      "text/plain": [
       "<Figure size 576x576 with 1 Axes>"
      ]
     },
     "metadata": {
      "needs_background": "light"
     },
     "output_type": "display_data"
    }
   ],
   "source": [
    "train_scores_mean = np.mean(train_scores, axis=1)\n",
    "test_scores_mean = np.mean(test_scores, axis=1)\n",
    "\n",
    "plt.plot(train_sizes, train_scores_mean, 'o-', color=\"r\",\n",
    "             label=\"Funcionamiento datos_entrenamiento\")\n",
    "plt.plot(train_sizes, test_scores_mean, 'o-', color=\"g\",\n",
    "             label=\"Funcionamiento Validación Cruzada\")\n",
    "plt.title(\"Curvas de Aprendizaje: ADABoost\")\n",
    "plt.xlabel(\"Número de muestras de entrenamiento\")\n",
    "plt.ylabel(\"Error Cuadrático Medio (MSE)\")\n",
    "plt.legend();"
   ]
  },
  {
   "cell_type": "markdown",
   "metadata": {},
   "source": [
    "Como vemos en la gráfica, la puntuación de entrenamiento empieza siendo mucho más alta que la de los datos de validacion cruzada. Sin embargo al incrementar el tamaño del dataset de entrenamiento el modelo empieza a aprender , con lo cual la puntuacion de validacion cruzada comienza a crecer. Llega un punto en el que ambas puntuaciones convergen, esto quiere decir que para este modelo en particular (Adaboost), añadir más datos de entrenamiento no va a mejorar el modelo, y necesitamos un modelo más complejo (que pueda generalizar más  y reducir su sesgo (bias en inglés)) si queremos mejorar los resultados."
   ]
  },
  {
   "cell_type": "code",
   "execution_count": 19,
   "metadata": {},
   "outputs": [
    {
     "data": {
      "image/png": "[encoded data removed]",
      "text/plain": [
       "<Figure size 576x576 with 1 Axes>"
      ]
     },
     "metadata": {
      "needs_background": "light"
     },
     "output_type": "display_data"
    }
   ],
   "source": [
    "train_sizes, train_scores, test_scores = learning_curve(\n",
    "        estimador_rf, vino_X, vino_y, cv=5, n_jobs=-1, train_sizes=np.linspace(0.01,1., 10),\n",
    "        scoring=\"neg_mean_squared_error\")\n",
    "\n",
    "train_scores_mean = np.mean(train_scores, axis=1)\n",
    "test_scores_mean = np.mean(test_scores, axis=1)\n",
    "\n",
    "plt.plot(train_sizes, train_scores_mean, 'o-', color=\"r\",\n",
    "             label=\"Funcionamiento datos_entrenamiento\")\n",
    "plt.plot(train_sizes, test_scores_mean, 'o-', color=\"g\",\n",
    "             label=\"Funcionamiento Validación Cruzada\")\n",
    "plt.title(\"Curvas de Aprendizaje: Bosques Aleatorios\")\n",
    "\n",
    "plt.xlabel(\"Número de muestras de entrenamiento\")\n",
    "plt.ylabel(\"Error Cuadrático Medio (MSE)\")\n",
    "plt.legend();"
   ]
  },
  {
   "cell_type": "markdown",
   "metadata": {
    "collapsed": true
   },
   "source": [
    "Por el contrario, vemos que el estimador Random Forest podria beneficiarse de más datos de entrenamiento, que le ayudarían a generalizar mejor (reducir su sesgo (bias))."
   ]
  },
  {
   "cell_type": "markdown",
   "metadata": {
    "collapsed": true
   },
   "source": [
    "### Curvas de validación"
   ]
  },
  {
   "cell_type": "markdown",
   "metadata": {},
   "source": [
    "Hay veces en las que nos interesa ver cómo varia el performance de un modelo en función de sus hiperparámetros (los hiperparámetros de un modelo son aquellos parámetros que se definen antes de entrenarlo y que definen su proceso de entrenamiento), para ello podemos usar las llamadas *Curvas de validación*.\n",
    "\n",
    "Son unas curvas similares a las curvas de aprendizaje, sin embargo, en vez de mostrar como varia el funcionamiento de un estimador en función del tamaño de los datos de entrenamiento, muestran cómo varia dicho funcionamiento en función de un hiperparámetro."
   ]
  },
  {
   "cell_type": "markdown",
   "metadata": {},
   "source": [
    "Por ejemplo, para el estimador de Bosques Aleatorios (Random Forests), un hiperparámetro es el número de árboles de decisión que queremos que tenga el bosque, otro sería la profundidad máxima de dichos árboles."
   ]
  },
  {
   "cell_type": "code",
   "execution_count": 23,
   "metadata": {},
   "outputs": [],
   "source": [
    "from sklearn.model_selection import validation_curve"
   ]
  },
  {
   "cell_type": "code",
   "execution_count": 24,
   "metadata": {},
   "outputs": [],
   "source": [
    "n_arboles = [2,10,20,50,100,150,200]"
   ]
  },
  {
   "cell_type": "markdown",
   "metadata": {},
   "source": [
    "El parámetro `param_range` de la funcion especifica los valores del parámetro que queremos probar. `param_name` define el nombre del parámetro en el modelo (n_estimators es como se definen el número de árboles en `RandomForestRegressor`."
   ]
  },
  {
   "cell_type": "code",
   "execution_count": 18,
   "metadata": {
    "scrolled": true
   },
   "outputs": [
    {
     "name": "stdout",
     "output_type": "stream",
     "text": [
      "A random forest regressor.\n",
      "\n",
      "    A random forest is a meta estimator that fits a number of classifying\n",
      "    decision trees on various sub-samples of the dataset and use averaging\n",
      "    to improve the predictive accuracy and control over-fitting.\n",
      "    The sub-sample size is always the same as the original\n",
      "    input sample size but the samples are drawn with replacement if\n",
      "    `bootstrap=True` (default).\n",
      "\n",
      "    Read more in the :ref:`User Guide <forest>`.\n",
      "\n",
      "    Parameters\n",
      "    ----------\n",
      "    n_estimators : integer, optional (default=10)\n",
      "        The number of trees in the forest.\n",
      "\n",
      "    criterion : string, optional (default=\"mse\")\n",
      "        The function to measure the quality of a split. Supported criteria\n",
      "        are \"mse\" for the mean squared error, which is equal to variance\n",
      "        reduction as feature selection criterion, and \"mae\" for the mean\n",
      "        absolute error.\n",
      "\n",
      "        .. versionadded:: 0.18\n",
      "           Mean Absolute Error (MAE) criterion.\n",
      "\n",
      "    max_features : int, float, string or None, optional (default=\"auto\")\n",
      "        The number of features to consider when looking for the best split:\n",
      "\n",
      "        - If int, then consider `max_features` features at each split.\n",
      "        - If float, then `max_features` is a percentage and\n",
      "          `int(max_features * n_features)` features are considered at each\n",
      "          split.\n",
      "        - If \"auto\", then `max_features=n_features`.\n",
      "        - If \"sqrt\", then `max_features=sqrt(n_features)`.\n",
      "        - If \"log2\", then `max_features=log2(n_features)`.\n",
      "        - If None, then `max_features=n_features`.\n",
      "\n",
      "        Note: the search for a split does not stop until at least one\n",
      "        valid partition of the node samples is found, even if it requires to\n",
      "        effectively inspect more than ``max_features`` features.\n",
      "\n",
      "    max_depth : integer or None, optional (default=None)\n",
      "        The maximum depth of the tree. If None, then nodes are expanded until\n",
      "        all leaves are pure or until all leaves contain less than\n",
      "        min_samples_split samples.\n",
      "\n",
      "    min_samples_split : int, float, optional (default=2)\n",
      "        The minimum number of samples required to split an internal node:\n",
      "\n",
      "        - If int, then consider `min_samples_split` as the minimum number.\n",
      "        - If float, then `min_samples_split` is a percentage and\n",
      "          `ceil(min_samples_split * n_samples)` are the minimum\n",
      "          number of samples for each split.\n",
      "\n",
      "        .. versionchanged:: 0.18\n",
      "           Added float values for percentages.\n",
      "\n",
      "    min_samples_leaf : int, float, optional (default=1)\n",
      "        The minimum number of samples required to be at a leaf node:\n",
      "\n",
      "        - If int, then consider `min_samples_leaf` as the minimum number.\n",
      "        - If float, then `min_samples_leaf` is a percentage and\n",
      "          `ceil(min_samples_leaf * n_samples)` are the minimum\n",
      "          number of samples for each node.\n",
      "\n",
      "        .. versionchanged:: 0.18\n",
      "           Added float values for percentages.\n",
      "\n",
      "    min_weight_fraction_leaf : float, optional (default=0.)\n",
      "        The minimum weighted fraction of the sum total of weights (of all\n",
      "        the input samples) required to be at a leaf node. Samples have\n",
      "        equal weight when sample_weight is not provided.\n",
      "\n",
      "    max_leaf_nodes : int or None, optional (default=None)\n",
      "        Grow trees with ``max_leaf_nodes`` in best-first fashion.\n",
      "        Best nodes are defined as relative reduction in impurity.\n",
      "        If None then unlimited number of leaf nodes.\n",
      "\n",
      "    min_impurity_split : float,\n",
      "        Threshold for early stopping in tree growth. A node will split\n",
      "        if its impurity is above the threshold, otherwise it is a leaf.\n",
      "\n",
      "        .. deprecated:: 0.19\n",
      "           ``min_impurity_split`` has been deprecated in favor of\n",
      "           ``min_impurity_decrease`` in 0.19 and will be removed in 0.21.\n",
      "           Use ``min_impurity_decrease`` instead.\n",
      "\n",
      "    min_impurity_decrease : float, optional (default=0.)\n",
      "        A node will be split if this split induces a decrease of the impurity\n",
      "        greater than or equal to this value.\n",
      "\n",
      "        The weighted impurity decrease equation is the following::\n",
      "\n",
      "            N_t / N * (impurity - N_t_R / N_t * right_impurity\n",
      "                                - N_t_L / N_t * left_impurity)\n",
      "\n",
      "        where ``N`` is the total number of samples, ``N_t`` is the number of\n",
      "        samples at the current node, ``N_t_L`` is the number of samples in the\n",
      "        left child, and ``N_t_R`` is the number of samples in the right child.\n",
      "\n",
      "        ``N``, ``N_t``, ``N_t_R`` and ``N_t_L`` all refer to the weighted sum,\n",
      "        if ``sample_weight`` is passed.\n",
      "\n",
      "        .. versionadded:: 0.19\n",
      "\n",
      "    bootstrap : boolean, optional (default=True)\n",
      "        Whether bootstrap samples are used when building trees.\n",
      "\n",
      "    oob_score : bool, optional (default=False)\n",
      "        whether to use out-of-bag samples to estimate\n",
      "        the R^2 on unseen data.\n",
      "\n",
      "    n_jobs : integer, optional (default=1)\n",
      "        The number of jobs to run in parallel for both `fit` and `predict`.\n",
      "        If -1, then the number of jobs is set to the number of cores.\n",
      "\n",
      "    random_state : int, RandomState instance or None, optional (default=None)\n",
      "        If int, random_state is the seed used by the random number generator;\n",
      "        If RandomState instance, random_state is the random number generator;\n",
      "        If None, the random number generator is the RandomState instance used\n",
      "        by `np.random`.\n",
      "\n",
      "    verbose : int, optional (default=0)\n",
      "        Controls the verbosity of the tree building process.\n",
      "\n",
      "    warm_start : bool, optional (default=False)\n",
      "        When set to ``True``, reuse the solution of the previous call to fit\n",
      "        and add more estimators to the ensemble, otherwise, just fit a whole\n",
      "        new forest.\n",
      "\n",
      "    Attributes\n",
      "    ----------\n",
      "    estimators_ : list of DecisionTreeRegressor\n",
      "        The collection of fitted sub-estimators.\n",
      "\n",
      "    feature_importances_ : array of shape = [n_features]\n",
      "        The feature importances (the higher, the more important the feature).\n",
      "\n",
      "    n_features_ : int\n",
      "        The number of features when ``fit`` is performed.\n",
      "\n",
      "    n_outputs_ : int\n",
      "        The number of outputs when ``fit`` is performed.\n",
      "\n",
      "    oob_score_ : float\n",
      "        Score of the training dataset obtained using an out-of-bag estimate.\n",
      "\n",
      "    oob_prediction_ : array of shape = [n_samples]\n",
      "        Prediction computed with out-of-bag estimate on the training set.\n",
      "\n",
      "    Examples\n",
      "    --------\n",
      "    >>> from sklearn.ensemble import RandomForestRegressor\n",
      "    >>> from sklearn.datasets import make_regression\n",
      "    >>>\n",
      "    >>> X, y = make_regression(n_features=4, n_informative=2,\n",
      "    ...                        random_state=0, shuffle=False)\n",
      "    >>> regr = RandomForestRegressor(max_depth=2, random_state=0)\n",
      "    >>> regr.fit(X, y)\n",
      "    RandomForestRegressor(bootstrap=True, criterion='mse', max_depth=2,\n",
      "               max_features='auto', max_leaf_nodes=None,\n",
      "               min_impurity_decrease=0.0, min_impurity_split=None,\n",
      "               min_samples_leaf=1, min_samples_split=2,\n",
      "               min_weight_fraction_leaf=0.0, n_estimators=10, n_jobs=1,\n",
      "               oob_score=False, random_state=0, verbose=0, warm_start=False)\n",
      "    >>> print(regr.feature_importances_)\n",
      "    [ 0.17339552  0.81594114  0.          0.01066333]\n",
      "    >>> print(regr.predict([[0, 0, 0, 0]]))\n",
      "    [-2.50699856]\n",
      "\n",
      "    Notes\n",
      "    -----\n",
      "    The default values for the parameters controlling the size of the trees\n",
      "    (e.g. ``max_depth``, ``min_samples_leaf``, etc.) lead to fully grown and\n",
      "    unpruned trees which can potentially be very large on some data sets. To\n",
      "    reduce memory consumption, the complexity and size of the trees should be\n",
      "    controlled by setting those parameter values.\n",
      "\n",
      "    The features are always randomly permuted at each split. Therefore,\n",
      "    the best found split may vary, even with the same training data,\n",
      "    ``max_features=n_features`` and ``bootstrap=False``, if the improvement\n",
      "    of the criterion is identical for several splits enumerated during the\n",
      "    search of the best split. To obtain a deterministic behaviour during\n",
      "    fitting, ``random_state`` has to be fixed.\n",
      "\n",
      "    References\n",
      "    ----------\n",
      "\n",
      "    .. [1] L. Breiman, \"Random Forests\", Machine Learning, 45(1), 5-32, 2001.\n",
      "\n",
      "    See also\n",
      "    --------\n",
      "    DecisionTreeRegressor, ExtraTreesRegressor\n",
      "    \n"
     ]
    }
   ],
   "source": [
    "print(RandomForestRegressor.__doc__)"
   ]
  },
  {
   "cell_type": "code",
   "execution_count": 25,
   "metadata": {},
   "outputs": [],
   "source": [
    "train_scores, test_scores = validation_curve(\n",
    "    estimador_rf, vino_X, vino_y, param_name=\"n_estimators\", param_range=n_arboles,\n",
    "    cv=5, scoring=\"neg_mean_squared_error\", n_jobs=-1)"
   ]
  },
  {
   "cell_type": "markdown",
   "metadata": {},
   "source": [
    "De forma similar a `learning_curve`, `validation_curve` devuelve las puntuaciones de entrenamiento y test para cada valor del rango, y dentro de cada valor, para cada iteración de la validación cruzada (definida como `cv=5`, por lo tanto estamos haciendo 10 validaciones distintas).\n",
    "\n",
    "Calculamos las puntuaciones medias y hacemos los gráficos."
   ]
  },
  {
   "cell_type": "code",
   "execution_count": 26,
   "metadata": {},
   "outputs": [
    {
     "data": {
      "image/png": "[encoded data removed]",
      "text/plain": [
       "<Figure size 576x576 with 1 Axes>"
      ]
     },
     "metadata": {
      "needs_background": "light"
     },
     "output_type": "display_data"
    }
   ],
   "source": [
    "train_scores_mean = np.mean(train_scores, axis=1)\n",
    "train_scores_std = np.std(train_scores, axis=1)\n",
    "test_scores_mean = np.mean(test_scores, axis=1)\n",
    "test_scores_std = np.std(test_scores, axis=1)\n",
    "\n",
    "plt.plot(n_arboles, train_scores_mean, 'o-', color=\"r\",\n",
    "             label=\"Funcionamiento datos_entrenamiento\")\n",
    "plt.plot(n_arboles, test_scores_mean, 'o-', color=\"g\",\n",
    "             label=\"Funcionamiento Validación Cruzada\")\n",
    "plt.title(\"Curvas de Validación: Bosques Aleatorios / Número de Árboles\")\n",
    "\n",
    "plt.xlabel(\"Número de estimadores\")\n",
    "plt.ylabel(\"Error Cuadrático Medio (MSE)\")\n",
    "plt.legend();"
   ]
  },
  {
   "cell_type": "code",
   "execution_count": 27,
   "metadata": {},
   "outputs": [
    {
     "data": {
      "image/png": "[encoded data removed]",
      "text/plain": [
       "<Figure size 576x576 with 1 Axes>"
      ]
     },
     "metadata": {
      "needs_background": "light"
     },
     "output_type": "display_data"
    }
   ],
   "source": [
    "n_estimadores = [2,10,20,50,100,200,350, 500]\n",
    "\n",
    "train_scores, test_scores = validation_curve(\n",
    "    estimador_ab, vino_X, vino_y, param_name=\"n_estimators\", param_range=n_estimadores,\n",
    "    cv=5, scoring=\"neg_mean_squared_error\", n_jobs=-1)\n",
    "\n",
    "train_scores_mean = np.mean(train_scores, axis=1)\n",
    "train_scores_std = np.std(train_scores, axis=1)\n",
    "test_scores_mean = np.mean(test_scores, axis=1)\n",
    "test_scores_std = np.std(test_scores, axis=1)\n",
    "\n",
    "plt.plot(n_estimadores, train_scores_mean, 'o-', color=\"r\",\n",
    "             label=\"Funcionamiento datos_entrenamiento\")\n",
    "plt.plot(n_estimadores, test_scores_mean, 'o-', color=\"g\",\n",
    "             label=\"Funcionamiento Validación Cruzada\")\n",
    "plt.title(\"Curvas de Validación: AdaBoost / Número de Estimadores\")\n",
    "\n",
    "plt.xlabel(\"Número de estimadores\")\n",
    "plt.ylabel(\"Error Cuadrático Medio (MSE)\")\n",
    "plt.legend();"
   ]
  },
  {
   "cell_type": "markdown",
   "metadata": {},
   "source": [
    "Ahora podemos volver a ver la curva de aprendizaje del Random Fores con 100 arboles (el valor óptimo)."
   ]
  },
  {
   "cell_type": "code",
   "execution_count": 28,
   "metadata": {},
   "outputs": [
    {
     "data": {
      "image/png": "[encoded data removed]",
      "text/plain": [
       "<Figure size 576x576 with 1 Axes>"
      ]
     },
     "metadata": {
      "needs_background": "light"
     },
     "output_type": "display_data"
    }
   ],
   "source": [
    "train_sizes, train_scores, test_scores = learning_curve(\n",
    "        RandomForestRegressor(n_estimators=100), vino_X, vino_y, cv=5, n_jobs=-1, \n",
    "        train_sizes=np.linspace(0.01,1., 10),\n",
    "        scoring=\"neg_mean_squared_error\")\n",
    "\n",
    "train_scores_mean = np.mean(train_scores, axis=1)\n",
    "test_scores_mean = np.mean(test_scores, axis=1)\n",
    "\n",
    "plt.plot(train_sizes, train_scores_mean, 'o-', color=\"r\",\n",
    "             label=\"Funcionamiento datos_entrenamiento\")\n",
    "plt.plot(train_sizes, test_scores_mean, 'o-', color=\"g\",\n",
    "             label=\"Funcionamiento Validación Cruzada\")\n",
    "plt.title(\"Curvas de Aprendizaje: Bosques Aleatorios\")\n",
    "\n",
    "plt.xlabel(\"Número de muestras de entrenamiento\")\n",
    "plt.ylabel(\"Error Cuadrático Medio (MSE)\")\n",
    "plt.legend();"
   ]
  },
  {
   "cell_type": "markdown",
   "metadata": {
    "collapsed": true
   },
   "source": [
    "Vemos que el modelo aprende más con 100 árboles que con 10."
   ]
  },
  {
   "cell_type": "code",
   "execution_count": null,
   "metadata": {
    "collapsed": true
   },
   "outputs": [],
   "source": []
  }
 ],
 "metadata": {
  "kernelspec": {
   "display_name": "Python 3",
   "language": "python",
   "name": "python3"
  },
  "language_info": {
   "codemirror_mode": {
    "name": "ipython",
    "version": 3
   },
   "file_extension": ".py",
   "mimetype": "text/x-python",
   "name": "python",
   "nbconvert_exporter": "python",
   "pygments_lexer": "ipython3",
   "version": "3.7.1"
  }
 },
 "nbformat": 4,
 "nbformat_minor": 2
}
