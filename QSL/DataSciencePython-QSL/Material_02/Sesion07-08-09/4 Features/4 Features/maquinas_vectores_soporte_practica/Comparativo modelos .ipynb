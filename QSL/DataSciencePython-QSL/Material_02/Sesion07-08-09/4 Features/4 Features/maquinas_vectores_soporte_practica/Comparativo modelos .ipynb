{
 "cells": [
  {
   "cell_type": "code",
   "execution_count": null,
   "metadata": {},
   "outputs": [],
   "source": [
    "import pandas as pd\n",
    "import numpy as np\n",
    "\n",
    "from sklearn.linear_model import LogisticRegression\n",
    "from sklearn import metrics\n",
    "from sklearn.model_selection import train_test_split"
   ]
  },
  {
   "cell_type": "code",
   "execution_count": null,
   "metadata": {},
   "outputs": [],
   "source": [
    "df_titanic = pd.read_csv(\"titanic.csv\").drop([\"name\", \"ticket\", \"cabin\", \n",
    "                                                                \"boat\", \"body\", \"home.dest\"], \n",
    "                                                               axis = 1)"
   ]
  },
  {
   "cell_type": "code",
   "execution_count": null,
   "metadata": {},
   "outputs": [],
   "source": [
    "datos_numericos = df_titanic.select_dtypes(include=['float64', \"int64\"])\n",
    "datos_categoricos = df_titanic.select_dtypes(exclude=['float64', \"int64\"])"
   ]
  },
  {
   "cell_type": "code",
   "execution_count": null,
   "metadata": {},
   "outputs": [],
   "source": [
    "for col in datos_numericos.columns:\n",
    "    datos_numericos[col].fillna(datos_numericos[col].mean(), inplace=True)\n",
    "\n",
    "    \n",
    "datos_categoricos_codificados = pd.get_dummies(datos_categoricos)\n",
    "df_titanic_final = pd.concat([datos_numericos, datos_categoricos_codificados], axis=1)"
   ]
  },
  {
   "cell_type": "code",
   "execution_count": null,
   "metadata": {},
   "outputs": [],
   "source": [
    "X=df_titanic_final.drop('survived', axis=1)\n",
    "y=df_titanic_final['survived']"
   ]
  },
  {
   "cell_type": "code",
   "execution_count": null,
   "metadata": {},
   "outputs": [],
   "source": [
    "X_train, X_test, y_train, y_test = train_test_split(X, y, test_size=0.2)"
   ]
  },
  {
   "cell_type": "code",
   "execution_count": null,
   "metadata": {},
   "outputs": [],
   "source": [
    "from sklearn.svm import SVC, SVR"
   ]
  },
  {
   "cell_type": "code",
   "execution_count": null,
   "metadata": {},
   "outputs": [],
   "source": [
    "estimador_svm =  SVC(kernel=\"linear\", cache_size=2000)\n",
    "estimador_svm.fit(X_train, y_train)"
   ]
  },
  {
   "cell_type": "code",
   "execution_count": null,
   "metadata": {},
   "outputs": [],
   "source": [
    "preds = estimador_svm.predict(X_test)\n",
    "metrics.f1_score(y_test, preds, average=\"micro\")"
   ]
  },
  {
   "cell_type": "code",
   "execution_count": null,
   "metadata": {},
   "outputs": [],
   "source": [
    "estimador_svm =  SVC(kernel=\"poly\", cache_size=2000)\n",
    "estimador_svm.fit(X_train, y_train)\n",
    "preds = estimador_svm.predict(X_test)\n",
    "metrics.f1_score(y_test, preds, average=\"micro\")"
   ]
  },
  {
   "cell_type": "code",
   "execution_count": null,
   "metadata": {},
   "outputs": [],
   "source": [
    "estimador_svm =  SVC(kernel=\"rbf\", cache_size=2000)\n",
    "estimador_svm.fit(X_train, y_train)\n",
    "preds = estimador_svm.predict(X_test)\n",
    "metrics.f1_score(y_test, preds, average=\"micro\")"
   ]
  },
  {
   "cell_type": "code",
   "execution_count": null,
   "metadata": {},
   "outputs": [],
   "source": [
    "from sklearn import tree"
   ]
  },
  {
   "cell_type": "code",
   "execution_count": null,
   "metadata": {},
   "outputs": [],
   "source": [
    "arbol_balanceado = tree.DecisionTreeClassifier(max_depth=4, class_weight=\"balanced\")\n",
    "arbol_balanceado.fit(X, y)\n",
    "preds = arbol_balanceado.predict(X_test)\n",
    "metrics.f1_score(y_test, preds, average=\"micro\")"
   ]
  },
  {
   "cell_type": "code",
   "execution_count": null,
   "metadata": {},
   "outputs": [],
   "source": []
  }
 ],
 "metadata": {
  "kernelspec": {
   "display_name": "Python 3",
   "language": "python",
   "name": "python3"
  },
  "language_info": {
   "codemirror_mode": {
    "name": "ipython",
    "version": 3
   },
   "file_extension": ".py",
   "mimetype": "text/x-python",
   "name": "python",
   "nbconvert_exporter": "python",
   "pygments_lexer": "ipython3",
   "version": "3.8.5"
  }
 },
 "nbformat": 4,
 "nbformat_minor": 2
}
