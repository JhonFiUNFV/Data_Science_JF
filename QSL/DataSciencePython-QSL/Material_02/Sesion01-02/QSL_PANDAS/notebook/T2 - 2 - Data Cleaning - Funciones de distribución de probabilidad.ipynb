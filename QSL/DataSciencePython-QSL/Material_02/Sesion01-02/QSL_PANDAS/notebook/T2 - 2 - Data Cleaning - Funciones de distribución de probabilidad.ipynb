{
 "cells": [
  {
   "cell_type": "markdown",
   "metadata": {
    "colab_type": "text",
    "id": "76tSTLpx_6tj"
   },
   "source": [
    "# Funciones de distribución de probabilidades\n",
    "## Distribución Uniforme"
   ]
  },
  {
   "cell_type": "code",
   "execution_count": null,
   "metadata": {
    "colab": {},
    "colab_type": "code",
    "id": "24f0E2tZ_6tk"
   },
   "outputs": [],
   "source": [
    "import numpy as np\n",
    "import matplotlib.pyplot as plt\n",
    "import pandas as pd"
   ]
  },
  {
   "cell_type": "code",
   "execution_count": null,
   "metadata": {
    "colab": {},
    "colab_type": "code",
    "id": "lXlMO8RS_6tp"
   },
   "outputs": [],
   "source": [
    "a = 1\n",
    "b = 100\n",
    "n = 1000000\n",
    "data = np.random.uniform(a, b, n)"
   ]
  },
  {
   "cell_type": "code",
   "execution_count": null,
   "metadata": {
    "colab": {
     "base_uri": "https://localhost:8080/",
     "height": 367
    },
    "colab_type": "code",
    "id": "tiC5WseY_6tt",
    "outputId": "b0abc9de-891c-4789-f4d5-42f4dc86c5a8"
   },
   "outputs": [],
   "source": [
    "%matplotlib inline\n",
    "plt.hist(data)"
   ]
  },
  {
   "cell_type": "markdown",
   "metadata": {
    "colab_type": "text",
    "id": "XubDFO_f_6tx"
   },
   "source": [
    "## Distribución Normal"
   ]
  },
  {
   "cell_type": "code",
   "execution_count": null,
   "metadata": {
    "colab": {},
    "colab_type": "code",
    "id": "X1N2_WO1_6tx"
   },
   "outputs": [],
   "source": [
    "data = np.random.randn(1000000)"
   ]
  },
  {
   "cell_type": "code",
   "execution_count": null,
   "metadata": {
    "colab": {
     "base_uri": "https://localhost:8080/",
     "height": 295
    },
    "colab_type": "code",
    "id": "qhOyLRGN_6tz",
    "outputId": "459205ba-9d27-4da8-ac42-1a03c499bd39"
   },
   "outputs": [],
   "source": [
    "x = range(1,1000001)\n",
    "plt.plot(x, data)"
   ]
  },
  {
   "cell_type": "code",
   "execution_count": null,
   "metadata": {
    "colab": {
     "base_uri": "https://localhost:8080/",
     "height": 367
    },
    "colab_type": "code",
    "id": "UnsfVULW_6t1",
    "outputId": "1631f469-3f20-4b50-af70-d5a1c4931ecb"
   },
   "outputs": [],
   "source": [
    "%matplotlib inline\n",
    "plt.hist(data)"
   ]
  },
  {
   "cell_type": "code",
   "execution_count": null,
   "metadata": {
    "colab": {
     "base_uri": "https://localhost:8080/",
     "height": 295
    },
    "colab_type": "code",
    "id": "XdW96vvx_6t3",
    "outputId": "a1f36bac-4ba7-495d-ecd3-56f1ee5c2d7d"
   },
   "outputs": [],
   "source": [
    "plt.plot(x,sorted(data))"
   ]
  },
  {
   "cell_type": "code",
   "execution_count": null,
   "metadata": {
    "colab": {
     "base_uri": "https://localhost:8080/",
     "height": 368
    },
    "colab_type": "code",
    "id": "QQZ1SxuG_6t5",
    "outputId": "8bbe5f6f-ab4b-4b71-88b9-fd3960af2cb1"
   },
   "outputs": [],
   "source": [
    "mu = 5.5\n",
    "sd = 2.5\n",
    "Z_10000 = np.random.randn(10000)\n",
    "data = mu + sd * Z_10000 # Z = (X - mu) / sd -> N(0,1), X = mu + sd * Z\n",
    "plt.hist(data)"
   ]
  },
  {
   "cell_type": "code",
   "execution_count": null,
   "metadata": {
    "colab": {
     "base_uri": "https://localhost:8080/",
     "height": 51
    },
    "colab_type": "code",
    "id": "n8siHqnN_6t6",
    "outputId": "9aeff760-7b7d-4196-d02d-658c2150d85f"
   },
   "outputs": [],
   "source": [
    "data = np.random.randn(2,4)\n",
    "data"
   ]
  },
  {
   "cell_type": "markdown",
   "metadata": {
    "colab_type": "text",
    "id": "qirIn8au_6t8"
   },
   "source": [
    "## La simulación de Monte Carlo"
   ]
  },
  {
   "cell_type": "markdown",
   "metadata": {
    "colab_type": "text",
    "id": "s4ySxEBn_6t8"
   },
   "source": [
    "* Generamos dos números aleatorios uniforme x e y entre 0 y 1 en total 1000 veces.\n",
    "* Calcularemos $z = x^2 + y^2$:\n",
    "    * Si $z <= 1 \\rightarrow$ estamos dentro del círculo.\n",
    "    * Si $z > 1 \\rightarrow$ estamos fuera del círculo.\n",
    "* Calculamos el número total de veces que están dentro del círculo y lo dividimos entre el número total de intentos para obtener una aproximación de la probabilidad de caer dentro del círculo.\n",
    "* Usamos dicha probabilidad para aproximar el valor de π.\n",
    "* Repetimos el experimento un número suficiente de veces (por ejemplo 100), para obtener (100) diferentes aproximaciones de π. \n",
    "* Calculamos el promedio de los 100 experimentos anteriores para dar un valor final de π.\n",
    "    "
   ]
  },
  {
   "cell_type": "code",
   "execution_count": null,
   "metadata": {
    "colab": {},
    "colab_type": "code",
    "id": "IxAP8lvL_6t_"
   },
   "outputs": [],
   "source": [
    "def pi_montecarlo(n, n_exp):\n",
    "    pi_avg = 0\n",
    "    pi_value_list = []\n",
    "    for i in range(n_exp):\n",
    "        value = 0\n",
    "        x = np.random.uniform(0,1,n).tolist()\n",
    "        y = np.random.uniform(0,1,n).tolist()\n",
    "        for j in range(n):\n",
    "            z = np.sqrt(x[j] * x[j] + y[j] * y[j])\n",
    "            if z<=1:\n",
    "                value += 1\n",
    "        float_value = float(value)\n",
    "        pi_value = float_value * 4 / n\n",
    "        pi_value_list.append(pi_value)\n",
    "        pi_avg += pi_value\n",
    "\n",
    "    pi = pi_avg/n_exp\n",
    "\n",
    "    print(pi)\n",
    "    fig = plt.plot(pi_value_list)\n",
    "    return (pi, fig)"
   ]
  },
  {
   "cell_type": "code",
   "execution_count": null,
   "metadata": {
    "colab": {
     "base_uri": "https://localhost:8080/",
     "height": 301
    },
    "colab_type": "code",
    "id": "36fV9Wf9_6uA",
    "outputId": "472dd2bc-a99d-4d73-cb97-5ff12e9220c8"
   },
   "outputs": [],
   "source": [
    "pi_montecarlo(1000, 100)"
   ]
  },
  {
   "cell_type": "markdown",
   "metadata": {
    "colab_type": "text",
    "id": "T367QBnb_6uB"
   },
   "source": [
    "### Dummy Data Sets"
   ]
  },
  {
   "cell_type": "code",
   "execution_count": null,
   "metadata": {
    "colab": {},
    "colab_type": "code",
    "id": "Eu_1AXII_6uC"
   },
   "outputs": [],
   "source": [
    "n = 1000000\n",
    "data = pd.DataFrame(\n",
    "    {\n",
    "        'A' : np.random.randn(n),\n",
    "        'B' : 1.5 + 2.5 * np.random.randn(n),\n",
    "        'C' : np.random.uniform(5, 32, n)\n",
    "    }\n",
    ")"
   ]
  },
  {
   "cell_type": "code",
   "execution_count": null,
   "metadata": {
    "colab": {
     "base_uri": "https://localhost:8080/",
     "height": 297
    },
    "colab_type": "code",
    "id": "BvB2sFTs_6uD",
    "outputId": "555a43d1-bee1-467f-8154-11a0b9efea82"
   },
   "outputs": [],
   "source": [
    "data.describe()"
   ]
  },
  {
   "cell_type": "code",
   "execution_count": null,
   "metadata": {
    "colab": {
     "base_uri": "https://localhost:8080/",
     "height": 367
    },
    "colab_type": "code",
    "id": "1GCmP9H6_6uE",
    "outputId": "389e26c7-7030-4d80-b48a-a360080b878c"
   },
   "outputs": [],
   "source": [
    "plt.hist(data[\"A\"])"
   ]
  },
  {
   "cell_type": "code",
   "execution_count": null,
   "metadata": {
    "colab": {
     "base_uri": "https://localhost:8080/",
     "height": 367
    },
    "colab_type": "code",
    "id": "N9nUkcxA_6uF",
    "outputId": "e9fae6ec-8936-4406-e6c4-c36075e781f3"
   },
   "outputs": [],
   "source": [
    "plt.hist(data[\"B\"])"
   ]
  },
  {
   "cell_type": "code",
   "execution_count": null,
   "metadata": {
    "colab": {
     "base_uri": "https://localhost:8080/",
     "height": 367
    },
    "colab_type": "code",
    "id": "W1Y5s-qY_6uG",
    "outputId": "8078d044-b46c-4183-b68e-0a75194160b3"
   },
   "outputs": [],
   "source": [
    "plt.hist(data[\"C\"])"
   ]
  },
  {
   "cell_type": "code",
   "execution_count": null,
   "metadata": {
    "colab": {},
    "colab_type": "code",
    "id": "KPDL3dga_6uH"
   },
   "outputs": [],
   "source": [
    "data = pd.read_csv(\"../datasets/customer-churn-model/Customer Churn Model.txt\")"
   ]
  },
  {
   "cell_type": "code",
   "execution_count": null,
   "metadata": {
    "colab": {
     "base_uri": "https://localhost:8080/",
     "height": 204
    },
    "colab_type": "code",
    "id": "HA94Q1BK_6uI",
    "outputId": "404b0219-bace-4f83-ee13-d83c9207d107"
   },
   "outputs": [],
   "source": [
    "data.head()"
   ]
  },
  {
   "cell_type": "code",
   "execution_count": null,
   "metadata": {
    "colab": {},
    "colab_type": "code",
    "id": "hN3pktK9_6uJ"
   },
   "outputs": [],
   "source": [
    "colum_names = data.columns.values.tolist()"
   ]
  },
  {
   "cell_type": "code",
   "execution_count": null,
   "metadata": {
    "colab": {
     "base_uri": "https://localhost:8080/",
     "height": 34
    },
    "colab_type": "code",
    "id": "321RtjMG_6uK",
    "outputId": "153b3032-42cb-42da-ee53-df9aa52d72a4"
   },
   "outputs": [],
   "source": [
    "a = len(colum_names)\n",
    "a"
   ]
  },
  {
   "cell_type": "code",
   "execution_count": null,
   "metadata": {
    "colab": {},
    "colab_type": "code",
    "id": "gFJSTVfp_6uL"
   },
   "outputs": [],
   "source": [
    "new_data = pd.DataFrame(\n",
    "    {\n",
    "        'Column Name': colum_names,\n",
    "        'A' : np.random.randn(a),\n",
    "        'B' : np.random.uniform(0,1,a)\n",
    "    }\n",
    ")"
   ]
  },
  {
   "cell_type": "code",
   "execution_count": null,
   "metadata": {
    "colab": {
     "base_uri": "https://localhost:8080/",
     "height": 700
    },
    "colab_type": "code",
    "id": "ovmUIoXZ_6uM",
    "outputId": "8baf6056-944f-404d-94e0-b02247d348e3"
   },
   "outputs": [],
   "source": [
    "new_data"
   ]
  },
  {
   "cell_type": "code",
   "execution_count": null,
   "metadata": {
    "colab": {},
    "colab_type": "code",
    "id": "97ZGkX3z_6uN"
   },
   "outputs": [],
   "source": [
    "new_data = pd.DataFrame(\n",
    "    {\n",
    "        'Column Name': colum_names,\n",
    "        'A' : np.random.randn(a),\n",
    "        'B' : np.random.uniform(0,1,a)\n",
    "    }, index = range(42, 42 + a)\n",
    ")"
   ]
  }
 ],
 "metadata": {
  "colab": {
   "include_colab_link": true,
   "name": "T2 - 2 - Data Cleaning - Funciones de distribución de probabilidad.ipynb",
   "provenance": []
  },
  "kernelspec": {
   "display_name": "Python 3",
   "language": "python",
   "name": "python3"
  },
  "language_info": {
   "codemirror_mode": {
    "name": "ipython",
    "version": 3
   },
   "file_extension": ".py",
   "mimetype": "text/x-python",
   "name": "python",
   "nbconvert_exporter": "python",
   "pygments_lexer": "ipython3",
   "version": "3.8.5"
  }
 },
 "nbformat": 4,
 "nbformat_minor": 1
}
