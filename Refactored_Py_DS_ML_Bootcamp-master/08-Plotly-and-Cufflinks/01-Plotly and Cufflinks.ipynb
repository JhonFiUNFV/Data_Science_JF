{
 "cells": [
  {
   "cell_type": "markdown",
   "metadata": {},
   "source": [
    "___\n",
    "\n",
    "<a href='http://www.pieriandata.com'> <img src='../Pierian_Data_Logo.png' /></a>\n",
    "___\n",
    "# Plotly and Cufflinks"
   ]
  },
  {
   "cell_type": "markdown",
   "metadata": {},
   "source": [
    "Plotly is a library that allows you to create interactive plots that you can use in dashboards or websites (you can save them as html files or static images).\n",
    "\n",
    "## Installation\n",
    "\n",
    "In order for this all to work, you'll need to install plotly and cufflinks to call plots directly off of a pandas dataframe. These libraries are not currently available through **conda** but are available through **pip**. Install the libraries at your command line/terminal using:\n",
    "\n",
    "    pip install plotly\n",
    "    pip install cufflinks\n",
    "\n",
    "** NOTE: Make sure you only have one installation of Python on your computer when you do this, otherwise the installation may not work. **\n",
    "\n",
    "## Imports and Set-up"
   ]
  },
  {
   "cell_type": "code",
   "execution_count": null,
   "metadata": {},
   "outputs": [],
   "source": [
    "# pip install cufflinks --upgrade"
   ]
  },
  {
   "cell_type": "code",
   "execution_count": 1,
   "metadata": {},
   "outputs": [],
   "source": [
    "import pandas as pd\n",
    "import numpy as np\n",
    "%matplotlib inline"
   ]
  },
  {
   "cell_type": "code",
   "execution_count": 5,
   "metadata": {},
   "outputs": [
    {
     "name": "stdout",
     "output_type": "stream",
     "text": [
      "5.6.0\n"
     ]
    }
   ],
   "source": [
    "from plotly import __version__\n",
    "print(__version__)"
   ]
  },
  {
   "cell_type": "code",
   "execution_count": 6,
   "metadata": {},
   "outputs": [
    {
     "name": "stdout",
     "output_type": "stream",
     "text": [
      "5.6.0\n"
     ]
    }
   ],
   "source": [
    "from plotly.offline import download_plotlyjs, init_notebook_mode, plot, iplot\n",
    "\n",
    "print(__version__) # requires version >= 1.9.0"
   ]
  },
  {
   "cell_type": "code",
   "execution_count": 13,
   "metadata": {},
   "outputs": [],
   "source": [
    "import plotly\n",
    "import cufflinks as cf"
   ]
  },
  {
   "cell_type": "code",
   "execution_count": 14,
   "metadata": {},
   "outputs": [
    {
     "data": {
      "text/html": [
       "        <script type=\"text/javascript\">\n",
       "        window.PlotlyConfig = {MathJaxConfig: 'local'};\n",
       "        if (window.MathJax) {MathJax.Hub.Config({SVG: {font: \"STIX-Web\"}});}\n",
       "        if (typeof require !== 'undefined') {\n",
       "        require.undef(\"plotly\");\n",
       "        requirejs.config({\n",
       "            paths: {\n",
       "                'plotly': ['https://cdn.plot.ly/plotly-2.9.0.min']\n",
       "            }\n",
       "        });\n",
       "        require(['plotly'], function(Plotly) {\n",
       "            window._Plotly = Plotly;\n",
       "        });\n",
       "        }\n",
       "        </script>\n",
       "        "
      ]
     },
     "metadata": {},
     "output_type": "display_data"
    }
   ],
   "source": [
    "# For Notebooks\n",
    "init_notebook_mode(connected=True)"
   ]
  },
  {
   "cell_type": "code",
   "execution_count": 15,
   "metadata": {},
   "outputs": [
    {
     "data": {
      "text/html": [
       "        <script type=\"text/javascript\">\n",
       "        window.PlotlyConfig = {MathJaxConfig: 'local'};\n",
       "        if (window.MathJax) {MathJax.Hub.Config({SVG: {font: \"STIX-Web\"}});}\n",
       "        if (typeof require !== 'undefined') {\n",
       "        require.undef(\"plotly\");\n",
       "        requirejs.config({\n",
       "            paths: {\n",
       "                'plotly': ['https://cdn.plot.ly/plotly-2.9.0.min']\n",
       "            }\n",
       "        });\n",
       "        require(['plotly'], function(Plotly) {\n",
       "            window._Plotly = Plotly;\n",
       "        });\n",
       "        }\n",
       "        </script>\n",
       "        "
      ]
     },
     "metadata": {},
     "output_type": "display_data"
    }
   ],
   "source": [
    "# For offline use\n",
    "cf.go_offline()"
   ]
  },
  {
   "cell_type": "markdown",
   "metadata": {},
   "source": [
    "### Fake Data"
   ]
  },
  {
   "cell_type": "code",
   "execution_count": 16,
   "metadata": {},
   "outputs": [],
   "source": [
    "df = pd.DataFrame(np.random.randn(100,4),columns='A B C D'.split())"
   ]
  },
  {
   "cell_type": "code",
   "execution_count": 17,
   "metadata": {},
   "outputs": [
    {
     "data": {
      "text/html": [
       "<div>\n",
       "<style scoped>\n",
       "    .dataframe tbody tr th:only-of-type {\n",
       "        vertical-align: middle;\n",
       "    }\n",
       "\n",
       "    .dataframe tbody tr th {\n",
       "        vertical-align: top;\n",
       "    }\n",
       "\n",
       "    .dataframe thead th {\n",
       "        text-align: right;\n",
       "    }\n",
       "</style>\n",
       "<table border=\"1\" class=\"dataframe\">\n",
       "  <thead>\n",
       "    <tr style=\"text-align: right;\">\n",
       "      <th></th>\n",
       "      <th>A</th>\n",
       "      <th>B</th>\n",
       "      <th>C</th>\n",
       "      <th>D</th>\n",
       "    </tr>\n",
       "  </thead>\n",
       "  <tbody>\n",
       "    <tr>\n",
       "      <th>0</th>\n",
       "      <td>0.254021</td>\n",
       "      <td>1.160826</td>\n",
       "      <td>0.740009</td>\n",
       "      <td>-0.906841</td>\n",
       "    </tr>\n",
       "    <tr>\n",
       "      <th>1</th>\n",
       "      <td>0.210183</td>\n",
       "      <td>0.496165</td>\n",
       "      <td>-1.161255</td>\n",
       "      <td>0.116211</td>\n",
       "    </tr>\n",
       "    <tr>\n",
       "      <th>2</th>\n",
       "      <td>-1.417367</td>\n",
       "      <td>0.073836</td>\n",
       "      <td>-0.512234</td>\n",
       "      <td>0.264485</td>\n",
       "    </tr>\n",
       "    <tr>\n",
       "      <th>3</th>\n",
       "      <td>1.435596</td>\n",
       "      <td>0.232734</td>\n",
       "      <td>0.866477</td>\n",
       "      <td>-0.544085</td>\n",
       "    </tr>\n",
       "    <tr>\n",
       "      <th>4</th>\n",
       "      <td>0.643816</td>\n",
       "      <td>-0.501732</td>\n",
       "      <td>-0.345490</td>\n",
       "      <td>0.553152</td>\n",
       "    </tr>\n",
       "  </tbody>\n",
       "</table>\n",
       "</div>"
      ],
      "text/plain": [
       "          A         B         C         D\n",
       "0  0.254021  1.160826  0.740009 -0.906841\n",
       "1  0.210183  0.496165 -1.161255  0.116211\n",
       "2 -1.417367  0.073836 -0.512234  0.264485\n",
       "3  1.435596  0.232734  0.866477 -0.544085\n",
       "4  0.643816 -0.501732 -0.345490  0.553152"
      ]
     },
     "execution_count": 17,
     "metadata": {},
     "output_type": "execute_result"
    }
   ],
   "source": [
    "df.head()"
   ]
  },
  {
   "cell_type": "code",
   "execution_count": 18,
   "metadata": {},
   "outputs": [],
   "source": [
    "df2 = pd.DataFrame({'Category':['A','B','C'],'Values':[32,43,50]})"
   ]
  },
  {
   "cell_type": "code",
   "execution_count": 19,
   "metadata": {},
   "outputs": [
    {
     "data": {
      "text/html": [
       "<div>\n",
       "<style scoped>\n",
       "    .dataframe tbody tr th:only-of-type {\n",
       "        vertical-align: middle;\n",
       "    }\n",
       "\n",
       "    .dataframe tbody tr th {\n",
       "        vertical-align: top;\n",
       "    }\n",
       "\n",
       "    .dataframe thead th {\n",
       "        text-align: right;\n",
       "    }\n",
       "</style>\n",
       "<table border=\"1\" class=\"dataframe\">\n",
       "  <thead>\n",
       "    <tr style=\"text-align: right;\">\n",
       "      <th></th>\n",
       "      <th>Category</th>\n",
       "      <th>Values</th>\n",
       "    </tr>\n",
       "  </thead>\n",
       "  <tbody>\n",
       "    <tr>\n",
       "      <th>0</th>\n",
       "      <td>A</td>\n",
       "      <td>32</td>\n",
       "    </tr>\n",
       "    <tr>\n",
       "      <th>1</th>\n",
       "      <td>B</td>\n",
       "      <td>43</td>\n",
       "    </tr>\n",
       "    <tr>\n",
       "      <th>2</th>\n",
       "      <td>C</td>\n",
       "      <td>50</td>\n",
       "    </tr>\n",
       "  </tbody>\n",
       "</table>\n",
       "</div>"
      ],
      "text/plain": [
       "  Category  Values\n",
       "0        A      32\n",
       "1        B      43\n",
       "2        C      50"
      ]
     },
     "execution_count": 19,
     "metadata": {},
     "output_type": "execute_result"
    }
   ],
   "source": [
    "df2.head()"
   ]
  },
  {
   "cell_type": "code",
   "execution_count": 20,
   "metadata": {},
   "outputs": [
    {
     "data": {
      "text/plain": [
       "<AxesSubplot:>"
      ]
     },
     "execution_count": 20,
     "metadata": {},
     "output_type": "execute_result"
    },
    {
     "data": {
      "image/png": "[encoded data removed]",
      "text/plain": [
       "<Figure size 432x288 with 1 Axes>"
      ]
     },
     "metadata": {
      "needs_background": "light"
     },
     "output_type": "display_data"
    }
   ],
   "source": [
    "df.plot()"
   ]
  },
  {
   "cell_type": "code",
   "execution_count": 21,
   "metadata": {},
   "outputs": [
    {
     "data": {
      "application/vnd.plotly.v1+json": {
       "config": {
        "linkText": "Export to plotly.com",
        "plotlyServerURL": "https://plotly.com",
        "showLink": true
       },
       "data": [
        {
         "line": {
          "color": "rgba(255, 153, 51, 1.0)",
          "dash": "solid",
          "shape": "linear",
          "width": 1.3
         },
         "mode": "lines",
         "name": "A",
         "text": "",
         "type": "scatter",
         "x": [
          0,
          1,
          2,
          3,
          4,
          5,
          6,
          7,
          8,
          9,
          10,
          11,
          12,
          13,
          14,
          15,
          16,
          17,
          18,
          19,
          20,
          21,
          22,
          23,
          24,
          25,
          26,
          27,
          28,
          29,
          30,
          31,
          32,
          33,
          34,
          35,
          36,
          37,
          38,
          39,
          40,
          41,
          42,
          43,
          44,
          45,
          46,
          47,
          48,
          49,
          50,
          51,
          52,
          53,
          54,
          55,
          56,
          57,
          58,
          59,
          60,
          61,
          62,
          63,
          64,
          65,
          66,
          67,
          68,
          69,
          70,
          71,
          72,
          73,
          74,
          75,
          76,
          77,
          78,
          79,
          80,
          81,
          82,
          83,
          84,
          85,
          86,
          87,
          88,
          89,
          90,
          91,
          92,
          93,
          94,
          95,
          96,
          97,
          98,
          99
         ],
         "y": [
          0.2540205165143539,
          0.21018287468404354,
          -1.417366523418028,
          1.4355964054891057,
          0.6438156084526279,
          -0.48992682332332516,
          2.089603407589297,
          -0.24037244272897193,
          0.22741612429678598,
          -0.43388743074207914,
          -0.17474693590151122,
          -0.3378269321122739,
          -0.2872816214010255,
          0.09021167266536759,
          1.9916614315099455,
          -0.9203501904153832,
          1.9932576734555514,
          1.190820979890536,
          0.7591670480729559,
          -0.9322613470150776,
          -0.04972199823331805,
          1.2685856210555648,
          1.5879259973556699,
          -0.567128573474692,
          -2.1942346439385063,
          -0.4559241878544287,
          1.0321820388276353,
          -1.2718987011182359,
          -1.2386551206807364,
          -2.194211747720904,
          -0.5258492859793686,
          -0.6653282837542511,
          -1.3988028138784063,
          -0.07260478095047099,
          -0.28642094085208936,
          -0.11457773635910108,
          -0.1095433105850815,
          0.9750875884483519,
          0.8374465307982316,
          -0.739274852671829,
          0.3157117587684143,
          -0.1715446808230524,
          -1.941469789403776,
          -0.8593008608200065,
          1.0567482570657265,
          -1.9320398455863936,
          0.2594822932774328,
          -0.39301308706656246,
          0.4491389194589242,
          -0.5943834464300685,
          -1.6205742737788318,
          0.6117521209297304,
          -1.276327824115349,
          0.4086695638455752,
          0.24793326266283466,
          -0.4612398992086352,
          1.472207033963178,
          -1.8432937178256399,
          0.331853571779341,
          -0.14425338478943614,
          -0.05413105300153619,
          2.319362187084283,
          0.7674645302272454,
          0.6023945964221519,
          0.09769810203503486,
          1.4595133621459795,
          0.5577801094920947,
          -0.8161165385921015,
          -0.20283106200073736,
          1.0814223714895106,
          -0.9390927760332309,
          -0.7014055677825115,
          -0.26483222934057704,
          0.2563524393956336,
          1.066269844507545,
          0.8834240698541156,
          -0.7106341632582636,
          -0.4401823764634333,
          0.9603374413953691,
          -0.04706661324449886,
          -0.32082510121876906,
          0.22690521984675313,
          0.5580555659912436,
          -0.097048566746413,
          1.7196848303305123,
          0.1334024173581546,
          -1.3154871382832112,
          -0.9863034014659603,
          -1.0446233980609223,
          2.755130001029382,
          -0.19396822225672392,
          -1.0333488219739275,
          0.37272339170574764,
          1.0054492152613619,
          1.266420601741147,
          -2.1026940491604966,
          0.5587347491572473,
          -1.26564189608967,
          1.2365667571795178,
          0.4093624285717989
         ]
        },
        {
         "line": {
          "color": "rgba(55, 128, 191, 1.0)",
          "dash": "solid",
          "shape": "linear",
          "width": 1.3
         },
         "mode": "lines",
         "name": "B",
         "text": "",
         "type": "scatter",
         "x": [
          0,
          1,
          2,
          3,
          4,
          5,
          6,
          7,
          8,
          9,
          10,
          11,
          12,
          13,
          14,
          15,
          16,
          17,
          18,
          19,
          20,
          21,
          22,
          23,
          24,
          25,
          26,
          27,
          28,
          29,
          30,
          31,
          32,
          33,
          34,
          35,
          36,
          37,
          38,
          39,
          40,
          41,
          42,
          43,
          44,
          45,
          46,
          47,
          48,
          49,
          50,
          51,
          52,
          53,
          54,
          55,
          56,
          57,
          58,
          59,
          60,
          61,
          62,
          63,
          64,
          65,
          66,
          67,
          68,
          69,
          70,
          71,
          72,
          73,
          74,
          75,
          76,
          77,
          78,
          79,
          80,
          81,
          82,
          83,
          84,
          85,
          86,
          87,
          88,
          89,
          90,
          91,
          92,
          93,
          94,
          95,
          96,
          97,
          98,
          99
         ],
         "y": [
          1.160825800152867,
          0.49616468992605606,
          0.07383583694545158,
          0.2327336021717852,
          -0.5017316173158699,
          0.8035594113553268,
          -0.28453246467477783,
          -0.915122676714964,
          -1.0386383838201863,
          -1.9952568867431326,
          0.09036591505575159,
          1.155948073431354,
          -0.42889040391045663,
          -1.2389704786006113,
          0.48118016142863945,
          1.0226046516596001,
          0.7398795059007436,
          0.37427404601920805,
          -1.7494103233808207,
          -0.9193506297259831,
          0.8887150557163451,
          0.9103962137297099,
          0.8947662724723978,
          0.06129563149484737,
          0.12002325193346794,
          -0.676796697112064,
          0.06093394366571922,
          -0.5640148151417872,
          0.81707423120743,
          0.6769766088966667,
          1.0441711359096393,
          0.8152504059983663,
          -0.39786853228590585,
          0.6599657173835193,
          0.5442907815797696,
          -0.2911291866765822,
          0.25500617713030627,
          -0.8331171412221349,
          -0.8620206840215854,
          0.04307721553350601,
          -1.215724201505668,
          0.12782065868375267,
          -2.145446215905343,
          -1.2319037363163725,
          -0.45930560794346414,
          -0.21250766872033242,
          -0.39804764478120985,
          -1.007422616587833,
          -0.9847119868129514,
          0.561732278632458,
          -1.14933123553313,
          1.6418957813050432,
          -1.2876584947792657,
          -0.03539282053918007,
          1.362381345433245,
          -0.6291386847202808,
          1.898930581889669,
          -0.6149912505025651,
          2.3034710611983304,
          -0.21226266974932004,
          -0.44847316876586585,
          -0.85303319669474,
          0.39684829882784267,
          -0.39090798457724035,
          1.3631512954306748,
          0.38249503712678984,
          -0.7742515439820427,
          -1.203847854965608,
          1.0115904667778681,
          0.3616426794426263,
          1.4846748175633453,
          0.9654302865010991,
          1.4562869848628681,
          -0.8177914063638103,
          -0.2730370368057006,
          0.6358807484449549,
          -0.7820612964596657,
          0.29823457797888253,
          0.39283832766839666,
          0.5285082098876401,
          1.3226836756728508,
          1.6636775870661122,
          0.5170672228134581,
          0.824798069948975,
          -0.46265991994032685,
          -0.10433027741652127,
          0.2690776010702887,
          1.3276291696627414,
          1.4619005839703703,
          0.06670553461973262,
          1.2367949690978866,
          -1.6728464542712906,
          0.41956646947819315,
          1.0213475908554128,
          1.4010211872247769,
          0.7057004386030941,
          -0.8740541643155307,
          -0.08067153622956262,
          -0.8096141021027465,
          1.2860139723173836
         ]
        },
        {
         "line": {
          "color": "rgba(50, 171, 96, 1.0)",
          "dash": "solid",
          "shape": "linear",
          "width": 1.3
         },
         "mode": "lines",
         "name": "C",
         "text": "",
         "type": "scatter",
         "x": [
          0,
          1,
          2,
          3,
          4,
          5,
          6,
          7,
          8,
          9,
          10,
          11,
          12,
          13,
          14,
          15,
          16,
          17,
          18,
          19,
          20,
          21,
          22,
          23,
          24,
          25,
          26,
          27,
          28,
          29,
          30,
          31,
          32,
          33,
          34,
          35,
          36,
          37,
          38,
          39,
          40,
          41,
          42,
          43,
          44,
          45,
          46,
          47,
          48,
          49,
          50,
          51,
          52,
          53,
          54,
          55,
          56,
          57,
          58,
          59,
          60,
          61,
          62,
          63,
          64,
          65,
          66,
          67,
          68,
          69,
          70,
          71,
          72,
          73,
          74,
          75,
          76,
          77,
          78,
          79,
          80,
          81,
          82,
          83,
          84,
          85,
          86,
          87,
          88,
          89,
          90,
          91,
          92,
          93,
          94,
          95,
          96,
          97,
          98,
          99
         ],
         "y": [
          0.7400092392048068,
          -1.1612554650452065,
          -0.5122338887002665,
          0.8664771985598588,
          -0.34548987492232175,
          0.2781330104706034,
          0.8133129773606471,
          -0.07383128492210222,
          1.4992427452539066,
          -0.06427788658450528,
          0.9777437473437132,
          -1.0844097691216843,
          0.23691969667423549,
          0.6833580638519037,
          0.19854397914558808,
          1.2940032044175587,
          0.2938313960897921,
          -0.621691820858234,
          0.08475790559030699,
          -1.7256365238552824,
          0.7582412110970774,
          1.16644966761969,
          -0.13341758137524054,
          0.04093263652620348,
          0.18320697536407995,
          -0.32092372624067766,
          -0.9192767520476932,
          -0.009211021059547185,
          -0.019857457962381128,
          -0.3142022108888279,
          -0.6172132723525531,
          0.8960160304349492,
          0.7374330001967216,
          0.906649950526819,
          0.8261888595835849,
          0.8445809292425774,
          1.3616427427782307,
          -0.15250750568368196,
          0.10902639094972436,
          0.5281841463998894,
          -0.4749394513444946,
          0.7480762907916783,
          0.3388929235148995,
          -0.7310818991049979,
          0.02719614578997186,
          1.512962862350225,
          0.8035101292065836,
          -0.947393115998121,
          -0.02386938793565377,
          0.7320630015882023,
          1.4345212541566092,
          -0.09064584842119253,
          -0.252148147107145,
          -2.356165508371674,
          0.25763522548097273,
          1.8281771377382254,
          -0.04061189261196941,
          0.5765668729102671,
          -0.01960280456707083,
          1.1734496029900723,
          0.4150946237924706,
          -0.8742687679848868,
          -0.07335204432201242,
          -0.40438225261440797,
          -0.576332073034859,
          1.1146425638994812,
          -0.06873767949536136,
          -0.8595298987909357,
          -0.2464788836352362,
          -1.5408801744628844,
          -0.13284260964214661,
          0.41487455770150555,
          -0.11612837078371765,
          -0.485629058051464,
          0.31925770344676224,
          0.023159140123406755,
          0.9892737551707963,
          0.8448141680578326,
          -2.1502154363339514,
          -0.007235596504881794,
          0.2796531586390798,
          -0.3753414952199077,
          1.5123786861608832,
          -0.13171039496410855,
          0.14632688412280515,
          0.18796700882737305,
          0.31534514387362794,
          1.2218028635289813,
          -0.32024933567295366,
          0.2020833843113226,
          -1.5360472839414374,
          -0.8097024781571458,
          -0.61191498185867,
          -0.5094569134267607,
          -2.5249347881889856,
          -0.5105863402376877,
          1.5150611952696704,
          -0.7388111051732456,
          -0.45003373940694963,
          1.337901303183027
         ]
        },
        {
         "line": {
          "color": "rgba(128, 0, 128, 1.0)",
          "dash": "solid",
          "shape": "linear",
          "width": 1.3
         },
         "mode": "lines",
         "name": "D",
         "text": "",
         "type": "scatter",
         "x": [
          0,
          1,
          2,
          3,
          4,
          5,
          6,
          7,
          8,
          9,
          10,
          11,
          12,
          13,
          14,
          15,
          16,
          17,
          18,
          19,
          20,
          21,
          22,
          23,
          24,
          25,
          26,
          27,
          28,
          29,
          30,
          31,
          32,
          33,
          34,
          35,
          36,
          37,
          38,
          39,
          40,
          41,
          42,
          43,
          44,
          45,
          46,
          47,
          48,
          49,
          50,
          51,
          52,
          53,
          54,
          55,
          56,
          57,
          58,
          59,
          60,
          61,
          62,
          63,
          64,
          65,
          66,
          67,
          68,
          69,
          70,
          71,
          72,
          73,
          74,
          75,
          76,
          77,
          78,
          79,
          80,
          81,
          82,
          83,
          84,
          85,
          86,
          87,
          88,
          89,
          90,
          91,
          92,
          93,
          94,
          95,
          96,
          97,
          98,
          99
         ],
         "y": [
          -0.9068405688078486,
          0.11621097171247942,
          0.26448478101457584,
          -0.5440854440489594,
          0.5531515272952051,
          0.8234042785049313,
          -0.22906001896152353,
          -0.16995879751638207,
          0.6802184174681418,
          0.4445235048806215,
          0.6941279000595636,
          2.1747144867557284,
          1.0223991406942747,
          0.8368416708590749,
          0.184720174470893,
          0.19552655776599848,
          1.6264800319723853,
          1.318082762218274,
          -1.1640119153017372,
          1.2758601739228614,
          -1.6418670804553157,
          -0.4171095950902611,
          -0.3969242583499874,
          0.501527724050001,
          -1.074606222181749,
          -2.223424663893433,
          0.6716990615797975,
          0.14796640692409763,
          0.6948660217218141,
          -1.8580010868790662,
          -0.00526893887691044,
          -0.6836722995929522,
          0.16612742230538627,
          -0.11821349276729069,
          -0.92117968291553,
          0.29188265668117613,
          0.34960878144601626,
          -0.06270629467800636,
          -0.4038456358871288,
          0.2648605591171205,
          0.061168616234663235,
          1.024178167604516,
          -2.3389668344520116,
          -0.2824909310511887,
          -0.4229235811543551,
          0.05631613133747578,
          -1.0376629367534844,
          -1.0508408409413266,
          -0.651137516259835,
          -0.6603619267138788,
          0.6919249312578343,
          -0.3620145382845533,
          -0.3034438985204652,
          0.4506109621289893,
          0.19784991813168556,
          0.4486839596077117,
          -0.6541847283551394,
          1.1707625473024965,
          0.13268391400985902,
          -0.7435191432300351,
          -0.7293681641791371,
          -0.018877098021782796,
          -1.4524593337407599,
          0.1267230001259561,
          -0.7125292116463977,
          -1.223740915429738,
          1.7028564850815053,
          -0.025254987372562845,
          0.14252619879882147,
          -1.424391582709415,
          -0.1305437297684222,
          -1.114889983872903,
          0.8818507740128105,
          1.7383740083404464,
          0.26964871270546237,
          -1.1071106984364947,
          1.0031650408456287,
          -0.9530919999597487,
          -1.5771064309978597,
          -1.548931175254627,
          1.1505022138477403,
          -0.7345193249486318,
          1.8285714520083187,
          0.8272062189740068,
          0.8279518009515064,
          0.3568071184223297,
          -0.3306248498338502,
          0.4467509629034824,
          1.6445920281443878,
          -0.9967417532997104,
          -1.0556863288562042,
          0.35588131793485744,
          -1.1358190099883094,
          0.4211429293134869,
          0.15585056701122604,
          1.8748160736152852,
          2.344329847624523,
          -0.05539633385281114,
          2.0885407026049565,
          -1.1947913568464845
         ]
        }
       ],
       "layout": {
        "legend": {
         "bgcolor": "#F5F6F9",
         "font": {
          "color": "#4D5663"
         }
        },
        "paper_bgcolor": "#F5F6F9",
        "plot_bgcolor": "#F5F6F9",
        "template": {
         "data": {
          "bar": [
           {
            "error_x": {
             "color": "#2a3f5f"
            },
            "error_y": {
             "color": "#2a3f5f"
            },
            "marker": {
             "line": {
              "color": "#E5ECF6",
              "width": 0.5
             },
             "pattern": {
              "fillmode": "overlay",
              "size": 10,
              "solidity": 0.2
             }
            },
            "type": "bar"
           }
          ],
          "barpolar": [
           {
            "marker": {
             "line": {
              "color": "#E5ECF6",
              "width": 0.5
             },
             "pattern": {
              "fillmode": "overlay",
              "size": 10,
              "solidity": 0.2
             }
            },
            "type": "barpolar"
           }
          ],
          "carpet": [
           {
            "aaxis": {
             "endlinecolor": "#2a3f5f",
             "gridcolor": "white",
             "linecolor": "white",
             "minorgridcolor": "white",
             "startlinecolor": "#2a3f5f"
            },
            "baxis": {
             "endlinecolor": "#2a3f5f",
             "gridcolor": "white",
             "linecolor": "white",
             "minorgridcolor": "white",
             "startlinecolor": "#2a3f5f"
            },
            "type": "carpet"
           }
          ],
          "choropleth": [
           {
            "colorbar": {
             "outlinewidth": 0,
             "ticks": ""
            },
            "type": "choropleth"
           }
          ],
          "contour": [
           {
            "colorbar": {
             "outlinewidth": 0,
             "ticks": ""
            },
            "colorscale": [
             [
              0,
              "#0d0887"
             ],
             [
              0.1111111111111111,
              "#46039f"
             ],
             [
              0.2222222222222222,
              "#7201a8"
             ],
             [
              0.3333333333333333,
              "#9c179e"
             ],
             [
              0.4444444444444444,
              "#bd3786"
             ],
             [
              0.5555555555555556,
              "#d8576b"
             ],
             [
              0.6666666666666666,
              "#ed7953"
             ],
             [
              0.7777777777777778,
              "#fb9f3a"
             ],
             [
              0.8888888888888888,
              "#fdca26"
             ],
             [
              1,
              "#f0f921"
             ]
            ],
            "type": "contour"
           }
          ],
          "contourcarpet": [
           {
            "colorbar": {
             "outlinewidth": 0,
             "ticks": ""
            },
            "type": "contourcarpet"
           }
          ],
          "heatmap": [
           {
            "colorbar": {
             "outlinewidth": 0,
             "ticks": ""
            },
            "colorscale": [
             [
              0,
              "#0d0887"
             ],
             [
              0.1111111111111111,
              "#46039f"
             ],
             [
              0.2222222222222222,
              "#7201a8"
             ],
             [
              0.3333333333333333,
              "#9c179e"
             ],
             [
              0.4444444444444444,
              "#bd3786"
             ],
             [
              0.5555555555555556,
              "#d8576b"
             ],
             [
              0.6666666666666666,
              "#ed7953"
             ],
             [
              0.7777777777777778,
              "#fb9f3a"
             ],
             [
              0.8888888888888888,
              "#fdca26"
             ],
             [
              1,
              "#f0f921"
             ]
            ],
            "type": "heatmap"
           }
          ],
          "heatmapgl": [
           {
            "colorbar": {
             "outlinewidth": 0,
             "ticks": ""
            },
            "colorscale": [
             [
              0,
              "#0d0887"
             ],
             [
              0.1111111111111111,
              "#46039f"
             ],
             [
              0.2222222222222222,
              "#7201a8"
             ],
             [
              0.3333333333333333,
              "#9c179e"
             ],
             [
              0.4444444444444444,
              "#bd3786"
             ],
             [
              0.5555555555555556,
              "#d8576b"
             ],
             [
              0.6666666666666666,
              "#ed7953"
             ],
             [
              0.7777777777777778,
              "#fb9f3a"
             ],
             [
              0.8888888888888888,
              "#fdca26"
             ],
             [
              1,
              "#f0f921"
             ]
            ],
            "type": "heatmapgl"
           }
          ],
          "histogram": [
           {
            "marker": {
             "pattern": {
              "fillmode": "overlay",
              "size": 10,
              "solidity": 0.2
             }
            },
            "type": "histogram"
           }
          ],
          "histogram2d": [
           {
            "colorbar": {
             "outlinewidth": 0,
             "ticks": ""
            },
            "colorscale": [
             [
              0,
              "#0d0887"
             ],
             [
              0.1111111111111111,
              "#46039f"
             ],
             [
              0.2222222222222222,
              "#7201a8"
             ],
             [
              0.3333333333333333,
              "#9c179e"
             ],
             [
              0.4444444444444444,
              "#bd3786"
             ],
             [
              0.5555555555555556,
              "#d8576b"
             ],
             [
              0.6666666666666666,
              "#ed7953"
             ],
             [
              0.7777777777777778,
              "#fb9f3a"
             ],
             [
              0.8888888888888888,
              "#fdca26"
             ],
             [
              1,
              "#f0f921"
             ]
            ],
            "type": "histogram2d"
           }
          ],
          "histogram2dcontour": [
           {
            "colorbar": {
             "outlinewidth": 0,
             "ticks": ""
            },
            "colorscale": [
             [
              0,
              "#0d0887"
             ],
             [
              0.1111111111111111,
              "#46039f"
             ],
             [
              0.2222222222222222,
              "#7201a8"
             ],
             [
              0.3333333333333333,
              "#9c179e"
             ],
             [
              0.4444444444444444,
              "#bd3786"
             ],
             [
              0.5555555555555556,
              "#d8576b"
             ],
             [
              0.6666666666666666,
              "#ed7953"
             ],
             [
              0.7777777777777778,
              "#fb9f3a"
             ],
             [
              0.8888888888888888,
              "#fdca26"
             ],
             [
              1,
              "#f0f921"
             ]
            ],
            "type": "histogram2dcontour"
           }
          ],
          "mesh3d": [
           {
            "colorbar": {
             "outlinewidth": 0,
             "ticks": ""
            },
            "type": "mesh3d"
           }
          ],
          "parcoords": [
           {
            "line": {
             "colorbar": {
              "outlinewidth": 0,
              "ticks": ""
             }
            },
            "type": "parcoords"
           }
          ],
          "pie": [
           {
            "automargin": true,
            "type": "pie"
           }
          ],
          "scatter": [
           {
            "marker": {
             "colorbar": {
              "outlinewidth": 0,
              "ticks": ""
             }
            },
            "type": "scatter"
           }
          ],
          "scatter3d": [
           {
            "line": {
             "colorbar": {
              "outlinewidth": 0,
              "ticks": ""
             }
            },
            "marker": {
             "colorbar": {
              "outlinewidth": 0,
              "ticks": ""
             }
            },
            "type": "scatter3d"
           }
          ],
          "scattercarpet": [
           {
            "marker": {
             "colorbar": {
              "outlinewidth": 0,
              "ticks": ""
             }
            },
            "type": "scattercarpet"
           }
          ],
          "scattergeo": [
           {
            "marker": {
             "colorbar": {
              "outlinewidth": 0,
              "ticks": ""
             }
            },
            "type": "scattergeo"
           }
          ],
          "scattergl": [
           {
            "marker": {
             "colorbar": {
              "outlinewidth": 0,
              "ticks": ""
             }
            },
            "type": "scattergl"
           }
          ],
          "scattermapbox": [
           {
            "marker": {
             "colorbar": {
              "outlinewidth": 0,
              "ticks": ""
             }
            },
            "type": "scattermapbox"
           }
          ],
          "scatterpolar": [
           {
            "marker": {
             "colorbar": {
              "outlinewidth": 0,
              "ticks": ""
             }
            },
            "type": "scatterpolar"
           }
          ],
          "scatterpolargl": [
           {
            "marker": {
             "colorbar": {
              "outlinewidth": 0,
              "ticks": ""
             }
            },
            "type": "scatterpolargl"
           }
          ],
          "scatterternary": [
           {
            "marker": {
             "colorbar": {
              "outlinewidth": 0,
              "ticks": ""
             }
            },
            "type": "scatterternary"
           }
          ],
          "surface": [
           {
            "colorbar": {
             "outlinewidth": 0,
             "ticks": ""
            },
            "colorscale": [
             [
              0,
              "#0d0887"
             ],
             [
              0.1111111111111111,
              "#46039f"
             ],
             [
              0.2222222222222222,
              "#7201a8"
             ],
             [
              0.3333333333333333,
              "#9c179e"
             ],
             [
              0.4444444444444444,
              "#bd3786"
             ],
             [
              0.5555555555555556,
              "#d8576b"
             ],
             [
              0.6666666666666666,
              "#ed7953"
             ],
             [
              0.7777777777777778,
              "#fb9f3a"
             ],
             [
              0.8888888888888888,
              "#fdca26"
             ],
             [
              1,
              "#f0f921"
             ]
            ],
            "type": "surface"
           }
          ],
          "table": [
           {
            "cells": {
             "fill": {
              "color": "#EBF0F8"
             },
             "line": {
              "color": "white"
             }
            },
            "header": {
             "fill": {
              "color": "#C8D4E3"
             },
             "line": {
              "color": "white"
             }
            },
            "type": "table"
           }
          ]
         },
         "layout": {
          "annotationdefaults": {
           "arrowcolor": "#2a3f5f",
           "arrowhead": 0,
           "arrowwidth": 1
          },
          "autotypenumbers": "strict",
          "coloraxis": {
           "colorbar": {
            "outlinewidth": 0,
            "ticks": ""
           }
          },
          "colorscale": {
           "diverging": [
            [
             0,
             "#8e0152"
            ],
            [
             0.1,
             "#c51b7d"
            ],
            [
             0.2,
             "#de77ae"
            ],
            [
             0.3,
             "#f1b6da"
            ],
            [
             0.4,
             "#fde0ef"
            ],
            [
             0.5,
             "#f7f7f7"
            ],
            [
             0.6,
             "#e6f5d0"
            ],
            [
             0.7,
             "#b8e186"
            ],
            [
             0.8,
             "#7fbc41"
            ],
            [
             0.9,
             "#4d9221"
            ],
            [
             1,
             "#276419"
            ]
           ],
           "sequential": [
            [
             0,
             "#0d0887"
            ],
            [
             0.1111111111111111,
             "#46039f"
            ],
            [
             0.2222222222222222,
             "#7201a8"
            ],
            [
             0.3333333333333333,
             "#9c179e"
            ],
            [
             0.4444444444444444,
             "#bd3786"
            ],
            [
             0.5555555555555556,
             "#d8576b"
            ],
            [
             0.6666666666666666,
             "#ed7953"
            ],
            [
             0.7777777777777778,
             "#fb9f3a"
            ],
            [
             0.8888888888888888,
             "#fdca26"
            ],
            [
             1,
             "#f0f921"
            ]
           ],
           "sequentialminus": [
            [
             0,
             "#0d0887"
            ],
            [
             0.1111111111111111,
             "#46039f"
            ],
            [
             0.2222222222222222,
             "#7201a8"
            ],
            [
             0.3333333333333333,
             "#9c179e"
            ],
            [
             0.4444444444444444,
             "#bd3786"
            ],
            [
             0.5555555555555556,
             "#d8576b"
            ],
            [
             0.6666666666666666,
             "#ed7953"
            ],
            [
             0.7777777777777778,
             "#fb9f3a"
            ],
            [
             0.8888888888888888,
             "#fdca26"
            ],
            [
             1,
             "#f0f921"
            ]
           ]
          },
          "colorway": [
           "#636efa",
           "#EF553B",
           "#00cc96",
           "#ab63fa",
           "#FFA15A",
           "#19d3f3",
           "#FF6692",
           "#B6E880",
           "#FF97FF",
           "#FECB52"
          ],
          "font": {
           "color": "#2a3f5f"
          },
          "geo": {
           "bgcolor": "white",
           "lakecolor": "white",
           "landcolor": "#E5ECF6",
           "showlakes": true,
           "showland": true,
           "subunitcolor": "white"
          },
          "hoverlabel": {
           "align": "left"
          },
          "hovermode": "closest",
          "mapbox": {
           "style": "light"
          },
          "paper_bgcolor": "white",
          "plot_bgcolor": "#E5ECF6",
          "polar": {
           "angularaxis": {
            "gridcolor": "white",
            "linecolor": "white",
            "ticks": ""
           },
           "bgcolor": "#E5ECF6",
           "radialaxis": {
            "gridcolor": "white",
            "linecolor": "white",
            "ticks": ""
           }
          },
          "scene": {
           "xaxis": {
            "backgroundcolor": "#E5ECF6",
            "gridcolor": "white",
            "gridwidth": 2,
            "linecolor": "white",
            "showbackground": true,
            "ticks": "",
            "zerolinecolor": "white"
           },
           "yaxis": {
            "backgroundcolor": "#E5ECF6",
            "gridcolor": "white",
            "gridwidth": 2,
            "linecolor": "white",
            "showbackground": true,
            "ticks": "",
            "zerolinecolor": "white"
           },
           "zaxis": {
            "backgroundcolor": "#E5ECF6",
            "gridcolor": "white",
            "gridwidth": 2,
            "linecolor": "white",
            "showbackground": true,
            "ticks": "",
            "zerolinecolor": "white"
           }
          },
          "shapedefaults": {
           "line": {
            "color": "#2a3f5f"
           }
          },
          "ternary": {
           "aaxis": {
            "gridcolor": "white",
            "linecolor": "white",
            "ticks": ""
           },
           "baxis": {
            "gridcolor": "white",
            "linecolor": "white",
            "ticks": ""
           },
           "bgcolor": "#E5ECF6",
           "caxis": {
            "gridcolor": "white",
            "linecolor": "white",
            "ticks": ""
           }
          },
          "title": {
           "x": 0.05
          },
          "xaxis": {
           "automargin": true,
           "gridcolor": "white",
           "linecolor": "white",
           "ticks": "",
           "title": {
            "standoff": 15
           },
           "zerolinecolor": "white",
           "zerolinewidth": 2
          },
          "yaxis": {
           "automargin": true,
           "gridcolor": "white",
           "linecolor": "white",
           "ticks": "",
           "title": {
            "standoff": 15
           },
           "zerolinecolor": "white",
           "zerolinewidth": 2
          }
         }
        },
        "title": {
         "font": {
          "color": "#4D5663"
         }
        },
        "xaxis": {
         "gridcolor": "#E1E5ED",
         "showgrid": true,
         "tickfont": {
          "color": "#4D5663"
         },
         "title": {
          "font": {
           "color": "#4D5663"
          },
          "text": ""
         },
         "zerolinecolor": "#E1E5ED"
        },
        "yaxis": {
         "gridcolor": "#E1E5ED",
         "showgrid": true,
         "tickfont": {
          "color": "#4D5663"
         },
         "title": {
          "font": {
           "color": "#4D5663"
          },
          "text": ""
         },
         "zerolinecolor": "#E1E5ED"
        }
       }
      },
      "text/html": [
       "<div>                            <div id=\"ae321a05-2b8a-40a0-9e0b-ad95ef29e7e8\" class=\"plotly-graph-div\" style=\"height:525px; width:100%;\"></div>            <script type=\"text/javascript\">                require([\"plotly\"], function(Plotly) {                    window.PLOTLYENV=window.PLOTLYENV || {};\n",
       "                    window.PLOTLYENV.BASE_URL='https://plotly.com';                                    if (document.getElementById(\"ae321a05-2b8a-40a0-9e0b-ad95ef29e7e8\")) {                    Plotly.newPlot(                        \"ae321a05-2b8a-40a0-9e0b-ad95ef29e7e8\",                        [{\"line\":{\"color\":\"rgba(255, 153, 51, 1.0)\",\"dash\":\"solid\",\"shape\":\"linear\",\"width\":1.3},\"mode\":\"lines\",\"name\":\"A\",\"text\":\"\",\"x\":[0,1,2,3,4,5,6,7,8,9,10,11,12,13,14,15,16,17,18,19,20,21,22,23,24,25,26,27,28,29,30,31,32,33,34,35,36,37,38,39,40,41,42,43,44,45,46,47,48,49,50,51,52,53,54,55,56,57,58,59,60,61,62,63,64,65,66,67,68,69,70,71,72,73,74,75,76,77,78,79,80,81,82,83,84,85,86,87,88,89,90,91,92,93,94,95,96,97,98,99],\"y\":[0.2540205165143539,0.21018287468404354,-1.417366523418028,1.4355964054891057,0.6438156084526279,-0.48992682332332516,2.089603407589297,-0.24037244272897193,0.22741612429678598,-0.43388743074207914,-0.17474693590151122,-0.3378269321122739,-0.2872816214010255,0.09021167266536759,1.9916614315099455,-0.9203501904153832,1.9932576734555514,1.190820979890536,0.7591670480729559,-0.9322613470150776,-0.04972199823331805,1.2685856210555648,1.5879259973556699,-0.567128573474692,-2.1942346439385063,-0.4559241878544287,1.0321820388276353,-1.2718987011182359,-1.2386551206807364,-2.194211747720904,-0.5258492859793686,-0.6653282837542511,-1.3988028138784063,-0.07260478095047099,-0.28642094085208936,-0.11457773635910108,-0.1095433105850815,0.9750875884483519,0.8374465307982316,-0.739274852671829,0.3157117587684143,-0.1715446808230524,-1.941469789403776,-0.8593008608200065,1.0567482570657265,-1.9320398455863936,0.2594822932774328,-0.39301308706656246,0.4491389194589242,-0.5943834464300685,-1.6205742737788318,0.6117521209297304,-1.276327824115349,0.4086695638455752,0.24793326266283466,-0.4612398992086352,1.472207033963178,-1.8432937178256399,0.331853571779341,-0.14425338478943614,-0.05413105300153619,2.319362187084283,0.7674645302272454,0.6023945964221519,0.09769810203503486,1.4595133621459795,0.5577801094920947,-0.8161165385921015,-0.20283106200073736,1.0814223714895106,-0.9390927760332309,-0.7014055677825115,-0.26483222934057704,0.2563524393956336,1.066269844507545,0.8834240698541156,-0.7106341632582636,-0.4401823764634333,0.9603374413953691,-0.04706661324449886,-0.32082510121876906,0.22690521984675313,0.5580555659912436,-0.097048566746413,1.7196848303305123,0.1334024173581546,-1.3154871382832112,-0.9863034014659603,-1.0446233980609223,2.755130001029382,-0.19396822225672392,-1.0333488219739275,0.37272339170574764,1.0054492152613619,1.266420601741147,-2.1026940491604966,0.5587347491572473,-1.26564189608967,1.2365667571795178,0.4093624285717989],\"type\":\"scatter\"},{\"line\":{\"color\":\"rgba(55, 128, 191, 1.0)\",\"dash\":\"solid\",\"shape\":\"linear\",\"width\":1.3},\"mode\":\"lines\",\"name\":\"B\",\"text\":\"\",\"x\":[0,1,2,3,4,5,6,7,8,9,10,11,12,13,14,15,16,17,18,19,20,21,22,23,24,25,26,27,28,29,30,31,32,33,34,35,36,37,38,39,40,41,42,43,44,45,46,47,48,49,50,51,52,53,54,55,56,57,58,59,60,61,62,63,64,65,66,67,68,69,70,71,72,73,74,75,76,77,78,79,80,81,82,83,84,85,86,87,88,89,90,91,92,93,94,95,96,97,98,99],\"y\":[1.160825800152867,0.49616468992605606,0.07383583694545158,0.2327336021717852,-0.5017316173158699,0.8035594113553268,-0.28453246467477783,-0.915122676714964,-1.0386383838201863,-1.9952568867431326,0.09036591505575159,1.155948073431354,-0.42889040391045663,-1.2389704786006113,0.48118016142863945,1.0226046516596001,0.7398795059007436,0.37427404601920805,-1.7494103233808207,-0.9193506297259831,0.8887150557163451,0.9103962137297099,0.8947662724723978,0.06129563149484737,0.12002325193346794,-0.676796697112064,0.06093394366571922,-0.5640148151417872,0.81707423120743,0.6769766088966667,1.0441711359096393,0.8152504059983663,-0.39786853228590585,0.6599657173835193,0.5442907815797696,-0.2911291866765822,0.25500617713030627,-0.8331171412221349,-0.8620206840215854,0.04307721553350601,-1.215724201505668,0.12782065868375267,-2.145446215905343,-1.2319037363163725,-0.45930560794346414,-0.21250766872033242,-0.39804764478120985,-1.007422616587833,-0.9847119868129514,0.561732278632458,-1.14933123553313,1.6418957813050432,-1.2876584947792657,-0.03539282053918007,1.362381345433245,-0.6291386847202808,1.898930581889669,-0.6149912505025651,2.3034710611983304,-0.21226266974932004,-0.44847316876586585,-0.85303319669474,0.39684829882784267,-0.39090798457724035,1.3631512954306748,0.38249503712678984,-0.7742515439820427,-1.203847854965608,1.0115904667778681,0.3616426794426263,1.4846748175633453,0.9654302865010991,1.4562869848628681,-0.8177914063638103,-0.2730370368057006,0.6358807484449549,-0.7820612964596657,0.29823457797888253,0.39283832766839666,0.5285082098876401,1.3226836756728508,1.6636775870661122,0.5170672228134581,0.824798069948975,-0.46265991994032685,-0.10433027741652127,0.2690776010702887,1.3276291696627414,1.4619005839703703,0.06670553461973262,1.2367949690978866,-1.6728464542712906,0.41956646947819315,1.0213475908554128,1.4010211872247769,0.7057004386030941,-0.8740541643155307,-0.08067153622956262,-0.8096141021027465,1.2860139723173836],\"type\":\"scatter\"},{\"line\":{\"color\":\"rgba(50, 171, 96, 1.0)\",\"dash\":\"solid\",\"shape\":\"linear\",\"width\":1.3},\"mode\":\"lines\",\"name\":\"C\",\"text\":\"\",\"x\":[0,1,2,3,4,5,6,7,8,9,10,11,12,13,14,15,16,17,18,19,20,21,22,23,24,25,26,27,28,29,30,31,32,33,34,35,36,37,38,39,40,41,42,43,44,45,46,47,48,49,50,51,52,53,54,55,56,57,58,59,60,61,62,63,64,65,66,67,68,69,70,71,72,73,74,75,76,77,78,79,80,81,82,83,84,85,86,87,88,89,90,91,92,93,94,95,96,97,98,99],\"y\":[0.7400092392048068,-1.1612554650452065,-0.5122338887002665,0.8664771985598588,-0.34548987492232175,0.2781330104706034,0.8133129773606471,-0.07383128492210222,1.4992427452539066,-0.06427788658450528,0.9777437473437132,-1.0844097691216843,0.23691969667423549,0.6833580638519037,0.19854397914558808,1.2940032044175587,0.2938313960897921,-0.621691820858234,0.08475790559030699,-1.7256365238552824,0.7582412110970774,1.16644966761969,-0.13341758137524054,0.04093263652620348,0.18320697536407995,-0.32092372624067766,-0.9192767520476932,-0.009211021059547185,-0.019857457962381128,-0.3142022108888279,-0.6172132723525531,0.8960160304349492,0.7374330001967216,0.906649950526819,0.8261888595835849,0.8445809292425774,1.3616427427782307,-0.15250750568368196,0.10902639094972436,0.5281841463998894,-0.4749394513444946,0.7480762907916783,0.3388929235148995,-0.7310818991049979,0.02719614578997186,1.512962862350225,0.8035101292065836,-0.947393115998121,-0.02386938793565377,0.7320630015882023,1.4345212541566092,-0.09064584842119253,-0.252148147107145,-2.356165508371674,0.25763522548097273,1.8281771377382254,-0.04061189261196941,0.5765668729102671,-0.01960280456707083,1.1734496029900723,0.4150946237924706,-0.8742687679848868,-0.07335204432201242,-0.40438225261440797,-0.576332073034859,1.1146425638994812,-0.06873767949536136,-0.8595298987909357,-0.2464788836352362,-1.5408801744628844,-0.13284260964214661,0.41487455770150555,-0.11612837078371765,-0.485629058051464,0.31925770344676224,0.023159140123406755,0.9892737551707963,0.8448141680578326,-2.1502154363339514,-0.007235596504881794,0.2796531586390798,-0.3753414952199077,1.5123786861608832,-0.13171039496410855,0.14632688412280515,0.18796700882737305,0.31534514387362794,1.2218028635289813,-0.32024933567295366,0.2020833843113226,-1.5360472839414374,-0.8097024781571458,-0.61191498185867,-0.5094569134267607,-2.5249347881889856,-0.5105863402376877,1.5150611952696704,-0.7388111051732456,-0.45003373940694963,1.337901303183027],\"type\":\"scatter\"},{\"line\":{\"color\":\"rgba(128, 0, 128, 1.0)\",\"dash\":\"solid\",\"shape\":\"linear\",\"width\":1.3},\"mode\":\"lines\",\"name\":\"D\",\"text\":\"\",\"x\":[0,1,2,3,4,5,6,7,8,9,10,11,12,13,14,15,16,17,18,19,20,21,22,23,24,25,26,27,28,29,30,31,32,33,34,35,36,37,38,39,40,41,42,43,44,45,46,47,48,49,50,51,52,53,54,55,56,57,58,59,60,61,62,63,64,65,66,67,68,69,70,71,72,73,74,75,76,77,78,79,80,81,82,83,84,85,86,87,88,89,90,91,92,93,94,95,96,97,98,99],\"y\":[-0.9068405688078486,0.11621097171247942,0.26448478101457584,-0.5440854440489594,0.5531515272952051,0.8234042785049313,-0.22906001896152353,-0.16995879751638207,0.6802184174681418,0.4445235048806215,0.6941279000595636,2.1747144867557284,1.0223991406942747,0.8368416708590749,0.184720174470893,0.19552655776599848,1.6264800319723853,1.318082762218274,-1.1640119153017372,1.2758601739228614,-1.6418670804553157,-0.4171095950902611,-0.3969242583499874,0.501527724050001,-1.074606222181749,-2.223424663893433,0.6716990615797975,0.14796640692409763,0.6948660217218141,-1.8580010868790662,-0.00526893887691044,-0.6836722995929522,0.16612742230538627,-0.11821349276729069,-0.92117968291553,0.29188265668117613,0.34960878144601626,-0.06270629467800636,-0.4038456358871288,0.2648605591171205,0.061168616234663235,1.024178167604516,-2.3389668344520116,-0.2824909310511887,-0.4229235811543551,0.05631613133747578,-1.0376629367534844,-1.0508408409413266,-0.651137516259835,-0.6603619267138788,0.6919249312578343,-0.3620145382845533,-0.3034438985204652,0.4506109621289893,0.19784991813168556,0.4486839596077117,-0.6541847283551394,1.1707625473024965,0.13268391400985902,-0.7435191432300351,-0.7293681641791371,-0.018877098021782796,-1.4524593337407599,0.1267230001259561,-0.7125292116463977,-1.223740915429738,1.7028564850815053,-0.025254987372562845,0.14252619879882147,-1.424391582709415,-0.1305437297684222,-1.114889983872903,0.8818507740128105,1.7383740083404464,0.26964871270546237,-1.1071106984364947,1.0031650408456287,-0.9530919999597487,-1.5771064309978597,-1.548931175254627,1.1505022138477403,-0.7345193249486318,1.8285714520083187,0.8272062189740068,0.8279518009515064,0.3568071184223297,-0.3306248498338502,0.4467509629034824,1.6445920281443878,-0.9967417532997104,-1.0556863288562042,0.35588131793485744,-1.1358190099883094,0.4211429293134869,0.15585056701122604,1.8748160736152852,2.344329847624523,-0.05539633385281114,2.0885407026049565,-1.1947913568464845],\"type\":\"scatter\"}],                        {\"legend\":{\"bgcolor\":\"#F5F6F9\",\"font\":{\"color\":\"#4D5663\"}},\"paper_bgcolor\":\"#F5F6F9\",\"plot_bgcolor\":\"#F5F6F9\",\"template\":{\"data\":{\"barpolar\":[{\"marker\":{\"line\":{\"color\":\"#E5ECF6\",\"width\":0.5},\"pattern\":{\"fillmode\":\"overlay\",\"size\":10,\"solidity\":0.2}},\"type\":\"barpolar\"}],\"bar\":[{\"error_x\":{\"color\":\"#2a3f5f\"},\"error_y\":{\"color\":\"#2a3f5f\"},\"marker\":{\"line\":{\"color\":\"#E5ECF6\",\"width\":0.5},\"pattern\":{\"fillmode\":\"overlay\",\"size\":10,\"solidity\":0.2}},\"type\":\"bar\"}],\"carpet\":[{\"aaxis\":{\"endlinecolor\":\"#2a3f5f\",\"gridcolor\":\"white\",\"linecolor\":\"white\",\"minorgridcolor\":\"white\",\"startlinecolor\":\"#2a3f5f\"},\"baxis\":{\"endlinecolor\":\"#2a3f5f\",\"gridcolor\":\"white\",\"linecolor\":\"white\",\"minorgridcolor\":\"white\",\"startlinecolor\":\"#2a3f5f\"},\"type\":\"carpet\"}],\"choropleth\":[{\"colorbar\":{\"outlinewidth\":0,\"ticks\":\"\"},\"type\":\"choropleth\"}],\"contourcarpet\":[{\"colorbar\":{\"outlinewidth\":0,\"ticks\":\"\"},\"type\":\"contourcarpet\"}],\"contour\":[{\"colorbar\":{\"outlinewidth\":0,\"ticks\":\"\"},\"colorscale\":[[0.0,\"#0d0887\"],[0.1111111111111111,\"#46039f\"],[0.2222222222222222,\"#7201a8\"],[0.3333333333333333,\"#9c179e\"],[0.4444444444444444,\"#bd3786\"],[0.5555555555555556,\"#d8576b\"],[0.6666666666666666,\"#ed7953\"],[0.7777777777777778,\"#fb9f3a\"],[0.8888888888888888,\"#fdca26\"],[1.0,\"#f0f921\"]],\"type\":\"contour\"}],\"heatmapgl\":[{\"colorbar\":{\"outlinewidth\":0,\"ticks\":\"\"},\"colorscale\":[[0.0,\"#0d0887\"],[0.1111111111111111,\"#46039f\"],[0.2222222222222222,\"#7201a8\"],[0.3333333333333333,\"#9c179e\"],[0.4444444444444444,\"#bd3786\"],[0.5555555555555556,\"#d8576b\"],[0.6666666666666666,\"#ed7953\"],[0.7777777777777778,\"#fb9f3a\"],[0.8888888888888888,\"#fdca26\"],[1.0,\"#f0f921\"]],\"type\":\"heatmapgl\"}],\"heatmap\":[{\"colorbar\":{\"outlinewidth\":0,\"ticks\":\"\"},\"colorscale\":[[0.0,\"#0d0887\"],[0.1111111111111111,\"#46039f\"],[0.2222222222222222,\"#7201a8\"],[0.3333333333333333,\"#9c179e\"],[0.4444444444444444,\"#bd3786\"],[0.5555555555555556,\"#d8576b\"],[0.6666666666666666,\"#ed7953\"],[0.7777777777777778,\"#fb9f3a\"],[0.8888888888888888,\"#fdca26\"],[1.0,\"#f0f921\"]],\"type\":\"heatmap\"}],\"histogram2dcontour\":[{\"colorbar\":{\"outlinewidth\":0,\"ticks\":\"\"},\"colorscale\":[[0.0,\"#0d0887\"],[0.1111111111111111,\"#46039f\"],[0.2222222222222222,\"#7201a8\"],[0.3333333333333333,\"#9c179e\"],[0.4444444444444444,\"#bd3786\"],[0.5555555555555556,\"#d8576b\"],[0.6666666666666666,\"#ed7953\"],[0.7777777777777778,\"#fb9f3a\"],[0.8888888888888888,\"#fdca26\"],[1.0,\"#f0f921\"]],\"type\":\"histogram2dcontour\"}],\"histogram2d\":[{\"colorbar\":{\"outlinewidth\":0,\"ticks\":\"\"},\"colorscale\":[[0.0,\"#0d0887\"],[0.1111111111111111,\"#46039f\"],[0.2222222222222222,\"#7201a8\"],[0.3333333333333333,\"#9c179e\"],[0.4444444444444444,\"#bd3786\"],[0.5555555555555556,\"#d8576b\"],[0.6666666666666666,\"#ed7953\"],[0.7777777777777778,\"#fb9f3a\"],[0.8888888888888888,\"#fdca26\"],[1.0,\"#f0f921\"]],\"type\":\"histogram2d\"}],\"histogram\":[{\"marker\":{\"pattern\":{\"fillmode\":\"overlay\",\"size\":10,\"solidity\":0.2}},\"type\":\"histogram\"}],\"mesh3d\":[{\"colorbar\":{\"outlinewidth\":0,\"ticks\":\"\"},\"type\":\"mesh3d\"}],\"parcoords\":[{\"line\":{\"colorbar\":{\"outlinewidth\":0,\"ticks\":\"\"}},\"type\":\"parcoords\"}],\"pie\":[{\"automargin\":true,\"type\":\"pie\"}],\"scatter3d\":[{\"line\":{\"colorbar\":{\"outlinewidth\":0,\"ticks\":\"\"}},\"marker\":{\"colorbar\":{\"outlinewidth\":0,\"ticks\":\"\"}},\"type\":\"scatter3d\"}],\"scattercarpet\":[{\"marker\":{\"colorbar\":{\"outlinewidth\":0,\"ticks\":\"\"}},\"type\":\"scattercarpet\"}],\"scattergeo\":[{\"marker\":{\"colorbar\":{\"outlinewidth\":0,\"ticks\":\"\"}},\"type\":\"scattergeo\"}],\"scattergl\":[{\"marker\":{\"colorbar\":{\"outlinewidth\":0,\"ticks\":\"\"}},\"type\":\"scattergl\"}],\"scattermapbox\":[{\"marker\":{\"colorbar\":{\"outlinewidth\":0,\"ticks\":\"\"}},\"type\":\"scattermapbox\"}],\"scatterpolargl\":[{\"marker\":{\"colorbar\":{\"outlinewidth\":0,\"ticks\":\"\"}},\"type\":\"scatterpolargl\"}],\"scatterpolar\":[{\"marker\":{\"colorbar\":{\"outlinewidth\":0,\"ticks\":\"\"}},\"type\":\"scatterpolar\"}],\"scatter\":[{\"marker\":{\"colorbar\":{\"outlinewidth\":0,\"ticks\":\"\"}},\"type\":\"scatter\"}],\"scatterternary\":[{\"marker\":{\"colorbar\":{\"outlinewidth\":0,\"ticks\":\"\"}},\"type\":\"scatterternary\"}],\"surface\":[{\"colorbar\":{\"outlinewidth\":0,\"ticks\":\"\"},\"colorscale\":[[0.0,\"#0d0887\"],[0.1111111111111111,\"#46039f\"],[0.2222222222222222,\"#7201a8\"],[0.3333333333333333,\"#9c179e\"],[0.4444444444444444,\"#bd3786\"],[0.5555555555555556,\"#d8576b\"],[0.6666666666666666,\"#ed7953\"],[0.7777777777777778,\"#fb9f3a\"],[0.8888888888888888,\"#fdca26\"],[1.0,\"#f0f921\"]],\"type\":\"surface\"}],\"table\":[{\"cells\":{\"fill\":{\"color\":\"#EBF0F8\"},\"line\":{\"color\":\"white\"}},\"header\":{\"fill\":{\"color\":\"#C8D4E3\"},\"line\":{\"color\":\"white\"}},\"type\":\"table\"}]},\"layout\":{\"annotationdefaults\":{\"arrowcolor\":\"#2a3f5f\",\"arrowhead\":0,\"arrowwidth\":1},\"autotypenumbers\":\"strict\",\"coloraxis\":{\"colorbar\":{\"outlinewidth\":0,\"ticks\":\"\"}},\"colorscale\":{\"diverging\":[[0,\"#8e0152\"],[0.1,\"#c51b7d\"],[0.2,\"#de77ae\"],[0.3,\"#f1b6da\"],[0.4,\"#fde0ef\"],[0.5,\"#f7f7f7\"],[0.6,\"#e6f5d0\"],[0.7,\"#b8e186\"],[0.8,\"#7fbc41\"],[0.9,\"#4d9221\"],[1,\"#276419\"]],\"sequential\":[[0.0,\"#0d0887\"],[0.1111111111111111,\"#46039f\"],[0.2222222222222222,\"#7201a8\"],[0.3333333333333333,\"#9c179e\"],[0.4444444444444444,\"#bd3786\"],[0.5555555555555556,\"#d8576b\"],[0.6666666666666666,\"#ed7953\"],[0.7777777777777778,\"#fb9f3a\"],[0.8888888888888888,\"#fdca26\"],[1.0,\"#f0f921\"]],\"sequentialminus\":[[0.0,\"#0d0887\"],[0.1111111111111111,\"#46039f\"],[0.2222222222222222,\"#7201a8\"],[0.3333333333333333,\"#9c179e\"],[0.4444444444444444,\"#bd3786\"],[0.5555555555555556,\"#d8576b\"],[0.6666666666666666,\"#ed7953\"],[0.7777777777777778,\"#fb9f3a\"],[0.8888888888888888,\"#fdca26\"],[1.0,\"#f0f921\"]]},\"colorway\":[\"#636efa\",\"#EF553B\",\"#00cc96\",\"#ab63fa\",\"#FFA15A\",\"#19d3f3\",\"#FF6692\",\"#B6E880\",\"#FF97FF\",\"#FECB52\"],\"font\":{\"color\":\"#2a3f5f\"},\"geo\":{\"bgcolor\":\"white\",\"lakecolor\":\"white\",\"landcolor\":\"#E5ECF6\",\"showlakes\":true,\"showland\":true,\"subunitcolor\":\"white\"},\"hoverlabel\":{\"align\":\"left\"},\"hovermode\":\"closest\",\"mapbox\":{\"style\":\"light\"},\"paper_bgcolor\":\"white\",\"plot_bgcolor\":\"#E5ECF6\",\"polar\":{\"angularaxis\":{\"gridcolor\":\"white\",\"linecolor\":\"white\",\"ticks\":\"\"},\"bgcolor\":\"#E5ECF6\",\"radialaxis\":{\"gridcolor\":\"white\",\"linecolor\":\"white\",\"ticks\":\"\"}},\"scene\":{\"xaxis\":{\"backgroundcolor\":\"#E5ECF6\",\"gridcolor\":\"white\",\"gridwidth\":2,\"linecolor\":\"white\",\"showbackground\":true,\"ticks\":\"\",\"zerolinecolor\":\"white\"},\"yaxis\":{\"backgroundcolor\":\"#E5ECF6\",\"gridcolor\":\"white\",\"gridwidth\":2,\"linecolor\":\"white\",\"showbackground\":true,\"ticks\":\"\",\"zerolinecolor\":\"white\"},\"zaxis\":{\"backgroundcolor\":\"#E5ECF6\",\"gridcolor\":\"white\",\"gridwidth\":2,\"linecolor\":\"white\",\"showbackground\":true,\"ticks\":\"\",\"zerolinecolor\":\"white\"}},\"shapedefaults\":{\"line\":{\"color\":\"#2a3f5f\"}},\"ternary\":{\"aaxis\":{\"gridcolor\":\"white\",\"linecolor\":\"white\",\"ticks\":\"\"},\"baxis\":{\"gridcolor\":\"white\",\"linecolor\":\"white\",\"ticks\":\"\"},\"bgcolor\":\"#E5ECF6\",\"caxis\":{\"gridcolor\":\"white\",\"linecolor\":\"white\",\"ticks\":\"\"}},\"title\":{\"x\":0.05},\"xaxis\":{\"automargin\":true,\"gridcolor\":\"white\",\"linecolor\":\"white\",\"ticks\":\"\",\"title\":{\"standoff\":15},\"zerolinecolor\":\"white\",\"zerolinewidth\":2},\"yaxis\":{\"automargin\":true,\"gridcolor\":\"white\",\"linecolor\":\"white\",\"ticks\":\"\",\"title\":{\"standoff\":15},\"zerolinecolor\":\"white\",\"zerolinewidth\":2}}},\"title\":{\"font\":{\"color\":\"#4D5663\"}},\"xaxis\":{\"gridcolor\":\"#E1E5ED\",\"showgrid\":true,\"tickfont\":{\"color\":\"#4D5663\"},\"title\":{\"font\":{\"color\":\"#4D5663\"},\"text\":\"\"},\"zerolinecolor\":\"#E1E5ED\"},\"yaxis\":{\"gridcolor\":\"#E1E5ED\",\"showgrid\":true,\"tickfont\":{\"color\":\"#4D5663\"},\"title\":{\"font\":{\"color\":\"#4D5663\"},\"text\":\"\"},\"zerolinecolor\":\"#E1E5ED\"}},                        {\"showLink\": true, \"linkText\": \"Export to plotly.com\", \"plotlyServerURL\": \"https://plotly.com\", \"responsive\": true}                    ).then(function(){\n",
       "                            \n",
       "var gd = document.getElementById('ae321a05-2b8a-40a0-9e0b-ad95ef29e7e8');\n",
       "var x = new MutationObserver(function (mutations, observer) {{\n",
       "        var display = window.getComputedStyle(gd).display;\n",
       "        if (!display || display === 'none') {{\n",
       "            console.log([gd, 'removed!']);\n",
       "            Plotly.purge(gd);\n",
       "            observer.disconnect();\n",
       "        }}\n",
       "}});\n",
       "\n",
       "// Listen for the removal of the full notebook cells\n",
       "var notebookContainer = gd.closest('#notebook-container');\n",
       "if (notebookContainer) {{\n",
       "    x.observe(notebookContainer, {childList: true});\n",
       "}}\n",
       "\n",
       "// Listen for the clearing of the current output cell\n",
       "var outputEl = gd.closest('.output');\n",
       "if (outputEl) {{\n",
       "    x.observe(outputEl, {childList: true});\n",
       "}}\n",
       "\n",
       "                        })                };                });            </script>        </div>"
      ]
     },
     "metadata": {},
     "output_type": "display_data"
    }
   ],
   "source": [
    "df.iplot()"
   ]
  },
  {
   "cell_type": "markdown",
   "metadata": {},
   "source": [
    "## Using Cufflinks and iplot()\n",
    "\n",
    "* scatter\n",
    "* bar\n",
    "* box\n",
    "* spread\n",
    "* ratio\n",
    "* heatmap\n",
    "* surface\n",
    "* histogram\n",
    "* bubble"
   ]
  },
  {
   "cell_type": "markdown",
   "metadata": {},
   "source": [
    "## Scatter"
   ]
  },
  {
   "cell_type": "code",
   "execution_count": 24,
   "metadata": {},
   "outputs": [
    {
     "data": {
      "application/vnd.plotly.v1+json": {
       "config": {
        "linkText": "Export to plotly.com",
        "plotlyServerURL": "https://plotly.com",
        "showLink": true
       },
       "data": [
        {
         "line": {
          "color": "rgba(255, 153, 51, 1.0)",
          "dash": "solid",
          "shape": "linear",
          "width": 1.3
         },
         "marker": {
          "size": 12,
          "symbol": "circle"
         },
         "mode": "markers",
         "name": "B",
         "text": "",
         "type": "scatter",
         "x": [
          0.2540205165143539,
          0.21018287468404354,
          -1.417366523418028,
          1.4355964054891057,
          0.6438156084526279,
          -0.48992682332332516,
          2.089603407589297,
          -0.24037244272897193,
          0.22741612429678598,
          -0.43388743074207914,
          -0.17474693590151122,
          -0.3378269321122739,
          -0.2872816214010255,
          0.09021167266536759,
          1.9916614315099455,
          -0.9203501904153832,
          1.9932576734555514,
          1.190820979890536,
          0.7591670480729559,
          -0.9322613470150776,
          -0.04972199823331805,
          1.2685856210555648,
          1.5879259973556699,
          -0.567128573474692,
          -2.1942346439385063,
          -0.4559241878544287,
          1.0321820388276353,
          -1.2718987011182359,
          -1.2386551206807364,
          -2.194211747720904,
          -0.5258492859793686,
          -0.6653282837542511,
          -1.3988028138784063,
          -0.07260478095047099,
          -0.28642094085208936,
          -0.11457773635910108,
          -0.1095433105850815,
          0.9750875884483519,
          0.8374465307982316,
          -0.739274852671829,
          0.3157117587684143,
          -0.1715446808230524,
          -1.941469789403776,
          -0.8593008608200065,
          1.0567482570657265,
          -1.9320398455863936,
          0.2594822932774328,
          -0.39301308706656246,
          0.4491389194589242,
          -0.5943834464300685,
          -1.6205742737788318,
          0.6117521209297304,
          -1.276327824115349,
          0.4086695638455752,
          0.24793326266283466,
          -0.4612398992086352,
          1.472207033963178,
          -1.8432937178256399,
          0.331853571779341,
          -0.14425338478943614,
          -0.05413105300153619,
          2.319362187084283,
          0.7674645302272454,
          0.6023945964221519,
          0.09769810203503486,
          1.4595133621459795,
          0.5577801094920947,
          -0.8161165385921015,
          -0.20283106200073736,
          1.0814223714895106,
          -0.9390927760332309,
          -0.7014055677825115,
          -0.26483222934057704,
          0.2563524393956336,
          1.066269844507545,
          0.8834240698541156,
          -0.7106341632582636,
          -0.4401823764634333,
          0.9603374413953691,
          -0.04706661324449886,
          -0.32082510121876906,
          0.22690521984675313,
          0.5580555659912436,
          -0.097048566746413,
          1.7196848303305123,
          0.1334024173581546,
          -1.3154871382832112,
          -0.9863034014659603,
          -1.0446233980609223,
          2.755130001029382,
          -0.19396822225672392,
          -1.0333488219739275,
          0.37272339170574764,
          1.0054492152613619,
          1.266420601741147,
          -2.1026940491604966,
          0.5587347491572473,
          -1.26564189608967,
          1.2365667571795178,
          0.4093624285717989
         ],
         "y": [
          1.160825800152867,
          0.49616468992605606,
          0.07383583694545158,
          0.2327336021717852,
          -0.5017316173158699,
          0.8035594113553268,
          -0.28453246467477783,
          -0.915122676714964,
          -1.0386383838201863,
          -1.9952568867431326,
          0.09036591505575159,
          1.155948073431354,
          -0.42889040391045663,
          -1.2389704786006113,
          0.48118016142863945,
          1.0226046516596001,
          0.7398795059007436,
          0.37427404601920805,
          -1.7494103233808207,
          -0.9193506297259831,
          0.8887150557163451,
          0.9103962137297099,
          0.8947662724723978,
          0.06129563149484737,
          0.12002325193346794,
          -0.676796697112064,
          0.06093394366571922,
          -0.5640148151417872,
          0.81707423120743,
          0.6769766088966667,
          1.0441711359096393,
          0.8152504059983663,
          -0.39786853228590585,
          0.6599657173835193,
          0.5442907815797696,
          -0.2911291866765822,
          0.25500617713030627,
          -0.8331171412221349,
          -0.8620206840215854,
          0.04307721553350601,
          -1.215724201505668,
          0.12782065868375267,
          -2.145446215905343,
          -1.2319037363163725,
          -0.45930560794346414,
          -0.21250766872033242,
          -0.39804764478120985,
          -1.007422616587833,
          -0.9847119868129514,
          0.561732278632458,
          -1.14933123553313,
          1.6418957813050432,
          -1.2876584947792657,
          -0.03539282053918007,
          1.362381345433245,
          -0.6291386847202808,
          1.898930581889669,
          -0.6149912505025651,
          2.3034710611983304,
          -0.21226266974932004,
          -0.44847316876586585,
          -0.85303319669474,
          0.39684829882784267,
          -0.39090798457724035,
          1.3631512954306748,
          0.38249503712678984,
          -0.7742515439820427,
          -1.203847854965608,
          1.0115904667778681,
          0.3616426794426263,
          1.4846748175633453,
          0.9654302865010991,
          1.4562869848628681,
          -0.8177914063638103,
          -0.2730370368057006,
          0.6358807484449549,
          -0.7820612964596657,
          0.29823457797888253,
          0.39283832766839666,
          0.5285082098876401,
          1.3226836756728508,
          1.6636775870661122,
          0.5170672228134581,
          0.824798069948975,
          -0.46265991994032685,
          -0.10433027741652127,
          0.2690776010702887,
          1.3276291696627414,
          1.4619005839703703,
          0.06670553461973262,
          1.2367949690978866,
          -1.6728464542712906,
          0.41956646947819315,
          1.0213475908554128,
          1.4010211872247769,
          0.7057004386030941,
          -0.8740541643155307,
          -0.08067153622956262,
          -0.8096141021027465,
          1.2860139723173836
         ]
        }
       ],
       "layout": {
        "legend": {
         "bgcolor": "#F5F6F9",
         "font": {
          "color": "#4D5663"
         }
        },
        "paper_bgcolor": "#F5F6F9",
        "plot_bgcolor": "#F5F6F9",
        "template": {
         "data": {
          "bar": [
           {
            "error_x": {
             "color": "#2a3f5f"
            },
            "error_y": {
             "color": "#2a3f5f"
            },
            "marker": {
             "line": {
              "color": "#E5ECF6",
              "width": 0.5
             },
             "pattern": {
              "fillmode": "overlay",
              "size": 10,
              "solidity": 0.2
             }
            },
            "type": "bar"
           }
          ],
          "barpolar": [
           {
            "marker": {
             "line": {
              "color": "#E5ECF6",
              "width": 0.5
             },
             "pattern": {
              "fillmode": "overlay",
              "size": 10,
              "solidity": 0.2
             }
            },
            "type": "barpolar"
           }
          ],
          "carpet": [
           {
            "aaxis": {
             "endlinecolor": "#2a3f5f",
             "gridcolor": "white",
             "linecolor": "white",
             "minorgridcolor": "white",
             "startlinecolor": "#2a3f5f"
            },
            "baxis": {
             "endlinecolor": "#2a3f5f",
             "gridcolor": "white",
             "linecolor": "white",
             "minorgridcolor": "white",
             "startlinecolor": "#2a3f5f"
            },
            "type": "carpet"
           }
          ],
          "choropleth": [
           {
            "colorbar": {
             "outlinewidth": 0,
             "ticks": ""
            },
            "type": "choropleth"
           }
          ],
          "contour": [
           {
            "colorbar": {
             "outlinewidth": 0,
             "ticks": ""
            },
            "colorscale": [
             [
              0,
              "#0d0887"
             ],
             [
              0.1111111111111111,
              "#46039f"
             ],
             [
              0.2222222222222222,
              "#7201a8"
             ],
             [
              0.3333333333333333,
              "#9c179e"
             ],
             [
              0.4444444444444444,
              "#bd3786"
             ],
             [
              0.5555555555555556,
              "#d8576b"
             ],
             [
              0.6666666666666666,
              "#ed7953"
             ],
             [
              0.7777777777777778,
              "#fb9f3a"
             ],
             [
              0.8888888888888888,
              "#fdca26"
             ],
             [
              1,
              "#f0f921"
             ]
            ],
            "type": "contour"
           }
          ],
          "contourcarpet": [
           {
            "colorbar": {
             "outlinewidth": 0,
             "ticks": ""
            },
            "type": "contourcarpet"
           }
          ],
          "heatmap": [
           {
            "colorbar": {
             "outlinewidth": 0,
             "ticks": ""
            },
            "colorscale": [
             [
              0,
              "#0d0887"
             ],
             [
              0.1111111111111111,
              "#46039f"
             ],
             [
              0.2222222222222222,
              "#7201a8"
             ],
             [
              0.3333333333333333,
              "#9c179e"
             ],
             [
              0.4444444444444444,
              "#bd3786"
             ],
             [
              0.5555555555555556,
              "#d8576b"
             ],
             [
              0.6666666666666666,
              "#ed7953"
             ],
             [
              0.7777777777777778,
              "#fb9f3a"
             ],
             [
              0.8888888888888888,
              "#fdca26"
             ],
             [
              1,
              "#f0f921"
             ]
            ],
            "type": "heatmap"
           }
          ],
          "heatmapgl": [
           {
            "colorbar": {
             "outlinewidth": 0,
             "ticks": ""
            },
            "colorscale": [
             [
              0,
              "#0d0887"
             ],
             [
              0.1111111111111111,
              "#46039f"
             ],
             [
              0.2222222222222222,
              "#7201a8"
             ],
             [
              0.3333333333333333,
              "#9c179e"
             ],
             [
              0.4444444444444444,
              "#bd3786"
             ],
             [
              0.5555555555555556,
              "#d8576b"
             ],
             [
              0.6666666666666666,
              "#ed7953"
             ],
             [
              0.7777777777777778,
              "#fb9f3a"
             ],
             [
              0.8888888888888888,
              "#fdca26"
             ],
             [
              1,
              "#f0f921"
             ]
            ],
            "type": "heatmapgl"
           }
          ],
          "histogram": [
           {
            "marker": {
             "pattern": {
              "fillmode": "overlay",
              "size": 10,
              "solidity": 0.2
             }
            },
            "type": "histogram"
           }
          ],
          "histogram2d": [
           {
            "colorbar": {
             "outlinewidth": 0,
             "ticks": ""
            },
            "colorscale": [
             [
              0,
              "#0d0887"
             ],
             [
              0.1111111111111111,
              "#46039f"
             ],
             [
              0.2222222222222222,
              "#7201a8"
             ],
             [
              0.3333333333333333,
              "#9c179e"
             ],
             [
              0.4444444444444444,
              "#bd3786"
             ],
             [
              0.5555555555555556,
              "#d8576b"
             ],
             [
              0.6666666666666666,
              "#ed7953"
             ],
             [
              0.7777777777777778,
              "#fb9f3a"
             ],
             [
              0.8888888888888888,
              "#fdca26"
             ],
             [
              1,
              "#f0f921"
             ]
            ],
            "type": "histogram2d"
           }
          ],
          "histogram2dcontour": [
           {
            "colorbar": {
             "outlinewidth": 0,
             "ticks": ""
            },
            "colorscale": [
             [
              0,
              "#0d0887"
             ],
             [
              0.1111111111111111,
              "#46039f"
             ],
             [
              0.2222222222222222,
              "#7201a8"
             ],
             [
              0.3333333333333333,
              "#9c179e"
             ],
             [
              0.4444444444444444,
              "#bd3786"
             ],
             [
              0.5555555555555556,
              "#d8576b"
             ],
             [
              0.6666666666666666,
              "#ed7953"
             ],
             [
              0.7777777777777778,
              "#fb9f3a"
             ],
             [
              0.8888888888888888,
              "#fdca26"
             ],
             [
              1,
              "#f0f921"
             ]
            ],
            "type": "histogram2dcontour"
           }
          ],
          "mesh3d": [
           {
            "colorbar": {
             "outlinewidth": 0,
             "ticks": ""
            },
            "type": "mesh3d"
           }
          ],
          "parcoords": [
           {
            "line": {
             "colorbar": {
              "outlinewidth": 0,
              "ticks": ""
             }
            },
            "type": "parcoords"
           }
          ],
          "pie": [
           {
            "automargin": true,
            "type": "pie"
           }
          ],
          "scatter": [
           {
            "marker": {
             "colorbar": {
              "outlinewidth": 0,
              "ticks": ""
             }
            },
            "type": "scatter"
           }
          ],
          "scatter3d": [
           {
            "line": {
             "colorbar": {
              "outlinewidth": 0,
              "ticks": ""
             }
            },
            "marker": {
             "colorbar": {
              "outlinewidth": 0,
              "ticks": ""
             }
            },
            "type": "scatter3d"
           }
          ],
          "scattercarpet": [
           {
            "marker": {
             "colorbar": {
              "outlinewidth": 0,
              "ticks": ""
             }
            },
            "type": "scattercarpet"
           }
          ],
          "scattergeo": [
           {
            "marker": {
             "colorbar": {
              "outlinewidth": 0,
              "ticks": ""
             }
            },
            "type": "scattergeo"
           }
          ],
          "scattergl": [
           {
            "marker": {
             "colorbar": {
              "outlinewidth": 0,
              "ticks": ""
             }
            },
            "type": "scattergl"
           }
          ],
          "scattermapbox": [
           {
            "marker": {
             "colorbar": {
              "outlinewidth": 0,
              "ticks": ""
             }
            },
            "type": "scattermapbox"
           }
          ],
          "scatterpolar": [
           {
            "marker": {
             "colorbar": {
              "outlinewidth": 0,
              "ticks": ""
             }
            },
            "type": "scatterpolar"
           }
          ],
          "scatterpolargl": [
           {
            "marker": {
             "colorbar": {
              "outlinewidth": 0,
              "ticks": ""
             }
            },
            "type": "scatterpolargl"
           }
          ],
          "scatterternary": [
           {
            "marker": {
             "colorbar": {
              "outlinewidth": 0,
              "ticks": ""
             }
            },
            "type": "scatterternary"
           }
          ],
          "surface": [
           {
            "colorbar": {
             "outlinewidth": 0,
             "ticks": ""
            },
            "colorscale": [
             [
              0,
              "#0d0887"
             ],
             [
              0.1111111111111111,
              "#46039f"
             ],
             [
              0.2222222222222222,
              "#7201a8"
             ],
             [
              0.3333333333333333,
              "#9c179e"
             ],
             [
              0.4444444444444444,
              "#bd3786"
             ],
             [
              0.5555555555555556,
              "#d8576b"
             ],
             [
              0.6666666666666666,
              "#ed7953"
             ],
             [
              0.7777777777777778,
              "#fb9f3a"
             ],
             [
              0.8888888888888888,
              "#fdca26"
             ],
             [
              1,
              "#f0f921"
             ]
            ],
            "type": "surface"
           }
          ],
          "table": [
           {
            "cells": {
             "fill": {
              "color": "#EBF0F8"
             },
             "line": {
              "color": "white"
             }
            },
            "header": {
             "fill": {
              "color": "#C8D4E3"
             },
             "line": {
              "color": "white"
             }
            },
            "type": "table"
           }
          ]
         },
         "layout": {
          "annotationdefaults": {
           "arrowcolor": "#2a3f5f",
           "arrowhead": 0,
           "arrowwidth": 1
          },
          "autotypenumbers": "strict",
          "coloraxis": {
           "colorbar": {
            "outlinewidth": 0,
            "ticks": ""
           }
          },
          "colorscale": {
           "diverging": [
            [
             0,
             "#8e0152"
            ],
            [
             0.1,
             "#c51b7d"
            ],
            [
             0.2,
             "#de77ae"
            ],
            [
             0.3,
             "#f1b6da"
            ],
            [
             0.4,
             "#fde0ef"
            ],
            [
             0.5,
             "#f7f7f7"
            ],
            [
             0.6,
             "#e6f5d0"
            ],
            [
             0.7,
             "#b8e186"
            ],
            [
             0.8,
             "#7fbc41"
            ],
            [
             0.9,
             "#4d9221"
            ],
            [
             1,
             "#276419"
            ]
           ],
           "sequential": [
            [
             0,
             "#0d0887"
            ],
            [
             0.1111111111111111,
             "#46039f"
            ],
            [
             0.2222222222222222,
             "#7201a8"
            ],
            [
             0.3333333333333333,
             "#9c179e"
            ],
            [
             0.4444444444444444,
             "#bd3786"
            ],
            [
             0.5555555555555556,
             "#d8576b"
            ],
            [
             0.6666666666666666,
             "#ed7953"
            ],
            [
             0.7777777777777778,
             "#fb9f3a"
            ],
            [
             0.8888888888888888,
             "#fdca26"
            ],
            [
             1,
             "#f0f921"
            ]
           ],
           "sequentialminus": [
            [
             0,
             "#0d0887"
            ],
            [
             0.1111111111111111,
             "#46039f"
            ],
            [
             0.2222222222222222,
             "#7201a8"
            ],
            [
             0.3333333333333333,
             "#9c179e"
            ],
            [
             0.4444444444444444,
             "#bd3786"
            ],
            [
             0.5555555555555556,
             "#d8576b"
            ],
            [
             0.6666666666666666,
             "#ed7953"
            ],
            [
             0.7777777777777778,
             "#fb9f3a"
            ],
            [
             0.8888888888888888,
             "#fdca26"
            ],
            [
             1,
             "#f0f921"
            ]
           ]
          },
          "colorway": [
           "#636efa",
           "#EF553B",
           "#00cc96",
           "#ab63fa",
           "#FFA15A",
           "#19d3f3",
           "#FF6692",
           "#B6E880",
           "#FF97FF",
           "#FECB52"
          ],
          "font": {
           "color": "#2a3f5f"
          },
          "geo": {
           "bgcolor": "white",
           "lakecolor": "white",
           "landcolor": "#E5ECF6",
           "showlakes": true,
           "showland": true,
           "subunitcolor": "white"
          },
          "hoverlabel": {
           "align": "left"
          },
          "hovermode": "closest",
          "mapbox": {
           "style": "light"
          },
          "paper_bgcolor": "white",
          "plot_bgcolor": "#E5ECF6",
          "polar": {
           "angularaxis": {
            "gridcolor": "white",
            "linecolor": "white",
            "ticks": ""
           },
           "bgcolor": "#E5ECF6",
           "radialaxis": {
            "gridcolor": "white",
            "linecolor": "white",
            "ticks": ""
           }
          },
          "scene": {
           "xaxis": {
            "backgroundcolor": "#E5ECF6",
            "gridcolor": "white",
            "gridwidth": 2,
            "linecolor": "white",
            "showbackground": true,
            "ticks": "",
            "zerolinecolor": "white"
           },
           "yaxis": {
            "backgroundcolor": "#E5ECF6",
            "gridcolor": "white",
            "gridwidth": 2,
            "linecolor": "white",
            "showbackground": true,
            "ticks": "",
            "zerolinecolor": "white"
           },
           "zaxis": {
            "backgroundcolor": "#E5ECF6",
            "gridcolor": "white",
            "gridwidth": 2,
            "linecolor": "white",
            "showbackground": true,
            "ticks": "",
            "zerolinecolor": "white"
           }
          },
          "shapedefaults": {
           "line": {
            "color": "#2a3f5f"
           }
          },
          "ternary": {
           "aaxis": {
            "gridcolor": "white",
            "linecolor": "white",
            "ticks": ""
           },
           "baxis": {
            "gridcolor": "white",
            "linecolor": "white",
            "ticks": ""
           },
           "bgcolor": "#E5ECF6",
           "caxis": {
            "gridcolor": "white",
            "linecolor": "white",
            "ticks": ""
           }
          },
          "title": {
           "x": 0.05
          },
          "xaxis": {
           "automargin": true,
           "gridcolor": "white",
           "linecolor": "white",
           "ticks": "",
           "title": {
            "standoff": 15
           },
           "zerolinecolor": "white",
           "zerolinewidth": 2
          },
          "yaxis": {
           "automargin": true,
           "gridcolor": "white",
           "linecolor": "white",
           "ticks": "",
           "title": {
            "standoff": 15
           },
           "zerolinecolor": "white",
           "zerolinewidth": 2
          }
         }
        },
        "title": {
         "font": {
          "color": "#4D5663"
         }
        },
        "xaxis": {
         "gridcolor": "#E1E5ED",
         "showgrid": true,
         "tickfont": {
          "color": "#4D5663"
         },
         "title": {
          "font": {
           "color": "#4D5663"
          },
          "text": ""
         },
         "zerolinecolor": "#E1E5ED"
        },
        "yaxis": {
         "gridcolor": "#E1E5ED",
         "showgrid": true,
         "tickfont": {
          "color": "#4D5663"
         },
         "title": {
          "font": {
           "color": "#4D5663"
          },
          "text": ""
         },
         "zerolinecolor": "#E1E5ED"
        }
       }
      },
      "text/html": [
       "<div>                            <div id=\"02e3f3e2-cf6d-4caa-89e4-78b4bd170b83\" class=\"plotly-graph-div\" style=\"height:525px; width:100%;\"></div>            <script type=\"text/javascript\">                require([\"plotly\"], function(Plotly) {                    window.PLOTLYENV=window.PLOTLYENV || {};\n",
       "                    window.PLOTLYENV.BASE_URL='https://plotly.com';                                    if (document.getElementById(\"02e3f3e2-cf6d-4caa-89e4-78b4bd170b83\")) {                    Plotly.newPlot(                        \"02e3f3e2-cf6d-4caa-89e4-78b4bd170b83\",                        [{\"line\":{\"color\":\"rgba(255, 153, 51, 1.0)\",\"dash\":\"solid\",\"shape\":\"linear\",\"width\":1.3},\"marker\":{\"size\":12,\"symbol\":\"circle\"},\"mode\":\"markers\",\"name\":\"B\",\"text\":\"\",\"x\":[0.2540205165143539,0.21018287468404354,-1.417366523418028,1.4355964054891057,0.6438156084526279,-0.48992682332332516,2.089603407589297,-0.24037244272897193,0.22741612429678598,-0.43388743074207914,-0.17474693590151122,-0.3378269321122739,-0.2872816214010255,0.09021167266536759,1.9916614315099455,-0.9203501904153832,1.9932576734555514,1.190820979890536,0.7591670480729559,-0.9322613470150776,-0.04972199823331805,1.2685856210555648,1.5879259973556699,-0.567128573474692,-2.1942346439385063,-0.4559241878544287,1.0321820388276353,-1.2718987011182359,-1.2386551206807364,-2.194211747720904,-0.5258492859793686,-0.6653282837542511,-1.3988028138784063,-0.07260478095047099,-0.28642094085208936,-0.11457773635910108,-0.1095433105850815,0.9750875884483519,0.8374465307982316,-0.739274852671829,0.3157117587684143,-0.1715446808230524,-1.941469789403776,-0.8593008608200065,1.0567482570657265,-1.9320398455863936,0.2594822932774328,-0.39301308706656246,0.4491389194589242,-0.5943834464300685,-1.6205742737788318,0.6117521209297304,-1.276327824115349,0.4086695638455752,0.24793326266283466,-0.4612398992086352,1.472207033963178,-1.8432937178256399,0.331853571779341,-0.14425338478943614,-0.05413105300153619,2.319362187084283,0.7674645302272454,0.6023945964221519,0.09769810203503486,1.4595133621459795,0.5577801094920947,-0.8161165385921015,-0.20283106200073736,1.0814223714895106,-0.9390927760332309,-0.7014055677825115,-0.26483222934057704,0.2563524393956336,1.066269844507545,0.8834240698541156,-0.7106341632582636,-0.4401823764634333,0.9603374413953691,-0.04706661324449886,-0.32082510121876906,0.22690521984675313,0.5580555659912436,-0.097048566746413,1.7196848303305123,0.1334024173581546,-1.3154871382832112,-0.9863034014659603,-1.0446233980609223,2.755130001029382,-0.19396822225672392,-1.0333488219739275,0.37272339170574764,1.0054492152613619,1.266420601741147,-2.1026940491604966,0.5587347491572473,-1.26564189608967,1.2365667571795178,0.4093624285717989],\"y\":[1.160825800152867,0.49616468992605606,0.07383583694545158,0.2327336021717852,-0.5017316173158699,0.8035594113553268,-0.28453246467477783,-0.915122676714964,-1.0386383838201863,-1.9952568867431326,0.09036591505575159,1.155948073431354,-0.42889040391045663,-1.2389704786006113,0.48118016142863945,1.0226046516596001,0.7398795059007436,0.37427404601920805,-1.7494103233808207,-0.9193506297259831,0.8887150557163451,0.9103962137297099,0.8947662724723978,0.06129563149484737,0.12002325193346794,-0.676796697112064,0.06093394366571922,-0.5640148151417872,0.81707423120743,0.6769766088966667,1.0441711359096393,0.8152504059983663,-0.39786853228590585,0.6599657173835193,0.5442907815797696,-0.2911291866765822,0.25500617713030627,-0.8331171412221349,-0.8620206840215854,0.04307721553350601,-1.215724201505668,0.12782065868375267,-2.145446215905343,-1.2319037363163725,-0.45930560794346414,-0.21250766872033242,-0.39804764478120985,-1.007422616587833,-0.9847119868129514,0.561732278632458,-1.14933123553313,1.6418957813050432,-1.2876584947792657,-0.03539282053918007,1.362381345433245,-0.6291386847202808,1.898930581889669,-0.6149912505025651,2.3034710611983304,-0.21226266974932004,-0.44847316876586585,-0.85303319669474,0.39684829882784267,-0.39090798457724035,1.3631512954306748,0.38249503712678984,-0.7742515439820427,-1.203847854965608,1.0115904667778681,0.3616426794426263,1.4846748175633453,0.9654302865010991,1.4562869848628681,-0.8177914063638103,-0.2730370368057006,0.6358807484449549,-0.7820612964596657,0.29823457797888253,0.39283832766839666,0.5285082098876401,1.3226836756728508,1.6636775870661122,0.5170672228134581,0.824798069948975,-0.46265991994032685,-0.10433027741652127,0.2690776010702887,1.3276291696627414,1.4619005839703703,0.06670553461973262,1.2367949690978866,-1.6728464542712906,0.41956646947819315,1.0213475908554128,1.4010211872247769,0.7057004386030941,-0.8740541643155307,-0.08067153622956262,-0.8096141021027465,1.2860139723173836],\"type\":\"scatter\"}],                        {\"legend\":{\"bgcolor\":\"#F5F6F9\",\"font\":{\"color\":\"#4D5663\"}},\"paper_bgcolor\":\"#F5F6F9\",\"plot_bgcolor\":\"#F5F6F9\",\"template\":{\"data\":{\"barpolar\":[{\"marker\":{\"line\":{\"color\":\"#E5ECF6\",\"width\":0.5},\"pattern\":{\"fillmode\":\"overlay\",\"size\":10,\"solidity\":0.2}},\"type\":\"barpolar\"}],\"bar\":[{\"error_x\":{\"color\":\"#2a3f5f\"},\"error_y\":{\"color\":\"#2a3f5f\"},\"marker\":{\"line\":{\"color\":\"#E5ECF6\",\"width\":0.5},\"pattern\":{\"fillmode\":\"overlay\",\"size\":10,\"solidity\":0.2}},\"type\":\"bar\"}],\"carpet\":[{\"aaxis\":{\"endlinecolor\":\"#2a3f5f\",\"gridcolor\":\"white\",\"linecolor\":\"white\",\"minorgridcolor\":\"white\",\"startlinecolor\":\"#2a3f5f\"},\"baxis\":{\"endlinecolor\":\"#2a3f5f\",\"gridcolor\":\"white\",\"linecolor\":\"white\",\"minorgridcolor\":\"white\",\"startlinecolor\":\"#2a3f5f\"},\"type\":\"carpet\"}],\"choropleth\":[{\"colorbar\":{\"outlinewidth\":0,\"ticks\":\"\"},\"type\":\"choropleth\"}],\"contourcarpet\":[{\"colorbar\":{\"outlinewidth\":0,\"ticks\":\"\"},\"type\":\"contourcarpet\"}],\"contour\":[{\"colorbar\":{\"outlinewidth\":0,\"ticks\":\"\"},\"colorscale\":[[0.0,\"#0d0887\"],[0.1111111111111111,\"#46039f\"],[0.2222222222222222,\"#7201a8\"],[0.3333333333333333,\"#9c179e\"],[0.4444444444444444,\"#bd3786\"],[0.5555555555555556,\"#d8576b\"],[0.6666666666666666,\"#ed7953\"],[0.7777777777777778,\"#fb9f3a\"],[0.8888888888888888,\"#fdca26\"],[1.0,\"#f0f921\"]],\"type\":\"contour\"}],\"heatmapgl\":[{\"colorbar\":{\"outlinewidth\":0,\"ticks\":\"\"},\"colorscale\":[[0.0,\"#0d0887\"],[0.1111111111111111,\"#46039f\"],[0.2222222222222222,\"#7201a8\"],[0.3333333333333333,\"#9c179e\"],[0.4444444444444444,\"#bd3786\"],[0.5555555555555556,\"#d8576b\"],[0.6666666666666666,\"#ed7953\"],[0.7777777777777778,\"#fb9f3a\"],[0.8888888888888888,\"#fdca26\"],[1.0,\"#f0f921\"]],\"type\":\"heatmapgl\"}],\"heatmap\":[{\"colorbar\":{\"outlinewidth\":0,\"ticks\":\"\"},\"colorscale\":[[0.0,\"#0d0887\"],[0.1111111111111111,\"#46039f\"],[0.2222222222222222,\"#7201a8\"],[0.3333333333333333,\"#9c179e\"],[0.4444444444444444,\"#bd3786\"],[0.5555555555555556,\"#d8576b\"],[0.6666666666666666,\"#ed7953\"],[0.7777777777777778,\"#fb9f3a\"],[0.8888888888888888,\"#fdca26\"],[1.0,\"#f0f921\"]],\"type\":\"heatmap\"}],\"histogram2dcontour\":[{\"colorbar\":{\"outlinewidth\":0,\"ticks\":\"\"},\"colorscale\":[[0.0,\"#0d0887\"],[0.1111111111111111,\"#46039f\"],[0.2222222222222222,\"#7201a8\"],[0.3333333333333333,\"#9c179e\"],[0.4444444444444444,\"#bd3786\"],[0.5555555555555556,\"#d8576b\"],[0.6666666666666666,\"#ed7953\"],[0.7777777777777778,\"#fb9f3a\"],[0.8888888888888888,\"#fdca26\"],[1.0,\"#f0f921\"]],\"type\":\"histogram2dcontour\"}],\"histogram2d\":[{\"colorbar\":{\"outlinewidth\":0,\"ticks\":\"\"},\"colorscale\":[[0.0,\"#0d0887\"],[0.1111111111111111,\"#46039f\"],[0.2222222222222222,\"#7201a8\"],[0.3333333333333333,\"#9c179e\"],[0.4444444444444444,\"#bd3786\"],[0.5555555555555556,\"#d8576b\"],[0.6666666666666666,\"#ed7953\"],[0.7777777777777778,\"#fb9f3a\"],[0.8888888888888888,\"#fdca26\"],[1.0,\"#f0f921\"]],\"type\":\"histogram2d\"}],\"histogram\":[{\"marker\":{\"pattern\":{\"fillmode\":\"overlay\",\"size\":10,\"solidity\":0.2}},\"type\":\"histogram\"}],\"mesh3d\":[{\"colorbar\":{\"outlinewidth\":0,\"ticks\":\"\"},\"type\":\"mesh3d\"}],\"parcoords\":[{\"line\":{\"colorbar\":{\"outlinewidth\":0,\"ticks\":\"\"}},\"type\":\"parcoords\"}],\"pie\":[{\"automargin\":true,\"type\":\"pie\"}],\"scatter3d\":[{\"line\":{\"colorbar\":{\"outlinewidth\":0,\"ticks\":\"\"}},\"marker\":{\"colorbar\":{\"outlinewidth\":0,\"ticks\":\"\"}},\"type\":\"scatter3d\"}],\"scattercarpet\":[{\"marker\":{\"colorbar\":{\"outlinewidth\":0,\"ticks\":\"\"}},\"type\":\"scattercarpet\"}],\"scattergeo\":[{\"marker\":{\"colorbar\":{\"outlinewidth\":0,\"ticks\":\"\"}},\"type\":\"scattergeo\"}],\"scattergl\":[{\"marker\":{\"colorbar\":{\"outlinewidth\":0,\"ticks\":\"\"}},\"type\":\"scattergl\"}],\"scattermapbox\":[{\"marker\":{\"colorbar\":{\"outlinewidth\":0,\"ticks\":\"\"}},\"type\":\"scattermapbox\"}],\"scatterpolargl\":[{\"marker\":{\"colorbar\":{\"outlinewidth\":0,\"ticks\":\"\"}},\"type\":\"scatterpolargl\"}],\"scatterpolar\":[{\"marker\":{\"colorbar\":{\"outlinewidth\":0,\"ticks\":\"\"}},\"type\":\"scatterpolar\"}],\"scatter\":[{\"marker\":{\"colorbar\":{\"outlinewidth\":0,\"ticks\":\"\"}},\"type\":\"scatter\"}],\"scatterternary\":[{\"marker\":{\"colorbar\":{\"outlinewidth\":0,\"ticks\":\"\"}},\"type\":\"scatterternary\"}],\"surface\":[{\"colorbar\":{\"outlinewidth\":0,\"ticks\":\"\"},\"colorscale\":[[0.0,\"#0d0887\"],[0.1111111111111111,\"#46039f\"],[0.2222222222222222,\"#7201a8\"],[0.3333333333333333,\"#9c179e\"],[0.4444444444444444,\"#bd3786\"],[0.5555555555555556,\"#d8576b\"],[0.6666666666666666,\"#ed7953\"],[0.7777777777777778,\"#fb9f3a\"],[0.8888888888888888,\"#fdca26\"],[1.0,\"#f0f921\"]],\"type\":\"surface\"}],\"table\":[{\"cells\":{\"fill\":{\"color\":\"#EBF0F8\"},\"line\":{\"color\":\"white\"}},\"header\":{\"fill\":{\"color\":\"#C8D4E3\"},\"line\":{\"color\":\"white\"}},\"type\":\"table\"}]},\"layout\":{\"annotationdefaults\":{\"arrowcolor\":\"#2a3f5f\",\"arrowhead\":0,\"arrowwidth\":1},\"autotypenumbers\":\"strict\",\"coloraxis\":{\"colorbar\":{\"outlinewidth\":0,\"ticks\":\"\"}},\"colorscale\":{\"diverging\":[[0,\"#8e0152\"],[0.1,\"#c51b7d\"],[0.2,\"#de77ae\"],[0.3,\"#f1b6da\"],[0.4,\"#fde0ef\"],[0.5,\"#f7f7f7\"],[0.6,\"#e6f5d0\"],[0.7,\"#b8e186\"],[0.8,\"#7fbc41\"],[0.9,\"#4d9221\"],[1,\"#276419\"]],\"sequential\":[[0.0,\"#0d0887\"],[0.1111111111111111,\"#46039f\"],[0.2222222222222222,\"#7201a8\"],[0.3333333333333333,\"#9c179e\"],[0.4444444444444444,\"#bd3786\"],[0.5555555555555556,\"#d8576b\"],[0.6666666666666666,\"#ed7953\"],[0.7777777777777778,\"#fb9f3a\"],[0.8888888888888888,\"#fdca26\"],[1.0,\"#f0f921\"]],\"sequentialminus\":[[0.0,\"#0d0887\"],[0.1111111111111111,\"#46039f\"],[0.2222222222222222,\"#7201a8\"],[0.3333333333333333,\"#9c179e\"],[0.4444444444444444,\"#bd3786\"],[0.5555555555555556,\"#d8576b\"],[0.6666666666666666,\"#ed7953\"],[0.7777777777777778,\"#fb9f3a\"],[0.8888888888888888,\"#fdca26\"],[1.0,\"#f0f921\"]]},\"colorway\":[\"#636efa\",\"#EF553B\",\"#00cc96\",\"#ab63fa\",\"#FFA15A\",\"#19d3f3\",\"#FF6692\",\"#B6E880\",\"#FF97FF\",\"#FECB52\"],\"font\":{\"color\":\"#2a3f5f\"},\"geo\":{\"bgcolor\":\"white\",\"lakecolor\":\"white\",\"landcolor\":\"#E5ECF6\",\"showlakes\":true,\"showland\":true,\"subunitcolor\":\"white\"},\"hoverlabel\":{\"align\":\"left\"},\"hovermode\":\"closest\",\"mapbox\":{\"style\":\"light\"},\"paper_bgcolor\":\"white\",\"plot_bgcolor\":\"#E5ECF6\",\"polar\":{\"angularaxis\":{\"gridcolor\":\"white\",\"linecolor\":\"white\",\"ticks\":\"\"},\"bgcolor\":\"#E5ECF6\",\"radialaxis\":{\"gridcolor\":\"white\",\"linecolor\":\"white\",\"ticks\":\"\"}},\"scene\":{\"xaxis\":{\"backgroundcolor\":\"#E5ECF6\",\"gridcolor\":\"white\",\"gridwidth\":2,\"linecolor\":\"white\",\"showbackground\":true,\"ticks\":\"\",\"zerolinecolor\":\"white\"},\"yaxis\":{\"backgroundcolor\":\"#E5ECF6\",\"gridcolor\":\"white\",\"gridwidth\":2,\"linecolor\":\"white\",\"showbackground\":true,\"ticks\":\"\",\"zerolinecolor\":\"white\"},\"zaxis\":{\"backgroundcolor\":\"#E5ECF6\",\"gridcolor\":\"white\",\"gridwidth\":2,\"linecolor\":\"white\",\"showbackground\":true,\"ticks\":\"\",\"zerolinecolor\":\"white\"}},\"shapedefaults\":{\"line\":{\"color\":\"#2a3f5f\"}},\"ternary\":{\"aaxis\":{\"gridcolor\":\"white\",\"linecolor\":\"white\",\"ticks\":\"\"},\"baxis\":{\"gridcolor\":\"white\",\"linecolor\":\"white\",\"ticks\":\"\"},\"bgcolor\":\"#E5ECF6\",\"caxis\":{\"gridcolor\":\"white\",\"linecolor\":\"white\",\"ticks\":\"\"}},\"title\":{\"x\":0.05},\"xaxis\":{\"automargin\":true,\"gridcolor\":\"white\",\"linecolor\":\"white\",\"ticks\":\"\",\"title\":{\"standoff\":15},\"zerolinecolor\":\"white\",\"zerolinewidth\":2},\"yaxis\":{\"automargin\":true,\"gridcolor\":\"white\",\"linecolor\":\"white\",\"ticks\":\"\",\"title\":{\"standoff\":15},\"zerolinecolor\":\"white\",\"zerolinewidth\":2}}},\"title\":{\"font\":{\"color\":\"#4D5663\"}},\"xaxis\":{\"gridcolor\":\"#E1E5ED\",\"showgrid\":true,\"tickfont\":{\"color\":\"#4D5663\"},\"title\":{\"font\":{\"color\":\"#4D5663\"},\"text\":\"\"},\"zerolinecolor\":\"#E1E5ED\"},\"yaxis\":{\"gridcolor\":\"#E1E5ED\",\"showgrid\":true,\"tickfont\":{\"color\":\"#4D5663\"},\"title\":{\"font\":{\"color\":\"#4D5663\"},\"text\":\"\"},\"zerolinecolor\":\"#E1E5ED\"}},                        {\"showLink\": true, \"linkText\": \"Export to plotly.com\", \"plotlyServerURL\": \"https://plotly.com\", \"responsive\": true}                    ).then(function(){\n",
       "                            \n",
       "var gd = document.getElementById('02e3f3e2-cf6d-4caa-89e4-78b4bd170b83');\n",
       "var x = new MutationObserver(function (mutations, observer) {{\n",
       "        var display = window.getComputedStyle(gd).display;\n",
       "        if (!display || display === 'none') {{\n",
       "            console.log([gd, 'removed!']);\n",
       "            Plotly.purge(gd);\n",
       "            observer.disconnect();\n",
       "        }}\n",
       "}});\n",
       "\n",
       "// Listen for the removal of the full notebook cells\n",
       "var notebookContainer = gd.closest('#notebook-container');\n",
       "if (notebookContainer) {{\n",
       "    x.observe(notebookContainer, {childList: true});\n",
       "}}\n",
       "\n",
       "// Listen for the clearing of the current output cell\n",
       "var outputEl = gd.closest('.output');\n",
       "if (outputEl) {{\n",
       "    x.observe(outputEl, {childList: true});\n",
       "}}\n",
       "\n",
       "                        })                };                });            </script>        </div>"
      ]
     },
     "metadata": {},
     "output_type": "display_data"
    }
   ],
   "source": [
    "df.iplot(kind='scatter',x='A',y='B',mode='markers')"
   ]
  },
  {
   "cell_type": "code",
   "execution_count": 22,
   "metadata": {},
   "outputs": [
    {
     "data": {
      "application/vnd.plotly.v1+json": {
       "config": {
        "linkText": "Export to plotly.com",
        "plotlyServerURL": "https://plotly.com",
        "showLink": true
       },
       "data": [
        {
         "line": {
          "color": "rgba(255, 153, 51, 1.0)",
          "dash": "solid",
          "shape": "linear",
          "width": 1.3
         },
         "marker": {
          "size": 10,
          "symbol": "circle"
         },
         "mode": "markers",
         "name": "B",
         "text": "",
         "type": "scatter",
         "x": [
          0.2540205165143539,
          0.21018287468404354,
          -1.417366523418028,
          1.4355964054891057,
          0.6438156084526279,
          -0.48992682332332516,
          2.089603407589297,
          -0.24037244272897193,
          0.22741612429678598,
          -0.43388743074207914,
          -0.17474693590151122,
          -0.3378269321122739,
          -0.2872816214010255,
          0.09021167266536759,
          1.9916614315099455,
          -0.9203501904153832,
          1.9932576734555514,
          1.190820979890536,
          0.7591670480729559,
          -0.9322613470150776,
          -0.04972199823331805,
          1.2685856210555648,
          1.5879259973556699,
          -0.567128573474692,
          -2.1942346439385063,
          -0.4559241878544287,
          1.0321820388276353,
          -1.2718987011182359,
          -1.2386551206807364,
          -2.194211747720904,
          -0.5258492859793686,
          -0.6653282837542511,
          -1.3988028138784063,
          -0.07260478095047099,
          -0.28642094085208936,
          -0.11457773635910108,
          -0.1095433105850815,
          0.9750875884483519,
          0.8374465307982316,
          -0.739274852671829,
          0.3157117587684143,
          -0.1715446808230524,
          -1.941469789403776,
          -0.8593008608200065,
          1.0567482570657265,
          -1.9320398455863936,
          0.2594822932774328,
          -0.39301308706656246,
          0.4491389194589242,
          -0.5943834464300685,
          -1.6205742737788318,
          0.6117521209297304,
          -1.276327824115349,
          0.4086695638455752,
          0.24793326266283466,
          -0.4612398992086352,
          1.472207033963178,
          -1.8432937178256399,
          0.331853571779341,
          -0.14425338478943614,
          -0.05413105300153619,
          2.319362187084283,
          0.7674645302272454,
          0.6023945964221519,
          0.09769810203503486,
          1.4595133621459795,
          0.5577801094920947,
          -0.8161165385921015,
          -0.20283106200073736,
          1.0814223714895106,
          -0.9390927760332309,
          -0.7014055677825115,
          -0.26483222934057704,
          0.2563524393956336,
          1.066269844507545,
          0.8834240698541156,
          -0.7106341632582636,
          -0.4401823764634333,
          0.9603374413953691,
          -0.04706661324449886,
          -0.32082510121876906,
          0.22690521984675313,
          0.5580555659912436,
          -0.097048566746413,
          1.7196848303305123,
          0.1334024173581546,
          -1.3154871382832112,
          -0.9863034014659603,
          -1.0446233980609223,
          2.755130001029382,
          -0.19396822225672392,
          -1.0333488219739275,
          0.37272339170574764,
          1.0054492152613619,
          1.266420601741147,
          -2.1026940491604966,
          0.5587347491572473,
          -1.26564189608967,
          1.2365667571795178,
          0.4093624285717989
         ],
         "y": [
          1.160825800152867,
          0.49616468992605606,
          0.07383583694545158,
          0.2327336021717852,
          -0.5017316173158699,
          0.8035594113553268,
          -0.28453246467477783,
          -0.915122676714964,
          -1.0386383838201863,
          -1.9952568867431326,
          0.09036591505575159,
          1.155948073431354,
          -0.42889040391045663,
          -1.2389704786006113,
          0.48118016142863945,
          1.0226046516596001,
          0.7398795059007436,
          0.37427404601920805,
          -1.7494103233808207,
          -0.9193506297259831,
          0.8887150557163451,
          0.9103962137297099,
          0.8947662724723978,
          0.06129563149484737,
          0.12002325193346794,
          -0.676796697112064,
          0.06093394366571922,
          -0.5640148151417872,
          0.81707423120743,
          0.6769766088966667,
          1.0441711359096393,
          0.8152504059983663,
          -0.39786853228590585,
          0.6599657173835193,
          0.5442907815797696,
          -0.2911291866765822,
          0.25500617713030627,
          -0.8331171412221349,
          -0.8620206840215854,
          0.04307721553350601,
          -1.215724201505668,
          0.12782065868375267,
          -2.145446215905343,
          -1.2319037363163725,
          -0.45930560794346414,
          -0.21250766872033242,
          -0.39804764478120985,
          -1.007422616587833,
          -0.9847119868129514,
          0.561732278632458,
          -1.14933123553313,
          1.6418957813050432,
          -1.2876584947792657,
          -0.03539282053918007,
          1.362381345433245,
          -0.6291386847202808,
          1.898930581889669,
          -0.6149912505025651,
          2.3034710611983304,
          -0.21226266974932004,
          -0.44847316876586585,
          -0.85303319669474,
          0.39684829882784267,
          -0.39090798457724035,
          1.3631512954306748,
          0.38249503712678984,
          -0.7742515439820427,
          -1.203847854965608,
          1.0115904667778681,
          0.3616426794426263,
          1.4846748175633453,
          0.9654302865010991,
          1.4562869848628681,
          -0.8177914063638103,
          -0.2730370368057006,
          0.6358807484449549,
          -0.7820612964596657,
          0.29823457797888253,
          0.39283832766839666,
          0.5285082098876401,
          1.3226836756728508,
          1.6636775870661122,
          0.5170672228134581,
          0.824798069948975,
          -0.46265991994032685,
          -0.10433027741652127,
          0.2690776010702887,
          1.3276291696627414,
          1.4619005839703703,
          0.06670553461973262,
          1.2367949690978866,
          -1.6728464542712906,
          0.41956646947819315,
          1.0213475908554128,
          1.4010211872247769,
          0.7057004386030941,
          -0.8740541643155307,
          -0.08067153622956262,
          -0.8096141021027465,
          1.2860139723173836
         ]
        }
       ],
       "layout": {
        "legend": {
         "bgcolor": "#F5F6F9",
         "font": {
          "color": "#4D5663"
         }
        },
        "paper_bgcolor": "#F5F6F9",
        "plot_bgcolor": "#F5F6F9",
        "template": {
         "data": {
          "bar": [
           {
            "error_x": {
             "color": "#2a3f5f"
            },
            "error_y": {
             "color": "#2a3f5f"
            },
            "marker": {
             "line": {
              "color": "#E5ECF6",
              "width": 0.5
             },
             "pattern": {
              "fillmode": "overlay",
              "size": 10,
              "solidity": 0.2
             }
            },
            "type": "bar"
           }
          ],
          "barpolar": [
           {
            "marker": {
             "line": {
              "color": "#E5ECF6",
              "width": 0.5
             },
             "pattern": {
              "fillmode": "overlay",
              "size": 10,
              "solidity": 0.2
             }
            },
            "type": "barpolar"
           }
          ],
          "carpet": [
           {
            "aaxis": {
             "endlinecolor": "#2a3f5f",
             "gridcolor": "white",
             "linecolor": "white",
             "minorgridcolor": "white",
             "startlinecolor": "#2a3f5f"
            },
            "baxis": {
             "endlinecolor": "#2a3f5f",
             "gridcolor": "white",
             "linecolor": "white",
             "minorgridcolor": "white",
             "startlinecolor": "#2a3f5f"
            },
            "type": "carpet"
           }
          ],
          "choropleth": [
           {
            "colorbar": {
             "outlinewidth": 0,
             "ticks": ""
            },
            "type": "choropleth"
           }
          ],
          "contour": [
           {
            "colorbar": {
             "outlinewidth": 0,
             "ticks": ""
            },
            "colorscale": [
             [
              0,
              "#0d0887"
             ],
             [
              0.1111111111111111,
              "#46039f"
             ],
             [
              0.2222222222222222,
              "#7201a8"
             ],
             [
              0.3333333333333333,
              "#9c179e"
             ],
             [
              0.4444444444444444,
              "#bd3786"
             ],
             [
              0.5555555555555556,
              "#d8576b"
             ],
             [
              0.6666666666666666,
              "#ed7953"
             ],
             [
              0.7777777777777778,
              "#fb9f3a"
             ],
             [
              0.8888888888888888,
              "#fdca26"
             ],
             [
              1,
              "#f0f921"
             ]
            ],
            "type": "contour"
           }
          ],
          "contourcarpet": [
           {
            "colorbar": {
             "outlinewidth": 0,
             "ticks": ""
            },
            "type": "contourcarpet"
           }
          ],
          "heatmap": [
           {
            "colorbar": {
             "outlinewidth": 0,
             "ticks": ""
            },
            "colorscale": [
             [
              0,
              "#0d0887"
             ],
             [
              0.1111111111111111,
              "#46039f"
             ],
             [
              0.2222222222222222,
              "#7201a8"
             ],
             [
              0.3333333333333333,
              "#9c179e"
             ],
             [
              0.4444444444444444,
              "#bd3786"
             ],
             [
              0.5555555555555556,
              "#d8576b"
             ],
             [
              0.6666666666666666,
              "#ed7953"
             ],
             [
              0.7777777777777778,
              "#fb9f3a"
             ],
             [
              0.8888888888888888,
              "#fdca26"
             ],
             [
              1,
              "#f0f921"
             ]
            ],
            "type": "heatmap"
           }
          ],
          "heatmapgl": [
           {
            "colorbar": {
             "outlinewidth": 0,
             "ticks": ""
            },
            "colorscale": [
             [
              0,
              "#0d0887"
             ],
             [
              0.1111111111111111,
              "#46039f"
             ],
             [
              0.2222222222222222,
              "#7201a8"
             ],
             [
              0.3333333333333333,
              "#9c179e"
             ],
             [
              0.4444444444444444,
              "#bd3786"
             ],
             [
              0.5555555555555556,
              "#d8576b"
             ],
             [
              0.6666666666666666,
              "#ed7953"
             ],
             [
              0.7777777777777778,
              "#fb9f3a"
             ],
             [
              0.8888888888888888,
              "#fdca26"
             ],
             [
              1,
              "#f0f921"
             ]
            ],
            "type": "heatmapgl"
           }
          ],
          "histogram": [
           {
            "marker": {
             "pattern": {
              "fillmode": "overlay",
              "size": 10,
              "solidity": 0.2
             }
            },
            "type": "histogram"
           }
          ],
          "histogram2d": [
           {
            "colorbar": {
             "outlinewidth": 0,
             "ticks": ""
            },
            "colorscale": [
             [
              0,
              "#0d0887"
             ],
             [
              0.1111111111111111,
              "#46039f"
             ],
             [
              0.2222222222222222,
              "#7201a8"
             ],
             [
              0.3333333333333333,
              "#9c179e"
             ],
             [
              0.4444444444444444,
              "#bd3786"
             ],
             [
              0.5555555555555556,
              "#d8576b"
             ],
             [
              0.6666666666666666,
              "#ed7953"
             ],
             [
              0.7777777777777778,
              "#fb9f3a"
             ],
             [
              0.8888888888888888,
              "#fdca26"
             ],
             [
              1,
              "#f0f921"
             ]
            ],
            "type": "histogram2d"
           }
          ],
          "histogram2dcontour": [
           {
            "colorbar": {
             "outlinewidth": 0,
             "ticks": ""
            },
            "colorscale": [
             [
              0,
              "#0d0887"
             ],
             [
              0.1111111111111111,
              "#46039f"
             ],
             [
              0.2222222222222222,
              "#7201a8"
             ],
             [
              0.3333333333333333,
              "#9c179e"
             ],
             [
              0.4444444444444444,
              "#bd3786"
             ],
             [
              0.5555555555555556,
              "#d8576b"
             ],
             [
              0.6666666666666666,
              "#ed7953"
             ],
             [
              0.7777777777777778,
              "#fb9f3a"
             ],
             [
              0.8888888888888888,
              "#fdca26"
             ],
             [
              1,
              "#f0f921"
             ]
            ],
            "type": "histogram2dcontour"
           }
          ],
          "mesh3d": [
           {
            "colorbar": {
             "outlinewidth": 0,
             "ticks": ""
            },
            "type": "mesh3d"
           }
          ],
          "parcoords": [
           {
            "line": {
             "colorbar": {
              "outlinewidth": 0,
              "ticks": ""
             }
            },
            "type": "parcoords"
           }
          ],
          "pie": [
           {
            "automargin": true,
            "type": "pie"
           }
          ],
          "scatter": [
           {
            "marker": {
             "colorbar": {
              "outlinewidth": 0,
              "ticks": ""
             }
            },
            "type": "scatter"
           }
          ],
          "scatter3d": [
           {
            "line": {
             "colorbar": {
              "outlinewidth": 0,
              "ticks": ""
             }
            },
            "marker": {
             "colorbar": {
              "outlinewidth": 0,
              "ticks": ""
             }
            },
            "type": "scatter3d"
           }
          ],
          "scattercarpet": [
           {
            "marker": {
             "colorbar": {
              "outlinewidth": 0,
              "ticks": ""
             }
            },
            "type": "scattercarpet"
           }
          ],
          "scattergeo": [
           {
            "marker": {
             "colorbar": {
              "outlinewidth": 0,
              "ticks": ""
             }
            },
            "type": "scattergeo"
           }
          ],
          "scattergl": [
           {
            "marker": {
             "colorbar": {
              "outlinewidth": 0,
              "ticks": ""
             }
            },
            "type": "scattergl"
           }
          ],
          "scattermapbox": [
           {
            "marker": {
             "colorbar": {
              "outlinewidth": 0,
              "ticks": ""
             }
            },
            "type": "scattermapbox"
           }
          ],
          "scatterpolar": [
           {
            "marker": {
             "colorbar": {
              "outlinewidth": 0,
              "ticks": ""
             }
            },
            "type": "scatterpolar"
           }
          ],
          "scatterpolargl": [
           {
            "marker": {
             "colorbar": {
              "outlinewidth": 0,
              "ticks": ""
             }
            },
            "type": "scatterpolargl"
           }
          ],
          "scatterternary": [
           {
            "marker": {
             "colorbar": {
              "outlinewidth": 0,
              "ticks": ""
             }
            },
            "type": "scatterternary"
           }
          ],
          "surface": [
           {
            "colorbar": {
             "outlinewidth": 0,
             "ticks": ""
            },
            "colorscale": [
             [
              0,
              "#0d0887"
             ],
             [
              0.1111111111111111,
              "#46039f"
             ],
             [
              0.2222222222222222,
              "#7201a8"
             ],
             [
              0.3333333333333333,
              "#9c179e"
             ],
             [
              0.4444444444444444,
              "#bd3786"
             ],
             [
              0.5555555555555556,
              "#d8576b"
             ],
             [
              0.6666666666666666,
              "#ed7953"
             ],
             [
              0.7777777777777778,
              "#fb9f3a"
             ],
             [
              0.8888888888888888,
              "#fdca26"
             ],
             [
              1,
              "#f0f921"
             ]
            ],
            "type": "surface"
           }
          ],
          "table": [
           {
            "cells": {
             "fill": {
              "color": "#EBF0F8"
             },
             "line": {
              "color": "white"
             }
            },
            "header": {
             "fill": {
              "color": "#C8D4E3"
             },
             "line": {
              "color": "white"
             }
            },
            "type": "table"
           }
          ]
         },
         "layout": {
          "annotationdefaults": {
           "arrowcolor": "#2a3f5f",
           "arrowhead": 0,
           "arrowwidth": 1
          },
          "autotypenumbers": "strict",
          "coloraxis": {
           "colorbar": {
            "outlinewidth": 0,
            "ticks": ""
           }
          },
          "colorscale": {
           "diverging": [
            [
             0,
             "#8e0152"
            ],
            [
             0.1,
             "#c51b7d"
            ],
            [
             0.2,
             "#de77ae"
            ],
            [
             0.3,
             "#f1b6da"
            ],
            [
             0.4,
             "#fde0ef"
            ],
            [
             0.5,
             "#f7f7f7"
            ],
            [
             0.6,
             "#e6f5d0"
            ],
            [
             0.7,
             "#b8e186"
            ],
            [
             0.8,
             "#7fbc41"
            ],
            [
             0.9,
             "#4d9221"
            ],
            [
             1,
             "#276419"
            ]
           ],
           "sequential": [
            [
             0,
             "#0d0887"
            ],
            [
             0.1111111111111111,
             "#46039f"
            ],
            [
             0.2222222222222222,
             "#7201a8"
            ],
            [
             0.3333333333333333,
             "#9c179e"
            ],
            [
             0.4444444444444444,
             "#bd3786"
            ],
            [
             0.5555555555555556,
             "#d8576b"
            ],
            [
             0.6666666666666666,
             "#ed7953"
            ],
            [
             0.7777777777777778,
             "#fb9f3a"
            ],
            [
             0.8888888888888888,
             "#fdca26"
            ],
            [
             1,
             "#f0f921"
            ]
           ],
           "sequentialminus": [
            [
             0,
             "#0d0887"
            ],
            [
             0.1111111111111111,
             "#46039f"
            ],
            [
             0.2222222222222222,
             "#7201a8"
            ],
            [
             0.3333333333333333,
             "#9c179e"
            ],
            [
             0.4444444444444444,
             "#bd3786"
            ],
            [
             0.5555555555555556,
             "#d8576b"
            ],
            [
             0.6666666666666666,
             "#ed7953"
            ],
            [
             0.7777777777777778,
             "#fb9f3a"
            ],
            [
             0.8888888888888888,
             "#fdca26"
            ],
            [
             1,
             "#f0f921"
            ]
           ]
          },
          "colorway": [
           "#636efa",
           "#EF553B",
           "#00cc96",
           "#ab63fa",
           "#FFA15A",
           "#19d3f3",
           "#FF6692",
           "#B6E880",
           "#FF97FF",
           "#FECB52"
          ],
          "font": {
           "color": "#2a3f5f"
          },
          "geo": {
           "bgcolor": "white",
           "lakecolor": "white",
           "landcolor": "#E5ECF6",
           "showlakes": true,
           "showland": true,
           "subunitcolor": "white"
          },
          "hoverlabel": {
           "align": "left"
          },
          "hovermode": "closest",
          "mapbox": {
           "style": "light"
          },
          "paper_bgcolor": "white",
          "plot_bgcolor": "#E5ECF6",
          "polar": {
           "angularaxis": {
            "gridcolor": "white",
            "linecolor": "white",
            "ticks": ""
           },
           "bgcolor": "#E5ECF6",
           "radialaxis": {
            "gridcolor": "white",
            "linecolor": "white",
            "ticks": ""
           }
          },
          "scene": {
           "xaxis": {
            "backgroundcolor": "#E5ECF6",
            "gridcolor": "white",
            "gridwidth": 2,
            "linecolor": "white",
            "showbackground": true,
            "ticks": "",
            "zerolinecolor": "white"
           },
           "yaxis": {
            "backgroundcolor": "#E5ECF6",
            "gridcolor": "white",
            "gridwidth": 2,
            "linecolor": "white",
            "showbackground": true,
            "ticks": "",
            "zerolinecolor": "white"
           },
           "zaxis": {
            "backgroundcolor": "#E5ECF6",
            "gridcolor": "white",
            "gridwidth": 2,
            "linecolor": "white",
            "showbackground": true,
            "ticks": "",
            "zerolinecolor": "white"
           }
          },
          "shapedefaults": {
           "line": {
            "color": "#2a3f5f"
           }
          },
          "ternary": {
           "aaxis": {
            "gridcolor": "white",
            "linecolor": "white",
            "ticks": ""
           },
           "baxis": {
            "gridcolor": "white",
            "linecolor": "white",
            "ticks": ""
           },
           "bgcolor": "#E5ECF6",
           "caxis": {
            "gridcolor": "white",
            "linecolor": "white",
            "ticks": ""
           }
          },
          "title": {
           "x": 0.05
          },
          "xaxis": {
           "automargin": true,
           "gridcolor": "white",
           "linecolor": "white",
           "ticks": "",
           "title": {
            "standoff": 15
           },
           "zerolinecolor": "white",
           "zerolinewidth": 2
          },
          "yaxis": {
           "automargin": true,
           "gridcolor": "white",
           "linecolor": "white",
           "ticks": "",
           "title": {
            "standoff": 15
           },
           "zerolinecolor": "white",
           "zerolinewidth": 2
          }
         }
        },
        "title": {
         "font": {
          "color": "#4D5663"
         }
        },
        "xaxis": {
         "gridcolor": "#E1E5ED",
         "showgrid": true,
         "tickfont": {
          "color": "#4D5663"
         },
         "title": {
          "font": {
           "color": "#4D5663"
          },
          "text": ""
         },
         "zerolinecolor": "#E1E5ED"
        },
        "yaxis": {
         "gridcolor": "#E1E5ED",
         "showgrid": true,
         "tickfont": {
          "color": "#4D5663"
         },
         "title": {
          "font": {
           "color": "#4D5663"
          },
          "text": ""
         },
         "zerolinecolor": "#E1E5ED"
        }
       }
      },
      "text/html": [
       "<div>                            <div id=\"6e08fe7b-3777-4e4c-90d4-5d0cbef96f1c\" class=\"plotly-graph-div\" style=\"height:525px; width:100%;\"></div>            <script type=\"text/javascript\">                require([\"plotly\"], function(Plotly) {                    window.PLOTLYENV=window.PLOTLYENV || {};\n",
       "                    window.PLOTLYENV.BASE_URL='https://plotly.com';                                    if (document.getElementById(\"6e08fe7b-3777-4e4c-90d4-5d0cbef96f1c\")) {                    Plotly.newPlot(                        \"6e08fe7b-3777-4e4c-90d4-5d0cbef96f1c\",                        [{\"line\":{\"color\":\"rgba(255, 153, 51, 1.0)\",\"dash\":\"solid\",\"shape\":\"linear\",\"width\":1.3},\"marker\":{\"size\":10,\"symbol\":\"circle\"},\"mode\":\"markers\",\"name\":\"B\",\"text\":\"\",\"x\":[0.2540205165143539,0.21018287468404354,-1.417366523418028,1.4355964054891057,0.6438156084526279,-0.48992682332332516,2.089603407589297,-0.24037244272897193,0.22741612429678598,-0.43388743074207914,-0.17474693590151122,-0.3378269321122739,-0.2872816214010255,0.09021167266536759,1.9916614315099455,-0.9203501904153832,1.9932576734555514,1.190820979890536,0.7591670480729559,-0.9322613470150776,-0.04972199823331805,1.2685856210555648,1.5879259973556699,-0.567128573474692,-2.1942346439385063,-0.4559241878544287,1.0321820388276353,-1.2718987011182359,-1.2386551206807364,-2.194211747720904,-0.5258492859793686,-0.6653282837542511,-1.3988028138784063,-0.07260478095047099,-0.28642094085208936,-0.11457773635910108,-0.1095433105850815,0.9750875884483519,0.8374465307982316,-0.739274852671829,0.3157117587684143,-0.1715446808230524,-1.941469789403776,-0.8593008608200065,1.0567482570657265,-1.9320398455863936,0.2594822932774328,-0.39301308706656246,0.4491389194589242,-0.5943834464300685,-1.6205742737788318,0.6117521209297304,-1.276327824115349,0.4086695638455752,0.24793326266283466,-0.4612398992086352,1.472207033963178,-1.8432937178256399,0.331853571779341,-0.14425338478943614,-0.05413105300153619,2.319362187084283,0.7674645302272454,0.6023945964221519,0.09769810203503486,1.4595133621459795,0.5577801094920947,-0.8161165385921015,-0.20283106200073736,1.0814223714895106,-0.9390927760332309,-0.7014055677825115,-0.26483222934057704,0.2563524393956336,1.066269844507545,0.8834240698541156,-0.7106341632582636,-0.4401823764634333,0.9603374413953691,-0.04706661324449886,-0.32082510121876906,0.22690521984675313,0.5580555659912436,-0.097048566746413,1.7196848303305123,0.1334024173581546,-1.3154871382832112,-0.9863034014659603,-1.0446233980609223,2.755130001029382,-0.19396822225672392,-1.0333488219739275,0.37272339170574764,1.0054492152613619,1.266420601741147,-2.1026940491604966,0.5587347491572473,-1.26564189608967,1.2365667571795178,0.4093624285717989],\"y\":[1.160825800152867,0.49616468992605606,0.07383583694545158,0.2327336021717852,-0.5017316173158699,0.8035594113553268,-0.28453246467477783,-0.915122676714964,-1.0386383838201863,-1.9952568867431326,0.09036591505575159,1.155948073431354,-0.42889040391045663,-1.2389704786006113,0.48118016142863945,1.0226046516596001,0.7398795059007436,0.37427404601920805,-1.7494103233808207,-0.9193506297259831,0.8887150557163451,0.9103962137297099,0.8947662724723978,0.06129563149484737,0.12002325193346794,-0.676796697112064,0.06093394366571922,-0.5640148151417872,0.81707423120743,0.6769766088966667,1.0441711359096393,0.8152504059983663,-0.39786853228590585,0.6599657173835193,0.5442907815797696,-0.2911291866765822,0.25500617713030627,-0.8331171412221349,-0.8620206840215854,0.04307721553350601,-1.215724201505668,0.12782065868375267,-2.145446215905343,-1.2319037363163725,-0.45930560794346414,-0.21250766872033242,-0.39804764478120985,-1.007422616587833,-0.9847119868129514,0.561732278632458,-1.14933123553313,1.6418957813050432,-1.2876584947792657,-0.03539282053918007,1.362381345433245,-0.6291386847202808,1.898930581889669,-0.6149912505025651,2.3034710611983304,-0.21226266974932004,-0.44847316876586585,-0.85303319669474,0.39684829882784267,-0.39090798457724035,1.3631512954306748,0.38249503712678984,-0.7742515439820427,-1.203847854965608,1.0115904667778681,0.3616426794426263,1.4846748175633453,0.9654302865010991,1.4562869848628681,-0.8177914063638103,-0.2730370368057006,0.6358807484449549,-0.7820612964596657,0.29823457797888253,0.39283832766839666,0.5285082098876401,1.3226836756728508,1.6636775870661122,0.5170672228134581,0.824798069948975,-0.46265991994032685,-0.10433027741652127,0.2690776010702887,1.3276291696627414,1.4619005839703703,0.06670553461973262,1.2367949690978866,-1.6728464542712906,0.41956646947819315,1.0213475908554128,1.4010211872247769,0.7057004386030941,-0.8740541643155307,-0.08067153622956262,-0.8096141021027465,1.2860139723173836],\"type\":\"scatter\"}],                        {\"legend\":{\"bgcolor\":\"#F5F6F9\",\"font\":{\"color\":\"#4D5663\"}},\"paper_bgcolor\":\"#F5F6F9\",\"plot_bgcolor\":\"#F5F6F9\",\"template\":{\"data\":{\"barpolar\":[{\"marker\":{\"line\":{\"color\":\"#E5ECF6\",\"width\":0.5},\"pattern\":{\"fillmode\":\"overlay\",\"size\":10,\"solidity\":0.2}},\"type\":\"barpolar\"}],\"bar\":[{\"error_x\":{\"color\":\"#2a3f5f\"},\"error_y\":{\"color\":\"#2a3f5f\"},\"marker\":{\"line\":{\"color\":\"#E5ECF6\",\"width\":0.5},\"pattern\":{\"fillmode\":\"overlay\",\"size\":10,\"solidity\":0.2}},\"type\":\"bar\"}],\"carpet\":[{\"aaxis\":{\"endlinecolor\":\"#2a3f5f\",\"gridcolor\":\"white\",\"linecolor\":\"white\",\"minorgridcolor\":\"white\",\"startlinecolor\":\"#2a3f5f\"},\"baxis\":{\"endlinecolor\":\"#2a3f5f\",\"gridcolor\":\"white\",\"linecolor\":\"white\",\"minorgridcolor\":\"white\",\"startlinecolor\":\"#2a3f5f\"},\"type\":\"carpet\"}],\"choropleth\":[{\"colorbar\":{\"outlinewidth\":0,\"ticks\":\"\"},\"type\":\"choropleth\"}],\"contourcarpet\":[{\"colorbar\":{\"outlinewidth\":0,\"ticks\":\"\"},\"type\":\"contourcarpet\"}],\"contour\":[{\"colorbar\":{\"outlinewidth\":0,\"ticks\":\"\"},\"colorscale\":[[0.0,\"#0d0887\"],[0.1111111111111111,\"#46039f\"],[0.2222222222222222,\"#7201a8\"],[0.3333333333333333,\"#9c179e\"],[0.4444444444444444,\"#bd3786\"],[0.5555555555555556,\"#d8576b\"],[0.6666666666666666,\"#ed7953\"],[0.7777777777777778,\"#fb9f3a\"],[0.8888888888888888,\"#fdca26\"],[1.0,\"#f0f921\"]],\"type\":\"contour\"}],\"heatmapgl\":[{\"colorbar\":{\"outlinewidth\":0,\"ticks\":\"\"},\"colorscale\":[[0.0,\"#0d0887\"],[0.1111111111111111,\"#46039f\"],[0.2222222222222222,\"#7201a8\"],[0.3333333333333333,\"#9c179e\"],[0.4444444444444444,\"#bd3786\"],[0.5555555555555556,\"#d8576b\"],[0.6666666666666666,\"#ed7953\"],[0.7777777777777778,\"#fb9f3a\"],[0.8888888888888888,\"#fdca26\"],[1.0,\"#f0f921\"]],\"type\":\"heatmapgl\"}],\"heatmap\":[{\"colorbar\":{\"outlinewidth\":0,\"ticks\":\"\"},\"colorscale\":[[0.0,\"#0d0887\"],[0.1111111111111111,\"#46039f\"],[0.2222222222222222,\"#7201a8\"],[0.3333333333333333,\"#9c179e\"],[0.4444444444444444,\"#bd3786\"],[0.5555555555555556,\"#d8576b\"],[0.6666666666666666,\"#ed7953\"],[0.7777777777777778,\"#fb9f3a\"],[0.8888888888888888,\"#fdca26\"],[1.0,\"#f0f921\"]],\"type\":\"heatmap\"}],\"histogram2dcontour\":[{\"colorbar\":{\"outlinewidth\":0,\"ticks\":\"\"},\"colorscale\":[[0.0,\"#0d0887\"],[0.1111111111111111,\"#46039f\"],[0.2222222222222222,\"#7201a8\"],[0.3333333333333333,\"#9c179e\"],[0.4444444444444444,\"#bd3786\"],[0.5555555555555556,\"#d8576b\"],[0.6666666666666666,\"#ed7953\"],[0.7777777777777778,\"#fb9f3a\"],[0.8888888888888888,\"#fdca26\"],[1.0,\"#f0f921\"]],\"type\":\"histogram2dcontour\"}],\"histogram2d\":[{\"colorbar\":{\"outlinewidth\":0,\"ticks\":\"\"},\"colorscale\":[[0.0,\"#0d0887\"],[0.1111111111111111,\"#46039f\"],[0.2222222222222222,\"#7201a8\"],[0.3333333333333333,\"#9c179e\"],[0.4444444444444444,\"#bd3786\"],[0.5555555555555556,\"#d8576b\"],[0.6666666666666666,\"#ed7953\"],[0.7777777777777778,\"#fb9f3a\"],[0.8888888888888888,\"#fdca26\"],[1.0,\"#f0f921\"]],\"type\":\"histogram2d\"}],\"histogram\":[{\"marker\":{\"pattern\":{\"fillmode\":\"overlay\",\"size\":10,\"solidity\":0.2}},\"type\":\"histogram\"}],\"mesh3d\":[{\"colorbar\":{\"outlinewidth\":0,\"ticks\":\"\"},\"type\":\"mesh3d\"}],\"parcoords\":[{\"line\":{\"colorbar\":{\"outlinewidth\":0,\"ticks\":\"\"}},\"type\":\"parcoords\"}],\"pie\":[{\"automargin\":true,\"type\":\"pie\"}],\"scatter3d\":[{\"line\":{\"colorbar\":{\"outlinewidth\":0,\"ticks\":\"\"}},\"marker\":{\"colorbar\":{\"outlinewidth\":0,\"ticks\":\"\"}},\"type\":\"scatter3d\"}],\"scattercarpet\":[{\"marker\":{\"colorbar\":{\"outlinewidth\":0,\"ticks\":\"\"}},\"type\":\"scattercarpet\"}],\"scattergeo\":[{\"marker\":{\"colorbar\":{\"outlinewidth\":0,\"ticks\":\"\"}},\"type\":\"scattergeo\"}],\"scattergl\":[{\"marker\":{\"colorbar\":{\"outlinewidth\":0,\"ticks\":\"\"}},\"type\":\"scattergl\"}],\"scattermapbox\":[{\"marker\":{\"colorbar\":{\"outlinewidth\":0,\"ticks\":\"\"}},\"type\":\"scattermapbox\"}],\"scatterpolargl\":[{\"marker\":{\"colorbar\":{\"outlinewidth\":0,\"ticks\":\"\"}},\"type\":\"scatterpolargl\"}],\"scatterpolar\":[{\"marker\":{\"colorbar\":{\"outlinewidth\":0,\"ticks\":\"\"}},\"type\":\"scatterpolar\"}],\"scatter\":[{\"marker\":{\"colorbar\":{\"outlinewidth\":0,\"ticks\":\"\"}},\"type\":\"scatter\"}],\"scatterternary\":[{\"marker\":{\"colorbar\":{\"outlinewidth\":0,\"ticks\":\"\"}},\"type\":\"scatterternary\"}],\"surface\":[{\"colorbar\":{\"outlinewidth\":0,\"ticks\":\"\"},\"colorscale\":[[0.0,\"#0d0887\"],[0.1111111111111111,\"#46039f\"],[0.2222222222222222,\"#7201a8\"],[0.3333333333333333,\"#9c179e\"],[0.4444444444444444,\"#bd3786\"],[0.5555555555555556,\"#d8576b\"],[0.6666666666666666,\"#ed7953\"],[0.7777777777777778,\"#fb9f3a\"],[0.8888888888888888,\"#fdca26\"],[1.0,\"#f0f921\"]],\"type\":\"surface\"}],\"table\":[{\"cells\":{\"fill\":{\"color\":\"#EBF0F8\"},\"line\":{\"color\":\"white\"}},\"header\":{\"fill\":{\"color\":\"#C8D4E3\"},\"line\":{\"color\":\"white\"}},\"type\":\"table\"}]},\"layout\":{\"annotationdefaults\":{\"arrowcolor\":\"#2a3f5f\",\"arrowhead\":0,\"arrowwidth\":1},\"autotypenumbers\":\"strict\",\"coloraxis\":{\"colorbar\":{\"outlinewidth\":0,\"ticks\":\"\"}},\"colorscale\":{\"diverging\":[[0,\"#8e0152\"],[0.1,\"#c51b7d\"],[0.2,\"#de77ae\"],[0.3,\"#f1b6da\"],[0.4,\"#fde0ef\"],[0.5,\"#f7f7f7\"],[0.6,\"#e6f5d0\"],[0.7,\"#b8e186\"],[0.8,\"#7fbc41\"],[0.9,\"#4d9221\"],[1,\"#276419\"]],\"sequential\":[[0.0,\"#0d0887\"],[0.1111111111111111,\"#46039f\"],[0.2222222222222222,\"#7201a8\"],[0.3333333333333333,\"#9c179e\"],[0.4444444444444444,\"#bd3786\"],[0.5555555555555556,\"#d8576b\"],[0.6666666666666666,\"#ed7953\"],[0.7777777777777778,\"#fb9f3a\"],[0.8888888888888888,\"#fdca26\"],[1.0,\"#f0f921\"]],\"sequentialminus\":[[0.0,\"#0d0887\"],[0.1111111111111111,\"#46039f\"],[0.2222222222222222,\"#7201a8\"],[0.3333333333333333,\"#9c179e\"],[0.4444444444444444,\"#bd3786\"],[0.5555555555555556,\"#d8576b\"],[0.6666666666666666,\"#ed7953\"],[0.7777777777777778,\"#fb9f3a\"],[0.8888888888888888,\"#fdca26\"],[1.0,\"#f0f921\"]]},\"colorway\":[\"#636efa\",\"#EF553B\",\"#00cc96\",\"#ab63fa\",\"#FFA15A\",\"#19d3f3\",\"#FF6692\",\"#B6E880\",\"#FF97FF\",\"#FECB52\"],\"font\":{\"color\":\"#2a3f5f\"},\"geo\":{\"bgcolor\":\"white\",\"lakecolor\":\"white\",\"landcolor\":\"#E5ECF6\",\"showlakes\":true,\"showland\":true,\"subunitcolor\":\"white\"},\"hoverlabel\":{\"align\":\"left\"},\"hovermode\":\"closest\",\"mapbox\":{\"style\":\"light\"},\"paper_bgcolor\":\"white\",\"plot_bgcolor\":\"#E5ECF6\",\"polar\":{\"angularaxis\":{\"gridcolor\":\"white\",\"linecolor\":\"white\",\"ticks\":\"\"},\"bgcolor\":\"#E5ECF6\",\"radialaxis\":{\"gridcolor\":\"white\",\"linecolor\":\"white\",\"ticks\":\"\"}},\"scene\":{\"xaxis\":{\"backgroundcolor\":\"#E5ECF6\",\"gridcolor\":\"white\",\"gridwidth\":2,\"linecolor\":\"white\",\"showbackground\":true,\"ticks\":\"\",\"zerolinecolor\":\"white\"},\"yaxis\":{\"backgroundcolor\":\"#E5ECF6\",\"gridcolor\":\"white\",\"gridwidth\":2,\"linecolor\":\"white\",\"showbackground\":true,\"ticks\":\"\",\"zerolinecolor\":\"white\"},\"zaxis\":{\"backgroundcolor\":\"#E5ECF6\",\"gridcolor\":\"white\",\"gridwidth\":2,\"linecolor\":\"white\",\"showbackground\":true,\"ticks\":\"\",\"zerolinecolor\":\"white\"}},\"shapedefaults\":{\"line\":{\"color\":\"#2a3f5f\"}},\"ternary\":{\"aaxis\":{\"gridcolor\":\"white\",\"linecolor\":\"white\",\"ticks\":\"\"},\"baxis\":{\"gridcolor\":\"white\",\"linecolor\":\"white\",\"ticks\":\"\"},\"bgcolor\":\"#E5ECF6\",\"caxis\":{\"gridcolor\":\"white\",\"linecolor\":\"white\",\"ticks\":\"\"}},\"title\":{\"x\":0.05},\"xaxis\":{\"automargin\":true,\"gridcolor\":\"white\",\"linecolor\":\"white\",\"ticks\":\"\",\"title\":{\"standoff\":15},\"zerolinecolor\":\"white\",\"zerolinewidth\":2},\"yaxis\":{\"automargin\":true,\"gridcolor\":\"white\",\"linecolor\":\"white\",\"ticks\":\"\",\"title\":{\"standoff\":15},\"zerolinecolor\":\"white\",\"zerolinewidth\":2}}},\"title\":{\"font\":{\"color\":\"#4D5663\"}},\"xaxis\":{\"gridcolor\":\"#E1E5ED\",\"showgrid\":true,\"tickfont\":{\"color\":\"#4D5663\"},\"title\":{\"font\":{\"color\":\"#4D5663\"},\"text\":\"\"},\"zerolinecolor\":\"#E1E5ED\"},\"yaxis\":{\"gridcolor\":\"#E1E5ED\",\"showgrid\":true,\"tickfont\":{\"color\":\"#4D5663\"},\"title\":{\"font\":{\"color\":\"#4D5663\"},\"text\":\"\"},\"zerolinecolor\":\"#E1E5ED\"}},                        {\"showLink\": true, \"linkText\": \"Export to plotly.com\", \"plotlyServerURL\": \"https://plotly.com\", \"responsive\": true}                    ).then(function(){\n",
       "                            \n",
       "var gd = document.getElementById('6e08fe7b-3777-4e4c-90d4-5d0cbef96f1c');\n",
       "var x = new MutationObserver(function (mutations, observer) {{\n",
       "        var display = window.getComputedStyle(gd).display;\n",
       "        if (!display || display === 'none') {{\n",
       "            console.log([gd, 'removed!']);\n",
       "            Plotly.purge(gd);\n",
       "            observer.disconnect();\n",
       "        }}\n",
       "}});\n",
       "\n",
       "// Listen for the removal of the full notebook cells\n",
       "var notebookContainer = gd.closest('#notebook-container');\n",
       "if (notebookContainer) {{\n",
       "    x.observe(notebookContainer, {childList: true});\n",
       "}}\n",
       "\n",
       "// Listen for the clearing of the current output cell\n",
       "var outputEl = gd.closest('.output');\n",
       "if (outputEl) {{\n",
       "    x.observe(outputEl, {childList: true});\n",
       "}}\n",
       "\n",
       "                        })                };                });            </script>        </div>"
      ]
     },
     "metadata": {},
     "output_type": "display_data"
    }
   ],
   "source": [
    "df.iplot(kind='scatter',x='A',y='B',mode='markers',size=10)"
   ]
  },
  {
   "cell_type": "markdown",
   "metadata": {},
   "source": [
    "## Bar Plots"
   ]
  },
  {
   "cell_type": "code",
   "execution_count": 26,
   "metadata": {},
   "outputs": [
    {
     "data": {
      "text/html": [
       "<div>\n",
       "<style scoped>\n",
       "    .dataframe tbody tr th:only-of-type {\n",
       "        vertical-align: middle;\n",
       "    }\n",
       "\n",
       "    .dataframe tbody tr th {\n",
       "        vertical-align: top;\n",
       "    }\n",
       "\n",
       "    .dataframe thead th {\n",
       "        text-align: right;\n",
       "    }\n",
       "</style>\n",
       "<table border=\"1\" class=\"dataframe\">\n",
       "  <thead>\n",
       "    <tr style=\"text-align: right;\">\n",
       "      <th></th>\n",
       "      <th>Category</th>\n",
       "      <th>Values</th>\n",
       "    </tr>\n",
       "  </thead>\n",
       "  <tbody>\n",
       "    <tr>\n",
       "      <th>0</th>\n",
       "      <td>A</td>\n",
       "      <td>32</td>\n",
       "    </tr>\n",
       "    <tr>\n",
       "      <th>1</th>\n",
       "      <td>B</td>\n",
       "      <td>43</td>\n",
       "    </tr>\n",
       "    <tr>\n",
       "      <th>2</th>\n",
       "      <td>C</td>\n",
       "      <td>50</td>\n",
       "    </tr>\n",
       "  </tbody>\n",
       "</table>\n",
       "</div>"
      ],
      "text/plain": [
       "  Category  Values\n",
       "0        A      32\n",
       "1        B      43\n",
       "2        C      50"
      ]
     },
     "execution_count": 26,
     "metadata": {},
     "output_type": "execute_result"
    }
   ],
   "source": [
    "df2"
   ]
  },
  {
   "cell_type": "code",
   "execution_count": 25,
   "metadata": {},
   "outputs": [
    {
     "data": {
      "application/vnd.plotly.v1+json": {
       "config": {
        "linkText": "Export to plotly.com",
        "plotlyServerURL": "https://plotly.com",
        "showLink": true
       },
       "data": [
        {
         "marker": {
          "color": "rgba(255, 153, 51, 0.6)",
          "line": {
           "color": "rgba(255, 153, 51, 1.0)",
           "width": 1
          }
         },
         "name": "Values",
         "orientation": "v",
         "text": "",
         "type": "bar",
         "x": [
          "A",
          "B",
          "C"
         ],
         "y": [
          32,
          43,
          50
         ]
        }
       ],
       "layout": {
        "legend": {
         "bgcolor": "#F5F6F9",
         "font": {
          "color": "#4D5663"
         }
        },
        "paper_bgcolor": "#F5F6F9",
        "plot_bgcolor": "#F5F6F9",
        "template": {
         "data": {
          "bar": [
           {
            "error_x": {
             "color": "#2a3f5f"
            },
            "error_y": {
             "color": "#2a3f5f"
            },
            "marker": {
             "line": {
              "color": "#E5ECF6",
              "width": 0.5
             },
             "pattern": {
              "fillmode": "overlay",
              "size": 10,
              "solidity": 0.2
             }
            },
            "type": "bar"
           }
          ],
          "barpolar": [
           {
            "marker": {
             "line": {
              "color": "#E5ECF6",
              "width": 0.5
             },
             "pattern": {
              "fillmode": "overlay",
              "size": 10,
              "solidity": 0.2
             }
            },
            "type": "barpolar"
           }
          ],
          "carpet": [
           {
            "aaxis": {
             "endlinecolor": "#2a3f5f",
             "gridcolor": "white",
             "linecolor": "white",
             "minorgridcolor": "white",
             "startlinecolor": "#2a3f5f"
            },
            "baxis": {
             "endlinecolor": "#2a3f5f",
             "gridcolor": "white",
             "linecolor": "white",
             "minorgridcolor": "white",
             "startlinecolor": "#2a3f5f"
            },
            "type": "carpet"
           }
          ],
          "choropleth": [
           {
            "colorbar": {
             "outlinewidth": 0,
             "ticks": ""
            },
            "type": "choropleth"
           }
          ],
          "contour": [
           {
            "colorbar": {
             "outlinewidth": 0,
             "ticks": ""
            },
            "colorscale": [
             [
              0,
              "#0d0887"
             ],
             [
              0.1111111111111111,
              "#46039f"
             ],
             [
              0.2222222222222222,
              "#7201a8"
             ],
             [
              0.3333333333333333,
              "#9c179e"
             ],
             [
              0.4444444444444444,
              "#bd3786"
             ],
             [
              0.5555555555555556,
              "#d8576b"
             ],
             [
              0.6666666666666666,
              "#ed7953"
             ],
             [
              0.7777777777777778,
              "#fb9f3a"
             ],
             [
              0.8888888888888888,
              "#fdca26"
             ],
             [
              1,
              "#f0f921"
             ]
            ],
            "type": "contour"
           }
          ],
          "contourcarpet": [
           {
            "colorbar": {
             "outlinewidth": 0,
             "ticks": ""
            },
            "type": "contourcarpet"
           }
          ],
          "heatmap": [
           {
            "colorbar": {
             "outlinewidth": 0,
             "ticks": ""
            },
            "colorscale": [
             [
              0,
              "#0d0887"
             ],
             [
              0.1111111111111111,
              "#46039f"
             ],
             [
              0.2222222222222222,
              "#7201a8"
             ],
             [
              0.3333333333333333,
              "#9c179e"
             ],
             [
              0.4444444444444444,
              "#bd3786"
             ],
             [
              0.5555555555555556,
              "#d8576b"
             ],
             [
              0.6666666666666666,
              "#ed7953"
             ],
             [
              0.7777777777777778,
              "#fb9f3a"
             ],
             [
              0.8888888888888888,
              "#fdca26"
             ],
             [
              1,
              "#f0f921"
             ]
            ],
            "type": "heatmap"
           }
          ],
          "heatmapgl": [
           {
            "colorbar": {
             "outlinewidth": 0,
             "ticks": ""
            },
            "colorscale": [
             [
              0,
              "#0d0887"
             ],
             [
              0.1111111111111111,
              "#46039f"
             ],
             [
              0.2222222222222222,
              "#7201a8"
             ],
             [
              0.3333333333333333,
              "#9c179e"
             ],
             [
              0.4444444444444444,
              "#bd3786"
             ],
             [
              0.5555555555555556,
              "#d8576b"
             ],
             [
              0.6666666666666666,
              "#ed7953"
             ],
             [
              0.7777777777777778,
              "#fb9f3a"
             ],
             [
              0.8888888888888888,
              "#fdca26"
             ],
             [
              1,
              "#f0f921"
             ]
            ],
            "type": "heatmapgl"
           }
          ],
          "histogram": [
           {
            "marker": {
             "pattern": {
              "fillmode": "overlay",
              "size": 10,
              "solidity": 0.2
             }
            },
            "type": "histogram"
           }
          ],
          "histogram2d": [
           {
            "colorbar": {
             "outlinewidth": 0,
             "ticks": ""
            },
            "colorscale": [
             [
              0,
              "#0d0887"
             ],
             [
              0.1111111111111111,
              "#46039f"
             ],
             [
              0.2222222222222222,
              "#7201a8"
             ],
             [
              0.3333333333333333,
              "#9c179e"
             ],
             [
              0.4444444444444444,
              "#bd3786"
             ],
             [
              0.5555555555555556,
              "#d8576b"
             ],
             [
              0.6666666666666666,
              "#ed7953"
             ],
             [
              0.7777777777777778,
              "#fb9f3a"
             ],
             [
              0.8888888888888888,
              "#fdca26"
             ],
             [
              1,
              "#f0f921"
             ]
            ],
            "type": "histogram2d"
           }
          ],
          "histogram2dcontour": [
           {
            "colorbar": {
             "outlinewidth": 0,
             "ticks": ""
            },
            "colorscale": [
             [
              0,
              "#0d0887"
             ],
             [
              0.1111111111111111,
              "#46039f"
             ],
             [
              0.2222222222222222,
              "#7201a8"
             ],
             [
              0.3333333333333333,
              "#9c179e"
             ],
             [
              0.4444444444444444,
              "#bd3786"
             ],
             [
              0.5555555555555556,
              "#d8576b"
             ],
             [
              0.6666666666666666,
              "#ed7953"
             ],
             [
              0.7777777777777778,
              "#fb9f3a"
             ],
             [
              0.8888888888888888,
              "#fdca26"
             ],
             [
              1,
              "#f0f921"
             ]
            ],
            "type": "histogram2dcontour"
           }
          ],
          "mesh3d": [
           {
            "colorbar": {
             "outlinewidth": 0,
             "ticks": ""
            },
            "type": "mesh3d"
           }
          ],
          "parcoords": [
           {
            "line": {
             "colorbar": {
              "outlinewidth": 0,
              "ticks": ""
             }
            },
            "type": "parcoords"
           }
          ],
          "pie": [
           {
            "automargin": true,
            "type": "pie"
           }
          ],
          "scatter": [
           {
            "marker": {
             "colorbar": {
              "outlinewidth": 0,
              "ticks": ""
             }
            },
            "type": "scatter"
           }
          ],
          "scatter3d": [
           {
            "line": {
             "colorbar": {
              "outlinewidth": 0,
              "ticks": ""
             }
            },
            "marker": {
             "colorbar": {
              "outlinewidth": 0,
              "ticks": ""
             }
            },
            "type": "scatter3d"
           }
          ],
          "scattercarpet": [
           {
            "marker": {
             "colorbar": {
              "outlinewidth": 0,
              "ticks": ""
             }
            },
            "type": "scattercarpet"
           }
          ],
          "scattergeo": [
           {
            "marker": {
             "colorbar": {
              "outlinewidth": 0,
              "ticks": ""
             }
            },
            "type": "scattergeo"
           }
          ],
          "scattergl": [
           {
            "marker": {
             "colorbar": {
              "outlinewidth": 0,
              "ticks": ""
             }
            },
            "type": "scattergl"
           }
          ],
          "scattermapbox": [
           {
            "marker": {
             "colorbar": {
              "outlinewidth": 0,
              "ticks": ""
             }
            },
            "type": "scattermapbox"
           }
          ],
          "scatterpolar": [
           {
            "marker": {
             "colorbar": {
              "outlinewidth": 0,
              "ticks": ""
             }
            },
            "type": "scatterpolar"
           }
          ],
          "scatterpolargl": [
           {
            "marker": {
             "colorbar": {
              "outlinewidth": 0,
              "ticks": ""
             }
            },
            "type": "scatterpolargl"
           }
          ],
          "scatterternary": [
           {
            "marker": {
             "colorbar": {
              "outlinewidth": 0,
              "ticks": ""
             }
            },
            "type": "scatterternary"
           }
          ],
          "surface": [
           {
            "colorbar": {
             "outlinewidth": 0,
             "ticks": ""
            },
            "colorscale": [
             [
              0,
              "#0d0887"
             ],
             [
              0.1111111111111111,
              "#46039f"
             ],
             [
              0.2222222222222222,
              "#7201a8"
             ],
             [
              0.3333333333333333,
              "#9c179e"
             ],
             [
              0.4444444444444444,
              "#bd3786"
             ],
             [
              0.5555555555555556,
              "#d8576b"
             ],
             [
              0.6666666666666666,
              "#ed7953"
             ],
             [
              0.7777777777777778,
              "#fb9f3a"
             ],
             [
              0.8888888888888888,
              "#fdca26"
             ],
             [
              1,
              "#f0f921"
             ]
            ],
            "type": "surface"
           }
          ],
          "table": [
           {
            "cells": {
             "fill": {
              "color": "#EBF0F8"
             },
             "line": {
              "color": "white"
             }
            },
            "header": {
             "fill": {
              "color": "#C8D4E3"
             },
             "line": {
              "color": "white"
             }
            },
            "type": "table"
           }
          ]
         },
         "layout": {
          "annotationdefaults": {
           "arrowcolor": "#2a3f5f",
           "arrowhead": 0,
           "arrowwidth": 1
          },
          "autotypenumbers": "strict",
          "coloraxis": {
           "colorbar": {
            "outlinewidth": 0,
            "ticks": ""
           }
          },
          "colorscale": {
           "diverging": [
            [
             0,
             "#8e0152"
            ],
            [
             0.1,
             "#c51b7d"
            ],
            [
             0.2,
             "#de77ae"
            ],
            [
             0.3,
             "#f1b6da"
            ],
            [
             0.4,
             "#fde0ef"
            ],
            [
             0.5,
             "#f7f7f7"
            ],
            [
             0.6,
             "#e6f5d0"
            ],
            [
             0.7,
             "#b8e186"
            ],
            [
             0.8,
             "#7fbc41"
            ],
            [
             0.9,
             "#4d9221"
            ],
            [
             1,
             "#276419"
            ]
           ],
           "sequential": [
            [
             0,
             "#0d0887"
            ],
            [
             0.1111111111111111,
             "#46039f"
            ],
            [
             0.2222222222222222,
             "#7201a8"
            ],
            [
             0.3333333333333333,
             "#9c179e"
            ],
            [
             0.4444444444444444,
             "#bd3786"
            ],
            [
             0.5555555555555556,
             "#d8576b"
            ],
            [
             0.6666666666666666,
             "#ed7953"
            ],
            [
             0.7777777777777778,
             "#fb9f3a"
            ],
            [
             0.8888888888888888,
             "#fdca26"
            ],
            [
             1,
             "#f0f921"
            ]
           ],
           "sequentialminus": [
            [
             0,
             "#0d0887"
            ],
            [
             0.1111111111111111,
             "#46039f"
            ],
            [
             0.2222222222222222,
             "#7201a8"
            ],
            [
             0.3333333333333333,
             "#9c179e"
            ],
            [
             0.4444444444444444,
             "#bd3786"
            ],
            [
             0.5555555555555556,
             "#d8576b"
            ],
            [
             0.6666666666666666,
             "#ed7953"
            ],
            [
             0.7777777777777778,
             "#fb9f3a"
            ],
            [
             0.8888888888888888,
             "#fdca26"
            ],
            [
             1,
             "#f0f921"
            ]
           ]
          },
          "colorway": [
           "#636efa",
           "#EF553B",
           "#00cc96",
           "#ab63fa",
           "#FFA15A",
           "#19d3f3",
           "#FF6692",
           "#B6E880",
           "#FF97FF",
           "#FECB52"
          ],
          "font": {
           "color": "#2a3f5f"
          },
          "geo": {
           "bgcolor": "white",
           "lakecolor": "white",
           "landcolor": "#E5ECF6",
           "showlakes": true,
           "showland": true,
           "subunitcolor": "white"
          },
          "hoverlabel": {
           "align": "left"
          },
          "hovermode": "closest",
          "mapbox": {
           "style": "light"
          },
          "paper_bgcolor": "white",
          "plot_bgcolor": "#E5ECF6",
          "polar": {
           "angularaxis": {
            "gridcolor": "white",
            "linecolor": "white",
            "ticks": ""
           },
           "bgcolor": "#E5ECF6",
           "radialaxis": {
            "gridcolor": "white",
            "linecolor": "white",
            "ticks": ""
           }
          },
          "scene": {
           "xaxis": {
            "backgroundcolor": "#E5ECF6",
            "gridcolor": "white",
            "gridwidth": 2,
            "linecolor": "white",
            "showbackground": true,
            "ticks": "",
            "zerolinecolor": "white"
           },
           "yaxis": {
            "backgroundcolor": "#E5ECF6",
            "gridcolor": "white",
            "gridwidth": 2,
            "linecolor": "white",
            "showbackground": true,
            "ticks": "",
            "zerolinecolor": "white"
           },
           "zaxis": {
            "backgroundcolor": "#E5ECF6",
            "gridcolor": "white",
            "gridwidth": 2,
            "linecolor": "white",
            "showbackground": true,
            "ticks": "",
            "zerolinecolor": "white"
           }
          },
          "shapedefaults": {
           "line": {
            "color": "#2a3f5f"
           }
          },
          "ternary": {
           "aaxis": {
            "gridcolor": "white",
            "linecolor": "white",
            "ticks": ""
           },
           "baxis": {
            "gridcolor": "white",
            "linecolor": "white",
            "ticks": ""
           },
           "bgcolor": "#E5ECF6",
           "caxis": {
            "gridcolor": "white",
            "linecolor": "white",
            "ticks": ""
           }
          },
          "title": {
           "x": 0.05
          },
          "xaxis": {
           "automargin": true,
           "gridcolor": "white",
           "linecolor": "white",
           "ticks": "",
           "title": {
            "standoff": 15
           },
           "zerolinecolor": "white",
           "zerolinewidth": 2
          },
          "yaxis": {
           "automargin": true,
           "gridcolor": "white",
           "linecolor": "white",
           "ticks": "",
           "title": {
            "standoff": 15
           },
           "zerolinecolor": "white",
           "zerolinewidth": 2
          }
         }
        },
        "title": {
         "font": {
          "color": "#4D5663"
         }
        },
        "xaxis": {
         "gridcolor": "#E1E5ED",
         "showgrid": true,
         "tickfont": {
          "color": "#4D5663"
         },
         "title": {
          "font": {
           "color": "#4D5663"
          },
          "text": ""
         },
         "zerolinecolor": "#E1E5ED"
        },
        "yaxis": {
         "gridcolor": "#E1E5ED",
         "showgrid": true,
         "tickfont": {
          "color": "#4D5663"
         },
         "title": {
          "font": {
           "color": "#4D5663"
          },
          "text": ""
         },
         "zerolinecolor": "#E1E5ED"
        }
       }
      },
      "text/html": [
       "<div>                            <div id=\"036e4444-8db5-43e6-ab6e-8df7feb0d020\" class=\"plotly-graph-div\" style=\"height:525px; width:100%;\"></div>            <script type=\"text/javascript\">                require([\"plotly\"], function(Plotly) {                    window.PLOTLYENV=window.PLOTLYENV || {};\n",
       "                    window.PLOTLYENV.BASE_URL='https://plotly.com';                                    if (document.getElementById(\"036e4444-8db5-43e6-ab6e-8df7feb0d020\")) {                    Plotly.newPlot(                        \"036e4444-8db5-43e6-ab6e-8df7feb0d020\",                        [{\"marker\":{\"color\":\"rgba(255, 153, 51, 0.6)\",\"line\":{\"color\":\"rgba(255, 153, 51, 1.0)\",\"width\":1}},\"name\":\"Values\",\"orientation\":\"v\",\"text\":\"\",\"x\":[\"A\",\"B\",\"C\"],\"y\":[32,43,50],\"type\":\"bar\"}],                        {\"legend\":{\"bgcolor\":\"#F5F6F9\",\"font\":{\"color\":\"#4D5663\"}},\"paper_bgcolor\":\"#F5F6F9\",\"plot_bgcolor\":\"#F5F6F9\",\"template\":{\"data\":{\"barpolar\":[{\"marker\":{\"line\":{\"color\":\"#E5ECF6\",\"width\":0.5},\"pattern\":{\"fillmode\":\"overlay\",\"size\":10,\"solidity\":0.2}},\"type\":\"barpolar\"}],\"bar\":[{\"error_x\":{\"color\":\"#2a3f5f\"},\"error_y\":{\"color\":\"#2a3f5f\"},\"marker\":{\"line\":{\"color\":\"#E5ECF6\",\"width\":0.5},\"pattern\":{\"fillmode\":\"overlay\",\"size\":10,\"solidity\":0.2}},\"type\":\"bar\"}],\"carpet\":[{\"aaxis\":{\"endlinecolor\":\"#2a3f5f\",\"gridcolor\":\"white\",\"linecolor\":\"white\",\"minorgridcolor\":\"white\",\"startlinecolor\":\"#2a3f5f\"},\"baxis\":{\"endlinecolor\":\"#2a3f5f\",\"gridcolor\":\"white\",\"linecolor\":\"white\",\"minorgridcolor\":\"white\",\"startlinecolor\":\"#2a3f5f\"},\"type\":\"carpet\"}],\"choropleth\":[{\"colorbar\":{\"outlinewidth\":0,\"ticks\":\"\"},\"type\":\"choropleth\"}],\"contourcarpet\":[{\"colorbar\":{\"outlinewidth\":0,\"ticks\":\"\"},\"type\":\"contourcarpet\"}],\"contour\":[{\"colorbar\":{\"outlinewidth\":0,\"ticks\":\"\"},\"colorscale\":[[0.0,\"#0d0887\"],[0.1111111111111111,\"#46039f\"],[0.2222222222222222,\"#7201a8\"],[0.3333333333333333,\"#9c179e\"],[0.4444444444444444,\"#bd3786\"],[0.5555555555555556,\"#d8576b\"],[0.6666666666666666,\"#ed7953\"],[0.7777777777777778,\"#fb9f3a\"],[0.8888888888888888,\"#fdca26\"],[1.0,\"#f0f921\"]],\"type\":\"contour\"}],\"heatmapgl\":[{\"colorbar\":{\"outlinewidth\":0,\"ticks\":\"\"},\"colorscale\":[[0.0,\"#0d0887\"],[0.1111111111111111,\"#46039f\"],[0.2222222222222222,\"#7201a8\"],[0.3333333333333333,\"#9c179e\"],[0.4444444444444444,\"#bd3786\"],[0.5555555555555556,\"#d8576b\"],[0.6666666666666666,\"#ed7953\"],[0.7777777777777778,\"#fb9f3a\"],[0.8888888888888888,\"#fdca26\"],[1.0,\"#f0f921\"]],\"type\":\"heatmapgl\"}],\"heatmap\":[{\"colorbar\":{\"outlinewidth\":0,\"ticks\":\"\"},\"colorscale\":[[0.0,\"#0d0887\"],[0.1111111111111111,\"#46039f\"],[0.2222222222222222,\"#7201a8\"],[0.3333333333333333,\"#9c179e\"],[0.4444444444444444,\"#bd3786\"],[0.5555555555555556,\"#d8576b\"],[0.6666666666666666,\"#ed7953\"],[0.7777777777777778,\"#fb9f3a\"],[0.8888888888888888,\"#fdca26\"],[1.0,\"#f0f921\"]],\"type\":\"heatmap\"}],\"histogram2dcontour\":[{\"colorbar\":{\"outlinewidth\":0,\"ticks\":\"\"},\"colorscale\":[[0.0,\"#0d0887\"],[0.1111111111111111,\"#46039f\"],[0.2222222222222222,\"#7201a8\"],[0.3333333333333333,\"#9c179e\"],[0.4444444444444444,\"#bd3786\"],[0.5555555555555556,\"#d8576b\"],[0.6666666666666666,\"#ed7953\"],[0.7777777777777778,\"#fb9f3a\"],[0.8888888888888888,\"#fdca26\"],[1.0,\"#f0f921\"]],\"type\":\"histogram2dcontour\"}],\"histogram2d\":[{\"colorbar\":{\"outlinewidth\":0,\"ticks\":\"\"},\"colorscale\":[[0.0,\"#0d0887\"],[0.1111111111111111,\"#46039f\"],[0.2222222222222222,\"#7201a8\"],[0.3333333333333333,\"#9c179e\"],[0.4444444444444444,\"#bd3786\"],[0.5555555555555556,\"#d8576b\"],[0.6666666666666666,\"#ed7953\"],[0.7777777777777778,\"#fb9f3a\"],[0.8888888888888888,\"#fdca26\"],[1.0,\"#f0f921\"]],\"type\":\"histogram2d\"}],\"histogram\":[{\"marker\":{\"pattern\":{\"fillmode\":\"overlay\",\"size\":10,\"solidity\":0.2}},\"type\":\"histogram\"}],\"mesh3d\":[{\"colorbar\":{\"outlinewidth\":0,\"ticks\":\"\"},\"type\":\"mesh3d\"}],\"parcoords\":[{\"line\":{\"colorbar\":{\"outlinewidth\":0,\"ticks\":\"\"}},\"type\":\"parcoords\"}],\"pie\":[{\"automargin\":true,\"type\":\"pie\"}],\"scatter3d\":[{\"line\":{\"colorbar\":{\"outlinewidth\":0,\"ticks\":\"\"}},\"marker\":{\"colorbar\":{\"outlinewidth\":0,\"ticks\":\"\"}},\"type\":\"scatter3d\"}],\"scattercarpet\":[{\"marker\":{\"colorbar\":{\"outlinewidth\":0,\"ticks\":\"\"}},\"type\":\"scattercarpet\"}],\"scattergeo\":[{\"marker\":{\"colorbar\":{\"outlinewidth\":0,\"ticks\":\"\"}},\"type\":\"scattergeo\"}],\"scattergl\":[{\"marker\":{\"colorbar\":{\"outlinewidth\":0,\"ticks\":\"\"}},\"type\":\"scattergl\"}],\"scattermapbox\":[{\"marker\":{\"colorbar\":{\"outlinewidth\":0,\"ticks\":\"\"}},\"type\":\"scattermapbox\"}],\"scatterpolargl\":[{\"marker\":{\"colorbar\":{\"outlinewidth\":0,\"ticks\":\"\"}},\"type\":\"scatterpolargl\"}],\"scatterpolar\":[{\"marker\":{\"colorbar\":{\"outlinewidth\":0,\"ticks\":\"\"}},\"type\":\"scatterpolar\"}],\"scatter\":[{\"marker\":{\"colorbar\":{\"outlinewidth\":0,\"ticks\":\"\"}},\"type\":\"scatter\"}],\"scatterternary\":[{\"marker\":{\"colorbar\":{\"outlinewidth\":0,\"ticks\":\"\"}},\"type\":\"scatterternary\"}],\"surface\":[{\"colorbar\":{\"outlinewidth\":0,\"ticks\":\"\"},\"colorscale\":[[0.0,\"#0d0887\"],[0.1111111111111111,\"#46039f\"],[0.2222222222222222,\"#7201a8\"],[0.3333333333333333,\"#9c179e\"],[0.4444444444444444,\"#bd3786\"],[0.5555555555555556,\"#d8576b\"],[0.6666666666666666,\"#ed7953\"],[0.7777777777777778,\"#fb9f3a\"],[0.8888888888888888,\"#fdca26\"],[1.0,\"#f0f921\"]],\"type\":\"surface\"}],\"table\":[{\"cells\":{\"fill\":{\"color\":\"#EBF0F8\"},\"line\":{\"color\":\"white\"}},\"header\":{\"fill\":{\"color\":\"#C8D4E3\"},\"line\":{\"color\":\"white\"}},\"type\":\"table\"}]},\"layout\":{\"annotationdefaults\":{\"arrowcolor\":\"#2a3f5f\",\"arrowhead\":0,\"arrowwidth\":1},\"autotypenumbers\":\"strict\",\"coloraxis\":{\"colorbar\":{\"outlinewidth\":0,\"ticks\":\"\"}},\"colorscale\":{\"diverging\":[[0,\"#8e0152\"],[0.1,\"#c51b7d\"],[0.2,\"#de77ae\"],[0.3,\"#f1b6da\"],[0.4,\"#fde0ef\"],[0.5,\"#f7f7f7\"],[0.6,\"#e6f5d0\"],[0.7,\"#b8e186\"],[0.8,\"#7fbc41\"],[0.9,\"#4d9221\"],[1,\"#276419\"]],\"sequential\":[[0.0,\"#0d0887\"],[0.1111111111111111,\"#46039f\"],[0.2222222222222222,\"#7201a8\"],[0.3333333333333333,\"#9c179e\"],[0.4444444444444444,\"#bd3786\"],[0.5555555555555556,\"#d8576b\"],[0.6666666666666666,\"#ed7953\"],[0.7777777777777778,\"#fb9f3a\"],[0.8888888888888888,\"#fdca26\"],[1.0,\"#f0f921\"]],\"sequentialminus\":[[0.0,\"#0d0887\"],[0.1111111111111111,\"#46039f\"],[0.2222222222222222,\"#7201a8\"],[0.3333333333333333,\"#9c179e\"],[0.4444444444444444,\"#bd3786\"],[0.5555555555555556,\"#d8576b\"],[0.6666666666666666,\"#ed7953\"],[0.7777777777777778,\"#fb9f3a\"],[0.8888888888888888,\"#fdca26\"],[1.0,\"#f0f921\"]]},\"colorway\":[\"#636efa\",\"#EF553B\",\"#00cc96\",\"#ab63fa\",\"#FFA15A\",\"#19d3f3\",\"#FF6692\",\"#B6E880\",\"#FF97FF\",\"#FECB52\"],\"font\":{\"color\":\"#2a3f5f\"},\"geo\":{\"bgcolor\":\"white\",\"lakecolor\":\"white\",\"landcolor\":\"#E5ECF6\",\"showlakes\":true,\"showland\":true,\"subunitcolor\":\"white\"},\"hoverlabel\":{\"align\":\"left\"},\"hovermode\":\"closest\",\"mapbox\":{\"style\":\"light\"},\"paper_bgcolor\":\"white\",\"plot_bgcolor\":\"#E5ECF6\",\"polar\":{\"angularaxis\":{\"gridcolor\":\"white\",\"linecolor\":\"white\",\"ticks\":\"\"},\"bgcolor\":\"#E5ECF6\",\"radialaxis\":{\"gridcolor\":\"white\",\"linecolor\":\"white\",\"ticks\":\"\"}},\"scene\":{\"xaxis\":{\"backgroundcolor\":\"#E5ECF6\",\"gridcolor\":\"white\",\"gridwidth\":2,\"linecolor\":\"white\",\"showbackground\":true,\"ticks\":\"\",\"zerolinecolor\":\"white\"},\"yaxis\":{\"backgroundcolor\":\"#E5ECF6\",\"gridcolor\":\"white\",\"gridwidth\":2,\"linecolor\":\"white\",\"showbackground\":true,\"ticks\":\"\",\"zerolinecolor\":\"white\"},\"zaxis\":{\"backgroundcolor\":\"#E5ECF6\",\"gridcolor\":\"white\",\"gridwidth\":2,\"linecolor\":\"white\",\"showbackground\":true,\"ticks\":\"\",\"zerolinecolor\":\"white\"}},\"shapedefaults\":{\"line\":{\"color\":\"#2a3f5f\"}},\"ternary\":{\"aaxis\":{\"gridcolor\":\"white\",\"linecolor\":\"white\",\"ticks\":\"\"},\"baxis\":{\"gridcolor\":\"white\",\"linecolor\":\"white\",\"ticks\":\"\"},\"bgcolor\":\"#E5ECF6\",\"caxis\":{\"gridcolor\":\"white\",\"linecolor\":\"white\",\"ticks\":\"\"}},\"title\":{\"x\":0.05},\"xaxis\":{\"automargin\":true,\"gridcolor\":\"white\",\"linecolor\":\"white\",\"ticks\":\"\",\"title\":{\"standoff\":15},\"zerolinecolor\":\"white\",\"zerolinewidth\":2},\"yaxis\":{\"automargin\":true,\"gridcolor\":\"white\",\"linecolor\":\"white\",\"ticks\":\"\",\"title\":{\"standoff\":15},\"zerolinecolor\":\"white\",\"zerolinewidth\":2}}},\"title\":{\"font\":{\"color\":\"#4D5663\"}},\"xaxis\":{\"gridcolor\":\"#E1E5ED\",\"showgrid\":true,\"tickfont\":{\"color\":\"#4D5663\"},\"title\":{\"font\":{\"color\":\"#4D5663\"},\"text\":\"\"},\"zerolinecolor\":\"#E1E5ED\"},\"yaxis\":{\"gridcolor\":\"#E1E5ED\",\"showgrid\":true,\"tickfont\":{\"color\":\"#4D5663\"},\"title\":{\"font\":{\"color\":\"#4D5663\"},\"text\":\"\"},\"zerolinecolor\":\"#E1E5ED\"}},                        {\"showLink\": true, \"linkText\": \"Export to plotly.com\", \"plotlyServerURL\": \"https://plotly.com\", \"responsive\": true}                    ).then(function(){\n",
       "                            \n",
       "var gd = document.getElementById('036e4444-8db5-43e6-ab6e-8df7feb0d020');\n",
       "var x = new MutationObserver(function (mutations, observer) {{\n",
       "        var display = window.getComputedStyle(gd).display;\n",
       "        if (!display || display === 'none') {{\n",
       "            console.log([gd, 'removed!']);\n",
       "            Plotly.purge(gd);\n",
       "            observer.disconnect();\n",
       "        }}\n",
       "}});\n",
       "\n",
       "// Listen for the removal of the full notebook cells\n",
       "var notebookContainer = gd.closest('#notebook-container');\n",
       "if (notebookContainer) {{\n",
       "    x.observe(notebookContainer, {childList: true});\n",
       "}}\n",
       "\n",
       "// Listen for the clearing of the current output cell\n",
       "var outputEl = gd.closest('.output');\n",
       "if (outputEl) {{\n",
       "    x.observe(outputEl, {childList: true});\n",
       "}}\n",
       "\n",
       "                        })                };                });            </script>        </div>"
      ]
     },
     "metadata": {},
     "output_type": "display_data"
    }
   ],
   "source": [
    "df2.iplot(kind='bar',x='Category',y='Values')"
   ]
  },
  {
   "cell_type": "code",
   "execution_count": 29,
   "metadata": {},
   "outputs": [
    {
     "data": {
      "application/vnd.plotly.v1+json": {
       "config": {
        "linkText": "Export to plotly.com",
        "plotlyServerURL": "https://plotly.com",
        "showLink": true
       },
       "data": [
        {
         "marker": {
          "color": "rgba(255, 153, 51, 0.6)",
          "line": {
           "color": "rgba(255, 153, 51, 1.0)",
           "width": 1
          }
         },
         "name": "A",
         "orientation": "v",
         "text": "",
         "type": "bar",
         "x": [
          0,
          1,
          2,
          3,
          4,
          5,
          6,
          7,
          8,
          9,
          10,
          11,
          12,
          13,
          14,
          15,
          16,
          17,
          18,
          19,
          20,
          21,
          22,
          23,
          24,
          25,
          26,
          27,
          28,
          29,
          30,
          31,
          32,
          33,
          34,
          35,
          36,
          37,
          38,
          39,
          40,
          41,
          42,
          43,
          44,
          45,
          46,
          47,
          48,
          49,
          50,
          51,
          52,
          53,
          54,
          55,
          56,
          57,
          58,
          59,
          60,
          61,
          62,
          63,
          64,
          65,
          66,
          67,
          68,
          69,
          70,
          71,
          72,
          73,
          74,
          75,
          76,
          77,
          78,
          79,
          80,
          81,
          82,
          83,
          84,
          85,
          86,
          87,
          88,
          89,
          90,
          91,
          92,
          93,
          94,
          95,
          96,
          97,
          98,
          99
         ],
         "y": [
          0.2540205165143539,
          0.21018287468404354,
          -1.417366523418028,
          1.4355964054891057,
          0.6438156084526279,
          -0.48992682332332516,
          2.089603407589297,
          -0.24037244272897193,
          0.22741612429678598,
          -0.43388743074207914,
          -0.17474693590151122,
          -0.3378269321122739,
          -0.2872816214010255,
          0.09021167266536759,
          1.9916614315099455,
          -0.9203501904153832,
          1.9932576734555514,
          1.190820979890536,
          0.7591670480729559,
          -0.9322613470150776,
          -0.04972199823331805,
          1.2685856210555648,
          1.5879259973556699,
          -0.567128573474692,
          -2.1942346439385063,
          -0.4559241878544287,
          1.0321820388276353,
          -1.2718987011182359,
          -1.2386551206807364,
          -2.194211747720904,
          -0.5258492859793686,
          -0.6653282837542511,
          -1.3988028138784063,
          -0.07260478095047099,
          -0.28642094085208936,
          -0.11457773635910108,
          -0.1095433105850815,
          0.9750875884483519,
          0.8374465307982316,
          -0.739274852671829,
          0.3157117587684143,
          -0.1715446808230524,
          -1.941469789403776,
          -0.8593008608200065,
          1.0567482570657265,
          -1.9320398455863936,
          0.2594822932774328,
          -0.39301308706656246,
          0.4491389194589242,
          -0.5943834464300685,
          -1.6205742737788318,
          0.6117521209297304,
          -1.276327824115349,
          0.4086695638455752,
          0.24793326266283466,
          -0.4612398992086352,
          1.472207033963178,
          -1.8432937178256399,
          0.331853571779341,
          -0.14425338478943614,
          -0.05413105300153619,
          2.319362187084283,
          0.7674645302272454,
          0.6023945964221519,
          0.09769810203503486,
          1.4595133621459795,
          0.5577801094920947,
          -0.8161165385921015,
          -0.20283106200073736,
          1.0814223714895106,
          -0.9390927760332309,
          -0.7014055677825115,
          -0.26483222934057704,
          0.2563524393956336,
          1.066269844507545,
          0.8834240698541156,
          -0.7106341632582636,
          -0.4401823764634333,
          0.9603374413953691,
          -0.04706661324449886,
          -0.32082510121876906,
          0.22690521984675313,
          0.5580555659912436,
          -0.097048566746413,
          1.7196848303305123,
          0.1334024173581546,
          -1.3154871382832112,
          -0.9863034014659603,
          -1.0446233980609223,
          2.755130001029382,
          -0.19396822225672392,
          -1.0333488219739275,
          0.37272339170574764,
          1.0054492152613619,
          1.266420601741147,
          -2.1026940491604966,
          0.5587347491572473,
          -1.26564189608967,
          1.2365667571795178,
          0.4093624285717989
         ]
        },
        {
         "marker": {
          "color": "rgba(55, 128, 191, 0.6)",
          "line": {
           "color": "rgba(55, 128, 191, 1.0)",
           "width": 1
          }
         },
         "name": "B",
         "orientation": "v",
         "text": "",
         "type": "bar",
         "x": [
          0,
          1,
          2,
          3,
          4,
          5,
          6,
          7,
          8,
          9,
          10,
          11,
          12,
          13,
          14,
          15,
          16,
          17,
          18,
          19,
          20,
          21,
          22,
          23,
          24,
          25,
          26,
          27,
          28,
          29,
          30,
          31,
          32,
          33,
          34,
          35,
          36,
          37,
          38,
          39,
          40,
          41,
          42,
          43,
          44,
          45,
          46,
          47,
          48,
          49,
          50,
          51,
          52,
          53,
          54,
          55,
          56,
          57,
          58,
          59,
          60,
          61,
          62,
          63,
          64,
          65,
          66,
          67,
          68,
          69,
          70,
          71,
          72,
          73,
          74,
          75,
          76,
          77,
          78,
          79,
          80,
          81,
          82,
          83,
          84,
          85,
          86,
          87,
          88,
          89,
          90,
          91,
          92,
          93,
          94,
          95,
          96,
          97,
          98,
          99
         ],
         "y": [
          1.160825800152867,
          0.49616468992605606,
          0.07383583694545158,
          0.2327336021717852,
          -0.5017316173158699,
          0.8035594113553268,
          -0.28453246467477783,
          -0.915122676714964,
          -1.0386383838201863,
          -1.9952568867431326,
          0.09036591505575159,
          1.155948073431354,
          -0.42889040391045663,
          -1.2389704786006113,
          0.48118016142863945,
          1.0226046516596001,
          0.7398795059007436,
          0.37427404601920805,
          -1.7494103233808207,
          -0.9193506297259831,
          0.8887150557163451,
          0.9103962137297099,
          0.8947662724723978,
          0.06129563149484737,
          0.12002325193346794,
          -0.676796697112064,
          0.06093394366571922,
          -0.5640148151417872,
          0.81707423120743,
          0.6769766088966667,
          1.0441711359096393,
          0.8152504059983663,
          -0.39786853228590585,
          0.6599657173835193,
          0.5442907815797696,
          -0.2911291866765822,
          0.25500617713030627,
          -0.8331171412221349,
          -0.8620206840215854,
          0.04307721553350601,
          -1.215724201505668,
          0.12782065868375267,
          -2.145446215905343,
          -1.2319037363163725,
          -0.45930560794346414,
          -0.21250766872033242,
          -0.39804764478120985,
          -1.007422616587833,
          -0.9847119868129514,
          0.561732278632458,
          -1.14933123553313,
          1.6418957813050432,
          -1.2876584947792657,
          -0.03539282053918007,
          1.362381345433245,
          -0.6291386847202808,
          1.898930581889669,
          -0.6149912505025651,
          2.3034710611983304,
          -0.21226266974932004,
          -0.44847316876586585,
          -0.85303319669474,
          0.39684829882784267,
          -0.39090798457724035,
          1.3631512954306748,
          0.38249503712678984,
          -0.7742515439820427,
          -1.203847854965608,
          1.0115904667778681,
          0.3616426794426263,
          1.4846748175633453,
          0.9654302865010991,
          1.4562869848628681,
          -0.8177914063638103,
          -0.2730370368057006,
          0.6358807484449549,
          -0.7820612964596657,
          0.29823457797888253,
          0.39283832766839666,
          0.5285082098876401,
          1.3226836756728508,
          1.6636775870661122,
          0.5170672228134581,
          0.824798069948975,
          -0.46265991994032685,
          -0.10433027741652127,
          0.2690776010702887,
          1.3276291696627414,
          1.4619005839703703,
          0.06670553461973262,
          1.2367949690978866,
          -1.6728464542712906,
          0.41956646947819315,
          1.0213475908554128,
          1.4010211872247769,
          0.7057004386030941,
          -0.8740541643155307,
          -0.08067153622956262,
          -0.8096141021027465,
          1.2860139723173836
         ]
        },
        {
         "marker": {
          "color": "rgba(50, 171, 96, 0.6)",
          "line": {
           "color": "rgba(50, 171, 96, 1.0)",
           "width": 1
          }
         },
         "name": "C",
         "orientation": "v",
         "text": "",
         "type": "bar",
         "x": [
          0,
          1,
          2,
          3,
          4,
          5,
          6,
          7,
          8,
          9,
          10,
          11,
          12,
          13,
          14,
          15,
          16,
          17,
          18,
          19,
          20,
          21,
          22,
          23,
          24,
          25,
          26,
          27,
          28,
          29,
          30,
          31,
          32,
          33,
          34,
          35,
          36,
          37,
          38,
          39,
          40,
          41,
          42,
          43,
          44,
          45,
          46,
          47,
          48,
          49,
          50,
          51,
          52,
          53,
          54,
          55,
          56,
          57,
          58,
          59,
          60,
          61,
          62,
          63,
          64,
          65,
          66,
          67,
          68,
          69,
          70,
          71,
          72,
          73,
          74,
          75,
          76,
          77,
          78,
          79,
          80,
          81,
          82,
          83,
          84,
          85,
          86,
          87,
          88,
          89,
          90,
          91,
          92,
          93,
          94,
          95,
          96,
          97,
          98,
          99
         ],
         "y": [
          0.7400092392048068,
          -1.1612554650452065,
          -0.5122338887002665,
          0.8664771985598588,
          -0.34548987492232175,
          0.2781330104706034,
          0.8133129773606471,
          -0.07383128492210222,
          1.4992427452539066,
          -0.06427788658450528,
          0.9777437473437132,
          -1.0844097691216843,
          0.23691969667423549,
          0.6833580638519037,
          0.19854397914558808,
          1.2940032044175587,
          0.2938313960897921,
          -0.621691820858234,
          0.08475790559030699,
          -1.7256365238552824,
          0.7582412110970774,
          1.16644966761969,
          -0.13341758137524054,
          0.04093263652620348,
          0.18320697536407995,
          -0.32092372624067766,
          -0.9192767520476932,
          -0.009211021059547185,
          -0.019857457962381128,
          -0.3142022108888279,
          -0.6172132723525531,
          0.8960160304349492,
          0.7374330001967216,
          0.906649950526819,
          0.8261888595835849,
          0.8445809292425774,
          1.3616427427782307,
          -0.15250750568368196,
          0.10902639094972436,
          0.5281841463998894,
          -0.4749394513444946,
          0.7480762907916783,
          0.3388929235148995,
          -0.7310818991049979,
          0.02719614578997186,
          1.512962862350225,
          0.8035101292065836,
          -0.947393115998121,
          -0.02386938793565377,
          0.7320630015882023,
          1.4345212541566092,
          -0.09064584842119253,
          -0.252148147107145,
          -2.356165508371674,
          0.25763522548097273,
          1.8281771377382254,
          -0.04061189261196941,
          0.5765668729102671,
          -0.01960280456707083,
          1.1734496029900723,
          0.4150946237924706,
          -0.8742687679848868,
          -0.07335204432201242,
          -0.40438225261440797,
          -0.576332073034859,
          1.1146425638994812,
          -0.06873767949536136,
          -0.8595298987909357,
          -0.2464788836352362,
          -1.5408801744628844,
          -0.13284260964214661,
          0.41487455770150555,
          -0.11612837078371765,
          -0.485629058051464,
          0.31925770344676224,
          0.023159140123406755,
          0.9892737551707963,
          0.8448141680578326,
          -2.1502154363339514,
          -0.007235596504881794,
          0.2796531586390798,
          -0.3753414952199077,
          1.5123786861608832,
          -0.13171039496410855,
          0.14632688412280515,
          0.18796700882737305,
          0.31534514387362794,
          1.2218028635289813,
          -0.32024933567295366,
          0.2020833843113226,
          -1.5360472839414374,
          -0.8097024781571458,
          -0.61191498185867,
          -0.5094569134267607,
          -2.5249347881889856,
          -0.5105863402376877,
          1.5150611952696704,
          -0.7388111051732456,
          -0.45003373940694963,
          1.337901303183027
         ]
        },
        {
         "marker": {
          "color": "rgba(128, 0, 128, 0.6)",
          "line": {
           "color": "rgba(128, 0, 128, 1.0)",
           "width": 1
          }
         },
         "name": "D",
         "orientation": "v",
         "text": "",
         "type": "bar",
         "x": [
          0,
          1,
          2,
          3,
          4,
          5,
          6,
          7,
          8,
          9,
          10,
          11,
          12,
          13,
          14,
          15,
          16,
          17,
          18,
          19,
          20,
          21,
          22,
          23,
          24,
          25,
          26,
          27,
          28,
          29,
          30,
          31,
          32,
          33,
          34,
          35,
          36,
          37,
          38,
          39,
          40,
          41,
          42,
          43,
          44,
          45,
          46,
          47,
          48,
          49,
          50,
          51,
          52,
          53,
          54,
          55,
          56,
          57,
          58,
          59,
          60,
          61,
          62,
          63,
          64,
          65,
          66,
          67,
          68,
          69,
          70,
          71,
          72,
          73,
          74,
          75,
          76,
          77,
          78,
          79,
          80,
          81,
          82,
          83,
          84,
          85,
          86,
          87,
          88,
          89,
          90,
          91,
          92,
          93,
          94,
          95,
          96,
          97,
          98,
          99
         ],
         "y": [
          -0.9068405688078486,
          0.11621097171247942,
          0.26448478101457584,
          -0.5440854440489594,
          0.5531515272952051,
          0.8234042785049313,
          -0.22906001896152353,
          -0.16995879751638207,
          0.6802184174681418,
          0.4445235048806215,
          0.6941279000595636,
          2.1747144867557284,
          1.0223991406942747,
          0.8368416708590749,
          0.184720174470893,
          0.19552655776599848,
          1.6264800319723853,
          1.318082762218274,
          -1.1640119153017372,
          1.2758601739228614,
          -1.6418670804553157,
          -0.4171095950902611,
          -0.3969242583499874,
          0.501527724050001,
          -1.074606222181749,
          -2.223424663893433,
          0.6716990615797975,
          0.14796640692409763,
          0.6948660217218141,
          -1.8580010868790662,
          -0.00526893887691044,
          -0.6836722995929522,
          0.16612742230538627,
          -0.11821349276729069,
          -0.92117968291553,
          0.29188265668117613,
          0.34960878144601626,
          -0.06270629467800636,
          -0.4038456358871288,
          0.2648605591171205,
          0.061168616234663235,
          1.024178167604516,
          -2.3389668344520116,
          -0.2824909310511887,
          -0.4229235811543551,
          0.05631613133747578,
          -1.0376629367534844,
          -1.0508408409413266,
          -0.651137516259835,
          -0.6603619267138788,
          0.6919249312578343,
          -0.3620145382845533,
          -0.3034438985204652,
          0.4506109621289893,
          0.19784991813168556,
          0.4486839596077117,
          -0.6541847283551394,
          1.1707625473024965,
          0.13268391400985902,
          -0.7435191432300351,
          -0.7293681641791371,
          -0.018877098021782796,
          -1.4524593337407599,
          0.1267230001259561,
          -0.7125292116463977,
          -1.223740915429738,
          1.7028564850815053,
          -0.025254987372562845,
          0.14252619879882147,
          -1.424391582709415,
          -0.1305437297684222,
          -1.114889983872903,
          0.8818507740128105,
          1.7383740083404464,
          0.26964871270546237,
          -1.1071106984364947,
          1.0031650408456287,
          -0.9530919999597487,
          -1.5771064309978597,
          -1.548931175254627,
          1.1505022138477403,
          -0.7345193249486318,
          1.8285714520083187,
          0.8272062189740068,
          0.8279518009515064,
          0.3568071184223297,
          -0.3306248498338502,
          0.4467509629034824,
          1.6445920281443878,
          -0.9967417532997104,
          -1.0556863288562042,
          0.35588131793485744,
          -1.1358190099883094,
          0.4211429293134869,
          0.15585056701122604,
          1.8748160736152852,
          2.344329847624523,
          -0.05539633385281114,
          2.0885407026049565,
          -1.1947913568464845
         ]
        }
       ],
       "layout": {
        "legend": {
         "bgcolor": "#F5F6F9",
         "font": {
          "color": "#4D5663"
         }
        },
        "paper_bgcolor": "#F5F6F9",
        "plot_bgcolor": "#F5F6F9",
        "template": {
         "data": {
          "bar": [
           {
            "error_x": {
             "color": "#2a3f5f"
            },
            "error_y": {
             "color": "#2a3f5f"
            },
            "marker": {
             "line": {
              "color": "#E5ECF6",
              "width": 0.5
             },
             "pattern": {
              "fillmode": "overlay",
              "size": 10,
              "solidity": 0.2
             }
            },
            "type": "bar"
           }
          ],
          "barpolar": [
           {
            "marker": {
             "line": {
              "color": "#E5ECF6",
              "width": 0.5
             },
             "pattern": {
              "fillmode": "overlay",
              "size": 10,
              "solidity": 0.2
             }
            },
            "type": "barpolar"
           }
          ],
          "carpet": [
           {
            "aaxis": {
             "endlinecolor": "#2a3f5f",
             "gridcolor": "white",
             "linecolor": "white",
             "minorgridcolor": "white",
             "startlinecolor": "#2a3f5f"
            },
            "baxis": {
             "endlinecolor": "#2a3f5f",
             "gridcolor": "white",
             "linecolor": "white",
             "minorgridcolor": "white",
             "startlinecolor": "#2a3f5f"
            },
            "type": "carpet"
           }
          ],
          "choropleth": [
           {
            "colorbar": {
             "outlinewidth": 0,
             "ticks": ""
            },
            "type": "choropleth"
           }
          ],
          "contour": [
           {
            "colorbar": {
             "outlinewidth": 0,
             "ticks": ""
            },
            "colorscale": [
             [
              0,
              "#0d0887"
             ],
             [
              0.1111111111111111,
              "#46039f"
             ],
             [
              0.2222222222222222,
              "#7201a8"
             ],
             [
              0.3333333333333333,
              "#9c179e"
             ],
             [
              0.4444444444444444,
              "#bd3786"
             ],
             [
              0.5555555555555556,
              "#d8576b"
             ],
             [
              0.6666666666666666,
              "#ed7953"
             ],
             [
              0.7777777777777778,
              "#fb9f3a"
             ],
             [
              0.8888888888888888,
              "#fdca26"
             ],
             [
              1,
              "#f0f921"
             ]
            ],
            "type": "contour"
           }
          ],
          "contourcarpet": [
           {
            "colorbar": {
             "outlinewidth": 0,
             "ticks": ""
            },
            "type": "contourcarpet"
           }
          ],
          "heatmap": [
           {
            "colorbar": {
             "outlinewidth": 0,
             "ticks": ""
            },
            "colorscale": [
             [
              0,
              "#0d0887"
             ],
             [
              0.1111111111111111,
              "#46039f"
             ],
             [
              0.2222222222222222,
              "#7201a8"
             ],
             [
              0.3333333333333333,
              "#9c179e"
             ],
             [
              0.4444444444444444,
              "#bd3786"
             ],
             [
              0.5555555555555556,
              "#d8576b"
             ],
             [
              0.6666666666666666,
              "#ed7953"
             ],
             [
              0.7777777777777778,
              "#fb9f3a"
             ],
             [
              0.8888888888888888,
              "#fdca26"
             ],
             [
              1,
              "#f0f921"
             ]
            ],
            "type": "heatmap"
           }
          ],
          "heatmapgl": [
           {
            "colorbar": {
             "outlinewidth": 0,
             "ticks": ""
            },
            "colorscale": [
             [
              0,
              "#0d0887"
             ],
             [
              0.1111111111111111,
              "#46039f"
             ],
             [
              0.2222222222222222,
              "#7201a8"
             ],
             [
              0.3333333333333333,
              "#9c179e"
             ],
             [
              0.4444444444444444,
              "#bd3786"
             ],
             [
              0.5555555555555556,
              "#d8576b"
             ],
             [
              0.6666666666666666,
              "#ed7953"
             ],
             [
              0.7777777777777778,
              "#fb9f3a"
             ],
             [
              0.8888888888888888,
              "#fdca26"
             ],
             [
              1,
              "#f0f921"
             ]
            ],
            "type": "heatmapgl"
           }
          ],
          "histogram": [
           {
            "marker": {
             "pattern": {
              "fillmode": "overlay",
              "size": 10,
              "solidity": 0.2
             }
            },
            "type": "histogram"
           }
          ],
          "histogram2d": [
           {
            "colorbar": {
             "outlinewidth": 0,
             "ticks": ""
            },
            "colorscale": [
             [
              0,
              "#0d0887"
             ],
             [
              0.1111111111111111,
              "#46039f"
             ],
             [
              0.2222222222222222,
              "#7201a8"
             ],
             [
              0.3333333333333333,
              "#9c179e"
             ],
             [
              0.4444444444444444,
              "#bd3786"
             ],
             [
              0.5555555555555556,
              "#d8576b"
             ],
             [
              0.6666666666666666,
              "#ed7953"
             ],
             [
              0.7777777777777778,
              "#fb9f3a"
             ],
             [
              0.8888888888888888,
              "#fdca26"
             ],
             [
              1,
              "#f0f921"
             ]
            ],
            "type": "histogram2d"
           }
          ],
          "histogram2dcontour": [
           {
            "colorbar": {
             "outlinewidth": 0,
             "ticks": ""
            },
            "colorscale": [
             [
              0,
              "#0d0887"
             ],
             [
              0.1111111111111111,
              "#46039f"
             ],
             [
              0.2222222222222222,
              "#7201a8"
             ],
             [
              0.3333333333333333,
              "#9c179e"
             ],
             [
              0.4444444444444444,
              "#bd3786"
             ],
             [
              0.5555555555555556,
              "#d8576b"
             ],
             [
              0.6666666666666666,
              "#ed7953"
             ],
             [
              0.7777777777777778,
              "#fb9f3a"
             ],
             [
              0.8888888888888888,
              "#fdca26"
             ],
             [
              1,
              "#f0f921"
             ]
            ],
            "type": "histogram2dcontour"
           }
          ],
          "mesh3d": [
           {
            "colorbar": {
             "outlinewidth": 0,
             "ticks": ""
            },
            "type": "mesh3d"
           }
          ],
          "parcoords": [
           {
            "line": {
             "colorbar": {
              "outlinewidth": 0,
              "ticks": ""
             }
            },
            "type": "parcoords"
           }
          ],
          "pie": [
           {
            "automargin": true,
            "type": "pie"
           }
          ],
          "scatter": [
           {
            "marker": {
             "colorbar": {
              "outlinewidth": 0,
              "ticks": ""
             }
            },
            "type": "scatter"
           }
          ],
          "scatter3d": [
           {
            "line": {
             "colorbar": {
              "outlinewidth": 0,
              "ticks": ""
             }
            },
            "marker": {
             "colorbar": {
              "outlinewidth": 0,
              "ticks": ""
             }
            },
            "type": "scatter3d"
           }
          ],
          "scattercarpet": [
           {
            "marker": {
             "colorbar": {
              "outlinewidth": 0,
              "ticks": ""
             }
            },
            "type": "scattercarpet"
           }
          ],
          "scattergeo": [
           {
            "marker": {
             "colorbar": {
              "outlinewidth": 0,
              "ticks": ""
             }
            },
            "type": "scattergeo"
           }
          ],
          "scattergl": [
           {
            "marker": {
             "colorbar": {
              "outlinewidth": 0,
              "ticks": ""
             }
            },
            "type": "scattergl"
           }
          ],
          "scattermapbox": [
           {
            "marker": {
             "colorbar": {
              "outlinewidth": 0,
              "ticks": ""
             }
            },
            "type": "scattermapbox"
           }
          ],
          "scatterpolar": [
           {
            "marker": {
             "colorbar": {
              "outlinewidth": 0,
              "ticks": ""
             }
            },
            "type": "scatterpolar"
           }
          ],
          "scatterpolargl": [
           {
            "marker": {
             "colorbar": {
              "outlinewidth": 0,
              "ticks": ""
             }
            },
            "type": "scatterpolargl"
           }
          ],
          "scatterternary": [
           {
            "marker": {
             "colorbar": {
              "outlinewidth": 0,
              "ticks": ""
             }
            },
            "type": "scatterternary"
           }
          ],
          "surface": [
           {
            "colorbar": {
             "outlinewidth": 0,
             "ticks": ""
            },
            "colorscale": [
             [
              0,
              "#0d0887"
             ],
             [
              0.1111111111111111,
              "#46039f"
             ],
             [
              0.2222222222222222,
              "#7201a8"
             ],
             [
              0.3333333333333333,
              "#9c179e"
             ],
             [
              0.4444444444444444,
              "#bd3786"
             ],
             [
              0.5555555555555556,
              "#d8576b"
             ],
             [
              0.6666666666666666,
              "#ed7953"
             ],
             [
              0.7777777777777778,
              "#fb9f3a"
             ],
             [
              0.8888888888888888,
              "#fdca26"
             ],
             [
              1,
              "#f0f921"
             ]
            ],
            "type": "surface"
           }
          ],
          "table": [
           {
            "cells": {
             "fill": {
              "color": "#EBF0F8"
             },
             "line": {
              "color": "white"
             }
            },
            "header": {
             "fill": {
              "color": "#C8D4E3"
             },
             "line": {
              "color": "white"
             }
            },
            "type": "table"
           }
          ]
         },
         "layout": {
          "annotationdefaults": {
           "arrowcolor": "#2a3f5f",
           "arrowhead": 0,
           "arrowwidth": 1
          },
          "autotypenumbers": "strict",
          "coloraxis": {
           "colorbar": {
            "outlinewidth": 0,
            "ticks": ""
           }
          },
          "colorscale": {
           "diverging": [
            [
             0,
             "#8e0152"
            ],
            [
             0.1,
             "#c51b7d"
            ],
            [
             0.2,
             "#de77ae"
            ],
            [
             0.3,
             "#f1b6da"
            ],
            [
             0.4,
             "#fde0ef"
            ],
            [
             0.5,
             "#f7f7f7"
            ],
            [
             0.6,
             "#e6f5d0"
            ],
            [
             0.7,
             "#b8e186"
            ],
            [
             0.8,
             "#7fbc41"
            ],
            [
             0.9,
             "#4d9221"
            ],
            [
             1,
             "#276419"
            ]
           ],
           "sequential": [
            [
             0,
             "#0d0887"
            ],
            [
             0.1111111111111111,
             "#46039f"
            ],
            [
             0.2222222222222222,
             "#7201a8"
            ],
            [
             0.3333333333333333,
             "#9c179e"
            ],
            [
             0.4444444444444444,
             "#bd3786"
            ],
            [
             0.5555555555555556,
             "#d8576b"
            ],
            [
             0.6666666666666666,
             "#ed7953"
            ],
            [
             0.7777777777777778,
             "#fb9f3a"
            ],
            [
             0.8888888888888888,
             "#fdca26"
            ],
            [
             1,
             "#f0f921"
            ]
           ],
           "sequentialminus": [
            [
             0,
             "#0d0887"
            ],
            [
             0.1111111111111111,
             "#46039f"
            ],
            [
             0.2222222222222222,
             "#7201a8"
            ],
            [
             0.3333333333333333,
             "#9c179e"
            ],
            [
             0.4444444444444444,
             "#bd3786"
            ],
            [
             0.5555555555555556,
             "#d8576b"
            ],
            [
             0.6666666666666666,
             "#ed7953"
            ],
            [
             0.7777777777777778,
             "#fb9f3a"
            ],
            [
             0.8888888888888888,
             "#fdca26"
            ],
            [
             1,
             "#f0f921"
            ]
           ]
          },
          "colorway": [
           "#636efa",
           "#EF553B",
           "#00cc96",
           "#ab63fa",
           "#FFA15A",
           "#19d3f3",
           "#FF6692",
           "#B6E880",
           "#FF97FF",
           "#FECB52"
          ],
          "font": {
           "color": "#2a3f5f"
          },
          "geo": {
           "bgcolor": "white",
           "lakecolor": "white",
           "landcolor": "#E5ECF6",
           "showlakes": true,
           "showland": true,
           "subunitcolor": "white"
          },
          "hoverlabel": {
           "align": "left"
          },
          "hovermode": "closest",
          "mapbox": {
           "style": "light"
          },
          "paper_bgcolor": "white",
          "plot_bgcolor": "#E5ECF6",
          "polar": {
           "angularaxis": {
            "gridcolor": "white",
            "linecolor": "white",
            "ticks": ""
           },
           "bgcolor": "#E5ECF6",
           "radialaxis": {
            "gridcolor": "white",
            "linecolor": "white",
            "ticks": ""
           }
          },
          "scene": {
           "xaxis": {
            "backgroundcolor": "#E5ECF6",
            "gridcolor": "white",
            "gridwidth": 2,
            "linecolor": "white",
            "showbackground": true,
            "ticks": "",
            "zerolinecolor": "white"
           },
           "yaxis": {
            "backgroundcolor": "#E5ECF6",
            "gridcolor": "white",
            "gridwidth": 2,
            "linecolor": "white",
            "showbackground": true,
            "ticks": "",
            "zerolinecolor": "white"
           },
           "zaxis": {
            "backgroundcolor": "#E5ECF6",
            "gridcolor": "white",
            "gridwidth": 2,
            "linecolor": "white",
            "showbackground": true,
            "ticks": "",
            "zerolinecolor": "white"
           }
          },
          "shapedefaults": {
           "line": {
            "color": "#2a3f5f"
           }
          },
          "ternary": {
           "aaxis": {
            "gridcolor": "white",
            "linecolor": "white",
            "ticks": ""
           },
           "baxis": {
            "gridcolor": "white",
            "linecolor": "white",
            "ticks": ""
           },
           "bgcolor": "#E5ECF6",
           "caxis": {
            "gridcolor": "white",
            "linecolor": "white",
            "ticks": ""
           }
          },
          "title": {
           "x": 0.05
          },
          "xaxis": {
           "automargin": true,
           "gridcolor": "white",
           "linecolor": "white",
           "ticks": "",
           "title": {
            "standoff": 15
           },
           "zerolinecolor": "white",
           "zerolinewidth": 2
          },
          "yaxis": {
           "automargin": true,
           "gridcolor": "white",
           "linecolor": "white",
           "ticks": "",
           "title": {
            "standoff": 15
           },
           "zerolinecolor": "white",
           "zerolinewidth": 2
          }
         }
        },
        "title": {
         "font": {
          "color": "#4D5663"
         }
        },
        "xaxis": {
         "gridcolor": "#E1E5ED",
         "showgrid": true,
         "tickfont": {
          "color": "#4D5663"
         },
         "title": {
          "font": {
           "color": "#4D5663"
          },
          "text": ""
         },
         "zerolinecolor": "#E1E5ED"
        },
        "yaxis": {
         "gridcolor": "#E1E5ED",
         "showgrid": true,
         "tickfont": {
          "color": "#4D5663"
         },
         "title": {
          "font": {
           "color": "#4D5663"
          },
          "text": ""
         },
         "zerolinecolor": "#E1E5ED"
        }
       }
      },
      "text/html": [
       "<div>                            <div id=\"f205cd0d-2a41-4fc7-9734-3ad3b4c7108b\" class=\"plotly-graph-div\" style=\"height:525px; width:100%;\"></div>            <script type=\"text/javascript\">                require([\"plotly\"], function(Plotly) {                    window.PLOTLYENV=window.PLOTLYENV || {};\n",
       "                    window.PLOTLYENV.BASE_URL='https://plotly.com';                                    if (document.getElementById(\"f205cd0d-2a41-4fc7-9734-3ad3b4c7108b\")) {                    Plotly.newPlot(                        \"f205cd0d-2a41-4fc7-9734-3ad3b4c7108b\",                        [{\"marker\":{\"color\":\"rgba(255, 153, 51, 0.6)\",\"line\":{\"color\":\"rgba(255, 153, 51, 1.0)\",\"width\":1}},\"name\":\"A\",\"orientation\":\"v\",\"text\":\"\",\"x\":[0,1,2,3,4,5,6,7,8,9,10,11,12,13,14,15,16,17,18,19,20,21,22,23,24,25,26,27,28,29,30,31,32,33,34,35,36,37,38,39,40,41,42,43,44,45,46,47,48,49,50,51,52,53,54,55,56,57,58,59,60,61,62,63,64,65,66,67,68,69,70,71,72,73,74,75,76,77,78,79,80,81,82,83,84,85,86,87,88,89,90,91,92,93,94,95,96,97,98,99],\"y\":[0.2540205165143539,0.21018287468404354,-1.417366523418028,1.4355964054891057,0.6438156084526279,-0.48992682332332516,2.089603407589297,-0.24037244272897193,0.22741612429678598,-0.43388743074207914,-0.17474693590151122,-0.3378269321122739,-0.2872816214010255,0.09021167266536759,1.9916614315099455,-0.9203501904153832,1.9932576734555514,1.190820979890536,0.7591670480729559,-0.9322613470150776,-0.04972199823331805,1.2685856210555648,1.5879259973556699,-0.567128573474692,-2.1942346439385063,-0.4559241878544287,1.0321820388276353,-1.2718987011182359,-1.2386551206807364,-2.194211747720904,-0.5258492859793686,-0.6653282837542511,-1.3988028138784063,-0.07260478095047099,-0.28642094085208936,-0.11457773635910108,-0.1095433105850815,0.9750875884483519,0.8374465307982316,-0.739274852671829,0.3157117587684143,-0.1715446808230524,-1.941469789403776,-0.8593008608200065,1.0567482570657265,-1.9320398455863936,0.2594822932774328,-0.39301308706656246,0.4491389194589242,-0.5943834464300685,-1.6205742737788318,0.6117521209297304,-1.276327824115349,0.4086695638455752,0.24793326266283466,-0.4612398992086352,1.472207033963178,-1.8432937178256399,0.331853571779341,-0.14425338478943614,-0.05413105300153619,2.319362187084283,0.7674645302272454,0.6023945964221519,0.09769810203503486,1.4595133621459795,0.5577801094920947,-0.8161165385921015,-0.20283106200073736,1.0814223714895106,-0.9390927760332309,-0.7014055677825115,-0.26483222934057704,0.2563524393956336,1.066269844507545,0.8834240698541156,-0.7106341632582636,-0.4401823764634333,0.9603374413953691,-0.04706661324449886,-0.32082510121876906,0.22690521984675313,0.5580555659912436,-0.097048566746413,1.7196848303305123,0.1334024173581546,-1.3154871382832112,-0.9863034014659603,-1.0446233980609223,2.755130001029382,-0.19396822225672392,-1.0333488219739275,0.37272339170574764,1.0054492152613619,1.266420601741147,-2.1026940491604966,0.5587347491572473,-1.26564189608967,1.2365667571795178,0.4093624285717989],\"type\":\"bar\"},{\"marker\":{\"color\":\"rgba(55, 128, 191, 0.6)\",\"line\":{\"color\":\"rgba(55, 128, 191, 1.0)\",\"width\":1}},\"name\":\"B\",\"orientation\":\"v\",\"text\":\"\",\"x\":[0,1,2,3,4,5,6,7,8,9,10,11,12,13,14,15,16,17,18,19,20,21,22,23,24,25,26,27,28,29,30,31,32,33,34,35,36,37,38,39,40,41,42,43,44,45,46,47,48,49,50,51,52,53,54,55,56,57,58,59,60,61,62,63,64,65,66,67,68,69,70,71,72,73,74,75,76,77,78,79,80,81,82,83,84,85,86,87,88,89,90,91,92,93,94,95,96,97,98,99],\"y\":[1.160825800152867,0.49616468992605606,0.07383583694545158,0.2327336021717852,-0.5017316173158699,0.8035594113553268,-0.28453246467477783,-0.915122676714964,-1.0386383838201863,-1.9952568867431326,0.09036591505575159,1.155948073431354,-0.42889040391045663,-1.2389704786006113,0.48118016142863945,1.0226046516596001,0.7398795059007436,0.37427404601920805,-1.7494103233808207,-0.9193506297259831,0.8887150557163451,0.9103962137297099,0.8947662724723978,0.06129563149484737,0.12002325193346794,-0.676796697112064,0.06093394366571922,-0.5640148151417872,0.81707423120743,0.6769766088966667,1.0441711359096393,0.8152504059983663,-0.39786853228590585,0.6599657173835193,0.5442907815797696,-0.2911291866765822,0.25500617713030627,-0.8331171412221349,-0.8620206840215854,0.04307721553350601,-1.215724201505668,0.12782065868375267,-2.145446215905343,-1.2319037363163725,-0.45930560794346414,-0.21250766872033242,-0.39804764478120985,-1.007422616587833,-0.9847119868129514,0.561732278632458,-1.14933123553313,1.6418957813050432,-1.2876584947792657,-0.03539282053918007,1.362381345433245,-0.6291386847202808,1.898930581889669,-0.6149912505025651,2.3034710611983304,-0.21226266974932004,-0.44847316876586585,-0.85303319669474,0.39684829882784267,-0.39090798457724035,1.3631512954306748,0.38249503712678984,-0.7742515439820427,-1.203847854965608,1.0115904667778681,0.3616426794426263,1.4846748175633453,0.9654302865010991,1.4562869848628681,-0.8177914063638103,-0.2730370368057006,0.6358807484449549,-0.7820612964596657,0.29823457797888253,0.39283832766839666,0.5285082098876401,1.3226836756728508,1.6636775870661122,0.5170672228134581,0.824798069948975,-0.46265991994032685,-0.10433027741652127,0.2690776010702887,1.3276291696627414,1.4619005839703703,0.06670553461973262,1.2367949690978866,-1.6728464542712906,0.41956646947819315,1.0213475908554128,1.4010211872247769,0.7057004386030941,-0.8740541643155307,-0.08067153622956262,-0.8096141021027465,1.2860139723173836],\"type\":\"bar\"},{\"marker\":{\"color\":\"rgba(50, 171, 96, 0.6)\",\"line\":{\"color\":\"rgba(50, 171, 96, 1.0)\",\"width\":1}},\"name\":\"C\",\"orientation\":\"v\",\"text\":\"\",\"x\":[0,1,2,3,4,5,6,7,8,9,10,11,12,13,14,15,16,17,18,19,20,21,22,23,24,25,26,27,28,29,30,31,32,33,34,35,36,37,38,39,40,41,42,43,44,45,46,47,48,49,50,51,52,53,54,55,56,57,58,59,60,61,62,63,64,65,66,67,68,69,70,71,72,73,74,75,76,77,78,79,80,81,82,83,84,85,86,87,88,89,90,91,92,93,94,95,96,97,98,99],\"y\":[0.7400092392048068,-1.1612554650452065,-0.5122338887002665,0.8664771985598588,-0.34548987492232175,0.2781330104706034,0.8133129773606471,-0.07383128492210222,1.4992427452539066,-0.06427788658450528,0.9777437473437132,-1.0844097691216843,0.23691969667423549,0.6833580638519037,0.19854397914558808,1.2940032044175587,0.2938313960897921,-0.621691820858234,0.08475790559030699,-1.7256365238552824,0.7582412110970774,1.16644966761969,-0.13341758137524054,0.04093263652620348,0.18320697536407995,-0.32092372624067766,-0.9192767520476932,-0.009211021059547185,-0.019857457962381128,-0.3142022108888279,-0.6172132723525531,0.8960160304349492,0.7374330001967216,0.906649950526819,0.8261888595835849,0.8445809292425774,1.3616427427782307,-0.15250750568368196,0.10902639094972436,0.5281841463998894,-0.4749394513444946,0.7480762907916783,0.3388929235148995,-0.7310818991049979,0.02719614578997186,1.512962862350225,0.8035101292065836,-0.947393115998121,-0.02386938793565377,0.7320630015882023,1.4345212541566092,-0.09064584842119253,-0.252148147107145,-2.356165508371674,0.25763522548097273,1.8281771377382254,-0.04061189261196941,0.5765668729102671,-0.01960280456707083,1.1734496029900723,0.4150946237924706,-0.8742687679848868,-0.07335204432201242,-0.40438225261440797,-0.576332073034859,1.1146425638994812,-0.06873767949536136,-0.8595298987909357,-0.2464788836352362,-1.5408801744628844,-0.13284260964214661,0.41487455770150555,-0.11612837078371765,-0.485629058051464,0.31925770344676224,0.023159140123406755,0.9892737551707963,0.8448141680578326,-2.1502154363339514,-0.007235596504881794,0.2796531586390798,-0.3753414952199077,1.5123786861608832,-0.13171039496410855,0.14632688412280515,0.18796700882737305,0.31534514387362794,1.2218028635289813,-0.32024933567295366,0.2020833843113226,-1.5360472839414374,-0.8097024781571458,-0.61191498185867,-0.5094569134267607,-2.5249347881889856,-0.5105863402376877,1.5150611952696704,-0.7388111051732456,-0.45003373940694963,1.337901303183027],\"type\":\"bar\"},{\"marker\":{\"color\":\"rgba(128, 0, 128, 0.6)\",\"line\":{\"color\":\"rgba(128, 0, 128, 1.0)\",\"width\":1}},\"name\":\"D\",\"orientation\":\"v\",\"text\":\"\",\"x\":[0,1,2,3,4,5,6,7,8,9,10,11,12,13,14,15,16,17,18,19,20,21,22,23,24,25,26,27,28,29,30,31,32,33,34,35,36,37,38,39,40,41,42,43,44,45,46,47,48,49,50,51,52,53,54,55,56,57,58,59,60,61,62,63,64,65,66,67,68,69,70,71,72,73,74,75,76,77,78,79,80,81,82,83,84,85,86,87,88,89,90,91,92,93,94,95,96,97,98,99],\"y\":[-0.9068405688078486,0.11621097171247942,0.26448478101457584,-0.5440854440489594,0.5531515272952051,0.8234042785049313,-0.22906001896152353,-0.16995879751638207,0.6802184174681418,0.4445235048806215,0.6941279000595636,2.1747144867557284,1.0223991406942747,0.8368416708590749,0.184720174470893,0.19552655776599848,1.6264800319723853,1.318082762218274,-1.1640119153017372,1.2758601739228614,-1.6418670804553157,-0.4171095950902611,-0.3969242583499874,0.501527724050001,-1.074606222181749,-2.223424663893433,0.6716990615797975,0.14796640692409763,0.6948660217218141,-1.8580010868790662,-0.00526893887691044,-0.6836722995929522,0.16612742230538627,-0.11821349276729069,-0.92117968291553,0.29188265668117613,0.34960878144601626,-0.06270629467800636,-0.4038456358871288,0.2648605591171205,0.061168616234663235,1.024178167604516,-2.3389668344520116,-0.2824909310511887,-0.4229235811543551,0.05631613133747578,-1.0376629367534844,-1.0508408409413266,-0.651137516259835,-0.6603619267138788,0.6919249312578343,-0.3620145382845533,-0.3034438985204652,0.4506109621289893,0.19784991813168556,0.4486839596077117,-0.6541847283551394,1.1707625473024965,0.13268391400985902,-0.7435191432300351,-0.7293681641791371,-0.018877098021782796,-1.4524593337407599,0.1267230001259561,-0.7125292116463977,-1.223740915429738,1.7028564850815053,-0.025254987372562845,0.14252619879882147,-1.424391582709415,-0.1305437297684222,-1.114889983872903,0.8818507740128105,1.7383740083404464,0.26964871270546237,-1.1071106984364947,1.0031650408456287,-0.9530919999597487,-1.5771064309978597,-1.548931175254627,1.1505022138477403,-0.7345193249486318,1.8285714520083187,0.8272062189740068,0.8279518009515064,0.3568071184223297,-0.3306248498338502,0.4467509629034824,1.6445920281443878,-0.9967417532997104,-1.0556863288562042,0.35588131793485744,-1.1358190099883094,0.4211429293134869,0.15585056701122604,1.8748160736152852,2.344329847624523,-0.05539633385281114,2.0885407026049565,-1.1947913568464845],\"type\":\"bar\"}],                        {\"legend\":{\"bgcolor\":\"#F5F6F9\",\"font\":{\"color\":\"#4D5663\"}},\"paper_bgcolor\":\"#F5F6F9\",\"plot_bgcolor\":\"#F5F6F9\",\"template\":{\"data\":{\"barpolar\":[{\"marker\":{\"line\":{\"color\":\"#E5ECF6\",\"width\":0.5},\"pattern\":{\"fillmode\":\"overlay\",\"size\":10,\"solidity\":0.2}},\"type\":\"barpolar\"}],\"bar\":[{\"error_x\":{\"color\":\"#2a3f5f\"},\"error_y\":{\"color\":\"#2a3f5f\"},\"marker\":{\"line\":{\"color\":\"#E5ECF6\",\"width\":0.5},\"pattern\":{\"fillmode\":\"overlay\",\"size\":10,\"solidity\":0.2}},\"type\":\"bar\"}],\"carpet\":[{\"aaxis\":{\"endlinecolor\":\"#2a3f5f\",\"gridcolor\":\"white\",\"linecolor\":\"white\",\"minorgridcolor\":\"white\",\"startlinecolor\":\"#2a3f5f\"},\"baxis\":{\"endlinecolor\":\"#2a3f5f\",\"gridcolor\":\"white\",\"linecolor\":\"white\",\"minorgridcolor\":\"white\",\"startlinecolor\":\"#2a3f5f\"},\"type\":\"carpet\"}],\"choropleth\":[{\"colorbar\":{\"outlinewidth\":0,\"ticks\":\"\"},\"type\":\"choropleth\"}],\"contourcarpet\":[{\"colorbar\":{\"outlinewidth\":0,\"ticks\":\"\"},\"type\":\"contourcarpet\"}],\"contour\":[{\"colorbar\":{\"outlinewidth\":0,\"ticks\":\"\"},\"colorscale\":[[0.0,\"#0d0887\"],[0.1111111111111111,\"#46039f\"],[0.2222222222222222,\"#7201a8\"],[0.3333333333333333,\"#9c179e\"],[0.4444444444444444,\"#bd3786\"],[0.5555555555555556,\"#d8576b\"],[0.6666666666666666,\"#ed7953\"],[0.7777777777777778,\"#fb9f3a\"],[0.8888888888888888,\"#fdca26\"],[1.0,\"#f0f921\"]],\"type\":\"contour\"}],\"heatmapgl\":[{\"colorbar\":{\"outlinewidth\":0,\"ticks\":\"\"},\"colorscale\":[[0.0,\"#0d0887\"],[0.1111111111111111,\"#46039f\"],[0.2222222222222222,\"#7201a8\"],[0.3333333333333333,\"#9c179e\"],[0.4444444444444444,\"#bd3786\"],[0.5555555555555556,\"#d8576b\"],[0.6666666666666666,\"#ed7953\"],[0.7777777777777778,\"#fb9f3a\"],[0.8888888888888888,\"#fdca26\"],[1.0,\"#f0f921\"]],\"type\":\"heatmapgl\"}],\"heatmap\":[{\"colorbar\":{\"outlinewidth\":0,\"ticks\":\"\"},\"colorscale\":[[0.0,\"#0d0887\"],[0.1111111111111111,\"#46039f\"],[0.2222222222222222,\"#7201a8\"],[0.3333333333333333,\"#9c179e\"],[0.4444444444444444,\"#bd3786\"],[0.5555555555555556,\"#d8576b\"],[0.6666666666666666,\"#ed7953\"],[0.7777777777777778,\"#fb9f3a\"],[0.8888888888888888,\"#fdca26\"],[1.0,\"#f0f921\"]],\"type\":\"heatmap\"}],\"histogram2dcontour\":[{\"colorbar\":{\"outlinewidth\":0,\"ticks\":\"\"},\"colorscale\":[[0.0,\"#0d0887\"],[0.1111111111111111,\"#46039f\"],[0.2222222222222222,\"#7201a8\"],[0.3333333333333333,\"#9c179e\"],[0.4444444444444444,\"#bd3786\"],[0.5555555555555556,\"#d8576b\"],[0.6666666666666666,\"#ed7953\"],[0.7777777777777778,\"#fb9f3a\"],[0.8888888888888888,\"#fdca26\"],[1.0,\"#f0f921\"]],\"type\":\"histogram2dcontour\"}],\"histogram2d\":[{\"colorbar\":{\"outlinewidth\":0,\"ticks\":\"\"},\"colorscale\":[[0.0,\"#0d0887\"],[0.1111111111111111,\"#46039f\"],[0.2222222222222222,\"#7201a8\"],[0.3333333333333333,\"#9c179e\"],[0.4444444444444444,\"#bd3786\"],[0.5555555555555556,\"#d8576b\"],[0.6666666666666666,\"#ed7953\"],[0.7777777777777778,\"#fb9f3a\"],[0.8888888888888888,\"#fdca26\"],[1.0,\"#f0f921\"]],\"type\":\"histogram2d\"}],\"histogram\":[{\"marker\":{\"pattern\":{\"fillmode\":\"overlay\",\"size\":10,\"solidity\":0.2}},\"type\":\"histogram\"}],\"mesh3d\":[{\"colorbar\":{\"outlinewidth\":0,\"ticks\":\"\"},\"type\":\"mesh3d\"}],\"parcoords\":[{\"line\":{\"colorbar\":{\"outlinewidth\":0,\"ticks\":\"\"}},\"type\":\"parcoords\"}],\"pie\":[{\"automargin\":true,\"type\":\"pie\"}],\"scatter3d\":[{\"line\":{\"colorbar\":{\"outlinewidth\":0,\"ticks\":\"\"}},\"marker\":{\"colorbar\":{\"outlinewidth\":0,\"ticks\":\"\"}},\"type\":\"scatter3d\"}],\"scattercarpet\":[{\"marker\":{\"colorbar\":{\"outlinewidth\":0,\"ticks\":\"\"}},\"type\":\"scattercarpet\"}],\"scattergeo\":[{\"marker\":{\"colorbar\":{\"outlinewidth\":0,\"ticks\":\"\"}},\"type\":\"scattergeo\"}],\"scattergl\":[{\"marker\":{\"colorbar\":{\"outlinewidth\":0,\"ticks\":\"\"}},\"type\":\"scattergl\"}],\"scattermapbox\":[{\"marker\":{\"colorbar\":{\"outlinewidth\":0,\"ticks\":\"\"}},\"type\":\"scattermapbox\"}],\"scatterpolargl\":[{\"marker\":{\"colorbar\":{\"outlinewidth\":0,\"ticks\":\"\"}},\"type\":\"scatterpolargl\"}],\"scatterpolar\":[{\"marker\":{\"colorbar\":{\"outlinewidth\":0,\"ticks\":\"\"}},\"type\":\"scatterpolar\"}],\"scatter\":[{\"marker\":{\"colorbar\":{\"outlinewidth\":0,\"ticks\":\"\"}},\"type\":\"scatter\"}],\"scatterternary\":[{\"marker\":{\"colorbar\":{\"outlinewidth\":0,\"ticks\":\"\"}},\"type\":\"scatterternary\"}],\"surface\":[{\"colorbar\":{\"outlinewidth\":0,\"ticks\":\"\"},\"colorscale\":[[0.0,\"#0d0887\"],[0.1111111111111111,\"#46039f\"],[0.2222222222222222,\"#7201a8\"],[0.3333333333333333,\"#9c179e\"],[0.4444444444444444,\"#bd3786\"],[0.5555555555555556,\"#d8576b\"],[0.6666666666666666,\"#ed7953\"],[0.7777777777777778,\"#fb9f3a\"],[0.8888888888888888,\"#fdca26\"],[1.0,\"#f0f921\"]],\"type\":\"surface\"}],\"table\":[{\"cells\":{\"fill\":{\"color\":\"#EBF0F8\"},\"line\":{\"color\":\"white\"}},\"header\":{\"fill\":{\"color\":\"#C8D4E3\"},\"line\":{\"color\":\"white\"}},\"type\":\"table\"}]},\"layout\":{\"annotationdefaults\":{\"arrowcolor\":\"#2a3f5f\",\"arrowhead\":0,\"arrowwidth\":1},\"autotypenumbers\":\"strict\",\"coloraxis\":{\"colorbar\":{\"outlinewidth\":0,\"ticks\":\"\"}},\"colorscale\":{\"diverging\":[[0,\"#8e0152\"],[0.1,\"#c51b7d\"],[0.2,\"#de77ae\"],[0.3,\"#f1b6da\"],[0.4,\"#fde0ef\"],[0.5,\"#f7f7f7\"],[0.6,\"#e6f5d0\"],[0.7,\"#b8e186\"],[0.8,\"#7fbc41\"],[0.9,\"#4d9221\"],[1,\"#276419\"]],\"sequential\":[[0.0,\"#0d0887\"],[0.1111111111111111,\"#46039f\"],[0.2222222222222222,\"#7201a8\"],[0.3333333333333333,\"#9c179e\"],[0.4444444444444444,\"#bd3786\"],[0.5555555555555556,\"#d8576b\"],[0.6666666666666666,\"#ed7953\"],[0.7777777777777778,\"#fb9f3a\"],[0.8888888888888888,\"#fdca26\"],[1.0,\"#f0f921\"]],\"sequentialminus\":[[0.0,\"#0d0887\"],[0.1111111111111111,\"#46039f\"],[0.2222222222222222,\"#7201a8\"],[0.3333333333333333,\"#9c179e\"],[0.4444444444444444,\"#bd3786\"],[0.5555555555555556,\"#d8576b\"],[0.6666666666666666,\"#ed7953\"],[0.7777777777777778,\"#fb9f3a\"],[0.8888888888888888,\"#fdca26\"],[1.0,\"#f0f921\"]]},\"colorway\":[\"#636efa\",\"#EF553B\",\"#00cc96\",\"#ab63fa\",\"#FFA15A\",\"#19d3f3\",\"#FF6692\",\"#B6E880\",\"#FF97FF\",\"#FECB52\"],\"font\":{\"color\":\"#2a3f5f\"},\"geo\":{\"bgcolor\":\"white\",\"lakecolor\":\"white\",\"landcolor\":\"#E5ECF6\",\"showlakes\":true,\"showland\":true,\"subunitcolor\":\"white\"},\"hoverlabel\":{\"align\":\"left\"},\"hovermode\":\"closest\",\"mapbox\":{\"style\":\"light\"},\"paper_bgcolor\":\"white\",\"plot_bgcolor\":\"#E5ECF6\",\"polar\":{\"angularaxis\":{\"gridcolor\":\"white\",\"linecolor\":\"white\",\"ticks\":\"\"},\"bgcolor\":\"#E5ECF6\",\"radialaxis\":{\"gridcolor\":\"white\",\"linecolor\":\"white\",\"ticks\":\"\"}},\"scene\":{\"xaxis\":{\"backgroundcolor\":\"#E5ECF6\",\"gridcolor\":\"white\",\"gridwidth\":2,\"linecolor\":\"white\",\"showbackground\":true,\"ticks\":\"\",\"zerolinecolor\":\"white\"},\"yaxis\":{\"backgroundcolor\":\"#E5ECF6\",\"gridcolor\":\"white\",\"gridwidth\":2,\"linecolor\":\"white\",\"showbackground\":true,\"ticks\":\"\",\"zerolinecolor\":\"white\"},\"zaxis\":{\"backgroundcolor\":\"#E5ECF6\",\"gridcolor\":\"white\",\"gridwidth\":2,\"linecolor\":\"white\",\"showbackground\":true,\"ticks\":\"\",\"zerolinecolor\":\"white\"}},\"shapedefaults\":{\"line\":{\"color\":\"#2a3f5f\"}},\"ternary\":{\"aaxis\":{\"gridcolor\":\"white\",\"linecolor\":\"white\",\"ticks\":\"\"},\"baxis\":{\"gridcolor\":\"white\",\"linecolor\":\"white\",\"ticks\":\"\"},\"bgcolor\":\"#E5ECF6\",\"caxis\":{\"gridcolor\":\"white\",\"linecolor\":\"white\",\"ticks\":\"\"}},\"title\":{\"x\":0.05},\"xaxis\":{\"automargin\":true,\"gridcolor\":\"white\",\"linecolor\":\"white\",\"ticks\":\"\",\"title\":{\"standoff\":15},\"zerolinecolor\":\"white\",\"zerolinewidth\":2},\"yaxis\":{\"automargin\":true,\"gridcolor\":\"white\",\"linecolor\":\"white\",\"ticks\":\"\",\"title\":{\"standoff\":15},\"zerolinecolor\":\"white\",\"zerolinewidth\":2}}},\"title\":{\"font\":{\"color\":\"#4D5663\"}},\"xaxis\":{\"gridcolor\":\"#E1E5ED\",\"showgrid\":true,\"tickfont\":{\"color\":\"#4D5663\"},\"title\":{\"font\":{\"color\":\"#4D5663\"},\"text\":\"\"},\"zerolinecolor\":\"#E1E5ED\"},\"yaxis\":{\"gridcolor\":\"#E1E5ED\",\"showgrid\":true,\"tickfont\":{\"color\":\"#4D5663\"},\"title\":{\"font\":{\"color\":\"#4D5663\"},\"text\":\"\"},\"zerolinecolor\":\"#E1E5ED\"}},                        {\"showLink\": true, \"linkText\": \"Export to plotly.com\", \"plotlyServerURL\": \"https://plotly.com\", \"responsive\": true}                    ).then(function(){\n",
       "                            \n",
       "var gd = document.getElementById('f205cd0d-2a41-4fc7-9734-3ad3b4c7108b');\n",
       "var x = new MutationObserver(function (mutations, observer) {{\n",
       "        var display = window.getComputedStyle(gd).display;\n",
       "        if (!display || display === 'none') {{\n",
       "            console.log([gd, 'removed!']);\n",
       "            Plotly.purge(gd);\n",
       "            observer.disconnect();\n",
       "        }}\n",
       "}});\n",
       "\n",
       "// Listen for the removal of the full notebook cells\n",
       "var notebookContainer = gd.closest('#notebook-container');\n",
       "if (notebookContainer) {{\n",
       "    x.observe(notebookContainer, {childList: true});\n",
       "}}\n",
       "\n",
       "// Listen for the clearing of the current output cell\n",
       "var outputEl = gd.closest('.output');\n",
       "if (outputEl) {{\n",
       "    x.observe(outputEl, {childList: true});\n",
       "}}\n",
       "\n",
       "                        })                };                });            </script>        </div>"
      ]
     },
     "metadata": {},
     "output_type": "display_data"
    }
   ],
   "source": [
    "df.iplot(kind='bar')"
   ]
  },
  {
   "cell_type": "code",
   "execution_count": 27,
   "metadata": {},
   "outputs": [
    {
     "data": {
      "application/vnd.plotly.v1+json": {
       "config": {
        "linkText": "Export to plotly.com",
        "plotlyServerURL": "https://plotly.com",
        "showLink": true
       },
       "data": [
        {
         "marker": {
          "color": "rgba(255, 153, 51, 0.6)",
          "line": {
           "color": "rgba(255, 153, 51, 1.0)",
           "width": 1
          }
         },
         "name": "None",
         "orientation": "v",
         "text": "",
         "type": "bar",
         "x": [
          "A",
          "B",
          "C",
          "D"
         ],
         "y": [
          100,
          100,
          100,
          100
         ]
        }
       ],
       "layout": {
        "legend": {
         "bgcolor": "#F5F6F9",
         "font": {
          "color": "#4D5663"
         }
        },
        "paper_bgcolor": "#F5F6F9",
        "plot_bgcolor": "#F5F6F9",
        "template": {
         "data": {
          "bar": [
           {
            "error_x": {
             "color": "#2a3f5f"
            },
            "error_y": {
             "color": "#2a3f5f"
            },
            "marker": {
             "line": {
              "color": "#E5ECF6",
              "width": 0.5
             },
             "pattern": {
              "fillmode": "overlay",
              "size": 10,
              "solidity": 0.2
             }
            },
            "type": "bar"
           }
          ],
          "barpolar": [
           {
            "marker": {
             "line": {
              "color": "#E5ECF6",
              "width": 0.5
             },
             "pattern": {
              "fillmode": "overlay",
              "size": 10,
              "solidity": 0.2
             }
            },
            "type": "barpolar"
           }
          ],
          "carpet": [
           {
            "aaxis": {
             "endlinecolor": "#2a3f5f",
             "gridcolor": "white",
             "linecolor": "white",
             "minorgridcolor": "white",
             "startlinecolor": "#2a3f5f"
            },
            "baxis": {
             "endlinecolor": "#2a3f5f",
             "gridcolor": "white",
             "linecolor": "white",
             "minorgridcolor": "white",
             "startlinecolor": "#2a3f5f"
            },
            "type": "carpet"
           }
          ],
          "choropleth": [
           {
            "colorbar": {
             "outlinewidth": 0,
             "ticks": ""
            },
            "type": "choropleth"
           }
          ],
          "contour": [
           {
            "colorbar": {
             "outlinewidth": 0,
             "ticks": ""
            },
            "colorscale": [
             [
              0,
              "#0d0887"
             ],
             [
              0.1111111111111111,
              "#46039f"
             ],
             [
              0.2222222222222222,
              "#7201a8"
             ],
             [
              0.3333333333333333,
              "#9c179e"
             ],
             [
              0.4444444444444444,
              "#bd3786"
             ],
             [
              0.5555555555555556,
              "#d8576b"
             ],
             [
              0.6666666666666666,
              "#ed7953"
             ],
             [
              0.7777777777777778,
              "#fb9f3a"
             ],
             [
              0.8888888888888888,
              "#fdca26"
             ],
             [
              1,
              "#f0f921"
             ]
            ],
            "type": "contour"
           }
          ],
          "contourcarpet": [
           {
            "colorbar": {
             "outlinewidth": 0,
             "ticks": ""
            },
            "type": "contourcarpet"
           }
          ],
          "heatmap": [
           {
            "colorbar": {
             "outlinewidth": 0,
             "ticks": ""
            },
            "colorscale": [
             [
              0,
              "#0d0887"
             ],
             [
              0.1111111111111111,
              "#46039f"
             ],
             [
              0.2222222222222222,
              "#7201a8"
             ],
             [
              0.3333333333333333,
              "#9c179e"
             ],
             [
              0.4444444444444444,
              "#bd3786"
             ],
             [
              0.5555555555555556,
              "#d8576b"
             ],
             [
              0.6666666666666666,
              "#ed7953"
             ],
             [
              0.7777777777777778,
              "#fb9f3a"
             ],
             [
              0.8888888888888888,
              "#fdca26"
             ],
             [
              1,
              "#f0f921"
             ]
            ],
            "type": "heatmap"
           }
          ],
          "heatmapgl": [
           {
            "colorbar": {
             "outlinewidth": 0,
             "ticks": ""
            },
            "colorscale": [
             [
              0,
              "#0d0887"
             ],
             [
              0.1111111111111111,
              "#46039f"
             ],
             [
              0.2222222222222222,
              "#7201a8"
             ],
             [
              0.3333333333333333,
              "#9c179e"
             ],
             [
              0.4444444444444444,
              "#bd3786"
             ],
             [
              0.5555555555555556,
              "#d8576b"
             ],
             [
              0.6666666666666666,
              "#ed7953"
             ],
             [
              0.7777777777777778,
              "#fb9f3a"
             ],
             [
              0.8888888888888888,
              "#fdca26"
             ],
             [
              1,
              "#f0f921"
             ]
            ],
            "type": "heatmapgl"
           }
          ],
          "histogram": [
           {
            "marker": {
             "pattern": {
              "fillmode": "overlay",
              "size": 10,
              "solidity": 0.2
             }
            },
            "type": "histogram"
           }
          ],
          "histogram2d": [
           {
            "colorbar": {
             "outlinewidth": 0,
             "ticks": ""
            },
            "colorscale": [
             [
              0,
              "#0d0887"
             ],
             [
              0.1111111111111111,
              "#46039f"
             ],
             [
              0.2222222222222222,
              "#7201a8"
             ],
             [
              0.3333333333333333,
              "#9c179e"
             ],
             [
              0.4444444444444444,
              "#bd3786"
             ],
             [
              0.5555555555555556,
              "#d8576b"
             ],
             [
              0.6666666666666666,
              "#ed7953"
             ],
             [
              0.7777777777777778,
              "#fb9f3a"
             ],
             [
              0.8888888888888888,
              "#fdca26"
             ],
             [
              1,
              "#f0f921"
             ]
            ],
            "type": "histogram2d"
           }
          ],
          "histogram2dcontour": [
           {
            "colorbar": {
             "outlinewidth": 0,
             "ticks": ""
            },
            "colorscale": [
             [
              0,
              "#0d0887"
             ],
             [
              0.1111111111111111,
              "#46039f"
             ],
             [
              0.2222222222222222,
              "#7201a8"
             ],
             [
              0.3333333333333333,
              "#9c179e"
             ],
             [
              0.4444444444444444,
              "#bd3786"
             ],
             [
              0.5555555555555556,
              "#d8576b"
             ],
             [
              0.6666666666666666,
              "#ed7953"
             ],
             [
              0.7777777777777778,
              "#fb9f3a"
             ],
             [
              0.8888888888888888,
              "#fdca26"
             ],
             [
              1,
              "#f0f921"
             ]
            ],
            "type": "histogram2dcontour"
           }
          ],
          "mesh3d": [
           {
            "colorbar": {
             "outlinewidth": 0,
             "ticks": ""
            },
            "type": "mesh3d"
           }
          ],
          "parcoords": [
           {
            "line": {
             "colorbar": {
              "outlinewidth": 0,
              "ticks": ""
             }
            },
            "type": "parcoords"
           }
          ],
          "pie": [
           {
            "automargin": true,
            "type": "pie"
           }
          ],
          "scatter": [
           {
            "marker": {
             "colorbar": {
              "outlinewidth": 0,
              "ticks": ""
             }
            },
            "type": "scatter"
           }
          ],
          "scatter3d": [
           {
            "line": {
             "colorbar": {
              "outlinewidth": 0,
              "ticks": ""
             }
            },
            "marker": {
             "colorbar": {
              "outlinewidth": 0,
              "ticks": ""
             }
            },
            "type": "scatter3d"
           }
          ],
          "scattercarpet": [
           {
            "marker": {
             "colorbar": {
              "outlinewidth": 0,
              "ticks": ""
             }
            },
            "type": "scattercarpet"
           }
          ],
          "scattergeo": [
           {
            "marker": {
             "colorbar": {
              "outlinewidth": 0,
              "ticks": ""
             }
            },
            "type": "scattergeo"
           }
          ],
          "scattergl": [
           {
            "marker": {
             "colorbar": {
              "outlinewidth": 0,
              "ticks": ""
             }
            },
            "type": "scattergl"
           }
          ],
          "scattermapbox": [
           {
            "marker": {
             "colorbar": {
              "outlinewidth": 0,
              "ticks": ""
             }
            },
            "type": "scattermapbox"
           }
          ],
          "scatterpolar": [
           {
            "marker": {
             "colorbar": {
              "outlinewidth": 0,
              "ticks": ""
             }
            },
            "type": "scatterpolar"
           }
          ],
          "scatterpolargl": [
           {
            "marker": {
             "colorbar": {
              "outlinewidth": 0,
              "ticks": ""
             }
            },
            "type": "scatterpolargl"
           }
          ],
          "scatterternary": [
           {
            "marker": {
             "colorbar": {
              "outlinewidth": 0,
              "ticks": ""
             }
            },
            "type": "scatterternary"
           }
          ],
          "surface": [
           {
            "colorbar": {
             "outlinewidth": 0,
             "ticks": ""
            },
            "colorscale": [
             [
              0,
              "#0d0887"
             ],
             [
              0.1111111111111111,
              "#46039f"
             ],
             [
              0.2222222222222222,
              "#7201a8"
             ],
             [
              0.3333333333333333,
              "#9c179e"
             ],
             [
              0.4444444444444444,
              "#bd3786"
             ],
             [
              0.5555555555555556,
              "#d8576b"
             ],
             [
              0.6666666666666666,
              "#ed7953"
             ],
             [
              0.7777777777777778,
              "#fb9f3a"
             ],
             [
              0.8888888888888888,
              "#fdca26"
             ],
             [
              1,
              "#f0f921"
             ]
            ],
            "type": "surface"
           }
          ],
          "table": [
           {
            "cells": {
             "fill": {
              "color": "#EBF0F8"
             },
             "line": {
              "color": "white"
             }
            },
            "header": {
             "fill": {
              "color": "#C8D4E3"
             },
             "line": {
              "color": "white"
             }
            },
            "type": "table"
           }
          ]
         },
         "layout": {
          "annotationdefaults": {
           "arrowcolor": "#2a3f5f",
           "arrowhead": 0,
           "arrowwidth": 1
          },
          "autotypenumbers": "strict",
          "coloraxis": {
           "colorbar": {
            "outlinewidth": 0,
            "ticks": ""
           }
          },
          "colorscale": {
           "diverging": [
            [
             0,
             "#8e0152"
            ],
            [
             0.1,
             "#c51b7d"
            ],
            [
             0.2,
             "#de77ae"
            ],
            [
             0.3,
             "#f1b6da"
            ],
            [
             0.4,
             "#fde0ef"
            ],
            [
             0.5,
             "#f7f7f7"
            ],
            [
             0.6,
             "#e6f5d0"
            ],
            [
             0.7,
             "#b8e186"
            ],
            [
             0.8,
             "#7fbc41"
            ],
            [
             0.9,
             "#4d9221"
            ],
            [
             1,
             "#276419"
            ]
           ],
           "sequential": [
            [
             0,
             "#0d0887"
            ],
            [
             0.1111111111111111,
             "#46039f"
            ],
            [
             0.2222222222222222,
             "#7201a8"
            ],
            [
             0.3333333333333333,
             "#9c179e"
            ],
            [
             0.4444444444444444,
             "#bd3786"
            ],
            [
             0.5555555555555556,
             "#d8576b"
            ],
            [
             0.6666666666666666,
             "#ed7953"
            ],
            [
             0.7777777777777778,
             "#fb9f3a"
            ],
            [
             0.8888888888888888,
             "#fdca26"
            ],
            [
             1,
             "#f0f921"
            ]
           ],
           "sequentialminus": [
            [
             0,
             "#0d0887"
            ],
            [
             0.1111111111111111,
             "#46039f"
            ],
            [
             0.2222222222222222,
             "#7201a8"
            ],
            [
             0.3333333333333333,
             "#9c179e"
            ],
            [
             0.4444444444444444,
             "#bd3786"
            ],
            [
             0.5555555555555556,
             "#d8576b"
            ],
            [
             0.6666666666666666,
             "#ed7953"
            ],
            [
             0.7777777777777778,
             "#fb9f3a"
            ],
            [
             0.8888888888888888,
             "#fdca26"
            ],
            [
             1,
             "#f0f921"
            ]
           ]
          },
          "colorway": [
           "#636efa",
           "#EF553B",
           "#00cc96",
           "#ab63fa",
           "#FFA15A",
           "#19d3f3",
           "#FF6692",
           "#B6E880",
           "#FF97FF",
           "#FECB52"
          ],
          "font": {
           "color": "#2a3f5f"
          },
          "geo": {
           "bgcolor": "white",
           "lakecolor": "white",
           "landcolor": "#E5ECF6",
           "showlakes": true,
           "showland": true,
           "subunitcolor": "white"
          },
          "hoverlabel": {
           "align": "left"
          },
          "hovermode": "closest",
          "mapbox": {
           "style": "light"
          },
          "paper_bgcolor": "white",
          "plot_bgcolor": "#E5ECF6",
          "polar": {
           "angularaxis": {
            "gridcolor": "white",
            "linecolor": "white",
            "ticks": ""
           },
           "bgcolor": "#E5ECF6",
           "radialaxis": {
            "gridcolor": "white",
            "linecolor": "white",
            "ticks": ""
           }
          },
          "scene": {
           "xaxis": {
            "backgroundcolor": "#E5ECF6",
            "gridcolor": "white",
            "gridwidth": 2,
            "linecolor": "white",
            "showbackground": true,
            "ticks": "",
            "zerolinecolor": "white"
           },
           "yaxis": {
            "backgroundcolor": "#E5ECF6",
            "gridcolor": "white",
            "gridwidth": 2,
            "linecolor": "white",
            "showbackground": true,
            "ticks": "",
            "zerolinecolor": "white"
           },
           "zaxis": {
            "backgroundcolor": "#E5ECF6",
            "gridcolor": "white",
            "gridwidth": 2,
            "linecolor": "white",
            "showbackground": true,
            "ticks": "",
            "zerolinecolor": "white"
           }
          },
          "shapedefaults": {
           "line": {
            "color": "#2a3f5f"
           }
          },
          "ternary": {
           "aaxis": {
            "gridcolor": "white",
            "linecolor": "white",
            "ticks": ""
           },
           "baxis": {
            "gridcolor": "white",
            "linecolor": "white",
            "ticks": ""
           },
           "bgcolor": "#E5ECF6",
           "caxis": {
            "gridcolor": "white",
            "linecolor": "white",
            "ticks": ""
           }
          },
          "title": {
           "x": 0.05
          },
          "xaxis": {
           "automargin": true,
           "gridcolor": "white",
           "linecolor": "white",
           "ticks": "",
           "title": {
            "standoff": 15
           },
           "zerolinecolor": "white",
           "zerolinewidth": 2
          },
          "yaxis": {
           "automargin": true,
           "gridcolor": "white",
           "linecolor": "white",
           "ticks": "",
           "title": {
            "standoff": 15
           },
           "zerolinecolor": "white",
           "zerolinewidth": 2
          }
         }
        },
        "title": {
         "font": {
          "color": "#4D5663"
         }
        },
        "xaxis": {
         "gridcolor": "#E1E5ED",
         "showgrid": true,
         "tickfont": {
          "color": "#4D5663"
         },
         "title": {
          "font": {
           "color": "#4D5663"
          },
          "text": ""
         },
         "zerolinecolor": "#E1E5ED"
        },
        "yaxis": {
         "gridcolor": "#E1E5ED",
         "showgrid": true,
         "tickfont": {
          "color": "#4D5663"
         },
         "title": {
          "font": {
           "color": "#4D5663"
          },
          "text": ""
         },
         "zerolinecolor": "#E1E5ED"
        }
       }
      },
      "text/html": [
       "<div>                            <div id=\"76eb3534-2084-45d8-8610-d0219d9c161d\" class=\"plotly-graph-div\" style=\"height:525px; width:100%;\"></div>            <script type=\"text/javascript\">                require([\"plotly\"], function(Plotly) {                    window.PLOTLYENV=window.PLOTLYENV || {};\n",
       "                    window.PLOTLYENV.BASE_URL='https://plotly.com';                                    if (document.getElementById(\"76eb3534-2084-45d8-8610-d0219d9c161d\")) {                    Plotly.newPlot(                        \"76eb3534-2084-45d8-8610-d0219d9c161d\",                        [{\"marker\":{\"color\":\"rgba(255, 153, 51, 0.6)\",\"line\":{\"color\":\"rgba(255, 153, 51, 1.0)\",\"width\":1}},\"name\":\"None\",\"orientation\":\"v\",\"text\":\"\",\"x\":[\"A\",\"B\",\"C\",\"D\"],\"y\":[100,100,100,100],\"type\":\"bar\"}],                        {\"legend\":{\"bgcolor\":\"#F5F6F9\",\"font\":{\"color\":\"#4D5663\"}},\"paper_bgcolor\":\"#F5F6F9\",\"plot_bgcolor\":\"#F5F6F9\",\"template\":{\"data\":{\"barpolar\":[{\"marker\":{\"line\":{\"color\":\"#E5ECF6\",\"width\":0.5},\"pattern\":{\"fillmode\":\"overlay\",\"size\":10,\"solidity\":0.2}},\"type\":\"barpolar\"}],\"bar\":[{\"error_x\":{\"color\":\"#2a3f5f\"},\"error_y\":{\"color\":\"#2a3f5f\"},\"marker\":{\"line\":{\"color\":\"#E5ECF6\",\"width\":0.5},\"pattern\":{\"fillmode\":\"overlay\",\"size\":10,\"solidity\":0.2}},\"type\":\"bar\"}],\"carpet\":[{\"aaxis\":{\"endlinecolor\":\"#2a3f5f\",\"gridcolor\":\"white\",\"linecolor\":\"white\",\"minorgridcolor\":\"white\",\"startlinecolor\":\"#2a3f5f\"},\"baxis\":{\"endlinecolor\":\"#2a3f5f\",\"gridcolor\":\"white\",\"linecolor\":\"white\",\"minorgridcolor\":\"white\",\"startlinecolor\":\"#2a3f5f\"},\"type\":\"carpet\"}],\"choropleth\":[{\"colorbar\":{\"outlinewidth\":0,\"ticks\":\"\"},\"type\":\"choropleth\"}],\"contourcarpet\":[{\"colorbar\":{\"outlinewidth\":0,\"ticks\":\"\"},\"type\":\"contourcarpet\"}],\"contour\":[{\"colorbar\":{\"outlinewidth\":0,\"ticks\":\"\"},\"colorscale\":[[0.0,\"#0d0887\"],[0.1111111111111111,\"#46039f\"],[0.2222222222222222,\"#7201a8\"],[0.3333333333333333,\"#9c179e\"],[0.4444444444444444,\"#bd3786\"],[0.5555555555555556,\"#d8576b\"],[0.6666666666666666,\"#ed7953\"],[0.7777777777777778,\"#fb9f3a\"],[0.8888888888888888,\"#fdca26\"],[1.0,\"#f0f921\"]],\"type\":\"contour\"}],\"heatmapgl\":[{\"colorbar\":{\"outlinewidth\":0,\"ticks\":\"\"},\"colorscale\":[[0.0,\"#0d0887\"],[0.1111111111111111,\"#46039f\"],[0.2222222222222222,\"#7201a8\"],[0.3333333333333333,\"#9c179e\"],[0.4444444444444444,\"#bd3786\"],[0.5555555555555556,\"#d8576b\"],[0.6666666666666666,\"#ed7953\"],[0.7777777777777778,\"#fb9f3a\"],[0.8888888888888888,\"#fdca26\"],[1.0,\"#f0f921\"]],\"type\":\"heatmapgl\"}],\"heatmap\":[{\"colorbar\":{\"outlinewidth\":0,\"ticks\":\"\"},\"colorscale\":[[0.0,\"#0d0887\"],[0.1111111111111111,\"#46039f\"],[0.2222222222222222,\"#7201a8\"],[0.3333333333333333,\"#9c179e\"],[0.4444444444444444,\"#bd3786\"],[0.5555555555555556,\"#d8576b\"],[0.6666666666666666,\"#ed7953\"],[0.7777777777777778,\"#fb9f3a\"],[0.8888888888888888,\"#fdca26\"],[1.0,\"#f0f921\"]],\"type\":\"heatmap\"}],\"histogram2dcontour\":[{\"colorbar\":{\"outlinewidth\":0,\"ticks\":\"\"},\"colorscale\":[[0.0,\"#0d0887\"],[0.1111111111111111,\"#46039f\"],[0.2222222222222222,\"#7201a8\"],[0.3333333333333333,\"#9c179e\"],[0.4444444444444444,\"#bd3786\"],[0.5555555555555556,\"#d8576b\"],[0.6666666666666666,\"#ed7953\"],[0.7777777777777778,\"#fb9f3a\"],[0.8888888888888888,\"#fdca26\"],[1.0,\"#f0f921\"]],\"type\":\"histogram2dcontour\"}],\"histogram2d\":[{\"colorbar\":{\"outlinewidth\":0,\"ticks\":\"\"},\"colorscale\":[[0.0,\"#0d0887\"],[0.1111111111111111,\"#46039f\"],[0.2222222222222222,\"#7201a8\"],[0.3333333333333333,\"#9c179e\"],[0.4444444444444444,\"#bd3786\"],[0.5555555555555556,\"#d8576b\"],[0.6666666666666666,\"#ed7953\"],[0.7777777777777778,\"#fb9f3a\"],[0.8888888888888888,\"#fdca26\"],[1.0,\"#f0f921\"]],\"type\":\"histogram2d\"}],\"histogram\":[{\"marker\":{\"pattern\":{\"fillmode\":\"overlay\",\"size\":10,\"solidity\":0.2}},\"type\":\"histogram\"}],\"mesh3d\":[{\"colorbar\":{\"outlinewidth\":0,\"ticks\":\"\"},\"type\":\"mesh3d\"}],\"parcoords\":[{\"line\":{\"colorbar\":{\"outlinewidth\":0,\"ticks\":\"\"}},\"type\":\"parcoords\"}],\"pie\":[{\"automargin\":true,\"type\":\"pie\"}],\"scatter3d\":[{\"line\":{\"colorbar\":{\"outlinewidth\":0,\"ticks\":\"\"}},\"marker\":{\"colorbar\":{\"outlinewidth\":0,\"ticks\":\"\"}},\"type\":\"scatter3d\"}],\"scattercarpet\":[{\"marker\":{\"colorbar\":{\"outlinewidth\":0,\"ticks\":\"\"}},\"type\":\"scattercarpet\"}],\"scattergeo\":[{\"marker\":{\"colorbar\":{\"outlinewidth\":0,\"ticks\":\"\"}},\"type\":\"scattergeo\"}],\"scattergl\":[{\"marker\":{\"colorbar\":{\"outlinewidth\":0,\"ticks\":\"\"}},\"type\":\"scattergl\"}],\"scattermapbox\":[{\"marker\":{\"colorbar\":{\"outlinewidth\":0,\"ticks\":\"\"}},\"type\":\"scattermapbox\"}],\"scatterpolargl\":[{\"marker\":{\"colorbar\":{\"outlinewidth\":0,\"ticks\":\"\"}},\"type\":\"scatterpolargl\"}],\"scatterpolar\":[{\"marker\":{\"colorbar\":{\"outlinewidth\":0,\"ticks\":\"\"}},\"type\":\"scatterpolar\"}],\"scatter\":[{\"marker\":{\"colorbar\":{\"outlinewidth\":0,\"ticks\":\"\"}},\"type\":\"scatter\"}],\"scatterternary\":[{\"marker\":{\"colorbar\":{\"outlinewidth\":0,\"ticks\":\"\"}},\"type\":\"scatterternary\"}],\"surface\":[{\"colorbar\":{\"outlinewidth\":0,\"ticks\":\"\"},\"colorscale\":[[0.0,\"#0d0887\"],[0.1111111111111111,\"#46039f\"],[0.2222222222222222,\"#7201a8\"],[0.3333333333333333,\"#9c179e\"],[0.4444444444444444,\"#bd3786\"],[0.5555555555555556,\"#d8576b\"],[0.6666666666666666,\"#ed7953\"],[0.7777777777777778,\"#fb9f3a\"],[0.8888888888888888,\"#fdca26\"],[1.0,\"#f0f921\"]],\"type\":\"surface\"}],\"table\":[{\"cells\":{\"fill\":{\"color\":\"#EBF0F8\"},\"line\":{\"color\":\"white\"}},\"header\":{\"fill\":{\"color\":\"#C8D4E3\"},\"line\":{\"color\":\"white\"}},\"type\":\"table\"}]},\"layout\":{\"annotationdefaults\":{\"arrowcolor\":\"#2a3f5f\",\"arrowhead\":0,\"arrowwidth\":1},\"autotypenumbers\":\"strict\",\"coloraxis\":{\"colorbar\":{\"outlinewidth\":0,\"ticks\":\"\"}},\"colorscale\":{\"diverging\":[[0,\"#8e0152\"],[0.1,\"#c51b7d\"],[0.2,\"#de77ae\"],[0.3,\"#f1b6da\"],[0.4,\"#fde0ef\"],[0.5,\"#f7f7f7\"],[0.6,\"#e6f5d0\"],[0.7,\"#b8e186\"],[0.8,\"#7fbc41\"],[0.9,\"#4d9221\"],[1,\"#276419\"]],\"sequential\":[[0.0,\"#0d0887\"],[0.1111111111111111,\"#46039f\"],[0.2222222222222222,\"#7201a8\"],[0.3333333333333333,\"#9c179e\"],[0.4444444444444444,\"#bd3786\"],[0.5555555555555556,\"#d8576b\"],[0.6666666666666666,\"#ed7953\"],[0.7777777777777778,\"#fb9f3a\"],[0.8888888888888888,\"#fdca26\"],[1.0,\"#f0f921\"]],\"sequentialminus\":[[0.0,\"#0d0887\"],[0.1111111111111111,\"#46039f\"],[0.2222222222222222,\"#7201a8\"],[0.3333333333333333,\"#9c179e\"],[0.4444444444444444,\"#bd3786\"],[0.5555555555555556,\"#d8576b\"],[0.6666666666666666,\"#ed7953\"],[0.7777777777777778,\"#fb9f3a\"],[0.8888888888888888,\"#fdca26\"],[1.0,\"#f0f921\"]]},\"colorway\":[\"#636efa\",\"#EF553B\",\"#00cc96\",\"#ab63fa\",\"#FFA15A\",\"#19d3f3\",\"#FF6692\",\"#B6E880\",\"#FF97FF\",\"#FECB52\"],\"font\":{\"color\":\"#2a3f5f\"},\"geo\":{\"bgcolor\":\"white\",\"lakecolor\":\"white\",\"landcolor\":\"#E5ECF6\",\"showlakes\":true,\"showland\":true,\"subunitcolor\":\"white\"},\"hoverlabel\":{\"align\":\"left\"},\"hovermode\":\"closest\",\"mapbox\":{\"style\":\"light\"},\"paper_bgcolor\":\"white\",\"plot_bgcolor\":\"#E5ECF6\",\"polar\":{\"angularaxis\":{\"gridcolor\":\"white\",\"linecolor\":\"white\",\"ticks\":\"\"},\"bgcolor\":\"#E5ECF6\",\"radialaxis\":{\"gridcolor\":\"white\",\"linecolor\":\"white\",\"ticks\":\"\"}},\"scene\":{\"xaxis\":{\"backgroundcolor\":\"#E5ECF6\",\"gridcolor\":\"white\",\"gridwidth\":2,\"linecolor\":\"white\",\"showbackground\":true,\"ticks\":\"\",\"zerolinecolor\":\"white\"},\"yaxis\":{\"backgroundcolor\":\"#E5ECF6\",\"gridcolor\":\"white\",\"gridwidth\":2,\"linecolor\":\"white\",\"showbackground\":true,\"ticks\":\"\",\"zerolinecolor\":\"white\"},\"zaxis\":{\"backgroundcolor\":\"#E5ECF6\",\"gridcolor\":\"white\",\"gridwidth\":2,\"linecolor\":\"white\",\"showbackground\":true,\"ticks\":\"\",\"zerolinecolor\":\"white\"}},\"shapedefaults\":{\"line\":{\"color\":\"#2a3f5f\"}},\"ternary\":{\"aaxis\":{\"gridcolor\":\"white\",\"linecolor\":\"white\",\"ticks\":\"\"},\"baxis\":{\"gridcolor\":\"white\",\"linecolor\":\"white\",\"ticks\":\"\"},\"bgcolor\":\"#E5ECF6\",\"caxis\":{\"gridcolor\":\"white\",\"linecolor\":\"white\",\"ticks\":\"\"}},\"title\":{\"x\":0.05},\"xaxis\":{\"automargin\":true,\"gridcolor\":\"white\",\"linecolor\":\"white\",\"ticks\":\"\",\"title\":{\"standoff\":15},\"zerolinecolor\":\"white\",\"zerolinewidth\":2},\"yaxis\":{\"automargin\":true,\"gridcolor\":\"white\",\"linecolor\":\"white\",\"ticks\":\"\",\"title\":{\"standoff\":15},\"zerolinecolor\":\"white\",\"zerolinewidth\":2}}},\"title\":{\"font\":{\"color\":\"#4D5663\"}},\"xaxis\":{\"gridcolor\":\"#E1E5ED\",\"showgrid\":true,\"tickfont\":{\"color\":\"#4D5663\"},\"title\":{\"font\":{\"color\":\"#4D5663\"},\"text\":\"\"},\"zerolinecolor\":\"#E1E5ED\"},\"yaxis\":{\"gridcolor\":\"#E1E5ED\",\"showgrid\":true,\"tickfont\":{\"color\":\"#4D5663\"},\"title\":{\"font\":{\"color\":\"#4D5663\"},\"text\":\"\"},\"zerolinecolor\":\"#E1E5ED\"}},                        {\"showLink\": true, \"linkText\": \"Export to plotly.com\", \"plotlyServerURL\": \"https://plotly.com\", \"responsive\": true}                    ).then(function(){\n",
       "                            \n",
       "var gd = document.getElementById('76eb3534-2084-45d8-8610-d0219d9c161d');\n",
       "var x = new MutationObserver(function (mutations, observer) {{\n",
       "        var display = window.getComputedStyle(gd).display;\n",
       "        if (!display || display === 'none') {{\n",
       "            console.log([gd, 'removed!']);\n",
       "            Plotly.purge(gd);\n",
       "            observer.disconnect();\n",
       "        }}\n",
       "}});\n",
       "\n",
       "// Listen for the removal of the full notebook cells\n",
       "var notebookContainer = gd.closest('#notebook-container');\n",
       "if (notebookContainer) {{\n",
       "    x.observe(notebookContainer, {childList: true});\n",
       "}}\n",
       "\n",
       "// Listen for the clearing of the current output cell\n",
       "var outputEl = gd.closest('.output');\n",
       "if (outputEl) {{\n",
       "    x.observe(outputEl, {childList: true});\n",
       "}}\n",
       "\n",
       "                        })                };                });            </script>        </div>"
      ]
     },
     "metadata": {},
     "output_type": "display_data"
    }
   ],
   "source": [
    "df.count().iplot(kind='bar')"
   ]
  },
  {
   "cell_type": "markdown",
   "metadata": {},
   "source": [
    "## Boxplots"
   ]
  },
  {
   "cell_type": "code",
   "execution_count": 31,
   "metadata": {},
   "outputs": [
    {
     "data": {
      "text/html": [
       "<div>\n",
       "<style scoped>\n",
       "    .dataframe tbody tr th:only-of-type {\n",
       "        vertical-align: middle;\n",
       "    }\n",
       "\n",
       "    .dataframe tbody tr th {\n",
       "        vertical-align: top;\n",
       "    }\n",
       "\n",
       "    .dataframe thead th {\n",
       "        text-align: right;\n",
       "    }\n",
       "</style>\n",
       "<table border=\"1\" class=\"dataframe\">\n",
       "  <thead>\n",
       "    <tr style=\"text-align: right;\">\n",
       "      <th></th>\n",
       "      <th>A</th>\n",
       "      <th>B</th>\n",
       "      <th>C</th>\n",
       "      <th>D</th>\n",
       "    </tr>\n",
       "  </thead>\n",
       "  <tbody>\n",
       "    <tr>\n",
       "      <th>0</th>\n",
       "      <td>0.254021</td>\n",
       "      <td>1.160826</td>\n",
       "      <td>0.740009</td>\n",
       "      <td>-0.906841</td>\n",
       "    </tr>\n",
       "    <tr>\n",
       "      <th>1</th>\n",
       "      <td>0.210183</td>\n",
       "      <td>0.496165</td>\n",
       "      <td>-1.161255</td>\n",
       "      <td>0.116211</td>\n",
       "    </tr>\n",
       "    <tr>\n",
       "      <th>2</th>\n",
       "      <td>-1.417367</td>\n",
       "      <td>0.073836</td>\n",
       "      <td>-0.512234</td>\n",
       "      <td>0.264485</td>\n",
       "    </tr>\n",
       "    <tr>\n",
       "      <th>3</th>\n",
       "      <td>1.435596</td>\n",
       "      <td>0.232734</td>\n",
       "      <td>0.866477</td>\n",
       "      <td>-0.544085</td>\n",
       "    </tr>\n",
       "    <tr>\n",
       "      <th>4</th>\n",
       "      <td>0.643816</td>\n",
       "      <td>-0.501732</td>\n",
       "      <td>-0.345490</td>\n",
       "      <td>0.553152</td>\n",
       "    </tr>\n",
       "    <tr>\n",
       "      <th>...</th>\n",
       "      <td>...</td>\n",
       "      <td>...</td>\n",
       "      <td>...</td>\n",
       "      <td>...</td>\n",
       "    </tr>\n",
       "    <tr>\n",
       "      <th>95</th>\n",
       "      <td>-2.102694</td>\n",
       "      <td>0.705700</td>\n",
       "      <td>-0.510586</td>\n",
       "      <td>1.874816</td>\n",
       "    </tr>\n",
       "    <tr>\n",
       "      <th>96</th>\n",
       "      <td>0.558735</td>\n",
       "      <td>-0.874054</td>\n",
       "      <td>1.515061</td>\n",
       "      <td>2.344330</td>\n",
       "    </tr>\n",
       "    <tr>\n",
       "      <th>97</th>\n",
       "      <td>-1.265642</td>\n",
       "      <td>-0.080672</td>\n",
       "      <td>-0.738811</td>\n",
       "      <td>-0.055396</td>\n",
       "    </tr>\n",
       "    <tr>\n",
       "      <th>98</th>\n",
       "      <td>1.236567</td>\n",
       "      <td>-0.809614</td>\n",
       "      <td>-0.450034</td>\n",
       "      <td>2.088541</td>\n",
       "    </tr>\n",
       "    <tr>\n",
       "      <th>99</th>\n",
       "      <td>0.409362</td>\n",
       "      <td>1.286014</td>\n",
       "      <td>1.337901</td>\n",
       "      <td>-1.194791</td>\n",
       "    </tr>\n",
       "  </tbody>\n",
       "</table>\n",
       "<p>100 rows × 4 columns</p>\n",
       "</div>"
      ],
      "text/plain": [
       "           A         B         C         D\n",
       "0   0.254021  1.160826  0.740009 -0.906841\n",
       "1   0.210183  0.496165 -1.161255  0.116211\n",
       "2  -1.417367  0.073836 -0.512234  0.264485\n",
       "3   1.435596  0.232734  0.866477 -0.544085\n",
       "4   0.643816 -0.501732 -0.345490  0.553152\n",
       "..       ...       ...       ...       ...\n",
       "95 -2.102694  0.705700 -0.510586  1.874816\n",
       "96  0.558735 -0.874054  1.515061  2.344330\n",
       "97 -1.265642 -0.080672 -0.738811 -0.055396\n",
       "98  1.236567 -0.809614 -0.450034  2.088541\n",
       "99  0.409362  1.286014  1.337901 -1.194791\n",
       "\n",
       "[100 rows x 4 columns]"
      ]
     },
     "execution_count": 31,
     "metadata": {},
     "output_type": "execute_result"
    }
   ],
   "source": [
    "df"
   ]
  },
  {
   "cell_type": "code",
   "execution_count": 28,
   "metadata": {},
   "outputs": [
    {
     "data": {
      "application/vnd.plotly.v1+json": {
       "config": {
        "linkText": "Export to plotly.com",
        "plotlyServerURL": "https://plotly.com",
        "showLink": true
       },
       "data": [
        {
         "boxpoints": false,
         "line": {
          "width": 1.3
         },
         "marker": {
          "color": "rgba(255, 153, 51, 1.0)"
         },
         "name": "A",
         "orientation": "v",
         "type": "box",
         "y": [
          0.2540205165143539,
          0.21018287468404354,
          -1.417366523418028,
          1.4355964054891057,
          0.6438156084526279,
          -0.48992682332332516,
          2.089603407589297,
          -0.24037244272897193,
          0.22741612429678598,
          -0.43388743074207914,
          -0.17474693590151122,
          -0.3378269321122739,
          -0.2872816214010255,
          0.09021167266536759,
          1.9916614315099455,
          -0.9203501904153832,
          1.9932576734555514,
          1.190820979890536,
          0.7591670480729559,
          -0.9322613470150776,
          -0.04972199823331805,
          1.2685856210555648,
          1.5879259973556699,
          -0.567128573474692,
          -2.1942346439385063,
          -0.4559241878544287,
          1.0321820388276353,
          -1.2718987011182359,
          -1.2386551206807364,
          -2.194211747720904,
          -0.5258492859793686,
          -0.6653282837542511,
          -1.3988028138784063,
          -0.07260478095047099,
          -0.28642094085208936,
          -0.11457773635910108,
          -0.1095433105850815,
          0.9750875884483519,
          0.8374465307982316,
          -0.739274852671829,
          0.3157117587684143,
          -0.1715446808230524,
          -1.941469789403776,
          -0.8593008608200065,
          1.0567482570657265,
          -1.9320398455863936,
          0.2594822932774328,
          -0.39301308706656246,
          0.4491389194589242,
          -0.5943834464300685,
          -1.6205742737788318,
          0.6117521209297304,
          -1.276327824115349,
          0.4086695638455752,
          0.24793326266283466,
          -0.4612398992086352,
          1.472207033963178,
          -1.8432937178256399,
          0.331853571779341,
          -0.14425338478943614,
          -0.05413105300153619,
          2.319362187084283,
          0.7674645302272454,
          0.6023945964221519,
          0.09769810203503486,
          1.4595133621459795,
          0.5577801094920947,
          -0.8161165385921015,
          -0.20283106200073736,
          1.0814223714895106,
          -0.9390927760332309,
          -0.7014055677825115,
          -0.26483222934057704,
          0.2563524393956336,
          1.066269844507545,
          0.8834240698541156,
          -0.7106341632582636,
          -0.4401823764634333,
          0.9603374413953691,
          -0.04706661324449886,
          -0.32082510121876906,
          0.22690521984675313,
          0.5580555659912436,
          -0.097048566746413,
          1.7196848303305123,
          0.1334024173581546,
          -1.3154871382832112,
          -0.9863034014659603,
          -1.0446233980609223,
          2.755130001029382,
          -0.19396822225672392,
          -1.0333488219739275,
          0.37272339170574764,
          1.0054492152613619,
          1.266420601741147,
          -2.1026940491604966,
          0.5587347491572473,
          -1.26564189608967,
          1.2365667571795178,
          0.4093624285717989
         ]
        },
        {
         "boxpoints": false,
         "line": {
          "width": 1.3
         },
         "marker": {
          "color": "rgba(55, 128, 191, 1.0)"
         },
         "name": "B",
         "orientation": "v",
         "type": "box",
         "y": [
          1.160825800152867,
          0.49616468992605606,
          0.07383583694545158,
          0.2327336021717852,
          -0.5017316173158699,
          0.8035594113553268,
          -0.28453246467477783,
          -0.915122676714964,
          -1.0386383838201863,
          -1.9952568867431326,
          0.09036591505575159,
          1.155948073431354,
          -0.42889040391045663,
          -1.2389704786006113,
          0.48118016142863945,
          1.0226046516596001,
          0.7398795059007436,
          0.37427404601920805,
          -1.7494103233808207,
          -0.9193506297259831,
          0.8887150557163451,
          0.9103962137297099,
          0.8947662724723978,
          0.06129563149484737,
          0.12002325193346794,
          -0.676796697112064,
          0.06093394366571922,
          -0.5640148151417872,
          0.81707423120743,
          0.6769766088966667,
          1.0441711359096393,
          0.8152504059983663,
          -0.39786853228590585,
          0.6599657173835193,
          0.5442907815797696,
          -0.2911291866765822,
          0.25500617713030627,
          -0.8331171412221349,
          -0.8620206840215854,
          0.04307721553350601,
          -1.215724201505668,
          0.12782065868375267,
          -2.145446215905343,
          -1.2319037363163725,
          -0.45930560794346414,
          -0.21250766872033242,
          -0.39804764478120985,
          -1.007422616587833,
          -0.9847119868129514,
          0.561732278632458,
          -1.14933123553313,
          1.6418957813050432,
          -1.2876584947792657,
          -0.03539282053918007,
          1.362381345433245,
          -0.6291386847202808,
          1.898930581889669,
          -0.6149912505025651,
          2.3034710611983304,
          -0.21226266974932004,
          -0.44847316876586585,
          -0.85303319669474,
          0.39684829882784267,
          -0.39090798457724035,
          1.3631512954306748,
          0.38249503712678984,
          -0.7742515439820427,
          -1.203847854965608,
          1.0115904667778681,
          0.3616426794426263,
          1.4846748175633453,
          0.9654302865010991,
          1.4562869848628681,
          -0.8177914063638103,
          -0.2730370368057006,
          0.6358807484449549,
          -0.7820612964596657,
          0.29823457797888253,
          0.39283832766839666,
          0.5285082098876401,
          1.3226836756728508,
          1.6636775870661122,
          0.5170672228134581,
          0.824798069948975,
          -0.46265991994032685,
          -0.10433027741652127,
          0.2690776010702887,
          1.3276291696627414,
          1.4619005839703703,
          0.06670553461973262,
          1.2367949690978866,
          -1.6728464542712906,
          0.41956646947819315,
          1.0213475908554128,
          1.4010211872247769,
          0.7057004386030941,
          -0.8740541643155307,
          -0.08067153622956262,
          -0.8096141021027465,
          1.2860139723173836
         ]
        },
        {
         "boxpoints": false,
         "line": {
          "width": 1.3
         },
         "marker": {
          "color": "rgba(50, 171, 96, 1.0)"
         },
         "name": "C",
         "orientation": "v",
         "type": "box",
         "y": [
          0.7400092392048068,
          -1.1612554650452065,
          -0.5122338887002665,
          0.8664771985598588,
          -0.34548987492232175,
          0.2781330104706034,
          0.8133129773606471,
          -0.07383128492210222,
          1.4992427452539066,
          -0.06427788658450528,
          0.9777437473437132,
          -1.0844097691216843,
          0.23691969667423549,
          0.6833580638519037,
          0.19854397914558808,
          1.2940032044175587,
          0.2938313960897921,
          -0.621691820858234,
          0.08475790559030699,
          -1.7256365238552824,
          0.7582412110970774,
          1.16644966761969,
          -0.13341758137524054,
          0.04093263652620348,
          0.18320697536407995,
          -0.32092372624067766,
          -0.9192767520476932,
          -0.009211021059547185,
          -0.019857457962381128,
          -0.3142022108888279,
          -0.6172132723525531,
          0.8960160304349492,
          0.7374330001967216,
          0.906649950526819,
          0.8261888595835849,
          0.8445809292425774,
          1.3616427427782307,
          -0.15250750568368196,
          0.10902639094972436,
          0.5281841463998894,
          -0.4749394513444946,
          0.7480762907916783,
          0.3388929235148995,
          -0.7310818991049979,
          0.02719614578997186,
          1.512962862350225,
          0.8035101292065836,
          -0.947393115998121,
          -0.02386938793565377,
          0.7320630015882023,
          1.4345212541566092,
          -0.09064584842119253,
          -0.252148147107145,
          -2.356165508371674,
          0.25763522548097273,
          1.8281771377382254,
          -0.04061189261196941,
          0.5765668729102671,
          -0.01960280456707083,
          1.1734496029900723,
          0.4150946237924706,
          -0.8742687679848868,
          -0.07335204432201242,
          -0.40438225261440797,
          -0.576332073034859,
          1.1146425638994812,
          -0.06873767949536136,
          -0.8595298987909357,
          -0.2464788836352362,
          -1.5408801744628844,
          -0.13284260964214661,
          0.41487455770150555,
          -0.11612837078371765,
          -0.485629058051464,
          0.31925770344676224,
          0.023159140123406755,
          0.9892737551707963,
          0.8448141680578326,
          -2.1502154363339514,
          -0.007235596504881794,
          0.2796531586390798,
          -0.3753414952199077,
          1.5123786861608832,
          -0.13171039496410855,
          0.14632688412280515,
          0.18796700882737305,
          0.31534514387362794,
          1.2218028635289813,
          -0.32024933567295366,
          0.2020833843113226,
          -1.5360472839414374,
          -0.8097024781571458,
          -0.61191498185867,
          -0.5094569134267607,
          -2.5249347881889856,
          -0.5105863402376877,
          1.5150611952696704,
          -0.7388111051732456,
          -0.45003373940694963,
          1.337901303183027
         ]
        },
        {
         "boxpoints": false,
         "line": {
          "width": 1.3
         },
         "marker": {
          "color": "rgba(128, 0, 128, 1.0)"
         },
         "name": "D",
         "orientation": "v",
         "type": "box",
         "y": [
          -0.9068405688078486,
          0.11621097171247942,
          0.26448478101457584,
          -0.5440854440489594,
          0.5531515272952051,
          0.8234042785049313,
          -0.22906001896152353,
          -0.16995879751638207,
          0.6802184174681418,
          0.4445235048806215,
          0.6941279000595636,
          2.1747144867557284,
          1.0223991406942747,
          0.8368416708590749,
          0.184720174470893,
          0.19552655776599848,
          1.6264800319723853,
          1.318082762218274,
          -1.1640119153017372,
          1.2758601739228614,
          -1.6418670804553157,
          -0.4171095950902611,
          -0.3969242583499874,
          0.501527724050001,
          -1.074606222181749,
          -2.223424663893433,
          0.6716990615797975,
          0.14796640692409763,
          0.6948660217218141,
          -1.8580010868790662,
          -0.00526893887691044,
          -0.6836722995929522,
          0.16612742230538627,
          -0.11821349276729069,
          -0.92117968291553,
          0.29188265668117613,
          0.34960878144601626,
          -0.06270629467800636,
          -0.4038456358871288,
          0.2648605591171205,
          0.061168616234663235,
          1.024178167604516,
          -2.3389668344520116,
          -0.2824909310511887,
          -0.4229235811543551,
          0.05631613133747578,
          -1.0376629367534844,
          -1.0508408409413266,
          -0.651137516259835,
          -0.6603619267138788,
          0.6919249312578343,
          -0.3620145382845533,
          -0.3034438985204652,
          0.4506109621289893,
          0.19784991813168556,
          0.4486839596077117,
          -0.6541847283551394,
          1.1707625473024965,
          0.13268391400985902,
          -0.7435191432300351,
          -0.7293681641791371,
          -0.018877098021782796,
          -1.4524593337407599,
          0.1267230001259561,
          -0.7125292116463977,
          -1.223740915429738,
          1.7028564850815053,
          -0.025254987372562845,
          0.14252619879882147,
          -1.424391582709415,
          -0.1305437297684222,
          -1.114889983872903,
          0.8818507740128105,
          1.7383740083404464,
          0.26964871270546237,
          -1.1071106984364947,
          1.0031650408456287,
          -0.9530919999597487,
          -1.5771064309978597,
          -1.548931175254627,
          1.1505022138477403,
          -0.7345193249486318,
          1.8285714520083187,
          0.8272062189740068,
          0.8279518009515064,
          0.3568071184223297,
          -0.3306248498338502,
          0.4467509629034824,
          1.6445920281443878,
          -0.9967417532997104,
          -1.0556863288562042,
          0.35588131793485744,
          -1.1358190099883094,
          0.4211429293134869,
          0.15585056701122604,
          1.8748160736152852,
          2.344329847624523,
          -0.05539633385281114,
          2.0885407026049565,
          -1.1947913568464845
         ]
        }
       ],
       "layout": {
        "legend": {
         "bgcolor": "#F5F6F9",
         "font": {
          "color": "#4D5663"
         }
        },
        "paper_bgcolor": "#F5F6F9",
        "plot_bgcolor": "#F5F6F9",
        "template": {
         "data": {
          "bar": [
           {
            "error_x": {
             "color": "#2a3f5f"
            },
            "error_y": {
             "color": "#2a3f5f"
            },
            "marker": {
             "line": {
              "color": "#E5ECF6",
              "width": 0.5
             },
             "pattern": {
              "fillmode": "overlay",
              "size": 10,
              "solidity": 0.2
             }
            },
            "type": "bar"
           }
          ],
          "barpolar": [
           {
            "marker": {
             "line": {
              "color": "#E5ECF6",
              "width": 0.5
             },
             "pattern": {
              "fillmode": "overlay",
              "size": 10,
              "solidity": 0.2
             }
            },
            "type": "barpolar"
           }
          ],
          "carpet": [
           {
            "aaxis": {
             "endlinecolor": "#2a3f5f",
             "gridcolor": "white",
             "linecolor": "white",
             "minorgridcolor": "white",
             "startlinecolor": "#2a3f5f"
            },
            "baxis": {
             "endlinecolor": "#2a3f5f",
             "gridcolor": "white",
             "linecolor": "white",
             "minorgridcolor": "white",
             "startlinecolor": "#2a3f5f"
            },
            "type": "carpet"
           }
          ],
          "choropleth": [
           {
            "colorbar": {
             "outlinewidth": 0,
             "ticks": ""
            },
            "type": "choropleth"
           }
          ],
          "contour": [
           {
            "colorbar": {
             "outlinewidth": 0,
             "ticks": ""
            },
            "colorscale": [
             [
              0,
              "#0d0887"
             ],
             [
              0.1111111111111111,
              "#46039f"
             ],
             [
              0.2222222222222222,
              "#7201a8"
             ],
             [
              0.3333333333333333,
              "#9c179e"
             ],
             [
              0.4444444444444444,
              "#bd3786"
             ],
             [
              0.5555555555555556,
              "#d8576b"
             ],
             [
              0.6666666666666666,
              "#ed7953"
             ],
             [
              0.7777777777777778,
              "#fb9f3a"
             ],
             [
              0.8888888888888888,
              "#fdca26"
             ],
             [
              1,
              "#f0f921"
             ]
            ],
            "type": "contour"
           }
          ],
          "contourcarpet": [
           {
            "colorbar": {
             "outlinewidth": 0,
             "ticks": ""
            },
            "type": "contourcarpet"
           }
          ],
          "heatmap": [
           {
            "colorbar": {
             "outlinewidth": 0,
             "ticks": ""
            },
            "colorscale": [
             [
              0,
              "#0d0887"
             ],
             [
              0.1111111111111111,
              "#46039f"
             ],
             [
              0.2222222222222222,
              "#7201a8"
             ],
             [
              0.3333333333333333,
              "#9c179e"
             ],
             [
              0.4444444444444444,
              "#bd3786"
             ],
             [
              0.5555555555555556,
              "#d8576b"
             ],
             [
              0.6666666666666666,
              "#ed7953"
             ],
             [
              0.7777777777777778,
              "#fb9f3a"
             ],
             [
              0.8888888888888888,
              "#fdca26"
             ],
             [
              1,
              "#f0f921"
             ]
            ],
            "type": "heatmap"
           }
          ],
          "heatmapgl": [
           {
            "colorbar": {
             "outlinewidth": 0,
             "ticks": ""
            },
            "colorscale": [
             [
              0,
              "#0d0887"
             ],
             [
              0.1111111111111111,
              "#46039f"
             ],
             [
              0.2222222222222222,
              "#7201a8"
             ],
             [
              0.3333333333333333,
              "#9c179e"
             ],
             [
              0.4444444444444444,
              "#bd3786"
             ],
             [
              0.5555555555555556,
              "#d8576b"
             ],
             [
              0.6666666666666666,
              "#ed7953"
             ],
             [
              0.7777777777777778,
              "#fb9f3a"
             ],
             [
              0.8888888888888888,
              "#fdca26"
             ],
             [
              1,
              "#f0f921"
             ]
            ],
            "type": "heatmapgl"
           }
          ],
          "histogram": [
           {
            "marker": {
             "pattern": {
              "fillmode": "overlay",
              "size": 10,
              "solidity": 0.2
             }
            },
            "type": "histogram"
           }
          ],
          "histogram2d": [
           {
            "colorbar": {
             "outlinewidth": 0,
             "ticks": ""
            },
            "colorscale": [
             [
              0,
              "#0d0887"
             ],
             [
              0.1111111111111111,
              "#46039f"
             ],
             [
              0.2222222222222222,
              "#7201a8"
             ],
             [
              0.3333333333333333,
              "#9c179e"
             ],
             [
              0.4444444444444444,
              "#bd3786"
             ],
             [
              0.5555555555555556,
              "#d8576b"
             ],
             [
              0.6666666666666666,
              "#ed7953"
             ],
             [
              0.7777777777777778,
              "#fb9f3a"
             ],
             [
              0.8888888888888888,
              "#fdca26"
             ],
             [
              1,
              "#f0f921"
             ]
            ],
            "type": "histogram2d"
           }
          ],
          "histogram2dcontour": [
           {
            "colorbar": {
             "outlinewidth": 0,
             "ticks": ""
            },
            "colorscale": [
             [
              0,
              "#0d0887"
             ],
             [
              0.1111111111111111,
              "#46039f"
             ],
             [
              0.2222222222222222,
              "#7201a8"
             ],
             [
              0.3333333333333333,
              "#9c179e"
             ],
             [
              0.4444444444444444,
              "#bd3786"
             ],
             [
              0.5555555555555556,
              "#d8576b"
             ],
             [
              0.6666666666666666,
              "#ed7953"
             ],
             [
              0.7777777777777778,
              "#fb9f3a"
             ],
             [
              0.8888888888888888,
              "#fdca26"
             ],
             [
              1,
              "#f0f921"
             ]
            ],
            "type": "histogram2dcontour"
           }
          ],
          "mesh3d": [
           {
            "colorbar": {
             "outlinewidth": 0,
             "ticks": ""
            },
            "type": "mesh3d"
           }
          ],
          "parcoords": [
           {
            "line": {
             "colorbar": {
              "outlinewidth": 0,
              "ticks": ""
             }
            },
            "type": "parcoords"
           }
          ],
          "pie": [
           {
            "automargin": true,
            "type": "pie"
           }
          ],
          "scatter": [
           {
            "marker": {
             "colorbar": {
              "outlinewidth": 0,
              "ticks": ""
             }
            },
            "type": "scatter"
           }
          ],
          "scatter3d": [
           {
            "line": {
             "colorbar": {
              "outlinewidth": 0,
              "ticks": ""
             }
            },
            "marker": {
             "colorbar": {
              "outlinewidth": 0,
              "ticks": ""
             }
            },
            "type": "scatter3d"
           }
          ],
          "scattercarpet": [
           {
            "marker": {
             "colorbar": {
              "outlinewidth": 0,
              "ticks": ""
             }
            },
            "type": "scattercarpet"
           }
          ],
          "scattergeo": [
           {
            "marker": {
             "colorbar": {
              "outlinewidth": 0,
              "ticks": ""
             }
            },
            "type": "scattergeo"
           }
          ],
          "scattergl": [
           {
            "marker": {
             "colorbar": {
              "outlinewidth": 0,
              "ticks": ""
             }
            },
            "type": "scattergl"
           }
          ],
          "scattermapbox": [
           {
            "marker": {
             "colorbar": {
              "outlinewidth": 0,
              "ticks": ""
             }
            },
            "type": "scattermapbox"
           }
          ],
          "scatterpolar": [
           {
            "marker": {
             "colorbar": {
              "outlinewidth": 0,
              "ticks": ""
             }
            },
            "type": "scatterpolar"
           }
          ],
          "scatterpolargl": [
           {
            "marker": {
             "colorbar": {
              "outlinewidth": 0,
              "ticks": ""
             }
            },
            "type": "scatterpolargl"
           }
          ],
          "scatterternary": [
           {
            "marker": {
             "colorbar": {
              "outlinewidth": 0,
              "ticks": ""
             }
            },
            "type": "scatterternary"
           }
          ],
          "surface": [
           {
            "colorbar": {
             "outlinewidth": 0,
             "ticks": ""
            },
            "colorscale": [
             [
              0,
              "#0d0887"
             ],
             [
              0.1111111111111111,
              "#46039f"
             ],
             [
              0.2222222222222222,
              "#7201a8"
             ],
             [
              0.3333333333333333,
              "#9c179e"
             ],
             [
              0.4444444444444444,
              "#bd3786"
             ],
             [
              0.5555555555555556,
              "#d8576b"
             ],
             [
              0.6666666666666666,
              "#ed7953"
             ],
             [
              0.7777777777777778,
              "#fb9f3a"
             ],
             [
              0.8888888888888888,
              "#fdca26"
             ],
             [
              1,
              "#f0f921"
             ]
            ],
            "type": "surface"
           }
          ],
          "table": [
           {
            "cells": {
             "fill": {
              "color": "#EBF0F8"
             },
             "line": {
              "color": "white"
             }
            },
            "header": {
             "fill": {
              "color": "#C8D4E3"
             },
             "line": {
              "color": "white"
             }
            },
            "type": "table"
           }
          ]
         },
         "layout": {
          "annotationdefaults": {
           "arrowcolor": "#2a3f5f",
           "arrowhead": 0,
           "arrowwidth": 1
          },
          "autotypenumbers": "strict",
          "coloraxis": {
           "colorbar": {
            "outlinewidth": 0,
            "ticks": ""
           }
          },
          "colorscale": {
           "diverging": [
            [
             0,
             "#8e0152"
            ],
            [
             0.1,
             "#c51b7d"
            ],
            [
             0.2,
             "#de77ae"
            ],
            [
             0.3,
             "#f1b6da"
            ],
            [
             0.4,
             "#fde0ef"
            ],
            [
             0.5,
             "#f7f7f7"
            ],
            [
             0.6,
             "#e6f5d0"
            ],
            [
             0.7,
             "#b8e186"
            ],
            [
             0.8,
             "#7fbc41"
            ],
            [
             0.9,
             "#4d9221"
            ],
            [
             1,
             "#276419"
            ]
           ],
           "sequential": [
            [
             0,
             "#0d0887"
            ],
            [
             0.1111111111111111,
             "#46039f"
            ],
            [
             0.2222222222222222,
             "#7201a8"
            ],
            [
             0.3333333333333333,
             "#9c179e"
            ],
            [
             0.4444444444444444,
             "#bd3786"
            ],
            [
             0.5555555555555556,
             "#d8576b"
            ],
            [
             0.6666666666666666,
             "#ed7953"
            ],
            [
             0.7777777777777778,
             "#fb9f3a"
            ],
            [
             0.8888888888888888,
             "#fdca26"
            ],
            [
             1,
             "#f0f921"
            ]
           ],
           "sequentialminus": [
            [
             0,
             "#0d0887"
            ],
            [
             0.1111111111111111,
             "#46039f"
            ],
            [
             0.2222222222222222,
             "#7201a8"
            ],
            [
             0.3333333333333333,
             "#9c179e"
            ],
            [
             0.4444444444444444,
             "#bd3786"
            ],
            [
             0.5555555555555556,
             "#d8576b"
            ],
            [
             0.6666666666666666,
             "#ed7953"
            ],
            [
             0.7777777777777778,
             "#fb9f3a"
            ],
            [
             0.8888888888888888,
             "#fdca26"
            ],
            [
             1,
             "#f0f921"
            ]
           ]
          },
          "colorway": [
           "#636efa",
           "#EF553B",
           "#00cc96",
           "#ab63fa",
           "#FFA15A",
           "#19d3f3",
           "#FF6692",
           "#B6E880",
           "#FF97FF",
           "#FECB52"
          ],
          "font": {
           "color": "#2a3f5f"
          },
          "geo": {
           "bgcolor": "white",
           "lakecolor": "white",
           "landcolor": "#E5ECF6",
           "showlakes": true,
           "showland": true,
           "subunitcolor": "white"
          },
          "hoverlabel": {
           "align": "left"
          },
          "hovermode": "closest",
          "mapbox": {
           "style": "light"
          },
          "paper_bgcolor": "white",
          "plot_bgcolor": "#E5ECF6",
          "polar": {
           "angularaxis": {
            "gridcolor": "white",
            "linecolor": "white",
            "ticks": ""
           },
           "bgcolor": "#E5ECF6",
           "radialaxis": {
            "gridcolor": "white",
            "linecolor": "white",
            "ticks": ""
           }
          },
          "scene": {
           "xaxis": {
            "backgroundcolor": "#E5ECF6",
            "gridcolor": "white",
            "gridwidth": 2,
            "linecolor": "white",
            "showbackground": true,
            "ticks": "",
            "zerolinecolor": "white"
           },
           "yaxis": {
            "backgroundcolor": "#E5ECF6",
            "gridcolor": "white",
            "gridwidth": 2,
            "linecolor": "white",
            "showbackground": true,
            "ticks": "",
            "zerolinecolor": "white"
           },
           "zaxis": {
            "backgroundcolor": "#E5ECF6",
            "gridcolor": "white",
            "gridwidth": 2,
            "linecolor": "white",
            "showbackground": true,
            "ticks": "",
            "zerolinecolor": "white"
           }
          },
          "shapedefaults": {
           "line": {
            "color": "#2a3f5f"
           }
          },
          "ternary": {
           "aaxis": {
            "gridcolor": "white",
            "linecolor": "white",
            "ticks": ""
           },
           "baxis": {
            "gridcolor": "white",
            "linecolor": "white",
            "ticks": ""
           },
           "bgcolor": "#E5ECF6",
           "caxis": {
            "gridcolor": "white",
            "linecolor": "white",
            "ticks": ""
           }
          },
          "title": {
           "x": 0.05
          },
          "xaxis": {
           "automargin": true,
           "gridcolor": "white",
           "linecolor": "white",
           "ticks": "",
           "title": {
            "standoff": 15
           },
           "zerolinecolor": "white",
           "zerolinewidth": 2
          },
          "yaxis": {
           "automargin": true,
           "gridcolor": "white",
           "linecolor": "white",
           "ticks": "",
           "title": {
            "standoff": 15
           },
           "zerolinecolor": "white",
           "zerolinewidth": 2
          }
         }
        },
        "title": {
         "font": {
          "color": "#4D5663"
         }
        },
        "xaxis": {
         "gridcolor": "#E1E5ED",
         "showgrid": true,
         "tickfont": {
          "color": "#4D5663"
         },
         "title": {
          "font": {
           "color": "#4D5663"
          },
          "text": ""
         },
         "zerolinecolor": "#E1E5ED"
        },
        "yaxis": {
         "gridcolor": "#E1E5ED",
         "showgrid": true,
         "tickfont": {
          "color": "#4D5663"
         },
         "title": {
          "font": {
           "color": "#4D5663"
          },
          "text": ""
         },
         "zerolinecolor": "#E1E5ED"
        }
       }
      },
      "text/html": [
       "<div>                            <div id=\"046384ba-a668-495c-92ee-1234796bc783\" class=\"plotly-graph-div\" style=\"height:525px; width:100%;\"></div>            <script type=\"text/javascript\">                require([\"plotly\"], function(Plotly) {                    window.PLOTLYENV=window.PLOTLYENV || {};\n",
       "                    window.PLOTLYENV.BASE_URL='https://plotly.com';                                    if (document.getElementById(\"046384ba-a668-495c-92ee-1234796bc783\")) {                    Plotly.newPlot(                        \"046384ba-a668-495c-92ee-1234796bc783\",                        [{\"boxpoints\":false,\"line\":{\"width\":1.3},\"marker\":{\"color\":\"rgba(255, 153, 51, 1.0)\"},\"name\":\"A\",\"orientation\":\"v\",\"y\":[0.2540205165143539,0.21018287468404354,-1.417366523418028,1.4355964054891057,0.6438156084526279,-0.48992682332332516,2.089603407589297,-0.24037244272897193,0.22741612429678598,-0.43388743074207914,-0.17474693590151122,-0.3378269321122739,-0.2872816214010255,0.09021167266536759,1.9916614315099455,-0.9203501904153832,1.9932576734555514,1.190820979890536,0.7591670480729559,-0.9322613470150776,-0.04972199823331805,1.2685856210555648,1.5879259973556699,-0.567128573474692,-2.1942346439385063,-0.4559241878544287,1.0321820388276353,-1.2718987011182359,-1.2386551206807364,-2.194211747720904,-0.5258492859793686,-0.6653282837542511,-1.3988028138784063,-0.07260478095047099,-0.28642094085208936,-0.11457773635910108,-0.1095433105850815,0.9750875884483519,0.8374465307982316,-0.739274852671829,0.3157117587684143,-0.1715446808230524,-1.941469789403776,-0.8593008608200065,1.0567482570657265,-1.9320398455863936,0.2594822932774328,-0.39301308706656246,0.4491389194589242,-0.5943834464300685,-1.6205742737788318,0.6117521209297304,-1.276327824115349,0.4086695638455752,0.24793326266283466,-0.4612398992086352,1.472207033963178,-1.8432937178256399,0.331853571779341,-0.14425338478943614,-0.05413105300153619,2.319362187084283,0.7674645302272454,0.6023945964221519,0.09769810203503486,1.4595133621459795,0.5577801094920947,-0.8161165385921015,-0.20283106200073736,1.0814223714895106,-0.9390927760332309,-0.7014055677825115,-0.26483222934057704,0.2563524393956336,1.066269844507545,0.8834240698541156,-0.7106341632582636,-0.4401823764634333,0.9603374413953691,-0.04706661324449886,-0.32082510121876906,0.22690521984675313,0.5580555659912436,-0.097048566746413,1.7196848303305123,0.1334024173581546,-1.3154871382832112,-0.9863034014659603,-1.0446233980609223,2.755130001029382,-0.19396822225672392,-1.0333488219739275,0.37272339170574764,1.0054492152613619,1.266420601741147,-2.1026940491604966,0.5587347491572473,-1.26564189608967,1.2365667571795178,0.4093624285717989],\"type\":\"box\"},{\"boxpoints\":false,\"line\":{\"width\":1.3},\"marker\":{\"color\":\"rgba(55, 128, 191, 1.0)\"},\"name\":\"B\",\"orientation\":\"v\",\"y\":[1.160825800152867,0.49616468992605606,0.07383583694545158,0.2327336021717852,-0.5017316173158699,0.8035594113553268,-0.28453246467477783,-0.915122676714964,-1.0386383838201863,-1.9952568867431326,0.09036591505575159,1.155948073431354,-0.42889040391045663,-1.2389704786006113,0.48118016142863945,1.0226046516596001,0.7398795059007436,0.37427404601920805,-1.7494103233808207,-0.9193506297259831,0.8887150557163451,0.9103962137297099,0.8947662724723978,0.06129563149484737,0.12002325193346794,-0.676796697112064,0.06093394366571922,-0.5640148151417872,0.81707423120743,0.6769766088966667,1.0441711359096393,0.8152504059983663,-0.39786853228590585,0.6599657173835193,0.5442907815797696,-0.2911291866765822,0.25500617713030627,-0.8331171412221349,-0.8620206840215854,0.04307721553350601,-1.215724201505668,0.12782065868375267,-2.145446215905343,-1.2319037363163725,-0.45930560794346414,-0.21250766872033242,-0.39804764478120985,-1.007422616587833,-0.9847119868129514,0.561732278632458,-1.14933123553313,1.6418957813050432,-1.2876584947792657,-0.03539282053918007,1.362381345433245,-0.6291386847202808,1.898930581889669,-0.6149912505025651,2.3034710611983304,-0.21226266974932004,-0.44847316876586585,-0.85303319669474,0.39684829882784267,-0.39090798457724035,1.3631512954306748,0.38249503712678984,-0.7742515439820427,-1.203847854965608,1.0115904667778681,0.3616426794426263,1.4846748175633453,0.9654302865010991,1.4562869848628681,-0.8177914063638103,-0.2730370368057006,0.6358807484449549,-0.7820612964596657,0.29823457797888253,0.39283832766839666,0.5285082098876401,1.3226836756728508,1.6636775870661122,0.5170672228134581,0.824798069948975,-0.46265991994032685,-0.10433027741652127,0.2690776010702887,1.3276291696627414,1.4619005839703703,0.06670553461973262,1.2367949690978866,-1.6728464542712906,0.41956646947819315,1.0213475908554128,1.4010211872247769,0.7057004386030941,-0.8740541643155307,-0.08067153622956262,-0.8096141021027465,1.2860139723173836],\"type\":\"box\"},{\"boxpoints\":false,\"line\":{\"width\":1.3},\"marker\":{\"color\":\"rgba(50, 171, 96, 1.0)\"},\"name\":\"C\",\"orientation\":\"v\",\"y\":[0.7400092392048068,-1.1612554650452065,-0.5122338887002665,0.8664771985598588,-0.34548987492232175,0.2781330104706034,0.8133129773606471,-0.07383128492210222,1.4992427452539066,-0.06427788658450528,0.9777437473437132,-1.0844097691216843,0.23691969667423549,0.6833580638519037,0.19854397914558808,1.2940032044175587,0.2938313960897921,-0.621691820858234,0.08475790559030699,-1.7256365238552824,0.7582412110970774,1.16644966761969,-0.13341758137524054,0.04093263652620348,0.18320697536407995,-0.32092372624067766,-0.9192767520476932,-0.009211021059547185,-0.019857457962381128,-0.3142022108888279,-0.6172132723525531,0.8960160304349492,0.7374330001967216,0.906649950526819,0.8261888595835849,0.8445809292425774,1.3616427427782307,-0.15250750568368196,0.10902639094972436,0.5281841463998894,-0.4749394513444946,0.7480762907916783,0.3388929235148995,-0.7310818991049979,0.02719614578997186,1.512962862350225,0.8035101292065836,-0.947393115998121,-0.02386938793565377,0.7320630015882023,1.4345212541566092,-0.09064584842119253,-0.252148147107145,-2.356165508371674,0.25763522548097273,1.8281771377382254,-0.04061189261196941,0.5765668729102671,-0.01960280456707083,1.1734496029900723,0.4150946237924706,-0.8742687679848868,-0.07335204432201242,-0.40438225261440797,-0.576332073034859,1.1146425638994812,-0.06873767949536136,-0.8595298987909357,-0.2464788836352362,-1.5408801744628844,-0.13284260964214661,0.41487455770150555,-0.11612837078371765,-0.485629058051464,0.31925770344676224,0.023159140123406755,0.9892737551707963,0.8448141680578326,-2.1502154363339514,-0.007235596504881794,0.2796531586390798,-0.3753414952199077,1.5123786861608832,-0.13171039496410855,0.14632688412280515,0.18796700882737305,0.31534514387362794,1.2218028635289813,-0.32024933567295366,0.2020833843113226,-1.5360472839414374,-0.8097024781571458,-0.61191498185867,-0.5094569134267607,-2.5249347881889856,-0.5105863402376877,1.5150611952696704,-0.7388111051732456,-0.45003373940694963,1.337901303183027],\"type\":\"box\"},{\"boxpoints\":false,\"line\":{\"width\":1.3},\"marker\":{\"color\":\"rgba(128, 0, 128, 1.0)\"},\"name\":\"D\",\"orientation\":\"v\",\"y\":[-0.9068405688078486,0.11621097171247942,0.26448478101457584,-0.5440854440489594,0.5531515272952051,0.8234042785049313,-0.22906001896152353,-0.16995879751638207,0.6802184174681418,0.4445235048806215,0.6941279000595636,2.1747144867557284,1.0223991406942747,0.8368416708590749,0.184720174470893,0.19552655776599848,1.6264800319723853,1.318082762218274,-1.1640119153017372,1.2758601739228614,-1.6418670804553157,-0.4171095950902611,-0.3969242583499874,0.501527724050001,-1.074606222181749,-2.223424663893433,0.6716990615797975,0.14796640692409763,0.6948660217218141,-1.8580010868790662,-0.00526893887691044,-0.6836722995929522,0.16612742230538627,-0.11821349276729069,-0.92117968291553,0.29188265668117613,0.34960878144601626,-0.06270629467800636,-0.4038456358871288,0.2648605591171205,0.061168616234663235,1.024178167604516,-2.3389668344520116,-0.2824909310511887,-0.4229235811543551,0.05631613133747578,-1.0376629367534844,-1.0508408409413266,-0.651137516259835,-0.6603619267138788,0.6919249312578343,-0.3620145382845533,-0.3034438985204652,0.4506109621289893,0.19784991813168556,0.4486839596077117,-0.6541847283551394,1.1707625473024965,0.13268391400985902,-0.7435191432300351,-0.7293681641791371,-0.018877098021782796,-1.4524593337407599,0.1267230001259561,-0.7125292116463977,-1.223740915429738,1.7028564850815053,-0.025254987372562845,0.14252619879882147,-1.424391582709415,-0.1305437297684222,-1.114889983872903,0.8818507740128105,1.7383740083404464,0.26964871270546237,-1.1071106984364947,1.0031650408456287,-0.9530919999597487,-1.5771064309978597,-1.548931175254627,1.1505022138477403,-0.7345193249486318,1.8285714520083187,0.8272062189740068,0.8279518009515064,0.3568071184223297,-0.3306248498338502,0.4467509629034824,1.6445920281443878,-0.9967417532997104,-1.0556863288562042,0.35588131793485744,-1.1358190099883094,0.4211429293134869,0.15585056701122604,1.8748160736152852,2.344329847624523,-0.05539633385281114,2.0885407026049565,-1.1947913568464845],\"type\":\"box\"}],                        {\"legend\":{\"bgcolor\":\"#F5F6F9\",\"font\":{\"color\":\"#4D5663\"}},\"paper_bgcolor\":\"#F5F6F9\",\"plot_bgcolor\":\"#F5F6F9\",\"template\":{\"data\":{\"barpolar\":[{\"marker\":{\"line\":{\"color\":\"#E5ECF6\",\"width\":0.5},\"pattern\":{\"fillmode\":\"overlay\",\"size\":10,\"solidity\":0.2}},\"type\":\"barpolar\"}],\"bar\":[{\"error_x\":{\"color\":\"#2a3f5f\"},\"error_y\":{\"color\":\"#2a3f5f\"},\"marker\":{\"line\":{\"color\":\"#E5ECF6\",\"width\":0.5},\"pattern\":{\"fillmode\":\"overlay\",\"size\":10,\"solidity\":0.2}},\"type\":\"bar\"}],\"carpet\":[{\"aaxis\":{\"endlinecolor\":\"#2a3f5f\",\"gridcolor\":\"white\",\"linecolor\":\"white\",\"minorgridcolor\":\"white\",\"startlinecolor\":\"#2a3f5f\"},\"baxis\":{\"endlinecolor\":\"#2a3f5f\",\"gridcolor\":\"white\",\"linecolor\":\"white\",\"minorgridcolor\":\"white\",\"startlinecolor\":\"#2a3f5f\"},\"type\":\"carpet\"}],\"choropleth\":[{\"colorbar\":{\"outlinewidth\":0,\"ticks\":\"\"},\"type\":\"choropleth\"}],\"contourcarpet\":[{\"colorbar\":{\"outlinewidth\":0,\"ticks\":\"\"},\"type\":\"contourcarpet\"}],\"contour\":[{\"colorbar\":{\"outlinewidth\":0,\"ticks\":\"\"},\"colorscale\":[[0.0,\"#0d0887\"],[0.1111111111111111,\"#46039f\"],[0.2222222222222222,\"#7201a8\"],[0.3333333333333333,\"#9c179e\"],[0.4444444444444444,\"#bd3786\"],[0.5555555555555556,\"#d8576b\"],[0.6666666666666666,\"#ed7953\"],[0.7777777777777778,\"#fb9f3a\"],[0.8888888888888888,\"#fdca26\"],[1.0,\"#f0f921\"]],\"type\":\"contour\"}],\"heatmapgl\":[{\"colorbar\":{\"outlinewidth\":0,\"ticks\":\"\"},\"colorscale\":[[0.0,\"#0d0887\"],[0.1111111111111111,\"#46039f\"],[0.2222222222222222,\"#7201a8\"],[0.3333333333333333,\"#9c179e\"],[0.4444444444444444,\"#bd3786\"],[0.5555555555555556,\"#d8576b\"],[0.6666666666666666,\"#ed7953\"],[0.7777777777777778,\"#fb9f3a\"],[0.8888888888888888,\"#fdca26\"],[1.0,\"#f0f921\"]],\"type\":\"heatmapgl\"}],\"heatmap\":[{\"colorbar\":{\"outlinewidth\":0,\"ticks\":\"\"},\"colorscale\":[[0.0,\"#0d0887\"],[0.1111111111111111,\"#46039f\"],[0.2222222222222222,\"#7201a8\"],[0.3333333333333333,\"#9c179e\"],[0.4444444444444444,\"#bd3786\"],[0.5555555555555556,\"#d8576b\"],[0.6666666666666666,\"#ed7953\"],[0.7777777777777778,\"#fb9f3a\"],[0.8888888888888888,\"#fdca26\"],[1.0,\"#f0f921\"]],\"type\":\"heatmap\"}],\"histogram2dcontour\":[{\"colorbar\":{\"outlinewidth\":0,\"ticks\":\"\"},\"colorscale\":[[0.0,\"#0d0887\"],[0.1111111111111111,\"#46039f\"],[0.2222222222222222,\"#7201a8\"],[0.3333333333333333,\"#9c179e\"],[0.4444444444444444,\"#bd3786\"],[0.5555555555555556,\"#d8576b\"],[0.6666666666666666,\"#ed7953\"],[0.7777777777777778,\"#fb9f3a\"],[0.8888888888888888,\"#fdca26\"],[1.0,\"#f0f921\"]],\"type\":\"histogram2dcontour\"}],\"histogram2d\":[{\"colorbar\":{\"outlinewidth\":0,\"ticks\":\"\"},\"colorscale\":[[0.0,\"#0d0887\"],[0.1111111111111111,\"#46039f\"],[0.2222222222222222,\"#7201a8\"],[0.3333333333333333,\"#9c179e\"],[0.4444444444444444,\"#bd3786\"],[0.5555555555555556,\"#d8576b\"],[0.6666666666666666,\"#ed7953\"],[0.7777777777777778,\"#fb9f3a\"],[0.8888888888888888,\"#fdca26\"],[1.0,\"#f0f921\"]],\"type\":\"histogram2d\"}],\"histogram\":[{\"marker\":{\"pattern\":{\"fillmode\":\"overlay\",\"size\":10,\"solidity\":0.2}},\"type\":\"histogram\"}],\"mesh3d\":[{\"colorbar\":{\"outlinewidth\":0,\"ticks\":\"\"},\"type\":\"mesh3d\"}],\"parcoords\":[{\"line\":{\"colorbar\":{\"outlinewidth\":0,\"ticks\":\"\"}},\"type\":\"parcoords\"}],\"pie\":[{\"automargin\":true,\"type\":\"pie\"}],\"scatter3d\":[{\"line\":{\"colorbar\":{\"outlinewidth\":0,\"ticks\":\"\"}},\"marker\":{\"colorbar\":{\"outlinewidth\":0,\"ticks\":\"\"}},\"type\":\"scatter3d\"}],\"scattercarpet\":[{\"marker\":{\"colorbar\":{\"outlinewidth\":0,\"ticks\":\"\"}},\"type\":\"scattercarpet\"}],\"scattergeo\":[{\"marker\":{\"colorbar\":{\"outlinewidth\":0,\"ticks\":\"\"}},\"type\":\"scattergeo\"}],\"scattergl\":[{\"marker\":{\"colorbar\":{\"outlinewidth\":0,\"ticks\":\"\"}},\"type\":\"scattergl\"}],\"scattermapbox\":[{\"marker\":{\"colorbar\":{\"outlinewidth\":0,\"ticks\":\"\"}},\"type\":\"scattermapbox\"}],\"scatterpolargl\":[{\"marker\":{\"colorbar\":{\"outlinewidth\":0,\"ticks\":\"\"}},\"type\":\"scatterpolargl\"}],\"scatterpolar\":[{\"marker\":{\"colorbar\":{\"outlinewidth\":0,\"ticks\":\"\"}},\"type\":\"scatterpolar\"}],\"scatter\":[{\"marker\":{\"colorbar\":{\"outlinewidth\":0,\"ticks\":\"\"}},\"type\":\"scatter\"}],\"scatterternary\":[{\"marker\":{\"colorbar\":{\"outlinewidth\":0,\"ticks\":\"\"}},\"type\":\"scatterternary\"}],\"surface\":[{\"colorbar\":{\"outlinewidth\":0,\"ticks\":\"\"},\"colorscale\":[[0.0,\"#0d0887\"],[0.1111111111111111,\"#46039f\"],[0.2222222222222222,\"#7201a8\"],[0.3333333333333333,\"#9c179e\"],[0.4444444444444444,\"#bd3786\"],[0.5555555555555556,\"#d8576b\"],[0.6666666666666666,\"#ed7953\"],[0.7777777777777778,\"#fb9f3a\"],[0.8888888888888888,\"#fdca26\"],[1.0,\"#f0f921\"]],\"type\":\"surface\"}],\"table\":[{\"cells\":{\"fill\":{\"color\":\"#EBF0F8\"},\"line\":{\"color\":\"white\"}},\"header\":{\"fill\":{\"color\":\"#C8D4E3\"},\"line\":{\"color\":\"white\"}},\"type\":\"table\"}]},\"layout\":{\"annotationdefaults\":{\"arrowcolor\":\"#2a3f5f\",\"arrowhead\":0,\"arrowwidth\":1},\"autotypenumbers\":\"strict\",\"coloraxis\":{\"colorbar\":{\"outlinewidth\":0,\"ticks\":\"\"}},\"colorscale\":{\"diverging\":[[0,\"#8e0152\"],[0.1,\"#c51b7d\"],[0.2,\"#de77ae\"],[0.3,\"#f1b6da\"],[0.4,\"#fde0ef\"],[0.5,\"#f7f7f7\"],[0.6,\"#e6f5d0\"],[0.7,\"#b8e186\"],[0.8,\"#7fbc41\"],[0.9,\"#4d9221\"],[1,\"#276419\"]],\"sequential\":[[0.0,\"#0d0887\"],[0.1111111111111111,\"#46039f\"],[0.2222222222222222,\"#7201a8\"],[0.3333333333333333,\"#9c179e\"],[0.4444444444444444,\"#bd3786\"],[0.5555555555555556,\"#d8576b\"],[0.6666666666666666,\"#ed7953\"],[0.7777777777777778,\"#fb9f3a\"],[0.8888888888888888,\"#fdca26\"],[1.0,\"#f0f921\"]],\"sequentialminus\":[[0.0,\"#0d0887\"],[0.1111111111111111,\"#46039f\"],[0.2222222222222222,\"#7201a8\"],[0.3333333333333333,\"#9c179e\"],[0.4444444444444444,\"#bd3786\"],[0.5555555555555556,\"#d8576b\"],[0.6666666666666666,\"#ed7953\"],[0.7777777777777778,\"#fb9f3a\"],[0.8888888888888888,\"#fdca26\"],[1.0,\"#f0f921\"]]},\"colorway\":[\"#636efa\",\"#EF553B\",\"#00cc96\",\"#ab63fa\",\"#FFA15A\",\"#19d3f3\",\"#FF6692\",\"#B6E880\",\"#FF97FF\",\"#FECB52\"],\"font\":{\"color\":\"#2a3f5f\"},\"geo\":{\"bgcolor\":\"white\",\"lakecolor\":\"white\",\"landcolor\":\"#E5ECF6\",\"showlakes\":true,\"showland\":true,\"subunitcolor\":\"white\"},\"hoverlabel\":{\"align\":\"left\"},\"hovermode\":\"closest\",\"mapbox\":{\"style\":\"light\"},\"paper_bgcolor\":\"white\",\"plot_bgcolor\":\"#E5ECF6\",\"polar\":{\"angularaxis\":{\"gridcolor\":\"white\",\"linecolor\":\"white\",\"ticks\":\"\"},\"bgcolor\":\"#E5ECF6\",\"radialaxis\":{\"gridcolor\":\"white\",\"linecolor\":\"white\",\"ticks\":\"\"}},\"scene\":{\"xaxis\":{\"backgroundcolor\":\"#E5ECF6\",\"gridcolor\":\"white\",\"gridwidth\":2,\"linecolor\":\"white\",\"showbackground\":true,\"ticks\":\"\",\"zerolinecolor\":\"white\"},\"yaxis\":{\"backgroundcolor\":\"#E5ECF6\",\"gridcolor\":\"white\",\"gridwidth\":2,\"linecolor\":\"white\",\"showbackground\":true,\"ticks\":\"\",\"zerolinecolor\":\"white\"},\"zaxis\":{\"backgroundcolor\":\"#E5ECF6\",\"gridcolor\":\"white\",\"gridwidth\":2,\"linecolor\":\"white\",\"showbackground\":true,\"ticks\":\"\",\"zerolinecolor\":\"white\"}},\"shapedefaults\":{\"line\":{\"color\":\"#2a3f5f\"}},\"ternary\":{\"aaxis\":{\"gridcolor\":\"white\",\"linecolor\":\"white\",\"ticks\":\"\"},\"baxis\":{\"gridcolor\":\"white\",\"linecolor\":\"white\",\"ticks\":\"\"},\"bgcolor\":\"#E5ECF6\",\"caxis\":{\"gridcolor\":\"white\",\"linecolor\":\"white\",\"ticks\":\"\"}},\"title\":{\"x\":0.05},\"xaxis\":{\"automargin\":true,\"gridcolor\":\"white\",\"linecolor\":\"white\",\"ticks\":\"\",\"title\":{\"standoff\":15},\"zerolinecolor\":\"white\",\"zerolinewidth\":2},\"yaxis\":{\"automargin\":true,\"gridcolor\":\"white\",\"linecolor\":\"white\",\"ticks\":\"\",\"title\":{\"standoff\":15},\"zerolinecolor\":\"white\",\"zerolinewidth\":2}}},\"title\":{\"font\":{\"color\":\"#4D5663\"}},\"xaxis\":{\"gridcolor\":\"#E1E5ED\",\"showgrid\":true,\"tickfont\":{\"color\":\"#4D5663\"},\"title\":{\"font\":{\"color\":\"#4D5663\"},\"text\":\"\"},\"zerolinecolor\":\"#E1E5ED\"},\"yaxis\":{\"gridcolor\":\"#E1E5ED\",\"showgrid\":true,\"tickfont\":{\"color\":\"#4D5663\"},\"title\":{\"font\":{\"color\":\"#4D5663\"},\"text\":\"\"},\"zerolinecolor\":\"#E1E5ED\"}},                        {\"showLink\": true, \"linkText\": \"Export to plotly.com\", \"plotlyServerURL\": \"https://plotly.com\", \"responsive\": true}                    ).then(function(){\n",
       "                            \n",
       "var gd = document.getElementById('046384ba-a668-495c-92ee-1234796bc783');\n",
       "var x = new MutationObserver(function (mutations, observer) {{\n",
       "        var display = window.getComputedStyle(gd).display;\n",
       "        if (!display || display === 'none') {{\n",
       "            console.log([gd, 'removed!']);\n",
       "            Plotly.purge(gd);\n",
       "            observer.disconnect();\n",
       "        }}\n",
       "}});\n",
       "\n",
       "// Listen for the removal of the full notebook cells\n",
       "var notebookContainer = gd.closest('#notebook-container');\n",
       "if (notebookContainer) {{\n",
       "    x.observe(notebookContainer, {childList: true});\n",
       "}}\n",
       "\n",
       "// Listen for the clearing of the current output cell\n",
       "var outputEl = gd.closest('.output');\n",
       "if (outputEl) {{\n",
       "    x.observe(outputEl, {childList: true});\n",
       "}}\n",
       "\n",
       "                        })                };                });            </script>        </div>"
      ]
     },
     "metadata": {},
     "output_type": "display_data"
    }
   ],
   "source": [
    "df.iplot(kind='box')"
   ]
  },
  {
   "cell_type": "markdown",
   "metadata": {},
   "source": [
    "## 3d Surface"
   ]
  },
  {
   "cell_type": "code",
   "execution_count": 32,
   "metadata": {},
   "outputs": [
    {
     "data": {
      "text/html": [
       "<div>\n",
       "<style scoped>\n",
       "    .dataframe tbody tr th:only-of-type {\n",
       "        vertical-align: middle;\n",
       "    }\n",
       "\n",
       "    .dataframe tbody tr th {\n",
       "        vertical-align: top;\n",
       "    }\n",
       "\n",
       "    .dataframe thead th {\n",
       "        text-align: right;\n",
       "    }\n",
       "</style>\n",
       "<table border=\"1\" class=\"dataframe\">\n",
       "  <thead>\n",
       "    <tr style=\"text-align: right;\">\n",
       "      <th></th>\n",
       "      <th>x</th>\n",
       "      <th>y</th>\n",
       "      <th>z</th>\n",
       "    </tr>\n",
       "  </thead>\n",
       "  <tbody>\n",
       "    <tr>\n",
       "      <th>0</th>\n",
       "      <td>1</td>\n",
       "      <td>10</td>\n",
       "      <td>5</td>\n",
       "    </tr>\n",
       "    <tr>\n",
       "      <th>1</th>\n",
       "      <td>2</td>\n",
       "      <td>20</td>\n",
       "      <td>4</td>\n",
       "    </tr>\n",
       "    <tr>\n",
       "      <th>2</th>\n",
       "      <td>3</td>\n",
       "      <td>30</td>\n",
       "      <td>3</td>\n",
       "    </tr>\n",
       "    <tr>\n",
       "      <th>3</th>\n",
       "      <td>4</td>\n",
       "      <td>20</td>\n",
       "      <td>2</td>\n",
       "    </tr>\n",
       "    <tr>\n",
       "      <th>4</th>\n",
       "      <td>5</td>\n",
       "      <td>10</td>\n",
       "      <td>1</td>\n",
       "    </tr>\n",
       "  </tbody>\n",
       "</table>\n",
       "</div>"
      ],
      "text/plain": [
       "   x   y  z\n",
       "0  1  10  5\n",
       "1  2  20  4\n",
       "2  3  30  3\n",
       "3  4  20  2\n",
       "4  5  10  1"
      ]
     },
     "execution_count": 32,
     "metadata": {},
     "output_type": "execute_result"
    }
   ],
   "source": [
    "df3"
   ]
  },
  {
   "cell_type": "code",
   "execution_count": 34,
   "metadata": {},
   "outputs": [
    {
     "data": {
      "application/vnd.plotly.v1+json": {
       "config": {
        "linkText": "Export to plotly.com",
        "plotlyServerURL": "https://plotly.com",
        "showLink": true
       },
       "data": [
        {
         "colorscale": [
          [
           0,
           "rgb(165,0,38)"
          ],
          [
           0.1,
           "rgb(215,48,39)"
          ],
          [
           0.2,
           "rgb(244,109,67)"
          ],
          [
           0.3,
           "rgb(253,174,97)"
          ],
          [
           0.4,
           "rgb(254,224,144)"
          ],
          [
           0.5,
           "rgb(255,255,191)"
          ],
          [
           0.6,
           "rgb(224,243,248)"
          ],
          [
           0.7,
           "rgb(171,217,233)"
          ],
          [
           0.8,
           "rgb(116,173,209)"
          ],
          [
           0.9,
           "rgb(69,117,180)"
          ],
          [
           1,
           "rgb(49,54,149)"
          ]
         ],
         "type": "surface",
         "x": [
          0,
          1,
          2,
          3,
          4
         ],
         "y": [
          "x",
          "y",
          "z"
         ],
         "z": [
          [
           1,
           2,
           3,
           4,
           5
          ],
          [
           10,
           20,
           30,
           20,
           10
          ],
          [
           5,
           4,
           3,
           2,
           1
          ]
         ]
        }
       ],
       "layout": {
        "legend": {
         "bgcolor": "#F5F6F9",
         "font": {
          "color": "#4D5663"
         }
        },
        "paper_bgcolor": "#F5F6F9",
        "plot_bgcolor": "#F5F6F9",
        "template": {
         "data": {
          "bar": [
           {
            "error_x": {
             "color": "#2a3f5f"
            },
            "error_y": {
             "color": "#2a3f5f"
            },
            "marker": {
             "line": {
              "color": "#E5ECF6",
              "width": 0.5
             },
             "pattern": {
              "fillmode": "overlay",
              "size": 10,
              "solidity": 0.2
             }
            },
            "type": "bar"
           }
          ],
          "barpolar": [
           {
            "marker": {
             "line": {
              "color": "#E5ECF6",
              "width": 0.5
             },
             "pattern": {
              "fillmode": "overlay",
              "size": 10,
              "solidity": 0.2
             }
            },
            "type": "barpolar"
           }
          ],
          "carpet": [
           {
            "aaxis": {
             "endlinecolor": "#2a3f5f",
             "gridcolor": "white",
             "linecolor": "white",
             "minorgridcolor": "white",
             "startlinecolor": "#2a3f5f"
            },
            "baxis": {
             "endlinecolor": "#2a3f5f",
             "gridcolor": "white",
             "linecolor": "white",
             "minorgridcolor": "white",
             "startlinecolor": "#2a3f5f"
            },
            "type": "carpet"
           }
          ],
          "choropleth": [
           {
            "colorbar": {
             "outlinewidth": 0,
             "ticks": ""
            },
            "type": "choropleth"
           }
          ],
          "contour": [
           {
            "colorbar": {
             "outlinewidth": 0,
             "ticks": ""
            },
            "colorscale": [
             [
              0,
              "#0d0887"
             ],
             [
              0.1111111111111111,
              "#46039f"
             ],
             [
              0.2222222222222222,
              "#7201a8"
             ],
             [
              0.3333333333333333,
              "#9c179e"
             ],
             [
              0.4444444444444444,
              "#bd3786"
             ],
             [
              0.5555555555555556,
              "#d8576b"
             ],
             [
              0.6666666666666666,
              "#ed7953"
             ],
             [
              0.7777777777777778,
              "#fb9f3a"
             ],
             [
              0.8888888888888888,
              "#fdca26"
             ],
             [
              1,
              "#f0f921"
             ]
            ],
            "type": "contour"
           }
          ],
          "contourcarpet": [
           {
            "colorbar": {
             "outlinewidth": 0,
             "ticks": ""
            },
            "type": "contourcarpet"
           }
          ],
          "heatmap": [
           {
            "colorbar": {
             "outlinewidth": 0,
             "ticks": ""
            },
            "colorscale": [
             [
              0,
              "#0d0887"
             ],
             [
              0.1111111111111111,
              "#46039f"
             ],
             [
              0.2222222222222222,
              "#7201a8"
             ],
             [
              0.3333333333333333,
              "#9c179e"
             ],
             [
              0.4444444444444444,
              "#bd3786"
             ],
             [
              0.5555555555555556,
              "#d8576b"
             ],
             [
              0.6666666666666666,
              "#ed7953"
             ],
             [
              0.7777777777777778,
              "#fb9f3a"
             ],
             [
              0.8888888888888888,
              "#fdca26"
             ],
             [
              1,
              "#f0f921"
             ]
            ],
            "type": "heatmap"
           }
          ],
          "heatmapgl": [
           {
            "colorbar": {
             "outlinewidth": 0,
             "ticks": ""
            },
            "colorscale": [
             [
              0,
              "#0d0887"
             ],
             [
              0.1111111111111111,
              "#46039f"
             ],
             [
              0.2222222222222222,
              "#7201a8"
             ],
             [
              0.3333333333333333,
              "#9c179e"
             ],
             [
              0.4444444444444444,
              "#bd3786"
             ],
             [
              0.5555555555555556,
              "#d8576b"
             ],
             [
              0.6666666666666666,
              "#ed7953"
             ],
             [
              0.7777777777777778,
              "#fb9f3a"
             ],
             [
              0.8888888888888888,
              "#fdca26"
             ],
             [
              1,
              "#f0f921"
             ]
            ],
            "type": "heatmapgl"
           }
          ],
          "histogram": [
           {
            "marker": {
             "pattern": {
              "fillmode": "overlay",
              "size": 10,
              "solidity": 0.2
             }
            },
            "type": "histogram"
           }
          ],
          "histogram2d": [
           {
            "colorbar": {
             "outlinewidth": 0,
             "ticks": ""
            },
            "colorscale": [
             [
              0,
              "#0d0887"
             ],
             [
              0.1111111111111111,
              "#46039f"
             ],
             [
              0.2222222222222222,
              "#7201a8"
             ],
             [
              0.3333333333333333,
              "#9c179e"
             ],
             [
              0.4444444444444444,
              "#bd3786"
             ],
             [
              0.5555555555555556,
              "#d8576b"
             ],
             [
              0.6666666666666666,
              "#ed7953"
             ],
             [
              0.7777777777777778,
              "#fb9f3a"
             ],
             [
              0.8888888888888888,
              "#fdca26"
             ],
             [
              1,
              "#f0f921"
             ]
            ],
            "type": "histogram2d"
           }
          ],
          "histogram2dcontour": [
           {
            "colorbar": {
             "outlinewidth": 0,
             "ticks": ""
            },
            "colorscale": [
             [
              0,
              "#0d0887"
             ],
             [
              0.1111111111111111,
              "#46039f"
             ],
             [
              0.2222222222222222,
              "#7201a8"
             ],
             [
              0.3333333333333333,
              "#9c179e"
             ],
             [
              0.4444444444444444,
              "#bd3786"
             ],
             [
              0.5555555555555556,
              "#d8576b"
             ],
             [
              0.6666666666666666,
              "#ed7953"
             ],
             [
              0.7777777777777778,
              "#fb9f3a"
             ],
             [
              0.8888888888888888,
              "#fdca26"
             ],
             [
              1,
              "#f0f921"
             ]
            ],
            "type": "histogram2dcontour"
           }
          ],
          "mesh3d": [
           {
            "colorbar": {
             "outlinewidth": 0,
             "ticks": ""
            },
            "type": "mesh3d"
           }
          ],
          "parcoords": [
           {
            "line": {
             "colorbar": {
              "outlinewidth": 0,
              "ticks": ""
             }
            },
            "type": "parcoords"
           }
          ],
          "pie": [
           {
            "automargin": true,
            "type": "pie"
           }
          ],
          "scatter": [
           {
            "marker": {
             "colorbar": {
              "outlinewidth": 0,
              "ticks": ""
             }
            },
            "type": "scatter"
           }
          ],
          "scatter3d": [
           {
            "line": {
             "colorbar": {
              "outlinewidth": 0,
              "ticks": ""
             }
            },
            "marker": {
             "colorbar": {
              "outlinewidth": 0,
              "ticks": ""
             }
            },
            "type": "scatter3d"
           }
          ],
          "scattercarpet": [
           {
            "marker": {
             "colorbar": {
              "outlinewidth": 0,
              "ticks": ""
             }
            },
            "type": "scattercarpet"
           }
          ],
          "scattergeo": [
           {
            "marker": {
             "colorbar": {
              "outlinewidth": 0,
              "ticks": ""
             }
            },
            "type": "scattergeo"
           }
          ],
          "scattergl": [
           {
            "marker": {
             "colorbar": {
              "outlinewidth": 0,
              "ticks": ""
             }
            },
            "type": "scattergl"
           }
          ],
          "scattermapbox": [
           {
            "marker": {
             "colorbar": {
              "outlinewidth": 0,
              "ticks": ""
             }
            },
            "type": "scattermapbox"
           }
          ],
          "scatterpolar": [
           {
            "marker": {
             "colorbar": {
              "outlinewidth": 0,
              "ticks": ""
             }
            },
            "type": "scatterpolar"
           }
          ],
          "scatterpolargl": [
           {
            "marker": {
             "colorbar": {
              "outlinewidth": 0,
              "ticks": ""
             }
            },
            "type": "scatterpolargl"
           }
          ],
          "scatterternary": [
           {
            "marker": {
             "colorbar": {
              "outlinewidth": 0,
              "ticks": ""
             }
            },
            "type": "scatterternary"
           }
          ],
          "surface": [
           {
            "colorbar": {
             "outlinewidth": 0,
             "ticks": ""
            },
            "colorscale": [
             [
              0,
              "#0d0887"
             ],
             [
              0.1111111111111111,
              "#46039f"
             ],
             [
              0.2222222222222222,
              "#7201a8"
             ],
             [
              0.3333333333333333,
              "#9c179e"
             ],
             [
              0.4444444444444444,
              "#bd3786"
             ],
             [
              0.5555555555555556,
              "#d8576b"
             ],
             [
              0.6666666666666666,
              "#ed7953"
             ],
             [
              0.7777777777777778,
              "#fb9f3a"
             ],
             [
              0.8888888888888888,
              "#fdca26"
             ],
             [
              1,
              "#f0f921"
             ]
            ],
            "type": "surface"
           }
          ],
          "table": [
           {
            "cells": {
             "fill": {
              "color": "#EBF0F8"
             },
             "line": {
              "color": "white"
             }
            },
            "header": {
             "fill": {
              "color": "#C8D4E3"
             },
             "line": {
              "color": "white"
             }
            },
            "type": "table"
           }
          ]
         },
         "layout": {
          "annotationdefaults": {
           "arrowcolor": "#2a3f5f",
           "arrowhead": 0,
           "arrowwidth": 1
          },
          "autotypenumbers": "strict",
          "coloraxis": {
           "colorbar": {
            "outlinewidth": 0,
            "ticks": ""
           }
          },
          "colorscale": {
           "diverging": [
            [
             0,
             "#8e0152"
            ],
            [
             0.1,
             "#c51b7d"
            ],
            [
             0.2,
             "#de77ae"
            ],
            [
             0.3,
             "#f1b6da"
            ],
            [
             0.4,
             "#fde0ef"
            ],
            [
             0.5,
             "#f7f7f7"
            ],
            [
             0.6,
             "#e6f5d0"
            ],
            [
             0.7,
             "#b8e186"
            ],
            [
             0.8,
             "#7fbc41"
            ],
            [
             0.9,
             "#4d9221"
            ],
            [
             1,
             "#276419"
            ]
           ],
           "sequential": [
            [
             0,
             "#0d0887"
            ],
            [
             0.1111111111111111,
             "#46039f"
            ],
            [
             0.2222222222222222,
             "#7201a8"
            ],
            [
             0.3333333333333333,
             "#9c179e"
            ],
            [
             0.4444444444444444,
             "#bd3786"
            ],
            [
             0.5555555555555556,
             "#d8576b"
            ],
            [
             0.6666666666666666,
             "#ed7953"
            ],
            [
             0.7777777777777778,
             "#fb9f3a"
            ],
            [
             0.8888888888888888,
             "#fdca26"
            ],
            [
             1,
             "#f0f921"
            ]
           ],
           "sequentialminus": [
            [
             0,
             "#0d0887"
            ],
            [
             0.1111111111111111,
             "#46039f"
            ],
            [
             0.2222222222222222,
             "#7201a8"
            ],
            [
             0.3333333333333333,
             "#9c179e"
            ],
            [
             0.4444444444444444,
             "#bd3786"
            ],
            [
             0.5555555555555556,
             "#d8576b"
            ],
            [
             0.6666666666666666,
             "#ed7953"
            ],
            [
             0.7777777777777778,
             "#fb9f3a"
            ],
            [
             0.8888888888888888,
             "#fdca26"
            ],
            [
             1,
             "#f0f921"
            ]
           ]
          },
          "colorway": [
           "#636efa",
           "#EF553B",
           "#00cc96",
           "#ab63fa",
           "#FFA15A",
           "#19d3f3",
           "#FF6692",
           "#B6E880",
           "#FF97FF",
           "#FECB52"
          ],
          "font": {
           "color": "#2a3f5f"
          },
          "geo": {
           "bgcolor": "white",
           "lakecolor": "white",
           "landcolor": "#E5ECF6",
           "showlakes": true,
           "showland": true,
           "subunitcolor": "white"
          },
          "hoverlabel": {
           "align": "left"
          },
          "hovermode": "closest",
          "mapbox": {
           "style": "light"
          },
          "paper_bgcolor": "white",
          "plot_bgcolor": "#E5ECF6",
          "polar": {
           "angularaxis": {
            "gridcolor": "white",
            "linecolor": "white",
            "ticks": ""
           },
           "bgcolor": "#E5ECF6",
           "radialaxis": {
            "gridcolor": "white",
            "linecolor": "white",
            "ticks": ""
           }
          },
          "scene": {
           "xaxis": {
            "backgroundcolor": "#E5ECF6",
            "gridcolor": "white",
            "gridwidth": 2,
            "linecolor": "white",
            "showbackground": true,
            "ticks": "",
            "zerolinecolor": "white"
           },
           "yaxis": {
            "backgroundcolor": "#E5ECF6",
            "gridcolor": "white",
            "gridwidth": 2,
            "linecolor": "white",
            "showbackground": true,
            "ticks": "",
            "zerolinecolor": "white"
           },
           "zaxis": {
            "backgroundcolor": "#E5ECF6",
            "gridcolor": "white",
            "gridwidth": 2,
            "linecolor": "white",
            "showbackground": true,
            "ticks": "",
            "zerolinecolor": "white"
           }
          },
          "shapedefaults": {
           "line": {
            "color": "#2a3f5f"
           }
          },
          "ternary": {
           "aaxis": {
            "gridcolor": "white",
            "linecolor": "white",
            "ticks": ""
           },
           "baxis": {
            "gridcolor": "white",
            "linecolor": "white",
            "ticks": ""
           },
           "bgcolor": "#E5ECF6",
           "caxis": {
            "gridcolor": "white",
            "linecolor": "white",
            "ticks": ""
           }
          },
          "title": {
           "x": 0.05
          },
          "xaxis": {
           "automargin": true,
           "gridcolor": "white",
           "linecolor": "white",
           "ticks": "",
           "title": {
            "standoff": 15
           },
           "zerolinecolor": "white",
           "zerolinewidth": 2
          },
          "yaxis": {
           "automargin": true,
           "gridcolor": "white",
           "linecolor": "white",
           "ticks": "",
           "title": {
            "standoff": 15
           },
           "zerolinecolor": "white",
           "zerolinewidth": 2
          }
         }
        },
        "title": {
         "font": {
          "color": "#4D5663"
         }
        },
        "xaxis": {
         "gridcolor": "#E1E5ED",
         "showgrid": true,
         "tickfont": {
          "color": "#4D5663"
         },
         "title": {
          "font": {
           "color": "#4D5663"
          },
          "text": ""
         },
         "zerolinecolor": "#E1E5ED"
        },
        "yaxis": {
         "gridcolor": "#E1E5ED",
         "showgrid": true,
         "tickfont": {
          "color": "#4D5663"
         },
         "title": {
          "font": {
           "color": "#4D5663"
          },
          "text": ""
         },
         "zerolinecolor": "#E1E5ED"
        }
       }
      },
      "text/html": [
       "<div>                            <div id=\"f971ecf1-6e77-42cc-9236-9b9de80fafa5\" class=\"plotly-graph-div\" style=\"height:525px; width:100%;\"></div>            <script type=\"text/javascript\">                require([\"plotly\"], function(Plotly) {                    window.PLOTLYENV=window.PLOTLYENV || {};\n",
       "                    window.PLOTLYENV.BASE_URL='https://plotly.com';                                    if (document.getElementById(\"f971ecf1-6e77-42cc-9236-9b9de80fafa5\")) {                    Plotly.newPlot(                        \"f971ecf1-6e77-42cc-9236-9b9de80fafa5\",                        [{\"colorscale\":[[0.0,\"rgb(165,0,38)\"],[0.1,\"rgb(215,48,39)\"],[0.2,\"rgb(244,109,67)\"],[0.3,\"rgb(253,174,97)\"],[0.4,\"rgb(254,224,144)\"],[0.5,\"rgb(255,255,191)\"],[0.6,\"rgb(224,243,248)\"],[0.7,\"rgb(171,217,233)\"],[0.8,\"rgb(116,173,209)\"],[0.9,\"rgb(69,117,180)\"],[1.0,\"rgb(49,54,149)\"]],\"x\":[0,1,2,3,4],\"y\":[\"x\",\"y\",\"z\"],\"z\":[[1,2,3,4,5],[10,20,30,20,10],[5,4,3,2,1]],\"type\":\"surface\"}],                        {\"legend\":{\"bgcolor\":\"#F5F6F9\",\"font\":{\"color\":\"#4D5663\"}},\"paper_bgcolor\":\"#F5F6F9\",\"plot_bgcolor\":\"#F5F6F9\",\"template\":{\"data\":{\"barpolar\":[{\"marker\":{\"line\":{\"color\":\"#E5ECF6\",\"width\":0.5},\"pattern\":{\"fillmode\":\"overlay\",\"size\":10,\"solidity\":0.2}},\"type\":\"barpolar\"}],\"bar\":[{\"error_x\":{\"color\":\"#2a3f5f\"},\"error_y\":{\"color\":\"#2a3f5f\"},\"marker\":{\"line\":{\"color\":\"#E5ECF6\",\"width\":0.5},\"pattern\":{\"fillmode\":\"overlay\",\"size\":10,\"solidity\":0.2}},\"type\":\"bar\"}],\"carpet\":[{\"aaxis\":{\"endlinecolor\":\"#2a3f5f\",\"gridcolor\":\"white\",\"linecolor\":\"white\",\"minorgridcolor\":\"white\",\"startlinecolor\":\"#2a3f5f\"},\"baxis\":{\"endlinecolor\":\"#2a3f5f\",\"gridcolor\":\"white\",\"linecolor\":\"white\",\"minorgridcolor\":\"white\",\"startlinecolor\":\"#2a3f5f\"},\"type\":\"carpet\"}],\"choropleth\":[{\"colorbar\":{\"outlinewidth\":0,\"ticks\":\"\"},\"type\":\"choropleth\"}],\"contourcarpet\":[{\"colorbar\":{\"outlinewidth\":0,\"ticks\":\"\"},\"type\":\"contourcarpet\"}],\"contour\":[{\"colorbar\":{\"outlinewidth\":0,\"ticks\":\"\"},\"colorscale\":[[0.0,\"#0d0887\"],[0.1111111111111111,\"#46039f\"],[0.2222222222222222,\"#7201a8\"],[0.3333333333333333,\"#9c179e\"],[0.4444444444444444,\"#bd3786\"],[0.5555555555555556,\"#d8576b\"],[0.6666666666666666,\"#ed7953\"],[0.7777777777777778,\"#fb9f3a\"],[0.8888888888888888,\"#fdca26\"],[1.0,\"#f0f921\"]],\"type\":\"contour\"}],\"heatmapgl\":[{\"colorbar\":{\"outlinewidth\":0,\"ticks\":\"\"},\"colorscale\":[[0.0,\"#0d0887\"],[0.1111111111111111,\"#46039f\"],[0.2222222222222222,\"#7201a8\"],[0.3333333333333333,\"#9c179e\"],[0.4444444444444444,\"#bd3786\"],[0.5555555555555556,\"#d8576b\"],[0.6666666666666666,\"#ed7953\"],[0.7777777777777778,\"#fb9f3a\"],[0.8888888888888888,\"#fdca26\"],[1.0,\"#f0f921\"]],\"type\":\"heatmapgl\"}],\"heatmap\":[{\"colorbar\":{\"outlinewidth\":0,\"ticks\":\"\"},\"colorscale\":[[0.0,\"#0d0887\"],[0.1111111111111111,\"#46039f\"],[0.2222222222222222,\"#7201a8\"],[0.3333333333333333,\"#9c179e\"],[0.4444444444444444,\"#bd3786\"],[0.5555555555555556,\"#d8576b\"],[0.6666666666666666,\"#ed7953\"],[0.7777777777777778,\"#fb9f3a\"],[0.8888888888888888,\"#fdca26\"],[1.0,\"#f0f921\"]],\"type\":\"heatmap\"}],\"histogram2dcontour\":[{\"colorbar\":{\"outlinewidth\":0,\"ticks\":\"\"},\"colorscale\":[[0.0,\"#0d0887\"],[0.1111111111111111,\"#46039f\"],[0.2222222222222222,\"#7201a8\"],[0.3333333333333333,\"#9c179e\"],[0.4444444444444444,\"#bd3786\"],[0.5555555555555556,\"#d8576b\"],[0.6666666666666666,\"#ed7953\"],[0.7777777777777778,\"#fb9f3a\"],[0.8888888888888888,\"#fdca26\"],[1.0,\"#f0f921\"]],\"type\":\"histogram2dcontour\"}],\"histogram2d\":[{\"colorbar\":{\"outlinewidth\":0,\"ticks\":\"\"},\"colorscale\":[[0.0,\"#0d0887\"],[0.1111111111111111,\"#46039f\"],[0.2222222222222222,\"#7201a8\"],[0.3333333333333333,\"#9c179e\"],[0.4444444444444444,\"#bd3786\"],[0.5555555555555556,\"#d8576b\"],[0.6666666666666666,\"#ed7953\"],[0.7777777777777778,\"#fb9f3a\"],[0.8888888888888888,\"#fdca26\"],[1.0,\"#f0f921\"]],\"type\":\"histogram2d\"}],\"histogram\":[{\"marker\":{\"pattern\":{\"fillmode\":\"overlay\",\"size\":10,\"solidity\":0.2}},\"type\":\"histogram\"}],\"mesh3d\":[{\"colorbar\":{\"outlinewidth\":0,\"ticks\":\"\"},\"type\":\"mesh3d\"}],\"parcoords\":[{\"line\":{\"colorbar\":{\"outlinewidth\":0,\"ticks\":\"\"}},\"type\":\"parcoords\"}],\"pie\":[{\"automargin\":true,\"type\":\"pie\"}],\"scatter3d\":[{\"line\":{\"colorbar\":{\"outlinewidth\":0,\"ticks\":\"\"}},\"marker\":{\"colorbar\":{\"outlinewidth\":0,\"ticks\":\"\"}},\"type\":\"scatter3d\"}],\"scattercarpet\":[{\"marker\":{\"colorbar\":{\"outlinewidth\":0,\"ticks\":\"\"}},\"type\":\"scattercarpet\"}],\"scattergeo\":[{\"marker\":{\"colorbar\":{\"outlinewidth\":0,\"ticks\":\"\"}},\"type\":\"scattergeo\"}],\"scattergl\":[{\"marker\":{\"colorbar\":{\"outlinewidth\":0,\"ticks\":\"\"}},\"type\":\"scattergl\"}],\"scattermapbox\":[{\"marker\":{\"colorbar\":{\"outlinewidth\":0,\"ticks\":\"\"}},\"type\":\"scattermapbox\"}],\"scatterpolargl\":[{\"marker\":{\"colorbar\":{\"outlinewidth\":0,\"ticks\":\"\"}},\"type\":\"scatterpolargl\"}],\"scatterpolar\":[{\"marker\":{\"colorbar\":{\"outlinewidth\":0,\"ticks\":\"\"}},\"type\":\"scatterpolar\"}],\"scatter\":[{\"marker\":{\"colorbar\":{\"outlinewidth\":0,\"ticks\":\"\"}},\"type\":\"scatter\"}],\"scatterternary\":[{\"marker\":{\"colorbar\":{\"outlinewidth\":0,\"ticks\":\"\"}},\"type\":\"scatterternary\"}],\"surface\":[{\"colorbar\":{\"outlinewidth\":0,\"ticks\":\"\"},\"colorscale\":[[0.0,\"#0d0887\"],[0.1111111111111111,\"#46039f\"],[0.2222222222222222,\"#7201a8\"],[0.3333333333333333,\"#9c179e\"],[0.4444444444444444,\"#bd3786\"],[0.5555555555555556,\"#d8576b\"],[0.6666666666666666,\"#ed7953\"],[0.7777777777777778,\"#fb9f3a\"],[0.8888888888888888,\"#fdca26\"],[1.0,\"#f0f921\"]],\"type\":\"surface\"}],\"table\":[{\"cells\":{\"fill\":{\"color\":\"#EBF0F8\"},\"line\":{\"color\":\"white\"}},\"header\":{\"fill\":{\"color\":\"#C8D4E3\"},\"line\":{\"color\":\"white\"}},\"type\":\"table\"}]},\"layout\":{\"annotationdefaults\":{\"arrowcolor\":\"#2a3f5f\",\"arrowhead\":0,\"arrowwidth\":1},\"autotypenumbers\":\"strict\",\"coloraxis\":{\"colorbar\":{\"outlinewidth\":0,\"ticks\":\"\"}},\"colorscale\":{\"diverging\":[[0,\"#8e0152\"],[0.1,\"#c51b7d\"],[0.2,\"#de77ae\"],[0.3,\"#f1b6da\"],[0.4,\"#fde0ef\"],[0.5,\"#f7f7f7\"],[0.6,\"#e6f5d0\"],[0.7,\"#b8e186\"],[0.8,\"#7fbc41\"],[0.9,\"#4d9221\"],[1,\"#276419\"]],\"sequential\":[[0.0,\"#0d0887\"],[0.1111111111111111,\"#46039f\"],[0.2222222222222222,\"#7201a8\"],[0.3333333333333333,\"#9c179e\"],[0.4444444444444444,\"#bd3786\"],[0.5555555555555556,\"#d8576b\"],[0.6666666666666666,\"#ed7953\"],[0.7777777777777778,\"#fb9f3a\"],[0.8888888888888888,\"#fdca26\"],[1.0,\"#f0f921\"]],\"sequentialminus\":[[0.0,\"#0d0887\"],[0.1111111111111111,\"#46039f\"],[0.2222222222222222,\"#7201a8\"],[0.3333333333333333,\"#9c179e\"],[0.4444444444444444,\"#bd3786\"],[0.5555555555555556,\"#d8576b\"],[0.6666666666666666,\"#ed7953\"],[0.7777777777777778,\"#fb9f3a\"],[0.8888888888888888,\"#fdca26\"],[1.0,\"#f0f921\"]]},\"colorway\":[\"#636efa\",\"#EF553B\",\"#00cc96\",\"#ab63fa\",\"#FFA15A\",\"#19d3f3\",\"#FF6692\",\"#B6E880\",\"#FF97FF\",\"#FECB52\"],\"font\":{\"color\":\"#2a3f5f\"},\"geo\":{\"bgcolor\":\"white\",\"lakecolor\":\"white\",\"landcolor\":\"#E5ECF6\",\"showlakes\":true,\"showland\":true,\"subunitcolor\":\"white\"},\"hoverlabel\":{\"align\":\"left\"},\"hovermode\":\"closest\",\"mapbox\":{\"style\":\"light\"},\"paper_bgcolor\":\"white\",\"plot_bgcolor\":\"#E5ECF6\",\"polar\":{\"angularaxis\":{\"gridcolor\":\"white\",\"linecolor\":\"white\",\"ticks\":\"\"},\"bgcolor\":\"#E5ECF6\",\"radialaxis\":{\"gridcolor\":\"white\",\"linecolor\":\"white\",\"ticks\":\"\"}},\"scene\":{\"xaxis\":{\"backgroundcolor\":\"#E5ECF6\",\"gridcolor\":\"white\",\"gridwidth\":2,\"linecolor\":\"white\",\"showbackground\":true,\"ticks\":\"\",\"zerolinecolor\":\"white\"},\"yaxis\":{\"backgroundcolor\":\"#E5ECF6\",\"gridcolor\":\"white\",\"gridwidth\":2,\"linecolor\":\"white\",\"showbackground\":true,\"ticks\":\"\",\"zerolinecolor\":\"white\"},\"zaxis\":{\"backgroundcolor\":\"#E5ECF6\",\"gridcolor\":\"white\",\"gridwidth\":2,\"linecolor\":\"white\",\"showbackground\":true,\"ticks\":\"\",\"zerolinecolor\":\"white\"}},\"shapedefaults\":{\"line\":{\"color\":\"#2a3f5f\"}},\"ternary\":{\"aaxis\":{\"gridcolor\":\"white\",\"linecolor\":\"white\",\"ticks\":\"\"},\"baxis\":{\"gridcolor\":\"white\",\"linecolor\":\"white\",\"ticks\":\"\"},\"bgcolor\":\"#E5ECF6\",\"caxis\":{\"gridcolor\":\"white\",\"linecolor\":\"white\",\"ticks\":\"\"}},\"title\":{\"x\":0.05},\"xaxis\":{\"automargin\":true,\"gridcolor\":\"white\",\"linecolor\":\"white\",\"ticks\":\"\",\"title\":{\"standoff\":15},\"zerolinecolor\":\"white\",\"zerolinewidth\":2},\"yaxis\":{\"automargin\":true,\"gridcolor\":\"white\",\"linecolor\":\"white\",\"ticks\":\"\",\"title\":{\"standoff\":15},\"zerolinecolor\":\"white\",\"zerolinewidth\":2}}},\"title\":{\"font\":{\"color\":\"#4D5663\"}},\"xaxis\":{\"gridcolor\":\"#E1E5ED\",\"showgrid\":true,\"tickfont\":{\"color\":\"#4D5663\"},\"title\":{\"font\":{\"color\":\"#4D5663\"},\"text\":\"\"},\"zerolinecolor\":\"#E1E5ED\"},\"yaxis\":{\"gridcolor\":\"#E1E5ED\",\"showgrid\":true,\"tickfont\":{\"color\":\"#4D5663\"},\"title\":{\"font\":{\"color\":\"#4D5663\"},\"text\":\"\"},\"zerolinecolor\":\"#E1E5ED\"}},                        {\"showLink\": true, \"linkText\": \"Export to plotly.com\", \"plotlyServerURL\": \"https://plotly.com\", \"responsive\": true}                    ).then(function(){\n",
       "                            \n",
       "var gd = document.getElementById('f971ecf1-6e77-42cc-9236-9b9de80fafa5');\n",
       "var x = new MutationObserver(function (mutations, observer) {{\n",
       "        var display = window.getComputedStyle(gd).display;\n",
       "        if (!display || display === 'none') {{\n",
       "            console.log([gd, 'removed!']);\n",
       "            Plotly.purge(gd);\n",
       "            observer.disconnect();\n",
       "        }}\n",
       "}});\n",
       "\n",
       "// Listen for the removal of the full notebook cells\n",
       "var notebookContainer = gd.closest('#notebook-container');\n",
       "if (notebookContainer) {{\n",
       "    x.observe(notebookContainer, {childList: true});\n",
       "}}\n",
       "\n",
       "// Listen for the clearing of the current output cell\n",
       "var outputEl = gd.closest('.output');\n",
       "if (outputEl) {{\n",
       "    x.observe(outputEl, {childList: true});\n",
       "}}\n",
       "\n",
       "                        })                };                });            </script>        </div>"
      ]
     },
     "metadata": {},
     "output_type": "display_data"
    }
   ],
   "source": [
    "df3 = pd.DataFrame({'x':[1,2,3,4,5],'y':[10,20,30,20,10],'z':[5,4,3,2,1]})\n",
    "df3.iplot(kind='surface',colorscale='rdylbu')"
   ]
  },
  {
   "cell_type": "markdown",
   "metadata": {},
   "source": [
    "## Spread"
   ]
  },
  {
   "cell_type": "code",
   "execution_count": 39,
   "metadata": {},
   "outputs": [
    {
     "data": {
      "application/vnd.plotly.v1+json": {
       "config": {
        "linkText": "Export to plotly.com",
        "plotlyServerURL": "https://plotly.com",
        "showLink": true
       },
       "data": [
        {
         "histfunc": "count",
         "histnorm": "",
         "marker": {
          "color": "rgba(255, 153, 51, 1.0)",
          "line": {
           "color": "#4D5663",
           "width": 1.3
          }
         },
         "name": "A",
         "opacity": 0.8,
         "orientation": "v",
         "type": "histogram",
         "x": [
          0.2540205165143539,
          0.21018287468404354,
          -1.417366523418028,
          1.4355964054891057,
          0.6438156084526279,
          -0.48992682332332516,
          2.089603407589297,
          -0.24037244272897193,
          0.22741612429678598,
          -0.43388743074207914,
          -0.17474693590151122,
          -0.3378269321122739,
          -0.2872816214010255,
          0.09021167266536759,
          1.9916614315099455,
          -0.9203501904153832,
          1.9932576734555514,
          1.190820979890536,
          0.7591670480729559,
          -0.9322613470150776,
          -0.04972199823331805,
          1.2685856210555648,
          1.5879259973556699,
          -0.567128573474692,
          -2.1942346439385063,
          -0.4559241878544287,
          1.0321820388276353,
          -1.2718987011182359,
          -1.2386551206807364,
          -2.194211747720904,
          -0.5258492859793686,
          -0.6653282837542511,
          -1.3988028138784063,
          -0.07260478095047099,
          -0.28642094085208936,
          -0.11457773635910108,
          -0.1095433105850815,
          0.9750875884483519,
          0.8374465307982316,
          -0.739274852671829,
          0.3157117587684143,
          -0.1715446808230524,
          -1.941469789403776,
          -0.8593008608200065,
          1.0567482570657265,
          -1.9320398455863936,
          0.2594822932774328,
          -0.39301308706656246,
          0.4491389194589242,
          -0.5943834464300685,
          -1.6205742737788318,
          0.6117521209297304,
          -1.276327824115349,
          0.4086695638455752,
          0.24793326266283466,
          -0.4612398992086352,
          1.472207033963178,
          -1.8432937178256399,
          0.331853571779341,
          -0.14425338478943614,
          -0.05413105300153619,
          2.319362187084283,
          0.7674645302272454,
          0.6023945964221519,
          0.09769810203503486,
          1.4595133621459795,
          0.5577801094920947,
          -0.8161165385921015,
          -0.20283106200073736,
          1.0814223714895106,
          -0.9390927760332309,
          -0.7014055677825115,
          -0.26483222934057704,
          0.2563524393956336,
          1.066269844507545,
          0.8834240698541156,
          -0.7106341632582636,
          -0.4401823764634333,
          0.9603374413953691,
          -0.04706661324449886,
          -0.32082510121876906,
          0.22690521984675313,
          0.5580555659912436,
          -0.097048566746413,
          1.7196848303305123,
          0.1334024173581546,
          -1.3154871382832112,
          -0.9863034014659603,
          -1.0446233980609223,
          2.755130001029382,
          -0.19396822225672392,
          -1.0333488219739275,
          0.37272339170574764,
          1.0054492152613619,
          1.266420601741147,
          -2.1026940491604966,
          0.5587347491572473,
          -1.26564189608967,
          1.2365667571795178,
          0.4093624285717989
         ]
        },
        {
         "histfunc": "count",
         "histnorm": "",
         "marker": {
          "color": "rgba(55, 128, 191, 1.0)",
          "line": {
           "color": "#4D5663",
           "width": 1.3
          }
         },
         "name": "B",
         "opacity": 0.8,
         "orientation": "v",
         "type": "histogram",
         "x": [
          1.160825800152867,
          0.49616468992605606,
          0.07383583694545158,
          0.2327336021717852,
          -0.5017316173158699,
          0.8035594113553268,
          -0.28453246467477783,
          -0.915122676714964,
          -1.0386383838201863,
          -1.9952568867431326,
          0.09036591505575159,
          1.155948073431354,
          -0.42889040391045663,
          -1.2389704786006113,
          0.48118016142863945,
          1.0226046516596001,
          0.7398795059007436,
          0.37427404601920805,
          -1.7494103233808207,
          -0.9193506297259831,
          0.8887150557163451,
          0.9103962137297099,
          0.8947662724723978,
          0.06129563149484737,
          0.12002325193346794,
          -0.676796697112064,
          0.06093394366571922,
          -0.5640148151417872,
          0.81707423120743,
          0.6769766088966667,
          1.0441711359096393,
          0.8152504059983663,
          -0.39786853228590585,
          0.6599657173835193,
          0.5442907815797696,
          -0.2911291866765822,
          0.25500617713030627,
          -0.8331171412221349,
          -0.8620206840215854,
          0.04307721553350601,
          -1.215724201505668,
          0.12782065868375267,
          -2.145446215905343,
          -1.2319037363163725,
          -0.45930560794346414,
          -0.21250766872033242,
          -0.39804764478120985,
          -1.007422616587833,
          -0.9847119868129514,
          0.561732278632458,
          -1.14933123553313,
          1.6418957813050432,
          -1.2876584947792657,
          -0.03539282053918007,
          1.362381345433245,
          -0.6291386847202808,
          1.898930581889669,
          -0.6149912505025651,
          2.3034710611983304,
          -0.21226266974932004,
          -0.44847316876586585,
          -0.85303319669474,
          0.39684829882784267,
          -0.39090798457724035,
          1.3631512954306748,
          0.38249503712678984,
          -0.7742515439820427,
          -1.203847854965608,
          1.0115904667778681,
          0.3616426794426263,
          1.4846748175633453,
          0.9654302865010991,
          1.4562869848628681,
          -0.8177914063638103,
          -0.2730370368057006,
          0.6358807484449549,
          -0.7820612964596657,
          0.29823457797888253,
          0.39283832766839666,
          0.5285082098876401,
          1.3226836756728508,
          1.6636775870661122,
          0.5170672228134581,
          0.824798069948975,
          -0.46265991994032685,
          -0.10433027741652127,
          0.2690776010702887,
          1.3276291696627414,
          1.4619005839703703,
          0.06670553461973262,
          1.2367949690978866,
          -1.6728464542712906,
          0.41956646947819315,
          1.0213475908554128,
          1.4010211872247769,
          0.7057004386030941,
          -0.8740541643155307,
          -0.08067153622956262,
          -0.8096141021027465,
          1.2860139723173836
         ]
        },
        {
         "histfunc": "count",
         "histnorm": "",
         "marker": {
          "color": "rgba(50, 171, 96, 1.0)",
          "line": {
           "color": "#4D5663",
           "width": 1.3
          }
         },
         "name": "C",
         "opacity": 0.8,
         "orientation": "v",
         "type": "histogram",
         "x": [
          0.7400092392048068,
          -1.1612554650452065,
          -0.5122338887002665,
          0.8664771985598588,
          -0.34548987492232175,
          0.2781330104706034,
          0.8133129773606471,
          -0.07383128492210222,
          1.4992427452539066,
          -0.06427788658450528,
          0.9777437473437132,
          -1.0844097691216843,
          0.23691969667423549,
          0.6833580638519037,
          0.19854397914558808,
          1.2940032044175587,
          0.2938313960897921,
          -0.621691820858234,
          0.08475790559030699,
          -1.7256365238552824,
          0.7582412110970774,
          1.16644966761969,
          -0.13341758137524054,
          0.04093263652620348,
          0.18320697536407995,
          -0.32092372624067766,
          -0.9192767520476932,
          -0.009211021059547185,
          -0.019857457962381128,
          -0.3142022108888279,
          -0.6172132723525531,
          0.8960160304349492,
          0.7374330001967216,
          0.906649950526819,
          0.8261888595835849,
          0.8445809292425774,
          1.3616427427782307,
          -0.15250750568368196,
          0.10902639094972436,
          0.5281841463998894,
          -0.4749394513444946,
          0.7480762907916783,
          0.3388929235148995,
          -0.7310818991049979,
          0.02719614578997186,
          1.512962862350225,
          0.8035101292065836,
          -0.947393115998121,
          -0.02386938793565377,
          0.7320630015882023,
          1.4345212541566092,
          -0.09064584842119253,
          -0.252148147107145,
          -2.356165508371674,
          0.25763522548097273,
          1.8281771377382254,
          -0.04061189261196941,
          0.5765668729102671,
          -0.01960280456707083,
          1.1734496029900723,
          0.4150946237924706,
          -0.8742687679848868,
          -0.07335204432201242,
          -0.40438225261440797,
          -0.576332073034859,
          1.1146425638994812,
          -0.06873767949536136,
          -0.8595298987909357,
          -0.2464788836352362,
          -1.5408801744628844,
          -0.13284260964214661,
          0.41487455770150555,
          -0.11612837078371765,
          -0.485629058051464,
          0.31925770344676224,
          0.023159140123406755,
          0.9892737551707963,
          0.8448141680578326,
          -2.1502154363339514,
          -0.007235596504881794,
          0.2796531586390798,
          -0.3753414952199077,
          1.5123786861608832,
          -0.13171039496410855,
          0.14632688412280515,
          0.18796700882737305,
          0.31534514387362794,
          1.2218028635289813,
          -0.32024933567295366,
          0.2020833843113226,
          -1.5360472839414374,
          -0.8097024781571458,
          -0.61191498185867,
          -0.5094569134267607,
          -2.5249347881889856,
          -0.5105863402376877,
          1.5150611952696704,
          -0.7388111051732456,
          -0.45003373940694963,
          1.337901303183027
         ]
        },
        {
         "histfunc": "count",
         "histnorm": "",
         "marker": {
          "color": "rgba(128, 0, 128, 1.0)",
          "line": {
           "color": "#4D5663",
           "width": 1.3
          }
         },
         "name": "D",
         "opacity": 0.8,
         "orientation": "v",
         "type": "histogram",
         "x": [
          -0.9068405688078486,
          0.11621097171247942,
          0.26448478101457584,
          -0.5440854440489594,
          0.5531515272952051,
          0.8234042785049313,
          -0.22906001896152353,
          -0.16995879751638207,
          0.6802184174681418,
          0.4445235048806215,
          0.6941279000595636,
          2.1747144867557284,
          1.0223991406942747,
          0.8368416708590749,
          0.184720174470893,
          0.19552655776599848,
          1.6264800319723853,
          1.318082762218274,
          -1.1640119153017372,
          1.2758601739228614,
          -1.6418670804553157,
          -0.4171095950902611,
          -0.3969242583499874,
          0.501527724050001,
          -1.074606222181749,
          -2.223424663893433,
          0.6716990615797975,
          0.14796640692409763,
          0.6948660217218141,
          -1.8580010868790662,
          -0.00526893887691044,
          -0.6836722995929522,
          0.16612742230538627,
          -0.11821349276729069,
          -0.92117968291553,
          0.29188265668117613,
          0.34960878144601626,
          -0.06270629467800636,
          -0.4038456358871288,
          0.2648605591171205,
          0.061168616234663235,
          1.024178167604516,
          -2.3389668344520116,
          -0.2824909310511887,
          -0.4229235811543551,
          0.05631613133747578,
          -1.0376629367534844,
          -1.0508408409413266,
          -0.651137516259835,
          -0.6603619267138788,
          0.6919249312578343,
          -0.3620145382845533,
          -0.3034438985204652,
          0.4506109621289893,
          0.19784991813168556,
          0.4486839596077117,
          -0.6541847283551394,
          1.1707625473024965,
          0.13268391400985902,
          -0.7435191432300351,
          -0.7293681641791371,
          -0.018877098021782796,
          -1.4524593337407599,
          0.1267230001259561,
          -0.7125292116463977,
          -1.223740915429738,
          1.7028564850815053,
          -0.025254987372562845,
          0.14252619879882147,
          -1.424391582709415,
          -0.1305437297684222,
          -1.114889983872903,
          0.8818507740128105,
          1.7383740083404464,
          0.26964871270546237,
          -1.1071106984364947,
          1.0031650408456287,
          -0.9530919999597487,
          -1.5771064309978597,
          -1.548931175254627,
          1.1505022138477403,
          -0.7345193249486318,
          1.8285714520083187,
          0.8272062189740068,
          0.8279518009515064,
          0.3568071184223297,
          -0.3306248498338502,
          0.4467509629034824,
          1.6445920281443878,
          -0.9967417532997104,
          -1.0556863288562042,
          0.35588131793485744,
          -1.1358190099883094,
          0.4211429293134869,
          0.15585056701122604,
          1.8748160736152852,
          2.344329847624523,
          -0.05539633385281114,
          2.0885407026049565,
          -1.1947913568464845
         ]
        }
       ],
       "layout": {
        "barmode": "overlay",
        "legend": {
         "bgcolor": "#F5F6F9",
         "font": {
          "color": "#4D5663"
         }
        },
        "paper_bgcolor": "#F5F6F9",
        "plot_bgcolor": "#F5F6F9",
        "template": {
         "data": {
          "bar": [
           {
            "error_x": {
             "color": "#2a3f5f"
            },
            "error_y": {
             "color": "#2a3f5f"
            },
            "marker": {
             "line": {
              "color": "#E5ECF6",
              "width": 0.5
             },
             "pattern": {
              "fillmode": "overlay",
              "size": 10,
              "solidity": 0.2
             }
            },
            "type": "bar"
           }
          ],
          "barpolar": [
           {
            "marker": {
             "line": {
              "color": "#E5ECF6",
              "width": 0.5
             },
             "pattern": {
              "fillmode": "overlay",
              "size": 10,
              "solidity": 0.2
             }
            },
            "type": "barpolar"
           }
          ],
          "carpet": [
           {
            "aaxis": {
             "endlinecolor": "#2a3f5f",
             "gridcolor": "white",
             "linecolor": "white",
             "minorgridcolor": "white",
             "startlinecolor": "#2a3f5f"
            },
            "baxis": {
             "endlinecolor": "#2a3f5f",
             "gridcolor": "white",
             "linecolor": "white",
             "minorgridcolor": "white",
             "startlinecolor": "#2a3f5f"
            },
            "type": "carpet"
           }
          ],
          "choropleth": [
           {
            "colorbar": {
             "outlinewidth": 0,
             "ticks": ""
            },
            "type": "choropleth"
           }
          ],
          "contour": [
           {
            "colorbar": {
             "outlinewidth": 0,
             "ticks": ""
            },
            "colorscale": [
             [
              0,
              "#0d0887"
             ],
             [
              0.1111111111111111,
              "#46039f"
             ],
             [
              0.2222222222222222,
              "#7201a8"
             ],
             [
              0.3333333333333333,
              "#9c179e"
             ],
             [
              0.4444444444444444,
              "#bd3786"
             ],
             [
              0.5555555555555556,
              "#d8576b"
             ],
             [
              0.6666666666666666,
              "#ed7953"
             ],
             [
              0.7777777777777778,
              "#fb9f3a"
             ],
             [
              0.8888888888888888,
              "#fdca26"
             ],
             [
              1,
              "#f0f921"
             ]
            ],
            "type": "contour"
           }
          ],
          "contourcarpet": [
           {
            "colorbar": {
             "outlinewidth": 0,
             "ticks": ""
            },
            "type": "contourcarpet"
           }
          ],
          "heatmap": [
           {
            "colorbar": {
             "outlinewidth": 0,
             "ticks": ""
            },
            "colorscale": [
             [
              0,
              "#0d0887"
             ],
             [
              0.1111111111111111,
              "#46039f"
             ],
             [
              0.2222222222222222,
              "#7201a8"
             ],
             [
              0.3333333333333333,
              "#9c179e"
             ],
             [
              0.4444444444444444,
              "#bd3786"
             ],
             [
              0.5555555555555556,
              "#d8576b"
             ],
             [
              0.6666666666666666,
              "#ed7953"
             ],
             [
              0.7777777777777778,
              "#fb9f3a"
             ],
             [
              0.8888888888888888,
              "#fdca26"
             ],
             [
              1,
              "#f0f921"
             ]
            ],
            "type": "heatmap"
           }
          ],
          "heatmapgl": [
           {
            "colorbar": {
             "outlinewidth": 0,
             "ticks": ""
            },
            "colorscale": [
             [
              0,
              "#0d0887"
             ],
             [
              0.1111111111111111,
              "#46039f"
             ],
             [
              0.2222222222222222,
              "#7201a8"
             ],
             [
              0.3333333333333333,
              "#9c179e"
             ],
             [
              0.4444444444444444,
              "#bd3786"
             ],
             [
              0.5555555555555556,
              "#d8576b"
             ],
             [
              0.6666666666666666,
              "#ed7953"
             ],
             [
              0.7777777777777778,
              "#fb9f3a"
             ],
             [
              0.8888888888888888,
              "#fdca26"
             ],
             [
              1,
              "#f0f921"
             ]
            ],
            "type": "heatmapgl"
           }
          ],
          "histogram": [
           {
            "marker": {
             "pattern": {
              "fillmode": "overlay",
              "size": 10,
              "solidity": 0.2
             }
            },
            "type": "histogram"
           }
          ],
          "histogram2d": [
           {
            "colorbar": {
             "outlinewidth": 0,
             "ticks": ""
            },
            "colorscale": [
             [
              0,
              "#0d0887"
             ],
             [
              0.1111111111111111,
              "#46039f"
             ],
             [
              0.2222222222222222,
              "#7201a8"
             ],
             [
              0.3333333333333333,
              "#9c179e"
             ],
             [
              0.4444444444444444,
              "#bd3786"
             ],
             [
              0.5555555555555556,
              "#d8576b"
             ],
             [
              0.6666666666666666,
              "#ed7953"
             ],
             [
              0.7777777777777778,
              "#fb9f3a"
             ],
             [
              0.8888888888888888,
              "#fdca26"
             ],
             [
              1,
              "#f0f921"
             ]
            ],
            "type": "histogram2d"
           }
          ],
          "histogram2dcontour": [
           {
            "colorbar": {
             "outlinewidth": 0,
             "ticks": ""
            },
            "colorscale": [
             [
              0,
              "#0d0887"
             ],
             [
              0.1111111111111111,
              "#46039f"
             ],
             [
              0.2222222222222222,
              "#7201a8"
             ],
             [
              0.3333333333333333,
              "#9c179e"
             ],
             [
              0.4444444444444444,
              "#bd3786"
             ],
             [
              0.5555555555555556,
              "#d8576b"
             ],
             [
              0.6666666666666666,
              "#ed7953"
             ],
             [
              0.7777777777777778,
              "#fb9f3a"
             ],
             [
              0.8888888888888888,
              "#fdca26"
             ],
             [
              1,
              "#f0f921"
             ]
            ],
            "type": "histogram2dcontour"
           }
          ],
          "mesh3d": [
           {
            "colorbar": {
             "outlinewidth": 0,
             "ticks": ""
            },
            "type": "mesh3d"
           }
          ],
          "parcoords": [
           {
            "line": {
             "colorbar": {
              "outlinewidth": 0,
              "ticks": ""
             }
            },
            "type": "parcoords"
           }
          ],
          "pie": [
           {
            "automargin": true,
            "type": "pie"
           }
          ],
          "scatter": [
           {
            "marker": {
             "colorbar": {
              "outlinewidth": 0,
              "ticks": ""
             }
            },
            "type": "scatter"
           }
          ],
          "scatter3d": [
           {
            "line": {
             "colorbar": {
              "outlinewidth": 0,
              "ticks": ""
             }
            },
            "marker": {
             "colorbar": {
              "outlinewidth": 0,
              "ticks": ""
             }
            },
            "type": "scatter3d"
           }
          ],
          "scattercarpet": [
           {
            "marker": {
             "colorbar": {
              "outlinewidth": 0,
              "ticks": ""
             }
            },
            "type": "scattercarpet"
           }
          ],
          "scattergeo": [
           {
            "marker": {
             "colorbar": {
              "outlinewidth": 0,
              "ticks": ""
             }
            },
            "type": "scattergeo"
           }
          ],
          "scattergl": [
           {
            "marker": {
             "colorbar": {
              "outlinewidth": 0,
              "ticks": ""
             }
            },
            "type": "scattergl"
           }
          ],
          "scattermapbox": [
           {
            "marker": {
             "colorbar": {
              "outlinewidth": 0,
              "ticks": ""
             }
            },
            "type": "scattermapbox"
           }
          ],
          "scatterpolar": [
           {
            "marker": {
             "colorbar": {
              "outlinewidth": 0,
              "ticks": ""
             }
            },
            "type": "scatterpolar"
           }
          ],
          "scatterpolargl": [
           {
            "marker": {
             "colorbar": {
              "outlinewidth": 0,
              "ticks": ""
             }
            },
            "type": "scatterpolargl"
           }
          ],
          "scatterternary": [
           {
            "marker": {
             "colorbar": {
              "outlinewidth": 0,
              "ticks": ""
             }
            },
            "type": "scatterternary"
           }
          ],
          "surface": [
           {
            "colorbar": {
             "outlinewidth": 0,
             "ticks": ""
            },
            "colorscale": [
             [
              0,
              "#0d0887"
             ],
             [
              0.1111111111111111,
              "#46039f"
             ],
             [
              0.2222222222222222,
              "#7201a8"
             ],
             [
              0.3333333333333333,
              "#9c179e"
             ],
             [
              0.4444444444444444,
              "#bd3786"
             ],
             [
              0.5555555555555556,
              "#d8576b"
             ],
             [
              0.6666666666666666,
              "#ed7953"
             ],
             [
              0.7777777777777778,
              "#fb9f3a"
             ],
             [
              0.8888888888888888,
              "#fdca26"
             ],
             [
              1,
              "#f0f921"
             ]
            ],
            "type": "surface"
           }
          ],
          "table": [
           {
            "cells": {
             "fill": {
              "color": "#EBF0F8"
             },
             "line": {
              "color": "white"
             }
            },
            "header": {
             "fill": {
              "color": "#C8D4E3"
             },
             "line": {
              "color": "white"
             }
            },
            "type": "table"
           }
          ]
         },
         "layout": {
          "annotationdefaults": {
           "arrowcolor": "#2a3f5f",
           "arrowhead": 0,
           "arrowwidth": 1
          },
          "autotypenumbers": "strict",
          "coloraxis": {
           "colorbar": {
            "outlinewidth": 0,
            "ticks": ""
           }
          },
          "colorscale": {
           "diverging": [
            [
             0,
             "#8e0152"
            ],
            [
             0.1,
             "#c51b7d"
            ],
            [
             0.2,
             "#de77ae"
            ],
            [
             0.3,
             "#f1b6da"
            ],
            [
             0.4,
             "#fde0ef"
            ],
            [
             0.5,
             "#f7f7f7"
            ],
            [
             0.6,
             "#e6f5d0"
            ],
            [
             0.7,
             "#b8e186"
            ],
            [
             0.8,
             "#7fbc41"
            ],
            [
             0.9,
             "#4d9221"
            ],
            [
             1,
             "#276419"
            ]
           ],
           "sequential": [
            [
             0,
             "#0d0887"
            ],
            [
             0.1111111111111111,
             "#46039f"
            ],
            [
             0.2222222222222222,
             "#7201a8"
            ],
            [
             0.3333333333333333,
             "#9c179e"
            ],
            [
             0.4444444444444444,
             "#bd3786"
            ],
            [
             0.5555555555555556,
             "#d8576b"
            ],
            [
             0.6666666666666666,
             "#ed7953"
            ],
            [
             0.7777777777777778,
             "#fb9f3a"
            ],
            [
             0.8888888888888888,
             "#fdca26"
            ],
            [
             1,
             "#f0f921"
            ]
           ],
           "sequentialminus": [
            [
             0,
             "#0d0887"
            ],
            [
             0.1111111111111111,
             "#46039f"
            ],
            [
             0.2222222222222222,
             "#7201a8"
            ],
            [
             0.3333333333333333,
             "#9c179e"
            ],
            [
             0.4444444444444444,
             "#bd3786"
            ],
            [
             0.5555555555555556,
             "#d8576b"
            ],
            [
             0.6666666666666666,
             "#ed7953"
            ],
            [
             0.7777777777777778,
             "#fb9f3a"
            ],
            [
             0.8888888888888888,
             "#fdca26"
            ],
            [
             1,
             "#f0f921"
            ]
           ]
          },
          "colorway": [
           "#636efa",
           "#EF553B",
           "#00cc96",
           "#ab63fa",
           "#FFA15A",
           "#19d3f3",
           "#FF6692",
           "#B6E880",
           "#FF97FF",
           "#FECB52"
          ],
          "font": {
           "color": "#2a3f5f"
          },
          "geo": {
           "bgcolor": "white",
           "lakecolor": "white",
           "landcolor": "#E5ECF6",
           "showlakes": true,
           "showland": true,
           "subunitcolor": "white"
          },
          "hoverlabel": {
           "align": "left"
          },
          "hovermode": "closest",
          "mapbox": {
           "style": "light"
          },
          "paper_bgcolor": "white",
          "plot_bgcolor": "#E5ECF6",
          "polar": {
           "angularaxis": {
            "gridcolor": "white",
            "linecolor": "white",
            "ticks": ""
           },
           "bgcolor": "#E5ECF6",
           "radialaxis": {
            "gridcolor": "white",
            "linecolor": "white",
            "ticks": ""
           }
          },
          "scene": {
           "xaxis": {
            "backgroundcolor": "#E5ECF6",
            "gridcolor": "white",
            "gridwidth": 2,
            "linecolor": "white",
            "showbackground": true,
            "ticks": "",
            "zerolinecolor": "white"
           },
           "yaxis": {
            "backgroundcolor": "#E5ECF6",
            "gridcolor": "white",
            "gridwidth": 2,
            "linecolor": "white",
            "showbackground": true,
            "ticks": "",
            "zerolinecolor": "white"
           },
           "zaxis": {
            "backgroundcolor": "#E5ECF6",
            "gridcolor": "white",
            "gridwidth": 2,
            "linecolor": "white",
            "showbackground": true,
            "ticks": "",
            "zerolinecolor": "white"
           }
          },
          "shapedefaults": {
           "line": {
            "color": "#2a3f5f"
           }
          },
          "ternary": {
           "aaxis": {
            "gridcolor": "white",
            "linecolor": "white",
            "ticks": ""
           },
           "baxis": {
            "gridcolor": "white",
            "linecolor": "white",
            "ticks": ""
           },
           "bgcolor": "#E5ECF6",
           "caxis": {
            "gridcolor": "white",
            "linecolor": "white",
            "ticks": ""
           }
          },
          "title": {
           "x": 0.05
          },
          "xaxis": {
           "automargin": true,
           "gridcolor": "white",
           "linecolor": "white",
           "ticks": "",
           "title": {
            "standoff": 15
           },
           "zerolinecolor": "white",
           "zerolinewidth": 2
          },
          "yaxis": {
           "automargin": true,
           "gridcolor": "white",
           "linecolor": "white",
           "ticks": "",
           "title": {
            "standoff": 15
           },
           "zerolinecolor": "white",
           "zerolinewidth": 2
          }
         }
        },
        "title": {
         "font": {
          "color": "#4D5663"
         }
        },
        "xaxis": {
         "gridcolor": "#E1E5ED",
         "showgrid": true,
         "tickfont": {
          "color": "#4D5663"
         },
         "title": {
          "font": {
           "color": "#4D5663"
          },
          "text": ""
         },
         "zerolinecolor": "#E1E5ED"
        },
        "yaxis": {
         "gridcolor": "#E1E5ED",
         "showgrid": true,
         "tickfont": {
          "color": "#4D5663"
         },
         "title": {
          "font": {
           "color": "#4D5663"
          },
          "text": ""
         },
         "zerolinecolor": "#E1E5ED"
        }
       }
      },
      "text/html": [
       "<div>                            <div id=\"4907e16d-fff3-4d60-adce-75f09845f35c\" class=\"plotly-graph-div\" style=\"height:525px; width:100%;\"></div>            <script type=\"text/javascript\">                require([\"plotly\"], function(Plotly) {                    window.PLOTLYENV=window.PLOTLYENV || {};\n",
       "                    window.PLOTLYENV.BASE_URL='https://plotly.com';                                    if (document.getElementById(\"4907e16d-fff3-4d60-adce-75f09845f35c\")) {                    Plotly.newPlot(                        \"4907e16d-fff3-4d60-adce-75f09845f35c\",                        [{\"histfunc\":\"count\",\"histnorm\":\"\",\"marker\":{\"color\":\"rgba(255, 153, 51, 1.0)\",\"line\":{\"color\":\"#4D5663\",\"width\":1.3}},\"name\":\"A\",\"opacity\":0.8,\"orientation\":\"v\",\"x\":[0.2540205165143539,0.21018287468404354,-1.417366523418028,1.4355964054891057,0.6438156084526279,-0.48992682332332516,2.089603407589297,-0.24037244272897193,0.22741612429678598,-0.43388743074207914,-0.17474693590151122,-0.3378269321122739,-0.2872816214010255,0.09021167266536759,1.9916614315099455,-0.9203501904153832,1.9932576734555514,1.190820979890536,0.7591670480729559,-0.9322613470150776,-0.04972199823331805,1.2685856210555648,1.5879259973556699,-0.567128573474692,-2.1942346439385063,-0.4559241878544287,1.0321820388276353,-1.2718987011182359,-1.2386551206807364,-2.194211747720904,-0.5258492859793686,-0.6653282837542511,-1.3988028138784063,-0.07260478095047099,-0.28642094085208936,-0.11457773635910108,-0.1095433105850815,0.9750875884483519,0.8374465307982316,-0.739274852671829,0.3157117587684143,-0.1715446808230524,-1.941469789403776,-0.8593008608200065,1.0567482570657265,-1.9320398455863936,0.2594822932774328,-0.39301308706656246,0.4491389194589242,-0.5943834464300685,-1.6205742737788318,0.6117521209297304,-1.276327824115349,0.4086695638455752,0.24793326266283466,-0.4612398992086352,1.472207033963178,-1.8432937178256399,0.331853571779341,-0.14425338478943614,-0.05413105300153619,2.319362187084283,0.7674645302272454,0.6023945964221519,0.09769810203503486,1.4595133621459795,0.5577801094920947,-0.8161165385921015,-0.20283106200073736,1.0814223714895106,-0.9390927760332309,-0.7014055677825115,-0.26483222934057704,0.2563524393956336,1.066269844507545,0.8834240698541156,-0.7106341632582636,-0.4401823764634333,0.9603374413953691,-0.04706661324449886,-0.32082510121876906,0.22690521984675313,0.5580555659912436,-0.097048566746413,1.7196848303305123,0.1334024173581546,-1.3154871382832112,-0.9863034014659603,-1.0446233980609223,2.755130001029382,-0.19396822225672392,-1.0333488219739275,0.37272339170574764,1.0054492152613619,1.266420601741147,-2.1026940491604966,0.5587347491572473,-1.26564189608967,1.2365667571795178,0.4093624285717989],\"type\":\"histogram\"},{\"histfunc\":\"count\",\"histnorm\":\"\",\"marker\":{\"color\":\"rgba(55, 128, 191, 1.0)\",\"line\":{\"color\":\"#4D5663\",\"width\":1.3}},\"name\":\"B\",\"opacity\":0.8,\"orientation\":\"v\",\"x\":[1.160825800152867,0.49616468992605606,0.07383583694545158,0.2327336021717852,-0.5017316173158699,0.8035594113553268,-0.28453246467477783,-0.915122676714964,-1.0386383838201863,-1.9952568867431326,0.09036591505575159,1.155948073431354,-0.42889040391045663,-1.2389704786006113,0.48118016142863945,1.0226046516596001,0.7398795059007436,0.37427404601920805,-1.7494103233808207,-0.9193506297259831,0.8887150557163451,0.9103962137297099,0.8947662724723978,0.06129563149484737,0.12002325193346794,-0.676796697112064,0.06093394366571922,-0.5640148151417872,0.81707423120743,0.6769766088966667,1.0441711359096393,0.8152504059983663,-0.39786853228590585,0.6599657173835193,0.5442907815797696,-0.2911291866765822,0.25500617713030627,-0.8331171412221349,-0.8620206840215854,0.04307721553350601,-1.215724201505668,0.12782065868375267,-2.145446215905343,-1.2319037363163725,-0.45930560794346414,-0.21250766872033242,-0.39804764478120985,-1.007422616587833,-0.9847119868129514,0.561732278632458,-1.14933123553313,1.6418957813050432,-1.2876584947792657,-0.03539282053918007,1.362381345433245,-0.6291386847202808,1.898930581889669,-0.6149912505025651,2.3034710611983304,-0.21226266974932004,-0.44847316876586585,-0.85303319669474,0.39684829882784267,-0.39090798457724035,1.3631512954306748,0.38249503712678984,-0.7742515439820427,-1.203847854965608,1.0115904667778681,0.3616426794426263,1.4846748175633453,0.9654302865010991,1.4562869848628681,-0.8177914063638103,-0.2730370368057006,0.6358807484449549,-0.7820612964596657,0.29823457797888253,0.39283832766839666,0.5285082098876401,1.3226836756728508,1.6636775870661122,0.5170672228134581,0.824798069948975,-0.46265991994032685,-0.10433027741652127,0.2690776010702887,1.3276291696627414,1.4619005839703703,0.06670553461973262,1.2367949690978866,-1.6728464542712906,0.41956646947819315,1.0213475908554128,1.4010211872247769,0.7057004386030941,-0.8740541643155307,-0.08067153622956262,-0.8096141021027465,1.2860139723173836],\"type\":\"histogram\"},{\"histfunc\":\"count\",\"histnorm\":\"\",\"marker\":{\"color\":\"rgba(50, 171, 96, 1.0)\",\"line\":{\"color\":\"#4D5663\",\"width\":1.3}},\"name\":\"C\",\"opacity\":0.8,\"orientation\":\"v\",\"x\":[0.7400092392048068,-1.1612554650452065,-0.5122338887002665,0.8664771985598588,-0.34548987492232175,0.2781330104706034,0.8133129773606471,-0.07383128492210222,1.4992427452539066,-0.06427788658450528,0.9777437473437132,-1.0844097691216843,0.23691969667423549,0.6833580638519037,0.19854397914558808,1.2940032044175587,0.2938313960897921,-0.621691820858234,0.08475790559030699,-1.7256365238552824,0.7582412110970774,1.16644966761969,-0.13341758137524054,0.04093263652620348,0.18320697536407995,-0.32092372624067766,-0.9192767520476932,-0.009211021059547185,-0.019857457962381128,-0.3142022108888279,-0.6172132723525531,0.8960160304349492,0.7374330001967216,0.906649950526819,0.8261888595835849,0.8445809292425774,1.3616427427782307,-0.15250750568368196,0.10902639094972436,0.5281841463998894,-0.4749394513444946,0.7480762907916783,0.3388929235148995,-0.7310818991049979,0.02719614578997186,1.512962862350225,0.8035101292065836,-0.947393115998121,-0.02386938793565377,0.7320630015882023,1.4345212541566092,-0.09064584842119253,-0.252148147107145,-2.356165508371674,0.25763522548097273,1.8281771377382254,-0.04061189261196941,0.5765668729102671,-0.01960280456707083,1.1734496029900723,0.4150946237924706,-0.8742687679848868,-0.07335204432201242,-0.40438225261440797,-0.576332073034859,1.1146425638994812,-0.06873767949536136,-0.8595298987909357,-0.2464788836352362,-1.5408801744628844,-0.13284260964214661,0.41487455770150555,-0.11612837078371765,-0.485629058051464,0.31925770344676224,0.023159140123406755,0.9892737551707963,0.8448141680578326,-2.1502154363339514,-0.007235596504881794,0.2796531586390798,-0.3753414952199077,1.5123786861608832,-0.13171039496410855,0.14632688412280515,0.18796700882737305,0.31534514387362794,1.2218028635289813,-0.32024933567295366,0.2020833843113226,-1.5360472839414374,-0.8097024781571458,-0.61191498185867,-0.5094569134267607,-2.5249347881889856,-0.5105863402376877,1.5150611952696704,-0.7388111051732456,-0.45003373940694963,1.337901303183027],\"type\":\"histogram\"},{\"histfunc\":\"count\",\"histnorm\":\"\",\"marker\":{\"color\":\"rgba(128, 0, 128, 1.0)\",\"line\":{\"color\":\"#4D5663\",\"width\":1.3}},\"name\":\"D\",\"opacity\":0.8,\"orientation\":\"v\",\"x\":[-0.9068405688078486,0.11621097171247942,0.26448478101457584,-0.5440854440489594,0.5531515272952051,0.8234042785049313,-0.22906001896152353,-0.16995879751638207,0.6802184174681418,0.4445235048806215,0.6941279000595636,2.1747144867557284,1.0223991406942747,0.8368416708590749,0.184720174470893,0.19552655776599848,1.6264800319723853,1.318082762218274,-1.1640119153017372,1.2758601739228614,-1.6418670804553157,-0.4171095950902611,-0.3969242583499874,0.501527724050001,-1.074606222181749,-2.223424663893433,0.6716990615797975,0.14796640692409763,0.6948660217218141,-1.8580010868790662,-0.00526893887691044,-0.6836722995929522,0.16612742230538627,-0.11821349276729069,-0.92117968291553,0.29188265668117613,0.34960878144601626,-0.06270629467800636,-0.4038456358871288,0.2648605591171205,0.061168616234663235,1.024178167604516,-2.3389668344520116,-0.2824909310511887,-0.4229235811543551,0.05631613133747578,-1.0376629367534844,-1.0508408409413266,-0.651137516259835,-0.6603619267138788,0.6919249312578343,-0.3620145382845533,-0.3034438985204652,0.4506109621289893,0.19784991813168556,0.4486839596077117,-0.6541847283551394,1.1707625473024965,0.13268391400985902,-0.7435191432300351,-0.7293681641791371,-0.018877098021782796,-1.4524593337407599,0.1267230001259561,-0.7125292116463977,-1.223740915429738,1.7028564850815053,-0.025254987372562845,0.14252619879882147,-1.424391582709415,-0.1305437297684222,-1.114889983872903,0.8818507740128105,1.7383740083404464,0.26964871270546237,-1.1071106984364947,1.0031650408456287,-0.9530919999597487,-1.5771064309978597,-1.548931175254627,1.1505022138477403,-0.7345193249486318,1.8285714520083187,0.8272062189740068,0.8279518009515064,0.3568071184223297,-0.3306248498338502,0.4467509629034824,1.6445920281443878,-0.9967417532997104,-1.0556863288562042,0.35588131793485744,-1.1358190099883094,0.4211429293134869,0.15585056701122604,1.8748160736152852,2.344329847624523,-0.05539633385281114,2.0885407026049565,-1.1947913568464845],\"type\":\"histogram\"}],                        {\"barmode\":\"overlay\",\"legend\":{\"bgcolor\":\"#F5F6F9\",\"font\":{\"color\":\"#4D5663\"}},\"paper_bgcolor\":\"#F5F6F9\",\"plot_bgcolor\":\"#F5F6F9\",\"template\":{\"data\":{\"barpolar\":[{\"marker\":{\"line\":{\"color\":\"#E5ECF6\",\"width\":0.5},\"pattern\":{\"fillmode\":\"overlay\",\"size\":10,\"solidity\":0.2}},\"type\":\"barpolar\"}],\"bar\":[{\"error_x\":{\"color\":\"#2a3f5f\"},\"error_y\":{\"color\":\"#2a3f5f\"},\"marker\":{\"line\":{\"color\":\"#E5ECF6\",\"width\":0.5},\"pattern\":{\"fillmode\":\"overlay\",\"size\":10,\"solidity\":0.2}},\"type\":\"bar\"}],\"carpet\":[{\"aaxis\":{\"endlinecolor\":\"#2a3f5f\",\"gridcolor\":\"white\",\"linecolor\":\"white\",\"minorgridcolor\":\"white\",\"startlinecolor\":\"#2a3f5f\"},\"baxis\":{\"endlinecolor\":\"#2a3f5f\",\"gridcolor\":\"white\",\"linecolor\":\"white\",\"minorgridcolor\":\"white\",\"startlinecolor\":\"#2a3f5f\"},\"type\":\"carpet\"}],\"choropleth\":[{\"colorbar\":{\"outlinewidth\":0,\"ticks\":\"\"},\"type\":\"choropleth\"}],\"contourcarpet\":[{\"colorbar\":{\"outlinewidth\":0,\"ticks\":\"\"},\"type\":\"contourcarpet\"}],\"contour\":[{\"colorbar\":{\"outlinewidth\":0,\"ticks\":\"\"},\"colorscale\":[[0.0,\"#0d0887\"],[0.1111111111111111,\"#46039f\"],[0.2222222222222222,\"#7201a8\"],[0.3333333333333333,\"#9c179e\"],[0.4444444444444444,\"#bd3786\"],[0.5555555555555556,\"#d8576b\"],[0.6666666666666666,\"#ed7953\"],[0.7777777777777778,\"#fb9f3a\"],[0.8888888888888888,\"#fdca26\"],[1.0,\"#f0f921\"]],\"type\":\"contour\"}],\"heatmapgl\":[{\"colorbar\":{\"outlinewidth\":0,\"ticks\":\"\"},\"colorscale\":[[0.0,\"#0d0887\"],[0.1111111111111111,\"#46039f\"],[0.2222222222222222,\"#7201a8\"],[0.3333333333333333,\"#9c179e\"],[0.4444444444444444,\"#bd3786\"],[0.5555555555555556,\"#d8576b\"],[0.6666666666666666,\"#ed7953\"],[0.7777777777777778,\"#fb9f3a\"],[0.8888888888888888,\"#fdca26\"],[1.0,\"#f0f921\"]],\"type\":\"heatmapgl\"}],\"heatmap\":[{\"colorbar\":{\"outlinewidth\":0,\"ticks\":\"\"},\"colorscale\":[[0.0,\"#0d0887\"],[0.1111111111111111,\"#46039f\"],[0.2222222222222222,\"#7201a8\"],[0.3333333333333333,\"#9c179e\"],[0.4444444444444444,\"#bd3786\"],[0.5555555555555556,\"#d8576b\"],[0.6666666666666666,\"#ed7953\"],[0.7777777777777778,\"#fb9f3a\"],[0.8888888888888888,\"#fdca26\"],[1.0,\"#f0f921\"]],\"type\":\"heatmap\"}],\"histogram2dcontour\":[{\"colorbar\":{\"outlinewidth\":0,\"ticks\":\"\"},\"colorscale\":[[0.0,\"#0d0887\"],[0.1111111111111111,\"#46039f\"],[0.2222222222222222,\"#7201a8\"],[0.3333333333333333,\"#9c179e\"],[0.4444444444444444,\"#bd3786\"],[0.5555555555555556,\"#d8576b\"],[0.6666666666666666,\"#ed7953\"],[0.7777777777777778,\"#fb9f3a\"],[0.8888888888888888,\"#fdca26\"],[1.0,\"#f0f921\"]],\"type\":\"histogram2dcontour\"}],\"histogram2d\":[{\"colorbar\":{\"outlinewidth\":0,\"ticks\":\"\"},\"colorscale\":[[0.0,\"#0d0887\"],[0.1111111111111111,\"#46039f\"],[0.2222222222222222,\"#7201a8\"],[0.3333333333333333,\"#9c179e\"],[0.4444444444444444,\"#bd3786\"],[0.5555555555555556,\"#d8576b\"],[0.6666666666666666,\"#ed7953\"],[0.7777777777777778,\"#fb9f3a\"],[0.8888888888888888,\"#fdca26\"],[1.0,\"#f0f921\"]],\"type\":\"histogram2d\"}],\"histogram\":[{\"marker\":{\"pattern\":{\"fillmode\":\"overlay\",\"size\":10,\"solidity\":0.2}},\"type\":\"histogram\"}],\"mesh3d\":[{\"colorbar\":{\"outlinewidth\":0,\"ticks\":\"\"},\"type\":\"mesh3d\"}],\"parcoords\":[{\"line\":{\"colorbar\":{\"outlinewidth\":0,\"ticks\":\"\"}},\"type\":\"parcoords\"}],\"pie\":[{\"automargin\":true,\"type\":\"pie\"}],\"scatter3d\":[{\"line\":{\"colorbar\":{\"outlinewidth\":0,\"ticks\":\"\"}},\"marker\":{\"colorbar\":{\"outlinewidth\":0,\"ticks\":\"\"}},\"type\":\"scatter3d\"}],\"scattercarpet\":[{\"marker\":{\"colorbar\":{\"outlinewidth\":0,\"ticks\":\"\"}},\"type\":\"scattercarpet\"}],\"scattergeo\":[{\"marker\":{\"colorbar\":{\"outlinewidth\":0,\"ticks\":\"\"}},\"type\":\"scattergeo\"}],\"scattergl\":[{\"marker\":{\"colorbar\":{\"outlinewidth\":0,\"ticks\":\"\"}},\"type\":\"scattergl\"}],\"scattermapbox\":[{\"marker\":{\"colorbar\":{\"outlinewidth\":0,\"ticks\":\"\"}},\"type\":\"scattermapbox\"}],\"scatterpolargl\":[{\"marker\":{\"colorbar\":{\"outlinewidth\":0,\"ticks\":\"\"}},\"type\":\"scatterpolargl\"}],\"scatterpolar\":[{\"marker\":{\"colorbar\":{\"outlinewidth\":0,\"ticks\":\"\"}},\"type\":\"scatterpolar\"}],\"scatter\":[{\"marker\":{\"colorbar\":{\"outlinewidth\":0,\"ticks\":\"\"}},\"type\":\"scatter\"}],\"scatterternary\":[{\"marker\":{\"colorbar\":{\"outlinewidth\":0,\"ticks\":\"\"}},\"type\":\"scatterternary\"}],\"surface\":[{\"colorbar\":{\"outlinewidth\":0,\"ticks\":\"\"},\"colorscale\":[[0.0,\"#0d0887\"],[0.1111111111111111,\"#46039f\"],[0.2222222222222222,\"#7201a8\"],[0.3333333333333333,\"#9c179e\"],[0.4444444444444444,\"#bd3786\"],[0.5555555555555556,\"#d8576b\"],[0.6666666666666666,\"#ed7953\"],[0.7777777777777778,\"#fb9f3a\"],[0.8888888888888888,\"#fdca26\"],[1.0,\"#f0f921\"]],\"type\":\"surface\"}],\"table\":[{\"cells\":{\"fill\":{\"color\":\"#EBF0F8\"},\"line\":{\"color\":\"white\"}},\"header\":{\"fill\":{\"color\":\"#C8D4E3\"},\"line\":{\"color\":\"white\"}},\"type\":\"table\"}]},\"layout\":{\"annotationdefaults\":{\"arrowcolor\":\"#2a3f5f\",\"arrowhead\":0,\"arrowwidth\":1},\"autotypenumbers\":\"strict\",\"coloraxis\":{\"colorbar\":{\"outlinewidth\":0,\"ticks\":\"\"}},\"colorscale\":{\"diverging\":[[0,\"#8e0152\"],[0.1,\"#c51b7d\"],[0.2,\"#de77ae\"],[0.3,\"#f1b6da\"],[0.4,\"#fde0ef\"],[0.5,\"#f7f7f7\"],[0.6,\"#e6f5d0\"],[0.7,\"#b8e186\"],[0.8,\"#7fbc41\"],[0.9,\"#4d9221\"],[1,\"#276419\"]],\"sequential\":[[0.0,\"#0d0887\"],[0.1111111111111111,\"#46039f\"],[0.2222222222222222,\"#7201a8\"],[0.3333333333333333,\"#9c179e\"],[0.4444444444444444,\"#bd3786\"],[0.5555555555555556,\"#d8576b\"],[0.6666666666666666,\"#ed7953\"],[0.7777777777777778,\"#fb9f3a\"],[0.8888888888888888,\"#fdca26\"],[1.0,\"#f0f921\"]],\"sequentialminus\":[[0.0,\"#0d0887\"],[0.1111111111111111,\"#46039f\"],[0.2222222222222222,\"#7201a8\"],[0.3333333333333333,\"#9c179e\"],[0.4444444444444444,\"#bd3786\"],[0.5555555555555556,\"#d8576b\"],[0.6666666666666666,\"#ed7953\"],[0.7777777777777778,\"#fb9f3a\"],[0.8888888888888888,\"#fdca26\"],[1.0,\"#f0f921\"]]},\"colorway\":[\"#636efa\",\"#EF553B\",\"#00cc96\",\"#ab63fa\",\"#FFA15A\",\"#19d3f3\",\"#FF6692\",\"#B6E880\",\"#FF97FF\",\"#FECB52\"],\"font\":{\"color\":\"#2a3f5f\"},\"geo\":{\"bgcolor\":\"white\",\"lakecolor\":\"white\",\"landcolor\":\"#E5ECF6\",\"showlakes\":true,\"showland\":true,\"subunitcolor\":\"white\"},\"hoverlabel\":{\"align\":\"left\"},\"hovermode\":\"closest\",\"mapbox\":{\"style\":\"light\"},\"paper_bgcolor\":\"white\",\"plot_bgcolor\":\"#E5ECF6\",\"polar\":{\"angularaxis\":{\"gridcolor\":\"white\",\"linecolor\":\"white\",\"ticks\":\"\"},\"bgcolor\":\"#E5ECF6\",\"radialaxis\":{\"gridcolor\":\"white\",\"linecolor\":\"white\",\"ticks\":\"\"}},\"scene\":{\"xaxis\":{\"backgroundcolor\":\"#E5ECF6\",\"gridcolor\":\"white\",\"gridwidth\":2,\"linecolor\":\"white\",\"showbackground\":true,\"ticks\":\"\",\"zerolinecolor\":\"white\"},\"yaxis\":{\"backgroundcolor\":\"#E5ECF6\",\"gridcolor\":\"white\",\"gridwidth\":2,\"linecolor\":\"white\",\"showbackground\":true,\"ticks\":\"\",\"zerolinecolor\":\"white\"},\"zaxis\":{\"backgroundcolor\":\"#E5ECF6\",\"gridcolor\":\"white\",\"gridwidth\":2,\"linecolor\":\"white\",\"showbackground\":true,\"ticks\":\"\",\"zerolinecolor\":\"white\"}},\"shapedefaults\":{\"line\":{\"color\":\"#2a3f5f\"}},\"ternary\":{\"aaxis\":{\"gridcolor\":\"white\",\"linecolor\":\"white\",\"ticks\":\"\"},\"baxis\":{\"gridcolor\":\"white\",\"linecolor\":\"white\",\"ticks\":\"\"},\"bgcolor\":\"#E5ECF6\",\"caxis\":{\"gridcolor\":\"white\",\"linecolor\":\"white\",\"ticks\":\"\"}},\"title\":{\"x\":0.05},\"xaxis\":{\"automargin\":true,\"gridcolor\":\"white\",\"linecolor\":\"white\",\"ticks\":\"\",\"title\":{\"standoff\":15},\"zerolinecolor\":\"white\",\"zerolinewidth\":2},\"yaxis\":{\"automargin\":true,\"gridcolor\":\"white\",\"linecolor\":\"white\",\"ticks\":\"\",\"title\":{\"standoff\":15},\"zerolinecolor\":\"white\",\"zerolinewidth\":2}}},\"title\":{\"font\":{\"color\":\"#4D5663\"}},\"xaxis\":{\"gridcolor\":\"#E1E5ED\",\"showgrid\":true,\"tickfont\":{\"color\":\"#4D5663\"},\"title\":{\"font\":{\"color\":\"#4D5663\"},\"text\":\"\"},\"zerolinecolor\":\"#E1E5ED\"},\"yaxis\":{\"gridcolor\":\"#E1E5ED\",\"showgrid\":true,\"tickfont\":{\"color\":\"#4D5663\"},\"title\":{\"font\":{\"color\":\"#4D5663\"},\"text\":\"\"},\"zerolinecolor\":\"#E1E5ED\"}},                        {\"showLink\": true, \"linkText\": \"Export to plotly.com\", \"plotlyServerURL\": \"https://plotly.com\", \"responsive\": true}                    ).then(function(){\n",
       "                            \n",
       "var gd = document.getElementById('4907e16d-fff3-4d60-adce-75f09845f35c');\n",
       "var x = new MutationObserver(function (mutations, observer) {{\n",
       "        var display = window.getComputedStyle(gd).display;\n",
       "        if (!display || display === 'none') {{\n",
       "            console.log([gd, 'removed!']);\n",
       "            Plotly.purge(gd);\n",
       "            observer.disconnect();\n",
       "        }}\n",
       "}});\n",
       "\n",
       "// Listen for the removal of the full notebook cells\n",
       "var notebookContainer = gd.closest('#notebook-container');\n",
       "if (notebookContainer) {{\n",
       "    x.observe(notebookContainer, {childList: true});\n",
       "}}\n",
       "\n",
       "// Listen for the clearing of the current output cell\n",
       "var outputEl = gd.closest('.output');\n",
       "if (outputEl) {{\n",
       "    x.observe(outputEl, {childList: true});\n",
       "}}\n",
       "\n",
       "                        })                };                });            </script>        </div>"
      ]
     },
     "metadata": {},
     "output_type": "display_data"
    }
   ],
   "source": [
    "df.iplot(kind='hist')"
   ]
  },
  {
   "cell_type": "code",
   "execution_count": 35,
   "metadata": {},
   "outputs": [
    {
     "data": {
      "application/vnd.plotly.v1+json": {
       "config": {
        "linkText": "Export to plotly.com",
        "plotlyServerURL": "https://plotly.com",
        "showLink": true
       },
       "data": [
        {
         "histfunc": "count",
         "histnorm": "",
         "marker": {
          "color": "rgba(255, 153, 51, 1.0)",
          "line": {
           "color": "#4D5663",
           "width": 1.3
          }
         },
         "name": "A",
         "opacity": 0.8,
         "orientation": "v",
         "type": "histogram",
         "x": [
          0.2540205165143539,
          0.21018287468404354,
          -1.417366523418028,
          1.4355964054891057,
          0.6438156084526279,
          -0.48992682332332516,
          2.089603407589297,
          -0.24037244272897193,
          0.22741612429678598,
          -0.43388743074207914,
          -0.17474693590151122,
          -0.3378269321122739,
          -0.2872816214010255,
          0.09021167266536759,
          1.9916614315099455,
          -0.9203501904153832,
          1.9932576734555514,
          1.190820979890536,
          0.7591670480729559,
          -0.9322613470150776,
          -0.04972199823331805,
          1.2685856210555648,
          1.5879259973556699,
          -0.567128573474692,
          -2.1942346439385063,
          -0.4559241878544287,
          1.0321820388276353,
          -1.2718987011182359,
          -1.2386551206807364,
          -2.194211747720904,
          -0.5258492859793686,
          -0.6653282837542511,
          -1.3988028138784063,
          -0.07260478095047099,
          -0.28642094085208936,
          -0.11457773635910108,
          -0.1095433105850815,
          0.9750875884483519,
          0.8374465307982316,
          -0.739274852671829,
          0.3157117587684143,
          -0.1715446808230524,
          -1.941469789403776,
          -0.8593008608200065,
          1.0567482570657265,
          -1.9320398455863936,
          0.2594822932774328,
          -0.39301308706656246,
          0.4491389194589242,
          -0.5943834464300685,
          -1.6205742737788318,
          0.6117521209297304,
          -1.276327824115349,
          0.4086695638455752,
          0.24793326266283466,
          -0.4612398992086352,
          1.472207033963178,
          -1.8432937178256399,
          0.331853571779341,
          -0.14425338478943614,
          -0.05413105300153619,
          2.319362187084283,
          0.7674645302272454,
          0.6023945964221519,
          0.09769810203503486,
          1.4595133621459795,
          0.5577801094920947,
          -0.8161165385921015,
          -0.20283106200073736,
          1.0814223714895106,
          -0.9390927760332309,
          -0.7014055677825115,
          -0.26483222934057704,
          0.2563524393956336,
          1.066269844507545,
          0.8834240698541156,
          -0.7106341632582636,
          -0.4401823764634333,
          0.9603374413953691,
          -0.04706661324449886,
          -0.32082510121876906,
          0.22690521984675313,
          0.5580555659912436,
          -0.097048566746413,
          1.7196848303305123,
          0.1334024173581546,
          -1.3154871382832112,
          -0.9863034014659603,
          -1.0446233980609223,
          2.755130001029382,
          -0.19396822225672392,
          -1.0333488219739275,
          0.37272339170574764,
          1.0054492152613619,
          1.266420601741147,
          -2.1026940491604966,
          0.5587347491572473,
          -1.26564189608967,
          1.2365667571795178,
          0.4093624285717989
         ]
        }
       ],
       "layout": {
        "barmode": "overlay",
        "legend": {
         "bgcolor": "#F5F6F9",
         "font": {
          "color": "#4D5663"
         }
        },
        "paper_bgcolor": "#F5F6F9",
        "plot_bgcolor": "#F5F6F9",
        "template": {
         "data": {
          "bar": [
           {
            "error_x": {
             "color": "#2a3f5f"
            },
            "error_y": {
             "color": "#2a3f5f"
            },
            "marker": {
             "line": {
              "color": "#E5ECF6",
              "width": 0.5
             },
             "pattern": {
              "fillmode": "overlay",
              "size": 10,
              "solidity": 0.2
             }
            },
            "type": "bar"
           }
          ],
          "barpolar": [
           {
            "marker": {
             "line": {
              "color": "#E5ECF6",
              "width": 0.5
             },
             "pattern": {
              "fillmode": "overlay",
              "size": 10,
              "solidity": 0.2
             }
            },
            "type": "barpolar"
           }
          ],
          "carpet": [
           {
            "aaxis": {
             "endlinecolor": "#2a3f5f",
             "gridcolor": "white",
             "linecolor": "white",
             "minorgridcolor": "white",
             "startlinecolor": "#2a3f5f"
            },
            "baxis": {
             "endlinecolor": "#2a3f5f",
             "gridcolor": "white",
             "linecolor": "white",
             "minorgridcolor": "white",
             "startlinecolor": "#2a3f5f"
            },
            "type": "carpet"
           }
          ],
          "choropleth": [
           {
            "colorbar": {
             "outlinewidth": 0,
             "ticks": ""
            },
            "type": "choropleth"
           }
          ],
          "contour": [
           {
            "colorbar": {
             "outlinewidth": 0,
             "ticks": ""
            },
            "colorscale": [
             [
              0,
              "#0d0887"
             ],
             [
              0.1111111111111111,
              "#46039f"
             ],
             [
              0.2222222222222222,
              "#7201a8"
             ],
             [
              0.3333333333333333,
              "#9c179e"
             ],
             [
              0.4444444444444444,
              "#bd3786"
             ],
             [
              0.5555555555555556,
              "#d8576b"
             ],
             [
              0.6666666666666666,
              "#ed7953"
             ],
             [
              0.7777777777777778,
              "#fb9f3a"
             ],
             [
              0.8888888888888888,
              "#fdca26"
             ],
             [
              1,
              "#f0f921"
             ]
            ],
            "type": "contour"
           }
          ],
          "contourcarpet": [
           {
            "colorbar": {
             "outlinewidth": 0,
             "ticks": ""
            },
            "type": "contourcarpet"
           }
          ],
          "heatmap": [
           {
            "colorbar": {
             "outlinewidth": 0,
             "ticks": ""
            },
            "colorscale": [
             [
              0,
              "#0d0887"
             ],
             [
              0.1111111111111111,
              "#46039f"
             ],
             [
              0.2222222222222222,
              "#7201a8"
             ],
             [
              0.3333333333333333,
              "#9c179e"
             ],
             [
              0.4444444444444444,
              "#bd3786"
             ],
             [
              0.5555555555555556,
              "#d8576b"
             ],
             [
              0.6666666666666666,
              "#ed7953"
             ],
             [
              0.7777777777777778,
              "#fb9f3a"
             ],
             [
              0.8888888888888888,
              "#fdca26"
             ],
             [
              1,
              "#f0f921"
             ]
            ],
            "type": "heatmap"
           }
          ],
          "heatmapgl": [
           {
            "colorbar": {
             "outlinewidth": 0,
             "ticks": ""
            },
            "colorscale": [
             [
              0,
              "#0d0887"
             ],
             [
              0.1111111111111111,
              "#46039f"
             ],
             [
              0.2222222222222222,
              "#7201a8"
             ],
             [
              0.3333333333333333,
              "#9c179e"
             ],
             [
              0.4444444444444444,
              "#bd3786"
             ],
             [
              0.5555555555555556,
              "#d8576b"
             ],
             [
              0.6666666666666666,
              "#ed7953"
             ],
             [
              0.7777777777777778,
              "#fb9f3a"
             ],
             [
              0.8888888888888888,
              "#fdca26"
             ],
             [
              1,
              "#f0f921"
             ]
            ],
            "type": "heatmapgl"
           }
          ],
          "histogram": [
           {
            "marker": {
             "pattern": {
              "fillmode": "overlay",
              "size": 10,
              "solidity": 0.2
             }
            },
            "type": "histogram"
           }
          ],
          "histogram2d": [
           {
            "colorbar": {
             "outlinewidth": 0,
             "ticks": ""
            },
            "colorscale": [
             [
              0,
              "#0d0887"
             ],
             [
              0.1111111111111111,
              "#46039f"
             ],
             [
              0.2222222222222222,
              "#7201a8"
             ],
             [
              0.3333333333333333,
              "#9c179e"
             ],
             [
              0.4444444444444444,
              "#bd3786"
             ],
             [
              0.5555555555555556,
              "#d8576b"
             ],
             [
              0.6666666666666666,
              "#ed7953"
             ],
             [
              0.7777777777777778,
              "#fb9f3a"
             ],
             [
              0.8888888888888888,
              "#fdca26"
             ],
             [
              1,
              "#f0f921"
             ]
            ],
            "type": "histogram2d"
           }
          ],
          "histogram2dcontour": [
           {
            "colorbar": {
             "outlinewidth": 0,
             "ticks": ""
            },
            "colorscale": [
             [
              0,
              "#0d0887"
             ],
             [
              0.1111111111111111,
              "#46039f"
             ],
             [
              0.2222222222222222,
              "#7201a8"
             ],
             [
              0.3333333333333333,
              "#9c179e"
             ],
             [
              0.4444444444444444,
              "#bd3786"
             ],
             [
              0.5555555555555556,
              "#d8576b"
             ],
             [
              0.6666666666666666,
              "#ed7953"
             ],
             [
              0.7777777777777778,
              "#fb9f3a"
             ],
             [
              0.8888888888888888,
              "#fdca26"
             ],
             [
              1,
              "#f0f921"
             ]
            ],
            "type": "histogram2dcontour"
           }
          ],
          "mesh3d": [
           {
            "colorbar": {
             "outlinewidth": 0,
             "ticks": ""
            },
            "type": "mesh3d"
           }
          ],
          "parcoords": [
           {
            "line": {
             "colorbar": {
              "outlinewidth": 0,
              "ticks": ""
             }
            },
            "type": "parcoords"
           }
          ],
          "pie": [
           {
            "automargin": true,
            "type": "pie"
           }
          ],
          "scatter": [
           {
            "marker": {
             "colorbar": {
              "outlinewidth": 0,
              "ticks": ""
             }
            },
            "type": "scatter"
           }
          ],
          "scatter3d": [
           {
            "line": {
             "colorbar": {
              "outlinewidth": 0,
              "ticks": ""
             }
            },
            "marker": {
             "colorbar": {
              "outlinewidth": 0,
              "ticks": ""
             }
            },
            "type": "scatter3d"
           }
          ],
          "scattercarpet": [
           {
            "marker": {
             "colorbar": {
              "outlinewidth": 0,
              "ticks": ""
             }
            },
            "type": "scattercarpet"
           }
          ],
          "scattergeo": [
           {
            "marker": {
             "colorbar": {
              "outlinewidth": 0,
              "ticks": ""
             }
            },
            "type": "scattergeo"
           }
          ],
          "scattergl": [
           {
            "marker": {
             "colorbar": {
              "outlinewidth": 0,
              "ticks": ""
             }
            },
            "type": "scattergl"
           }
          ],
          "scattermapbox": [
           {
            "marker": {
             "colorbar": {
              "outlinewidth": 0,
              "ticks": ""
             }
            },
            "type": "scattermapbox"
           }
          ],
          "scatterpolar": [
           {
            "marker": {
             "colorbar": {
              "outlinewidth": 0,
              "ticks": ""
             }
            },
            "type": "scatterpolar"
           }
          ],
          "scatterpolargl": [
           {
            "marker": {
             "colorbar": {
              "outlinewidth": 0,
              "ticks": ""
             }
            },
            "type": "scatterpolargl"
           }
          ],
          "scatterternary": [
           {
            "marker": {
             "colorbar": {
              "outlinewidth": 0,
              "ticks": ""
             }
            },
            "type": "scatterternary"
           }
          ],
          "surface": [
           {
            "colorbar": {
             "outlinewidth": 0,
             "ticks": ""
            },
            "colorscale": [
             [
              0,
              "#0d0887"
             ],
             [
              0.1111111111111111,
              "#46039f"
             ],
             [
              0.2222222222222222,
              "#7201a8"
             ],
             [
              0.3333333333333333,
              "#9c179e"
             ],
             [
              0.4444444444444444,
              "#bd3786"
             ],
             [
              0.5555555555555556,
              "#d8576b"
             ],
             [
              0.6666666666666666,
              "#ed7953"
             ],
             [
              0.7777777777777778,
              "#fb9f3a"
             ],
             [
              0.8888888888888888,
              "#fdca26"
             ],
             [
              1,
              "#f0f921"
             ]
            ],
            "type": "surface"
           }
          ],
          "table": [
           {
            "cells": {
             "fill": {
              "color": "#EBF0F8"
             },
             "line": {
              "color": "white"
             }
            },
            "header": {
             "fill": {
              "color": "#C8D4E3"
             },
             "line": {
              "color": "white"
             }
            },
            "type": "table"
           }
          ]
         },
         "layout": {
          "annotationdefaults": {
           "arrowcolor": "#2a3f5f",
           "arrowhead": 0,
           "arrowwidth": 1
          },
          "autotypenumbers": "strict",
          "coloraxis": {
           "colorbar": {
            "outlinewidth": 0,
            "ticks": ""
           }
          },
          "colorscale": {
           "diverging": [
            [
             0,
             "#8e0152"
            ],
            [
             0.1,
             "#c51b7d"
            ],
            [
             0.2,
             "#de77ae"
            ],
            [
             0.3,
             "#f1b6da"
            ],
            [
             0.4,
             "#fde0ef"
            ],
            [
             0.5,
             "#f7f7f7"
            ],
            [
             0.6,
             "#e6f5d0"
            ],
            [
             0.7,
             "#b8e186"
            ],
            [
             0.8,
             "#7fbc41"
            ],
            [
             0.9,
             "#4d9221"
            ],
            [
             1,
             "#276419"
            ]
           ],
           "sequential": [
            [
             0,
             "#0d0887"
            ],
            [
             0.1111111111111111,
             "#46039f"
            ],
            [
             0.2222222222222222,
             "#7201a8"
            ],
            [
             0.3333333333333333,
             "#9c179e"
            ],
            [
             0.4444444444444444,
             "#bd3786"
            ],
            [
             0.5555555555555556,
             "#d8576b"
            ],
            [
             0.6666666666666666,
             "#ed7953"
            ],
            [
             0.7777777777777778,
             "#fb9f3a"
            ],
            [
             0.8888888888888888,
             "#fdca26"
            ],
            [
             1,
             "#f0f921"
            ]
           ],
           "sequentialminus": [
            [
             0,
             "#0d0887"
            ],
            [
             0.1111111111111111,
             "#46039f"
            ],
            [
             0.2222222222222222,
             "#7201a8"
            ],
            [
             0.3333333333333333,
             "#9c179e"
            ],
            [
             0.4444444444444444,
             "#bd3786"
            ],
            [
             0.5555555555555556,
             "#d8576b"
            ],
            [
             0.6666666666666666,
             "#ed7953"
            ],
            [
             0.7777777777777778,
             "#fb9f3a"
            ],
            [
             0.8888888888888888,
             "#fdca26"
            ],
            [
             1,
             "#f0f921"
            ]
           ]
          },
          "colorway": [
           "#636efa",
           "#EF553B",
           "#00cc96",
           "#ab63fa",
           "#FFA15A",
           "#19d3f3",
           "#FF6692",
           "#B6E880",
           "#FF97FF",
           "#FECB52"
          ],
          "font": {
           "color": "#2a3f5f"
          },
          "geo": {
           "bgcolor": "white",
           "lakecolor": "white",
           "landcolor": "#E5ECF6",
           "showlakes": true,
           "showland": true,
           "subunitcolor": "white"
          },
          "hoverlabel": {
           "align": "left"
          },
          "hovermode": "closest",
          "mapbox": {
           "style": "light"
          },
          "paper_bgcolor": "white",
          "plot_bgcolor": "#E5ECF6",
          "polar": {
           "angularaxis": {
            "gridcolor": "white",
            "linecolor": "white",
            "ticks": ""
           },
           "bgcolor": "#E5ECF6",
           "radialaxis": {
            "gridcolor": "white",
            "linecolor": "white",
            "ticks": ""
           }
          },
          "scene": {
           "xaxis": {
            "backgroundcolor": "#E5ECF6",
            "gridcolor": "white",
            "gridwidth": 2,
            "linecolor": "white",
            "showbackground": true,
            "ticks": "",
            "zerolinecolor": "white"
           },
           "yaxis": {
            "backgroundcolor": "#E5ECF6",
            "gridcolor": "white",
            "gridwidth": 2,
            "linecolor": "white",
            "showbackground": true,
            "ticks": "",
            "zerolinecolor": "white"
           },
           "zaxis": {
            "backgroundcolor": "#E5ECF6",
            "gridcolor": "white",
            "gridwidth": 2,
            "linecolor": "white",
            "showbackground": true,
            "ticks": "",
            "zerolinecolor": "white"
           }
          },
          "shapedefaults": {
           "line": {
            "color": "#2a3f5f"
           }
          },
          "ternary": {
           "aaxis": {
            "gridcolor": "white",
            "linecolor": "white",
            "ticks": ""
           },
           "baxis": {
            "gridcolor": "white",
            "linecolor": "white",
            "ticks": ""
           },
           "bgcolor": "#E5ECF6",
           "caxis": {
            "gridcolor": "white",
            "linecolor": "white",
            "ticks": ""
           }
          },
          "title": {
           "x": 0.05
          },
          "xaxis": {
           "automargin": true,
           "gridcolor": "white",
           "linecolor": "white",
           "ticks": "",
           "title": {
            "standoff": 15
           },
           "zerolinecolor": "white",
           "zerolinewidth": 2
          },
          "yaxis": {
           "automargin": true,
           "gridcolor": "white",
           "linecolor": "white",
           "ticks": "",
           "title": {
            "standoff": 15
           },
           "zerolinecolor": "white",
           "zerolinewidth": 2
          }
         }
        },
        "title": {
         "font": {
          "color": "#4D5663"
         }
        },
        "xaxis": {
         "gridcolor": "#E1E5ED",
         "showgrid": true,
         "tickfont": {
          "color": "#4D5663"
         },
         "title": {
          "font": {
           "color": "#4D5663"
          },
          "text": ""
         },
         "zerolinecolor": "#E1E5ED"
        },
        "yaxis": {
         "gridcolor": "#E1E5ED",
         "showgrid": true,
         "tickfont": {
          "color": "#4D5663"
         },
         "title": {
          "font": {
           "color": "#4D5663"
          },
          "text": ""
         },
         "zerolinecolor": "#E1E5ED"
        }
       }
      },
      "text/html": [
       "<div>                            <div id=\"d2d0f17e-a131-40ef-8078-a0e527bb450b\" class=\"plotly-graph-div\" style=\"height:525px; width:100%;\"></div>            <script type=\"text/javascript\">                require([\"plotly\"], function(Plotly) {                    window.PLOTLYENV=window.PLOTLYENV || {};\n",
       "                    window.PLOTLYENV.BASE_URL='https://plotly.com';                                    if (document.getElementById(\"d2d0f17e-a131-40ef-8078-a0e527bb450b\")) {                    Plotly.newPlot(                        \"d2d0f17e-a131-40ef-8078-a0e527bb450b\",                        [{\"histfunc\":\"count\",\"histnorm\":\"\",\"marker\":{\"color\":\"rgba(255, 153, 51, 1.0)\",\"line\":{\"color\":\"#4D5663\",\"width\":1.3}},\"name\":\"A\",\"opacity\":0.8,\"orientation\":\"v\",\"x\":[0.2540205165143539,0.21018287468404354,-1.417366523418028,1.4355964054891057,0.6438156084526279,-0.48992682332332516,2.089603407589297,-0.24037244272897193,0.22741612429678598,-0.43388743074207914,-0.17474693590151122,-0.3378269321122739,-0.2872816214010255,0.09021167266536759,1.9916614315099455,-0.9203501904153832,1.9932576734555514,1.190820979890536,0.7591670480729559,-0.9322613470150776,-0.04972199823331805,1.2685856210555648,1.5879259973556699,-0.567128573474692,-2.1942346439385063,-0.4559241878544287,1.0321820388276353,-1.2718987011182359,-1.2386551206807364,-2.194211747720904,-0.5258492859793686,-0.6653282837542511,-1.3988028138784063,-0.07260478095047099,-0.28642094085208936,-0.11457773635910108,-0.1095433105850815,0.9750875884483519,0.8374465307982316,-0.739274852671829,0.3157117587684143,-0.1715446808230524,-1.941469789403776,-0.8593008608200065,1.0567482570657265,-1.9320398455863936,0.2594822932774328,-0.39301308706656246,0.4491389194589242,-0.5943834464300685,-1.6205742737788318,0.6117521209297304,-1.276327824115349,0.4086695638455752,0.24793326266283466,-0.4612398992086352,1.472207033963178,-1.8432937178256399,0.331853571779341,-0.14425338478943614,-0.05413105300153619,2.319362187084283,0.7674645302272454,0.6023945964221519,0.09769810203503486,1.4595133621459795,0.5577801094920947,-0.8161165385921015,-0.20283106200073736,1.0814223714895106,-0.9390927760332309,-0.7014055677825115,-0.26483222934057704,0.2563524393956336,1.066269844507545,0.8834240698541156,-0.7106341632582636,-0.4401823764634333,0.9603374413953691,-0.04706661324449886,-0.32082510121876906,0.22690521984675313,0.5580555659912436,-0.097048566746413,1.7196848303305123,0.1334024173581546,-1.3154871382832112,-0.9863034014659603,-1.0446233980609223,2.755130001029382,-0.19396822225672392,-1.0333488219739275,0.37272339170574764,1.0054492152613619,1.266420601741147,-2.1026940491604966,0.5587347491572473,-1.26564189608967,1.2365667571795178,0.4093624285717989],\"type\":\"histogram\"}],                        {\"barmode\":\"overlay\",\"legend\":{\"bgcolor\":\"#F5F6F9\",\"font\":{\"color\":\"#4D5663\"}},\"paper_bgcolor\":\"#F5F6F9\",\"plot_bgcolor\":\"#F5F6F9\",\"template\":{\"data\":{\"barpolar\":[{\"marker\":{\"line\":{\"color\":\"#E5ECF6\",\"width\":0.5},\"pattern\":{\"fillmode\":\"overlay\",\"size\":10,\"solidity\":0.2}},\"type\":\"barpolar\"}],\"bar\":[{\"error_x\":{\"color\":\"#2a3f5f\"},\"error_y\":{\"color\":\"#2a3f5f\"},\"marker\":{\"line\":{\"color\":\"#E5ECF6\",\"width\":0.5},\"pattern\":{\"fillmode\":\"overlay\",\"size\":10,\"solidity\":0.2}},\"type\":\"bar\"}],\"carpet\":[{\"aaxis\":{\"endlinecolor\":\"#2a3f5f\",\"gridcolor\":\"white\",\"linecolor\":\"white\",\"minorgridcolor\":\"white\",\"startlinecolor\":\"#2a3f5f\"},\"baxis\":{\"endlinecolor\":\"#2a3f5f\",\"gridcolor\":\"white\",\"linecolor\":\"white\",\"minorgridcolor\":\"white\",\"startlinecolor\":\"#2a3f5f\"},\"type\":\"carpet\"}],\"choropleth\":[{\"colorbar\":{\"outlinewidth\":0,\"ticks\":\"\"},\"type\":\"choropleth\"}],\"contourcarpet\":[{\"colorbar\":{\"outlinewidth\":0,\"ticks\":\"\"},\"type\":\"contourcarpet\"}],\"contour\":[{\"colorbar\":{\"outlinewidth\":0,\"ticks\":\"\"},\"colorscale\":[[0.0,\"#0d0887\"],[0.1111111111111111,\"#46039f\"],[0.2222222222222222,\"#7201a8\"],[0.3333333333333333,\"#9c179e\"],[0.4444444444444444,\"#bd3786\"],[0.5555555555555556,\"#d8576b\"],[0.6666666666666666,\"#ed7953\"],[0.7777777777777778,\"#fb9f3a\"],[0.8888888888888888,\"#fdca26\"],[1.0,\"#f0f921\"]],\"type\":\"contour\"}],\"heatmapgl\":[{\"colorbar\":{\"outlinewidth\":0,\"ticks\":\"\"},\"colorscale\":[[0.0,\"#0d0887\"],[0.1111111111111111,\"#46039f\"],[0.2222222222222222,\"#7201a8\"],[0.3333333333333333,\"#9c179e\"],[0.4444444444444444,\"#bd3786\"],[0.5555555555555556,\"#d8576b\"],[0.6666666666666666,\"#ed7953\"],[0.7777777777777778,\"#fb9f3a\"],[0.8888888888888888,\"#fdca26\"],[1.0,\"#f0f921\"]],\"type\":\"heatmapgl\"}],\"heatmap\":[{\"colorbar\":{\"outlinewidth\":0,\"ticks\":\"\"},\"colorscale\":[[0.0,\"#0d0887\"],[0.1111111111111111,\"#46039f\"],[0.2222222222222222,\"#7201a8\"],[0.3333333333333333,\"#9c179e\"],[0.4444444444444444,\"#bd3786\"],[0.5555555555555556,\"#d8576b\"],[0.6666666666666666,\"#ed7953\"],[0.7777777777777778,\"#fb9f3a\"],[0.8888888888888888,\"#fdca26\"],[1.0,\"#f0f921\"]],\"type\":\"heatmap\"}],\"histogram2dcontour\":[{\"colorbar\":{\"outlinewidth\":0,\"ticks\":\"\"},\"colorscale\":[[0.0,\"#0d0887\"],[0.1111111111111111,\"#46039f\"],[0.2222222222222222,\"#7201a8\"],[0.3333333333333333,\"#9c179e\"],[0.4444444444444444,\"#bd3786\"],[0.5555555555555556,\"#d8576b\"],[0.6666666666666666,\"#ed7953\"],[0.7777777777777778,\"#fb9f3a\"],[0.8888888888888888,\"#fdca26\"],[1.0,\"#f0f921\"]],\"type\":\"histogram2dcontour\"}],\"histogram2d\":[{\"colorbar\":{\"outlinewidth\":0,\"ticks\":\"\"},\"colorscale\":[[0.0,\"#0d0887\"],[0.1111111111111111,\"#46039f\"],[0.2222222222222222,\"#7201a8\"],[0.3333333333333333,\"#9c179e\"],[0.4444444444444444,\"#bd3786\"],[0.5555555555555556,\"#d8576b\"],[0.6666666666666666,\"#ed7953\"],[0.7777777777777778,\"#fb9f3a\"],[0.8888888888888888,\"#fdca26\"],[1.0,\"#f0f921\"]],\"type\":\"histogram2d\"}],\"histogram\":[{\"marker\":{\"pattern\":{\"fillmode\":\"overlay\",\"size\":10,\"solidity\":0.2}},\"type\":\"histogram\"}],\"mesh3d\":[{\"colorbar\":{\"outlinewidth\":0,\"ticks\":\"\"},\"type\":\"mesh3d\"}],\"parcoords\":[{\"line\":{\"colorbar\":{\"outlinewidth\":0,\"ticks\":\"\"}},\"type\":\"parcoords\"}],\"pie\":[{\"automargin\":true,\"type\":\"pie\"}],\"scatter3d\":[{\"line\":{\"colorbar\":{\"outlinewidth\":0,\"ticks\":\"\"}},\"marker\":{\"colorbar\":{\"outlinewidth\":0,\"ticks\":\"\"}},\"type\":\"scatter3d\"}],\"scattercarpet\":[{\"marker\":{\"colorbar\":{\"outlinewidth\":0,\"ticks\":\"\"}},\"type\":\"scattercarpet\"}],\"scattergeo\":[{\"marker\":{\"colorbar\":{\"outlinewidth\":0,\"ticks\":\"\"}},\"type\":\"scattergeo\"}],\"scattergl\":[{\"marker\":{\"colorbar\":{\"outlinewidth\":0,\"ticks\":\"\"}},\"type\":\"scattergl\"}],\"scattermapbox\":[{\"marker\":{\"colorbar\":{\"outlinewidth\":0,\"ticks\":\"\"}},\"type\":\"scattermapbox\"}],\"scatterpolargl\":[{\"marker\":{\"colorbar\":{\"outlinewidth\":0,\"ticks\":\"\"}},\"type\":\"scatterpolargl\"}],\"scatterpolar\":[{\"marker\":{\"colorbar\":{\"outlinewidth\":0,\"ticks\":\"\"}},\"type\":\"scatterpolar\"}],\"scatter\":[{\"marker\":{\"colorbar\":{\"outlinewidth\":0,\"ticks\":\"\"}},\"type\":\"scatter\"}],\"scatterternary\":[{\"marker\":{\"colorbar\":{\"outlinewidth\":0,\"ticks\":\"\"}},\"type\":\"scatterternary\"}],\"surface\":[{\"colorbar\":{\"outlinewidth\":0,\"ticks\":\"\"},\"colorscale\":[[0.0,\"#0d0887\"],[0.1111111111111111,\"#46039f\"],[0.2222222222222222,\"#7201a8\"],[0.3333333333333333,\"#9c179e\"],[0.4444444444444444,\"#bd3786\"],[0.5555555555555556,\"#d8576b\"],[0.6666666666666666,\"#ed7953\"],[0.7777777777777778,\"#fb9f3a\"],[0.8888888888888888,\"#fdca26\"],[1.0,\"#f0f921\"]],\"type\":\"surface\"}],\"table\":[{\"cells\":{\"fill\":{\"color\":\"#EBF0F8\"},\"line\":{\"color\":\"white\"}},\"header\":{\"fill\":{\"color\":\"#C8D4E3\"},\"line\":{\"color\":\"white\"}},\"type\":\"table\"}]},\"layout\":{\"annotationdefaults\":{\"arrowcolor\":\"#2a3f5f\",\"arrowhead\":0,\"arrowwidth\":1},\"autotypenumbers\":\"strict\",\"coloraxis\":{\"colorbar\":{\"outlinewidth\":0,\"ticks\":\"\"}},\"colorscale\":{\"diverging\":[[0,\"#8e0152\"],[0.1,\"#c51b7d\"],[0.2,\"#de77ae\"],[0.3,\"#f1b6da\"],[0.4,\"#fde0ef\"],[0.5,\"#f7f7f7\"],[0.6,\"#e6f5d0\"],[0.7,\"#b8e186\"],[0.8,\"#7fbc41\"],[0.9,\"#4d9221\"],[1,\"#276419\"]],\"sequential\":[[0.0,\"#0d0887\"],[0.1111111111111111,\"#46039f\"],[0.2222222222222222,\"#7201a8\"],[0.3333333333333333,\"#9c179e\"],[0.4444444444444444,\"#bd3786\"],[0.5555555555555556,\"#d8576b\"],[0.6666666666666666,\"#ed7953\"],[0.7777777777777778,\"#fb9f3a\"],[0.8888888888888888,\"#fdca26\"],[1.0,\"#f0f921\"]],\"sequentialminus\":[[0.0,\"#0d0887\"],[0.1111111111111111,\"#46039f\"],[0.2222222222222222,\"#7201a8\"],[0.3333333333333333,\"#9c179e\"],[0.4444444444444444,\"#bd3786\"],[0.5555555555555556,\"#d8576b\"],[0.6666666666666666,\"#ed7953\"],[0.7777777777777778,\"#fb9f3a\"],[0.8888888888888888,\"#fdca26\"],[1.0,\"#f0f921\"]]},\"colorway\":[\"#636efa\",\"#EF553B\",\"#00cc96\",\"#ab63fa\",\"#FFA15A\",\"#19d3f3\",\"#FF6692\",\"#B6E880\",\"#FF97FF\",\"#FECB52\"],\"font\":{\"color\":\"#2a3f5f\"},\"geo\":{\"bgcolor\":\"white\",\"lakecolor\":\"white\",\"landcolor\":\"#E5ECF6\",\"showlakes\":true,\"showland\":true,\"subunitcolor\":\"white\"},\"hoverlabel\":{\"align\":\"left\"},\"hovermode\":\"closest\",\"mapbox\":{\"style\":\"light\"},\"paper_bgcolor\":\"white\",\"plot_bgcolor\":\"#E5ECF6\",\"polar\":{\"angularaxis\":{\"gridcolor\":\"white\",\"linecolor\":\"white\",\"ticks\":\"\"},\"bgcolor\":\"#E5ECF6\",\"radialaxis\":{\"gridcolor\":\"white\",\"linecolor\":\"white\",\"ticks\":\"\"}},\"scene\":{\"xaxis\":{\"backgroundcolor\":\"#E5ECF6\",\"gridcolor\":\"white\",\"gridwidth\":2,\"linecolor\":\"white\",\"showbackground\":true,\"ticks\":\"\",\"zerolinecolor\":\"white\"},\"yaxis\":{\"backgroundcolor\":\"#E5ECF6\",\"gridcolor\":\"white\",\"gridwidth\":2,\"linecolor\":\"white\",\"showbackground\":true,\"ticks\":\"\",\"zerolinecolor\":\"white\"},\"zaxis\":{\"backgroundcolor\":\"#E5ECF6\",\"gridcolor\":\"white\",\"gridwidth\":2,\"linecolor\":\"white\",\"showbackground\":true,\"ticks\":\"\",\"zerolinecolor\":\"white\"}},\"shapedefaults\":{\"line\":{\"color\":\"#2a3f5f\"}},\"ternary\":{\"aaxis\":{\"gridcolor\":\"white\",\"linecolor\":\"white\",\"ticks\":\"\"},\"baxis\":{\"gridcolor\":\"white\",\"linecolor\":\"white\",\"ticks\":\"\"},\"bgcolor\":\"#E5ECF6\",\"caxis\":{\"gridcolor\":\"white\",\"linecolor\":\"white\",\"ticks\":\"\"}},\"title\":{\"x\":0.05},\"xaxis\":{\"automargin\":true,\"gridcolor\":\"white\",\"linecolor\":\"white\",\"ticks\":\"\",\"title\":{\"standoff\":15},\"zerolinecolor\":\"white\",\"zerolinewidth\":2},\"yaxis\":{\"automargin\":true,\"gridcolor\":\"white\",\"linecolor\":\"white\",\"ticks\":\"\",\"title\":{\"standoff\":15},\"zerolinecolor\":\"white\",\"zerolinewidth\":2}}},\"title\":{\"font\":{\"color\":\"#4D5663\"}},\"xaxis\":{\"gridcolor\":\"#E1E5ED\",\"showgrid\":true,\"tickfont\":{\"color\":\"#4D5663\"},\"title\":{\"font\":{\"color\":\"#4D5663\"},\"text\":\"\"},\"zerolinecolor\":\"#E1E5ED\"},\"yaxis\":{\"gridcolor\":\"#E1E5ED\",\"showgrid\":true,\"tickfont\":{\"color\":\"#4D5663\"},\"title\":{\"font\":{\"color\":\"#4D5663\"},\"text\":\"\"},\"zerolinecolor\":\"#E1E5ED\"}},                        {\"showLink\": true, \"linkText\": \"Export to plotly.com\", \"plotlyServerURL\": \"https://plotly.com\", \"responsive\": true}                    ).then(function(){\n",
       "                            \n",
       "var gd = document.getElementById('d2d0f17e-a131-40ef-8078-a0e527bb450b');\n",
       "var x = new MutationObserver(function (mutations, observer) {{\n",
       "        var display = window.getComputedStyle(gd).display;\n",
       "        if (!display || display === 'none') {{\n",
       "            console.log([gd, 'removed!']);\n",
       "            Plotly.purge(gd);\n",
       "            observer.disconnect();\n",
       "        }}\n",
       "}});\n",
       "\n",
       "// Listen for the removal of the full notebook cells\n",
       "var notebookContainer = gd.closest('#notebook-container');\n",
       "if (notebookContainer) {{\n",
       "    x.observe(notebookContainer, {childList: true});\n",
       "}}\n",
       "\n",
       "// Listen for the clearing of the current output cell\n",
       "var outputEl = gd.closest('.output');\n",
       "if (outputEl) {{\n",
       "    x.observe(outputEl, {childList: true});\n",
       "}}\n",
       "\n",
       "                        })                };                });            </script>        </div>"
      ]
     },
     "metadata": {},
     "output_type": "display_data"
    }
   ],
   "source": [
    "df['A'].iplot(kind='hist')"
   ]
  },
  {
   "cell_type": "code",
   "execution_count": 36,
   "metadata": {},
   "outputs": [
    {
     "name": "stderr",
     "output_type": "stream",
     "text": [
      "C:\\ProgramData\\Anaconda3\\lib\\site-packages\\cufflinks\\plotlytools.py:849: FutureWarning:\n",
      "\n",
      "The pandas.np module is deprecated and will be removed from pandas in a future version. Import numpy directly instead\n",
      "\n",
      "C:\\ProgramData\\Anaconda3\\lib\\site-packages\\cufflinks\\plotlytools.py:850: FutureWarning:\n",
      "\n",
      "The pandas.np module is deprecated and will be removed from pandas in a future version. Import numpy directly instead\n",
      "\n"
     ]
    },
    {
     "data": {
      "application/vnd.plotly.v1+json": {
       "config": {
        "linkText": "Export to plotly.com",
        "plotlyServerURL": "https://plotly.com",
        "showLink": true
       },
       "data": [
        {
         "line": {
          "color": "rgba(255, 153, 51, 1.0)",
          "dash": "solid",
          "shape": "linear",
          "width": 1.3
         },
         "mode": "lines",
         "name": "A",
         "text": "",
         "type": "scatter",
         "x": [
          0,
          1,
          2,
          3,
          4,
          5,
          6,
          7,
          8,
          9,
          10,
          11,
          12,
          13,
          14,
          15,
          16,
          17,
          18,
          19,
          20,
          21,
          22,
          23,
          24,
          25,
          26,
          27,
          28,
          29,
          30,
          31,
          32,
          33,
          34,
          35,
          36,
          37,
          38,
          39,
          40,
          41,
          42,
          43,
          44,
          45,
          46,
          47,
          48,
          49,
          50,
          51,
          52,
          53,
          54,
          55,
          56,
          57,
          58,
          59,
          60,
          61,
          62,
          63,
          64,
          65,
          66,
          67,
          68,
          69,
          70,
          71,
          72,
          73,
          74,
          75,
          76,
          77,
          78,
          79,
          80,
          81,
          82,
          83,
          84,
          85,
          86,
          87,
          88,
          89,
          90,
          91,
          92,
          93,
          94,
          95,
          96,
          97,
          98,
          99
         ],
         "y": [
          0.2540205165143539,
          0.21018287468404354,
          -1.417366523418028,
          1.4355964054891057,
          0.6438156084526279,
          -0.48992682332332516,
          2.089603407589297,
          -0.24037244272897193,
          0.22741612429678598,
          -0.43388743074207914,
          -0.17474693590151122,
          -0.3378269321122739,
          -0.2872816214010255,
          0.09021167266536759,
          1.9916614315099455,
          -0.9203501904153832,
          1.9932576734555514,
          1.190820979890536,
          0.7591670480729559,
          -0.9322613470150776,
          -0.04972199823331805,
          1.2685856210555648,
          1.5879259973556699,
          -0.567128573474692,
          -2.1942346439385063,
          -0.4559241878544287,
          1.0321820388276353,
          -1.2718987011182359,
          -1.2386551206807364,
          -2.194211747720904,
          -0.5258492859793686,
          -0.6653282837542511,
          -1.3988028138784063,
          -0.07260478095047099,
          -0.28642094085208936,
          -0.11457773635910108,
          -0.1095433105850815,
          0.9750875884483519,
          0.8374465307982316,
          -0.739274852671829,
          0.3157117587684143,
          -0.1715446808230524,
          -1.941469789403776,
          -0.8593008608200065,
          1.0567482570657265,
          -1.9320398455863936,
          0.2594822932774328,
          -0.39301308706656246,
          0.4491389194589242,
          -0.5943834464300685,
          -1.6205742737788318,
          0.6117521209297304,
          -1.276327824115349,
          0.4086695638455752,
          0.24793326266283466,
          -0.4612398992086352,
          1.472207033963178,
          -1.8432937178256399,
          0.331853571779341,
          -0.14425338478943614,
          -0.05413105300153619,
          2.319362187084283,
          0.7674645302272454,
          0.6023945964221519,
          0.09769810203503486,
          1.4595133621459795,
          0.5577801094920947,
          -0.8161165385921015,
          -0.20283106200073736,
          1.0814223714895106,
          -0.9390927760332309,
          -0.7014055677825115,
          -0.26483222934057704,
          0.2563524393956336,
          1.066269844507545,
          0.8834240698541156,
          -0.7106341632582636,
          -0.4401823764634333,
          0.9603374413953691,
          -0.04706661324449886,
          -0.32082510121876906,
          0.22690521984675313,
          0.5580555659912436,
          -0.097048566746413,
          1.7196848303305123,
          0.1334024173581546,
          -1.3154871382832112,
          -0.9863034014659603,
          -1.0446233980609223,
          2.755130001029382,
          -0.19396822225672392,
          -1.0333488219739275,
          0.37272339170574764,
          1.0054492152613619,
          1.266420601741147,
          -2.1026940491604966,
          0.5587347491572473,
          -1.26564189608967,
          1.2365667571795178,
          0.4093624285717989
         ]
        },
        {
         "line": {
          "color": "rgba(55, 128, 191, 1.0)",
          "dash": "solid",
          "shape": "linear",
          "width": 1.3
         },
         "mode": "lines",
         "name": "B",
         "text": "",
         "type": "scatter",
         "x": [
          0,
          1,
          2,
          3,
          4,
          5,
          6,
          7,
          8,
          9,
          10,
          11,
          12,
          13,
          14,
          15,
          16,
          17,
          18,
          19,
          20,
          21,
          22,
          23,
          24,
          25,
          26,
          27,
          28,
          29,
          30,
          31,
          32,
          33,
          34,
          35,
          36,
          37,
          38,
          39,
          40,
          41,
          42,
          43,
          44,
          45,
          46,
          47,
          48,
          49,
          50,
          51,
          52,
          53,
          54,
          55,
          56,
          57,
          58,
          59,
          60,
          61,
          62,
          63,
          64,
          65,
          66,
          67,
          68,
          69,
          70,
          71,
          72,
          73,
          74,
          75,
          76,
          77,
          78,
          79,
          80,
          81,
          82,
          83,
          84,
          85,
          86,
          87,
          88,
          89,
          90,
          91,
          92,
          93,
          94,
          95,
          96,
          97,
          98,
          99
         ],
         "y": [
          1.160825800152867,
          0.49616468992605606,
          0.07383583694545158,
          0.2327336021717852,
          -0.5017316173158699,
          0.8035594113553268,
          -0.28453246467477783,
          -0.915122676714964,
          -1.0386383838201863,
          -1.9952568867431326,
          0.09036591505575159,
          1.155948073431354,
          -0.42889040391045663,
          -1.2389704786006113,
          0.48118016142863945,
          1.0226046516596001,
          0.7398795059007436,
          0.37427404601920805,
          -1.7494103233808207,
          -0.9193506297259831,
          0.8887150557163451,
          0.9103962137297099,
          0.8947662724723978,
          0.06129563149484737,
          0.12002325193346794,
          -0.676796697112064,
          0.06093394366571922,
          -0.5640148151417872,
          0.81707423120743,
          0.6769766088966667,
          1.0441711359096393,
          0.8152504059983663,
          -0.39786853228590585,
          0.6599657173835193,
          0.5442907815797696,
          -0.2911291866765822,
          0.25500617713030627,
          -0.8331171412221349,
          -0.8620206840215854,
          0.04307721553350601,
          -1.215724201505668,
          0.12782065868375267,
          -2.145446215905343,
          -1.2319037363163725,
          -0.45930560794346414,
          -0.21250766872033242,
          -0.39804764478120985,
          -1.007422616587833,
          -0.9847119868129514,
          0.561732278632458,
          -1.14933123553313,
          1.6418957813050432,
          -1.2876584947792657,
          -0.03539282053918007,
          1.362381345433245,
          -0.6291386847202808,
          1.898930581889669,
          -0.6149912505025651,
          2.3034710611983304,
          -0.21226266974932004,
          -0.44847316876586585,
          -0.85303319669474,
          0.39684829882784267,
          -0.39090798457724035,
          1.3631512954306748,
          0.38249503712678984,
          -0.7742515439820427,
          -1.203847854965608,
          1.0115904667778681,
          0.3616426794426263,
          1.4846748175633453,
          0.9654302865010991,
          1.4562869848628681,
          -0.8177914063638103,
          -0.2730370368057006,
          0.6358807484449549,
          -0.7820612964596657,
          0.29823457797888253,
          0.39283832766839666,
          0.5285082098876401,
          1.3226836756728508,
          1.6636775870661122,
          0.5170672228134581,
          0.824798069948975,
          -0.46265991994032685,
          -0.10433027741652127,
          0.2690776010702887,
          1.3276291696627414,
          1.4619005839703703,
          0.06670553461973262,
          1.2367949690978866,
          -1.6728464542712906,
          0.41956646947819315,
          1.0213475908554128,
          1.4010211872247769,
          0.7057004386030941,
          -0.8740541643155307,
          -0.08067153622956262,
          -0.8096141021027465,
          1.2860139723173836
         ]
        },
        {
         "connectgaps": false,
         "fill": "tozeroy",
         "line": {
          "color": "green",
          "dash": "solid",
          "shape": "linear",
          "width": 0.5
         },
         "mode": "lines",
         "name": "Spread",
         "showlegend": false,
         "type": "scatter",
         "x": [
          0,
          1,
          2,
          3,
          4,
          5,
          6,
          7,
          8,
          9,
          10,
          11,
          12,
          13,
          14,
          15,
          16,
          17,
          18,
          19,
          20,
          21,
          22,
          23,
          24,
          25,
          26,
          27,
          28,
          29,
          30,
          31,
          32,
          33,
          34,
          35,
          36,
          37,
          38,
          39,
          40,
          41,
          42,
          43,
          44,
          45,
          46,
          47,
          48,
          49,
          50,
          51,
          52,
          53,
          54,
          55,
          56,
          57,
          58,
          59,
          60,
          61,
          62,
          63,
          64,
          65,
          66,
          67,
          68,
          69,
          70,
          71,
          72,
          73,
          74,
          75,
          76,
          77,
          78,
          79,
          80,
          81,
          82,
          83,
          84,
          85,
          86,
          87,
          88,
          89,
          90,
          91,
          92,
          93,
          94,
          95,
          96,
          97,
          98,
          99
         ],
         "xaxis": "x2",
         "y": [
          "",
          "",
          "",
          1.2028628033173205,
          1.1455472257684978,
          "",
          2.3741358722640746,
          0.674750233985992,
          1.2660545081169723,
          1.5613694560010534,
          "",
          "",
          0.14160878250943115,
          1.329182151265979,
          1.510481270081306,
          "",
          1.253378167554808,
          0.816546933871328,
          2.5085773714537765,
          "",
          "",
          0.3581894073258549,
          0.693159724883272,
          "",
          "",
          0.22087250925763535,
          0.971248095161916,
          "",
          "",
          "",
          "",
          "",
          "",
          "",
          "",
          0.17655145031748115,
          "",
          1.8082047296704866,
          1.6994672148198169,
          "",
          1.5314359602740821,
          "",
          0.2039764265015671,
          0.37260287549636606,
          1.5160538650091906,
          "",
          0.6575299380586426,
          0.6144095295212706,
          1.4338509062718756,
          "",
          "",
          "",
          0.011330670663916687,
          0.44406238438475526,
          "",
          0.1678987855116456,
          "",
          "",
          "",
          0.0680092849598839,
          0.39434211576432965,
          3.172395383779023,
          0.3706162313994027,
          0.9933025809993923,
          "",
          1.0770183250191896,
          1.3320316534741372,
          0.38773131637350644,
          "",
          0.7197796920468843,
          "",
          "",
          "",
          1.0741438457594439,
          1.3393068813132456,
          0.2475433214091607,
          0.07142713320140215,
          "",
          0.5674991137269725,
          "",
          "",
          "",
          0.04098834317778555,
          "",
          2.1823447502708393,
          0.2377326947746759,
          "",
          "",
          "",
          2.6884244664096495,
          "",
          0.6394976322973631,
          "",
          "",
          "",
          "",
          1.432788913472778,
          "",
          2.0461808592822646,
          ""
         ],
         "yaxis": "y2"
        },
        {
         "connectgaps": false,
         "fill": "tozeroy",
         "line": {
          "color": "red",
          "dash": "solid",
          "shape": "linear",
          "width": 0.5
         },
         "mode": "lines",
         "name": "Spread",
         "showlegend": false,
         "type": "scatter",
         "x": [
          0,
          1,
          2,
          3,
          4,
          5,
          6,
          7,
          8,
          9,
          10,
          11,
          12,
          13,
          14,
          15,
          16,
          17,
          18,
          19,
          20,
          21,
          22,
          23,
          24,
          25,
          26,
          27,
          28,
          29,
          30,
          31,
          32,
          33,
          34,
          35,
          36,
          37,
          38,
          39,
          40,
          41,
          42,
          43,
          44,
          45,
          46,
          47,
          48,
          49,
          50,
          51,
          52,
          53,
          54,
          55,
          56,
          57,
          58,
          59,
          60,
          61,
          62,
          63,
          64,
          65,
          66,
          67,
          68,
          69,
          70,
          71,
          72,
          73,
          74,
          75,
          76,
          77,
          78,
          79,
          80,
          81,
          82,
          83,
          84,
          85,
          86,
          87,
          88,
          89,
          90,
          91,
          92,
          93,
          94,
          95,
          96,
          97,
          98,
          99
         ],
         "xaxis": "x2",
         "y": [
          -0.9068052836385132,
          -0.2859818152420125,
          -1.4912023603634794,
          "",
          "",
          -1.293486234678652,
          "",
          "",
          "",
          "",
          -0.2651128509572628,
          -1.493775005543628,
          "",
          "",
          "",
          -1.9429548420749834,
          "",
          "",
          "",
          -0.012910717289094431,
          -0.9384370539496631,
          "",
          "",
          -0.6284242049695394,
          -2.3142578958719744,
          "",
          "",
          -0.7078838859764487,
          -2.055729351888166,
          -2.8711883566175707,
          -1.570020421889008,
          -1.4805786897526174,
          -1.0009342815925004,
          -0.7325704983339902,
          -0.830711722431859,
          "",
          -0.36454948771538775,
          "",
          "",
          -0.782352068205335,
          "",
          -0.2993653395068051,
          "",
          "",
          "",
          -1.7195321768660612,
          "",
          "",
          "",
          -1.1561157250625265,
          -0.4712430382457018,
          -1.030143660375313,
          "",
          "",
          -1.1144480827704104,
          "",
          -0.4267235479264908,
          -1.2283024673230747,
          -1.9716174894189895,
          "",
          "",
          "",
          "",
          "",
          -1.2654531933956399,
          "",
          "",
          "",
          -1.2144215287786055,
          "",
          -2.423767593596576,
          -1.6668358542836106,
          -1.721119214203445,
          "",
          "",
          "",
          "",
          -0.7384169544423158,
          "",
          -0.575574823132139,
          -1.64350877689162,
          -1.436772367219359,
          "",
          -0.921846636695388,
          "",
          "",
          -1.5845647393534998,
          -2.3139325711287015,
          -2.5065239820312923,
          "",
          -1.4307631913546104,
          "",
          -0.04684307777244551,
          -0.01589837559405094,
          -0.13460058548362985,
          -2.8083944877635907,
          "",
          -1.1849703598601073,
          "",
          -0.8766515437455846
         ],
         "yaxis": "y2"
        }
       ],
       "layout": {
        "hovermode": "x",
        "legend": {
         "bgcolor": "#F5F6F9",
         "font": {
          "color": "#4D5663"
         }
        },
        "paper_bgcolor": "#F5F6F9",
        "plot_bgcolor": "#F5F6F9",
        "template": {
         "data": {
          "bar": [
           {
            "error_x": {
             "color": "#2a3f5f"
            },
            "error_y": {
             "color": "#2a3f5f"
            },
            "marker": {
             "line": {
              "color": "#E5ECF6",
              "width": 0.5
             },
             "pattern": {
              "fillmode": "overlay",
              "size": 10,
              "solidity": 0.2
             }
            },
            "type": "bar"
           }
          ],
          "barpolar": [
           {
            "marker": {
             "line": {
              "color": "#E5ECF6",
              "width": 0.5
             },
             "pattern": {
              "fillmode": "overlay",
              "size": 10,
              "solidity": 0.2
             }
            },
            "type": "barpolar"
           }
          ],
          "carpet": [
           {
            "aaxis": {
             "endlinecolor": "#2a3f5f",
             "gridcolor": "white",
             "linecolor": "white",
             "minorgridcolor": "white",
             "startlinecolor": "#2a3f5f"
            },
            "baxis": {
             "endlinecolor": "#2a3f5f",
             "gridcolor": "white",
             "linecolor": "white",
             "minorgridcolor": "white",
             "startlinecolor": "#2a3f5f"
            },
            "type": "carpet"
           }
          ],
          "choropleth": [
           {
            "colorbar": {
             "outlinewidth": 0,
             "ticks": ""
            },
            "type": "choropleth"
           }
          ],
          "contour": [
           {
            "colorbar": {
             "outlinewidth": 0,
             "ticks": ""
            },
            "colorscale": [
             [
              0,
              "#0d0887"
             ],
             [
              0.1111111111111111,
              "#46039f"
             ],
             [
              0.2222222222222222,
              "#7201a8"
             ],
             [
              0.3333333333333333,
              "#9c179e"
             ],
             [
              0.4444444444444444,
              "#bd3786"
             ],
             [
              0.5555555555555556,
              "#d8576b"
             ],
             [
              0.6666666666666666,
              "#ed7953"
             ],
             [
              0.7777777777777778,
              "#fb9f3a"
             ],
             [
              0.8888888888888888,
              "#fdca26"
             ],
             [
              1,
              "#f0f921"
             ]
            ],
            "type": "contour"
           }
          ],
          "contourcarpet": [
           {
            "colorbar": {
             "outlinewidth": 0,
             "ticks": ""
            },
            "type": "contourcarpet"
           }
          ],
          "heatmap": [
           {
            "colorbar": {
             "outlinewidth": 0,
             "ticks": ""
            },
            "colorscale": [
             [
              0,
              "#0d0887"
             ],
             [
              0.1111111111111111,
              "#46039f"
             ],
             [
              0.2222222222222222,
              "#7201a8"
             ],
             [
              0.3333333333333333,
              "#9c179e"
             ],
             [
              0.4444444444444444,
              "#bd3786"
             ],
             [
              0.5555555555555556,
              "#d8576b"
             ],
             [
              0.6666666666666666,
              "#ed7953"
             ],
             [
              0.7777777777777778,
              "#fb9f3a"
             ],
             [
              0.8888888888888888,
              "#fdca26"
             ],
             [
              1,
              "#f0f921"
             ]
            ],
            "type": "heatmap"
           }
          ],
          "heatmapgl": [
           {
            "colorbar": {
             "outlinewidth": 0,
             "ticks": ""
            },
            "colorscale": [
             [
              0,
              "#0d0887"
             ],
             [
              0.1111111111111111,
              "#46039f"
             ],
             [
              0.2222222222222222,
              "#7201a8"
             ],
             [
              0.3333333333333333,
              "#9c179e"
             ],
             [
              0.4444444444444444,
              "#bd3786"
             ],
             [
              0.5555555555555556,
              "#d8576b"
             ],
             [
              0.6666666666666666,
              "#ed7953"
             ],
             [
              0.7777777777777778,
              "#fb9f3a"
             ],
             [
              0.8888888888888888,
              "#fdca26"
             ],
             [
              1,
              "#f0f921"
             ]
            ],
            "type": "heatmapgl"
           }
          ],
          "histogram": [
           {
            "marker": {
             "pattern": {
              "fillmode": "overlay",
              "size": 10,
              "solidity": 0.2
             }
            },
            "type": "histogram"
           }
          ],
          "histogram2d": [
           {
            "colorbar": {
             "outlinewidth": 0,
             "ticks": ""
            },
            "colorscale": [
             [
              0,
              "#0d0887"
             ],
             [
              0.1111111111111111,
              "#46039f"
             ],
             [
              0.2222222222222222,
              "#7201a8"
             ],
             [
              0.3333333333333333,
              "#9c179e"
             ],
             [
              0.4444444444444444,
              "#bd3786"
             ],
             [
              0.5555555555555556,
              "#d8576b"
             ],
             [
              0.6666666666666666,
              "#ed7953"
             ],
             [
              0.7777777777777778,
              "#fb9f3a"
             ],
             [
              0.8888888888888888,
              "#fdca26"
             ],
             [
              1,
              "#f0f921"
             ]
            ],
            "type": "histogram2d"
           }
          ],
          "histogram2dcontour": [
           {
            "colorbar": {
             "outlinewidth": 0,
             "ticks": ""
            },
            "colorscale": [
             [
              0,
              "#0d0887"
             ],
             [
              0.1111111111111111,
              "#46039f"
             ],
             [
              0.2222222222222222,
              "#7201a8"
             ],
             [
              0.3333333333333333,
              "#9c179e"
             ],
             [
              0.4444444444444444,
              "#bd3786"
             ],
             [
              0.5555555555555556,
              "#d8576b"
             ],
             [
              0.6666666666666666,
              "#ed7953"
             ],
             [
              0.7777777777777778,
              "#fb9f3a"
             ],
             [
              0.8888888888888888,
              "#fdca26"
             ],
             [
              1,
              "#f0f921"
             ]
            ],
            "type": "histogram2dcontour"
           }
          ],
          "mesh3d": [
           {
            "colorbar": {
             "outlinewidth": 0,
             "ticks": ""
            },
            "type": "mesh3d"
           }
          ],
          "parcoords": [
           {
            "line": {
             "colorbar": {
              "outlinewidth": 0,
              "ticks": ""
             }
            },
            "type": "parcoords"
           }
          ],
          "pie": [
           {
            "automargin": true,
            "type": "pie"
           }
          ],
          "scatter": [
           {
            "marker": {
             "colorbar": {
              "outlinewidth": 0,
              "ticks": ""
             }
            },
            "type": "scatter"
           }
          ],
          "scatter3d": [
           {
            "line": {
             "colorbar": {
              "outlinewidth": 0,
              "ticks": ""
             }
            },
            "marker": {
             "colorbar": {
              "outlinewidth": 0,
              "ticks": ""
             }
            },
            "type": "scatter3d"
           }
          ],
          "scattercarpet": [
           {
            "marker": {
             "colorbar": {
              "outlinewidth": 0,
              "ticks": ""
             }
            },
            "type": "scattercarpet"
           }
          ],
          "scattergeo": [
           {
            "marker": {
             "colorbar": {
              "outlinewidth": 0,
              "ticks": ""
             }
            },
            "type": "scattergeo"
           }
          ],
          "scattergl": [
           {
            "marker": {
             "colorbar": {
              "outlinewidth": 0,
              "ticks": ""
             }
            },
            "type": "scattergl"
           }
          ],
          "scattermapbox": [
           {
            "marker": {
             "colorbar": {
              "outlinewidth": 0,
              "ticks": ""
             }
            },
            "type": "scattermapbox"
           }
          ],
          "scatterpolar": [
           {
            "marker": {
             "colorbar": {
              "outlinewidth": 0,
              "ticks": ""
             }
            },
            "type": "scatterpolar"
           }
          ],
          "scatterpolargl": [
           {
            "marker": {
             "colorbar": {
              "outlinewidth": 0,
              "ticks": ""
             }
            },
            "type": "scatterpolargl"
           }
          ],
          "scatterternary": [
           {
            "marker": {
             "colorbar": {
              "outlinewidth": 0,
              "ticks": ""
             }
            },
            "type": "scatterternary"
           }
          ],
          "surface": [
           {
            "colorbar": {
             "outlinewidth": 0,
             "ticks": ""
            },
            "colorscale": [
             [
              0,
              "#0d0887"
             ],
             [
              0.1111111111111111,
              "#46039f"
             ],
             [
              0.2222222222222222,
              "#7201a8"
             ],
             [
              0.3333333333333333,
              "#9c179e"
             ],
             [
              0.4444444444444444,
              "#bd3786"
             ],
             [
              0.5555555555555556,
              "#d8576b"
             ],
             [
              0.6666666666666666,
              "#ed7953"
             ],
             [
              0.7777777777777778,
              "#fb9f3a"
             ],
             [
              0.8888888888888888,
              "#fdca26"
             ],
             [
              1,
              "#f0f921"
             ]
            ],
            "type": "surface"
           }
          ],
          "table": [
           {
            "cells": {
             "fill": {
              "color": "#EBF0F8"
             },
             "line": {
              "color": "white"
             }
            },
            "header": {
             "fill": {
              "color": "#C8D4E3"
             },
             "line": {
              "color": "white"
             }
            },
            "type": "table"
           }
          ]
         },
         "layout": {
          "annotationdefaults": {
           "arrowcolor": "#2a3f5f",
           "arrowhead": 0,
           "arrowwidth": 1
          },
          "autotypenumbers": "strict",
          "coloraxis": {
           "colorbar": {
            "outlinewidth": 0,
            "ticks": ""
           }
          },
          "colorscale": {
           "diverging": [
            [
             0,
             "#8e0152"
            ],
            [
             0.1,
             "#c51b7d"
            ],
            [
             0.2,
             "#de77ae"
            ],
            [
             0.3,
             "#f1b6da"
            ],
            [
             0.4,
             "#fde0ef"
            ],
            [
             0.5,
             "#f7f7f7"
            ],
            [
             0.6,
             "#e6f5d0"
            ],
            [
             0.7,
             "#b8e186"
            ],
            [
             0.8,
             "#7fbc41"
            ],
            [
             0.9,
             "#4d9221"
            ],
            [
             1,
             "#276419"
            ]
           ],
           "sequential": [
            [
             0,
             "#0d0887"
            ],
            [
             0.1111111111111111,
             "#46039f"
            ],
            [
             0.2222222222222222,
             "#7201a8"
            ],
            [
             0.3333333333333333,
             "#9c179e"
            ],
            [
             0.4444444444444444,
             "#bd3786"
            ],
            [
             0.5555555555555556,
             "#d8576b"
            ],
            [
             0.6666666666666666,
             "#ed7953"
            ],
            [
             0.7777777777777778,
             "#fb9f3a"
            ],
            [
             0.8888888888888888,
             "#fdca26"
            ],
            [
             1,
             "#f0f921"
            ]
           ],
           "sequentialminus": [
            [
             0,
             "#0d0887"
            ],
            [
             0.1111111111111111,
             "#46039f"
            ],
            [
             0.2222222222222222,
             "#7201a8"
            ],
            [
             0.3333333333333333,
             "#9c179e"
            ],
            [
             0.4444444444444444,
             "#bd3786"
            ],
            [
             0.5555555555555556,
             "#d8576b"
            ],
            [
             0.6666666666666666,
             "#ed7953"
            ],
            [
             0.7777777777777778,
             "#fb9f3a"
            ],
            [
             0.8888888888888888,
             "#fdca26"
            ],
            [
             1,
             "#f0f921"
            ]
           ]
          },
          "colorway": [
           "#636efa",
           "#EF553B",
           "#00cc96",
           "#ab63fa",
           "#FFA15A",
           "#19d3f3",
           "#FF6692",
           "#B6E880",
           "#FF97FF",
           "#FECB52"
          ],
          "font": {
           "color": "#2a3f5f"
          },
          "geo": {
           "bgcolor": "white",
           "lakecolor": "white",
           "landcolor": "#E5ECF6",
           "showlakes": true,
           "showland": true,
           "subunitcolor": "white"
          },
          "hoverlabel": {
           "align": "left"
          },
          "hovermode": "closest",
          "mapbox": {
           "style": "light"
          },
          "paper_bgcolor": "white",
          "plot_bgcolor": "#E5ECF6",
          "polar": {
           "angularaxis": {
            "gridcolor": "white",
            "linecolor": "white",
            "ticks": ""
           },
           "bgcolor": "#E5ECF6",
           "radialaxis": {
            "gridcolor": "white",
            "linecolor": "white",
            "ticks": ""
           }
          },
          "scene": {
           "xaxis": {
            "backgroundcolor": "#E5ECF6",
            "gridcolor": "white",
            "gridwidth": 2,
            "linecolor": "white",
            "showbackground": true,
            "ticks": "",
            "zerolinecolor": "white"
           },
           "yaxis": {
            "backgroundcolor": "#E5ECF6",
            "gridcolor": "white",
            "gridwidth": 2,
            "linecolor": "white",
            "showbackground": true,
            "ticks": "",
            "zerolinecolor": "white"
           },
           "zaxis": {
            "backgroundcolor": "#E5ECF6",
            "gridcolor": "white",
            "gridwidth": 2,
            "linecolor": "white",
            "showbackground": true,
            "ticks": "",
            "zerolinecolor": "white"
           }
          },
          "shapedefaults": {
           "line": {
            "color": "#2a3f5f"
           }
          },
          "ternary": {
           "aaxis": {
            "gridcolor": "white",
            "linecolor": "white",
            "ticks": ""
           },
           "baxis": {
            "gridcolor": "white",
            "linecolor": "white",
            "ticks": ""
           },
           "bgcolor": "#E5ECF6",
           "caxis": {
            "gridcolor": "white",
            "linecolor": "white",
            "ticks": ""
           }
          },
          "title": {
           "x": 0.05
          },
          "xaxis": {
           "automargin": true,
           "gridcolor": "white",
           "linecolor": "white",
           "ticks": "",
           "title": {
            "standoff": 15
           },
           "zerolinecolor": "white",
           "zerolinewidth": 2
          },
          "yaxis": {
           "automargin": true,
           "gridcolor": "white",
           "linecolor": "white",
           "ticks": "",
           "title": {
            "standoff": 15
           },
           "zerolinecolor": "white",
           "zerolinewidth": 2
          }
         }
        },
        "title": {
         "font": {
          "color": "#4D5663"
         }
        },
        "xaxis": {
         "gridcolor": "#E1E5ED",
         "showgrid": true,
         "tickfont": {
          "color": "#4D5663"
         },
         "title": {
          "font": {
           "color": "#4D5663"
          },
          "text": ""
         },
         "zerolinecolor": "#E1E5ED"
        },
        "xaxis2": {
         "anchor": "y2",
         "gridcolor": "#E1E5ED",
         "showgrid": true,
         "showticklabels": false,
         "tickfont": {
          "color": "#4D5663"
         },
         "title": {
          "font": {
           "color": "#4D5663"
          },
          "text": ""
         },
         "zerolinecolor": "#E1E5ED"
        },
        "yaxis": {
         "domain": [
          0.3,
          1
         ],
         "gridcolor": "#E1E5ED",
         "showgrid": true,
         "tickfont": {
          "color": "#4D5663"
         },
         "title": {
          "font": {
           "color": "#4D5663"
          },
          "text": ""
         },
         "zerolinecolor": "#E1E5ED"
        },
        "yaxis2": {
         "domain": [
          0,
          0.25
         ],
         "gridcolor": "#E1E5ED",
         "showgrid": true,
         "tickfont": {
          "color": "#4D5663"
         },
         "title": {
          "font": {
           "color": "#4D5663"
          },
          "text": "Spread"
         },
         "zerolinecolor": "#E1E5ED"
        }
       }
      },
      "text/html": [
       "<div>                            <div id=\"63e6af3f-96f9-4aea-afd1-ce8606ab1a20\" class=\"plotly-graph-div\" style=\"height:525px; width:100%;\"></div>            <script type=\"text/javascript\">                require([\"plotly\"], function(Plotly) {                    window.PLOTLYENV=window.PLOTLYENV || {};\n",
       "                    window.PLOTLYENV.BASE_URL='https://plotly.com';                                    if (document.getElementById(\"63e6af3f-96f9-4aea-afd1-ce8606ab1a20\")) {                    Plotly.newPlot(                        \"63e6af3f-96f9-4aea-afd1-ce8606ab1a20\",                        [{\"line\":{\"color\":\"rgba(255, 153, 51, 1.0)\",\"dash\":\"solid\",\"shape\":\"linear\",\"width\":1.3},\"mode\":\"lines\",\"name\":\"A\",\"text\":\"\",\"x\":[0,1,2,3,4,5,6,7,8,9,10,11,12,13,14,15,16,17,18,19,20,21,22,23,24,25,26,27,28,29,30,31,32,33,34,35,36,37,38,39,40,41,42,43,44,45,46,47,48,49,50,51,52,53,54,55,56,57,58,59,60,61,62,63,64,65,66,67,68,69,70,71,72,73,74,75,76,77,78,79,80,81,82,83,84,85,86,87,88,89,90,91,92,93,94,95,96,97,98,99],\"y\":[0.2540205165143539,0.21018287468404354,-1.417366523418028,1.4355964054891057,0.6438156084526279,-0.48992682332332516,2.089603407589297,-0.24037244272897193,0.22741612429678598,-0.43388743074207914,-0.17474693590151122,-0.3378269321122739,-0.2872816214010255,0.09021167266536759,1.9916614315099455,-0.9203501904153832,1.9932576734555514,1.190820979890536,0.7591670480729559,-0.9322613470150776,-0.04972199823331805,1.2685856210555648,1.5879259973556699,-0.567128573474692,-2.1942346439385063,-0.4559241878544287,1.0321820388276353,-1.2718987011182359,-1.2386551206807364,-2.194211747720904,-0.5258492859793686,-0.6653282837542511,-1.3988028138784063,-0.07260478095047099,-0.28642094085208936,-0.11457773635910108,-0.1095433105850815,0.9750875884483519,0.8374465307982316,-0.739274852671829,0.3157117587684143,-0.1715446808230524,-1.941469789403776,-0.8593008608200065,1.0567482570657265,-1.9320398455863936,0.2594822932774328,-0.39301308706656246,0.4491389194589242,-0.5943834464300685,-1.6205742737788318,0.6117521209297304,-1.276327824115349,0.4086695638455752,0.24793326266283466,-0.4612398992086352,1.472207033963178,-1.8432937178256399,0.331853571779341,-0.14425338478943614,-0.05413105300153619,2.319362187084283,0.7674645302272454,0.6023945964221519,0.09769810203503486,1.4595133621459795,0.5577801094920947,-0.8161165385921015,-0.20283106200073736,1.0814223714895106,-0.9390927760332309,-0.7014055677825115,-0.26483222934057704,0.2563524393956336,1.066269844507545,0.8834240698541156,-0.7106341632582636,-0.4401823764634333,0.9603374413953691,-0.04706661324449886,-0.32082510121876906,0.22690521984675313,0.5580555659912436,-0.097048566746413,1.7196848303305123,0.1334024173581546,-1.3154871382832112,-0.9863034014659603,-1.0446233980609223,2.755130001029382,-0.19396822225672392,-1.0333488219739275,0.37272339170574764,1.0054492152613619,1.266420601741147,-2.1026940491604966,0.5587347491572473,-1.26564189608967,1.2365667571795178,0.4093624285717989],\"type\":\"scatter\"},{\"line\":{\"color\":\"rgba(55, 128, 191, 1.0)\",\"dash\":\"solid\",\"shape\":\"linear\",\"width\":1.3},\"mode\":\"lines\",\"name\":\"B\",\"text\":\"\",\"x\":[0,1,2,3,4,5,6,7,8,9,10,11,12,13,14,15,16,17,18,19,20,21,22,23,24,25,26,27,28,29,30,31,32,33,34,35,36,37,38,39,40,41,42,43,44,45,46,47,48,49,50,51,52,53,54,55,56,57,58,59,60,61,62,63,64,65,66,67,68,69,70,71,72,73,74,75,76,77,78,79,80,81,82,83,84,85,86,87,88,89,90,91,92,93,94,95,96,97,98,99],\"y\":[1.160825800152867,0.49616468992605606,0.07383583694545158,0.2327336021717852,-0.5017316173158699,0.8035594113553268,-0.28453246467477783,-0.915122676714964,-1.0386383838201863,-1.9952568867431326,0.09036591505575159,1.155948073431354,-0.42889040391045663,-1.2389704786006113,0.48118016142863945,1.0226046516596001,0.7398795059007436,0.37427404601920805,-1.7494103233808207,-0.9193506297259831,0.8887150557163451,0.9103962137297099,0.8947662724723978,0.06129563149484737,0.12002325193346794,-0.676796697112064,0.06093394366571922,-0.5640148151417872,0.81707423120743,0.6769766088966667,1.0441711359096393,0.8152504059983663,-0.39786853228590585,0.6599657173835193,0.5442907815797696,-0.2911291866765822,0.25500617713030627,-0.8331171412221349,-0.8620206840215854,0.04307721553350601,-1.215724201505668,0.12782065868375267,-2.145446215905343,-1.2319037363163725,-0.45930560794346414,-0.21250766872033242,-0.39804764478120985,-1.007422616587833,-0.9847119868129514,0.561732278632458,-1.14933123553313,1.6418957813050432,-1.2876584947792657,-0.03539282053918007,1.362381345433245,-0.6291386847202808,1.898930581889669,-0.6149912505025651,2.3034710611983304,-0.21226266974932004,-0.44847316876586585,-0.85303319669474,0.39684829882784267,-0.39090798457724035,1.3631512954306748,0.38249503712678984,-0.7742515439820427,-1.203847854965608,1.0115904667778681,0.3616426794426263,1.4846748175633453,0.9654302865010991,1.4562869848628681,-0.8177914063638103,-0.2730370368057006,0.6358807484449549,-0.7820612964596657,0.29823457797888253,0.39283832766839666,0.5285082098876401,1.3226836756728508,1.6636775870661122,0.5170672228134581,0.824798069948975,-0.46265991994032685,-0.10433027741652127,0.2690776010702887,1.3276291696627414,1.4619005839703703,0.06670553461973262,1.2367949690978866,-1.6728464542712906,0.41956646947819315,1.0213475908554128,1.4010211872247769,0.7057004386030941,-0.8740541643155307,-0.08067153622956262,-0.8096141021027465,1.2860139723173836],\"type\":\"scatter\"},{\"connectgaps\":false,\"fill\":\"tozeroy\",\"line\":{\"color\":\"green\",\"dash\":\"solid\",\"shape\":\"linear\",\"width\":0.5},\"mode\":\"lines\",\"name\":\"Spread\",\"showlegend\":false,\"x\":[0,1,2,3,4,5,6,7,8,9,10,11,12,13,14,15,16,17,18,19,20,21,22,23,24,25,26,27,28,29,30,31,32,33,34,35,36,37,38,39,40,41,42,43,44,45,46,47,48,49,50,51,52,53,54,55,56,57,58,59,60,61,62,63,64,65,66,67,68,69,70,71,72,73,74,75,76,77,78,79,80,81,82,83,84,85,86,87,88,89,90,91,92,93,94,95,96,97,98,99],\"xaxis\":\"x2\",\"y\":[\"\",\"\",\"\",1.2028628033173205,1.1455472257684978,\"\",2.3741358722640746,0.674750233985992,1.2660545081169723,1.5613694560010534,\"\",\"\",0.14160878250943115,1.329182151265979,1.510481270081306,\"\",1.253378167554808,0.816546933871328,2.5085773714537765,\"\",\"\",0.3581894073258549,0.693159724883272,\"\",\"\",0.22087250925763535,0.971248095161916,\"\",\"\",\"\",\"\",\"\",\"\",\"\",\"\",0.17655145031748115,\"\",1.8082047296704866,1.6994672148198169,\"\",1.5314359602740821,\"\",0.2039764265015671,0.37260287549636606,1.5160538650091906,\"\",0.6575299380586426,0.6144095295212706,1.4338509062718756,\"\",\"\",\"\",0.011330670663916687,0.44406238438475526,\"\",0.1678987855116456,\"\",\"\",\"\",0.0680092849598839,0.39434211576432965,3.172395383779023,0.3706162313994027,0.9933025809993923,\"\",1.0770183250191896,1.3320316534741372,0.38773131637350644,\"\",0.7197796920468843,\"\",\"\",\"\",1.0741438457594439,1.3393068813132456,0.2475433214091607,0.07142713320140215,\"\",0.5674991137269725,\"\",\"\",\"\",0.04098834317778555,\"\",2.1823447502708393,0.2377326947746759,\"\",\"\",\"\",2.6884244664096495,\"\",0.6394976322973631,\"\",\"\",\"\",\"\",1.432788913472778,\"\",2.0461808592822646,\"\"],\"yaxis\":\"y2\",\"type\":\"scatter\"},{\"connectgaps\":false,\"fill\":\"tozeroy\",\"line\":{\"color\":\"red\",\"dash\":\"solid\",\"shape\":\"linear\",\"width\":0.5},\"mode\":\"lines\",\"name\":\"Spread\",\"showlegend\":false,\"x\":[0,1,2,3,4,5,6,7,8,9,10,11,12,13,14,15,16,17,18,19,20,21,22,23,24,25,26,27,28,29,30,31,32,33,34,35,36,37,38,39,40,41,42,43,44,45,46,47,48,49,50,51,52,53,54,55,56,57,58,59,60,61,62,63,64,65,66,67,68,69,70,71,72,73,74,75,76,77,78,79,80,81,82,83,84,85,86,87,88,89,90,91,92,93,94,95,96,97,98,99],\"xaxis\":\"x2\",\"y\":[-0.9068052836385132,-0.2859818152420125,-1.4912023603634794,\"\",\"\",-1.293486234678652,\"\",\"\",\"\",\"\",-0.2651128509572628,-1.493775005543628,\"\",\"\",\"\",-1.9429548420749834,\"\",\"\",\"\",-0.012910717289094431,-0.9384370539496631,\"\",\"\",-0.6284242049695394,-2.3142578958719744,\"\",\"\",-0.7078838859764487,-2.055729351888166,-2.8711883566175707,-1.570020421889008,-1.4805786897526174,-1.0009342815925004,-0.7325704983339902,-0.830711722431859,\"\",-0.36454948771538775,\"\",\"\",-0.782352068205335,\"\",-0.2993653395068051,\"\",\"\",\"\",-1.7195321768660612,\"\",\"\",\"\",-1.1561157250625265,-0.4712430382457018,-1.030143660375313,\"\",\"\",-1.1144480827704104,\"\",-0.4267235479264908,-1.2283024673230747,-1.9716174894189895,\"\",\"\",\"\",\"\",\"\",-1.2654531933956399,\"\",\"\",\"\",-1.2144215287786055,\"\",-2.423767593596576,-1.6668358542836106,-1.721119214203445,\"\",\"\",\"\",\"\",-0.7384169544423158,\"\",-0.575574823132139,-1.64350877689162,-1.436772367219359,\"\",-0.921846636695388,\"\",\"\",-1.5845647393534998,-2.3139325711287015,-2.5065239820312923,\"\",-1.4307631913546104,\"\",-0.04684307777244551,-0.01589837559405094,-0.13460058548362985,-2.8083944877635907,\"\",-1.1849703598601073,\"\",-0.8766515437455846],\"yaxis\":\"y2\",\"type\":\"scatter\"}],                        {\"hovermode\":\"x\",\"legend\":{\"bgcolor\":\"#F5F6F9\",\"font\":{\"color\":\"#4D5663\"}},\"paper_bgcolor\":\"#F5F6F9\",\"plot_bgcolor\":\"#F5F6F9\",\"template\":{\"data\":{\"barpolar\":[{\"marker\":{\"line\":{\"color\":\"#E5ECF6\",\"width\":0.5},\"pattern\":{\"fillmode\":\"overlay\",\"size\":10,\"solidity\":0.2}},\"type\":\"barpolar\"}],\"bar\":[{\"error_x\":{\"color\":\"#2a3f5f\"},\"error_y\":{\"color\":\"#2a3f5f\"},\"marker\":{\"line\":{\"color\":\"#E5ECF6\",\"width\":0.5},\"pattern\":{\"fillmode\":\"overlay\",\"size\":10,\"solidity\":0.2}},\"type\":\"bar\"}],\"carpet\":[{\"aaxis\":{\"endlinecolor\":\"#2a3f5f\",\"gridcolor\":\"white\",\"linecolor\":\"white\",\"minorgridcolor\":\"white\",\"startlinecolor\":\"#2a3f5f\"},\"baxis\":{\"endlinecolor\":\"#2a3f5f\",\"gridcolor\":\"white\",\"linecolor\":\"white\",\"minorgridcolor\":\"white\",\"startlinecolor\":\"#2a3f5f\"},\"type\":\"carpet\"}],\"choropleth\":[{\"colorbar\":{\"outlinewidth\":0,\"ticks\":\"\"},\"type\":\"choropleth\"}],\"contourcarpet\":[{\"colorbar\":{\"outlinewidth\":0,\"ticks\":\"\"},\"type\":\"contourcarpet\"}],\"contour\":[{\"colorbar\":{\"outlinewidth\":0,\"ticks\":\"\"},\"colorscale\":[[0.0,\"#0d0887\"],[0.1111111111111111,\"#46039f\"],[0.2222222222222222,\"#7201a8\"],[0.3333333333333333,\"#9c179e\"],[0.4444444444444444,\"#bd3786\"],[0.5555555555555556,\"#d8576b\"],[0.6666666666666666,\"#ed7953\"],[0.7777777777777778,\"#fb9f3a\"],[0.8888888888888888,\"#fdca26\"],[1.0,\"#f0f921\"]],\"type\":\"contour\"}],\"heatmapgl\":[{\"colorbar\":{\"outlinewidth\":0,\"ticks\":\"\"},\"colorscale\":[[0.0,\"#0d0887\"],[0.1111111111111111,\"#46039f\"],[0.2222222222222222,\"#7201a8\"],[0.3333333333333333,\"#9c179e\"],[0.4444444444444444,\"#bd3786\"],[0.5555555555555556,\"#d8576b\"],[0.6666666666666666,\"#ed7953\"],[0.7777777777777778,\"#fb9f3a\"],[0.8888888888888888,\"#fdca26\"],[1.0,\"#f0f921\"]],\"type\":\"heatmapgl\"}],\"heatmap\":[{\"colorbar\":{\"outlinewidth\":0,\"ticks\":\"\"},\"colorscale\":[[0.0,\"#0d0887\"],[0.1111111111111111,\"#46039f\"],[0.2222222222222222,\"#7201a8\"],[0.3333333333333333,\"#9c179e\"],[0.4444444444444444,\"#bd3786\"],[0.5555555555555556,\"#d8576b\"],[0.6666666666666666,\"#ed7953\"],[0.7777777777777778,\"#fb9f3a\"],[0.8888888888888888,\"#fdca26\"],[1.0,\"#f0f921\"]],\"type\":\"heatmap\"}],\"histogram2dcontour\":[{\"colorbar\":{\"outlinewidth\":0,\"ticks\":\"\"},\"colorscale\":[[0.0,\"#0d0887\"],[0.1111111111111111,\"#46039f\"],[0.2222222222222222,\"#7201a8\"],[0.3333333333333333,\"#9c179e\"],[0.4444444444444444,\"#bd3786\"],[0.5555555555555556,\"#d8576b\"],[0.6666666666666666,\"#ed7953\"],[0.7777777777777778,\"#fb9f3a\"],[0.8888888888888888,\"#fdca26\"],[1.0,\"#f0f921\"]],\"type\":\"histogram2dcontour\"}],\"histogram2d\":[{\"colorbar\":{\"outlinewidth\":0,\"ticks\":\"\"},\"colorscale\":[[0.0,\"#0d0887\"],[0.1111111111111111,\"#46039f\"],[0.2222222222222222,\"#7201a8\"],[0.3333333333333333,\"#9c179e\"],[0.4444444444444444,\"#bd3786\"],[0.5555555555555556,\"#d8576b\"],[0.6666666666666666,\"#ed7953\"],[0.7777777777777778,\"#fb9f3a\"],[0.8888888888888888,\"#fdca26\"],[1.0,\"#f0f921\"]],\"type\":\"histogram2d\"}],\"histogram\":[{\"marker\":{\"pattern\":{\"fillmode\":\"overlay\",\"size\":10,\"solidity\":0.2}},\"type\":\"histogram\"}],\"mesh3d\":[{\"colorbar\":{\"outlinewidth\":0,\"ticks\":\"\"},\"type\":\"mesh3d\"}],\"parcoords\":[{\"line\":{\"colorbar\":{\"outlinewidth\":0,\"ticks\":\"\"}},\"type\":\"parcoords\"}],\"pie\":[{\"automargin\":true,\"type\":\"pie\"}],\"scatter3d\":[{\"line\":{\"colorbar\":{\"outlinewidth\":0,\"ticks\":\"\"}},\"marker\":{\"colorbar\":{\"outlinewidth\":0,\"ticks\":\"\"}},\"type\":\"scatter3d\"}],\"scattercarpet\":[{\"marker\":{\"colorbar\":{\"outlinewidth\":0,\"ticks\":\"\"}},\"type\":\"scattercarpet\"}],\"scattergeo\":[{\"marker\":{\"colorbar\":{\"outlinewidth\":0,\"ticks\":\"\"}},\"type\":\"scattergeo\"}],\"scattergl\":[{\"marker\":{\"colorbar\":{\"outlinewidth\":0,\"ticks\":\"\"}},\"type\":\"scattergl\"}],\"scattermapbox\":[{\"marker\":{\"colorbar\":{\"outlinewidth\":0,\"ticks\":\"\"}},\"type\":\"scattermapbox\"}],\"scatterpolargl\":[{\"marker\":{\"colorbar\":{\"outlinewidth\":0,\"ticks\":\"\"}},\"type\":\"scatterpolargl\"}],\"scatterpolar\":[{\"marker\":{\"colorbar\":{\"outlinewidth\":0,\"ticks\":\"\"}},\"type\":\"scatterpolar\"}],\"scatter\":[{\"marker\":{\"colorbar\":{\"outlinewidth\":0,\"ticks\":\"\"}},\"type\":\"scatter\"}],\"scatterternary\":[{\"marker\":{\"colorbar\":{\"outlinewidth\":0,\"ticks\":\"\"}},\"type\":\"scatterternary\"}],\"surface\":[{\"colorbar\":{\"outlinewidth\":0,\"ticks\":\"\"},\"colorscale\":[[0.0,\"#0d0887\"],[0.1111111111111111,\"#46039f\"],[0.2222222222222222,\"#7201a8\"],[0.3333333333333333,\"#9c179e\"],[0.4444444444444444,\"#bd3786\"],[0.5555555555555556,\"#d8576b\"],[0.6666666666666666,\"#ed7953\"],[0.7777777777777778,\"#fb9f3a\"],[0.8888888888888888,\"#fdca26\"],[1.0,\"#f0f921\"]],\"type\":\"surface\"}],\"table\":[{\"cells\":{\"fill\":{\"color\":\"#EBF0F8\"},\"line\":{\"color\":\"white\"}},\"header\":{\"fill\":{\"color\":\"#C8D4E3\"},\"line\":{\"color\":\"white\"}},\"type\":\"table\"}]},\"layout\":{\"annotationdefaults\":{\"arrowcolor\":\"#2a3f5f\",\"arrowhead\":0,\"arrowwidth\":1},\"autotypenumbers\":\"strict\",\"coloraxis\":{\"colorbar\":{\"outlinewidth\":0,\"ticks\":\"\"}},\"colorscale\":{\"diverging\":[[0,\"#8e0152\"],[0.1,\"#c51b7d\"],[0.2,\"#de77ae\"],[0.3,\"#f1b6da\"],[0.4,\"#fde0ef\"],[0.5,\"#f7f7f7\"],[0.6,\"#e6f5d0\"],[0.7,\"#b8e186\"],[0.8,\"#7fbc41\"],[0.9,\"#4d9221\"],[1,\"#276419\"]],\"sequential\":[[0.0,\"#0d0887\"],[0.1111111111111111,\"#46039f\"],[0.2222222222222222,\"#7201a8\"],[0.3333333333333333,\"#9c179e\"],[0.4444444444444444,\"#bd3786\"],[0.5555555555555556,\"#d8576b\"],[0.6666666666666666,\"#ed7953\"],[0.7777777777777778,\"#fb9f3a\"],[0.8888888888888888,\"#fdca26\"],[1.0,\"#f0f921\"]],\"sequentialminus\":[[0.0,\"#0d0887\"],[0.1111111111111111,\"#46039f\"],[0.2222222222222222,\"#7201a8\"],[0.3333333333333333,\"#9c179e\"],[0.4444444444444444,\"#bd3786\"],[0.5555555555555556,\"#d8576b\"],[0.6666666666666666,\"#ed7953\"],[0.7777777777777778,\"#fb9f3a\"],[0.8888888888888888,\"#fdca26\"],[1.0,\"#f0f921\"]]},\"colorway\":[\"#636efa\",\"#EF553B\",\"#00cc96\",\"#ab63fa\",\"#FFA15A\",\"#19d3f3\",\"#FF6692\",\"#B6E880\",\"#FF97FF\",\"#FECB52\"],\"font\":{\"color\":\"#2a3f5f\"},\"geo\":{\"bgcolor\":\"white\",\"lakecolor\":\"white\",\"landcolor\":\"#E5ECF6\",\"showlakes\":true,\"showland\":true,\"subunitcolor\":\"white\"},\"hoverlabel\":{\"align\":\"left\"},\"hovermode\":\"closest\",\"mapbox\":{\"style\":\"light\"},\"paper_bgcolor\":\"white\",\"plot_bgcolor\":\"#E5ECF6\",\"polar\":{\"angularaxis\":{\"gridcolor\":\"white\",\"linecolor\":\"white\",\"ticks\":\"\"},\"bgcolor\":\"#E5ECF6\",\"radialaxis\":{\"gridcolor\":\"white\",\"linecolor\":\"white\",\"ticks\":\"\"}},\"scene\":{\"xaxis\":{\"backgroundcolor\":\"#E5ECF6\",\"gridcolor\":\"white\",\"gridwidth\":2,\"linecolor\":\"white\",\"showbackground\":true,\"ticks\":\"\",\"zerolinecolor\":\"white\"},\"yaxis\":{\"backgroundcolor\":\"#E5ECF6\",\"gridcolor\":\"white\",\"gridwidth\":2,\"linecolor\":\"white\",\"showbackground\":true,\"ticks\":\"\",\"zerolinecolor\":\"white\"},\"zaxis\":{\"backgroundcolor\":\"#E5ECF6\",\"gridcolor\":\"white\",\"gridwidth\":2,\"linecolor\":\"white\",\"showbackground\":true,\"ticks\":\"\",\"zerolinecolor\":\"white\"}},\"shapedefaults\":{\"line\":{\"color\":\"#2a3f5f\"}},\"ternary\":{\"aaxis\":{\"gridcolor\":\"white\",\"linecolor\":\"white\",\"ticks\":\"\"},\"baxis\":{\"gridcolor\":\"white\",\"linecolor\":\"white\",\"ticks\":\"\"},\"bgcolor\":\"#E5ECF6\",\"caxis\":{\"gridcolor\":\"white\",\"linecolor\":\"white\",\"ticks\":\"\"}},\"title\":{\"x\":0.05},\"xaxis\":{\"automargin\":true,\"gridcolor\":\"white\",\"linecolor\":\"white\",\"ticks\":\"\",\"title\":{\"standoff\":15},\"zerolinecolor\":\"white\",\"zerolinewidth\":2},\"yaxis\":{\"automargin\":true,\"gridcolor\":\"white\",\"linecolor\":\"white\",\"ticks\":\"\",\"title\":{\"standoff\":15},\"zerolinecolor\":\"white\",\"zerolinewidth\":2}}},\"title\":{\"font\":{\"color\":\"#4D5663\"}},\"xaxis\":{\"gridcolor\":\"#E1E5ED\",\"showgrid\":true,\"tickfont\":{\"color\":\"#4D5663\"},\"title\":{\"font\":{\"color\":\"#4D5663\"},\"text\":\"\"},\"zerolinecolor\":\"#E1E5ED\"},\"yaxis\":{\"domain\":[0.3,1],\"gridcolor\":\"#E1E5ED\",\"showgrid\":true,\"tickfont\":{\"color\":\"#4D5663\"},\"title\":{\"font\":{\"color\":\"#4D5663\"},\"text\":\"\"},\"zerolinecolor\":\"#E1E5ED\"},\"yaxis2\":{\"domain\":[0,0.25],\"gridcolor\":\"#E1E5ED\",\"showgrid\":true,\"tickfont\":{\"color\":\"#4D5663\"},\"title\":{\"font\":{\"color\":\"#4D5663\"},\"text\":\"Spread\"},\"zerolinecolor\":\"#E1E5ED\"},\"xaxis2\":{\"anchor\":\"y2\",\"gridcolor\":\"#E1E5ED\",\"showgrid\":true,\"showticklabels\":false,\"tickfont\":{\"color\":\"#4D5663\"},\"title\":{\"font\":{\"color\":\"#4D5663\"},\"text\":\"\"},\"zerolinecolor\":\"#E1E5ED\"}},                        {\"showLink\": true, \"linkText\": \"Export to plotly.com\", \"plotlyServerURL\": \"https://plotly.com\", \"responsive\": true}                    ).then(function(){\n",
       "                            \n",
       "var gd = document.getElementById('63e6af3f-96f9-4aea-afd1-ce8606ab1a20');\n",
       "var x = new MutationObserver(function (mutations, observer) {{\n",
       "        var display = window.getComputedStyle(gd).display;\n",
       "        if (!display || display === 'none') {{\n",
       "            console.log([gd, 'removed!']);\n",
       "            Plotly.purge(gd);\n",
       "            observer.disconnect();\n",
       "        }}\n",
       "}});\n",
       "\n",
       "// Listen for the removal of the full notebook cells\n",
       "var notebookContainer = gd.closest('#notebook-container');\n",
       "if (notebookContainer) {{\n",
       "    x.observe(notebookContainer, {childList: true});\n",
       "}}\n",
       "\n",
       "// Listen for the clearing of the current output cell\n",
       "var outputEl = gd.closest('.output');\n",
       "if (outputEl) {{\n",
       "    x.observe(outputEl, {childList: true});\n",
       "}}\n",
       "\n",
       "                        })                };                });            </script>        </div>"
      ]
     },
     "metadata": {},
     "output_type": "display_data"
    }
   ],
   "source": [
    "df[['A','B']].iplot(kind='spread')"
   ]
  },
  {
   "cell_type": "markdown",
   "metadata": {},
   "source": [
    "## histogram"
   ]
  },
  {
   "cell_type": "code",
   "execution_count": 37,
   "metadata": {},
   "outputs": [
    {
     "data": {
      "application/vnd.plotly.v1+json": {
       "config": {
        "linkText": "Export to plotly.com",
        "plotlyServerURL": "https://plotly.com",
        "showLink": true
       },
       "data": [
        {
         "histfunc": "count",
         "histnorm": "",
         "marker": {
          "color": "rgba(255, 153, 51, 1.0)",
          "line": {
           "color": "#4D5663",
           "width": 1.3
          }
         },
         "name": "A",
         "nbinsx": 25,
         "opacity": 0.8,
         "orientation": "v",
         "type": "histogram",
         "x": [
          0.2540205165143539,
          0.21018287468404354,
          -1.417366523418028,
          1.4355964054891057,
          0.6438156084526279,
          -0.48992682332332516,
          2.089603407589297,
          -0.24037244272897193,
          0.22741612429678598,
          -0.43388743074207914,
          -0.17474693590151122,
          -0.3378269321122739,
          -0.2872816214010255,
          0.09021167266536759,
          1.9916614315099455,
          -0.9203501904153832,
          1.9932576734555514,
          1.190820979890536,
          0.7591670480729559,
          -0.9322613470150776,
          -0.04972199823331805,
          1.2685856210555648,
          1.5879259973556699,
          -0.567128573474692,
          -2.1942346439385063,
          -0.4559241878544287,
          1.0321820388276353,
          -1.2718987011182359,
          -1.2386551206807364,
          -2.194211747720904,
          -0.5258492859793686,
          -0.6653282837542511,
          -1.3988028138784063,
          -0.07260478095047099,
          -0.28642094085208936,
          -0.11457773635910108,
          -0.1095433105850815,
          0.9750875884483519,
          0.8374465307982316,
          -0.739274852671829,
          0.3157117587684143,
          -0.1715446808230524,
          -1.941469789403776,
          -0.8593008608200065,
          1.0567482570657265,
          -1.9320398455863936,
          0.2594822932774328,
          -0.39301308706656246,
          0.4491389194589242,
          -0.5943834464300685,
          -1.6205742737788318,
          0.6117521209297304,
          -1.276327824115349,
          0.4086695638455752,
          0.24793326266283466,
          -0.4612398992086352,
          1.472207033963178,
          -1.8432937178256399,
          0.331853571779341,
          -0.14425338478943614,
          -0.05413105300153619,
          2.319362187084283,
          0.7674645302272454,
          0.6023945964221519,
          0.09769810203503486,
          1.4595133621459795,
          0.5577801094920947,
          -0.8161165385921015,
          -0.20283106200073736,
          1.0814223714895106,
          -0.9390927760332309,
          -0.7014055677825115,
          -0.26483222934057704,
          0.2563524393956336,
          1.066269844507545,
          0.8834240698541156,
          -0.7106341632582636,
          -0.4401823764634333,
          0.9603374413953691,
          -0.04706661324449886,
          -0.32082510121876906,
          0.22690521984675313,
          0.5580555659912436,
          -0.097048566746413,
          1.7196848303305123,
          0.1334024173581546,
          -1.3154871382832112,
          -0.9863034014659603,
          -1.0446233980609223,
          2.755130001029382,
          -0.19396822225672392,
          -1.0333488219739275,
          0.37272339170574764,
          1.0054492152613619,
          1.266420601741147,
          -2.1026940491604966,
          0.5587347491572473,
          -1.26564189608967,
          1.2365667571795178,
          0.4093624285717989
         ]
        }
       ],
       "layout": {
        "barmode": "overlay",
        "legend": {
         "bgcolor": "#F5F6F9",
         "font": {
          "color": "#4D5663"
         }
        },
        "paper_bgcolor": "#F5F6F9",
        "plot_bgcolor": "#F5F6F9",
        "template": {
         "data": {
          "bar": [
           {
            "error_x": {
             "color": "#2a3f5f"
            },
            "error_y": {
             "color": "#2a3f5f"
            },
            "marker": {
             "line": {
              "color": "#E5ECF6",
              "width": 0.5
             },
             "pattern": {
              "fillmode": "overlay",
              "size": 10,
              "solidity": 0.2
             }
            },
            "type": "bar"
           }
          ],
          "barpolar": [
           {
            "marker": {
             "line": {
              "color": "#E5ECF6",
              "width": 0.5
             },
             "pattern": {
              "fillmode": "overlay",
              "size": 10,
              "solidity": 0.2
             }
            },
            "type": "barpolar"
           }
          ],
          "carpet": [
           {
            "aaxis": {
             "endlinecolor": "#2a3f5f",
             "gridcolor": "white",
             "linecolor": "white",
             "minorgridcolor": "white",
             "startlinecolor": "#2a3f5f"
            },
            "baxis": {
             "endlinecolor": "#2a3f5f",
             "gridcolor": "white",
             "linecolor": "white",
             "minorgridcolor": "white",
             "startlinecolor": "#2a3f5f"
            },
            "type": "carpet"
           }
          ],
          "choropleth": [
           {
            "colorbar": {
             "outlinewidth": 0,
             "ticks": ""
            },
            "type": "choropleth"
           }
          ],
          "contour": [
           {
            "colorbar": {
             "outlinewidth": 0,
             "ticks": ""
            },
            "colorscale": [
             [
              0,
              "#0d0887"
             ],
             [
              0.1111111111111111,
              "#46039f"
             ],
             [
              0.2222222222222222,
              "#7201a8"
             ],
             [
              0.3333333333333333,
              "#9c179e"
             ],
             [
              0.4444444444444444,
              "#bd3786"
             ],
             [
              0.5555555555555556,
              "#d8576b"
             ],
             [
              0.6666666666666666,
              "#ed7953"
             ],
             [
              0.7777777777777778,
              "#fb9f3a"
             ],
             [
              0.8888888888888888,
              "#fdca26"
             ],
             [
              1,
              "#f0f921"
             ]
            ],
            "type": "contour"
           }
          ],
          "contourcarpet": [
           {
            "colorbar": {
             "outlinewidth": 0,
             "ticks": ""
            },
            "type": "contourcarpet"
           }
          ],
          "heatmap": [
           {
            "colorbar": {
             "outlinewidth": 0,
             "ticks": ""
            },
            "colorscale": [
             [
              0,
              "#0d0887"
             ],
             [
              0.1111111111111111,
              "#46039f"
             ],
             [
              0.2222222222222222,
              "#7201a8"
             ],
             [
              0.3333333333333333,
              "#9c179e"
             ],
             [
              0.4444444444444444,
              "#bd3786"
             ],
             [
              0.5555555555555556,
              "#d8576b"
             ],
             [
              0.6666666666666666,
              "#ed7953"
             ],
             [
              0.7777777777777778,
              "#fb9f3a"
             ],
             [
              0.8888888888888888,
              "#fdca26"
             ],
             [
              1,
              "#f0f921"
             ]
            ],
            "type": "heatmap"
           }
          ],
          "heatmapgl": [
           {
            "colorbar": {
             "outlinewidth": 0,
             "ticks": ""
            },
            "colorscale": [
             [
              0,
              "#0d0887"
             ],
             [
              0.1111111111111111,
              "#46039f"
             ],
             [
              0.2222222222222222,
              "#7201a8"
             ],
             [
              0.3333333333333333,
              "#9c179e"
             ],
             [
              0.4444444444444444,
              "#bd3786"
             ],
             [
              0.5555555555555556,
              "#d8576b"
             ],
             [
              0.6666666666666666,
              "#ed7953"
             ],
             [
              0.7777777777777778,
              "#fb9f3a"
             ],
             [
              0.8888888888888888,
              "#fdca26"
             ],
             [
              1,
              "#f0f921"
             ]
            ],
            "type": "heatmapgl"
           }
          ],
          "histogram": [
           {
            "marker": {
             "pattern": {
              "fillmode": "overlay",
              "size": 10,
              "solidity": 0.2
             }
            },
            "type": "histogram"
           }
          ],
          "histogram2d": [
           {
            "colorbar": {
             "outlinewidth": 0,
             "ticks": ""
            },
            "colorscale": [
             [
              0,
              "#0d0887"
             ],
             [
              0.1111111111111111,
              "#46039f"
             ],
             [
              0.2222222222222222,
              "#7201a8"
             ],
             [
              0.3333333333333333,
              "#9c179e"
             ],
             [
              0.4444444444444444,
              "#bd3786"
             ],
             [
              0.5555555555555556,
              "#d8576b"
             ],
             [
              0.6666666666666666,
              "#ed7953"
             ],
             [
              0.7777777777777778,
              "#fb9f3a"
             ],
             [
              0.8888888888888888,
              "#fdca26"
             ],
             [
              1,
              "#f0f921"
             ]
            ],
            "type": "histogram2d"
           }
          ],
          "histogram2dcontour": [
           {
            "colorbar": {
             "outlinewidth": 0,
             "ticks": ""
            },
            "colorscale": [
             [
              0,
              "#0d0887"
             ],
             [
              0.1111111111111111,
              "#46039f"
             ],
             [
              0.2222222222222222,
              "#7201a8"
             ],
             [
              0.3333333333333333,
              "#9c179e"
             ],
             [
              0.4444444444444444,
              "#bd3786"
             ],
             [
              0.5555555555555556,
              "#d8576b"
             ],
             [
              0.6666666666666666,
              "#ed7953"
             ],
             [
              0.7777777777777778,
              "#fb9f3a"
             ],
             [
              0.8888888888888888,
              "#fdca26"
             ],
             [
              1,
              "#f0f921"
             ]
            ],
            "type": "histogram2dcontour"
           }
          ],
          "mesh3d": [
           {
            "colorbar": {
             "outlinewidth": 0,
             "ticks": ""
            },
            "type": "mesh3d"
           }
          ],
          "parcoords": [
           {
            "line": {
             "colorbar": {
              "outlinewidth": 0,
              "ticks": ""
             }
            },
            "type": "parcoords"
           }
          ],
          "pie": [
           {
            "automargin": true,
            "type": "pie"
           }
          ],
          "scatter": [
           {
            "marker": {
             "colorbar": {
              "outlinewidth": 0,
              "ticks": ""
             }
            },
            "type": "scatter"
           }
          ],
          "scatter3d": [
           {
            "line": {
             "colorbar": {
              "outlinewidth": 0,
              "ticks": ""
             }
            },
            "marker": {
             "colorbar": {
              "outlinewidth": 0,
              "ticks": ""
             }
            },
            "type": "scatter3d"
           }
          ],
          "scattercarpet": [
           {
            "marker": {
             "colorbar": {
              "outlinewidth": 0,
              "ticks": ""
             }
            },
            "type": "scattercarpet"
           }
          ],
          "scattergeo": [
           {
            "marker": {
             "colorbar": {
              "outlinewidth": 0,
              "ticks": ""
             }
            },
            "type": "scattergeo"
           }
          ],
          "scattergl": [
           {
            "marker": {
             "colorbar": {
              "outlinewidth": 0,
              "ticks": ""
             }
            },
            "type": "scattergl"
           }
          ],
          "scattermapbox": [
           {
            "marker": {
             "colorbar": {
              "outlinewidth": 0,
              "ticks": ""
             }
            },
            "type": "scattermapbox"
           }
          ],
          "scatterpolar": [
           {
            "marker": {
             "colorbar": {
              "outlinewidth": 0,
              "ticks": ""
             }
            },
            "type": "scatterpolar"
           }
          ],
          "scatterpolargl": [
           {
            "marker": {
             "colorbar": {
              "outlinewidth": 0,
              "ticks": ""
             }
            },
            "type": "scatterpolargl"
           }
          ],
          "scatterternary": [
           {
            "marker": {
             "colorbar": {
              "outlinewidth": 0,
              "ticks": ""
             }
            },
            "type": "scatterternary"
           }
          ],
          "surface": [
           {
            "colorbar": {
             "outlinewidth": 0,
             "ticks": ""
            },
            "colorscale": [
             [
              0,
              "#0d0887"
             ],
             [
              0.1111111111111111,
              "#46039f"
             ],
             [
              0.2222222222222222,
              "#7201a8"
             ],
             [
              0.3333333333333333,
              "#9c179e"
             ],
             [
              0.4444444444444444,
              "#bd3786"
             ],
             [
              0.5555555555555556,
              "#d8576b"
             ],
             [
              0.6666666666666666,
              "#ed7953"
             ],
             [
              0.7777777777777778,
              "#fb9f3a"
             ],
             [
              0.8888888888888888,
              "#fdca26"
             ],
             [
              1,
              "#f0f921"
             ]
            ],
            "type": "surface"
           }
          ],
          "table": [
           {
            "cells": {
             "fill": {
              "color": "#EBF0F8"
             },
             "line": {
              "color": "white"
             }
            },
            "header": {
             "fill": {
              "color": "#C8D4E3"
             },
             "line": {
              "color": "white"
             }
            },
            "type": "table"
           }
          ]
         },
         "layout": {
          "annotationdefaults": {
           "arrowcolor": "#2a3f5f",
           "arrowhead": 0,
           "arrowwidth": 1
          },
          "autotypenumbers": "strict",
          "coloraxis": {
           "colorbar": {
            "outlinewidth": 0,
            "ticks": ""
           }
          },
          "colorscale": {
           "diverging": [
            [
             0,
             "#8e0152"
            ],
            [
             0.1,
             "#c51b7d"
            ],
            [
             0.2,
             "#de77ae"
            ],
            [
             0.3,
             "#f1b6da"
            ],
            [
             0.4,
             "#fde0ef"
            ],
            [
             0.5,
             "#f7f7f7"
            ],
            [
             0.6,
             "#e6f5d0"
            ],
            [
             0.7,
             "#b8e186"
            ],
            [
             0.8,
             "#7fbc41"
            ],
            [
             0.9,
             "#4d9221"
            ],
            [
             1,
             "#276419"
            ]
           ],
           "sequential": [
            [
             0,
             "#0d0887"
            ],
            [
             0.1111111111111111,
             "#46039f"
            ],
            [
             0.2222222222222222,
             "#7201a8"
            ],
            [
             0.3333333333333333,
             "#9c179e"
            ],
            [
             0.4444444444444444,
             "#bd3786"
            ],
            [
             0.5555555555555556,
             "#d8576b"
            ],
            [
             0.6666666666666666,
             "#ed7953"
            ],
            [
             0.7777777777777778,
             "#fb9f3a"
            ],
            [
             0.8888888888888888,
             "#fdca26"
            ],
            [
             1,
             "#f0f921"
            ]
           ],
           "sequentialminus": [
            [
             0,
             "#0d0887"
            ],
            [
             0.1111111111111111,
             "#46039f"
            ],
            [
             0.2222222222222222,
             "#7201a8"
            ],
            [
             0.3333333333333333,
             "#9c179e"
            ],
            [
             0.4444444444444444,
             "#bd3786"
            ],
            [
             0.5555555555555556,
             "#d8576b"
            ],
            [
             0.6666666666666666,
             "#ed7953"
            ],
            [
             0.7777777777777778,
             "#fb9f3a"
            ],
            [
             0.8888888888888888,
             "#fdca26"
            ],
            [
             1,
             "#f0f921"
            ]
           ]
          },
          "colorway": [
           "#636efa",
           "#EF553B",
           "#00cc96",
           "#ab63fa",
           "#FFA15A",
           "#19d3f3",
           "#FF6692",
           "#B6E880",
           "#FF97FF",
           "#FECB52"
          ],
          "font": {
           "color": "#2a3f5f"
          },
          "geo": {
           "bgcolor": "white",
           "lakecolor": "white",
           "landcolor": "#E5ECF6",
           "showlakes": true,
           "showland": true,
           "subunitcolor": "white"
          },
          "hoverlabel": {
           "align": "left"
          },
          "hovermode": "closest",
          "mapbox": {
           "style": "light"
          },
          "paper_bgcolor": "white",
          "plot_bgcolor": "#E5ECF6",
          "polar": {
           "angularaxis": {
            "gridcolor": "white",
            "linecolor": "white",
            "ticks": ""
           },
           "bgcolor": "#E5ECF6",
           "radialaxis": {
            "gridcolor": "white",
            "linecolor": "white",
            "ticks": ""
           }
          },
          "scene": {
           "xaxis": {
            "backgroundcolor": "#E5ECF6",
            "gridcolor": "white",
            "gridwidth": 2,
            "linecolor": "white",
            "showbackground": true,
            "ticks": "",
            "zerolinecolor": "white"
           },
           "yaxis": {
            "backgroundcolor": "#E5ECF6",
            "gridcolor": "white",
            "gridwidth": 2,
            "linecolor": "white",
            "showbackground": true,
            "ticks": "",
            "zerolinecolor": "white"
           },
           "zaxis": {
            "backgroundcolor": "#E5ECF6",
            "gridcolor": "white",
            "gridwidth": 2,
            "linecolor": "white",
            "showbackground": true,
            "ticks": "",
            "zerolinecolor": "white"
           }
          },
          "shapedefaults": {
           "line": {
            "color": "#2a3f5f"
           }
          },
          "ternary": {
           "aaxis": {
            "gridcolor": "white",
            "linecolor": "white",
            "ticks": ""
           },
           "baxis": {
            "gridcolor": "white",
            "linecolor": "white",
            "ticks": ""
           },
           "bgcolor": "#E5ECF6",
           "caxis": {
            "gridcolor": "white",
            "linecolor": "white",
            "ticks": ""
           }
          },
          "title": {
           "x": 0.05
          },
          "xaxis": {
           "automargin": true,
           "gridcolor": "white",
           "linecolor": "white",
           "ticks": "",
           "title": {
            "standoff": 15
           },
           "zerolinecolor": "white",
           "zerolinewidth": 2
          },
          "yaxis": {
           "automargin": true,
           "gridcolor": "white",
           "linecolor": "white",
           "ticks": "",
           "title": {
            "standoff": 15
           },
           "zerolinecolor": "white",
           "zerolinewidth": 2
          }
         }
        },
        "title": {
         "font": {
          "color": "#4D5663"
         }
        },
        "xaxis": {
         "gridcolor": "#E1E5ED",
         "showgrid": true,
         "tickfont": {
          "color": "#4D5663"
         },
         "title": {
          "font": {
           "color": "#4D5663"
          },
          "text": ""
         },
         "zerolinecolor": "#E1E5ED"
        },
        "yaxis": {
         "gridcolor": "#E1E5ED",
         "showgrid": true,
         "tickfont": {
          "color": "#4D5663"
         },
         "title": {
          "font": {
           "color": "#4D5663"
          },
          "text": ""
         },
         "zerolinecolor": "#E1E5ED"
        }
       }
      },
      "text/html": [
       "<div>                            <div id=\"b889edd0-2f39-4072-8b97-f3dc0adc76af\" class=\"plotly-graph-div\" style=\"height:525px; width:100%;\"></div>            <script type=\"text/javascript\">                require([\"plotly\"], function(Plotly) {                    window.PLOTLYENV=window.PLOTLYENV || {};\n",
       "                    window.PLOTLYENV.BASE_URL='https://plotly.com';                                    if (document.getElementById(\"b889edd0-2f39-4072-8b97-f3dc0adc76af\")) {                    Plotly.newPlot(                        \"b889edd0-2f39-4072-8b97-f3dc0adc76af\",                        [{\"histfunc\":\"count\",\"histnorm\":\"\",\"marker\":{\"color\":\"rgba(255, 153, 51, 1.0)\",\"line\":{\"color\":\"#4D5663\",\"width\":1.3}},\"name\":\"A\",\"nbinsx\":25,\"opacity\":0.8,\"orientation\":\"v\",\"x\":[0.2540205165143539,0.21018287468404354,-1.417366523418028,1.4355964054891057,0.6438156084526279,-0.48992682332332516,2.089603407589297,-0.24037244272897193,0.22741612429678598,-0.43388743074207914,-0.17474693590151122,-0.3378269321122739,-0.2872816214010255,0.09021167266536759,1.9916614315099455,-0.9203501904153832,1.9932576734555514,1.190820979890536,0.7591670480729559,-0.9322613470150776,-0.04972199823331805,1.2685856210555648,1.5879259973556699,-0.567128573474692,-2.1942346439385063,-0.4559241878544287,1.0321820388276353,-1.2718987011182359,-1.2386551206807364,-2.194211747720904,-0.5258492859793686,-0.6653282837542511,-1.3988028138784063,-0.07260478095047099,-0.28642094085208936,-0.11457773635910108,-0.1095433105850815,0.9750875884483519,0.8374465307982316,-0.739274852671829,0.3157117587684143,-0.1715446808230524,-1.941469789403776,-0.8593008608200065,1.0567482570657265,-1.9320398455863936,0.2594822932774328,-0.39301308706656246,0.4491389194589242,-0.5943834464300685,-1.6205742737788318,0.6117521209297304,-1.276327824115349,0.4086695638455752,0.24793326266283466,-0.4612398992086352,1.472207033963178,-1.8432937178256399,0.331853571779341,-0.14425338478943614,-0.05413105300153619,2.319362187084283,0.7674645302272454,0.6023945964221519,0.09769810203503486,1.4595133621459795,0.5577801094920947,-0.8161165385921015,-0.20283106200073736,1.0814223714895106,-0.9390927760332309,-0.7014055677825115,-0.26483222934057704,0.2563524393956336,1.066269844507545,0.8834240698541156,-0.7106341632582636,-0.4401823764634333,0.9603374413953691,-0.04706661324449886,-0.32082510121876906,0.22690521984675313,0.5580555659912436,-0.097048566746413,1.7196848303305123,0.1334024173581546,-1.3154871382832112,-0.9863034014659603,-1.0446233980609223,2.755130001029382,-0.19396822225672392,-1.0333488219739275,0.37272339170574764,1.0054492152613619,1.266420601741147,-2.1026940491604966,0.5587347491572473,-1.26564189608967,1.2365667571795178,0.4093624285717989],\"type\":\"histogram\"}],                        {\"barmode\":\"overlay\",\"legend\":{\"bgcolor\":\"#F5F6F9\",\"font\":{\"color\":\"#4D5663\"}},\"paper_bgcolor\":\"#F5F6F9\",\"plot_bgcolor\":\"#F5F6F9\",\"template\":{\"data\":{\"barpolar\":[{\"marker\":{\"line\":{\"color\":\"#E5ECF6\",\"width\":0.5},\"pattern\":{\"fillmode\":\"overlay\",\"size\":10,\"solidity\":0.2}},\"type\":\"barpolar\"}],\"bar\":[{\"error_x\":{\"color\":\"#2a3f5f\"},\"error_y\":{\"color\":\"#2a3f5f\"},\"marker\":{\"line\":{\"color\":\"#E5ECF6\",\"width\":0.5},\"pattern\":{\"fillmode\":\"overlay\",\"size\":10,\"solidity\":0.2}},\"type\":\"bar\"}],\"carpet\":[{\"aaxis\":{\"endlinecolor\":\"#2a3f5f\",\"gridcolor\":\"white\",\"linecolor\":\"white\",\"minorgridcolor\":\"white\",\"startlinecolor\":\"#2a3f5f\"},\"baxis\":{\"endlinecolor\":\"#2a3f5f\",\"gridcolor\":\"white\",\"linecolor\":\"white\",\"minorgridcolor\":\"white\",\"startlinecolor\":\"#2a3f5f\"},\"type\":\"carpet\"}],\"choropleth\":[{\"colorbar\":{\"outlinewidth\":0,\"ticks\":\"\"},\"type\":\"choropleth\"}],\"contourcarpet\":[{\"colorbar\":{\"outlinewidth\":0,\"ticks\":\"\"},\"type\":\"contourcarpet\"}],\"contour\":[{\"colorbar\":{\"outlinewidth\":0,\"ticks\":\"\"},\"colorscale\":[[0.0,\"#0d0887\"],[0.1111111111111111,\"#46039f\"],[0.2222222222222222,\"#7201a8\"],[0.3333333333333333,\"#9c179e\"],[0.4444444444444444,\"#bd3786\"],[0.5555555555555556,\"#d8576b\"],[0.6666666666666666,\"#ed7953\"],[0.7777777777777778,\"#fb9f3a\"],[0.8888888888888888,\"#fdca26\"],[1.0,\"#f0f921\"]],\"type\":\"contour\"}],\"heatmapgl\":[{\"colorbar\":{\"outlinewidth\":0,\"ticks\":\"\"},\"colorscale\":[[0.0,\"#0d0887\"],[0.1111111111111111,\"#46039f\"],[0.2222222222222222,\"#7201a8\"],[0.3333333333333333,\"#9c179e\"],[0.4444444444444444,\"#bd3786\"],[0.5555555555555556,\"#d8576b\"],[0.6666666666666666,\"#ed7953\"],[0.7777777777777778,\"#fb9f3a\"],[0.8888888888888888,\"#fdca26\"],[1.0,\"#f0f921\"]],\"type\":\"heatmapgl\"}],\"heatmap\":[{\"colorbar\":{\"outlinewidth\":0,\"ticks\":\"\"},\"colorscale\":[[0.0,\"#0d0887\"],[0.1111111111111111,\"#46039f\"],[0.2222222222222222,\"#7201a8\"],[0.3333333333333333,\"#9c179e\"],[0.4444444444444444,\"#bd3786\"],[0.5555555555555556,\"#d8576b\"],[0.6666666666666666,\"#ed7953\"],[0.7777777777777778,\"#fb9f3a\"],[0.8888888888888888,\"#fdca26\"],[1.0,\"#f0f921\"]],\"type\":\"heatmap\"}],\"histogram2dcontour\":[{\"colorbar\":{\"outlinewidth\":0,\"ticks\":\"\"},\"colorscale\":[[0.0,\"#0d0887\"],[0.1111111111111111,\"#46039f\"],[0.2222222222222222,\"#7201a8\"],[0.3333333333333333,\"#9c179e\"],[0.4444444444444444,\"#bd3786\"],[0.5555555555555556,\"#d8576b\"],[0.6666666666666666,\"#ed7953\"],[0.7777777777777778,\"#fb9f3a\"],[0.8888888888888888,\"#fdca26\"],[1.0,\"#f0f921\"]],\"type\":\"histogram2dcontour\"}],\"histogram2d\":[{\"colorbar\":{\"outlinewidth\":0,\"ticks\":\"\"},\"colorscale\":[[0.0,\"#0d0887\"],[0.1111111111111111,\"#46039f\"],[0.2222222222222222,\"#7201a8\"],[0.3333333333333333,\"#9c179e\"],[0.4444444444444444,\"#bd3786\"],[0.5555555555555556,\"#d8576b\"],[0.6666666666666666,\"#ed7953\"],[0.7777777777777778,\"#fb9f3a\"],[0.8888888888888888,\"#fdca26\"],[1.0,\"#f0f921\"]],\"type\":\"histogram2d\"}],\"histogram\":[{\"marker\":{\"pattern\":{\"fillmode\":\"overlay\",\"size\":10,\"solidity\":0.2}},\"type\":\"histogram\"}],\"mesh3d\":[{\"colorbar\":{\"outlinewidth\":0,\"ticks\":\"\"},\"type\":\"mesh3d\"}],\"parcoords\":[{\"line\":{\"colorbar\":{\"outlinewidth\":0,\"ticks\":\"\"}},\"type\":\"parcoords\"}],\"pie\":[{\"automargin\":true,\"type\":\"pie\"}],\"scatter3d\":[{\"line\":{\"colorbar\":{\"outlinewidth\":0,\"ticks\":\"\"}},\"marker\":{\"colorbar\":{\"outlinewidth\":0,\"ticks\":\"\"}},\"type\":\"scatter3d\"}],\"scattercarpet\":[{\"marker\":{\"colorbar\":{\"outlinewidth\":0,\"ticks\":\"\"}},\"type\":\"scattercarpet\"}],\"scattergeo\":[{\"marker\":{\"colorbar\":{\"outlinewidth\":0,\"ticks\":\"\"}},\"type\":\"scattergeo\"}],\"scattergl\":[{\"marker\":{\"colorbar\":{\"outlinewidth\":0,\"ticks\":\"\"}},\"type\":\"scattergl\"}],\"scattermapbox\":[{\"marker\":{\"colorbar\":{\"outlinewidth\":0,\"ticks\":\"\"}},\"type\":\"scattermapbox\"}],\"scatterpolargl\":[{\"marker\":{\"colorbar\":{\"outlinewidth\":0,\"ticks\":\"\"}},\"type\":\"scatterpolargl\"}],\"scatterpolar\":[{\"marker\":{\"colorbar\":{\"outlinewidth\":0,\"ticks\":\"\"}},\"type\":\"scatterpolar\"}],\"scatter\":[{\"marker\":{\"colorbar\":{\"outlinewidth\":0,\"ticks\":\"\"}},\"type\":\"scatter\"}],\"scatterternary\":[{\"marker\":{\"colorbar\":{\"outlinewidth\":0,\"ticks\":\"\"}},\"type\":\"scatterternary\"}],\"surface\":[{\"colorbar\":{\"outlinewidth\":0,\"ticks\":\"\"},\"colorscale\":[[0.0,\"#0d0887\"],[0.1111111111111111,\"#46039f\"],[0.2222222222222222,\"#7201a8\"],[0.3333333333333333,\"#9c179e\"],[0.4444444444444444,\"#bd3786\"],[0.5555555555555556,\"#d8576b\"],[0.6666666666666666,\"#ed7953\"],[0.7777777777777778,\"#fb9f3a\"],[0.8888888888888888,\"#fdca26\"],[1.0,\"#f0f921\"]],\"type\":\"surface\"}],\"table\":[{\"cells\":{\"fill\":{\"color\":\"#EBF0F8\"},\"line\":{\"color\":\"white\"}},\"header\":{\"fill\":{\"color\":\"#C8D4E3\"},\"line\":{\"color\":\"white\"}},\"type\":\"table\"}]},\"layout\":{\"annotationdefaults\":{\"arrowcolor\":\"#2a3f5f\",\"arrowhead\":0,\"arrowwidth\":1},\"autotypenumbers\":\"strict\",\"coloraxis\":{\"colorbar\":{\"outlinewidth\":0,\"ticks\":\"\"}},\"colorscale\":{\"diverging\":[[0,\"#8e0152\"],[0.1,\"#c51b7d\"],[0.2,\"#de77ae\"],[0.3,\"#f1b6da\"],[0.4,\"#fde0ef\"],[0.5,\"#f7f7f7\"],[0.6,\"#e6f5d0\"],[0.7,\"#b8e186\"],[0.8,\"#7fbc41\"],[0.9,\"#4d9221\"],[1,\"#276419\"]],\"sequential\":[[0.0,\"#0d0887\"],[0.1111111111111111,\"#46039f\"],[0.2222222222222222,\"#7201a8\"],[0.3333333333333333,\"#9c179e\"],[0.4444444444444444,\"#bd3786\"],[0.5555555555555556,\"#d8576b\"],[0.6666666666666666,\"#ed7953\"],[0.7777777777777778,\"#fb9f3a\"],[0.8888888888888888,\"#fdca26\"],[1.0,\"#f0f921\"]],\"sequentialminus\":[[0.0,\"#0d0887\"],[0.1111111111111111,\"#46039f\"],[0.2222222222222222,\"#7201a8\"],[0.3333333333333333,\"#9c179e\"],[0.4444444444444444,\"#bd3786\"],[0.5555555555555556,\"#d8576b\"],[0.6666666666666666,\"#ed7953\"],[0.7777777777777778,\"#fb9f3a\"],[0.8888888888888888,\"#fdca26\"],[1.0,\"#f0f921\"]]},\"colorway\":[\"#636efa\",\"#EF553B\",\"#00cc96\",\"#ab63fa\",\"#FFA15A\",\"#19d3f3\",\"#FF6692\",\"#B6E880\",\"#FF97FF\",\"#FECB52\"],\"font\":{\"color\":\"#2a3f5f\"},\"geo\":{\"bgcolor\":\"white\",\"lakecolor\":\"white\",\"landcolor\":\"#E5ECF6\",\"showlakes\":true,\"showland\":true,\"subunitcolor\":\"white\"},\"hoverlabel\":{\"align\":\"left\"},\"hovermode\":\"closest\",\"mapbox\":{\"style\":\"light\"},\"paper_bgcolor\":\"white\",\"plot_bgcolor\":\"#E5ECF6\",\"polar\":{\"angularaxis\":{\"gridcolor\":\"white\",\"linecolor\":\"white\",\"ticks\":\"\"},\"bgcolor\":\"#E5ECF6\",\"radialaxis\":{\"gridcolor\":\"white\",\"linecolor\":\"white\",\"ticks\":\"\"}},\"scene\":{\"xaxis\":{\"backgroundcolor\":\"#E5ECF6\",\"gridcolor\":\"white\",\"gridwidth\":2,\"linecolor\":\"white\",\"showbackground\":true,\"ticks\":\"\",\"zerolinecolor\":\"white\"},\"yaxis\":{\"backgroundcolor\":\"#E5ECF6\",\"gridcolor\":\"white\",\"gridwidth\":2,\"linecolor\":\"white\",\"showbackground\":true,\"ticks\":\"\",\"zerolinecolor\":\"white\"},\"zaxis\":{\"backgroundcolor\":\"#E5ECF6\",\"gridcolor\":\"white\",\"gridwidth\":2,\"linecolor\":\"white\",\"showbackground\":true,\"ticks\":\"\",\"zerolinecolor\":\"white\"}},\"shapedefaults\":{\"line\":{\"color\":\"#2a3f5f\"}},\"ternary\":{\"aaxis\":{\"gridcolor\":\"white\",\"linecolor\":\"white\",\"ticks\":\"\"},\"baxis\":{\"gridcolor\":\"white\",\"linecolor\":\"white\",\"ticks\":\"\"},\"bgcolor\":\"#E5ECF6\",\"caxis\":{\"gridcolor\":\"white\",\"linecolor\":\"white\",\"ticks\":\"\"}},\"title\":{\"x\":0.05},\"xaxis\":{\"automargin\":true,\"gridcolor\":\"white\",\"linecolor\":\"white\",\"ticks\":\"\",\"title\":{\"standoff\":15},\"zerolinecolor\":\"white\",\"zerolinewidth\":2},\"yaxis\":{\"automargin\":true,\"gridcolor\":\"white\",\"linecolor\":\"white\",\"ticks\":\"\",\"title\":{\"standoff\":15},\"zerolinecolor\":\"white\",\"zerolinewidth\":2}}},\"title\":{\"font\":{\"color\":\"#4D5663\"}},\"xaxis\":{\"gridcolor\":\"#E1E5ED\",\"showgrid\":true,\"tickfont\":{\"color\":\"#4D5663\"},\"title\":{\"font\":{\"color\":\"#4D5663\"},\"text\":\"\"},\"zerolinecolor\":\"#E1E5ED\"},\"yaxis\":{\"gridcolor\":\"#E1E5ED\",\"showgrid\":true,\"tickfont\":{\"color\":\"#4D5663\"},\"title\":{\"font\":{\"color\":\"#4D5663\"},\"text\":\"\"},\"zerolinecolor\":\"#E1E5ED\"}},                        {\"showLink\": true, \"linkText\": \"Export to plotly.com\", \"plotlyServerURL\": \"https://plotly.com\", \"responsive\": true}                    ).then(function(){\n",
       "                            \n",
       "var gd = document.getElementById('b889edd0-2f39-4072-8b97-f3dc0adc76af');\n",
       "var x = new MutationObserver(function (mutations, observer) {{\n",
       "        var display = window.getComputedStyle(gd).display;\n",
       "        if (!display || display === 'none') {{\n",
       "            console.log([gd, 'removed!']);\n",
       "            Plotly.purge(gd);\n",
       "            observer.disconnect();\n",
       "        }}\n",
       "}});\n",
       "\n",
       "// Listen for the removal of the full notebook cells\n",
       "var notebookContainer = gd.closest('#notebook-container');\n",
       "if (notebookContainer) {{\n",
       "    x.observe(notebookContainer, {childList: true});\n",
       "}}\n",
       "\n",
       "// Listen for the clearing of the current output cell\n",
       "var outputEl = gd.closest('.output');\n",
       "if (outputEl) {{\n",
       "    x.observe(outputEl, {childList: true});\n",
       "}}\n",
       "\n",
       "                        })                };                });            </script>        </div>"
      ]
     },
     "metadata": {},
     "output_type": "display_data"
    }
   ],
   "source": [
    "df['A'].iplot(kind='hist',bins=25)"
   ]
  },
  {
   "cell_type": "code",
   "execution_count": 38,
   "metadata": {},
   "outputs": [
    {
     "data": {
      "application/vnd.plotly.v1+json": {
       "config": {
        "linkText": "Export to plotly.com",
        "plotlyServerURL": "https://plotly.com",
        "showLink": true
       },
       "data": [
        {
         "marker": {
          "color": [
           "rgb(255, 153, 51)",
           "rgb(55, 128, 191)",
           "rgb(50, 171, 96)",
           "rgb(128, 0, 128)",
           "rgb(219, 64, 82)",
           "rgb(0, 128, 128)",
           "rgb(255, 255, 51)",
           "rgb(128, 128, 0)",
           "rgb(251, 128, 114)",
           "rgb(128, 177, 211)"
          ],
          "line": {
           "width": 1.3
          },
          "size": [
           87,
           43,
           58,
           89,
           62,
           76,
           88,
           68,
           104,
           68,
           92,
           45,
           75,
           85,
           74,
           99,
           76,
           55,
           71,
           30,
           87,
           96,
           66,
           70,
           74,
           62,
           48,
           69,
           69,
           62,
           55,
           90,
           86,
           90,
           88,
           89,
           101,
           66,
           72,
           82,
           59,
           87,
           77,
           53,
           70,
           104,
           88,
           48,
           69,
           86,
           102,
           67,
           64,
           15,
           75,
           112,
           69,
           83,
           69,
           96,
           79,
           49,
           68,
           60,
           56,
           95,
           68,
           50,
           64,
           34,
           66,
           79,
           67,
           58,
           77,
           70,
           92,
           89,
           20,
           69,
           76,
           61,
           104,
           66,
           73,
           74,
           77,
           98,
           62,
           74,
           34,
           51,
           55,
           58,
           12,
           58,
           104,
           53,
           59,
           100
          ],
          "symbol": "circle"
         },
         "mode": "markers",
         "text": "",
         "type": "scatter",
         "x": [
          0.2540205165143539,
          0.21018287468404354,
          -1.417366523418028,
          1.4355964054891057,
          0.6438156084526279,
          -0.48992682332332516,
          2.089603407589297,
          -0.24037244272897193,
          0.22741612429678598,
          -0.43388743074207914,
          -0.17474693590151122,
          -0.3378269321122739,
          -0.2872816214010255,
          0.09021167266536759,
          1.9916614315099455,
          -0.9203501904153832,
          1.9932576734555514,
          1.190820979890536,
          0.7591670480729559,
          -0.9322613470150776,
          -0.04972199823331805,
          1.2685856210555648,
          1.5879259973556699,
          -0.567128573474692,
          -2.1942346439385063,
          -0.4559241878544287,
          1.0321820388276353,
          -1.2718987011182359,
          -1.2386551206807364,
          -2.194211747720904,
          -0.5258492859793686,
          -0.6653282837542511,
          -1.3988028138784063,
          -0.07260478095047099,
          -0.28642094085208936,
          -0.11457773635910108,
          -0.1095433105850815,
          0.9750875884483519,
          0.8374465307982316,
          -0.739274852671829,
          0.3157117587684143,
          -0.1715446808230524,
          -1.941469789403776,
          -0.8593008608200065,
          1.0567482570657265,
          -1.9320398455863936,
          0.2594822932774328,
          -0.39301308706656246,
          0.4491389194589242,
          -0.5943834464300685,
          -1.6205742737788318,
          0.6117521209297304,
          -1.276327824115349,
          0.4086695638455752,
          0.24793326266283466,
          -0.4612398992086352,
          1.472207033963178,
          -1.8432937178256399,
          0.331853571779341,
          -0.14425338478943614,
          -0.05413105300153619,
          2.319362187084283,
          0.7674645302272454,
          0.6023945964221519,
          0.09769810203503486,
          1.4595133621459795,
          0.5577801094920947,
          -0.8161165385921015,
          -0.20283106200073736,
          1.0814223714895106,
          -0.9390927760332309,
          -0.7014055677825115,
          -0.26483222934057704,
          0.2563524393956336,
          1.066269844507545,
          0.8834240698541156,
          -0.7106341632582636,
          -0.4401823764634333,
          0.9603374413953691,
          -0.04706661324449886,
          -0.32082510121876906,
          0.22690521984675313,
          0.5580555659912436,
          -0.097048566746413,
          1.7196848303305123,
          0.1334024173581546,
          -1.3154871382832112,
          -0.9863034014659603,
          -1.0446233980609223,
          2.755130001029382,
          -0.19396822225672392,
          -1.0333488219739275,
          0.37272339170574764,
          1.0054492152613619,
          1.266420601741147,
          -2.1026940491604966,
          0.5587347491572473,
          -1.26564189608967,
          1.2365667571795178,
          0.4093624285717989
         ],
         "y": [
          1.160825800152867,
          0.49616468992605606,
          0.07383583694545158,
          0.2327336021717852,
          -0.5017316173158699,
          0.8035594113553268,
          -0.28453246467477783,
          -0.915122676714964,
          -1.0386383838201863,
          -1.9952568867431326,
          0.09036591505575159,
          1.155948073431354,
          -0.42889040391045663,
          -1.2389704786006113,
          0.48118016142863945,
          1.0226046516596001,
          0.7398795059007436,
          0.37427404601920805,
          -1.7494103233808207,
          -0.9193506297259831,
          0.8887150557163451,
          0.9103962137297099,
          0.8947662724723978,
          0.06129563149484737,
          0.12002325193346794,
          -0.676796697112064,
          0.06093394366571922,
          -0.5640148151417872,
          0.81707423120743,
          0.6769766088966667,
          1.0441711359096393,
          0.8152504059983663,
          -0.39786853228590585,
          0.6599657173835193,
          0.5442907815797696,
          -0.2911291866765822,
          0.25500617713030627,
          -0.8331171412221349,
          -0.8620206840215854,
          0.04307721553350601,
          -1.215724201505668,
          0.12782065868375267,
          -2.145446215905343,
          -1.2319037363163725,
          -0.45930560794346414,
          -0.21250766872033242,
          -0.39804764478120985,
          -1.007422616587833,
          -0.9847119868129514,
          0.561732278632458,
          -1.14933123553313,
          1.6418957813050432,
          -1.2876584947792657,
          -0.03539282053918007,
          1.362381345433245,
          -0.6291386847202808,
          1.898930581889669,
          -0.6149912505025651,
          2.3034710611983304,
          -0.21226266974932004,
          -0.44847316876586585,
          -0.85303319669474,
          0.39684829882784267,
          -0.39090798457724035,
          1.3631512954306748,
          0.38249503712678984,
          -0.7742515439820427,
          -1.203847854965608,
          1.0115904667778681,
          0.3616426794426263,
          1.4846748175633453,
          0.9654302865010991,
          1.4562869848628681,
          -0.8177914063638103,
          -0.2730370368057006,
          0.6358807484449549,
          -0.7820612964596657,
          0.29823457797888253,
          0.39283832766839666,
          0.5285082098876401,
          1.3226836756728508,
          1.6636775870661122,
          0.5170672228134581,
          0.824798069948975,
          -0.46265991994032685,
          -0.10433027741652127,
          0.2690776010702887,
          1.3276291696627414,
          1.4619005839703703,
          0.06670553461973262,
          1.2367949690978866,
          -1.6728464542712906,
          0.41956646947819315,
          1.0213475908554128,
          1.4010211872247769,
          0.7057004386030941,
          -0.8740541643155307,
          -0.08067153622956262,
          -0.8096141021027465,
          1.2860139723173836
         ]
        }
       ],
       "layout": {
        "legend": {
         "bgcolor": "#F5F6F9",
         "font": {
          "color": "#4D5663"
         }
        },
        "paper_bgcolor": "#F5F6F9",
        "plot_bgcolor": "#F5F6F9",
        "template": {
         "data": {
          "bar": [
           {
            "error_x": {
             "color": "#2a3f5f"
            },
            "error_y": {
             "color": "#2a3f5f"
            },
            "marker": {
             "line": {
              "color": "#E5ECF6",
              "width": 0.5
             },
             "pattern": {
              "fillmode": "overlay",
              "size": 10,
              "solidity": 0.2
             }
            },
            "type": "bar"
           }
          ],
          "barpolar": [
           {
            "marker": {
             "line": {
              "color": "#E5ECF6",
              "width": 0.5
             },
             "pattern": {
              "fillmode": "overlay",
              "size": 10,
              "solidity": 0.2
             }
            },
            "type": "barpolar"
           }
          ],
          "carpet": [
           {
            "aaxis": {
             "endlinecolor": "#2a3f5f",
             "gridcolor": "white",
             "linecolor": "white",
             "minorgridcolor": "white",
             "startlinecolor": "#2a3f5f"
            },
            "baxis": {
             "endlinecolor": "#2a3f5f",
             "gridcolor": "white",
             "linecolor": "white",
             "minorgridcolor": "white",
             "startlinecolor": "#2a3f5f"
            },
            "type": "carpet"
           }
          ],
          "choropleth": [
           {
            "colorbar": {
             "outlinewidth": 0,
             "ticks": ""
            },
            "type": "choropleth"
           }
          ],
          "contour": [
           {
            "colorbar": {
             "outlinewidth": 0,
             "ticks": ""
            },
            "colorscale": [
             [
              0,
              "#0d0887"
             ],
             [
              0.1111111111111111,
              "#46039f"
             ],
             [
              0.2222222222222222,
              "#7201a8"
             ],
             [
              0.3333333333333333,
              "#9c179e"
             ],
             [
              0.4444444444444444,
              "#bd3786"
             ],
             [
              0.5555555555555556,
              "#d8576b"
             ],
             [
              0.6666666666666666,
              "#ed7953"
             ],
             [
              0.7777777777777778,
              "#fb9f3a"
             ],
             [
              0.8888888888888888,
              "#fdca26"
             ],
             [
              1,
              "#f0f921"
             ]
            ],
            "type": "contour"
           }
          ],
          "contourcarpet": [
           {
            "colorbar": {
             "outlinewidth": 0,
             "ticks": ""
            },
            "type": "contourcarpet"
           }
          ],
          "heatmap": [
           {
            "colorbar": {
             "outlinewidth": 0,
             "ticks": ""
            },
            "colorscale": [
             [
              0,
              "#0d0887"
             ],
             [
              0.1111111111111111,
              "#46039f"
             ],
             [
              0.2222222222222222,
              "#7201a8"
             ],
             [
              0.3333333333333333,
              "#9c179e"
             ],
             [
              0.4444444444444444,
              "#bd3786"
             ],
             [
              0.5555555555555556,
              "#d8576b"
             ],
             [
              0.6666666666666666,
              "#ed7953"
             ],
             [
              0.7777777777777778,
              "#fb9f3a"
             ],
             [
              0.8888888888888888,
              "#fdca26"
             ],
             [
              1,
              "#f0f921"
             ]
            ],
            "type": "heatmap"
           }
          ],
          "heatmapgl": [
           {
            "colorbar": {
             "outlinewidth": 0,
             "ticks": ""
            },
            "colorscale": [
             [
              0,
              "#0d0887"
             ],
             [
              0.1111111111111111,
              "#46039f"
             ],
             [
              0.2222222222222222,
              "#7201a8"
             ],
             [
              0.3333333333333333,
              "#9c179e"
             ],
             [
              0.4444444444444444,
              "#bd3786"
             ],
             [
              0.5555555555555556,
              "#d8576b"
             ],
             [
              0.6666666666666666,
              "#ed7953"
             ],
             [
              0.7777777777777778,
              "#fb9f3a"
             ],
             [
              0.8888888888888888,
              "#fdca26"
             ],
             [
              1,
              "#f0f921"
             ]
            ],
            "type": "heatmapgl"
           }
          ],
          "histogram": [
           {
            "marker": {
             "pattern": {
              "fillmode": "overlay",
              "size": 10,
              "solidity": 0.2
             }
            },
            "type": "histogram"
           }
          ],
          "histogram2d": [
           {
            "colorbar": {
             "outlinewidth": 0,
             "ticks": ""
            },
            "colorscale": [
             [
              0,
              "#0d0887"
             ],
             [
              0.1111111111111111,
              "#46039f"
             ],
             [
              0.2222222222222222,
              "#7201a8"
             ],
             [
              0.3333333333333333,
              "#9c179e"
             ],
             [
              0.4444444444444444,
              "#bd3786"
             ],
             [
              0.5555555555555556,
              "#d8576b"
             ],
             [
              0.6666666666666666,
              "#ed7953"
             ],
             [
              0.7777777777777778,
              "#fb9f3a"
             ],
             [
              0.8888888888888888,
              "#fdca26"
             ],
             [
              1,
              "#f0f921"
             ]
            ],
            "type": "histogram2d"
           }
          ],
          "histogram2dcontour": [
           {
            "colorbar": {
             "outlinewidth": 0,
             "ticks": ""
            },
            "colorscale": [
             [
              0,
              "#0d0887"
             ],
             [
              0.1111111111111111,
              "#46039f"
             ],
             [
              0.2222222222222222,
              "#7201a8"
             ],
             [
              0.3333333333333333,
              "#9c179e"
             ],
             [
              0.4444444444444444,
              "#bd3786"
             ],
             [
              0.5555555555555556,
              "#d8576b"
             ],
             [
              0.6666666666666666,
              "#ed7953"
             ],
             [
              0.7777777777777778,
              "#fb9f3a"
             ],
             [
              0.8888888888888888,
              "#fdca26"
             ],
             [
              1,
              "#f0f921"
             ]
            ],
            "type": "histogram2dcontour"
           }
          ],
          "mesh3d": [
           {
            "colorbar": {
             "outlinewidth": 0,
             "ticks": ""
            },
            "type": "mesh3d"
           }
          ],
          "parcoords": [
           {
            "line": {
             "colorbar": {
              "outlinewidth": 0,
              "ticks": ""
             }
            },
            "type": "parcoords"
           }
          ],
          "pie": [
           {
            "automargin": true,
            "type": "pie"
           }
          ],
          "scatter": [
           {
            "marker": {
             "colorbar": {
              "outlinewidth": 0,
              "ticks": ""
             }
            },
            "type": "scatter"
           }
          ],
          "scatter3d": [
           {
            "line": {
             "colorbar": {
              "outlinewidth": 0,
              "ticks": ""
             }
            },
            "marker": {
             "colorbar": {
              "outlinewidth": 0,
              "ticks": ""
             }
            },
            "type": "scatter3d"
           }
          ],
          "scattercarpet": [
           {
            "marker": {
             "colorbar": {
              "outlinewidth": 0,
              "ticks": ""
             }
            },
            "type": "scattercarpet"
           }
          ],
          "scattergeo": [
           {
            "marker": {
             "colorbar": {
              "outlinewidth": 0,
              "ticks": ""
             }
            },
            "type": "scattergeo"
           }
          ],
          "scattergl": [
           {
            "marker": {
             "colorbar": {
              "outlinewidth": 0,
              "ticks": ""
             }
            },
            "type": "scattergl"
           }
          ],
          "scattermapbox": [
           {
            "marker": {
             "colorbar": {
              "outlinewidth": 0,
              "ticks": ""
             }
            },
            "type": "scattermapbox"
           }
          ],
          "scatterpolar": [
           {
            "marker": {
             "colorbar": {
              "outlinewidth": 0,
              "ticks": ""
             }
            },
            "type": "scatterpolar"
           }
          ],
          "scatterpolargl": [
           {
            "marker": {
             "colorbar": {
              "outlinewidth": 0,
              "ticks": ""
             }
            },
            "type": "scatterpolargl"
           }
          ],
          "scatterternary": [
           {
            "marker": {
             "colorbar": {
              "outlinewidth": 0,
              "ticks": ""
             }
            },
            "type": "scatterternary"
           }
          ],
          "surface": [
           {
            "colorbar": {
             "outlinewidth": 0,
             "ticks": ""
            },
            "colorscale": [
             [
              0,
              "#0d0887"
             ],
             [
              0.1111111111111111,
              "#46039f"
             ],
             [
              0.2222222222222222,
              "#7201a8"
             ],
             [
              0.3333333333333333,
              "#9c179e"
             ],
             [
              0.4444444444444444,
              "#bd3786"
             ],
             [
              0.5555555555555556,
              "#d8576b"
             ],
             [
              0.6666666666666666,
              "#ed7953"
             ],
             [
              0.7777777777777778,
              "#fb9f3a"
             ],
             [
              0.8888888888888888,
              "#fdca26"
             ],
             [
              1,
              "#f0f921"
             ]
            ],
            "type": "surface"
           }
          ],
          "table": [
           {
            "cells": {
             "fill": {
              "color": "#EBF0F8"
             },
             "line": {
              "color": "white"
             }
            },
            "header": {
             "fill": {
              "color": "#C8D4E3"
             },
             "line": {
              "color": "white"
             }
            },
            "type": "table"
           }
          ]
         },
         "layout": {
          "annotationdefaults": {
           "arrowcolor": "#2a3f5f",
           "arrowhead": 0,
           "arrowwidth": 1
          },
          "autotypenumbers": "strict",
          "coloraxis": {
           "colorbar": {
            "outlinewidth": 0,
            "ticks": ""
           }
          },
          "colorscale": {
           "diverging": [
            [
             0,
             "#8e0152"
            ],
            [
             0.1,
             "#c51b7d"
            ],
            [
             0.2,
             "#de77ae"
            ],
            [
             0.3,
             "#f1b6da"
            ],
            [
             0.4,
             "#fde0ef"
            ],
            [
             0.5,
             "#f7f7f7"
            ],
            [
             0.6,
             "#e6f5d0"
            ],
            [
             0.7,
             "#b8e186"
            ],
            [
             0.8,
             "#7fbc41"
            ],
            [
             0.9,
             "#4d9221"
            ],
            [
             1,
             "#276419"
            ]
           ],
           "sequential": [
            [
             0,
             "#0d0887"
            ],
            [
             0.1111111111111111,
             "#46039f"
            ],
            [
             0.2222222222222222,
             "#7201a8"
            ],
            [
             0.3333333333333333,
             "#9c179e"
            ],
            [
             0.4444444444444444,
             "#bd3786"
            ],
            [
             0.5555555555555556,
             "#d8576b"
            ],
            [
             0.6666666666666666,
             "#ed7953"
            ],
            [
             0.7777777777777778,
             "#fb9f3a"
            ],
            [
             0.8888888888888888,
             "#fdca26"
            ],
            [
             1,
             "#f0f921"
            ]
           ],
           "sequentialminus": [
            [
             0,
             "#0d0887"
            ],
            [
             0.1111111111111111,
             "#46039f"
            ],
            [
             0.2222222222222222,
             "#7201a8"
            ],
            [
             0.3333333333333333,
             "#9c179e"
            ],
            [
             0.4444444444444444,
             "#bd3786"
            ],
            [
             0.5555555555555556,
             "#d8576b"
            ],
            [
             0.6666666666666666,
             "#ed7953"
            ],
            [
             0.7777777777777778,
             "#fb9f3a"
            ],
            [
             0.8888888888888888,
             "#fdca26"
            ],
            [
             1,
             "#f0f921"
            ]
           ]
          },
          "colorway": [
           "#636efa",
           "#EF553B",
           "#00cc96",
           "#ab63fa",
           "#FFA15A",
           "#19d3f3",
           "#FF6692",
           "#B6E880",
           "#FF97FF",
           "#FECB52"
          ],
          "font": {
           "color": "#2a3f5f"
          },
          "geo": {
           "bgcolor": "white",
           "lakecolor": "white",
           "landcolor": "#E5ECF6",
           "showlakes": true,
           "showland": true,
           "subunitcolor": "white"
          },
          "hoverlabel": {
           "align": "left"
          },
          "hovermode": "closest",
          "mapbox": {
           "style": "light"
          },
          "paper_bgcolor": "white",
          "plot_bgcolor": "#E5ECF6",
          "polar": {
           "angularaxis": {
            "gridcolor": "white",
            "linecolor": "white",
            "ticks": ""
           },
           "bgcolor": "#E5ECF6",
           "radialaxis": {
            "gridcolor": "white",
            "linecolor": "white",
            "ticks": ""
           }
          },
          "scene": {
           "xaxis": {
            "backgroundcolor": "#E5ECF6",
            "gridcolor": "white",
            "gridwidth": 2,
            "linecolor": "white",
            "showbackground": true,
            "ticks": "",
            "zerolinecolor": "white"
           },
           "yaxis": {
            "backgroundcolor": "#E5ECF6",
            "gridcolor": "white",
            "gridwidth": 2,
            "linecolor": "white",
            "showbackground": true,
            "ticks": "",
            "zerolinecolor": "white"
           },
           "zaxis": {
            "backgroundcolor": "#E5ECF6",
            "gridcolor": "white",
            "gridwidth": 2,
            "linecolor": "white",
            "showbackground": true,
            "ticks": "",
            "zerolinecolor": "white"
           }
          },
          "shapedefaults": {
           "line": {
            "color": "#2a3f5f"
           }
          },
          "ternary": {
           "aaxis": {
            "gridcolor": "white",
            "linecolor": "white",
            "ticks": ""
           },
           "baxis": {
            "gridcolor": "white",
            "linecolor": "white",
            "ticks": ""
           },
           "bgcolor": "#E5ECF6",
           "caxis": {
            "gridcolor": "white",
            "linecolor": "white",
            "ticks": ""
           }
          },
          "title": {
           "x": 0.05
          },
          "xaxis": {
           "automargin": true,
           "gridcolor": "white",
           "linecolor": "white",
           "ticks": "",
           "title": {
            "standoff": 15
           },
           "zerolinecolor": "white",
           "zerolinewidth": 2
          },
          "yaxis": {
           "automargin": true,
           "gridcolor": "white",
           "linecolor": "white",
           "ticks": "",
           "title": {
            "standoff": 15
           },
           "zerolinecolor": "white",
           "zerolinewidth": 2
          }
         }
        },
        "title": {
         "font": {
          "color": "#4D5663"
         }
        },
        "xaxis": {
         "gridcolor": "#E1E5ED",
         "showgrid": true,
         "tickfont": {
          "color": "#4D5663"
         },
         "title": {
          "font": {
           "color": "#4D5663"
          },
          "text": ""
         },
         "zerolinecolor": "#E1E5ED"
        },
        "yaxis": {
         "gridcolor": "#E1E5ED",
         "showgrid": true,
         "tickfont": {
          "color": "#4D5663"
         },
         "title": {
          "font": {
           "color": "#4D5663"
          },
          "text": ""
         },
         "zerolinecolor": "#E1E5ED"
        }
       }
      },
      "text/html": [
       "<div>                            <div id=\"9e846fa1-a2af-4b6c-9ba6-53eefd9971d4\" class=\"plotly-graph-div\" style=\"height:525px; width:100%;\"></div>            <script type=\"text/javascript\">                require([\"plotly\"], function(Plotly) {                    window.PLOTLYENV=window.PLOTLYENV || {};\n",
       "                    window.PLOTLYENV.BASE_URL='https://plotly.com';                                    if (document.getElementById(\"9e846fa1-a2af-4b6c-9ba6-53eefd9971d4\")) {                    Plotly.newPlot(                        \"9e846fa1-a2af-4b6c-9ba6-53eefd9971d4\",                        [{\"marker\":{\"color\":[\"rgb(255, 153, 51)\",\"rgb(55, 128, 191)\",\"rgb(50, 171, 96)\",\"rgb(128, 0, 128)\",\"rgb(219, 64, 82)\",\"rgb(0, 128, 128)\",\"rgb(255, 255, 51)\",\"rgb(128, 128, 0)\",\"rgb(251, 128, 114)\",\"rgb(128, 177, 211)\"],\"line\":{\"width\":1.3},\"size\":[87,43,58,89,62,76,88,68,104,68,92,45,75,85,74,99,76,55,71,30,87,96,66,70,74,62,48,69,69,62,55,90,86,90,88,89,101,66,72,82,59,87,77,53,70,104,88,48,69,86,102,67,64,15,75,112,69,83,69,96,79,49,68,60,56,95,68,50,64,34,66,79,67,58,77,70,92,89,20,69,76,61,104,66,73,74,77,98,62,74,34,51,55,58,12,58,104,53,59,100],\"symbol\":\"circle\"},\"mode\":\"markers\",\"text\":\"\",\"x\":[0.2540205165143539,0.21018287468404354,-1.417366523418028,1.4355964054891057,0.6438156084526279,-0.48992682332332516,2.089603407589297,-0.24037244272897193,0.22741612429678598,-0.43388743074207914,-0.17474693590151122,-0.3378269321122739,-0.2872816214010255,0.09021167266536759,1.9916614315099455,-0.9203501904153832,1.9932576734555514,1.190820979890536,0.7591670480729559,-0.9322613470150776,-0.04972199823331805,1.2685856210555648,1.5879259973556699,-0.567128573474692,-2.1942346439385063,-0.4559241878544287,1.0321820388276353,-1.2718987011182359,-1.2386551206807364,-2.194211747720904,-0.5258492859793686,-0.6653282837542511,-1.3988028138784063,-0.07260478095047099,-0.28642094085208936,-0.11457773635910108,-0.1095433105850815,0.9750875884483519,0.8374465307982316,-0.739274852671829,0.3157117587684143,-0.1715446808230524,-1.941469789403776,-0.8593008608200065,1.0567482570657265,-1.9320398455863936,0.2594822932774328,-0.39301308706656246,0.4491389194589242,-0.5943834464300685,-1.6205742737788318,0.6117521209297304,-1.276327824115349,0.4086695638455752,0.24793326266283466,-0.4612398992086352,1.472207033963178,-1.8432937178256399,0.331853571779341,-0.14425338478943614,-0.05413105300153619,2.319362187084283,0.7674645302272454,0.6023945964221519,0.09769810203503486,1.4595133621459795,0.5577801094920947,-0.8161165385921015,-0.20283106200073736,1.0814223714895106,-0.9390927760332309,-0.7014055677825115,-0.26483222934057704,0.2563524393956336,1.066269844507545,0.8834240698541156,-0.7106341632582636,-0.4401823764634333,0.9603374413953691,-0.04706661324449886,-0.32082510121876906,0.22690521984675313,0.5580555659912436,-0.097048566746413,1.7196848303305123,0.1334024173581546,-1.3154871382832112,-0.9863034014659603,-1.0446233980609223,2.755130001029382,-0.19396822225672392,-1.0333488219739275,0.37272339170574764,1.0054492152613619,1.266420601741147,-2.1026940491604966,0.5587347491572473,-1.26564189608967,1.2365667571795178,0.4093624285717989],\"y\":[1.160825800152867,0.49616468992605606,0.07383583694545158,0.2327336021717852,-0.5017316173158699,0.8035594113553268,-0.28453246467477783,-0.915122676714964,-1.0386383838201863,-1.9952568867431326,0.09036591505575159,1.155948073431354,-0.42889040391045663,-1.2389704786006113,0.48118016142863945,1.0226046516596001,0.7398795059007436,0.37427404601920805,-1.7494103233808207,-0.9193506297259831,0.8887150557163451,0.9103962137297099,0.8947662724723978,0.06129563149484737,0.12002325193346794,-0.676796697112064,0.06093394366571922,-0.5640148151417872,0.81707423120743,0.6769766088966667,1.0441711359096393,0.8152504059983663,-0.39786853228590585,0.6599657173835193,0.5442907815797696,-0.2911291866765822,0.25500617713030627,-0.8331171412221349,-0.8620206840215854,0.04307721553350601,-1.215724201505668,0.12782065868375267,-2.145446215905343,-1.2319037363163725,-0.45930560794346414,-0.21250766872033242,-0.39804764478120985,-1.007422616587833,-0.9847119868129514,0.561732278632458,-1.14933123553313,1.6418957813050432,-1.2876584947792657,-0.03539282053918007,1.362381345433245,-0.6291386847202808,1.898930581889669,-0.6149912505025651,2.3034710611983304,-0.21226266974932004,-0.44847316876586585,-0.85303319669474,0.39684829882784267,-0.39090798457724035,1.3631512954306748,0.38249503712678984,-0.7742515439820427,-1.203847854965608,1.0115904667778681,0.3616426794426263,1.4846748175633453,0.9654302865010991,1.4562869848628681,-0.8177914063638103,-0.2730370368057006,0.6358807484449549,-0.7820612964596657,0.29823457797888253,0.39283832766839666,0.5285082098876401,1.3226836756728508,1.6636775870661122,0.5170672228134581,0.824798069948975,-0.46265991994032685,-0.10433027741652127,0.2690776010702887,1.3276291696627414,1.4619005839703703,0.06670553461973262,1.2367949690978866,-1.6728464542712906,0.41956646947819315,1.0213475908554128,1.4010211872247769,0.7057004386030941,-0.8740541643155307,-0.08067153622956262,-0.8096141021027465,1.2860139723173836],\"type\":\"scatter\"}],                        {\"legend\":{\"bgcolor\":\"#F5F6F9\",\"font\":{\"color\":\"#4D5663\"}},\"paper_bgcolor\":\"#F5F6F9\",\"plot_bgcolor\":\"#F5F6F9\",\"template\":{\"data\":{\"barpolar\":[{\"marker\":{\"line\":{\"color\":\"#E5ECF6\",\"width\":0.5},\"pattern\":{\"fillmode\":\"overlay\",\"size\":10,\"solidity\":0.2}},\"type\":\"barpolar\"}],\"bar\":[{\"error_x\":{\"color\":\"#2a3f5f\"},\"error_y\":{\"color\":\"#2a3f5f\"},\"marker\":{\"line\":{\"color\":\"#E5ECF6\",\"width\":0.5},\"pattern\":{\"fillmode\":\"overlay\",\"size\":10,\"solidity\":0.2}},\"type\":\"bar\"}],\"carpet\":[{\"aaxis\":{\"endlinecolor\":\"#2a3f5f\",\"gridcolor\":\"white\",\"linecolor\":\"white\",\"minorgridcolor\":\"white\",\"startlinecolor\":\"#2a3f5f\"},\"baxis\":{\"endlinecolor\":\"#2a3f5f\",\"gridcolor\":\"white\",\"linecolor\":\"white\",\"minorgridcolor\":\"white\",\"startlinecolor\":\"#2a3f5f\"},\"type\":\"carpet\"}],\"choropleth\":[{\"colorbar\":{\"outlinewidth\":0,\"ticks\":\"\"},\"type\":\"choropleth\"}],\"contourcarpet\":[{\"colorbar\":{\"outlinewidth\":0,\"ticks\":\"\"},\"type\":\"contourcarpet\"}],\"contour\":[{\"colorbar\":{\"outlinewidth\":0,\"ticks\":\"\"},\"colorscale\":[[0.0,\"#0d0887\"],[0.1111111111111111,\"#46039f\"],[0.2222222222222222,\"#7201a8\"],[0.3333333333333333,\"#9c179e\"],[0.4444444444444444,\"#bd3786\"],[0.5555555555555556,\"#d8576b\"],[0.6666666666666666,\"#ed7953\"],[0.7777777777777778,\"#fb9f3a\"],[0.8888888888888888,\"#fdca26\"],[1.0,\"#f0f921\"]],\"type\":\"contour\"}],\"heatmapgl\":[{\"colorbar\":{\"outlinewidth\":0,\"ticks\":\"\"},\"colorscale\":[[0.0,\"#0d0887\"],[0.1111111111111111,\"#46039f\"],[0.2222222222222222,\"#7201a8\"],[0.3333333333333333,\"#9c179e\"],[0.4444444444444444,\"#bd3786\"],[0.5555555555555556,\"#d8576b\"],[0.6666666666666666,\"#ed7953\"],[0.7777777777777778,\"#fb9f3a\"],[0.8888888888888888,\"#fdca26\"],[1.0,\"#f0f921\"]],\"type\":\"heatmapgl\"}],\"heatmap\":[{\"colorbar\":{\"outlinewidth\":0,\"ticks\":\"\"},\"colorscale\":[[0.0,\"#0d0887\"],[0.1111111111111111,\"#46039f\"],[0.2222222222222222,\"#7201a8\"],[0.3333333333333333,\"#9c179e\"],[0.4444444444444444,\"#bd3786\"],[0.5555555555555556,\"#d8576b\"],[0.6666666666666666,\"#ed7953\"],[0.7777777777777778,\"#fb9f3a\"],[0.8888888888888888,\"#fdca26\"],[1.0,\"#f0f921\"]],\"type\":\"heatmap\"}],\"histogram2dcontour\":[{\"colorbar\":{\"outlinewidth\":0,\"ticks\":\"\"},\"colorscale\":[[0.0,\"#0d0887\"],[0.1111111111111111,\"#46039f\"],[0.2222222222222222,\"#7201a8\"],[0.3333333333333333,\"#9c179e\"],[0.4444444444444444,\"#bd3786\"],[0.5555555555555556,\"#d8576b\"],[0.6666666666666666,\"#ed7953\"],[0.7777777777777778,\"#fb9f3a\"],[0.8888888888888888,\"#fdca26\"],[1.0,\"#f0f921\"]],\"type\":\"histogram2dcontour\"}],\"histogram2d\":[{\"colorbar\":{\"outlinewidth\":0,\"ticks\":\"\"},\"colorscale\":[[0.0,\"#0d0887\"],[0.1111111111111111,\"#46039f\"],[0.2222222222222222,\"#7201a8\"],[0.3333333333333333,\"#9c179e\"],[0.4444444444444444,\"#bd3786\"],[0.5555555555555556,\"#d8576b\"],[0.6666666666666666,\"#ed7953\"],[0.7777777777777778,\"#fb9f3a\"],[0.8888888888888888,\"#fdca26\"],[1.0,\"#f0f921\"]],\"type\":\"histogram2d\"}],\"histogram\":[{\"marker\":{\"pattern\":{\"fillmode\":\"overlay\",\"size\":10,\"solidity\":0.2}},\"type\":\"histogram\"}],\"mesh3d\":[{\"colorbar\":{\"outlinewidth\":0,\"ticks\":\"\"},\"type\":\"mesh3d\"}],\"parcoords\":[{\"line\":{\"colorbar\":{\"outlinewidth\":0,\"ticks\":\"\"}},\"type\":\"parcoords\"}],\"pie\":[{\"automargin\":true,\"type\":\"pie\"}],\"scatter3d\":[{\"line\":{\"colorbar\":{\"outlinewidth\":0,\"ticks\":\"\"}},\"marker\":{\"colorbar\":{\"outlinewidth\":0,\"ticks\":\"\"}},\"type\":\"scatter3d\"}],\"scattercarpet\":[{\"marker\":{\"colorbar\":{\"outlinewidth\":0,\"ticks\":\"\"}},\"type\":\"scattercarpet\"}],\"scattergeo\":[{\"marker\":{\"colorbar\":{\"outlinewidth\":0,\"ticks\":\"\"}},\"type\":\"scattergeo\"}],\"scattergl\":[{\"marker\":{\"colorbar\":{\"outlinewidth\":0,\"ticks\":\"\"}},\"type\":\"scattergl\"}],\"scattermapbox\":[{\"marker\":{\"colorbar\":{\"outlinewidth\":0,\"ticks\":\"\"}},\"type\":\"scattermapbox\"}],\"scatterpolargl\":[{\"marker\":{\"colorbar\":{\"outlinewidth\":0,\"ticks\":\"\"}},\"type\":\"scatterpolargl\"}],\"scatterpolar\":[{\"marker\":{\"colorbar\":{\"outlinewidth\":0,\"ticks\":\"\"}},\"type\":\"scatterpolar\"}],\"scatter\":[{\"marker\":{\"colorbar\":{\"outlinewidth\":0,\"ticks\":\"\"}},\"type\":\"scatter\"}],\"scatterternary\":[{\"marker\":{\"colorbar\":{\"outlinewidth\":0,\"ticks\":\"\"}},\"type\":\"scatterternary\"}],\"surface\":[{\"colorbar\":{\"outlinewidth\":0,\"ticks\":\"\"},\"colorscale\":[[0.0,\"#0d0887\"],[0.1111111111111111,\"#46039f\"],[0.2222222222222222,\"#7201a8\"],[0.3333333333333333,\"#9c179e\"],[0.4444444444444444,\"#bd3786\"],[0.5555555555555556,\"#d8576b\"],[0.6666666666666666,\"#ed7953\"],[0.7777777777777778,\"#fb9f3a\"],[0.8888888888888888,\"#fdca26\"],[1.0,\"#f0f921\"]],\"type\":\"surface\"}],\"table\":[{\"cells\":{\"fill\":{\"color\":\"#EBF0F8\"},\"line\":{\"color\":\"white\"}},\"header\":{\"fill\":{\"color\":\"#C8D4E3\"},\"line\":{\"color\":\"white\"}},\"type\":\"table\"}]},\"layout\":{\"annotationdefaults\":{\"arrowcolor\":\"#2a3f5f\",\"arrowhead\":0,\"arrowwidth\":1},\"autotypenumbers\":\"strict\",\"coloraxis\":{\"colorbar\":{\"outlinewidth\":0,\"ticks\":\"\"}},\"colorscale\":{\"diverging\":[[0,\"#8e0152\"],[0.1,\"#c51b7d\"],[0.2,\"#de77ae\"],[0.3,\"#f1b6da\"],[0.4,\"#fde0ef\"],[0.5,\"#f7f7f7\"],[0.6,\"#e6f5d0\"],[0.7,\"#b8e186\"],[0.8,\"#7fbc41\"],[0.9,\"#4d9221\"],[1,\"#276419\"]],\"sequential\":[[0.0,\"#0d0887\"],[0.1111111111111111,\"#46039f\"],[0.2222222222222222,\"#7201a8\"],[0.3333333333333333,\"#9c179e\"],[0.4444444444444444,\"#bd3786\"],[0.5555555555555556,\"#d8576b\"],[0.6666666666666666,\"#ed7953\"],[0.7777777777777778,\"#fb9f3a\"],[0.8888888888888888,\"#fdca26\"],[1.0,\"#f0f921\"]],\"sequentialminus\":[[0.0,\"#0d0887\"],[0.1111111111111111,\"#46039f\"],[0.2222222222222222,\"#7201a8\"],[0.3333333333333333,\"#9c179e\"],[0.4444444444444444,\"#bd3786\"],[0.5555555555555556,\"#d8576b\"],[0.6666666666666666,\"#ed7953\"],[0.7777777777777778,\"#fb9f3a\"],[0.8888888888888888,\"#fdca26\"],[1.0,\"#f0f921\"]]},\"colorway\":[\"#636efa\",\"#EF553B\",\"#00cc96\",\"#ab63fa\",\"#FFA15A\",\"#19d3f3\",\"#FF6692\",\"#B6E880\",\"#FF97FF\",\"#FECB52\"],\"font\":{\"color\":\"#2a3f5f\"},\"geo\":{\"bgcolor\":\"white\",\"lakecolor\":\"white\",\"landcolor\":\"#E5ECF6\",\"showlakes\":true,\"showland\":true,\"subunitcolor\":\"white\"},\"hoverlabel\":{\"align\":\"left\"},\"hovermode\":\"closest\",\"mapbox\":{\"style\":\"light\"},\"paper_bgcolor\":\"white\",\"plot_bgcolor\":\"#E5ECF6\",\"polar\":{\"angularaxis\":{\"gridcolor\":\"white\",\"linecolor\":\"white\",\"ticks\":\"\"},\"bgcolor\":\"#E5ECF6\",\"radialaxis\":{\"gridcolor\":\"white\",\"linecolor\":\"white\",\"ticks\":\"\"}},\"scene\":{\"xaxis\":{\"backgroundcolor\":\"#E5ECF6\",\"gridcolor\":\"white\",\"gridwidth\":2,\"linecolor\":\"white\",\"showbackground\":true,\"ticks\":\"\",\"zerolinecolor\":\"white\"},\"yaxis\":{\"backgroundcolor\":\"#E5ECF6\",\"gridcolor\":\"white\",\"gridwidth\":2,\"linecolor\":\"white\",\"showbackground\":true,\"ticks\":\"\",\"zerolinecolor\":\"white\"},\"zaxis\":{\"backgroundcolor\":\"#E5ECF6\",\"gridcolor\":\"white\",\"gridwidth\":2,\"linecolor\":\"white\",\"showbackground\":true,\"ticks\":\"\",\"zerolinecolor\":\"white\"}},\"shapedefaults\":{\"line\":{\"color\":\"#2a3f5f\"}},\"ternary\":{\"aaxis\":{\"gridcolor\":\"white\",\"linecolor\":\"white\",\"ticks\":\"\"},\"baxis\":{\"gridcolor\":\"white\",\"linecolor\":\"white\",\"ticks\":\"\"},\"bgcolor\":\"#E5ECF6\",\"caxis\":{\"gridcolor\":\"white\",\"linecolor\":\"white\",\"ticks\":\"\"}},\"title\":{\"x\":0.05},\"xaxis\":{\"automargin\":true,\"gridcolor\":\"white\",\"linecolor\":\"white\",\"ticks\":\"\",\"title\":{\"standoff\":15},\"zerolinecolor\":\"white\",\"zerolinewidth\":2},\"yaxis\":{\"automargin\":true,\"gridcolor\":\"white\",\"linecolor\":\"white\",\"ticks\":\"\",\"title\":{\"standoff\":15},\"zerolinecolor\":\"white\",\"zerolinewidth\":2}}},\"title\":{\"font\":{\"color\":\"#4D5663\"}},\"xaxis\":{\"gridcolor\":\"#E1E5ED\",\"showgrid\":true,\"tickfont\":{\"color\":\"#4D5663\"},\"title\":{\"font\":{\"color\":\"#4D5663\"},\"text\":\"\"},\"zerolinecolor\":\"#E1E5ED\"},\"yaxis\":{\"gridcolor\":\"#E1E5ED\",\"showgrid\":true,\"tickfont\":{\"color\":\"#4D5663\"},\"title\":{\"font\":{\"color\":\"#4D5663\"},\"text\":\"\"},\"zerolinecolor\":\"#E1E5ED\"}},                        {\"showLink\": true, \"linkText\": \"Export to plotly.com\", \"plotlyServerURL\": \"https://plotly.com\", \"responsive\": true}                    ).then(function(){\n",
       "                            \n",
       "var gd = document.getElementById('9e846fa1-a2af-4b6c-9ba6-53eefd9971d4');\n",
       "var x = new MutationObserver(function (mutations, observer) {{\n",
       "        var display = window.getComputedStyle(gd).display;\n",
       "        if (!display || display === 'none') {{\n",
       "            console.log([gd, 'removed!']);\n",
       "            Plotly.purge(gd);\n",
       "            observer.disconnect();\n",
       "        }}\n",
       "}});\n",
       "\n",
       "// Listen for the removal of the full notebook cells\n",
       "var notebookContainer = gd.closest('#notebook-container');\n",
       "if (notebookContainer) {{\n",
       "    x.observe(notebookContainer, {childList: true});\n",
       "}}\n",
       "\n",
       "// Listen for the clearing of the current output cell\n",
       "var outputEl = gd.closest('.output');\n",
       "if (outputEl) {{\n",
       "    x.observe(outputEl, {childList: true});\n",
       "}}\n",
       "\n",
       "                        })                };                });            </script>        </div>"
      ]
     },
     "metadata": {},
     "output_type": "display_data"
    }
   ],
   "source": [
    "df.iplot(kind='bubble',x='A',y='B',size='C')"
   ]
  },
  {
   "cell_type": "markdown",
   "metadata": {},
   "source": [
    "## scatter_matrix()\n",
    "\n",
    "Similar to sns.pairplot()"
   ]
  },
  {
   "cell_type": "code",
   "execution_count": 40,
   "metadata": {},
   "outputs": [
    {
     "data": {
      "application/vnd.plotly.v1+json": {
       "config": {
        "linkText": "Export to plotly.com",
        "plotlyServerURL": "https://plotly.com",
        "showLink": true
       },
       "data": [
        {
         "histfunc": "count",
         "histnorm": "",
         "marker": {
          "color": "rgba(255, 153, 51, 1.0)",
          "line": {
           "color": "#4D5663",
           "width": 1.3
          }
         },
         "name": "A",
         "nbinsx": 10,
         "opacity": 0.8,
         "orientation": "v",
         "type": "histogram",
         "x": [
          0.2540205165143539,
          0.21018287468404354,
          -1.417366523418028,
          1.4355964054891057,
          0.6438156084526279,
          -0.48992682332332516,
          2.089603407589297,
          -0.24037244272897193,
          0.22741612429678598,
          -0.43388743074207914,
          -0.17474693590151122,
          -0.3378269321122739,
          -0.2872816214010255,
          0.09021167266536759,
          1.9916614315099455,
          -0.9203501904153832,
          1.9932576734555514,
          1.190820979890536,
          0.7591670480729559,
          -0.9322613470150776,
          -0.04972199823331805,
          1.2685856210555648,
          1.5879259973556699,
          -0.567128573474692,
          -2.1942346439385063,
          -0.4559241878544287,
          1.0321820388276353,
          -1.2718987011182359,
          -1.2386551206807364,
          -2.194211747720904,
          -0.5258492859793686,
          -0.6653282837542511,
          -1.3988028138784063,
          -0.07260478095047099,
          -0.28642094085208936,
          -0.11457773635910108,
          -0.1095433105850815,
          0.9750875884483519,
          0.8374465307982316,
          -0.739274852671829,
          0.3157117587684143,
          -0.1715446808230524,
          -1.941469789403776,
          -0.8593008608200065,
          1.0567482570657265,
          -1.9320398455863936,
          0.2594822932774328,
          -0.39301308706656246,
          0.4491389194589242,
          -0.5943834464300685,
          -1.6205742737788318,
          0.6117521209297304,
          -1.276327824115349,
          0.4086695638455752,
          0.24793326266283466,
          -0.4612398992086352,
          1.472207033963178,
          -1.8432937178256399,
          0.331853571779341,
          -0.14425338478943614,
          -0.05413105300153619,
          2.319362187084283,
          0.7674645302272454,
          0.6023945964221519,
          0.09769810203503486,
          1.4595133621459795,
          0.5577801094920947,
          -0.8161165385921015,
          -0.20283106200073736,
          1.0814223714895106,
          -0.9390927760332309,
          -0.7014055677825115,
          -0.26483222934057704,
          0.2563524393956336,
          1.066269844507545,
          0.8834240698541156,
          -0.7106341632582636,
          -0.4401823764634333,
          0.9603374413953691,
          -0.04706661324449886,
          -0.32082510121876906,
          0.22690521984675313,
          0.5580555659912436,
          -0.097048566746413,
          1.7196848303305123,
          0.1334024173581546,
          -1.3154871382832112,
          -0.9863034014659603,
          -1.0446233980609223,
          2.755130001029382,
          -0.19396822225672392,
          -1.0333488219739275,
          0.37272339170574764,
          1.0054492152613619,
          1.266420601741147,
          -2.1026940491604966,
          0.5587347491572473,
          -1.26564189608967,
          1.2365667571795178,
          0.4093624285717989
         ],
         "xaxis": "x",
         "yaxis": "y"
        },
        {
         "line": {
          "color": "rgba(128, 128, 128, 1.0)",
          "dash": "solid",
          "shape": "linear",
          "width": 1.3
         },
         "marker": {
          "size": 2,
          "symbol": "circle"
         },
         "mode": "markers",
         "name": "A",
         "text": "",
         "type": "scatter",
         "x": [
          1.160825800152867,
          0.49616468992605606,
          0.07383583694545158,
          0.2327336021717852,
          -0.5017316173158699,
          0.8035594113553268,
          -0.28453246467477783,
          -0.915122676714964,
          -1.0386383838201863,
          -1.9952568867431326,
          0.09036591505575159,
          1.155948073431354,
          -0.42889040391045663,
          -1.2389704786006113,
          0.48118016142863945,
          1.0226046516596001,
          0.7398795059007436,
          0.37427404601920805,
          -1.7494103233808207,
          -0.9193506297259831,
          0.8887150557163451,
          0.9103962137297099,
          0.8947662724723978,
          0.06129563149484737,
          0.12002325193346794,
          -0.676796697112064,
          0.06093394366571922,
          -0.5640148151417872,
          0.81707423120743,
          0.6769766088966667,
          1.0441711359096393,
          0.8152504059983663,
          -0.39786853228590585,
          0.6599657173835193,
          0.5442907815797696,
          -0.2911291866765822,
          0.25500617713030627,
          -0.8331171412221349,
          -0.8620206840215854,
          0.04307721553350601,
          -1.215724201505668,
          0.12782065868375267,
          -2.145446215905343,
          -1.2319037363163725,
          -0.45930560794346414,
          -0.21250766872033242,
          -0.39804764478120985,
          -1.007422616587833,
          -0.9847119868129514,
          0.561732278632458,
          -1.14933123553313,
          1.6418957813050432,
          -1.2876584947792657,
          -0.03539282053918007,
          1.362381345433245,
          -0.6291386847202808,
          1.898930581889669,
          -0.6149912505025651,
          2.3034710611983304,
          -0.21226266974932004,
          -0.44847316876586585,
          -0.85303319669474,
          0.39684829882784267,
          -0.39090798457724035,
          1.3631512954306748,
          0.38249503712678984,
          -0.7742515439820427,
          -1.203847854965608,
          1.0115904667778681,
          0.3616426794426263,
          1.4846748175633453,
          0.9654302865010991,
          1.4562869848628681,
          -0.8177914063638103,
          -0.2730370368057006,
          0.6358807484449549,
          -0.7820612964596657,
          0.29823457797888253,
          0.39283832766839666,
          0.5285082098876401,
          1.3226836756728508,
          1.6636775870661122,
          0.5170672228134581,
          0.824798069948975,
          -0.46265991994032685,
          -0.10433027741652127,
          0.2690776010702887,
          1.3276291696627414,
          1.4619005839703703,
          0.06670553461973262,
          1.2367949690978866,
          -1.6728464542712906,
          0.41956646947819315,
          1.0213475908554128,
          1.4010211872247769,
          0.7057004386030941,
          -0.8740541643155307,
          -0.08067153622956262,
          -0.8096141021027465,
          1.2860139723173836
         ],
         "xaxis": "x2",
         "y": [
          0.2540205165143539,
          0.21018287468404354,
          -1.417366523418028,
          1.4355964054891057,
          0.6438156084526279,
          -0.48992682332332516,
          2.089603407589297,
          -0.24037244272897193,
          0.22741612429678598,
          -0.43388743074207914,
          -0.17474693590151122,
          -0.3378269321122739,
          -0.2872816214010255,
          0.09021167266536759,
          1.9916614315099455,
          -0.9203501904153832,
          1.9932576734555514,
          1.190820979890536,
          0.7591670480729559,
          -0.9322613470150776,
          -0.04972199823331805,
          1.2685856210555648,
          1.5879259973556699,
          -0.567128573474692,
          -2.1942346439385063,
          -0.4559241878544287,
          1.0321820388276353,
          -1.2718987011182359,
          -1.2386551206807364,
          -2.194211747720904,
          -0.5258492859793686,
          -0.6653282837542511,
          -1.3988028138784063,
          -0.07260478095047099,
          -0.28642094085208936,
          -0.11457773635910108,
          -0.1095433105850815,
          0.9750875884483519,
          0.8374465307982316,
          -0.739274852671829,
          0.3157117587684143,
          -0.1715446808230524,
          -1.941469789403776,
          -0.8593008608200065,
          1.0567482570657265,
          -1.9320398455863936,
          0.2594822932774328,
          -0.39301308706656246,
          0.4491389194589242,
          -0.5943834464300685,
          -1.6205742737788318,
          0.6117521209297304,
          -1.276327824115349,
          0.4086695638455752,
          0.24793326266283466,
          -0.4612398992086352,
          1.472207033963178,
          -1.8432937178256399,
          0.331853571779341,
          -0.14425338478943614,
          -0.05413105300153619,
          2.319362187084283,
          0.7674645302272454,
          0.6023945964221519,
          0.09769810203503486,
          1.4595133621459795,
          0.5577801094920947,
          -0.8161165385921015,
          -0.20283106200073736,
          1.0814223714895106,
          -0.9390927760332309,
          -0.7014055677825115,
          -0.26483222934057704,
          0.2563524393956336,
          1.066269844507545,
          0.8834240698541156,
          -0.7106341632582636,
          -0.4401823764634333,
          0.9603374413953691,
          -0.04706661324449886,
          -0.32082510121876906,
          0.22690521984675313,
          0.5580555659912436,
          -0.097048566746413,
          1.7196848303305123,
          0.1334024173581546,
          -1.3154871382832112,
          -0.9863034014659603,
          -1.0446233980609223,
          2.755130001029382,
          -0.19396822225672392,
          -1.0333488219739275,
          0.37272339170574764,
          1.0054492152613619,
          1.266420601741147,
          -2.1026940491604966,
          0.5587347491572473,
          -1.26564189608967,
          1.2365667571795178,
          0.4093624285717989
         ],
         "yaxis": "y2"
        },
        {
         "line": {
          "color": "rgba(128, 128, 128, 1.0)",
          "dash": "solid",
          "shape": "linear",
          "width": 1.3
         },
         "marker": {
          "size": 2,
          "symbol": "circle"
         },
         "mode": "markers",
         "name": "A",
         "text": "",
         "type": "scatter",
         "x": [
          0.7400092392048068,
          -1.1612554650452065,
          -0.5122338887002665,
          0.8664771985598588,
          -0.34548987492232175,
          0.2781330104706034,
          0.8133129773606471,
          -0.07383128492210222,
          1.4992427452539066,
          -0.06427788658450528,
          0.9777437473437132,
          -1.0844097691216843,
          0.23691969667423549,
          0.6833580638519037,
          0.19854397914558808,
          1.2940032044175587,
          0.2938313960897921,
          -0.621691820858234,
          0.08475790559030699,
          -1.7256365238552824,
          0.7582412110970774,
          1.16644966761969,
          -0.13341758137524054,
          0.04093263652620348,
          0.18320697536407995,
          -0.32092372624067766,
          -0.9192767520476932,
          -0.009211021059547185,
          -0.019857457962381128,
          -0.3142022108888279,
          -0.6172132723525531,
          0.8960160304349492,
          0.7374330001967216,
          0.906649950526819,
          0.8261888595835849,
          0.8445809292425774,
          1.3616427427782307,
          -0.15250750568368196,
          0.10902639094972436,
          0.5281841463998894,
          -0.4749394513444946,
          0.7480762907916783,
          0.3388929235148995,
          -0.7310818991049979,
          0.02719614578997186,
          1.512962862350225,
          0.8035101292065836,
          -0.947393115998121,
          -0.02386938793565377,
          0.7320630015882023,
          1.4345212541566092,
          -0.09064584842119253,
          -0.252148147107145,
          -2.356165508371674,
          0.25763522548097273,
          1.8281771377382254,
          -0.04061189261196941,
          0.5765668729102671,
          -0.01960280456707083,
          1.1734496029900723,
          0.4150946237924706,
          -0.8742687679848868,
          -0.07335204432201242,
          -0.40438225261440797,
          -0.576332073034859,
          1.1146425638994812,
          -0.06873767949536136,
          -0.8595298987909357,
          -0.2464788836352362,
          -1.5408801744628844,
          -0.13284260964214661,
          0.41487455770150555,
          -0.11612837078371765,
          -0.485629058051464,
          0.31925770344676224,
          0.023159140123406755,
          0.9892737551707963,
          0.8448141680578326,
          -2.1502154363339514,
          -0.007235596504881794,
          0.2796531586390798,
          -0.3753414952199077,
          1.5123786861608832,
          -0.13171039496410855,
          0.14632688412280515,
          0.18796700882737305,
          0.31534514387362794,
          1.2218028635289813,
          -0.32024933567295366,
          0.2020833843113226,
          -1.5360472839414374,
          -0.8097024781571458,
          -0.61191498185867,
          -0.5094569134267607,
          -2.5249347881889856,
          -0.5105863402376877,
          1.5150611952696704,
          -0.7388111051732456,
          -0.45003373940694963,
          1.337901303183027
         ],
         "xaxis": "x3",
         "y": [
          0.2540205165143539,
          0.21018287468404354,
          -1.417366523418028,
          1.4355964054891057,
          0.6438156084526279,
          -0.48992682332332516,
          2.089603407589297,
          -0.24037244272897193,
          0.22741612429678598,
          -0.43388743074207914,
          -0.17474693590151122,
          -0.3378269321122739,
          -0.2872816214010255,
          0.09021167266536759,
          1.9916614315099455,
          -0.9203501904153832,
          1.9932576734555514,
          1.190820979890536,
          0.7591670480729559,
          -0.9322613470150776,
          -0.04972199823331805,
          1.2685856210555648,
          1.5879259973556699,
          -0.567128573474692,
          -2.1942346439385063,
          -0.4559241878544287,
          1.0321820388276353,
          -1.2718987011182359,
          -1.2386551206807364,
          -2.194211747720904,
          -0.5258492859793686,
          -0.6653282837542511,
          -1.3988028138784063,
          -0.07260478095047099,
          -0.28642094085208936,
          -0.11457773635910108,
          -0.1095433105850815,
          0.9750875884483519,
          0.8374465307982316,
          -0.739274852671829,
          0.3157117587684143,
          -0.1715446808230524,
          -1.941469789403776,
          -0.8593008608200065,
          1.0567482570657265,
          -1.9320398455863936,
          0.2594822932774328,
          -0.39301308706656246,
          0.4491389194589242,
          -0.5943834464300685,
          -1.6205742737788318,
          0.6117521209297304,
          -1.276327824115349,
          0.4086695638455752,
          0.24793326266283466,
          -0.4612398992086352,
          1.472207033963178,
          -1.8432937178256399,
          0.331853571779341,
          -0.14425338478943614,
          -0.05413105300153619,
          2.319362187084283,
          0.7674645302272454,
          0.6023945964221519,
          0.09769810203503486,
          1.4595133621459795,
          0.5577801094920947,
          -0.8161165385921015,
          -0.20283106200073736,
          1.0814223714895106,
          -0.9390927760332309,
          -0.7014055677825115,
          -0.26483222934057704,
          0.2563524393956336,
          1.066269844507545,
          0.8834240698541156,
          -0.7106341632582636,
          -0.4401823764634333,
          0.9603374413953691,
          -0.04706661324449886,
          -0.32082510121876906,
          0.22690521984675313,
          0.5580555659912436,
          -0.097048566746413,
          1.7196848303305123,
          0.1334024173581546,
          -1.3154871382832112,
          -0.9863034014659603,
          -1.0446233980609223,
          2.755130001029382,
          -0.19396822225672392,
          -1.0333488219739275,
          0.37272339170574764,
          1.0054492152613619,
          1.266420601741147,
          -2.1026940491604966,
          0.5587347491572473,
          -1.26564189608967,
          1.2365667571795178,
          0.4093624285717989
         ],
         "yaxis": "y3"
        },
        {
         "line": {
          "color": "rgba(128, 128, 128, 1.0)",
          "dash": "solid",
          "shape": "linear",
          "width": 1.3
         },
         "marker": {
          "size": 2,
          "symbol": "circle"
         },
         "mode": "markers",
         "name": "A",
         "text": "",
         "type": "scatter",
         "x": [
          -0.9068405688078486,
          0.11621097171247942,
          0.26448478101457584,
          -0.5440854440489594,
          0.5531515272952051,
          0.8234042785049313,
          -0.22906001896152353,
          -0.16995879751638207,
          0.6802184174681418,
          0.4445235048806215,
          0.6941279000595636,
          2.1747144867557284,
          1.0223991406942747,
          0.8368416708590749,
          0.184720174470893,
          0.19552655776599848,
          1.6264800319723853,
          1.318082762218274,
          -1.1640119153017372,
          1.2758601739228614,
          -1.6418670804553157,
          -0.4171095950902611,
          -0.3969242583499874,
          0.501527724050001,
          -1.074606222181749,
          -2.223424663893433,
          0.6716990615797975,
          0.14796640692409763,
          0.6948660217218141,
          -1.8580010868790662,
          -0.00526893887691044,
          -0.6836722995929522,
          0.16612742230538627,
          -0.11821349276729069,
          -0.92117968291553,
          0.29188265668117613,
          0.34960878144601626,
          -0.06270629467800636,
          -0.4038456358871288,
          0.2648605591171205,
          0.061168616234663235,
          1.024178167604516,
          -2.3389668344520116,
          -0.2824909310511887,
          -0.4229235811543551,
          0.05631613133747578,
          -1.0376629367534844,
          -1.0508408409413266,
          -0.651137516259835,
          -0.6603619267138788,
          0.6919249312578343,
          -0.3620145382845533,
          -0.3034438985204652,
          0.4506109621289893,
          0.19784991813168556,
          0.4486839596077117,
          -0.6541847283551394,
          1.1707625473024965,
          0.13268391400985902,
          -0.7435191432300351,
          -0.7293681641791371,
          -0.018877098021782796,
          -1.4524593337407599,
          0.1267230001259561,
          -0.7125292116463977,
          -1.223740915429738,
          1.7028564850815053,
          -0.025254987372562845,
          0.14252619879882147,
          -1.424391582709415,
          -0.1305437297684222,
          -1.114889983872903,
          0.8818507740128105,
          1.7383740083404464,
          0.26964871270546237,
          -1.1071106984364947,
          1.0031650408456287,
          -0.9530919999597487,
          -1.5771064309978597,
          -1.548931175254627,
          1.1505022138477403,
          -0.7345193249486318,
          1.8285714520083187,
          0.8272062189740068,
          0.8279518009515064,
          0.3568071184223297,
          -0.3306248498338502,
          0.4467509629034824,
          1.6445920281443878,
          -0.9967417532997104,
          -1.0556863288562042,
          0.35588131793485744,
          -1.1358190099883094,
          0.4211429293134869,
          0.15585056701122604,
          1.8748160736152852,
          2.344329847624523,
          -0.05539633385281114,
          2.0885407026049565,
          -1.1947913568464845
         ],
         "xaxis": "x4",
         "y": [
          0.2540205165143539,
          0.21018287468404354,
          -1.417366523418028,
          1.4355964054891057,
          0.6438156084526279,
          -0.48992682332332516,
          2.089603407589297,
          -0.24037244272897193,
          0.22741612429678598,
          -0.43388743074207914,
          -0.17474693590151122,
          -0.3378269321122739,
          -0.2872816214010255,
          0.09021167266536759,
          1.9916614315099455,
          -0.9203501904153832,
          1.9932576734555514,
          1.190820979890536,
          0.7591670480729559,
          -0.9322613470150776,
          -0.04972199823331805,
          1.2685856210555648,
          1.5879259973556699,
          -0.567128573474692,
          -2.1942346439385063,
          -0.4559241878544287,
          1.0321820388276353,
          -1.2718987011182359,
          -1.2386551206807364,
          -2.194211747720904,
          -0.5258492859793686,
          -0.6653282837542511,
          -1.3988028138784063,
          -0.07260478095047099,
          -0.28642094085208936,
          -0.11457773635910108,
          -0.1095433105850815,
          0.9750875884483519,
          0.8374465307982316,
          -0.739274852671829,
          0.3157117587684143,
          -0.1715446808230524,
          -1.941469789403776,
          -0.8593008608200065,
          1.0567482570657265,
          -1.9320398455863936,
          0.2594822932774328,
          -0.39301308706656246,
          0.4491389194589242,
          -0.5943834464300685,
          -1.6205742737788318,
          0.6117521209297304,
          -1.276327824115349,
          0.4086695638455752,
          0.24793326266283466,
          -0.4612398992086352,
          1.472207033963178,
          -1.8432937178256399,
          0.331853571779341,
          -0.14425338478943614,
          -0.05413105300153619,
          2.319362187084283,
          0.7674645302272454,
          0.6023945964221519,
          0.09769810203503486,
          1.4595133621459795,
          0.5577801094920947,
          -0.8161165385921015,
          -0.20283106200073736,
          1.0814223714895106,
          -0.9390927760332309,
          -0.7014055677825115,
          -0.26483222934057704,
          0.2563524393956336,
          1.066269844507545,
          0.8834240698541156,
          -0.7106341632582636,
          -0.4401823764634333,
          0.9603374413953691,
          -0.04706661324449886,
          -0.32082510121876906,
          0.22690521984675313,
          0.5580555659912436,
          -0.097048566746413,
          1.7196848303305123,
          0.1334024173581546,
          -1.3154871382832112,
          -0.9863034014659603,
          -1.0446233980609223,
          2.755130001029382,
          -0.19396822225672392,
          -1.0333488219739275,
          0.37272339170574764,
          1.0054492152613619,
          1.266420601741147,
          -2.1026940491604966,
          0.5587347491572473,
          -1.26564189608967,
          1.2365667571795178,
          0.4093624285717989
         ],
         "yaxis": "y4"
        },
        {
         "line": {
          "color": "rgba(128, 128, 128, 1.0)",
          "dash": "solid",
          "shape": "linear",
          "width": 1.3
         },
         "marker": {
          "size": 2,
          "symbol": "circle"
         },
         "mode": "markers",
         "name": "B",
         "text": "",
         "type": "scatter",
         "x": [
          0.2540205165143539,
          0.21018287468404354,
          -1.417366523418028,
          1.4355964054891057,
          0.6438156084526279,
          -0.48992682332332516,
          2.089603407589297,
          -0.24037244272897193,
          0.22741612429678598,
          -0.43388743074207914,
          -0.17474693590151122,
          -0.3378269321122739,
          -0.2872816214010255,
          0.09021167266536759,
          1.9916614315099455,
          -0.9203501904153832,
          1.9932576734555514,
          1.190820979890536,
          0.7591670480729559,
          -0.9322613470150776,
          -0.04972199823331805,
          1.2685856210555648,
          1.5879259973556699,
          -0.567128573474692,
          -2.1942346439385063,
          -0.4559241878544287,
          1.0321820388276353,
          -1.2718987011182359,
          -1.2386551206807364,
          -2.194211747720904,
          -0.5258492859793686,
          -0.6653282837542511,
          -1.3988028138784063,
          -0.07260478095047099,
          -0.28642094085208936,
          -0.11457773635910108,
          -0.1095433105850815,
          0.9750875884483519,
          0.8374465307982316,
          -0.739274852671829,
          0.3157117587684143,
          -0.1715446808230524,
          -1.941469789403776,
          -0.8593008608200065,
          1.0567482570657265,
          -1.9320398455863936,
          0.2594822932774328,
          -0.39301308706656246,
          0.4491389194589242,
          -0.5943834464300685,
          -1.6205742737788318,
          0.6117521209297304,
          -1.276327824115349,
          0.4086695638455752,
          0.24793326266283466,
          -0.4612398992086352,
          1.472207033963178,
          -1.8432937178256399,
          0.331853571779341,
          -0.14425338478943614,
          -0.05413105300153619,
          2.319362187084283,
          0.7674645302272454,
          0.6023945964221519,
          0.09769810203503486,
          1.4595133621459795,
          0.5577801094920947,
          -0.8161165385921015,
          -0.20283106200073736,
          1.0814223714895106,
          -0.9390927760332309,
          -0.7014055677825115,
          -0.26483222934057704,
          0.2563524393956336,
          1.066269844507545,
          0.8834240698541156,
          -0.7106341632582636,
          -0.4401823764634333,
          0.9603374413953691,
          -0.04706661324449886,
          -0.32082510121876906,
          0.22690521984675313,
          0.5580555659912436,
          -0.097048566746413,
          1.7196848303305123,
          0.1334024173581546,
          -1.3154871382832112,
          -0.9863034014659603,
          -1.0446233980609223,
          2.755130001029382,
          -0.19396822225672392,
          -1.0333488219739275,
          0.37272339170574764,
          1.0054492152613619,
          1.266420601741147,
          -2.1026940491604966,
          0.5587347491572473,
          -1.26564189608967,
          1.2365667571795178,
          0.4093624285717989
         ],
         "xaxis": "x5",
         "y": [
          1.160825800152867,
          0.49616468992605606,
          0.07383583694545158,
          0.2327336021717852,
          -0.5017316173158699,
          0.8035594113553268,
          -0.28453246467477783,
          -0.915122676714964,
          -1.0386383838201863,
          -1.9952568867431326,
          0.09036591505575159,
          1.155948073431354,
          -0.42889040391045663,
          -1.2389704786006113,
          0.48118016142863945,
          1.0226046516596001,
          0.7398795059007436,
          0.37427404601920805,
          -1.7494103233808207,
          -0.9193506297259831,
          0.8887150557163451,
          0.9103962137297099,
          0.8947662724723978,
          0.06129563149484737,
          0.12002325193346794,
          -0.676796697112064,
          0.06093394366571922,
          -0.5640148151417872,
          0.81707423120743,
          0.6769766088966667,
          1.0441711359096393,
          0.8152504059983663,
          -0.39786853228590585,
          0.6599657173835193,
          0.5442907815797696,
          -0.2911291866765822,
          0.25500617713030627,
          -0.8331171412221349,
          -0.8620206840215854,
          0.04307721553350601,
          -1.215724201505668,
          0.12782065868375267,
          -2.145446215905343,
          -1.2319037363163725,
          -0.45930560794346414,
          -0.21250766872033242,
          -0.39804764478120985,
          -1.007422616587833,
          -0.9847119868129514,
          0.561732278632458,
          -1.14933123553313,
          1.6418957813050432,
          -1.2876584947792657,
          -0.03539282053918007,
          1.362381345433245,
          -0.6291386847202808,
          1.898930581889669,
          -0.6149912505025651,
          2.3034710611983304,
          -0.21226266974932004,
          -0.44847316876586585,
          -0.85303319669474,
          0.39684829882784267,
          -0.39090798457724035,
          1.3631512954306748,
          0.38249503712678984,
          -0.7742515439820427,
          -1.203847854965608,
          1.0115904667778681,
          0.3616426794426263,
          1.4846748175633453,
          0.9654302865010991,
          1.4562869848628681,
          -0.8177914063638103,
          -0.2730370368057006,
          0.6358807484449549,
          -0.7820612964596657,
          0.29823457797888253,
          0.39283832766839666,
          0.5285082098876401,
          1.3226836756728508,
          1.6636775870661122,
          0.5170672228134581,
          0.824798069948975,
          -0.46265991994032685,
          -0.10433027741652127,
          0.2690776010702887,
          1.3276291696627414,
          1.4619005839703703,
          0.06670553461973262,
          1.2367949690978866,
          -1.6728464542712906,
          0.41956646947819315,
          1.0213475908554128,
          1.4010211872247769,
          0.7057004386030941,
          -0.8740541643155307,
          -0.08067153622956262,
          -0.8096141021027465,
          1.2860139723173836
         ],
         "yaxis": "y5"
        },
        {
         "histfunc": "count",
         "histnorm": "",
         "marker": {
          "color": "rgba(55, 128, 191, 1.0)",
          "line": {
           "color": "#4D5663",
           "width": 1.3
          }
         },
         "name": "B",
         "nbinsx": 10,
         "opacity": 0.8,
         "orientation": "v",
         "type": "histogram",
         "x": [
          1.160825800152867,
          0.49616468992605606,
          0.07383583694545158,
          0.2327336021717852,
          -0.5017316173158699,
          0.8035594113553268,
          -0.28453246467477783,
          -0.915122676714964,
          -1.0386383838201863,
          -1.9952568867431326,
          0.09036591505575159,
          1.155948073431354,
          -0.42889040391045663,
          -1.2389704786006113,
          0.48118016142863945,
          1.0226046516596001,
          0.7398795059007436,
          0.37427404601920805,
          -1.7494103233808207,
          -0.9193506297259831,
          0.8887150557163451,
          0.9103962137297099,
          0.8947662724723978,
          0.06129563149484737,
          0.12002325193346794,
          -0.676796697112064,
          0.06093394366571922,
          -0.5640148151417872,
          0.81707423120743,
          0.6769766088966667,
          1.0441711359096393,
          0.8152504059983663,
          -0.39786853228590585,
          0.6599657173835193,
          0.5442907815797696,
          -0.2911291866765822,
          0.25500617713030627,
          -0.8331171412221349,
          -0.8620206840215854,
          0.04307721553350601,
          -1.215724201505668,
          0.12782065868375267,
          -2.145446215905343,
          -1.2319037363163725,
          -0.45930560794346414,
          -0.21250766872033242,
          -0.39804764478120985,
          -1.007422616587833,
          -0.9847119868129514,
          0.561732278632458,
          -1.14933123553313,
          1.6418957813050432,
          -1.2876584947792657,
          -0.03539282053918007,
          1.362381345433245,
          -0.6291386847202808,
          1.898930581889669,
          -0.6149912505025651,
          2.3034710611983304,
          -0.21226266974932004,
          -0.44847316876586585,
          -0.85303319669474,
          0.39684829882784267,
          -0.39090798457724035,
          1.3631512954306748,
          0.38249503712678984,
          -0.7742515439820427,
          -1.203847854965608,
          1.0115904667778681,
          0.3616426794426263,
          1.4846748175633453,
          0.9654302865010991,
          1.4562869848628681,
          -0.8177914063638103,
          -0.2730370368057006,
          0.6358807484449549,
          -0.7820612964596657,
          0.29823457797888253,
          0.39283832766839666,
          0.5285082098876401,
          1.3226836756728508,
          1.6636775870661122,
          0.5170672228134581,
          0.824798069948975,
          -0.46265991994032685,
          -0.10433027741652127,
          0.2690776010702887,
          1.3276291696627414,
          1.4619005839703703,
          0.06670553461973262,
          1.2367949690978866,
          -1.6728464542712906,
          0.41956646947819315,
          1.0213475908554128,
          1.4010211872247769,
          0.7057004386030941,
          -0.8740541643155307,
          -0.08067153622956262,
          -0.8096141021027465,
          1.2860139723173836
         ],
         "xaxis": "x6",
         "yaxis": "y6"
        },
        {
         "line": {
          "color": "rgba(128, 128, 128, 1.0)",
          "dash": "solid",
          "shape": "linear",
          "width": 1.3
         },
         "marker": {
          "size": 2,
          "symbol": "circle"
         },
         "mode": "markers",
         "name": "B",
         "text": "",
         "type": "scatter",
         "x": [
          0.7400092392048068,
          -1.1612554650452065,
          -0.5122338887002665,
          0.8664771985598588,
          -0.34548987492232175,
          0.2781330104706034,
          0.8133129773606471,
          -0.07383128492210222,
          1.4992427452539066,
          -0.06427788658450528,
          0.9777437473437132,
          -1.0844097691216843,
          0.23691969667423549,
          0.6833580638519037,
          0.19854397914558808,
          1.2940032044175587,
          0.2938313960897921,
          -0.621691820858234,
          0.08475790559030699,
          -1.7256365238552824,
          0.7582412110970774,
          1.16644966761969,
          -0.13341758137524054,
          0.04093263652620348,
          0.18320697536407995,
          -0.32092372624067766,
          -0.9192767520476932,
          -0.009211021059547185,
          -0.019857457962381128,
          -0.3142022108888279,
          -0.6172132723525531,
          0.8960160304349492,
          0.7374330001967216,
          0.906649950526819,
          0.8261888595835849,
          0.8445809292425774,
          1.3616427427782307,
          -0.15250750568368196,
          0.10902639094972436,
          0.5281841463998894,
          -0.4749394513444946,
          0.7480762907916783,
          0.3388929235148995,
          -0.7310818991049979,
          0.02719614578997186,
          1.512962862350225,
          0.8035101292065836,
          -0.947393115998121,
          -0.02386938793565377,
          0.7320630015882023,
          1.4345212541566092,
          -0.09064584842119253,
          -0.252148147107145,
          -2.356165508371674,
          0.25763522548097273,
          1.8281771377382254,
          -0.04061189261196941,
          0.5765668729102671,
          -0.01960280456707083,
          1.1734496029900723,
          0.4150946237924706,
          -0.8742687679848868,
          -0.07335204432201242,
          -0.40438225261440797,
          -0.576332073034859,
          1.1146425638994812,
          -0.06873767949536136,
          -0.8595298987909357,
          -0.2464788836352362,
          -1.5408801744628844,
          -0.13284260964214661,
          0.41487455770150555,
          -0.11612837078371765,
          -0.485629058051464,
          0.31925770344676224,
          0.023159140123406755,
          0.9892737551707963,
          0.8448141680578326,
          -2.1502154363339514,
          -0.007235596504881794,
          0.2796531586390798,
          -0.3753414952199077,
          1.5123786861608832,
          -0.13171039496410855,
          0.14632688412280515,
          0.18796700882737305,
          0.31534514387362794,
          1.2218028635289813,
          -0.32024933567295366,
          0.2020833843113226,
          -1.5360472839414374,
          -0.8097024781571458,
          -0.61191498185867,
          -0.5094569134267607,
          -2.5249347881889856,
          -0.5105863402376877,
          1.5150611952696704,
          -0.7388111051732456,
          -0.45003373940694963,
          1.337901303183027
         ],
         "xaxis": "x7",
         "y": [
          1.160825800152867,
          0.49616468992605606,
          0.07383583694545158,
          0.2327336021717852,
          -0.5017316173158699,
          0.8035594113553268,
          -0.28453246467477783,
          -0.915122676714964,
          -1.0386383838201863,
          -1.9952568867431326,
          0.09036591505575159,
          1.155948073431354,
          -0.42889040391045663,
          -1.2389704786006113,
          0.48118016142863945,
          1.0226046516596001,
          0.7398795059007436,
          0.37427404601920805,
          -1.7494103233808207,
          -0.9193506297259831,
          0.8887150557163451,
          0.9103962137297099,
          0.8947662724723978,
          0.06129563149484737,
          0.12002325193346794,
          -0.676796697112064,
          0.06093394366571922,
          -0.5640148151417872,
          0.81707423120743,
          0.6769766088966667,
          1.0441711359096393,
          0.8152504059983663,
          -0.39786853228590585,
          0.6599657173835193,
          0.5442907815797696,
          -0.2911291866765822,
          0.25500617713030627,
          -0.8331171412221349,
          -0.8620206840215854,
          0.04307721553350601,
          -1.215724201505668,
          0.12782065868375267,
          -2.145446215905343,
          -1.2319037363163725,
          -0.45930560794346414,
          -0.21250766872033242,
          -0.39804764478120985,
          -1.007422616587833,
          -0.9847119868129514,
          0.561732278632458,
          -1.14933123553313,
          1.6418957813050432,
          -1.2876584947792657,
          -0.03539282053918007,
          1.362381345433245,
          -0.6291386847202808,
          1.898930581889669,
          -0.6149912505025651,
          2.3034710611983304,
          -0.21226266974932004,
          -0.44847316876586585,
          -0.85303319669474,
          0.39684829882784267,
          -0.39090798457724035,
          1.3631512954306748,
          0.38249503712678984,
          -0.7742515439820427,
          -1.203847854965608,
          1.0115904667778681,
          0.3616426794426263,
          1.4846748175633453,
          0.9654302865010991,
          1.4562869848628681,
          -0.8177914063638103,
          -0.2730370368057006,
          0.6358807484449549,
          -0.7820612964596657,
          0.29823457797888253,
          0.39283832766839666,
          0.5285082098876401,
          1.3226836756728508,
          1.6636775870661122,
          0.5170672228134581,
          0.824798069948975,
          -0.46265991994032685,
          -0.10433027741652127,
          0.2690776010702887,
          1.3276291696627414,
          1.4619005839703703,
          0.06670553461973262,
          1.2367949690978866,
          -1.6728464542712906,
          0.41956646947819315,
          1.0213475908554128,
          1.4010211872247769,
          0.7057004386030941,
          -0.8740541643155307,
          -0.08067153622956262,
          -0.8096141021027465,
          1.2860139723173836
         ],
         "yaxis": "y7"
        },
        {
         "line": {
          "color": "rgba(128, 128, 128, 1.0)",
          "dash": "solid",
          "shape": "linear",
          "width": 1.3
         },
         "marker": {
          "size": 2,
          "symbol": "circle"
         },
         "mode": "markers",
         "name": "B",
         "text": "",
         "type": "scatter",
         "x": [
          -0.9068405688078486,
          0.11621097171247942,
          0.26448478101457584,
          -0.5440854440489594,
          0.5531515272952051,
          0.8234042785049313,
          -0.22906001896152353,
          -0.16995879751638207,
          0.6802184174681418,
          0.4445235048806215,
          0.6941279000595636,
          2.1747144867557284,
          1.0223991406942747,
          0.8368416708590749,
          0.184720174470893,
          0.19552655776599848,
          1.6264800319723853,
          1.318082762218274,
          -1.1640119153017372,
          1.2758601739228614,
          -1.6418670804553157,
          -0.4171095950902611,
          -0.3969242583499874,
          0.501527724050001,
          -1.074606222181749,
          -2.223424663893433,
          0.6716990615797975,
          0.14796640692409763,
          0.6948660217218141,
          -1.8580010868790662,
          -0.00526893887691044,
          -0.6836722995929522,
          0.16612742230538627,
          -0.11821349276729069,
          -0.92117968291553,
          0.29188265668117613,
          0.34960878144601626,
          -0.06270629467800636,
          -0.4038456358871288,
          0.2648605591171205,
          0.061168616234663235,
          1.024178167604516,
          -2.3389668344520116,
          -0.2824909310511887,
          -0.4229235811543551,
          0.05631613133747578,
          -1.0376629367534844,
          -1.0508408409413266,
          -0.651137516259835,
          -0.6603619267138788,
          0.6919249312578343,
          -0.3620145382845533,
          -0.3034438985204652,
          0.4506109621289893,
          0.19784991813168556,
          0.4486839596077117,
          -0.6541847283551394,
          1.1707625473024965,
          0.13268391400985902,
          -0.7435191432300351,
          -0.7293681641791371,
          -0.018877098021782796,
          -1.4524593337407599,
          0.1267230001259561,
          -0.7125292116463977,
          -1.223740915429738,
          1.7028564850815053,
          -0.025254987372562845,
          0.14252619879882147,
          -1.424391582709415,
          -0.1305437297684222,
          -1.114889983872903,
          0.8818507740128105,
          1.7383740083404464,
          0.26964871270546237,
          -1.1071106984364947,
          1.0031650408456287,
          -0.9530919999597487,
          -1.5771064309978597,
          -1.548931175254627,
          1.1505022138477403,
          -0.7345193249486318,
          1.8285714520083187,
          0.8272062189740068,
          0.8279518009515064,
          0.3568071184223297,
          -0.3306248498338502,
          0.4467509629034824,
          1.6445920281443878,
          -0.9967417532997104,
          -1.0556863288562042,
          0.35588131793485744,
          -1.1358190099883094,
          0.4211429293134869,
          0.15585056701122604,
          1.8748160736152852,
          2.344329847624523,
          -0.05539633385281114,
          2.0885407026049565,
          -1.1947913568464845
         ],
         "xaxis": "x8",
         "y": [
          1.160825800152867,
          0.49616468992605606,
          0.07383583694545158,
          0.2327336021717852,
          -0.5017316173158699,
          0.8035594113553268,
          -0.28453246467477783,
          -0.915122676714964,
          -1.0386383838201863,
          -1.9952568867431326,
          0.09036591505575159,
          1.155948073431354,
          -0.42889040391045663,
          -1.2389704786006113,
          0.48118016142863945,
          1.0226046516596001,
          0.7398795059007436,
          0.37427404601920805,
          -1.7494103233808207,
          -0.9193506297259831,
          0.8887150557163451,
          0.9103962137297099,
          0.8947662724723978,
          0.06129563149484737,
          0.12002325193346794,
          -0.676796697112064,
          0.06093394366571922,
          -0.5640148151417872,
          0.81707423120743,
          0.6769766088966667,
          1.0441711359096393,
          0.8152504059983663,
          -0.39786853228590585,
          0.6599657173835193,
          0.5442907815797696,
          -0.2911291866765822,
          0.25500617713030627,
          -0.8331171412221349,
          -0.8620206840215854,
          0.04307721553350601,
          -1.215724201505668,
          0.12782065868375267,
          -2.145446215905343,
          -1.2319037363163725,
          -0.45930560794346414,
          -0.21250766872033242,
          -0.39804764478120985,
          -1.007422616587833,
          -0.9847119868129514,
          0.561732278632458,
          -1.14933123553313,
          1.6418957813050432,
          -1.2876584947792657,
          -0.03539282053918007,
          1.362381345433245,
          -0.6291386847202808,
          1.898930581889669,
          -0.6149912505025651,
          2.3034710611983304,
          -0.21226266974932004,
          -0.44847316876586585,
          -0.85303319669474,
          0.39684829882784267,
          -0.39090798457724035,
          1.3631512954306748,
          0.38249503712678984,
          -0.7742515439820427,
          -1.203847854965608,
          1.0115904667778681,
          0.3616426794426263,
          1.4846748175633453,
          0.9654302865010991,
          1.4562869848628681,
          -0.8177914063638103,
          -0.2730370368057006,
          0.6358807484449549,
          -0.7820612964596657,
          0.29823457797888253,
          0.39283832766839666,
          0.5285082098876401,
          1.3226836756728508,
          1.6636775870661122,
          0.5170672228134581,
          0.824798069948975,
          -0.46265991994032685,
          -0.10433027741652127,
          0.2690776010702887,
          1.3276291696627414,
          1.4619005839703703,
          0.06670553461973262,
          1.2367949690978866,
          -1.6728464542712906,
          0.41956646947819315,
          1.0213475908554128,
          1.4010211872247769,
          0.7057004386030941,
          -0.8740541643155307,
          -0.08067153622956262,
          -0.8096141021027465,
          1.2860139723173836
         ],
         "yaxis": "y8"
        },
        {
         "line": {
          "color": "rgba(128, 128, 128, 1.0)",
          "dash": "solid",
          "shape": "linear",
          "width": 1.3
         },
         "marker": {
          "size": 2,
          "symbol": "circle"
         },
         "mode": "markers",
         "name": "C",
         "text": "",
         "type": "scatter",
         "x": [
          0.2540205165143539,
          0.21018287468404354,
          -1.417366523418028,
          1.4355964054891057,
          0.6438156084526279,
          -0.48992682332332516,
          2.089603407589297,
          -0.24037244272897193,
          0.22741612429678598,
          -0.43388743074207914,
          -0.17474693590151122,
          -0.3378269321122739,
          -0.2872816214010255,
          0.09021167266536759,
          1.9916614315099455,
          -0.9203501904153832,
          1.9932576734555514,
          1.190820979890536,
          0.7591670480729559,
          -0.9322613470150776,
          -0.04972199823331805,
          1.2685856210555648,
          1.5879259973556699,
          -0.567128573474692,
          -2.1942346439385063,
          -0.4559241878544287,
          1.0321820388276353,
          -1.2718987011182359,
          -1.2386551206807364,
          -2.194211747720904,
          -0.5258492859793686,
          -0.6653282837542511,
          -1.3988028138784063,
          -0.07260478095047099,
          -0.28642094085208936,
          -0.11457773635910108,
          -0.1095433105850815,
          0.9750875884483519,
          0.8374465307982316,
          -0.739274852671829,
          0.3157117587684143,
          -0.1715446808230524,
          -1.941469789403776,
          -0.8593008608200065,
          1.0567482570657265,
          -1.9320398455863936,
          0.2594822932774328,
          -0.39301308706656246,
          0.4491389194589242,
          -0.5943834464300685,
          -1.6205742737788318,
          0.6117521209297304,
          -1.276327824115349,
          0.4086695638455752,
          0.24793326266283466,
          -0.4612398992086352,
          1.472207033963178,
          -1.8432937178256399,
          0.331853571779341,
          -0.14425338478943614,
          -0.05413105300153619,
          2.319362187084283,
          0.7674645302272454,
          0.6023945964221519,
          0.09769810203503486,
          1.4595133621459795,
          0.5577801094920947,
          -0.8161165385921015,
          -0.20283106200073736,
          1.0814223714895106,
          -0.9390927760332309,
          -0.7014055677825115,
          -0.26483222934057704,
          0.2563524393956336,
          1.066269844507545,
          0.8834240698541156,
          -0.7106341632582636,
          -0.4401823764634333,
          0.9603374413953691,
          -0.04706661324449886,
          -0.32082510121876906,
          0.22690521984675313,
          0.5580555659912436,
          -0.097048566746413,
          1.7196848303305123,
          0.1334024173581546,
          -1.3154871382832112,
          -0.9863034014659603,
          -1.0446233980609223,
          2.755130001029382,
          -0.19396822225672392,
          -1.0333488219739275,
          0.37272339170574764,
          1.0054492152613619,
          1.266420601741147,
          -2.1026940491604966,
          0.5587347491572473,
          -1.26564189608967,
          1.2365667571795178,
          0.4093624285717989
         ],
         "xaxis": "x9",
         "y": [
          0.7400092392048068,
          -1.1612554650452065,
          -0.5122338887002665,
          0.8664771985598588,
          -0.34548987492232175,
          0.2781330104706034,
          0.8133129773606471,
          -0.07383128492210222,
          1.4992427452539066,
          -0.06427788658450528,
          0.9777437473437132,
          -1.0844097691216843,
          0.23691969667423549,
          0.6833580638519037,
          0.19854397914558808,
          1.2940032044175587,
          0.2938313960897921,
          -0.621691820858234,
          0.08475790559030699,
          -1.7256365238552824,
          0.7582412110970774,
          1.16644966761969,
          -0.13341758137524054,
          0.04093263652620348,
          0.18320697536407995,
          -0.32092372624067766,
          -0.9192767520476932,
          -0.009211021059547185,
          -0.019857457962381128,
          -0.3142022108888279,
          -0.6172132723525531,
          0.8960160304349492,
          0.7374330001967216,
          0.906649950526819,
          0.8261888595835849,
          0.8445809292425774,
          1.3616427427782307,
          -0.15250750568368196,
          0.10902639094972436,
          0.5281841463998894,
          -0.4749394513444946,
          0.7480762907916783,
          0.3388929235148995,
          -0.7310818991049979,
          0.02719614578997186,
          1.512962862350225,
          0.8035101292065836,
          -0.947393115998121,
          -0.02386938793565377,
          0.7320630015882023,
          1.4345212541566092,
          -0.09064584842119253,
          -0.252148147107145,
          -2.356165508371674,
          0.25763522548097273,
          1.8281771377382254,
          -0.04061189261196941,
          0.5765668729102671,
          -0.01960280456707083,
          1.1734496029900723,
          0.4150946237924706,
          -0.8742687679848868,
          -0.07335204432201242,
          -0.40438225261440797,
          -0.576332073034859,
          1.1146425638994812,
          -0.06873767949536136,
          -0.8595298987909357,
          -0.2464788836352362,
          -1.5408801744628844,
          -0.13284260964214661,
          0.41487455770150555,
          -0.11612837078371765,
          -0.485629058051464,
          0.31925770344676224,
          0.023159140123406755,
          0.9892737551707963,
          0.8448141680578326,
          -2.1502154363339514,
          -0.007235596504881794,
          0.2796531586390798,
          -0.3753414952199077,
          1.5123786861608832,
          -0.13171039496410855,
          0.14632688412280515,
          0.18796700882737305,
          0.31534514387362794,
          1.2218028635289813,
          -0.32024933567295366,
          0.2020833843113226,
          -1.5360472839414374,
          -0.8097024781571458,
          -0.61191498185867,
          -0.5094569134267607,
          -2.5249347881889856,
          -0.5105863402376877,
          1.5150611952696704,
          -0.7388111051732456,
          -0.45003373940694963,
          1.337901303183027
         ],
         "yaxis": "y9"
        },
        {
         "line": {
          "color": "rgba(128, 128, 128, 1.0)",
          "dash": "solid",
          "shape": "linear",
          "width": 1.3
         },
         "marker": {
          "size": 2,
          "symbol": "circle"
         },
         "mode": "markers",
         "name": "C",
         "text": "",
         "type": "scatter",
         "x": [
          1.160825800152867,
          0.49616468992605606,
          0.07383583694545158,
          0.2327336021717852,
          -0.5017316173158699,
          0.8035594113553268,
          -0.28453246467477783,
          -0.915122676714964,
          -1.0386383838201863,
          -1.9952568867431326,
          0.09036591505575159,
          1.155948073431354,
          -0.42889040391045663,
          -1.2389704786006113,
          0.48118016142863945,
          1.0226046516596001,
          0.7398795059007436,
          0.37427404601920805,
          -1.7494103233808207,
          -0.9193506297259831,
          0.8887150557163451,
          0.9103962137297099,
          0.8947662724723978,
          0.06129563149484737,
          0.12002325193346794,
          -0.676796697112064,
          0.06093394366571922,
          -0.5640148151417872,
          0.81707423120743,
          0.6769766088966667,
          1.0441711359096393,
          0.8152504059983663,
          -0.39786853228590585,
          0.6599657173835193,
          0.5442907815797696,
          -0.2911291866765822,
          0.25500617713030627,
          -0.8331171412221349,
          -0.8620206840215854,
          0.04307721553350601,
          -1.215724201505668,
          0.12782065868375267,
          -2.145446215905343,
          -1.2319037363163725,
          -0.45930560794346414,
          -0.21250766872033242,
          -0.39804764478120985,
          -1.007422616587833,
          -0.9847119868129514,
          0.561732278632458,
          -1.14933123553313,
          1.6418957813050432,
          -1.2876584947792657,
          -0.03539282053918007,
          1.362381345433245,
          -0.6291386847202808,
          1.898930581889669,
          -0.6149912505025651,
          2.3034710611983304,
          -0.21226266974932004,
          -0.44847316876586585,
          -0.85303319669474,
          0.39684829882784267,
          -0.39090798457724035,
          1.3631512954306748,
          0.38249503712678984,
          -0.7742515439820427,
          -1.203847854965608,
          1.0115904667778681,
          0.3616426794426263,
          1.4846748175633453,
          0.9654302865010991,
          1.4562869848628681,
          -0.8177914063638103,
          -0.2730370368057006,
          0.6358807484449549,
          -0.7820612964596657,
          0.29823457797888253,
          0.39283832766839666,
          0.5285082098876401,
          1.3226836756728508,
          1.6636775870661122,
          0.5170672228134581,
          0.824798069948975,
          -0.46265991994032685,
          -0.10433027741652127,
          0.2690776010702887,
          1.3276291696627414,
          1.4619005839703703,
          0.06670553461973262,
          1.2367949690978866,
          -1.6728464542712906,
          0.41956646947819315,
          1.0213475908554128,
          1.4010211872247769,
          0.7057004386030941,
          -0.8740541643155307,
          -0.08067153622956262,
          -0.8096141021027465,
          1.2860139723173836
         ],
         "xaxis": "x10",
         "y": [
          0.7400092392048068,
          -1.1612554650452065,
          -0.5122338887002665,
          0.8664771985598588,
          -0.34548987492232175,
          0.2781330104706034,
          0.8133129773606471,
          -0.07383128492210222,
          1.4992427452539066,
          -0.06427788658450528,
          0.9777437473437132,
          -1.0844097691216843,
          0.23691969667423549,
          0.6833580638519037,
          0.19854397914558808,
          1.2940032044175587,
          0.2938313960897921,
          -0.621691820858234,
          0.08475790559030699,
          -1.7256365238552824,
          0.7582412110970774,
          1.16644966761969,
          -0.13341758137524054,
          0.04093263652620348,
          0.18320697536407995,
          -0.32092372624067766,
          -0.9192767520476932,
          -0.009211021059547185,
          -0.019857457962381128,
          -0.3142022108888279,
          -0.6172132723525531,
          0.8960160304349492,
          0.7374330001967216,
          0.906649950526819,
          0.8261888595835849,
          0.8445809292425774,
          1.3616427427782307,
          -0.15250750568368196,
          0.10902639094972436,
          0.5281841463998894,
          -0.4749394513444946,
          0.7480762907916783,
          0.3388929235148995,
          -0.7310818991049979,
          0.02719614578997186,
          1.512962862350225,
          0.8035101292065836,
          -0.947393115998121,
          -0.02386938793565377,
          0.7320630015882023,
          1.4345212541566092,
          -0.09064584842119253,
          -0.252148147107145,
          -2.356165508371674,
          0.25763522548097273,
          1.8281771377382254,
          -0.04061189261196941,
          0.5765668729102671,
          -0.01960280456707083,
          1.1734496029900723,
          0.4150946237924706,
          -0.8742687679848868,
          -0.07335204432201242,
          -0.40438225261440797,
          -0.576332073034859,
          1.1146425638994812,
          -0.06873767949536136,
          -0.8595298987909357,
          -0.2464788836352362,
          -1.5408801744628844,
          -0.13284260964214661,
          0.41487455770150555,
          -0.11612837078371765,
          -0.485629058051464,
          0.31925770344676224,
          0.023159140123406755,
          0.9892737551707963,
          0.8448141680578326,
          -2.1502154363339514,
          -0.007235596504881794,
          0.2796531586390798,
          -0.3753414952199077,
          1.5123786861608832,
          -0.13171039496410855,
          0.14632688412280515,
          0.18796700882737305,
          0.31534514387362794,
          1.2218028635289813,
          -0.32024933567295366,
          0.2020833843113226,
          -1.5360472839414374,
          -0.8097024781571458,
          -0.61191498185867,
          -0.5094569134267607,
          -2.5249347881889856,
          -0.5105863402376877,
          1.5150611952696704,
          -0.7388111051732456,
          -0.45003373940694963,
          1.337901303183027
         ],
         "yaxis": "y10"
        },
        {
         "histfunc": "count",
         "histnorm": "",
         "marker": {
          "color": "rgba(50, 171, 96, 1.0)",
          "line": {
           "color": "#4D5663",
           "width": 1.3
          }
         },
         "name": "C",
         "nbinsx": 10,
         "opacity": 0.8,
         "orientation": "v",
         "type": "histogram",
         "x": [
          0.7400092392048068,
          -1.1612554650452065,
          -0.5122338887002665,
          0.8664771985598588,
          -0.34548987492232175,
          0.2781330104706034,
          0.8133129773606471,
          -0.07383128492210222,
          1.4992427452539066,
          -0.06427788658450528,
          0.9777437473437132,
          -1.0844097691216843,
          0.23691969667423549,
          0.6833580638519037,
          0.19854397914558808,
          1.2940032044175587,
          0.2938313960897921,
          -0.621691820858234,
          0.08475790559030699,
          -1.7256365238552824,
          0.7582412110970774,
          1.16644966761969,
          -0.13341758137524054,
          0.04093263652620348,
          0.18320697536407995,
          -0.32092372624067766,
          -0.9192767520476932,
          -0.009211021059547185,
          -0.019857457962381128,
          -0.3142022108888279,
          -0.6172132723525531,
          0.8960160304349492,
          0.7374330001967216,
          0.906649950526819,
          0.8261888595835849,
          0.8445809292425774,
          1.3616427427782307,
          -0.15250750568368196,
          0.10902639094972436,
          0.5281841463998894,
          -0.4749394513444946,
          0.7480762907916783,
          0.3388929235148995,
          -0.7310818991049979,
          0.02719614578997186,
          1.512962862350225,
          0.8035101292065836,
          -0.947393115998121,
          -0.02386938793565377,
          0.7320630015882023,
          1.4345212541566092,
          -0.09064584842119253,
          -0.252148147107145,
          -2.356165508371674,
          0.25763522548097273,
          1.8281771377382254,
          -0.04061189261196941,
          0.5765668729102671,
          -0.01960280456707083,
          1.1734496029900723,
          0.4150946237924706,
          -0.8742687679848868,
          -0.07335204432201242,
          -0.40438225261440797,
          -0.576332073034859,
          1.1146425638994812,
          -0.06873767949536136,
          -0.8595298987909357,
          -0.2464788836352362,
          -1.5408801744628844,
          -0.13284260964214661,
          0.41487455770150555,
          -0.11612837078371765,
          -0.485629058051464,
          0.31925770344676224,
          0.023159140123406755,
          0.9892737551707963,
          0.8448141680578326,
          -2.1502154363339514,
          -0.007235596504881794,
          0.2796531586390798,
          -0.3753414952199077,
          1.5123786861608832,
          -0.13171039496410855,
          0.14632688412280515,
          0.18796700882737305,
          0.31534514387362794,
          1.2218028635289813,
          -0.32024933567295366,
          0.2020833843113226,
          -1.5360472839414374,
          -0.8097024781571458,
          -0.61191498185867,
          -0.5094569134267607,
          -2.5249347881889856,
          -0.5105863402376877,
          1.5150611952696704,
          -0.7388111051732456,
          -0.45003373940694963,
          1.337901303183027
         ],
         "xaxis": "x11",
         "yaxis": "y11"
        },
        {
         "line": {
          "color": "rgba(128, 128, 128, 1.0)",
          "dash": "solid",
          "shape": "linear",
          "width": 1.3
         },
         "marker": {
          "size": 2,
          "symbol": "circle"
         },
         "mode": "markers",
         "name": "C",
         "text": "",
         "type": "scatter",
         "x": [
          -0.9068405688078486,
          0.11621097171247942,
          0.26448478101457584,
          -0.5440854440489594,
          0.5531515272952051,
          0.8234042785049313,
          -0.22906001896152353,
          -0.16995879751638207,
          0.6802184174681418,
          0.4445235048806215,
          0.6941279000595636,
          2.1747144867557284,
          1.0223991406942747,
          0.8368416708590749,
          0.184720174470893,
          0.19552655776599848,
          1.6264800319723853,
          1.318082762218274,
          -1.1640119153017372,
          1.2758601739228614,
          -1.6418670804553157,
          -0.4171095950902611,
          -0.3969242583499874,
          0.501527724050001,
          -1.074606222181749,
          -2.223424663893433,
          0.6716990615797975,
          0.14796640692409763,
          0.6948660217218141,
          -1.8580010868790662,
          -0.00526893887691044,
          -0.6836722995929522,
          0.16612742230538627,
          -0.11821349276729069,
          -0.92117968291553,
          0.29188265668117613,
          0.34960878144601626,
          -0.06270629467800636,
          -0.4038456358871288,
          0.2648605591171205,
          0.061168616234663235,
          1.024178167604516,
          -2.3389668344520116,
          -0.2824909310511887,
          -0.4229235811543551,
          0.05631613133747578,
          -1.0376629367534844,
          -1.0508408409413266,
          -0.651137516259835,
          -0.6603619267138788,
          0.6919249312578343,
          -0.3620145382845533,
          -0.3034438985204652,
          0.4506109621289893,
          0.19784991813168556,
          0.4486839596077117,
          -0.6541847283551394,
          1.1707625473024965,
          0.13268391400985902,
          -0.7435191432300351,
          -0.7293681641791371,
          -0.018877098021782796,
          -1.4524593337407599,
          0.1267230001259561,
          -0.7125292116463977,
          -1.223740915429738,
          1.7028564850815053,
          -0.025254987372562845,
          0.14252619879882147,
          -1.424391582709415,
          -0.1305437297684222,
          -1.114889983872903,
          0.8818507740128105,
          1.7383740083404464,
          0.26964871270546237,
          -1.1071106984364947,
          1.0031650408456287,
          -0.9530919999597487,
          -1.5771064309978597,
          -1.548931175254627,
          1.1505022138477403,
          -0.7345193249486318,
          1.8285714520083187,
          0.8272062189740068,
          0.8279518009515064,
          0.3568071184223297,
          -0.3306248498338502,
          0.4467509629034824,
          1.6445920281443878,
          -0.9967417532997104,
          -1.0556863288562042,
          0.35588131793485744,
          -1.1358190099883094,
          0.4211429293134869,
          0.15585056701122604,
          1.8748160736152852,
          2.344329847624523,
          -0.05539633385281114,
          2.0885407026049565,
          -1.1947913568464845
         ],
         "xaxis": "x12",
         "y": [
          0.7400092392048068,
          -1.1612554650452065,
          -0.5122338887002665,
          0.8664771985598588,
          -0.34548987492232175,
          0.2781330104706034,
          0.8133129773606471,
          -0.07383128492210222,
          1.4992427452539066,
          -0.06427788658450528,
          0.9777437473437132,
          -1.0844097691216843,
          0.23691969667423549,
          0.6833580638519037,
          0.19854397914558808,
          1.2940032044175587,
          0.2938313960897921,
          -0.621691820858234,
          0.08475790559030699,
          -1.7256365238552824,
          0.7582412110970774,
          1.16644966761969,
          -0.13341758137524054,
          0.04093263652620348,
          0.18320697536407995,
          -0.32092372624067766,
          -0.9192767520476932,
          -0.009211021059547185,
          -0.019857457962381128,
          -0.3142022108888279,
          -0.6172132723525531,
          0.8960160304349492,
          0.7374330001967216,
          0.906649950526819,
          0.8261888595835849,
          0.8445809292425774,
          1.3616427427782307,
          -0.15250750568368196,
          0.10902639094972436,
          0.5281841463998894,
          -0.4749394513444946,
          0.7480762907916783,
          0.3388929235148995,
          -0.7310818991049979,
          0.02719614578997186,
          1.512962862350225,
          0.8035101292065836,
          -0.947393115998121,
          -0.02386938793565377,
          0.7320630015882023,
          1.4345212541566092,
          -0.09064584842119253,
          -0.252148147107145,
          -2.356165508371674,
          0.25763522548097273,
          1.8281771377382254,
          -0.04061189261196941,
          0.5765668729102671,
          -0.01960280456707083,
          1.1734496029900723,
          0.4150946237924706,
          -0.8742687679848868,
          -0.07335204432201242,
          -0.40438225261440797,
          -0.576332073034859,
          1.1146425638994812,
          -0.06873767949536136,
          -0.8595298987909357,
          -0.2464788836352362,
          -1.5408801744628844,
          -0.13284260964214661,
          0.41487455770150555,
          -0.11612837078371765,
          -0.485629058051464,
          0.31925770344676224,
          0.023159140123406755,
          0.9892737551707963,
          0.8448141680578326,
          -2.1502154363339514,
          -0.007235596504881794,
          0.2796531586390798,
          -0.3753414952199077,
          1.5123786861608832,
          -0.13171039496410855,
          0.14632688412280515,
          0.18796700882737305,
          0.31534514387362794,
          1.2218028635289813,
          -0.32024933567295366,
          0.2020833843113226,
          -1.5360472839414374,
          -0.8097024781571458,
          -0.61191498185867,
          -0.5094569134267607,
          -2.5249347881889856,
          -0.5105863402376877,
          1.5150611952696704,
          -0.7388111051732456,
          -0.45003373940694963,
          1.337901303183027
         ],
         "yaxis": "y12"
        },
        {
         "line": {
          "color": "rgba(128, 128, 128, 1.0)",
          "dash": "solid",
          "shape": "linear",
          "width": 1.3
         },
         "marker": {
          "size": 2,
          "symbol": "circle"
         },
         "mode": "markers",
         "name": "D",
         "text": "",
         "type": "scatter",
         "x": [
          0.2540205165143539,
          0.21018287468404354,
          -1.417366523418028,
          1.4355964054891057,
          0.6438156084526279,
          -0.48992682332332516,
          2.089603407589297,
          -0.24037244272897193,
          0.22741612429678598,
          -0.43388743074207914,
          -0.17474693590151122,
          -0.3378269321122739,
          -0.2872816214010255,
          0.09021167266536759,
          1.9916614315099455,
          -0.9203501904153832,
          1.9932576734555514,
          1.190820979890536,
          0.7591670480729559,
          -0.9322613470150776,
          -0.04972199823331805,
          1.2685856210555648,
          1.5879259973556699,
          -0.567128573474692,
          -2.1942346439385063,
          -0.4559241878544287,
          1.0321820388276353,
          -1.2718987011182359,
          -1.2386551206807364,
          -2.194211747720904,
          -0.5258492859793686,
          -0.6653282837542511,
          -1.3988028138784063,
          -0.07260478095047099,
          -0.28642094085208936,
          -0.11457773635910108,
          -0.1095433105850815,
          0.9750875884483519,
          0.8374465307982316,
          -0.739274852671829,
          0.3157117587684143,
          -0.1715446808230524,
          -1.941469789403776,
          -0.8593008608200065,
          1.0567482570657265,
          -1.9320398455863936,
          0.2594822932774328,
          -0.39301308706656246,
          0.4491389194589242,
          -0.5943834464300685,
          -1.6205742737788318,
          0.6117521209297304,
          -1.276327824115349,
          0.4086695638455752,
          0.24793326266283466,
          -0.4612398992086352,
          1.472207033963178,
          -1.8432937178256399,
          0.331853571779341,
          -0.14425338478943614,
          -0.05413105300153619,
          2.319362187084283,
          0.7674645302272454,
          0.6023945964221519,
          0.09769810203503486,
          1.4595133621459795,
          0.5577801094920947,
          -0.8161165385921015,
          -0.20283106200073736,
          1.0814223714895106,
          -0.9390927760332309,
          -0.7014055677825115,
          -0.26483222934057704,
          0.2563524393956336,
          1.066269844507545,
          0.8834240698541156,
          -0.7106341632582636,
          -0.4401823764634333,
          0.9603374413953691,
          -0.04706661324449886,
          -0.32082510121876906,
          0.22690521984675313,
          0.5580555659912436,
          -0.097048566746413,
          1.7196848303305123,
          0.1334024173581546,
          -1.3154871382832112,
          -0.9863034014659603,
          -1.0446233980609223,
          2.755130001029382,
          -0.19396822225672392,
          -1.0333488219739275,
          0.37272339170574764,
          1.0054492152613619,
          1.266420601741147,
          -2.1026940491604966,
          0.5587347491572473,
          -1.26564189608967,
          1.2365667571795178,
          0.4093624285717989
         ],
         "xaxis": "x13",
         "y": [
          -0.9068405688078486,
          0.11621097171247942,
          0.26448478101457584,
          -0.5440854440489594,
          0.5531515272952051,
          0.8234042785049313,
          -0.22906001896152353,
          -0.16995879751638207,
          0.6802184174681418,
          0.4445235048806215,
          0.6941279000595636,
          2.1747144867557284,
          1.0223991406942747,
          0.8368416708590749,
          0.184720174470893,
          0.19552655776599848,
          1.6264800319723853,
          1.318082762218274,
          -1.1640119153017372,
          1.2758601739228614,
          -1.6418670804553157,
          -0.4171095950902611,
          -0.3969242583499874,
          0.501527724050001,
          -1.074606222181749,
          -2.223424663893433,
          0.6716990615797975,
          0.14796640692409763,
          0.6948660217218141,
          -1.8580010868790662,
          -0.00526893887691044,
          -0.6836722995929522,
          0.16612742230538627,
          -0.11821349276729069,
          -0.92117968291553,
          0.29188265668117613,
          0.34960878144601626,
          -0.06270629467800636,
          -0.4038456358871288,
          0.2648605591171205,
          0.061168616234663235,
          1.024178167604516,
          -2.3389668344520116,
          -0.2824909310511887,
          -0.4229235811543551,
          0.05631613133747578,
          -1.0376629367534844,
          -1.0508408409413266,
          -0.651137516259835,
          -0.6603619267138788,
          0.6919249312578343,
          -0.3620145382845533,
          -0.3034438985204652,
          0.4506109621289893,
          0.19784991813168556,
          0.4486839596077117,
          -0.6541847283551394,
          1.1707625473024965,
          0.13268391400985902,
          -0.7435191432300351,
          -0.7293681641791371,
          -0.018877098021782796,
          -1.4524593337407599,
          0.1267230001259561,
          -0.7125292116463977,
          -1.223740915429738,
          1.7028564850815053,
          -0.025254987372562845,
          0.14252619879882147,
          -1.424391582709415,
          -0.1305437297684222,
          -1.114889983872903,
          0.8818507740128105,
          1.7383740083404464,
          0.26964871270546237,
          -1.1071106984364947,
          1.0031650408456287,
          -0.9530919999597487,
          -1.5771064309978597,
          -1.548931175254627,
          1.1505022138477403,
          -0.7345193249486318,
          1.8285714520083187,
          0.8272062189740068,
          0.8279518009515064,
          0.3568071184223297,
          -0.3306248498338502,
          0.4467509629034824,
          1.6445920281443878,
          -0.9967417532997104,
          -1.0556863288562042,
          0.35588131793485744,
          -1.1358190099883094,
          0.4211429293134869,
          0.15585056701122604,
          1.8748160736152852,
          2.344329847624523,
          -0.05539633385281114,
          2.0885407026049565,
          -1.1947913568464845
         ],
         "yaxis": "y13"
        },
        {
         "line": {
          "color": "rgba(128, 128, 128, 1.0)",
          "dash": "solid",
          "shape": "linear",
          "width": 1.3
         },
         "marker": {
          "size": 2,
          "symbol": "circle"
         },
         "mode": "markers",
         "name": "D",
         "text": "",
         "type": "scatter",
         "x": [
          1.160825800152867,
          0.49616468992605606,
          0.07383583694545158,
          0.2327336021717852,
          -0.5017316173158699,
          0.8035594113553268,
          -0.28453246467477783,
          -0.915122676714964,
          -1.0386383838201863,
          -1.9952568867431326,
          0.09036591505575159,
          1.155948073431354,
          -0.42889040391045663,
          -1.2389704786006113,
          0.48118016142863945,
          1.0226046516596001,
          0.7398795059007436,
          0.37427404601920805,
          -1.7494103233808207,
          -0.9193506297259831,
          0.8887150557163451,
          0.9103962137297099,
          0.8947662724723978,
          0.06129563149484737,
          0.12002325193346794,
          -0.676796697112064,
          0.06093394366571922,
          -0.5640148151417872,
          0.81707423120743,
          0.6769766088966667,
          1.0441711359096393,
          0.8152504059983663,
          -0.39786853228590585,
          0.6599657173835193,
          0.5442907815797696,
          -0.2911291866765822,
          0.25500617713030627,
          -0.8331171412221349,
          -0.8620206840215854,
          0.04307721553350601,
          -1.215724201505668,
          0.12782065868375267,
          -2.145446215905343,
          -1.2319037363163725,
          -0.45930560794346414,
          -0.21250766872033242,
          -0.39804764478120985,
          -1.007422616587833,
          -0.9847119868129514,
          0.561732278632458,
          -1.14933123553313,
          1.6418957813050432,
          -1.2876584947792657,
          -0.03539282053918007,
          1.362381345433245,
          -0.6291386847202808,
          1.898930581889669,
          -0.6149912505025651,
          2.3034710611983304,
          -0.21226266974932004,
          -0.44847316876586585,
          -0.85303319669474,
          0.39684829882784267,
          -0.39090798457724035,
          1.3631512954306748,
          0.38249503712678984,
          -0.7742515439820427,
          -1.203847854965608,
          1.0115904667778681,
          0.3616426794426263,
          1.4846748175633453,
          0.9654302865010991,
          1.4562869848628681,
          -0.8177914063638103,
          -0.2730370368057006,
          0.6358807484449549,
          -0.7820612964596657,
          0.29823457797888253,
          0.39283832766839666,
          0.5285082098876401,
          1.3226836756728508,
          1.6636775870661122,
          0.5170672228134581,
          0.824798069948975,
          -0.46265991994032685,
          -0.10433027741652127,
          0.2690776010702887,
          1.3276291696627414,
          1.4619005839703703,
          0.06670553461973262,
          1.2367949690978866,
          -1.6728464542712906,
          0.41956646947819315,
          1.0213475908554128,
          1.4010211872247769,
          0.7057004386030941,
          -0.8740541643155307,
          -0.08067153622956262,
          -0.8096141021027465,
          1.2860139723173836
         ],
         "xaxis": "x14",
         "y": [
          -0.9068405688078486,
          0.11621097171247942,
          0.26448478101457584,
          -0.5440854440489594,
          0.5531515272952051,
          0.8234042785049313,
          -0.22906001896152353,
          -0.16995879751638207,
          0.6802184174681418,
          0.4445235048806215,
          0.6941279000595636,
          2.1747144867557284,
          1.0223991406942747,
          0.8368416708590749,
          0.184720174470893,
          0.19552655776599848,
          1.6264800319723853,
          1.318082762218274,
          -1.1640119153017372,
          1.2758601739228614,
          -1.6418670804553157,
          -0.4171095950902611,
          -0.3969242583499874,
          0.501527724050001,
          -1.074606222181749,
          -2.223424663893433,
          0.6716990615797975,
          0.14796640692409763,
          0.6948660217218141,
          -1.8580010868790662,
          -0.00526893887691044,
          -0.6836722995929522,
          0.16612742230538627,
          -0.11821349276729069,
          -0.92117968291553,
          0.29188265668117613,
          0.34960878144601626,
          -0.06270629467800636,
          -0.4038456358871288,
          0.2648605591171205,
          0.061168616234663235,
          1.024178167604516,
          -2.3389668344520116,
          -0.2824909310511887,
          -0.4229235811543551,
          0.05631613133747578,
          -1.0376629367534844,
          -1.0508408409413266,
          -0.651137516259835,
          -0.6603619267138788,
          0.6919249312578343,
          -0.3620145382845533,
          -0.3034438985204652,
          0.4506109621289893,
          0.19784991813168556,
          0.4486839596077117,
          -0.6541847283551394,
          1.1707625473024965,
          0.13268391400985902,
          -0.7435191432300351,
          -0.7293681641791371,
          -0.018877098021782796,
          -1.4524593337407599,
          0.1267230001259561,
          -0.7125292116463977,
          -1.223740915429738,
          1.7028564850815053,
          -0.025254987372562845,
          0.14252619879882147,
          -1.424391582709415,
          -0.1305437297684222,
          -1.114889983872903,
          0.8818507740128105,
          1.7383740083404464,
          0.26964871270546237,
          -1.1071106984364947,
          1.0031650408456287,
          -0.9530919999597487,
          -1.5771064309978597,
          -1.548931175254627,
          1.1505022138477403,
          -0.7345193249486318,
          1.8285714520083187,
          0.8272062189740068,
          0.8279518009515064,
          0.3568071184223297,
          -0.3306248498338502,
          0.4467509629034824,
          1.6445920281443878,
          -0.9967417532997104,
          -1.0556863288562042,
          0.35588131793485744,
          -1.1358190099883094,
          0.4211429293134869,
          0.15585056701122604,
          1.8748160736152852,
          2.344329847624523,
          -0.05539633385281114,
          2.0885407026049565,
          -1.1947913568464845
         ],
         "yaxis": "y14"
        },
        {
         "line": {
          "color": "rgba(128, 128, 128, 1.0)",
          "dash": "solid",
          "shape": "linear",
          "width": 1.3
         },
         "marker": {
          "size": 2,
          "symbol": "circle"
         },
         "mode": "markers",
         "name": "D",
         "text": "",
         "type": "scatter",
         "x": [
          0.7400092392048068,
          -1.1612554650452065,
          -0.5122338887002665,
          0.8664771985598588,
          -0.34548987492232175,
          0.2781330104706034,
          0.8133129773606471,
          -0.07383128492210222,
          1.4992427452539066,
          -0.06427788658450528,
          0.9777437473437132,
          -1.0844097691216843,
          0.23691969667423549,
          0.6833580638519037,
          0.19854397914558808,
          1.2940032044175587,
          0.2938313960897921,
          -0.621691820858234,
          0.08475790559030699,
          -1.7256365238552824,
          0.7582412110970774,
          1.16644966761969,
          -0.13341758137524054,
          0.04093263652620348,
          0.18320697536407995,
          -0.32092372624067766,
          -0.9192767520476932,
          -0.009211021059547185,
          -0.019857457962381128,
          -0.3142022108888279,
          -0.6172132723525531,
          0.8960160304349492,
          0.7374330001967216,
          0.906649950526819,
          0.8261888595835849,
          0.8445809292425774,
          1.3616427427782307,
          -0.15250750568368196,
          0.10902639094972436,
          0.5281841463998894,
          -0.4749394513444946,
          0.7480762907916783,
          0.3388929235148995,
          -0.7310818991049979,
          0.02719614578997186,
          1.512962862350225,
          0.8035101292065836,
          -0.947393115998121,
          -0.02386938793565377,
          0.7320630015882023,
          1.4345212541566092,
          -0.09064584842119253,
          -0.252148147107145,
          -2.356165508371674,
          0.25763522548097273,
          1.8281771377382254,
          -0.04061189261196941,
          0.5765668729102671,
          -0.01960280456707083,
          1.1734496029900723,
          0.4150946237924706,
          -0.8742687679848868,
          -0.07335204432201242,
          -0.40438225261440797,
          -0.576332073034859,
          1.1146425638994812,
          -0.06873767949536136,
          -0.8595298987909357,
          -0.2464788836352362,
          -1.5408801744628844,
          -0.13284260964214661,
          0.41487455770150555,
          -0.11612837078371765,
          -0.485629058051464,
          0.31925770344676224,
          0.023159140123406755,
          0.9892737551707963,
          0.8448141680578326,
          -2.1502154363339514,
          -0.007235596504881794,
          0.2796531586390798,
          -0.3753414952199077,
          1.5123786861608832,
          -0.13171039496410855,
          0.14632688412280515,
          0.18796700882737305,
          0.31534514387362794,
          1.2218028635289813,
          -0.32024933567295366,
          0.2020833843113226,
          -1.5360472839414374,
          -0.8097024781571458,
          -0.61191498185867,
          -0.5094569134267607,
          -2.5249347881889856,
          -0.5105863402376877,
          1.5150611952696704,
          -0.7388111051732456,
          -0.45003373940694963,
          1.337901303183027
         ],
         "xaxis": "x15",
         "y": [
          -0.9068405688078486,
          0.11621097171247942,
          0.26448478101457584,
          -0.5440854440489594,
          0.5531515272952051,
          0.8234042785049313,
          -0.22906001896152353,
          -0.16995879751638207,
          0.6802184174681418,
          0.4445235048806215,
          0.6941279000595636,
          2.1747144867557284,
          1.0223991406942747,
          0.8368416708590749,
          0.184720174470893,
          0.19552655776599848,
          1.6264800319723853,
          1.318082762218274,
          -1.1640119153017372,
          1.2758601739228614,
          -1.6418670804553157,
          -0.4171095950902611,
          -0.3969242583499874,
          0.501527724050001,
          -1.074606222181749,
          -2.223424663893433,
          0.6716990615797975,
          0.14796640692409763,
          0.6948660217218141,
          -1.8580010868790662,
          -0.00526893887691044,
          -0.6836722995929522,
          0.16612742230538627,
          -0.11821349276729069,
          -0.92117968291553,
          0.29188265668117613,
          0.34960878144601626,
          -0.06270629467800636,
          -0.4038456358871288,
          0.2648605591171205,
          0.061168616234663235,
          1.024178167604516,
          -2.3389668344520116,
          -0.2824909310511887,
          -0.4229235811543551,
          0.05631613133747578,
          -1.0376629367534844,
          -1.0508408409413266,
          -0.651137516259835,
          -0.6603619267138788,
          0.6919249312578343,
          -0.3620145382845533,
          -0.3034438985204652,
          0.4506109621289893,
          0.19784991813168556,
          0.4486839596077117,
          -0.6541847283551394,
          1.1707625473024965,
          0.13268391400985902,
          -0.7435191432300351,
          -0.7293681641791371,
          -0.018877098021782796,
          -1.4524593337407599,
          0.1267230001259561,
          -0.7125292116463977,
          -1.223740915429738,
          1.7028564850815053,
          -0.025254987372562845,
          0.14252619879882147,
          -1.424391582709415,
          -0.1305437297684222,
          -1.114889983872903,
          0.8818507740128105,
          1.7383740083404464,
          0.26964871270546237,
          -1.1071106984364947,
          1.0031650408456287,
          -0.9530919999597487,
          -1.5771064309978597,
          -1.548931175254627,
          1.1505022138477403,
          -0.7345193249486318,
          1.8285714520083187,
          0.8272062189740068,
          0.8279518009515064,
          0.3568071184223297,
          -0.3306248498338502,
          0.4467509629034824,
          1.6445920281443878,
          -0.9967417532997104,
          -1.0556863288562042,
          0.35588131793485744,
          -1.1358190099883094,
          0.4211429293134869,
          0.15585056701122604,
          1.8748160736152852,
          2.344329847624523,
          -0.05539633385281114,
          2.0885407026049565,
          -1.1947913568464845
         ],
         "yaxis": "y15"
        },
        {
         "histfunc": "count",
         "histnorm": "",
         "marker": {
          "color": "rgba(128, 0, 128, 1.0)",
          "line": {
           "color": "#4D5663",
           "width": 1.3
          }
         },
         "name": "D",
         "nbinsx": 10,
         "opacity": 0.8,
         "orientation": "v",
         "type": "histogram",
         "x": [
          -0.9068405688078486,
          0.11621097171247942,
          0.26448478101457584,
          -0.5440854440489594,
          0.5531515272952051,
          0.8234042785049313,
          -0.22906001896152353,
          -0.16995879751638207,
          0.6802184174681418,
          0.4445235048806215,
          0.6941279000595636,
          2.1747144867557284,
          1.0223991406942747,
          0.8368416708590749,
          0.184720174470893,
          0.19552655776599848,
          1.6264800319723853,
          1.318082762218274,
          -1.1640119153017372,
          1.2758601739228614,
          -1.6418670804553157,
          -0.4171095950902611,
          -0.3969242583499874,
          0.501527724050001,
          -1.074606222181749,
          -2.223424663893433,
          0.6716990615797975,
          0.14796640692409763,
          0.6948660217218141,
          -1.8580010868790662,
          -0.00526893887691044,
          -0.6836722995929522,
          0.16612742230538627,
          -0.11821349276729069,
          -0.92117968291553,
          0.29188265668117613,
          0.34960878144601626,
          -0.06270629467800636,
          -0.4038456358871288,
          0.2648605591171205,
          0.061168616234663235,
          1.024178167604516,
          -2.3389668344520116,
          -0.2824909310511887,
          -0.4229235811543551,
          0.05631613133747578,
          -1.0376629367534844,
          -1.0508408409413266,
          -0.651137516259835,
          -0.6603619267138788,
          0.6919249312578343,
          -0.3620145382845533,
          -0.3034438985204652,
          0.4506109621289893,
          0.19784991813168556,
          0.4486839596077117,
          -0.6541847283551394,
          1.1707625473024965,
          0.13268391400985902,
          -0.7435191432300351,
          -0.7293681641791371,
          -0.018877098021782796,
          -1.4524593337407599,
          0.1267230001259561,
          -0.7125292116463977,
          -1.223740915429738,
          1.7028564850815053,
          -0.025254987372562845,
          0.14252619879882147,
          -1.424391582709415,
          -0.1305437297684222,
          -1.114889983872903,
          0.8818507740128105,
          1.7383740083404464,
          0.26964871270546237,
          -1.1071106984364947,
          1.0031650408456287,
          -0.9530919999597487,
          -1.5771064309978597,
          -1.548931175254627,
          1.1505022138477403,
          -0.7345193249486318,
          1.8285714520083187,
          0.8272062189740068,
          0.8279518009515064,
          0.3568071184223297,
          -0.3306248498338502,
          0.4467509629034824,
          1.6445920281443878,
          -0.9967417532997104,
          -1.0556863288562042,
          0.35588131793485744,
          -1.1358190099883094,
          0.4211429293134869,
          0.15585056701122604,
          1.8748160736152852,
          2.344329847624523,
          -0.05539633385281114,
          2.0885407026049565,
          -1.1947913568464845
         ],
         "xaxis": "x16",
         "yaxis": "y16"
        }
       ],
       "layout": {
        "bargap": 0.02,
        "legend": {
         "bgcolor": "#F5F6F9",
         "font": {
          "color": "#4D5663"
         }
        },
        "paper_bgcolor": "#F5F6F9",
        "plot_bgcolor": "#F5F6F9",
        "showlegend": false,
        "template": {
         "data": {
          "bar": [
           {
            "error_x": {
             "color": "#2a3f5f"
            },
            "error_y": {
             "color": "#2a3f5f"
            },
            "marker": {
             "line": {
              "color": "#E5ECF6",
              "width": 0.5
             },
             "pattern": {
              "fillmode": "overlay",
              "size": 10,
              "solidity": 0.2
             }
            },
            "type": "bar"
           }
          ],
          "barpolar": [
           {
            "marker": {
             "line": {
              "color": "#E5ECF6",
              "width": 0.5
             },
             "pattern": {
              "fillmode": "overlay",
              "size": 10,
              "solidity": 0.2
             }
            },
            "type": "barpolar"
           }
          ],
          "carpet": [
           {
            "aaxis": {
             "endlinecolor": "#2a3f5f",
             "gridcolor": "white",
             "linecolor": "white",
             "minorgridcolor": "white",
             "startlinecolor": "#2a3f5f"
            },
            "baxis": {
             "endlinecolor": "#2a3f5f",
             "gridcolor": "white",
             "linecolor": "white",
             "minorgridcolor": "white",
             "startlinecolor": "#2a3f5f"
            },
            "type": "carpet"
           }
          ],
          "choropleth": [
           {
            "colorbar": {
             "outlinewidth": 0,
             "ticks": ""
            },
            "type": "choropleth"
           }
          ],
          "contour": [
           {
            "colorbar": {
             "outlinewidth": 0,
             "ticks": ""
            },
            "colorscale": [
             [
              0,
              "#0d0887"
             ],
             [
              0.1111111111111111,
              "#46039f"
             ],
             [
              0.2222222222222222,
              "#7201a8"
             ],
             [
              0.3333333333333333,
              "#9c179e"
             ],
             [
              0.4444444444444444,
              "#bd3786"
             ],
             [
              0.5555555555555556,
              "#d8576b"
             ],
             [
              0.6666666666666666,
              "#ed7953"
             ],
             [
              0.7777777777777778,
              "#fb9f3a"
             ],
             [
              0.8888888888888888,
              "#fdca26"
             ],
             [
              1,
              "#f0f921"
             ]
            ],
            "type": "contour"
           }
          ],
          "contourcarpet": [
           {
            "colorbar": {
             "outlinewidth": 0,
             "ticks": ""
            },
            "type": "contourcarpet"
           }
          ],
          "heatmap": [
           {
            "colorbar": {
             "outlinewidth": 0,
             "ticks": ""
            },
            "colorscale": [
             [
              0,
              "#0d0887"
             ],
             [
              0.1111111111111111,
              "#46039f"
             ],
             [
              0.2222222222222222,
              "#7201a8"
             ],
             [
              0.3333333333333333,
              "#9c179e"
             ],
             [
              0.4444444444444444,
              "#bd3786"
             ],
             [
              0.5555555555555556,
              "#d8576b"
             ],
             [
              0.6666666666666666,
              "#ed7953"
             ],
             [
              0.7777777777777778,
              "#fb9f3a"
             ],
             [
              0.8888888888888888,
              "#fdca26"
             ],
             [
              1,
              "#f0f921"
             ]
            ],
            "type": "heatmap"
           }
          ],
          "heatmapgl": [
           {
            "colorbar": {
             "outlinewidth": 0,
             "ticks": ""
            },
            "colorscale": [
             [
              0,
              "#0d0887"
             ],
             [
              0.1111111111111111,
              "#46039f"
             ],
             [
              0.2222222222222222,
              "#7201a8"
             ],
             [
              0.3333333333333333,
              "#9c179e"
             ],
             [
              0.4444444444444444,
              "#bd3786"
             ],
             [
              0.5555555555555556,
              "#d8576b"
             ],
             [
              0.6666666666666666,
              "#ed7953"
             ],
             [
              0.7777777777777778,
              "#fb9f3a"
             ],
             [
              0.8888888888888888,
              "#fdca26"
             ],
             [
              1,
              "#f0f921"
             ]
            ],
            "type": "heatmapgl"
           }
          ],
          "histogram": [
           {
            "marker": {
             "pattern": {
              "fillmode": "overlay",
              "size": 10,
              "solidity": 0.2
             }
            },
            "type": "histogram"
           }
          ],
          "histogram2d": [
           {
            "colorbar": {
             "outlinewidth": 0,
             "ticks": ""
            },
            "colorscale": [
             [
              0,
              "#0d0887"
             ],
             [
              0.1111111111111111,
              "#46039f"
             ],
             [
              0.2222222222222222,
              "#7201a8"
             ],
             [
              0.3333333333333333,
              "#9c179e"
             ],
             [
              0.4444444444444444,
              "#bd3786"
             ],
             [
              0.5555555555555556,
              "#d8576b"
             ],
             [
              0.6666666666666666,
              "#ed7953"
             ],
             [
              0.7777777777777778,
              "#fb9f3a"
             ],
             [
              0.8888888888888888,
              "#fdca26"
             ],
             [
              1,
              "#f0f921"
             ]
            ],
            "type": "histogram2d"
           }
          ],
          "histogram2dcontour": [
           {
            "colorbar": {
             "outlinewidth": 0,
             "ticks": ""
            },
            "colorscale": [
             [
              0,
              "#0d0887"
             ],
             [
              0.1111111111111111,
              "#46039f"
             ],
             [
              0.2222222222222222,
              "#7201a8"
             ],
             [
              0.3333333333333333,
              "#9c179e"
             ],
             [
              0.4444444444444444,
              "#bd3786"
             ],
             [
              0.5555555555555556,
              "#d8576b"
             ],
             [
              0.6666666666666666,
              "#ed7953"
             ],
             [
              0.7777777777777778,
              "#fb9f3a"
             ],
             [
              0.8888888888888888,
              "#fdca26"
             ],
             [
              1,
              "#f0f921"
             ]
            ],
            "type": "histogram2dcontour"
           }
          ],
          "mesh3d": [
           {
            "colorbar": {
             "outlinewidth": 0,
             "ticks": ""
            },
            "type": "mesh3d"
           }
          ],
          "parcoords": [
           {
            "line": {
             "colorbar": {
              "outlinewidth": 0,
              "ticks": ""
             }
            },
            "type": "parcoords"
           }
          ],
          "pie": [
           {
            "automargin": true,
            "type": "pie"
           }
          ],
          "scatter": [
           {
            "marker": {
             "colorbar": {
              "outlinewidth": 0,
              "ticks": ""
             }
            },
            "type": "scatter"
           }
          ],
          "scatter3d": [
           {
            "line": {
             "colorbar": {
              "outlinewidth": 0,
              "ticks": ""
             }
            },
            "marker": {
             "colorbar": {
              "outlinewidth": 0,
              "ticks": ""
             }
            },
            "type": "scatter3d"
           }
          ],
          "scattercarpet": [
           {
            "marker": {
             "colorbar": {
              "outlinewidth": 0,
              "ticks": ""
             }
            },
            "type": "scattercarpet"
           }
          ],
          "scattergeo": [
           {
            "marker": {
             "colorbar": {
              "outlinewidth": 0,
              "ticks": ""
             }
            },
            "type": "scattergeo"
           }
          ],
          "scattergl": [
           {
            "marker": {
             "colorbar": {
              "outlinewidth": 0,
              "ticks": ""
             }
            },
            "type": "scattergl"
           }
          ],
          "scattermapbox": [
           {
            "marker": {
             "colorbar": {
              "outlinewidth": 0,
              "ticks": ""
             }
            },
            "type": "scattermapbox"
           }
          ],
          "scatterpolar": [
           {
            "marker": {
             "colorbar": {
              "outlinewidth": 0,
              "ticks": ""
             }
            },
            "type": "scatterpolar"
           }
          ],
          "scatterpolargl": [
           {
            "marker": {
             "colorbar": {
              "outlinewidth": 0,
              "ticks": ""
             }
            },
            "type": "scatterpolargl"
           }
          ],
          "scatterternary": [
           {
            "marker": {
             "colorbar": {
              "outlinewidth": 0,
              "ticks": ""
             }
            },
            "type": "scatterternary"
           }
          ],
          "surface": [
           {
            "colorbar": {
             "outlinewidth": 0,
             "ticks": ""
            },
            "colorscale": [
             [
              0,
              "#0d0887"
             ],
             [
              0.1111111111111111,
              "#46039f"
             ],
             [
              0.2222222222222222,
              "#7201a8"
             ],
             [
              0.3333333333333333,
              "#9c179e"
             ],
             [
              0.4444444444444444,
              "#bd3786"
             ],
             [
              0.5555555555555556,
              "#d8576b"
             ],
             [
              0.6666666666666666,
              "#ed7953"
             ],
             [
              0.7777777777777778,
              "#fb9f3a"
             ],
             [
              0.8888888888888888,
              "#fdca26"
             ],
             [
              1,
              "#f0f921"
             ]
            ],
            "type": "surface"
           }
          ],
          "table": [
           {
            "cells": {
             "fill": {
              "color": "#EBF0F8"
             },
             "line": {
              "color": "white"
             }
            },
            "header": {
             "fill": {
              "color": "#C8D4E3"
             },
             "line": {
              "color": "white"
             }
            },
            "type": "table"
           }
          ]
         },
         "layout": {
          "annotationdefaults": {
           "arrowcolor": "#2a3f5f",
           "arrowhead": 0,
           "arrowwidth": 1
          },
          "autotypenumbers": "strict",
          "coloraxis": {
           "colorbar": {
            "outlinewidth": 0,
            "ticks": ""
           }
          },
          "colorscale": {
           "diverging": [
            [
             0,
             "#8e0152"
            ],
            [
             0.1,
             "#c51b7d"
            ],
            [
             0.2,
             "#de77ae"
            ],
            [
             0.3,
             "#f1b6da"
            ],
            [
             0.4,
             "#fde0ef"
            ],
            [
             0.5,
             "#f7f7f7"
            ],
            [
             0.6,
             "#e6f5d0"
            ],
            [
             0.7,
             "#b8e186"
            ],
            [
             0.8,
             "#7fbc41"
            ],
            [
             0.9,
             "#4d9221"
            ],
            [
             1,
             "#276419"
            ]
           ],
           "sequential": [
            [
             0,
             "#0d0887"
            ],
            [
             0.1111111111111111,
             "#46039f"
            ],
            [
             0.2222222222222222,
             "#7201a8"
            ],
            [
             0.3333333333333333,
             "#9c179e"
            ],
            [
             0.4444444444444444,
             "#bd3786"
            ],
            [
             0.5555555555555556,
             "#d8576b"
            ],
            [
             0.6666666666666666,
             "#ed7953"
            ],
            [
             0.7777777777777778,
             "#fb9f3a"
            ],
            [
             0.8888888888888888,
             "#fdca26"
            ],
            [
             1,
             "#f0f921"
            ]
           ],
           "sequentialminus": [
            [
             0,
             "#0d0887"
            ],
            [
             0.1111111111111111,
             "#46039f"
            ],
            [
             0.2222222222222222,
             "#7201a8"
            ],
            [
             0.3333333333333333,
             "#9c179e"
            ],
            [
             0.4444444444444444,
             "#bd3786"
            ],
            [
             0.5555555555555556,
             "#d8576b"
            ],
            [
             0.6666666666666666,
             "#ed7953"
            ],
            [
             0.7777777777777778,
             "#fb9f3a"
            ],
            [
             0.8888888888888888,
             "#fdca26"
            ],
            [
             1,
             "#f0f921"
            ]
           ]
          },
          "colorway": [
           "#636efa",
           "#EF553B",
           "#00cc96",
           "#ab63fa",
           "#FFA15A",
           "#19d3f3",
           "#FF6692",
           "#B6E880",
           "#FF97FF",
           "#FECB52"
          ],
          "font": {
           "color": "#2a3f5f"
          },
          "geo": {
           "bgcolor": "white",
           "lakecolor": "white",
           "landcolor": "#E5ECF6",
           "showlakes": true,
           "showland": true,
           "subunitcolor": "white"
          },
          "hoverlabel": {
           "align": "left"
          },
          "hovermode": "closest",
          "mapbox": {
           "style": "light"
          },
          "paper_bgcolor": "white",
          "plot_bgcolor": "#E5ECF6",
          "polar": {
           "angularaxis": {
            "gridcolor": "white",
            "linecolor": "white",
            "ticks": ""
           },
           "bgcolor": "#E5ECF6",
           "radialaxis": {
            "gridcolor": "white",
            "linecolor": "white",
            "ticks": ""
           }
          },
          "scene": {
           "xaxis": {
            "backgroundcolor": "#E5ECF6",
            "gridcolor": "white",
            "gridwidth": 2,
            "linecolor": "white",
            "showbackground": true,
            "ticks": "",
            "zerolinecolor": "white"
           },
           "yaxis": {
            "backgroundcolor": "#E5ECF6",
            "gridcolor": "white",
            "gridwidth": 2,
            "linecolor": "white",
            "showbackground": true,
            "ticks": "",
            "zerolinecolor": "white"
           },
           "zaxis": {
            "backgroundcolor": "#E5ECF6",
            "gridcolor": "white",
            "gridwidth": 2,
            "linecolor": "white",
            "showbackground": true,
            "ticks": "",
            "zerolinecolor": "white"
           }
          },
          "shapedefaults": {
           "line": {
            "color": "#2a3f5f"
           }
          },
          "ternary": {
           "aaxis": {
            "gridcolor": "white",
            "linecolor": "white",
            "ticks": ""
           },
           "baxis": {
            "gridcolor": "white",
            "linecolor": "white",
            "ticks": ""
           },
           "bgcolor": "#E5ECF6",
           "caxis": {
            "gridcolor": "white",
            "linecolor": "white",
            "ticks": ""
           }
          },
          "title": {
           "x": 0.05
          },
          "xaxis": {
           "automargin": true,
           "gridcolor": "white",
           "linecolor": "white",
           "ticks": "",
           "title": {
            "standoff": 15
           },
           "zerolinecolor": "white",
           "zerolinewidth": 2
          },
          "yaxis": {
           "automargin": true,
           "gridcolor": "white",
           "linecolor": "white",
           "ticks": "",
           "title": {
            "standoff": 15
           },
           "zerolinecolor": "white",
           "zerolinewidth": 2
          }
         }
        },
        "title": {
         "font": {
          "color": "#4D5663"
         }
        },
        "xaxis": {
         "anchor": "y",
         "domain": [
          0,
          0.2125
         ],
         "gridcolor": "#E1E5ED",
         "showgrid": false,
         "tickfont": {
          "color": "#4D5663"
         },
         "title": {
          "font": {
           "color": "#4D5663"
          },
          "text": ""
         },
         "zerolinecolor": "#E1E5ED"
        },
        "xaxis10": {
         "anchor": "y10",
         "domain": [
          0.2625,
          0.475
         ],
         "gridcolor": "#E1E5ED",
         "showgrid": false,
         "tickfont": {
          "color": "#4D5663"
         },
         "title": {
          "font": {
           "color": "#4D5663"
          },
          "text": ""
         },
         "zerolinecolor": "#E1E5ED"
        },
        "xaxis11": {
         "anchor": "y11",
         "domain": [
          0.525,
          0.7375
         ],
         "gridcolor": "#E1E5ED",
         "showgrid": false,
         "tickfont": {
          "color": "#4D5663"
         },
         "title": {
          "font": {
           "color": "#4D5663"
          },
          "text": ""
         },
         "zerolinecolor": "#E1E5ED"
        },
        "xaxis12": {
         "anchor": "y12",
         "domain": [
          0.7875,
          1
         ],
         "gridcolor": "#E1E5ED",
         "showgrid": false,
         "tickfont": {
          "color": "#4D5663"
         },
         "title": {
          "font": {
           "color": "#4D5663"
          },
          "text": ""
         },
         "zerolinecolor": "#E1E5ED"
        },
        "xaxis13": {
         "anchor": "y13",
         "domain": [
          0,
          0.2125
         ],
         "gridcolor": "#E1E5ED",
         "showgrid": false,
         "tickfont": {
          "color": "#4D5663"
         },
         "title": {
          "font": {
           "color": "#4D5663"
          },
          "text": ""
         },
         "zerolinecolor": "#E1E5ED"
        },
        "xaxis14": {
         "anchor": "y14",
         "domain": [
          0.2625,
          0.475
         ],
         "gridcolor": "#E1E5ED",
         "showgrid": false,
         "tickfont": {
          "color": "#4D5663"
         },
         "title": {
          "font": {
           "color": "#4D5663"
          },
          "text": ""
         },
         "zerolinecolor": "#E1E5ED"
        },
        "xaxis15": {
         "anchor": "y15",
         "domain": [
          0.525,
          0.7375
         ],
         "gridcolor": "#E1E5ED",
         "showgrid": false,
         "tickfont": {
          "color": "#4D5663"
         },
         "title": {
          "font": {
           "color": "#4D5663"
          },
          "text": ""
         },
         "zerolinecolor": "#E1E5ED"
        },
        "xaxis16": {
         "anchor": "y16",
         "domain": [
          0.7875,
          1
         ],
         "gridcolor": "#E1E5ED",
         "showgrid": false,
         "tickfont": {
          "color": "#4D5663"
         },
         "title": {
          "font": {
           "color": "#4D5663"
          },
          "text": ""
         },
         "zerolinecolor": "#E1E5ED"
        },
        "xaxis2": {
         "anchor": "y2",
         "domain": [
          0.2625,
          0.475
         ],
         "gridcolor": "#E1E5ED",
         "showgrid": false,
         "tickfont": {
          "color": "#4D5663"
         },
         "title": {
          "font": {
           "color": "#4D5663"
          },
          "text": ""
         },
         "zerolinecolor": "#E1E5ED"
        },
        "xaxis3": {
         "anchor": "y3",
         "domain": [
          0.525,
          0.7375
         ],
         "gridcolor": "#E1E5ED",
         "showgrid": false,
         "tickfont": {
          "color": "#4D5663"
         },
         "title": {
          "font": {
           "color": "#4D5663"
          },
          "text": ""
         },
         "zerolinecolor": "#E1E5ED"
        },
        "xaxis4": {
         "anchor": "y4",
         "domain": [
          0.7875,
          1
         ],
         "gridcolor": "#E1E5ED",
         "showgrid": false,
         "tickfont": {
          "color": "#4D5663"
         },
         "title": {
          "font": {
           "color": "#4D5663"
          },
          "text": ""
         },
         "zerolinecolor": "#E1E5ED"
        },
        "xaxis5": {
         "anchor": "y5",
         "domain": [
          0,
          0.2125
         ],
         "gridcolor": "#E1E5ED",
         "showgrid": false,
         "tickfont": {
          "color": "#4D5663"
         },
         "title": {
          "font": {
           "color": "#4D5663"
          },
          "text": ""
         },
         "zerolinecolor": "#E1E5ED"
        },
        "xaxis6": {
         "anchor": "y6",
         "domain": [
          0.2625,
          0.475
         ],
         "gridcolor": "#E1E5ED",
         "showgrid": false,
         "tickfont": {
          "color": "#4D5663"
         },
         "title": {
          "font": {
           "color": "#4D5663"
          },
          "text": ""
         },
         "zerolinecolor": "#E1E5ED"
        },
        "xaxis7": {
         "anchor": "y7",
         "domain": [
          0.525,
          0.7375
         ],
         "gridcolor": "#E1E5ED",
         "showgrid": false,
         "tickfont": {
          "color": "#4D5663"
         },
         "title": {
          "font": {
           "color": "#4D5663"
          },
          "text": ""
         },
         "zerolinecolor": "#E1E5ED"
        },
        "xaxis8": {
         "anchor": "y8",
         "domain": [
          0.7875,
          1
         ],
         "gridcolor": "#E1E5ED",
         "showgrid": false,
         "tickfont": {
          "color": "#4D5663"
         },
         "title": {
          "font": {
           "color": "#4D5663"
          },
          "text": ""
         },
         "zerolinecolor": "#E1E5ED"
        },
        "xaxis9": {
         "anchor": "y9",
         "domain": [
          0,
          0.2125
         ],
         "gridcolor": "#E1E5ED",
         "showgrid": false,
         "tickfont": {
          "color": "#4D5663"
         },
         "title": {
          "font": {
           "color": "#4D5663"
          },
          "text": ""
         },
         "zerolinecolor": "#E1E5ED"
        },
        "yaxis": {
         "anchor": "x",
         "domain": [
          0.8025,
          1
         ],
         "gridcolor": "#E1E5ED",
         "showgrid": false,
         "tickfont": {
          "color": "#4D5663"
         },
         "title": {
          "font": {
           "color": "#4D5663"
          },
          "text": ""
         },
         "zerolinecolor": "#E1E5ED"
        },
        "yaxis10": {
         "anchor": "x10",
         "domain": [
          0.2675,
          0.465
         ],
         "gridcolor": "#E1E5ED",
         "showgrid": false,
         "tickfont": {
          "color": "#4D5663"
         },
         "title": {
          "font": {
           "color": "#4D5663"
          },
          "text": ""
         },
         "zerolinecolor": "#E1E5ED"
        },
        "yaxis11": {
         "anchor": "x11",
         "domain": [
          0.2675,
          0.465
         ],
         "gridcolor": "#E1E5ED",
         "showgrid": false,
         "tickfont": {
          "color": "#4D5663"
         },
         "title": {
          "font": {
           "color": "#4D5663"
          },
          "text": ""
         },
         "zerolinecolor": "#E1E5ED"
        },
        "yaxis12": {
         "anchor": "x12",
         "domain": [
          0.2675,
          0.465
         ],
         "gridcolor": "#E1E5ED",
         "showgrid": false,
         "tickfont": {
          "color": "#4D5663"
         },
         "title": {
          "font": {
           "color": "#4D5663"
          },
          "text": ""
         },
         "zerolinecolor": "#E1E5ED"
        },
        "yaxis13": {
         "anchor": "x13",
         "domain": [
          0,
          0.1975
         ],
         "gridcolor": "#E1E5ED",
         "showgrid": false,
         "tickfont": {
          "color": "#4D5663"
         },
         "title": {
          "font": {
           "color": "#4D5663"
          },
          "text": ""
         },
         "zerolinecolor": "#E1E5ED"
        },
        "yaxis14": {
         "anchor": "x14",
         "domain": [
          0,
          0.1975
         ],
         "gridcolor": "#E1E5ED",
         "showgrid": false,
         "tickfont": {
          "color": "#4D5663"
         },
         "title": {
          "font": {
           "color": "#4D5663"
          },
          "text": ""
         },
         "zerolinecolor": "#E1E5ED"
        },
        "yaxis15": {
         "anchor": "x15",
         "domain": [
          0,
          0.1975
         ],
         "gridcolor": "#E1E5ED",
         "showgrid": false,
         "tickfont": {
          "color": "#4D5663"
         },
         "title": {
          "font": {
           "color": "#4D5663"
          },
          "text": ""
         },
         "zerolinecolor": "#E1E5ED"
        },
        "yaxis16": {
         "anchor": "x16",
         "domain": [
          0,
          0.1975
         ],
         "gridcolor": "#E1E5ED",
         "showgrid": false,
         "tickfont": {
          "color": "#4D5663"
         },
         "title": {
          "font": {
           "color": "#4D5663"
          },
          "text": ""
         },
         "zerolinecolor": "#E1E5ED"
        },
        "yaxis2": {
         "anchor": "x2",
         "domain": [
          0.8025,
          1
         ],
         "gridcolor": "#E1E5ED",
         "showgrid": false,
         "tickfont": {
          "color": "#4D5663"
         },
         "title": {
          "font": {
           "color": "#4D5663"
          },
          "text": ""
         },
         "zerolinecolor": "#E1E5ED"
        },
        "yaxis3": {
         "anchor": "x3",
         "domain": [
          0.8025,
          1
         ],
         "gridcolor": "#E1E5ED",
         "showgrid": false,
         "tickfont": {
          "color": "#4D5663"
         },
         "title": {
          "font": {
           "color": "#4D5663"
          },
          "text": ""
         },
         "zerolinecolor": "#E1E5ED"
        },
        "yaxis4": {
         "anchor": "x4",
         "domain": [
          0.8025,
          1
         ],
         "gridcolor": "#E1E5ED",
         "showgrid": false,
         "tickfont": {
          "color": "#4D5663"
         },
         "title": {
          "font": {
           "color": "#4D5663"
          },
          "text": ""
         },
         "zerolinecolor": "#E1E5ED"
        },
        "yaxis5": {
         "anchor": "x5",
         "domain": [
          0.535,
          0.7325
         ],
         "gridcolor": "#E1E5ED",
         "showgrid": false,
         "tickfont": {
          "color": "#4D5663"
         },
         "title": {
          "font": {
           "color": "#4D5663"
          },
          "text": ""
         },
         "zerolinecolor": "#E1E5ED"
        },
        "yaxis6": {
         "anchor": "x6",
         "domain": [
          0.535,
          0.7325
         ],
         "gridcolor": "#E1E5ED",
         "showgrid": false,
         "tickfont": {
          "color": "#4D5663"
         },
         "title": {
          "font": {
           "color": "#4D5663"
          },
          "text": ""
         },
         "zerolinecolor": "#E1E5ED"
        },
        "yaxis7": {
         "anchor": "x7",
         "domain": [
          0.535,
          0.7325
         ],
         "gridcolor": "#E1E5ED",
         "showgrid": false,
         "tickfont": {
          "color": "#4D5663"
         },
         "title": {
          "font": {
           "color": "#4D5663"
          },
          "text": ""
         },
         "zerolinecolor": "#E1E5ED"
        },
        "yaxis8": {
         "anchor": "x8",
         "domain": [
          0.535,
          0.7325
         ],
         "gridcolor": "#E1E5ED",
         "showgrid": false,
         "tickfont": {
          "color": "#4D5663"
         },
         "title": {
          "font": {
           "color": "#4D5663"
          },
          "text": ""
         },
         "zerolinecolor": "#E1E5ED"
        },
        "yaxis9": {
         "anchor": "x9",
         "domain": [
          0.2675,
          0.465
         ],
         "gridcolor": "#E1E5ED",
         "showgrid": false,
         "tickfont": {
          "color": "#4D5663"
         },
         "title": {
          "font": {
           "color": "#4D5663"
          },
          "text": ""
         },
         "zerolinecolor": "#E1E5ED"
        }
       }
      },
      "text/html": [
       "<div>                            <div id=\"7769c8fc-49fe-433c-b438-23dc56c9146b\" class=\"plotly-graph-div\" style=\"height:525px; width:100%;\"></div>            <script type=\"text/javascript\">                require([\"plotly\"], function(Plotly) {                    window.PLOTLYENV=window.PLOTLYENV || {};\n",
       "                    window.PLOTLYENV.BASE_URL='https://plotly.com';                                    if (document.getElementById(\"7769c8fc-49fe-433c-b438-23dc56c9146b\")) {                    Plotly.newPlot(                        \"7769c8fc-49fe-433c-b438-23dc56c9146b\",                        [{\"histfunc\":\"count\",\"histnorm\":\"\",\"marker\":{\"color\":\"rgba(255, 153, 51, 1.0)\",\"line\":{\"color\":\"#4D5663\",\"width\":1.3}},\"name\":\"A\",\"nbinsx\":10,\"opacity\":0.8,\"orientation\":\"v\",\"x\":[0.2540205165143539,0.21018287468404354,-1.417366523418028,1.4355964054891057,0.6438156084526279,-0.48992682332332516,2.089603407589297,-0.24037244272897193,0.22741612429678598,-0.43388743074207914,-0.17474693590151122,-0.3378269321122739,-0.2872816214010255,0.09021167266536759,1.9916614315099455,-0.9203501904153832,1.9932576734555514,1.190820979890536,0.7591670480729559,-0.9322613470150776,-0.04972199823331805,1.2685856210555648,1.5879259973556699,-0.567128573474692,-2.1942346439385063,-0.4559241878544287,1.0321820388276353,-1.2718987011182359,-1.2386551206807364,-2.194211747720904,-0.5258492859793686,-0.6653282837542511,-1.3988028138784063,-0.07260478095047099,-0.28642094085208936,-0.11457773635910108,-0.1095433105850815,0.9750875884483519,0.8374465307982316,-0.739274852671829,0.3157117587684143,-0.1715446808230524,-1.941469789403776,-0.8593008608200065,1.0567482570657265,-1.9320398455863936,0.2594822932774328,-0.39301308706656246,0.4491389194589242,-0.5943834464300685,-1.6205742737788318,0.6117521209297304,-1.276327824115349,0.4086695638455752,0.24793326266283466,-0.4612398992086352,1.472207033963178,-1.8432937178256399,0.331853571779341,-0.14425338478943614,-0.05413105300153619,2.319362187084283,0.7674645302272454,0.6023945964221519,0.09769810203503486,1.4595133621459795,0.5577801094920947,-0.8161165385921015,-0.20283106200073736,1.0814223714895106,-0.9390927760332309,-0.7014055677825115,-0.26483222934057704,0.2563524393956336,1.066269844507545,0.8834240698541156,-0.7106341632582636,-0.4401823764634333,0.9603374413953691,-0.04706661324449886,-0.32082510121876906,0.22690521984675313,0.5580555659912436,-0.097048566746413,1.7196848303305123,0.1334024173581546,-1.3154871382832112,-0.9863034014659603,-1.0446233980609223,2.755130001029382,-0.19396822225672392,-1.0333488219739275,0.37272339170574764,1.0054492152613619,1.266420601741147,-2.1026940491604966,0.5587347491572473,-1.26564189608967,1.2365667571795178,0.4093624285717989],\"xaxis\":\"x\",\"yaxis\":\"y\",\"type\":\"histogram\"},{\"line\":{\"color\":\"rgba(128, 128, 128, 1.0)\",\"dash\":\"solid\",\"shape\":\"linear\",\"width\":1.3},\"marker\":{\"size\":2,\"symbol\":\"circle\"},\"mode\":\"markers\",\"name\":\"A\",\"text\":\"\",\"x\":[1.160825800152867,0.49616468992605606,0.07383583694545158,0.2327336021717852,-0.5017316173158699,0.8035594113553268,-0.28453246467477783,-0.915122676714964,-1.0386383838201863,-1.9952568867431326,0.09036591505575159,1.155948073431354,-0.42889040391045663,-1.2389704786006113,0.48118016142863945,1.0226046516596001,0.7398795059007436,0.37427404601920805,-1.7494103233808207,-0.9193506297259831,0.8887150557163451,0.9103962137297099,0.8947662724723978,0.06129563149484737,0.12002325193346794,-0.676796697112064,0.06093394366571922,-0.5640148151417872,0.81707423120743,0.6769766088966667,1.0441711359096393,0.8152504059983663,-0.39786853228590585,0.6599657173835193,0.5442907815797696,-0.2911291866765822,0.25500617713030627,-0.8331171412221349,-0.8620206840215854,0.04307721553350601,-1.215724201505668,0.12782065868375267,-2.145446215905343,-1.2319037363163725,-0.45930560794346414,-0.21250766872033242,-0.39804764478120985,-1.007422616587833,-0.9847119868129514,0.561732278632458,-1.14933123553313,1.6418957813050432,-1.2876584947792657,-0.03539282053918007,1.362381345433245,-0.6291386847202808,1.898930581889669,-0.6149912505025651,2.3034710611983304,-0.21226266974932004,-0.44847316876586585,-0.85303319669474,0.39684829882784267,-0.39090798457724035,1.3631512954306748,0.38249503712678984,-0.7742515439820427,-1.203847854965608,1.0115904667778681,0.3616426794426263,1.4846748175633453,0.9654302865010991,1.4562869848628681,-0.8177914063638103,-0.2730370368057006,0.6358807484449549,-0.7820612964596657,0.29823457797888253,0.39283832766839666,0.5285082098876401,1.3226836756728508,1.6636775870661122,0.5170672228134581,0.824798069948975,-0.46265991994032685,-0.10433027741652127,0.2690776010702887,1.3276291696627414,1.4619005839703703,0.06670553461973262,1.2367949690978866,-1.6728464542712906,0.41956646947819315,1.0213475908554128,1.4010211872247769,0.7057004386030941,-0.8740541643155307,-0.08067153622956262,-0.8096141021027465,1.2860139723173836],\"xaxis\":\"x2\",\"y\":[0.2540205165143539,0.21018287468404354,-1.417366523418028,1.4355964054891057,0.6438156084526279,-0.48992682332332516,2.089603407589297,-0.24037244272897193,0.22741612429678598,-0.43388743074207914,-0.17474693590151122,-0.3378269321122739,-0.2872816214010255,0.09021167266536759,1.9916614315099455,-0.9203501904153832,1.9932576734555514,1.190820979890536,0.7591670480729559,-0.9322613470150776,-0.04972199823331805,1.2685856210555648,1.5879259973556699,-0.567128573474692,-2.1942346439385063,-0.4559241878544287,1.0321820388276353,-1.2718987011182359,-1.2386551206807364,-2.194211747720904,-0.5258492859793686,-0.6653282837542511,-1.3988028138784063,-0.07260478095047099,-0.28642094085208936,-0.11457773635910108,-0.1095433105850815,0.9750875884483519,0.8374465307982316,-0.739274852671829,0.3157117587684143,-0.1715446808230524,-1.941469789403776,-0.8593008608200065,1.0567482570657265,-1.9320398455863936,0.2594822932774328,-0.39301308706656246,0.4491389194589242,-0.5943834464300685,-1.6205742737788318,0.6117521209297304,-1.276327824115349,0.4086695638455752,0.24793326266283466,-0.4612398992086352,1.472207033963178,-1.8432937178256399,0.331853571779341,-0.14425338478943614,-0.05413105300153619,2.319362187084283,0.7674645302272454,0.6023945964221519,0.09769810203503486,1.4595133621459795,0.5577801094920947,-0.8161165385921015,-0.20283106200073736,1.0814223714895106,-0.9390927760332309,-0.7014055677825115,-0.26483222934057704,0.2563524393956336,1.066269844507545,0.8834240698541156,-0.7106341632582636,-0.4401823764634333,0.9603374413953691,-0.04706661324449886,-0.32082510121876906,0.22690521984675313,0.5580555659912436,-0.097048566746413,1.7196848303305123,0.1334024173581546,-1.3154871382832112,-0.9863034014659603,-1.0446233980609223,2.755130001029382,-0.19396822225672392,-1.0333488219739275,0.37272339170574764,1.0054492152613619,1.266420601741147,-2.1026940491604966,0.5587347491572473,-1.26564189608967,1.2365667571795178,0.4093624285717989],\"yaxis\":\"y2\",\"type\":\"scatter\"},{\"line\":{\"color\":\"rgba(128, 128, 128, 1.0)\",\"dash\":\"solid\",\"shape\":\"linear\",\"width\":1.3},\"marker\":{\"size\":2,\"symbol\":\"circle\"},\"mode\":\"markers\",\"name\":\"A\",\"text\":\"\",\"x\":[0.7400092392048068,-1.1612554650452065,-0.5122338887002665,0.8664771985598588,-0.34548987492232175,0.2781330104706034,0.8133129773606471,-0.07383128492210222,1.4992427452539066,-0.06427788658450528,0.9777437473437132,-1.0844097691216843,0.23691969667423549,0.6833580638519037,0.19854397914558808,1.2940032044175587,0.2938313960897921,-0.621691820858234,0.08475790559030699,-1.7256365238552824,0.7582412110970774,1.16644966761969,-0.13341758137524054,0.04093263652620348,0.18320697536407995,-0.32092372624067766,-0.9192767520476932,-0.009211021059547185,-0.019857457962381128,-0.3142022108888279,-0.6172132723525531,0.8960160304349492,0.7374330001967216,0.906649950526819,0.8261888595835849,0.8445809292425774,1.3616427427782307,-0.15250750568368196,0.10902639094972436,0.5281841463998894,-0.4749394513444946,0.7480762907916783,0.3388929235148995,-0.7310818991049979,0.02719614578997186,1.512962862350225,0.8035101292065836,-0.947393115998121,-0.02386938793565377,0.7320630015882023,1.4345212541566092,-0.09064584842119253,-0.252148147107145,-2.356165508371674,0.25763522548097273,1.8281771377382254,-0.04061189261196941,0.5765668729102671,-0.01960280456707083,1.1734496029900723,0.4150946237924706,-0.8742687679848868,-0.07335204432201242,-0.40438225261440797,-0.576332073034859,1.1146425638994812,-0.06873767949536136,-0.8595298987909357,-0.2464788836352362,-1.5408801744628844,-0.13284260964214661,0.41487455770150555,-0.11612837078371765,-0.485629058051464,0.31925770344676224,0.023159140123406755,0.9892737551707963,0.8448141680578326,-2.1502154363339514,-0.007235596504881794,0.2796531586390798,-0.3753414952199077,1.5123786861608832,-0.13171039496410855,0.14632688412280515,0.18796700882737305,0.31534514387362794,1.2218028635289813,-0.32024933567295366,0.2020833843113226,-1.5360472839414374,-0.8097024781571458,-0.61191498185867,-0.5094569134267607,-2.5249347881889856,-0.5105863402376877,1.5150611952696704,-0.7388111051732456,-0.45003373940694963,1.337901303183027],\"xaxis\":\"x3\",\"y\":[0.2540205165143539,0.21018287468404354,-1.417366523418028,1.4355964054891057,0.6438156084526279,-0.48992682332332516,2.089603407589297,-0.24037244272897193,0.22741612429678598,-0.43388743074207914,-0.17474693590151122,-0.3378269321122739,-0.2872816214010255,0.09021167266536759,1.9916614315099455,-0.9203501904153832,1.9932576734555514,1.190820979890536,0.7591670480729559,-0.9322613470150776,-0.04972199823331805,1.2685856210555648,1.5879259973556699,-0.567128573474692,-2.1942346439385063,-0.4559241878544287,1.0321820388276353,-1.2718987011182359,-1.2386551206807364,-2.194211747720904,-0.5258492859793686,-0.6653282837542511,-1.3988028138784063,-0.07260478095047099,-0.28642094085208936,-0.11457773635910108,-0.1095433105850815,0.9750875884483519,0.8374465307982316,-0.739274852671829,0.3157117587684143,-0.1715446808230524,-1.941469789403776,-0.8593008608200065,1.0567482570657265,-1.9320398455863936,0.2594822932774328,-0.39301308706656246,0.4491389194589242,-0.5943834464300685,-1.6205742737788318,0.6117521209297304,-1.276327824115349,0.4086695638455752,0.24793326266283466,-0.4612398992086352,1.472207033963178,-1.8432937178256399,0.331853571779341,-0.14425338478943614,-0.05413105300153619,2.319362187084283,0.7674645302272454,0.6023945964221519,0.09769810203503486,1.4595133621459795,0.5577801094920947,-0.8161165385921015,-0.20283106200073736,1.0814223714895106,-0.9390927760332309,-0.7014055677825115,-0.26483222934057704,0.2563524393956336,1.066269844507545,0.8834240698541156,-0.7106341632582636,-0.4401823764634333,0.9603374413953691,-0.04706661324449886,-0.32082510121876906,0.22690521984675313,0.5580555659912436,-0.097048566746413,1.7196848303305123,0.1334024173581546,-1.3154871382832112,-0.9863034014659603,-1.0446233980609223,2.755130001029382,-0.19396822225672392,-1.0333488219739275,0.37272339170574764,1.0054492152613619,1.266420601741147,-2.1026940491604966,0.5587347491572473,-1.26564189608967,1.2365667571795178,0.4093624285717989],\"yaxis\":\"y3\",\"type\":\"scatter\"},{\"line\":{\"color\":\"rgba(128, 128, 128, 1.0)\",\"dash\":\"solid\",\"shape\":\"linear\",\"width\":1.3},\"marker\":{\"size\":2,\"symbol\":\"circle\"},\"mode\":\"markers\",\"name\":\"A\",\"text\":\"\",\"x\":[-0.9068405688078486,0.11621097171247942,0.26448478101457584,-0.5440854440489594,0.5531515272952051,0.8234042785049313,-0.22906001896152353,-0.16995879751638207,0.6802184174681418,0.4445235048806215,0.6941279000595636,2.1747144867557284,1.0223991406942747,0.8368416708590749,0.184720174470893,0.19552655776599848,1.6264800319723853,1.318082762218274,-1.1640119153017372,1.2758601739228614,-1.6418670804553157,-0.4171095950902611,-0.3969242583499874,0.501527724050001,-1.074606222181749,-2.223424663893433,0.6716990615797975,0.14796640692409763,0.6948660217218141,-1.8580010868790662,-0.00526893887691044,-0.6836722995929522,0.16612742230538627,-0.11821349276729069,-0.92117968291553,0.29188265668117613,0.34960878144601626,-0.06270629467800636,-0.4038456358871288,0.2648605591171205,0.061168616234663235,1.024178167604516,-2.3389668344520116,-0.2824909310511887,-0.4229235811543551,0.05631613133747578,-1.0376629367534844,-1.0508408409413266,-0.651137516259835,-0.6603619267138788,0.6919249312578343,-0.3620145382845533,-0.3034438985204652,0.4506109621289893,0.19784991813168556,0.4486839596077117,-0.6541847283551394,1.1707625473024965,0.13268391400985902,-0.7435191432300351,-0.7293681641791371,-0.018877098021782796,-1.4524593337407599,0.1267230001259561,-0.7125292116463977,-1.223740915429738,1.7028564850815053,-0.025254987372562845,0.14252619879882147,-1.424391582709415,-0.1305437297684222,-1.114889983872903,0.8818507740128105,1.7383740083404464,0.26964871270546237,-1.1071106984364947,1.0031650408456287,-0.9530919999597487,-1.5771064309978597,-1.548931175254627,1.1505022138477403,-0.7345193249486318,1.8285714520083187,0.8272062189740068,0.8279518009515064,0.3568071184223297,-0.3306248498338502,0.4467509629034824,1.6445920281443878,-0.9967417532997104,-1.0556863288562042,0.35588131793485744,-1.1358190099883094,0.4211429293134869,0.15585056701122604,1.8748160736152852,2.344329847624523,-0.05539633385281114,2.0885407026049565,-1.1947913568464845],\"xaxis\":\"x4\",\"y\":[0.2540205165143539,0.21018287468404354,-1.417366523418028,1.4355964054891057,0.6438156084526279,-0.48992682332332516,2.089603407589297,-0.24037244272897193,0.22741612429678598,-0.43388743074207914,-0.17474693590151122,-0.3378269321122739,-0.2872816214010255,0.09021167266536759,1.9916614315099455,-0.9203501904153832,1.9932576734555514,1.190820979890536,0.7591670480729559,-0.9322613470150776,-0.04972199823331805,1.2685856210555648,1.5879259973556699,-0.567128573474692,-2.1942346439385063,-0.4559241878544287,1.0321820388276353,-1.2718987011182359,-1.2386551206807364,-2.194211747720904,-0.5258492859793686,-0.6653282837542511,-1.3988028138784063,-0.07260478095047099,-0.28642094085208936,-0.11457773635910108,-0.1095433105850815,0.9750875884483519,0.8374465307982316,-0.739274852671829,0.3157117587684143,-0.1715446808230524,-1.941469789403776,-0.8593008608200065,1.0567482570657265,-1.9320398455863936,0.2594822932774328,-0.39301308706656246,0.4491389194589242,-0.5943834464300685,-1.6205742737788318,0.6117521209297304,-1.276327824115349,0.4086695638455752,0.24793326266283466,-0.4612398992086352,1.472207033963178,-1.8432937178256399,0.331853571779341,-0.14425338478943614,-0.05413105300153619,2.319362187084283,0.7674645302272454,0.6023945964221519,0.09769810203503486,1.4595133621459795,0.5577801094920947,-0.8161165385921015,-0.20283106200073736,1.0814223714895106,-0.9390927760332309,-0.7014055677825115,-0.26483222934057704,0.2563524393956336,1.066269844507545,0.8834240698541156,-0.7106341632582636,-0.4401823764634333,0.9603374413953691,-0.04706661324449886,-0.32082510121876906,0.22690521984675313,0.5580555659912436,-0.097048566746413,1.7196848303305123,0.1334024173581546,-1.3154871382832112,-0.9863034014659603,-1.0446233980609223,2.755130001029382,-0.19396822225672392,-1.0333488219739275,0.37272339170574764,1.0054492152613619,1.266420601741147,-2.1026940491604966,0.5587347491572473,-1.26564189608967,1.2365667571795178,0.4093624285717989],\"yaxis\":\"y4\",\"type\":\"scatter\"},{\"line\":{\"color\":\"rgba(128, 128, 128, 1.0)\",\"dash\":\"solid\",\"shape\":\"linear\",\"width\":1.3},\"marker\":{\"size\":2,\"symbol\":\"circle\"},\"mode\":\"markers\",\"name\":\"B\",\"text\":\"\",\"x\":[0.2540205165143539,0.21018287468404354,-1.417366523418028,1.4355964054891057,0.6438156084526279,-0.48992682332332516,2.089603407589297,-0.24037244272897193,0.22741612429678598,-0.43388743074207914,-0.17474693590151122,-0.3378269321122739,-0.2872816214010255,0.09021167266536759,1.9916614315099455,-0.9203501904153832,1.9932576734555514,1.190820979890536,0.7591670480729559,-0.9322613470150776,-0.04972199823331805,1.2685856210555648,1.5879259973556699,-0.567128573474692,-2.1942346439385063,-0.4559241878544287,1.0321820388276353,-1.2718987011182359,-1.2386551206807364,-2.194211747720904,-0.5258492859793686,-0.6653282837542511,-1.3988028138784063,-0.07260478095047099,-0.28642094085208936,-0.11457773635910108,-0.1095433105850815,0.9750875884483519,0.8374465307982316,-0.739274852671829,0.3157117587684143,-0.1715446808230524,-1.941469789403776,-0.8593008608200065,1.0567482570657265,-1.9320398455863936,0.2594822932774328,-0.39301308706656246,0.4491389194589242,-0.5943834464300685,-1.6205742737788318,0.6117521209297304,-1.276327824115349,0.4086695638455752,0.24793326266283466,-0.4612398992086352,1.472207033963178,-1.8432937178256399,0.331853571779341,-0.14425338478943614,-0.05413105300153619,2.319362187084283,0.7674645302272454,0.6023945964221519,0.09769810203503486,1.4595133621459795,0.5577801094920947,-0.8161165385921015,-0.20283106200073736,1.0814223714895106,-0.9390927760332309,-0.7014055677825115,-0.26483222934057704,0.2563524393956336,1.066269844507545,0.8834240698541156,-0.7106341632582636,-0.4401823764634333,0.9603374413953691,-0.04706661324449886,-0.32082510121876906,0.22690521984675313,0.5580555659912436,-0.097048566746413,1.7196848303305123,0.1334024173581546,-1.3154871382832112,-0.9863034014659603,-1.0446233980609223,2.755130001029382,-0.19396822225672392,-1.0333488219739275,0.37272339170574764,1.0054492152613619,1.266420601741147,-2.1026940491604966,0.5587347491572473,-1.26564189608967,1.2365667571795178,0.4093624285717989],\"xaxis\":\"x5\",\"y\":[1.160825800152867,0.49616468992605606,0.07383583694545158,0.2327336021717852,-0.5017316173158699,0.8035594113553268,-0.28453246467477783,-0.915122676714964,-1.0386383838201863,-1.9952568867431326,0.09036591505575159,1.155948073431354,-0.42889040391045663,-1.2389704786006113,0.48118016142863945,1.0226046516596001,0.7398795059007436,0.37427404601920805,-1.7494103233808207,-0.9193506297259831,0.8887150557163451,0.9103962137297099,0.8947662724723978,0.06129563149484737,0.12002325193346794,-0.676796697112064,0.06093394366571922,-0.5640148151417872,0.81707423120743,0.6769766088966667,1.0441711359096393,0.8152504059983663,-0.39786853228590585,0.6599657173835193,0.5442907815797696,-0.2911291866765822,0.25500617713030627,-0.8331171412221349,-0.8620206840215854,0.04307721553350601,-1.215724201505668,0.12782065868375267,-2.145446215905343,-1.2319037363163725,-0.45930560794346414,-0.21250766872033242,-0.39804764478120985,-1.007422616587833,-0.9847119868129514,0.561732278632458,-1.14933123553313,1.6418957813050432,-1.2876584947792657,-0.03539282053918007,1.362381345433245,-0.6291386847202808,1.898930581889669,-0.6149912505025651,2.3034710611983304,-0.21226266974932004,-0.44847316876586585,-0.85303319669474,0.39684829882784267,-0.39090798457724035,1.3631512954306748,0.38249503712678984,-0.7742515439820427,-1.203847854965608,1.0115904667778681,0.3616426794426263,1.4846748175633453,0.9654302865010991,1.4562869848628681,-0.8177914063638103,-0.2730370368057006,0.6358807484449549,-0.7820612964596657,0.29823457797888253,0.39283832766839666,0.5285082098876401,1.3226836756728508,1.6636775870661122,0.5170672228134581,0.824798069948975,-0.46265991994032685,-0.10433027741652127,0.2690776010702887,1.3276291696627414,1.4619005839703703,0.06670553461973262,1.2367949690978866,-1.6728464542712906,0.41956646947819315,1.0213475908554128,1.4010211872247769,0.7057004386030941,-0.8740541643155307,-0.08067153622956262,-0.8096141021027465,1.2860139723173836],\"yaxis\":\"y5\",\"type\":\"scatter\"},{\"histfunc\":\"count\",\"histnorm\":\"\",\"marker\":{\"color\":\"rgba(55, 128, 191, 1.0)\",\"line\":{\"color\":\"#4D5663\",\"width\":1.3}},\"name\":\"B\",\"nbinsx\":10,\"opacity\":0.8,\"orientation\":\"v\",\"x\":[1.160825800152867,0.49616468992605606,0.07383583694545158,0.2327336021717852,-0.5017316173158699,0.8035594113553268,-0.28453246467477783,-0.915122676714964,-1.0386383838201863,-1.9952568867431326,0.09036591505575159,1.155948073431354,-0.42889040391045663,-1.2389704786006113,0.48118016142863945,1.0226046516596001,0.7398795059007436,0.37427404601920805,-1.7494103233808207,-0.9193506297259831,0.8887150557163451,0.9103962137297099,0.8947662724723978,0.06129563149484737,0.12002325193346794,-0.676796697112064,0.06093394366571922,-0.5640148151417872,0.81707423120743,0.6769766088966667,1.0441711359096393,0.8152504059983663,-0.39786853228590585,0.6599657173835193,0.5442907815797696,-0.2911291866765822,0.25500617713030627,-0.8331171412221349,-0.8620206840215854,0.04307721553350601,-1.215724201505668,0.12782065868375267,-2.145446215905343,-1.2319037363163725,-0.45930560794346414,-0.21250766872033242,-0.39804764478120985,-1.007422616587833,-0.9847119868129514,0.561732278632458,-1.14933123553313,1.6418957813050432,-1.2876584947792657,-0.03539282053918007,1.362381345433245,-0.6291386847202808,1.898930581889669,-0.6149912505025651,2.3034710611983304,-0.21226266974932004,-0.44847316876586585,-0.85303319669474,0.39684829882784267,-0.39090798457724035,1.3631512954306748,0.38249503712678984,-0.7742515439820427,-1.203847854965608,1.0115904667778681,0.3616426794426263,1.4846748175633453,0.9654302865010991,1.4562869848628681,-0.8177914063638103,-0.2730370368057006,0.6358807484449549,-0.7820612964596657,0.29823457797888253,0.39283832766839666,0.5285082098876401,1.3226836756728508,1.6636775870661122,0.5170672228134581,0.824798069948975,-0.46265991994032685,-0.10433027741652127,0.2690776010702887,1.3276291696627414,1.4619005839703703,0.06670553461973262,1.2367949690978866,-1.6728464542712906,0.41956646947819315,1.0213475908554128,1.4010211872247769,0.7057004386030941,-0.8740541643155307,-0.08067153622956262,-0.8096141021027465,1.2860139723173836],\"xaxis\":\"x6\",\"yaxis\":\"y6\",\"type\":\"histogram\"},{\"line\":{\"color\":\"rgba(128, 128, 128, 1.0)\",\"dash\":\"solid\",\"shape\":\"linear\",\"width\":1.3},\"marker\":{\"size\":2,\"symbol\":\"circle\"},\"mode\":\"markers\",\"name\":\"B\",\"text\":\"\",\"x\":[0.7400092392048068,-1.1612554650452065,-0.5122338887002665,0.8664771985598588,-0.34548987492232175,0.2781330104706034,0.8133129773606471,-0.07383128492210222,1.4992427452539066,-0.06427788658450528,0.9777437473437132,-1.0844097691216843,0.23691969667423549,0.6833580638519037,0.19854397914558808,1.2940032044175587,0.2938313960897921,-0.621691820858234,0.08475790559030699,-1.7256365238552824,0.7582412110970774,1.16644966761969,-0.13341758137524054,0.04093263652620348,0.18320697536407995,-0.32092372624067766,-0.9192767520476932,-0.009211021059547185,-0.019857457962381128,-0.3142022108888279,-0.6172132723525531,0.8960160304349492,0.7374330001967216,0.906649950526819,0.8261888595835849,0.8445809292425774,1.3616427427782307,-0.15250750568368196,0.10902639094972436,0.5281841463998894,-0.4749394513444946,0.7480762907916783,0.3388929235148995,-0.7310818991049979,0.02719614578997186,1.512962862350225,0.8035101292065836,-0.947393115998121,-0.02386938793565377,0.7320630015882023,1.4345212541566092,-0.09064584842119253,-0.252148147107145,-2.356165508371674,0.25763522548097273,1.8281771377382254,-0.04061189261196941,0.5765668729102671,-0.01960280456707083,1.1734496029900723,0.4150946237924706,-0.8742687679848868,-0.07335204432201242,-0.40438225261440797,-0.576332073034859,1.1146425638994812,-0.06873767949536136,-0.8595298987909357,-0.2464788836352362,-1.5408801744628844,-0.13284260964214661,0.41487455770150555,-0.11612837078371765,-0.485629058051464,0.31925770344676224,0.023159140123406755,0.9892737551707963,0.8448141680578326,-2.1502154363339514,-0.007235596504881794,0.2796531586390798,-0.3753414952199077,1.5123786861608832,-0.13171039496410855,0.14632688412280515,0.18796700882737305,0.31534514387362794,1.2218028635289813,-0.32024933567295366,0.2020833843113226,-1.5360472839414374,-0.8097024781571458,-0.61191498185867,-0.5094569134267607,-2.5249347881889856,-0.5105863402376877,1.5150611952696704,-0.7388111051732456,-0.45003373940694963,1.337901303183027],\"xaxis\":\"x7\",\"y\":[1.160825800152867,0.49616468992605606,0.07383583694545158,0.2327336021717852,-0.5017316173158699,0.8035594113553268,-0.28453246467477783,-0.915122676714964,-1.0386383838201863,-1.9952568867431326,0.09036591505575159,1.155948073431354,-0.42889040391045663,-1.2389704786006113,0.48118016142863945,1.0226046516596001,0.7398795059007436,0.37427404601920805,-1.7494103233808207,-0.9193506297259831,0.8887150557163451,0.9103962137297099,0.8947662724723978,0.06129563149484737,0.12002325193346794,-0.676796697112064,0.06093394366571922,-0.5640148151417872,0.81707423120743,0.6769766088966667,1.0441711359096393,0.8152504059983663,-0.39786853228590585,0.6599657173835193,0.5442907815797696,-0.2911291866765822,0.25500617713030627,-0.8331171412221349,-0.8620206840215854,0.04307721553350601,-1.215724201505668,0.12782065868375267,-2.145446215905343,-1.2319037363163725,-0.45930560794346414,-0.21250766872033242,-0.39804764478120985,-1.007422616587833,-0.9847119868129514,0.561732278632458,-1.14933123553313,1.6418957813050432,-1.2876584947792657,-0.03539282053918007,1.362381345433245,-0.6291386847202808,1.898930581889669,-0.6149912505025651,2.3034710611983304,-0.21226266974932004,-0.44847316876586585,-0.85303319669474,0.39684829882784267,-0.39090798457724035,1.3631512954306748,0.38249503712678984,-0.7742515439820427,-1.203847854965608,1.0115904667778681,0.3616426794426263,1.4846748175633453,0.9654302865010991,1.4562869848628681,-0.8177914063638103,-0.2730370368057006,0.6358807484449549,-0.7820612964596657,0.29823457797888253,0.39283832766839666,0.5285082098876401,1.3226836756728508,1.6636775870661122,0.5170672228134581,0.824798069948975,-0.46265991994032685,-0.10433027741652127,0.2690776010702887,1.3276291696627414,1.4619005839703703,0.06670553461973262,1.2367949690978866,-1.6728464542712906,0.41956646947819315,1.0213475908554128,1.4010211872247769,0.7057004386030941,-0.8740541643155307,-0.08067153622956262,-0.8096141021027465,1.2860139723173836],\"yaxis\":\"y7\",\"type\":\"scatter\"},{\"line\":{\"color\":\"rgba(128, 128, 128, 1.0)\",\"dash\":\"solid\",\"shape\":\"linear\",\"width\":1.3},\"marker\":{\"size\":2,\"symbol\":\"circle\"},\"mode\":\"markers\",\"name\":\"B\",\"text\":\"\",\"x\":[-0.9068405688078486,0.11621097171247942,0.26448478101457584,-0.5440854440489594,0.5531515272952051,0.8234042785049313,-0.22906001896152353,-0.16995879751638207,0.6802184174681418,0.4445235048806215,0.6941279000595636,2.1747144867557284,1.0223991406942747,0.8368416708590749,0.184720174470893,0.19552655776599848,1.6264800319723853,1.318082762218274,-1.1640119153017372,1.2758601739228614,-1.6418670804553157,-0.4171095950902611,-0.3969242583499874,0.501527724050001,-1.074606222181749,-2.223424663893433,0.6716990615797975,0.14796640692409763,0.6948660217218141,-1.8580010868790662,-0.00526893887691044,-0.6836722995929522,0.16612742230538627,-0.11821349276729069,-0.92117968291553,0.29188265668117613,0.34960878144601626,-0.06270629467800636,-0.4038456358871288,0.2648605591171205,0.061168616234663235,1.024178167604516,-2.3389668344520116,-0.2824909310511887,-0.4229235811543551,0.05631613133747578,-1.0376629367534844,-1.0508408409413266,-0.651137516259835,-0.6603619267138788,0.6919249312578343,-0.3620145382845533,-0.3034438985204652,0.4506109621289893,0.19784991813168556,0.4486839596077117,-0.6541847283551394,1.1707625473024965,0.13268391400985902,-0.7435191432300351,-0.7293681641791371,-0.018877098021782796,-1.4524593337407599,0.1267230001259561,-0.7125292116463977,-1.223740915429738,1.7028564850815053,-0.025254987372562845,0.14252619879882147,-1.424391582709415,-0.1305437297684222,-1.114889983872903,0.8818507740128105,1.7383740083404464,0.26964871270546237,-1.1071106984364947,1.0031650408456287,-0.9530919999597487,-1.5771064309978597,-1.548931175254627,1.1505022138477403,-0.7345193249486318,1.8285714520083187,0.8272062189740068,0.8279518009515064,0.3568071184223297,-0.3306248498338502,0.4467509629034824,1.6445920281443878,-0.9967417532997104,-1.0556863288562042,0.35588131793485744,-1.1358190099883094,0.4211429293134869,0.15585056701122604,1.8748160736152852,2.344329847624523,-0.05539633385281114,2.0885407026049565,-1.1947913568464845],\"xaxis\":\"x8\",\"y\":[1.160825800152867,0.49616468992605606,0.07383583694545158,0.2327336021717852,-0.5017316173158699,0.8035594113553268,-0.28453246467477783,-0.915122676714964,-1.0386383838201863,-1.9952568867431326,0.09036591505575159,1.155948073431354,-0.42889040391045663,-1.2389704786006113,0.48118016142863945,1.0226046516596001,0.7398795059007436,0.37427404601920805,-1.7494103233808207,-0.9193506297259831,0.8887150557163451,0.9103962137297099,0.8947662724723978,0.06129563149484737,0.12002325193346794,-0.676796697112064,0.06093394366571922,-0.5640148151417872,0.81707423120743,0.6769766088966667,1.0441711359096393,0.8152504059983663,-0.39786853228590585,0.6599657173835193,0.5442907815797696,-0.2911291866765822,0.25500617713030627,-0.8331171412221349,-0.8620206840215854,0.04307721553350601,-1.215724201505668,0.12782065868375267,-2.145446215905343,-1.2319037363163725,-0.45930560794346414,-0.21250766872033242,-0.39804764478120985,-1.007422616587833,-0.9847119868129514,0.561732278632458,-1.14933123553313,1.6418957813050432,-1.2876584947792657,-0.03539282053918007,1.362381345433245,-0.6291386847202808,1.898930581889669,-0.6149912505025651,2.3034710611983304,-0.21226266974932004,-0.44847316876586585,-0.85303319669474,0.39684829882784267,-0.39090798457724035,1.3631512954306748,0.38249503712678984,-0.7742515439820427,-1.203847854965608,1.0115904667778681,0.3616426794426263,1.4846748175633453,0.9654302865010991,1.4562869848628681,-0.8177914063638103,-0.2730370368057006,0.6358807484449549,-0.7820612964596657,0.29823457797888253,0.39283832766839666,0.5285082098876401,1.3226836756728508,1.6636775870661122,0.5170672228134581,0.824798069948975,-0.46265991994032685,-0.10433027741652127,0.2690776010702887,1.3276291696627414,1.4619005839703703,0.06670553461973262,1.2367949690978866,-1.6728464542712906,0.41956646947819315,1.0213475908554128,1.4010211872247769,0.7057004386030941,-0.8740541643155307,-0.08067153622956262,-0.8096141021027465,1.2860139723173836],\"yaxis\":\"y8\",\"type\":\"scatter\"},{\"line\":{\"color\":\"rgba(128, 128, 128, 1.0)\",\"dash\":\"solid\",\"shape\":\"linear\",\"width\":1.3},\"marker\":{\"size\":2,\"symbol\":\"circle\"},\"mode\":\"markers\",\"name\":\"C\",\"text\":\"\",\"x\":[0.2540205165143539,0.21018287468404354,-1.417366523418028,1.4355964054891057,0.6438156084526279,-0.48992682332332516,2.089603407589297,-0.24037244272897193,0.22741612429678598,-0.43388743074207914,-0.17474693590151122,-0.3378269321122739,-0.2872816214010255,0.09021167266536759,1.9916614315099455,-0.9203501904153832,1.9932576734555514,1.190820979890536,0.7591670480729559,-0.9322613470150776,-0.04972199823331805,1.2685856210555648,1.5879259973556699,-0.567128573474692,-2.1942346439385063,-0.4559241878544287,1.0321820388276353,-1.2718987011182359,-1.2386551206807364,-2.194211747720904,-0.5258492859793686,-0.6653282837542511,-1.3988028138784063,-0.07260478095047099,-0.28642094085208936,-0.11457773635910108,-0.1095433105850815,0.9750875884483519,0.8374465307982316,-0.739274852671829,0.3157117587684143,-0.1715446808230524,-1.941469789403776,-0.8593008608200065,1.0567482570657265,-1.9320398455863936,0.2594822932774328,-0.39301308706656246,0.4491389194589242,-0.5943834464300685,-1.6205742737788318,0.6117521209297304,-1.276327824115349,0.4086695638455752,0.24793326266283466,-0.4612398992086352,1.472207033963178,-1.8432937178256399,0.331853571779341,-0.14425338478943614,-0.05413105300153619,2.319362187084283,0.7674645302272454,0.6023945964221519,0.09769810203503486,1.4595133621459795,0.5577801094920947,-0.8161165385921015,-0.20283106200073736,1.0814223714895106,-0.9390927760332309,-0.7014055677825115,-0.26483222934057704,0.2563524393956336,1.066269844507545,0.8834240698541156,-0.7106341632582636,-0.4401823764634333,0.9603374413953691,-0.04706661324449886,-0.32082510121876906,0.22690521984675313,0.5580555659912436,-0.097048566746413,1.7196848303305123,0.1334024173581546,-1.3154871382832112,-0.9863034014659603,-1.0446233980609223,2.755130001029382,-0.19396822225672392,-1.0333488219739275,0.37272339170574764,1.0054492152613619,1.266420601741147,-2.1026940491604966,0.5587347491572473,-1.26564189608967,1.2365667571795178,0.4093624285717989],\"xaxis\":\"x9\",\"y\":[0.7400092392048068,-1.1612554650452065,-0.5122338887002665,0.8664771985598588,-0.34548987492232175,0.2781330104706034,0.8133129773606471,-0.07383128492210222,1.4992427452539066,-0.06427788658450528,0.9777437473437132,-1.0844097691216843,0.23691969667423549,0.6833580638519037,0.19854397914558808,1.2940032044175587,0.2938313960897921,-0.621691820858234,0.08475790559030699,-1.7256365238552824,0.7582412110970774,1.16644966761969,-0.13341758137524054,0.04093263652620348,0.18320697536407995,-0.32092372624067766,-0.9192767520476932,-0.009211021059547185,-0.019857457962381128,-0.3142022108888279,-0.6172132723525531,0.8960160304349492,0.7374330001967216,0.906649950526819,0.8261888595835849,0.8445809292425774,1.3616427427782307,-0.15250750568368196,0.10902639094972436,0.5281841463998894,-0.4749394513444946,0.7480762907916783,0.3388929235148995,-0.7310818991049979,0.02719614578997186,1.512962862350225,0.8035101292065836,-0.947393115998121,-0.02386938793565377,0.7320630015882023,1.4345212541566092,-0.09064584842119253,-0.252148147107145,-2.356165508371674,0.25763522548097273,1.8281771377382254,-0.04061189261196941,0.5765668729102671,-0.01960280456707083,1.1734496029900723,0.4150946237924706,-0.8742687679848868,-0.07335204432201242,-0.40438225261440797,-0.576332073034859,1.1146425638994812,-0.06873767949536136,-0.8595298987909357,-0.2464788836352362,-1.5408801744628844,-0.13284260964214661,0.41487455770150555,-0.11612837078371765,-0.485629058051464,0.31925770344676224,0.023159140123406755,0.9892737551707963,0.8448141680578326,-2.1502154363339514,-0.007235596504881794,0.2796531586390798,-0.3753414952199077,1.5123786861608832,-0.13171039496410855,0.14632688412280515,0.18796700882737305,0.31534514387362794,1.2218028635289813,-0.32024933567295366,0.2020833843113226,-1.5360472839414374,-0.8097024781571458,-0.61191498185867,-0.5094569134267607,-2.5249347881889856,-0.5105863402376877,1.5150611952696704,-0.7388111051732456,-0.45003373940694963,1.337901303183027],\"yaxis\":\"y9\",\"type\":\"scatter\"},{\"line\":{\"color\":\"rgba(128, 128, 128, 1.0)\",\"dash\":\"solid\",\"shape\":\"linear\",\"width\":1.3},\"marker\":{\"size\":2,\"symbol\":\"circle\"},\"mode\":\"markers\",\"name\":\"C\",\"text\":\"\",\"x\":[1.160825800152867,0.49616468992605606,0.07383583694545158,0.2327336021717852,-0.5017316173158699,0.8035594113553268,-0.28453246467477783,-0.915122676714964,-1.0386383838201863,-1.9952568867431326,0.09036591505575159,1.155948073431354,-0.42889040391045663,-1.2389704786006113,0.48118016142863945,1.0226046516596001,0.7398795059007436,0.37427404601920805,-1.7494103233808207,-0.9193506297259831,0.8887150557163451,0.9103962137297099,0.8947662724723978,0.06129563149484737,0.12002325193346794,-0.676796697112064,0.06093394366571922,-0.5640148151417872,0.81707423120743,0.6769766088966667,1.0441711359096393,0.8152504059983663,-0.39786853228590585,0.6599657173835193,0.5442907815797696,-0.2911291866765822,0.25500617713030627,-0.8331171412221349,-0.8620206840215854,0.04307721553350601,-1.215724201505668,0.12782065868375267,-2.145446215905343,-1.2319037363163725,-0.45930560794346414,-0.21250766872033242,-0.39804764478120985,-1.007422616587833,-0.9847119868129514,0.561732278632458,-1.14933123553313,1.6418957813050432,-1.2876584947792657,-0.03539282053918007,1.362381345433245,-0.6291386847202808,1.898930581889669,-0.6149912505025651,2.3034710611983304,-0.21226266974932004,-0.44847316876586585,-0.85303319669474,0.39684829882784267,-0.39090798457724035,1.3631512954306748,0.38249503712678984,-0.7742515439820427,-1.203847854965608,1.0115904667778681,0.3616426794426263,1.4846748175633453,0.9654302865010991,1.4562869848628681,-0.8177914063638103,-0.2730370368057006,0.6358807484449549,-0.7820612964596657,0.29823457797888253,0.39283832766839666,0.5285082098876401,1.3226836756728508,1.6636775870661122,0.5170672228134581,0.824798069948975,-0.46265991994032685,-0.10433027741652127,0.2690776010702887,1.3276291696627414,1.4619005839703703,0.06670553461973262,1.2367949690978866,-1.6728464542712906,0.41956646947819315,1.0213475908554128,1.4010211872247769,0.7057004386030941,-0.8740541643155307,-0.08067153622956262,-0.8096141021027465,1.2860139723173836],\"xaxis\":\"x10\",\"y\":[0.7400092392048068,-1.1612554650452065,-0.5122338887002665,0.8664771985598588,-0.34548987492232175,0.2781330104706034,0.8133129773606471,-0.07383128492210222,1.4992427452539066,-0.06427788658450528,0.9777437473437132,-1.0844097691216843,0.23691969667423549,0.6833580638519037,0.19854397914558808,1.2940032044175587,0.2938313960897921,-0.621691820858234,0.08475790559030699,-1.7256365238552824,0.7582412110970774,1.16644966761969,-0.13341758137524054,0.04093263652620348,0.18320697536407995,-0.32092372624067766,-0.9192767520476932,-0.009211021059547185,-0.019857457962381128,-0.3142022108888279,-0.6172132723525531,0.8960160304349492,0.7374330001967216,0.906649950526819,0.8261888595835849,0.8445809292425774,1.3616427427782307,-0.15250750568368196,0.10902639094972436,0.5281841463998894,-0.4749394513444946,0.7480762907916783,0.3388929235148995,-0.7310818991049979,0.02719614578997186,1.512962862350225,0.8035101292065836,-0.947393115998121,-0.02386938793565377,0.7320630015882023,1.4345212541566092,-0.09064584842119253,-0.252148147107145,-2.356165508371674,0.25763522548097273,1.8281771377382254,-0.04061189261196941,0.5765668729102671,-0.01960280456707083,1.1734496029900723,0.4150946237924706,-0.8742687679848868,-0.07335204432201242,-0.40438225261440797,-0.576332073034859,1.1146425638994812,-0.06873767949536136,-0.8595298987909357,-0.2464788836352362,-1.5408801744628844,-0.13284260964214661,0.41487455770150555,-0.11612837078371765,-0.485629058051464,0.31925770344676224,0.023159140123406755,0.9892737551707963,0.8448141680578326,-2.1502154363339514,-0.007235596504881794,0.2796531586390798,-0.3753414952199077,1.5123786861608832,-0.13171039496410855,0.14632688412280515,0.18796700882737305,0.31534514387362794,1.2218028635289813,-0.32024933567295366,0.2020833843113226,-1.5360472839414374,-0.8097024781571458,-0.61191498185867,-0.5094569134267607,-2.5249347881889856,-0.5105863402376877,1.5150611952696704,-0.7388111051732456,-0.45003373940694963,1.337901303183027],\"yaxis\":\"y10\",\"type\":\"scatter\"},{\"histfunc\":\"count\",\"histnorm\":\"\",\"marker\":{\"color\":\"rgba(50, 171, 96, 1.0)\",\"line\":{\"color\":\"#4D5663\",\"width\":1.3}},\"name\":\"C\",\"nbinsx\":10,\"opacity\":0.8,\"orientation\":\"v\",\"x\":[0.7400092392048068,-1.1612554650452065,-0.5122338887002665,0.8664771985598588,-0.34548987492232175,0.2781330104706034,0.8133129773606471,-0.07383128492210222,1.4992427452539066,-0.06427788658450528,0.9777437473437132,-1.0844097691216843,0.23691969667423549,0.6833580638519037,0.19854397914558808,1.2940032044175587,0.2938313960897921,-0.621691820858234,0.08475790559030699,-1.7256365238552824,0.7582412110970774,1.16644966761969,-0.13341758137524054,0.04093263652620348,0.18320697536407995,-0.32092372624067766,-0.9192767520476932,-0.009211021059547185,-0.019857457962381128,-0.3142022108888279,-0.6172132723525531,0.8960160304349492,0.7374330001967216,0.906649950526819,0.8261888595835849,0.8445809292425774,1.3616427427782307,-0.15250750568368196,0.10902639094972436,0.5281841463998894,-0.4749394513444946,0.7480762907916783,0.3388929235148995,-0.7310818991049979,0.02719614578997186,1.512962862350225,0.8035101292065836,-0.947393115998121,-0.02386938793565377,0.7320630015882023,1.4345212541566092,-0.09064584842119253,-0.252148147107145,-2.356165508371674,0.25763522548097273,1.8281771377382254,-0.04061189261196941,0.5765668729102671,-0.01960280456707083,1.1734496029900723,0.4150946237924706,-0.8742687679848868,-0.07335204432201242,-0.40438225261440797,-0.576332073034859,1.1146425638994812,-0.06873767949536136,-0.8595298987909357,-0.2464788836352362,-1.5408801744628844,-0.13284260964214661,0.41487455770150555,-0.11612837078371765,-0.485629058051464,0.31925770344676224,0.023159140123406755,0.9892737551707963,0.8448141680578326,-2.1502154363339514,-0.007235596504881794,0.2796531586390798,-0.3753414952199077,1.5123786861608832,-0.13171039496410855,0.14632688412280515,0.18796700882737305,0.31534514387362794,1.2218028635289813,-0.32024933567295366,0.2020833843113226,-1.5360472839414374,-0.8097024781571458,-0.61191498185867,-0.5094569134267607,-2.5249347881889856,-0.5105863402376877,1.5150611952696704,-0.7388111051732456,-0.45003373940694963,1.337901303183027],\"xaxis\":\"x11\",\"yaxis\":\"y11\",\"type\":\"histogram\"},{\"line\":{\"color\":\"rgba(128, 128, 128, 1.0)\",\"dash\":\"solid\",\"shape\":\"linear\",\"width\":1.3},\"marker\":{\"size\":2,\"symbol\":\"circle\"},\"mode\":\"markers\",\"name\":\"C\",\"text\":\"\",\"x\":[-0.9068405688078486,0.11621097171247942,0.26448478101457584,-0.5440854440489594,0.5531515272952051,0.8234042785049313,-0.22906001896152353,-0.16995879751638207,0.6802184174681418,0.4445235048806215,0.6941279000595636,2.1747144867557284,1.0223991406942747,0.8368416708590749,0.184720174470893,0.19552655776599848,1.6264800319723853,1.318082762218274,-1.1640119153017372,1.2758601739228614,-1.6418670804553157,-0.4171095950902611,-0.3969242583499874,0.501527724050001,-1.074606222181749,-2.223424663893433,0.6716990615797975,0.14796640692409763,0.6948660217218141,-1.8580010868790662,-0.00526893887691044,-0.6836722995929522,0.16612742230538627,-0.11821349276729069,-0.92117968291553,0.29188265668117613,0.34960878144601626,-0.06270629467800636,-0.4038456358871288,0.2648605591171205,0.061168616234663235,1.024178167604516,-2.3389668344520116,-0.2824909310511887,-0.4229235811543551,0.05631613133747578,-1.0376629367534844,-1.0508408409413266,-0.651137516259835,-0.6603619267138788,0.6919249312578343,-0.3620145382845533,-0.3034438985204652,0.4506109621289893,0.19784991813168556,0.4486839596077117,-0.6541847283551394,1.1707625473024965,0.13268391400985902,-0.7435191432300351,-0.7293681641791371,-0.018877098021782796,-1.4524593337407599,0.1267230001259561,-0.7125292116463977,-1.223740915429738,1.7028564850815053,-0.025254987372562845,0.14252619879882147,-1.424391582709415,-0.1305437297684222,-1.114889983872903,0.8818507740128105,1.7383740083404464,0.26964871270546237,-1.1071106984364947,1.0031650408456287,-0.9530919999597487,-1.5771064309978597,-1.548931175254627,1.1505022138477403,-0.7345193249486318,1.8285714520083187,0.8272062189740068,0.8279518009515064,0.3568071184223297,-0.3306248498338502,0.4467509629034824,1.6445920281443878,-0.9967417532997104,-1.0556863288562042,0.35588131793485744,-1.1358190099883094,0.4211429293134869,0.15585056701122604,1.8748160736152852,2.344329847624523,-0.05539633385281114,2.0885407026049565,-1.1947913568464845],\"xaxis\":\"x12\",\"y\":[0.7400092392048068,-1.1612554650452065,-0.5122338887002665,0.8664771985598588,-0.34548987492232175,0.2781330104706034,0.8133129773606471,-0.07383128492210222,1.4992427452539066,-0.06427788658450528,0.9777437473437132,-1.0844097691216843,0.23691969667423549,0.6833580638519037,0.19854397914558808,1.2940032044175587,0.2938313960897921,-0.621691820858234,0.08475790559030699,-1.7256365238552824,0.7582412110970774,1.16644966761969,-0.13341758137524054,0.04093263652620348,0.18320697536407995,-0.32092372624067766,-0.9192767520476932,-0.009211021059547185,-0.019857457962381128,-0.3142022108888279,-0.6172132723525531,0.8960160304349492,0.7374330001967216,0.906649950526819,0.8261888595835849,0.8445809292425774,1.3616427427782307,-0.15250750568368196,0.10902639094972436,0.5281841463998894,-0.4749394513444946,0.7480762907916783,0.3388929235148995,-0.7310818991049979,0.02719614578997186,1.512962862350225,0.8035101292065836,-0.947393115998121,-0.02386938793565377,0.7320630015882023,1.4345212541566092,-0.09064584842119253,-0.252148147107145,-2.356165508371674,0.25763522548097273,1.8281771377382254,-0.04061189261196941,0.5765668729102671,-0.01960280456707083,1.1734496029900723,0.4150946237924706,-0.8742687679848868,-0.07335204432201242,-0.40438225261440797,-0.576332073034859,1.1146425638994812,-0.06873767949536136,-0.8595298987909357,-0.2464788836352362,-1.5408801744628844,-0.13284260964214661,0.41487455770150555,-0.11612837078371765,-0.485629058051464,0.31925770344676224,0.023159140123406755,0.9892737551707963,0.8448141680578326,-2.1502154363339514,-0.007235596504881794,0.2796531586390798,-0.3753414952199077,1.5123786861608832,-0.13171039496410855,0.14632688412280515,0.18796700882737305,0.31534514387362794,1.2218028635289813,-0.32024933567295366,0.2020833843113226,-1.5360472839414374,-0.8097024781571458,-0.61191498185867,-0.5094569134267607,-2.5249347881889856,-0.5105863402376877,1.5150611952696704,-0.7388111051732456,-0.45003373940694963,1.337901303183027],\"yaxis\":\"y12\",\"type\":\"scatter\"},{\"line\":{\"color\":\"rgba(128, 128, 128, 1.0)\",\"dash\":\"solid\",\"shape\":\"linear\",\"width\":1.3},\"marker\":{\"size\":2,\"symbol\":\"circle\"},\"mode\":\"markers\",\"name\":\"D\",\"text\":\"\",\"x\":[0.2540205165143539,0.21018287468404354,-1.417366523418028,1.4355964054891057,0.6438156084526279,-0.48992682332332516,2.089603407589297,-0.24037244272897193,0.22741612429678598,-0.43388743074207914,-0.17474693590151122,-0.3378269321122739,-0.2872816214010255,0.09021167266536759,1.9916614315099455,-0.9203501904153832,1.9932576734555514,1.190820979890536,0.7591670480729559,-0.9322613470150776,-0.04972199823331805,1.2685856210555648,1.5879259973556699,-0.567128573474692,-2.1942346439385063,-0.4559241878544287,1.0321820388276353,-1.2718987011182359,-1.2386551206807364,-2.194211747720904,-0.5258492859793686,-0.6653282837542511,-1.3988028138784063,-0.07260478095047099,-0.28642094085208936,-0.11457773635910108,-0.1095433105850815,0.9750875884483519,0.8374465307982316,-0.739274852671829,0.3157117587684143,-0.1715446808230524,-1.941469789403776,-0.8593008608200065,1.0567482570657265,-1.9320398455863936,0.2594822932774328,-0.39301308706656246,0.4491389194589242,-0.5943834464300685,-1.6205742737788318,0.6117521209297304,-1.276327824115349,0.4086695638455752,0.24793326266283466,-0.4612398992086352,1.472207033963178,-1.8432937178256399,0.331853571779341,-0.14425338478943614,-0.05413105300153619,2.319362187084283,0.7674645302272454,0.6023945964221519,0.09769810203503486,1.4595133621459795,0.5577801094920947,-0.8161165385921015,-0.20283106200073736,1.0814223714895106,-0.9390927760332309,-0.7014055677825115,-0.26483222934057704,0.2563524393956336,1.066269844507545,0.8834240698541156,-0.7106341632582636,-0.4401823764634333,0.9603374413953691,-0.04706661324449886,-0.32082510121876906,0.22690521984675313,0.5580555659912436,-0.097048566746413,1.7196848303305123,0.1334024173581546,-1.3154871382832112,-0.9863034014659603,-1.0446233980609223,2.755130001029382,-0.19396822225672392,-1.0333488219739275,0.37272339170574764,1.0054492152613619,1.266420601741147,-2.1026940491604966,0.5587347491572473,-1.26564189608967,1.2365667571795178,0.4093624285717989],\"xaxis\":\"x13\",\"y\":[-0.9068405688078486,0.11621097171247942,0.26448478101457584,-0.5440854440489594,0.5531515272952051,0.8234042785049313,-0.22906001896152353,-0.16995879751638207,0.6802184174681418,0.4445235048806215,0.6941279000595636,2.1747144867557284,1.0223991406942747,0.8368416708590749,0.184720174470893,0.19552655776599848,1.6264800319723853,1.318082762218274,-1.1640119153017372,1.2758601739228614,-1.6418670804553157,-0.4171095950902611,-0.3969242583499874,0.501527724050001,-1.074606222181749,-2.223424663893433,0.6716990615797975,0.14796640692409763,0.6948660217218141,-1.8580010868790662,-0.00526893887691044,-0.6836722995929522,0.16612742230538627,-0.11821349276729069,-0.92117968291553,0.29188265668117613,0.34960878144601626,-0.06270629467800636,-0.4038456358871288,0.2648605591171205,0.061168616234663235,1.024178167604516,-2.3389668344520116,-0.2824909310511887,-0.4229235811543551,0.05631613133747578,-1.0376629367534844,-1.0508408409413266,-0.651137516259835,-0.6603619267138788,0.6919249312578343,-0.3620145382845533,-0.3034438985204652,0.4506109621289893,0.19784991813168556,0.4486839596077117,-0.6541847283551394,1.1707625473024965,0.13268391400985902,-0.7435191432300351,-0.7293681641791371,-0.018877098021782796,-1.4524593337407599,0.1267230001259561,-0.7125292116463977,-1.223740915429738,1.7028564850815053,-0.025254987372562845,0.14252619879882147,-1.424391582709415,-0.1305437297684222,-1.114889983872903,0.8818507740128105,1.7383740083404464,0.26964871270546237,-1.1071106984364947,1.0031650408456287,-0.9530919999597487,-1.5771064309978597,-1.548931175254627,1.1505022138477403,-0.7345193249486318,1.8285714520083187,0.8272062189740068,0.8279518009515064,0.3568071184223297,-0.3306248498338502,0.4467509629034824,1.6445920281443878,-0.9967417532997104,-1.0556863288562042,0.35588131793485744,-1.1358190099883094,0.4211429293134869,0.15585056701122604,1.8748160736152852,2.344329847624523,-0.05539633385281114,2.0885407026049565,-1.1947913568464845],\"yaxis\":\"y13\",\"type\":\"scatter\"},{\"line\":{\"color\":\"rgba(128, 128, 128, 1.0)\",\"dash\":\"solid\",\"shape\":\"linear\",\"width\":1.3},\"marker\":{\"size\":2,\"symbol\":\"circle\"},\"mode\":\"markers\",\"name\":\"D\",\"text\":\"\",\"x\":[1.160825800152867,0.49616468992605606,0.07383583694545158,0.2327336021717852,-0.5017316173158699,0.8035594113553268,-0.28453246467477783,-0.915122676714964,-1.0386383838201863,-1.9952568867431326,0.09036591505575159,1.155948073431354,-0.42889040391045663,-1.2389704786006113,0.48118016142863945,1.0226046516596001,0.7398795059007436,0.37427404601920805,-1.7494103233808207,-0.9193506297259831,0.8887150557163451,0.9103962137297099,0.8947662724723978,0.06129563149484737,0.12002325193346794,-0.676796697112064,0.06093394366571922,-0.5640148151417872,0.81707423120743,0.6769766088966667,1.0441711359096393,0.8152504059983663,-0.39786853228590585,0.6599657173835193,0.5442907815797696,-0.2911291866765822,0.25500617713030627,-0.8331171412221349,-0.8620206840215854,0.04307721553350601,-1.215724201505668,0.12782065868375267,-2.145446215905343,-1.2319037363163725,-0.45930560794346414,-0.21250766872033242,-0.39804764478120985,-1.007422616587833,-0.9847119868129514,0.561732278632458,-1.14933123553313,1.6418957813050432,-1.2876584947792657,-0.03539282053918007,1.362381345433245,-0.6291386847202808,1.898930581889669,-0.6149912505025651,2.3034710611983304,-0.21226266974932004,-0.44847316876586585,-0.85303319669474,0.39684829882784267,-0.39090798457724035,1.3631512954306748,0.38249503712678984,-0.7742515439820427,-1.203847854965608,1.0115904667778681,0.3616426794426263,1.4846748175633453,0.9654302865010991,1.4562869848628681,-0.8177914063638103,-0.2730370368057006,0.6358807484449549,-0.7820612964596657,0.29823457797888253,0.39283832766839666,0.5285082098876401,1.3226836756728508,1.6636775870661122,0.5170672228134581,0.824798069948975,-0.46265991994032685,-0.10433027741652127,0.2690776010702887,1.3276291696627414,1.4619005839703703,0.06670553461973262,1.2367949690978866,-1.6728464542712906,0.41956646947819315,1.0213475908554128,1.4010211872247769,0.7057004386030941,-0.8740541643155307,-0.08067153622956262,-0.8096141021027465,1.2860139723173836],\"xaxis\":\"x14\",\"y\":[-0.9068405688078486,0.11621097171247942,0.26448478101457584,-0.5440854440489594,0.5531515272952051,0.8234042785049313,-0.22906001896152353,-0.16995879751638207,0.6802184174681418,0.4445235048806215,0.6941279000595636,2.1747144867557284,1.0223991406942747,0.8368416708590749,0.184720174470893,0.19552655776599848,1.6264800319723853,1.318082762218274,-1.1640119153017372,1.2758601739228614,-1.6418670804553157,-0.4171095950902611,-0.3969242583499874,0.501527724050001,-1.074606222181749,-2.223424663893433,0.6716990615797975,0.14796640692409763,0.6948660217218141,-1.8580010868790662,-0.00526893887691044,-0.6836722995929522,0.16612742230538627,-0.11821349276729069,-0.92117968291553,0.29188265668117613,0.34960878144601626,-0.06270629467800636,-0.4038456358871288,0.2648605591171205,0.061168616234663235,1.024178167604516,-2.3389668344520116,-0.2824909310511887,-0.4229235811543551,0.05631613133747578,-1.0376629367534844,-1.0508408409413266,-0.651137516259835,-0.6603619267138788,0.6919249312578343,-0.3620145382845533,-0.3034438985204652,0.4506109621289893,0.19784991813168556,0.4486839596077117,-0.6541847283551394,1.1707625473024965,0.13268391400985902,-0.7435191432300351,-0.7293681641791371,-0.018877098021782796,-1.4524593337407599,0.1267230001259561,-0.7125292116463977,-1.223740915429738,1.7028564850815053,-0.025254987372562845,0.14252619879882147,-1.424391582709415,-0.1305437297684222,-1.114889983872903,0.8818507740128105,1.7383740083404464,0.26964871270546237,-1.1071106984364947,1.0031650408456287,-0.9530919999597487,-1.5771064309978597,-1.548931175254627,1.1505022138477403,-0.7345193249486318,1.8285714520083187,0.8272062189740068,0.8279518009515064,0.3568071184223297,-0.3306248498338502,0.4467509629034824,1.6445920281443878,-0.9967417532997104,-1.0556863288562042,0.35588131793485744,-1.1358190099883094,0.4211429293134869,0.15585056701122604,1.8748160736152852,2.344329847624523,-0.05539633385281114,2.0885407026049565,-1.1947913568464845],\"yaxis\":\"y14\",\"type\":\"scatter\"},{\"line\":{\"color\":\"rgba(128, 128, 128, 1.0)\",\"dash\":\"solid\",\"shape\":\"linear\",\"width\":1.3},\"marker\":{\"size\":2,\"symbol\":\"circle\"},\"mode\":\"markers\",\"name\":\"D\",\"text\":\"\",\"x\":[0.7400092392048068,-1.1612554650452065,-0.5122338887002665,0.8664771985598588,-0.34548987492232175,0.2781330104706034,0.8133129773606471,-0.07383128492210222,1.4992427452539066,-0.06427788658450528,0.9777437473437132,-1.0844097691216843,0.23691969667423549,0.6833580638519037,0.19854397914558808,1.2940032044175587,0.2938313960897921,-0.621691820858234,0.08475790559030699,-1.7256365238552824,0.7582412110970774,1.16644966761969,-0.13341758137524054,0.04093263652620348,0.18320697536407995,-0.32092372624067766,-0.9192767520476932,-0.009211021059547185,-0.019857457962381128,-0.3142022108888279,-0.6172132723525531,0.8960160304349492,0.7374330001967216,0.906649950526819,0.8261888595835849,0.8445809292425774,1.3616427427782307,-0.15250750568368196,0.10902639094972436,0.5281841463998894,-0.4749394513444946,0.7480762907916783,0.3388929235148995,-0.7310818991049979,0.02719614578997186,1.512962862350225,0.8035101292065836,-0.947393115998121,-0.02386938793565377,0.7320630015882023,1.4345212541566092,-0.09064584842119253,-0.252148147107145,-2.356165508371674,0.25763522548097273,1.8281771377382254,-0.04061189261196941,0.5765668729102671,-0.01960280456707083,1.1734496029900723,0.4150946237924706,-0.8742687679848868,-0.07335204432201242,-0.40438225261440797,-0.576332073034859,1.1146425638994812,-0.06873767949536136,-0.8595298987909357,-0.2464788836352362,-1.5408801744628844,-0.13284260964214661,0.41487455770150555,-0.11612837078371765,-0.485629058051464,0.31925770344676224,0.023159140123406755,0.9892737551707963,0.8448141680578326,-2.1502154363339514,-0.007235596504881794,0.2796531586390798,-0.3753414952199077,1.5123786861608832,-0.13171039496410855,0.14632688412280515,0.18796700882737305,0.31534514387362794,1.2218028635289813,-0.32024933567295366,0.2020833843113226,-1.5360472839414374,-0.8097024781571458,-0.61191498185867,-0.5094569134267607,-2.5249347881889856,-0.5105863402376877,1.5150611952696704,-0.7388111051732456,-0.45003373940694963,1.337901303183027],\"xaxis\":\"x15\",\"y\":[-0.9068405688078486,0.11621097171247942,0.26448478101457584,-0.5440854440489594,0.5531515272952051,0.8234042785049313,-0.22906001896152353,-0.16995879751638207,0.6802184174681418,0.4445235048806215,0.6941279000595636,2.1747144867557284,1.0223991406942747,0.8368416708590749,0.184720174470893,0.19552655776599848,1.6264800319723853,1.318082762218274,-1.1640119153017372,1.2758601739228614,-1.6418670804553157,-0.4171095950902611,-0.3969242583499874,0.501527724050001,-1.074606222181749,-2.223424663893433,0.6716990615797975,0.14796640692409763,0.6948660217218141,-1.8580010868790662,-0.00526893887691044,-0.6836722995929522,0.16612742230538627,-0.11821349276729069,-0.92117968291553,0.29188265668117613,0.34960878144601626,-0.06270629467800636,-0.4038456358871288,0.2648605591171205,0.061168616234663235,1.024178167604516,-2.3389668344520116,-0.2824909310511887,-0.4229235811543551,0.05631613133747578,-1.0376629367534844,-1.0508408409413266,-0.651137516259835,-0.6603619267138788,0.6919249312578343,-0.3620145382845533,-0.3034438985204652,0.4506109621289893,0.19784991813168556,0.4486839596077117,-0.6541847283551394,1.1707625473024965,0.13268391400985902,-0.7435191432300351,-0.7293681641791371,-0.018877098021782796,-1.4524593337407599,0.1267230001259561,-0.7125292116463977,-1.223740915429738,1.7028564850815053,-0.025254987372562845,0.14252619879882147,-1.424391582709415,-0.1305437297684222,-1.114889983872903,0.8818507740128105,1.7383740083404464,0.26964871270546237,-1.1071106984364947,1.0031650408456287,-0.9530919999597487,-1.5771064309978597,-1.548931175254627,1.1505022138477403,-0.7345193249486318,1.8285714520083187,0.8272062189740068,0.8279518009515064,0.3568071184223297,-0.3306248498338502,0.4467509629034824,1.6445920281443878,-0.9967417532997104,-1.0556863288562042,0.35588131793485744,-1.1358190099883094,0.4211429293134869,0.15585056701122604,1.8748160736152852,2.344329847624523,-0.05539633385281114,2.0885407026049565,-1.1947913568464845],\"yaxis\":\"y15\",\"type\":\"scatter\"},{\"histfunc\":\"count\",\"histnorm\":\"\",\"marker\":{\"color\":\"rgba(128, 0, 128, 1.0)\",\"line\":{\"color\":\"#4D5663\",\"width\":1.3}},\"name\":\"D\",\"nbinsx\":10,\"opacity\":0.8,\"orientation\":\"v\",\"x\":[-0.9068405688078486,0.11621097171247942,0.26448478101457584,-0.5440854440489594,0.5531515272952051,0.8234042785049313,-0.22906001896152353,-0.16995879751638207,0.6802184174681418,0.4445235048806215,0.6941279000595636,2.1747144867557284,1.0223991406942747,0.8368416708590749,0.184720174470893,0.19552655776599848,1.6264800319723853,1.318082762218274,-1.1640119153017372,1.2758601739228614,-1.6418670804553157,-0.4171095950902611,-0.3969242583499874,0.501527724050001,-1.074606222181749,-2.223424663893433,0.6716990615797975,0.14796640692409763,0.6948660217218141,-1.8580010868790662,-0.00526893887691044,-0.6836722995929522,0.16612742230538627,-0.11821349276729069,-0.92117968291553,0.29188265668117613,0.34960878144601626,-0.06270629467800636,-0.4038456358871288,0.2648605591171205,0.061168616234663235,1.024178167604516,-2.3389668344520116,-0.2824909310511887,-0.4229235811543551,0.05631613133747578,-1.0376629367534844,-1.0508408409413266,-0.651137516259835,-0.6603619267138788,0.6919249312578343,-0.3620145382845533,-0.3034438985204652,0.4506109621289893,0.19784991813168556,0.4486839596077117,-0.6541847283551394,1.1707625473024965,0.13268391400985902,-0.7435191432300351,-0.7293681641791371,-0.018877098021782796,-1.4524593337407599,0.1267230001259561,-0.7125292116463977,-1.223740915429738,1.7028564850815053,-0.025254987372562845,0.14252619879882147,-1.424391582709415,-0.1305437297684222,-1.114889983872903,0.8818507740128105,1.7383740083404464,0.26964871270546237,-1.1071106984364947,1.0031650408456287,-0.9530919999597487,-1.5771064309978597,-1.548931175254627,1.1505022138477403,-0.7345193249486318,1.8285714520083187,0.8272062189740068,0.8279518009515064,0.3568071184223297,-0.3306248498338502,0.4467509629034824,1.6445920281443878,-0.9967417532997104,-1.0556863288562042,0.35588131793485744,-1.1358190099883094,0.4211429293134869,0.15585056701122604,1.8748160736152852,2.344329847624523,-0.05539633385281114,2.0885407026049565,-1.1947913568464845],\"xaxis\":\"x16\",\"yaxis\":\"y16\",\"type\":\"histogram\"}],                        {\"bargap\":0.02,\"legend\":{\"bgcolor\":\"#F5F6F9\",\"font\":{\"color\":\"#4D5663\"}},\"paper_bgcolor\":\"#F5F6F9\",\"plot_bgcolor\":\"#F5F6F9\",\"showlegend\":false,\"template\":{\"data\":{\"barpolar\":[{\"marker\":{\"line\":{\"color\":\"#E5ECF6\",\"width\":0.5},\"pattern\":{\"fillmode\":\"overlay\",\"size\":10,\"solidity\":0.2}},\"type\":\"barpolar\"}],\"bar\":[{\"error_x\":{\"color\":\"#2a3f5f\"},\"error_y\":{\"color\":\"#2a3f5f\"},\"marker\":{\"line\":{\"color\":\"#E5ECF6\",\"width\":0.5},\"pattern\":{\"fillmode\":\"overlay\",\"size\":10,\"solidity\":0.2}},\"type\":\"bar\"}],\"carpet\":[{\"aaxis\":{\"endlinecolor\":\"#2a3f5f\",\"gridcolor\":\"white\",\"linecolor\":\"white\",\"minorgridcolor\":\"white\",\"startlinecolor\":\"#2a3f5f\"},\"baxis\":{\"endlinecolor\":\"#2a3f5f\",\"gridcolor\":\"white\",\"linecolor\":\"white\",\"minorgridcolor\":\"white\",\"startlinecolor\":\"#2a3f5f\"},\"type\":\"carpet\"}],\"choropleth\":[{\"colorbar\":{\"outlinewidth\":0,\"ticks\":\"\"},\"type\":\"choropleth\"}],\"contourcarpet\":[{\"colorbar\":{\"outlinewidth\":0,\"ticks\":\"\"},\"type\":\"contourcarpet\"}],\"contour\":[{\"colorbar\":{\"outlinewidth\":0,\"ticks\":\"\"},\"colorscale\":[[0.0,\"#0d0887\"],[0.1111111111111111,\"#46039f\"],[0.2222222222222222,\"#7201a8\"],[0.3333333333333333,\"#9c179e\"],[0.4444444444444444,\"#bd3786\"],[0.5555555555555556,\"#d8576b\"],[0.6666666666666666,\"#ed7953\"],[0.7777777777777778,\"#fb9f3a\"],[0.8888888888888888,\"#fdca26\"],[1.0,\"#f0f921\"]],\"type\":\"contour\"}],\"heatmapgl\":[{\"colorbar\":{\"outlinewidth\":0,\"ticks\":\"\"},\"colorscale\":[[0.0,\"#0d0887\"],[0.1111111111111111,\"#46039f\"],[0.2222222222222222,\"#7201a8\"],[0.3333333333333333,\"#9c179e\"],[0.4444444444444444,\"#bd3786\"],[0.5555555555555556,\"#d8576b\"],[0.6666666666666666,\"#ed7953\"],[0.7777777777777778,\"#fb9f3a\"],[0.8888888888888888,\"#fdca26\"],[1.0,\"#f0f921\"]],\"type\":\"heatmapgl\"}],\"heatmap\":[{\"colorbar\":{\"outlinewidth\":0,\"ticks\":\"\"},\"colorscale\":[[0.0,\"#0d0887\"],[0.1111111111111111,\"#46039f\"],[0.2222222222222222,\"#7201a8\"],[0.3333333333333333,\"#9c179e\"],[0.4444444444444444,\"#bd3786\"],[0.5555555555555556,\"#d8576b\"],[0.6666666666666666,\"#ed7953\"],[0.7777777777777778,\"#fb9f3a\"],[0.8888888888888888,\"#fdca26\"],[1.0,\"#f0f921\"]],\"type\":\"heatmap\"}],\"histogram2dcontour\":[{\"colorbar\":{\"outlinewidth\":0,\"ticks\":\"\"},\"colorscale\":[[0.0,\"#0d0887\"],[0.1111111111111111,\"#46039f\"],[0.2222222222222222,\"#7201a8\"],[0.3333333333333333,\"#9c179e\"],[0.4444444444444444,\"#bd3786\"],[0.5555555555555556,\"#d8576b\"],[0.6666666666666666,\"#ed7953\"],[0.7777777777777778,\"#fb9f3a\"],[0.8888888888888888,\"#fdca26\"],[1.0,\"#f0f921\"]],\"type\":\"histogram2dcontour\"}],\"histogram2d\":[{\"colorbar\":{\"outlinewidth\":0,\"ticks\":\"\"},\"colorscale\":[[0.0,\"#0d0887\"],[0.1111111111111111,\"#46039f\"],[0.2222222222222222,\"#7201a8\"],[0.3333333333333333,\"#9c179e\"],[0.4444444444444444,\"#bd3786\"],[0.5555555555555556,\"#d8576b\"],[0.6666666666666666,\"#ed7953\"],[0.7777777777777778,\"#fb9f3a\"],[0.8888888888888888,\"#fdca26\"],[1.0,\"#f0f921\"]],\"type\":\"histogram2d\"}],\"histogram\":[{\"marker\":{\"pattern\":{\"fillmode\":\"overlay\",\"size\":10,\"solidity\":0.2}},\"type\":\"histogram\"}],\"mesh3d\":[{\"colorbar\":{\"outlinewidth\":0,\"ticks\":\"\"},\"type\":\"mesh3d\"}],\"parcoords\":[{\"line\":{\"colorbar\":{\"outlinewidth\":0,\"ticks\":\"\"}},\"type\":\"parcoords\"}],\"pie\":[{\"automargin\":true,\"type\":\"pie\"}],\"scatter3d\":[{\"line\":{\"colorbar\":{\"outlinewidth\":0,\"ticks\":\"\"}},\"marker\":{\"colorbar\":{\"outlinewidth\":0,\"ticks\":\"\"}},\"type\":\"scatter3d\"}],\"scattercarpet\":[{\"marker\":{\"colorbar\":{\"outlinewidth\":0,\"ticks\":\"\"}},\"type\":\"scattercarpet\"}],\"scattergeo\":[{\"marker\":{\"colorbar\":{\"outlinewidth\":0,\"ticks\":\"\"}},\"type\":\"scattergeo\"}],\"scattergl\":[{\"marker\":{\"colorbar\":{\"outlinewidth\":0,\"ticks\":\"\"}},\"type\":\"scattergl\"}],\"scattermapbox\":[{\"marker\":{\"colorbar\":{\"outlinewidth\":0,\"ticks\":\"\"}},\"type\":\"scattermapbox\"}],\"scatterpolargl\":[{\"marker\":{\"colorbar\":{\"outlinewidth\":0,\"ticks\":\"\"}},\"type\":\"scatterpolargl\"}],\"scatterpolar\":[{\"marker\":{\"colorbar\":{\"outlinewidth\":0,\"ticks\":\"\"}},\"type\":\"scatterpolar\"}],\"scatter\":[{\"marker\":{\"colorbar\":{\"outlinewidth\":0,\"ticks\":\"\"}},\"type\":\"scatter\"}],\"scatterternary\":[{\"marker\":{\"colorbar\":{\"outlinewidth\":0,\"ticks\":\"\"}},\"type\":\"scatterternary\"}],\"surface\":[{\"colorbar\":{\"outlinewidth\":0,\"ticks\":\"\"},\"colorscale\":[[0.0,\"#0d0887\"],[0.1111111111111111,\"#46039f\"],[0.2222222222222222,\"#7201a8\"],[0.3333333333333333,\"#9c179e\"],[0.4444444444444444,\"#bd3786\"],[0.5555555555555556,\"#d8576b\"],[0.6666666666666666,\"#ed7953\"],[0.7777777777777778,\"#fb9f3a\"],[0.8888888888888888,\"#fdca26\"],[1.0,\"#f0f921\"]],\"type\":\"surface\"}],\"table\":[{\"cells\":{\"fill\":{\"color\":\"#EBF0F8\"},\"line\":{\"color\":\"white\"}},\"header\":{\"fill\":{\"color\":\"#C8D4E3\"},\"line\":{\"color\":\"white\"}},\"type\":\"table\"}]},\"layout\":{\"annotationdefaults\":{\"arrowcolor\":\"#2a3f5f\",\"arrowhead\":0,\"arrowwidth\":1},\"autotypenumbers\":\"strict\",\"coloraxis\":{\"colorbar\":{\"outlinewidth\":0,\"ticks\":\"\"}},\"colorscale\":{\"diverging\":[[0,\"#8e0152\"],[0.1,\"#c51b7d\"],[0.2,\"#de77ae\"],[0.3,\"#f1b6da\"],[0.4,\"#fde0ef\"],[0.5,\"#f7f7f7\"],[0.6,\"#e6f5d0\"],[0.7,\"#b8e186\"],[0.8,\"#7fbc41\"],[0.9,\"#4d9221\"],[1,\"#276419\"]],\"sequential\":[[0.0,\"#0d0887\"],[0.1111111111111111,\"#46039f\"],[0.2222222222222222,\"#7201a8\"],[0.3333333333333333,\"#9c179e\"],[0.4444444444444444,\"#bd3786\"],[0.5555555555555556,\"#d8576b\"],[0.6666666666666666,\"#ed7953\"],[0.7777777777777778,\"#fb9f3a\"],[0.8888888888888888,\"#fdca26\"],[1.0,\"#f0f921\"]],\"sequentialminus\":[[0.0,\"#0d0887\"],[0.1111111111111111,\"#46039f\"],[0.2222222222222222,\"#7201a8\"],[0.3333333333333333,\"#9c179e\"],[0.4444444444444444,\"#bd3786\"],[0.5555555555555556,\"#d8576b\"],[0.6666666666666666,\"#ed7953\"],[0.7777777777777778,\"#fb9f3a\"],[0.8888888888888888,\"#fdca26\"],[1.0,\"#f0f921\"]]},\"colorway\":[\"#636efa\",\"#EF553B\",\"#00cc96\",\"#ab63fa\",\"#FFA15A\",\"#19d3f3\",\"#FF6692\",\"#B6E880\",\"#FF97FF\",\"#FECB52\"],\"font\":{\"color\":\"#2a3f5f\"},\"geo\":{\"bgcolor\":\"white\",\"lakecolor\":\"white\",\"landcolor\":\"#E5ECF6\",\"showlakes\":true,\"showland\":true,\"subunitcolor\":\"white\"},\"hoverlabel\":{\"align\":\"left\"},\"hovermode\":\"closest\",\"mapbox\":{\"style\":\"light\"},\"paper_bgcolor\":\"white\",\"plot_bgcolor\":\"#E5ECF6\",\"polar\":{\"angularaxis\":{\"gridcolor\":\"white\",\"linecolor\":\"white\",\"ticks\":\"\"},\"bgcolor\":\"#E5ECF6\",\"radialaxis\":{\"gridcolor\":\"white\",\"linecolor\":\"white\",\"ticks\":\"\"}},\"scene\":{\"xaxis\":{\"backgroundcolor\":\"#E5ECF6\",\"gridcolor\":\"white\",\"gridwidth\":2,\"linecolor\":\"white\",\"showbackground\":true,\"ticks\":\"\",\"zerolinecolor\":\"white\"},\"yaxis\":{\"backgroundcolor\":\"#E5ECF6\",\"gridcolor\":\"white\",\"gridwidth\":2,\"linecolor\":\"white\",\"showbackground\":true,\"ticks\":\"\",\"zerolinecolor\":\"white\"},\"zaxis\":{\"backgroundcolor\":\"#E5ECF6\",\"gridcolor\":\"white\",\"gridwidth\":2,\"linecolor\":\"white\",\"showbackground\":true,\"ticks\":\"\",\"zerolinecolor\":\"white\"}},\"shapedefaults\":{\"line\":{\"color\":\"#2a3f5f\"}},\"ternary\":{\"aaxis\":{\"gridcolor\":\"white\",\"linecolor\":\"white\",\"ticks\":\"\"},\"baxis\":{\"gridcolor\":\"white\",\"linecolor\":\"white\",\"ticks\":\"\"},\"bgcolor\":\"#E5ECF6\",\"caxis\":{\"gridcolor\":\"white\",\"linecolor\":\"white\",\"ticks\":\"\"}},\"title\":{\"x\":0.05},\"xaxis\":{\"automargin\":true,\"gridcolor\":\"white\",\"linecolor\":\"white\",\"ticks\":\"\",\"title\":{\"standoff\":15},\"zerolinecolor\":\"white\",\"zerolinewidth\":2},\"yaxis\":{\"automargin\":true,\"gridcolor\":\"white\",\"linecolor\":\"white\",\"ticks\":\"\",\"title\":{\"standoff\":15},\"zerolinecolor\":\"white\",\"zerolinewidth\":2}}},\"title\":{\"font\":{\"color\":\"#4D5663\"}},\"xaxis\":{\"anchor\":\"y\",\"domain\":[0.0,0.2125],\"gridcolor\":\"#E1E5ED\",\"showgrid\":false,\"tickfont\":{\"color\":\"#4D5663\"},\"title\":{\"font\":{\"color\":\"#4D5663\"},\"text\":\"\"},\"zerolinecolor\":\"#E1E5ED\"},\"yaxis\":{\"anchor\":\"x\",\"domain\":[0.8025,1.0],\"gridcolor\":\"#E1E5ED\",\"showgrid\":false,\"tickfont\":{\"color\":\"#4D5663\"},\"title\":{\"font\":{\"color\":\"#4D5663\"},\"text\":\"\"},\"zerolinecolor\":\"#E1E5ED\"},\"xaxis2\":{\"anchor\":\"y2\",\"domain\":[0.2625,0.475],\"gridcolor\":\"#E1E5ED\",\"showgrid\":false,\"tickfont\":{\"color\":\"#4D5663\"},\"title\":{\"font\":{\"color\":\"#4D5663\"},\"text\":\"\"},\"zerolinecolor\":\"#E1E5ED\"},\"yaxis2\":{\"anchor\":\"x2\",\"domain\":[0.8025,1.0],\"gridcolor\":\"#E1E5ED\",\"showgrid\":false,\"tickfont\":{\"color\":\"#4D5663\"},\"title\":{\"font\":{\"color\":\"#4D5663\"},\"text\":\"\"},\"zerolinecolor\":\"#E1E5ED\"},\"xaxis3\":{\"anchor\":\"y3\",\"domain\":[0.525,0.7375],\"gridcolor\":\"#E1E5ED\",\"showgrid\":false,\"tickfont\":{\"color\":\"#4D5663\"},\"title\":{\"font\":{\"color\":\"#4D5663\"},\"text\":\"\"},\"zerolinecolor\":\"#E1E5ED\"},\"yaxis3\":{\"anchor\":\"x3\",\"domain\":[0.8025,1.0],\"gridcolor\":\"#E1E5ED\",\"showgrid\":false,\"tickfont\":{\"color\":\"#4D5663\"},\"title\":{\"font\":{\"color\":\"#4D5663\"},\"text\":\"\"},\"zerolinecolor\":\"#E1E5ED\"},\"xaxis4\":{\"anchor\":\"y4\",\"domain\":[0.7875,1.0],\"gridcolor\":\"#E1E5ED\",\"showgrid\":false,\"tickfont\":{\"color\":\"#4D5663\"},\"title\":{\"font\":{\"color\":\"#4D5663\"},\"text\":\"\"},\"zerolinecolor\":\"#E1E5ED\"},\"yaxis4\":{\"anchor\":\"x4\",\"domain\":[0.8025,1.0],\"gridcolor\":\"#E1E5ED\",\"showgrid\":false,\"tickfont\":{\"color\":\"#4D5663\"},\"title\":{\"font\":{\"color\":\"#4D5663\"},\"text\":\"\"},\"zerolinecolor\":\"#E1E5ED\"},\"xaxis5\":{\"anchor\":\"y5\",\"domain\":[0.0,0.2125],\"gridcolor\":\"#E1E5ED\",\"showgrid\":false,\"tickfont\":{\"color\":\"#4D5663\"},\"title\":{\"font\":{\"color\":\"#4D5663\"},\"text\":\"\"},\"zerolinecolor\":\"#E1E5ED\"},\"yaxis5\":{\"anchor\":\"x5\",\"domain\":[0.535,0.7325],\"gridcolor\":\"#E1E5ED\",\"showgrid\":false,\"tickfont\":{\"color\":\"#4D5663\"},\"title\":{\"font\":{\"color\":\"#4D5663\"},\"text\":\"\"},\"zerolinecolor\":\"#E1E5ED\"},\"xaxis6\":{\"anchor\":\"y6\",\"domain\":[0.2625,0.475],\"gridcolor\":\"#E1E5ED\",\"showgrid\":false,\"tickfont\":{\"color\":\"#4D5663\"},\"title\":{\"font\":{\"color\":\"#4D5663\"},\"text\":\"\"},\"zerolinecolor\":\"#E1E5ED\"},\"yaxis6\":{\"anchor\":\"x6\",\"domain\":[0.535,0.7325],\"gridcolor\":\"#E1E5ED\",\"showgrid\":false,\"tickfont\":{\"color\":\"#4D5663\"},\"title\":{\"font\":{\"color\":\"#4D5663\"},\"text\":\"\"},\"zerolinecolor\":\"#E1E5ED\"},\"xaxis7\":{\"anchor\":\"y7\",\"domain\":[0.525,0.7375],\"gridcolor\":\"#E1E5ED\",\"showgrid\":false,\"tickfont\":{\"color\":\"#4D5663\"},\"title\":{\"font\":{\"color\":\"#4D5663\"},\"text\":\"\"},\"zerolinecolor\":\"#E1E5ED\"},\"yaxis7\":{\"anchor\":\"x7\",\"domain\":[0.535,0.7325],\"gridcolor\":\"#E1E5ED\",\"showgrid\":false,\"tickfont\":{\"color\":\"#4D5663\"},\"title\":{\"font\":{\"color\":\"#4D5663\"},\"text\":\"\"},\"zerolinecolor\":\"#E1E5ED\"},\"xaxis8\":{\"anchor\":\"y8\",\"domain\":[0.7875,1.0],\"gridcolor\":\"#E1E5ED\",\"showgrid\":false,\"tickfont\":{\"color\":\"#4D5663\"},\"title\":{\"font\":{\"color\":\"#4D5663\"},\"text\":\"\"},\"zerolinecolor\":\"#E1E5ED\"},\"yaxis8\":{\"anchor\":\"x8\",\"domain\":[0.535,0.7325],\"gridcolor\":\"#E1E5ED\",\"showgrid\":false,\"tickfont\":{\"color\":\"#4D5663\"},\"title\":{\"font\":{\"color\":\"#4D5663\"},\"text\":\"\"},\"zerolinecolor\":\"#E1E5ED\"},\"xaxis9\":{\"anchor\":\"y9\",\"domain\":[0.0,0.2125],\"gridcolor\":\"#E1E5ED\",\"showgrid\":false,\"tickfont\":{\"color\":\"#4D5663\"},\"title\":{\"font\":{\"color\":\"#4D5663\"},\"text\":\"\"},\"zerolinecolor\":\"#E1E5ED\"},\"yaxis9\":{\"anchor\":\"x9\",\"domain\":[0.2675,0.465],\"gridcolor\":\"#E1E5ED\",\"showgrid\":false,\"tickfont\":{\"color\":\"#4D5663\"},\"title\":{\"font\":{\"color\":\"#4D5663\"},\"text\":\"\"},\"zerolinecolor\":\"#E1E5ED\"},\"xaxis10\":{\"anchor\":\"y10\",\"domain\":[0.2625,0.475],\"gridcolor\":\"#E1E5ED\",\"showgrid\":false,\"tickfont\":{\"color\":\"#4D5663\"},\"title\":{\"font\":{\"color\":\"#4D5663\"},\"text\":\"\"},\"zerolinecolor\":\"#E1E5ED\"},\"yaxis10\":{\"anchor\":\"x10\",\"domain\":[0.2675,0.465],\"gridcolor\":\"#E1E5ED\",\"showgrid\":false,\"tickfont\":{\"color\":\"#4D5663\"},\"title\":{\"font\":{\"color\":\"#4D5663\"},\"text\":\"\"},\"zerolinecolor\":\"#E1E5ED\"},\"xaxis11\":{\"anchor\":\"y11\",\"domain\":[0.525,0.7375],\"gridcolor\":\"#E1E5ED\",\"showgrid\":false,\"tickfont\":{\"color\":\"#4D5663\"},\"title\":{\"font\":{\"color\":\"#4D5663\"},\"text\":\"\"},\"zerolinecolor\":\"#E1E5ED\"},\"yaxis11\":{\"anchor\":\"x11\",\"domain\":[0.2675,0.465],\"gridcolor\":\"#E1E5ED\",\"showgrid\":false,\"tickfont\":{\"color\":\"#4D5663\"},\"title\":{\"font\":{\"color\":\"#4D5663\"},\"text\":\"\"},\"zerolinecolor\":\"#E1E5ED\"},\"xaxis12\":{\"anchor\":\"y12\",\"domain\":[0.7875,1.0],\"gridcolor\":\"#E1E5ED\",\"showgrid\":false,\"tickfont\":{\"color\":\"#4D5663\"},\"title\":{\"font\":{\"color\":\"#4D5663\"},\"text\":\"\"},\"zerolinecolor\":\"#E1E5ED\"},\"yaxis12\":{\"anchor\":\"x12\",\"domain\":[0.2675,0.465],\"gridcolor\":\"#E1E5ED\",\"showgrid\":false,\"tickfont\":{\"color\":\"#4D5663\"},\"title\":{\"font\":{\"color\":\"#4D5663\"},\"text\":\"\"},\"zerolinecolor\":\"#E1E5ED\"},\"xaxis13\":{\"anchor\":\"y13\",\"domain\":[0.0,0.2125],\"gridcolor\":\"#E1E5ED\",\"showgrid\":false,\"tickfont\":{\"color\":\"#4D5663\"},\"title\":{\"font\":{\"color\":\"#4D5663\"},\"text\":\"\"},\"zerolinecolor\":\"#E1E5ED\"},\"yaxis13\":{\"anchor\":\"x13\",\"domain\":[0.0,0.1975],\"gridcolor\":\"#E1E5ED\",\"showgrid\":false,\"tickfont\":{\"color\":\"#4D5663\"},\"title\":{\"font\":{\"color\":\"#4D5663\"},\"text\":\"\"},\"zerolinecolor\":\"#E1E5ED\"},\"xaxis14\":{\"anchor\":\"y14\",\"domain\":[0.2625,0.475],\"gridcolor\":\"#E1E5ED\",\"showgrid\":false,\"tickfont\":{\"color\":\"#4D5663\"},\"title\":{\"font\":{\"color\":\"#4D5663\"},\"text\":\"\"},\"zerolinecolor\":\"#E1E5ED\"},\"yaxis14\":{\"anchor\":\"x14\",\"domain\":[0.0,0.1975],\"gridcolor\":\"#E1E5ED\",\"showgrid\":false,\"tickfont\":{\"color\":\"#4D5663\"},\"title\":{\"font\":{\"color\":\"#4D5663\"},\"text\":\"\"},\"zerolinecolor\":\"#E1E5ED\"},\"xaxis15\":{\"anchor\":\"y15\",\"domain\":[0.525,0.7375],\"gridcolor\":\"#E1E5ED\",\"showgrid\":false,\"tickfont\":{\"color\":\"#4D5663\"},\"title\":{\"font\":{\"color\":\"#4D5663\"},\"text\":\"\"},\"zerolinecolor\":\"#E1E5ED\"},\"yaxis15\":{\"anchor\":\"x15\",\"domain\":[0.0,0.1975],\"gridcolor\":\"#E1E5ED\",\"showgrid\":false,\"tickfont\":{\"color\":\"#4D5663\"},\"title\":{\"font\":{\"color\":\"#4D5663\"},\"text\":\"\"},\"zerolinecolor\":\"#E1E5ED\"},\"xaxis16\":{\"anchor\":\"y16\",\"domain\":[0.7875,1.0],\"gridcolor\":\"#E1E5ED\",\"showgrid\":false,\"tickfont\":{\"color\":\"#4D5663\"},\"title\":{\"font\":{\"color\":\"#4D5663\"},\"text\":\"\"},\"zerolinecolor\":\"#E1E5ED\"},\"yaxis16\":{\"anchor\":\"x16\",\"domain\":[0.0,0.1975],\"gridcolor\":\"#E1E5ED\",\"showgrid\":false,\"tickfont\":{\"color\":\"#4D5663\"},\"title\":{\"font\":{\"color\":\"#4D5663\"},\"text\":\"\"},\"zerolinecolor\":\"#E1E5ED\"}},                        {\"showLink\": true, \"linkText\": \"Export to plotly.com\", \"plotlyServerURL\": \"https://plotly.com\", \"responsive\": true}                    ).then(function(){\n",
       "                            \n",
       "var gd = document.getElementById('7769c8fc-49fe-433c-b438-23dc56c9146b');\n",
       "var x = new MutationObserver(function (mutations, observer) {{\n",
       "        var display = window.getComputedStyle(gd).display;\n",
       "        if (!display || display === 'none') {{\n",
       "            console.log([gd, 'removed!']);\n",
       "            Plotly.purge(gd);\n",
       "            observer.disconnect();\n",
       "        }}\n",
       "}});\n",
       "\n",
       "// Listen for the removal of the full notebook cells\n",
       "var notebookContainer = gd.closest('#notebook-container');\n",
       "if (notebookContainer) {{\n",
       "    x.observe(notebookContainer, {childList: true});\n",
       "}}\n",
       "\n",
       "// Listen for the clearing of the current output cell\n",
       "var outputEl = gd.closest('.output');\n",
       "if (outputEl) {{\n",
       "    x.observe(outputEl, {childList: true});\n",
       "}}\n",
       "\n",
       "                        })                };                });            </script>        </div>"
      ]
     },
     "metadata": {},
     "output_type": "display_data"
    }
   ],
   "source": [
    "df.scatter_matrix()"
   ]
  },
  {
   "cell_type": "markdown",
   "metadata": {
    "collapsed": true
   },
   "source": [
    "# Great Job!"
   ]
  }
 ],
 "metadata": {
  "kernelspec": {
   "display_name": "Python 3 (ipykernel)",
   "language": "python",
   "name": "python3"
  },
  "language_info": {
   "codemirror_mode": {
    "name": "ipython",
    "version": 3
   },
   "file_extension": ".py",
   "mimetype": "text/x-python",
   "name": "python",
   "nbconvert_exporter": "python",
   "pygments_lexer": "ipython3",
   "version": "3.9.7"
  }
 },
 "nbformat": 4,
 "nbformat_minor": 1
}
